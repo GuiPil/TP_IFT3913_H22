{
 "cells": [
  {
   "cell_type": "code",
   "execution_count": 32,
   "id": "148b1709-c4eb-418a-b36d-c1514a37f259",
   "metadata": {},
   "outputs": [],
   "source": [
    "import pandas as pd\n",
    "import plotly.express as px"
   ]
  },
  {
   "cell_type": "code",
   "execution_count": 33,
   "id": "00dbdcd2-b20e-4ece-b911-a6ad5bcb5f8f",
   "metadata": {},
   "outputs": [],
   "source": [
    "df = pd.read_csv('../jfreechart-stats.csv', index_col='class')"
   ]
  },
  {
   "cell_type": "code",
   "execution_count": 34,
   "id": "1e3c0395-9b50-4d0b-975f-e75e91547213",
   "metadata": {},
   "outputs": [
    {
     "data": {
      "text/html": [
       "<div>\n",
       "<style scoped>\n",
       "    .dataframe tbody tr th:only-of-type {\n",
       "        vertical-align: middle;\n",
       "    }\n",
       "\n",
       "    .dataframe tbody tr th {\n",
       "        vertical-align: top;\n",
       "    }\n",
       "\n",
       "    .dataframe thead th {\n",
       "        text-align: right;\n",
       "    }\n",
       "</style>\n",
       "<table border=\"1\" class=\"dataframe\">\n",
       "  <thead>\n",
       "    <tr style=\"text-align: right;\">\n",
       "      <th></th>\n",
       "      <th>NCLOC</th>\n",
       "      <th>DCP</th>\n",
       "      <th>NOCom</th>\n",
       "      <th>WMC</th>\n",
       "    </tr>\n",
       "    <tr>\n",
       "      <th>class</th>\n",
       "      <th></th>\n",
       "      <th></th>\n",
       "      <th></th>\n",
       "      <th></th>\n",
       "    </tr>\n",
       "  </thead>\n",
       "  <tbody>\n",
       "    <tr>\n",
       "      <th>./src/main/java/org/jfree/chart/annotations/AbstractAnnotation.java</th>\n",
       "      <td>68</td>\n",
       "      <td>65.66</td>\n",
       "      <td>4</td>\n",
       "      <td>36</td>\n",
       "    </tr>\n",
       "    <tr>\n",
       "      <th>./src/main/java/org/jfree/chart/annotations/AbstractXYAnnotation.java</th>\n",
       "      <td>77</td>\n",
       "      <td>58.60</td>\n",
       "      <td>6</td>\n",
       "      <td>25</td>\n",
       "    </tr>\n",
       "    <tr>\n",
       "      <th>./src/main/java/org/jfree/chart/annotations/Annotation.java</th>\n",
       "      <td>7</td>\n",
       "      <td>87.72</td>\n",
       "      <td>5</td>\n",
       "      <td>12</td>\n",
       "    </tr>\n",
       "    <tr>\n",
       "      <th>./src/main/java/org/jfree/chart/annotations/CategoryAnnotation.java</th>\n",
       "      <td>10</td>\n",
       "      <td>83.33</td>\n",
       "      <td>4</td>\n",
       "      <td>7</td>\n",
       "    </tr>\n",
       "    <tr>\n",
       "      <th>./src/main/java/org/jfree/chart/annotations/CategoryLineAnnotation.java</th>\n",
       "      <td>198</td>\n",
       "      <td>49.23</td>\n",
       "      <td>12</td>\n",
       "      <td>38</td>\n",
       "    </tr>\n",
       "  </tbody>\n",
       "</table>\n",
       "</div>"
      ],
      "text/plain": [
       "                                                     NCLOC    DCP   NOCom  WMC\n",
       "class                                                                         \n",
       "./src/main/java/org/jfree/chart/annotations/Abs...      68  65.66       4   36\n",
       "./src/main/java/org/jfree/chart/annotations/Abs...      77  58.60       6   25\n",
       "./src/main/java/org/jfree/chart/annotations/Ann...       7  87.72       5   12\n",
       "./src/main/java/org/jfree/chart/annotations/Cat...      10  83.33       4    7\n",
       "./src/main/java/org/jfree/chart/annotations/Cat...     198  49.23      12   38"
      ]
     },
     "execution_count": 34,
     "metadata": {},
     "output_type": "execute_result"
    }
   ],
   "source": [
    "df.head()"
   ]
  },
  {
   "cell_type": "code",
   "execution_count": 35,
   "id": "3cb138ce-eb3e-44d4-b679-12fc7d55be1c",
   "metadata": {},
   "outputs": [
    {
     "data": {
      "text/plain": [
       "Index([' NCLOC', ' DCP', ' NOCom', 'WMC'], dtype='object')"
      ]
     },
     "execution_count": 35,
     "metadata": {},
     "output_type": "execute_result"
    }
   ],
   "source": [
    "df.columns"
   ]
  },
  {
   "cell_type": "code",
   "execution_count": 36,
   "id": "d6b26feb-fff0-423f-9e2b-f688a89d2353",
   "metadata": {},
   "outputs": [],
   "source": [
    "for c in df.columns:\n",
    "    df.rename(columns={c:c.strip()}, inplace=True)"
   ]
  },
  {
   "cell_type": "code",
   "execution_count": 37,
   "id": "132e7e7d-e680-4533-88fa-fbb33a6b2823",
   "metadata": {},
   "outputs": [
    {
     "data": {
      "text/plain": [
       "Index(['NCLOC', 'DCP', 'NOCom', 'WMC'], dtype='object')"
      ]
     },
     "execution_count": 37,
     "metadata": {},
     "output_type": "execute_result"
    }
   ],
   "source": [
    "df.columns"
   ]
  },
  {
   "cell_type": "code",
   "execution_count": null,
   "id": "80c9fb95-e7ab-45fb-82ec-92d23df0a338",
   "metadata": {},
   "outputs": [],
   "source": []
  },
  {
   "cell_type": "markdown",
   "id": "6d94726b-08dc-41cc-b5f9-70cc2f4757ac",
   "metadata": {},
   "source": [
    "### NCLOC"
   ]
  },
  {
   "cell_type": "code",
   "execution_count": 60,
   "id": "b1188d0e-03aa-4c03-9a4c-766dea75fbd8",
   "metadata": {},
   "outputs": [
    {
     "name": "stdout",
     "output_type": "stream",
     "text": [
      "count     632.000000\n",
      "mean      145.039557\n",
      "std       240.289089\n",
      "min         4.000000\n",
      "25%        12.000000\n",
      "50%        71.500000\n",
      "75%       180.000000\n",
      "max      2732.000000\n",
      "Name: NCLOC, dtype: float64\n"
     ]
    }
   ],
   "source": [
    "describe_NCLOC = df.reset_index()['NCLOC'].describe()\n",
    "print(describe_NCLOC)"
   ]
  },
  {
   "cell_type": "code",
   "execution_count": 57,
   "id": "efadc2ba-954b-420f-8e72-9e6e9064533a",
   "metadata": {},
   "outputs": [
    {
     "name": "stdout",
     "output_type": "stream",
     "text": [
      "Les valeurs de la boîte à moustache sont situés entre -240.0 et 432.0, avec 50% des données se trouvant entre 12.0 et 180.0\n"
     ]
    }
   ],
   "source": [
    "l, m, u = describe_NCLOC.iloc[4], describe_NCLOC.iloc[5], describe_NCLOC.iloc[6]\n",
    "IQR_NCLOC = u - l\n",
    "U, L = u + (1.5 * IQR_NCLOC), l - (1.5 * IQR_NCLOC)\n",
    "print(f\"Les valeurs de la boîte à moustache sont situés entre {L} et {U}, avec 50% des données se trouvant entre {l} et {u}\")"
   ]
  },
  {
   "cell_type": "code",
   "execution_count": 58,
   "id": "dba98dd5-be8f-4b84-8335-e466110bff86",
   "metadata": {},
   "outputs": [
    {
     "data": {
      "application/vnd.plotly.v1+json": {
       "config": {
        "plotlyServerURL": "https://plot.ly"
       },
       "data": [
        {
         "alignmentgroup": "True",
         "boxpoints": "all",
         "customdata": [
          [
           "./src/main/java/org/jfree/chart/annotations/AbstractAnnotation.java"
          ],
          [
           "./src/main/java/org/jfree/chart/annotations/AbstractXYAnnotation.java"
          ],
          [
           "./src/main/java/org/jfree/chart/annotations/Annotation.java"
          ],
          [
           "./src/main/java/org/jfree/chart/annotations/CategoryAnnotation.java"
          ],
          [
           "./src/main/java/org/jfree/chart/annotations/CategoryLineAnnotation.java"
          ],
          [
           "./src/main/java/org/jfree/chart/annotations/CategoryPointerAnnotation.java"
          ],
          [
           "./src/main/java/org/jfree/chart/annotations/CategoryTextAnnotation.java"
          ],
          [
           "./src/main/java/org/jfree/chart/annotations/TextAnnotation.java"
          ],
          [
           "./src/main/java/org/jfree/chart/annotations/XYAnnotation.java"
          ],
          [
           "./src/main/java/org/jfree/chart/annotations/XYAnnotationBoundsInfo.java"
          ],
          [
           "./src/main/java/org/jfree/chart/annotations/XYBoxAnnotation.java"
          ],
          [
           "./src/main/java/org/jfree/chart/annotations/XYDataImageAnnotation.java"
          ],
          [
           "./src/main/java/org/jfree/chart/annotations/XYDrawableAnnotation.java"
          ],
          [
           "./src/main/java/org/jfree/chart/annotations/XYImageAnnotation.java"
          ],
          [
           "./src/main/java/org/jfree/chart/annotations/XYLineAnnotation.java"
          ],
          [
           "./src/main/java/org/jfree/chart/annotations/XYPointerAnnotation.java"
          ],
          [
           "./src/main/java/org/jfree/chart/annotations/XYPolygonAnnotation.java"
          ],
          [
           "./src/main/java/org/jfree/chart/annotations/XYShapeAnnotation.java"
          ],
          [
           "./src/main/java/org/jfree/chart/annotations/XYTextAnnotation.java"
          ],
          [
           "./src/main/java/org/jfree/chart/annotations/XYTitleAnnotation.java"
          ],
          [
           "./src/main/java/org/jfree/chart/api/HorizontalAlignment.java"
          ],
          [
           "./src/main/java/org/jfree/chart/api/Layer.java"
          ],
          [
           "./src/main/java/org/jfree/chart/api/LengthAdjustmentType.java"
          ],
          [
           "./src/main/java/org/jfree/chart/api/PublicCloneable.java"
          ],
          [
           "./src/main/java/org/jfree/chart/api/RectangleAlignment.java"
          ],
          [
           "./src/main/java/org/jfree/chart/api/RectangleAnchor.java"
          ],
          [
           "./src/main/java/org/jfree/chart/api/RectangleEdge.java"
          ],
          [
           "./src/main/java/org/jfree/chart/api/RectangleInsets.java"
          ],
          [
           "./src/main/java/org/jfree/chart/api/Rotation.java"
          ],
          [
           "./src/main/java/org/jfree/chart/api/SortOrder.java"
          ],
          [
           "./src/main/java/org/jfree/chart/api/TableOrder.java"
          ],
          [
           "./src/main/java/org/jfree/chart/api/UnitType.java"
          ],
          [
           "./src/main/java/org/jfree/chart/api/VerticalAlignment.java"
          ],
          [
           "./src/main/java/org/jfree/chart/api/XYCoordinateType.java"
          ],
          [
           "./src/main/java/org/jfree/chart/axis/Axis.java"
          ],
          [
           "./src/main/java/org/jfree/chart/axis/AxisCollection.java"
          ],
          [
           "./src/main/java/org/jfree/chart/axis/AxisLabelLocation.java"
          ],
          [
           "./src/main/java/org/jfree/chart/axis/AxisLocation.java"
          ],
          [
           "./src/main/java/org/jfree/chart/axis/AxisSpace.java"
          ],
          [
           "./src/main/java/org/jfree/chart/axis/AxisState.java"
          ],
          [
           "./src/main/java/org/jfree/chart/axis/CategoryAnchor.java"
          ],
          [
           "./src/main/java/org/jfree/chart/axis/CategoryAxis.java"
          ],
          [
           "./src/main/java/org/jfree/chart/axis/CategoryLabelPosition.java"
          ],
          [
           "./src/main/java/org/jfree/chart/axis/CategoryLabelPositions.java"
          ],
          [
           "./src/main/java/org/jfree/chart/axis/CategoryLabelWidthType.java"
          ],
          [
           "./src/main/java/org/jfree/chart/axis/CategoryTick.java"
          ],
          [
           "./src/main/java/org/jfree/chart/axis/CompassFormat.java"
          ],
          [
           "./src/main/java/org/jfree/chart/axis/CyclicNumberAxis.java"
          ],
          [
           "./src/main/java/org/jfree/chart/axis/DateAxis.java"
          ],
          [
           "./src/main/java/org/jfree/chart/axis/DateTick.java"
          ],
          [
           "./src/main/java/org/jfree/chart/axis/DateTickMarkPosition.java"
          ],
          [
           "./src/main/java/org/jfree/chart/axis/DateTickUnit.java"
          ],
          [
           "./src/main/java/org/jfree/chart/axis/DateTickUnitType.java"
          ],
          [
           "./src/main/java/org/jfree/chart/axis/ExtendedCategoryAxis.java"
          ],
          [
           "./src/main/java/org/jfree/chart/axis/LogarithmicAxis.java"
          ],
          [
           "./src/main/java/org/jfree/chart/axis/LogAxis.java"
          ],
          [
           "./src/main/java/org/jfree/chart/axis/LogTick.java"
          ],
          [
           "./src/main/java/org/jfree/chart/axis/MarkerAxisBand.java"
          ],
          [
           "./src/main/java/org/jfree/chart/axis/ModuloAxis.java"
          ],
          [
           "./src/main/java/org/jfree/chart/axis/MonthDateFormat.java"
          ],
          [
           "./src/main/java/org/jfree/chart/axis/NumberAxis.java"
          ],
          [
           "./src/main/java/org/jfree/chart/axis/NumberTick.java"
          ],
          [
           "./src/main/java/org/jfree/chart/axis/NumberTickUnit.java"
          ],
          [
           "./src/main/java/org/jfree/chart/axis/NumberTickUnitSource.java"
          ],
          [
           "./src/main/java/org/jfree/chart/axis/PeriodAxis.java"
          ],
          [
           "./src/main/java/org/jfree/chart/axis/PeriodAxisLabelInfo.java"
          ],
          [
           "./src/main/java/org/jfree/chart/axis/QuarterDateFormat.java"
          ],
          [
           "./src/main/java/org/jfree/chart/axis/StandardTickUnitSource.java"
          ],
          [
           "./src/main/java/org/jfree/chart/axis/SubCategoryAxis.java"
          ],
          [
           "./src/main/java/org/jfree/chart/axis/SymbolAxis.java"
          ],
          [
           "./src/main/java/org/jfree/chart/axis/Tick.java"
          ],
          [
           "./src/main/java/org/jfree/chart/axis/TickType.java"
          ],
          [
           "./src/main/java/org/jfree/chart/axis/TickUnit.java"
          ],
          [
           "./src/main/java/org/jfree/chart/axis/TickUnits.java"
          ],
          [
           "./src/main/java/org/jfree/chart/axis/TickUnitSource.java"
          ],
          [
           "./src/main/java/org/jfree/chart/axis/Timeline.java"
          ],
          [
           "./src/main/java/org/jfree/chart/axis/ValueAxis.java"
          ],
          [
           "./src/main/java/org/jfree/chart/axis/ValueTick.java"
          ],
          [
           "./src/main/java/org/jfree/chart/block/AbstractBlock.java"
          ],
          [
           "./src/main/java/org/jfree/chart/block/Arrangement.java"
          ],
          [
           "./src/main/java/org/jfree/chart/block/Block.java"
          ],
          [
           "./src/main/java/org/jfree/chart/block/BlockBorder.java"
          ],
          [
           "./src/main/java/org/jfree/chart/block/BlockContainer.java"
          ],
          [
           "./src/main/java/org/jfree/chart/block/BlockFrame.java"
          ],
          [
           "./src/main/java/org/jfree/chart/block/BlockParams.java"
          ],
          [
           "./src/main/java/org/jfree/chart/block/BlockResult.java"
          ],
          [
           "./src/main/java/org/jfree/chart/block/BorderArrangement.java"
          ],
          [
           "./src/main/java/org/jfree/chart/block/CenterArrangement.java"
          ],
          [
           "./src/main/java/org/jfree/chart/block/ColorBlock.java"
          ],
          [
           "./src/main/java/org/jfree/chart/block/ColumnArrangement.java"
          ],
          [
           "./src/main/java/org/jfree/chart/block/EmptyBlock.java"
          ],
          [
           "./src/main/java/org/jfree/chart/block/EntityBlockParams.java"
          ],
          [
           "./src/main/java/org/jfree/chart/block/EntityBlockResult.java"
          ],
          [
           "./src/main/java/org/jfree/chart/block/FlowArrangement.java"
          ],
          [
           "./src/main/java/org/jfree/chart/block/GridArrangement.java"
          ],
          [
           "./src/main/java/org/jfree/chart/block/LabelBlock.java"
          ],
          [
           "./src/main/java/org/jfree/chart/block/LengthConstraintType.java"
          ],
          [
           "./src/main/java/org/jfree/chart/block/LineBorder.java"
          ],
          [
           "./src/main/java/org/jfree/chart/block/RectangleConstraint.java"
          ],
          [
           "./src/main/java/org/jfree/chart/block/Size2D.java"
          ],
          [
           "./src/main/java/org/jfree/chart/ChartColor.java"
          ],
          [
           "./src/main/java/org/jfree/chart/ChartElement.java"
          ],
          [
           "./src/main/java/org/jfree/chart/ChartElementVisitor.java"
          ],
          [
           "./src/main/java/org/jfree/chart/ChartFactory.java"
          ],
          [
           "./src/main/java/org/jfree/chart/ChartHints.java"
          ],
          [
           "./src/main/java/org/jfree/chart/ChartRenderingInfo.java"
          ],
          [
           "./src/main/java/org/jfree/chart/ChartTheme.java"
          ],
          [
           "./src/main/java/org/jfree/chart/ChartTransferable.java"
          ],
          [
           "./src/main/java/org/jfree/chart/ChartUtils.java"
          ],
          [
           "./src/main/java/org/jfree/chart/date/MonthConstants.java"
          ],
          [
           "./src/main/java/org/jfree/chart/date/SerialDate.java"
          ],
          [
           "./src/main/java/org/jfree/chart/date/SpreadsheetDate.java"
          ],
          [
           "./src/main/java/org/jfree/chart/Drawable.java"
          ],
          [
           "./src/main/java/org/jfree/chart/encoders/EncoderUtil.java"
          ],
          [
           "./src/main/java/org/jfree/chart/encoders/ImageEncoder.java"
          ],
          [
           "./src/main/java/org/jfree/chart/encoders/ImageEncoderFactory.java"
          ],
          [
           "./src/main/java/org/jfree/chart/encoders/ImageFormat.java"
          ],
          [
           "./src/main/java/org/jfree/chart/encoders/SunJPEGEncoderAdapter.java"
          ],
          [
           "./src/main/java/org/jfree/chart/encoders/SunPNGEncoderAdapter.java"
          ],
          [
           "./src/main/java/org/jfree/chart/entity/AxisEntity.java"
          ],
          [
           "./src/main/java/org/jfree/chart/entity/CategoryItemEntity.java"
          ],
          [
           "./src/main/java/org/jfree/chart/entity/CategoryLabelEntity.java"
          ],
          [
           "./src/main/java/org/jfree/chart/entity/ChartEntity.java"
          ],
          [
           "./src/main/java/org/jfree/chart/entity/EntityCollection.java"
          ],
          [
           "./src/main/java/org/jfree/chart/entity/FlowEntity.java"
          ],
          [
           "./src/main/java/org/jfree/chart/entity/JFreeChartEntity.java"
          ],
          [
           "./src/main/java/org/jfree/chart/entity/LegendItemEntity.java"
          ],
          [
           "./src/main/java/org/jfree/chart/entity/NodeEntity.java"
          ],
          [
           "./src/main/java/org/jfree/chart/entity/PieSectionEntity.java"
          ],
          [
           "./src/main/java/org/jfree/chart/entity/PlotEntity.java"
          ],
          [
           "./src/main/java/org/jfree/chart/entity/StandardEntityCollection.java"
          ],
          [
           "./src/main/java/org/jfree/chart/entity/TickLabelEntity.java"
          ],
          [
           "./src/main/java/org/jfree/chart/entity/TitleEntity.java"
          ],
          [
           "./src/main/java/org/jfree/chart/entity/XYAnnotationEntity.java"
          ],
          [
           "./src/main/java/org/jfree/chart/entity/XYItemEntity.java"
          ],
          [
           "./src/main/java/org/jfree/chart/event/AnnotationChangeEvent.java"
          ],
          [
           "./src/main/java/org/jfree/chart/event/AnnotationChangeListener.java"
          ],
          [
           "./src/main/java/org/jfree/chart/event/AxisChangeEvent.java"
          ],
          [
           "./src/main/java/org/jfree/chart/event/AxisChangeListener.java"
          ],
          [
           "./src/main/java/org/jfree/chart/event/ChartChangeEvent.java"
          ],
          [
           "./src/main/java/org/jfree/chart/event/ChartChangeEventType.java"
          ],
          [
           "./src/main/java/org/jfree/chart/event/ChartChangeListener.java"
          ],
          [
           "./src/main/java/org/jfree/chart/event/ChartProgressEvent.java"
          ],
          [
           "./src/main/java/org/jfree/chart/event/ChartProgressEventType.java"
          ],
          [
           "./src/main/java/org/jfree/chart/event/ChartProgressListener.java"
          ],
          [
           "./src/main/java/org/jfree/chart/event/MarkerChangeEvent.java"
          ],
          [
           "./src/main/java/org/jfree/chart/event/MarkerChangeListener.java"
          ],
          [
           "./src/main/java/org/jfree/chart/event/PlotChangeEvent.java"
          ],
          [
           "./src/main/java/org/jfree/chart/event/PlotChangeListener.java"
          ],
          [
           "./src/main/java/org/jfree/chart/event/RendererChangeEvent.java"
          ],
          [
           "./src/main/java/org/jfree/chart/event/RendererChangeListener.java"
          ],
          [
           "./src/main/java/org/jfree/chart/event/TitleChangeEvent.java"
          ],
          [
           "./src/main/java/org/jfree/chart/event/TitleChangeListener.java"
          ],
          [
           "./src/main/java/org/jfree/chart/imagemap/DynamicDriveToolTipTagFragmentGenerator.java"
          ],
          [
           "./src/main/java/org/jfree/chart/imagemap/ImageMapUtils.java"
          ],
          [
           "./src/main/java/org/jfree/chart/imagemap/OverLIBToolTipTagFragmentGenerator.java"
          ],
          [
           "./src/main/java/org/jfree/chart/imagemap/StandardToolTipTagFragmentGenerator.java"
          ],
          [
           "./src/main/java/org/jfree/chart/imagemap/StandardURLTagFragmentGenerator.java"
          ],
          [
           "./src/main/java/org/jfree/chart/imagemap/ToolTipTagFragmentGenerator.java"
          ],
          [
           "./src/main/java/org/jfree/chart/imagemap/URLTagFragmentGenerator.java"
          ],
          [
           "./src/main/java/org/jfree/chart/internal/Args.java"
          ],
          [
           "./src/main/java/org/jfree/chart/internal/ArrayUtils.java"
          ],
          [
           "./src/main/java/org/jfree/chart/internal/CloneUtils.java"
          ],
          [
           "./src/main/java/org/jfree/chart/internal/HashUtils.java"
          ],
          [
           "./src/main/java/org/jfree/chart/internal/LineUtils.java"
          ],
          [
           "./src/main/java/org/jfree/chart/internal/PaintUtils.java"
          ],
          [
           "./src/main/java/org/jfree/chart/internal/SerialUtils.java"
          ],
          [
           "./src/main/java/org/jfree/chart/internal/ShapeUtils.java"
          ],
          [
           "./src/main/java/org/jfree/chart/JFreeChart.java"
          ],
          [
           "./src/main/java/org/jfree/chart/labels/AbstractCategoryItemLabelGenerator.java"
          ],
          [
           "./src/main/java/org/jfree/chart/labels/AbstractPieItemLabelGenerator.java"
          ],
          [
           "./src/main/java/org/jfree/chart/labels/AbstractXYItemLabelGenerator.java"
          ],
          [
           "./src/main/java/org/jfree/chart/labels/BoxAndWhiskerToolTipGenerator.java"
          ],
          [
           "./src/main/java/org/jfree/chart/labels/BoxAndWhiskerXYToolTipGenerator.java"
          ],
          [
           "./src/main/java/org/jfree/chart/labels/BubbleXYItemLabelGenerator.java"
          ],
          [
           "./src/main/java/org/jfree/chart/labels/CategoryItemLabelGenerator.java"
          ],
          [
           "./src/main/java/org/jfree/chart/labels/CategorySeriesLabelGenerator.java"
          ],
          [
           "./src/main/java/org/jfree/chart/labels/CategoryToolTipGenerator.java"
          ],
          [
           "./src/main/java/org/jfree/chart/labels/CrosshairLabelGenerator.java"
          ],
          [
           "./src/main/java/org/jfree/chart/labels/CustomXYToolTipGenerator.java"
          ],
          [
           "./src/main/java/org/jfree/chart/labels/FlowLabelGenerator.java"
          ],
          [
           "./src/main/java/org/jfree/chart/labels/HighLowItemLabelGenerator.java"
          ],
          [
           "./src/main/java/org/jfree/chart/labels/IntervalCategoryItemLabelGenerator.java"
          ],
          [
           "./src/main/java/org/jfree/chart/labels/IntervalCategoryToolTipGenerator.java"
          ],
          [
           "./src/main/java/org/jfree/chart/labels/IntervalXYItemLabelGenerator.java"
          ],
          [
           "./src/main/java/org/jfree/chart/labels/IntervalXYToolTipGenerator.java"
          ],
          [
           "./src/main/java/org/jfree/chart/labels/ItemLabelAnchor.java"
          ],
          [
           "./src/main/java/org/jfree/chart/labels/ItemLabelPosition.java"
          ],
          [
           "./src/main/java/org/jfree/chart/labels/MultipleXYSeriesLabelGenerator.java"
          ],
          [
           "./src/main/java/org/jfree/chart/labels/PieSectionLabelGenerator.java"
          ],
          [
           "./src/main/java/org/jfree/chart/labels/PieToolTipGenerator.java"
          ],
          [
           "./src/main/java/org/jfree/chart/labels/StandardCategoryItemLabelGenerator.java"
          ],
          [
           "./src/main/java/org/jfree/chart/labels/StandardCategorySeriesLabelGenerator.java"
          ],
          [
           "./src/main/java/org/jfree/chart/labels/StandardCategoryToolTipGenerator.java"
          ],
          [
           "./src/main/java/org/jfree/chart/labels/StandardCrosshairLabelGenerator.java"
          ],
          [
           "./src/main/java/org/jfree/chart/labels/StandardFlowLabelGenerator.java"
          ],
          [
           "./src/main/java/org/jfree/chart/labels/StandardPieSectionLabelGenerator.java"
          ],
          [
           "./src/main/java/org/jfree/chart/labels/StandardPieToolTipGenerator.java"
          ],
          [
           "./src/main/java/org/jfree/chart/labels/StandardXYItemLabelGenerator.java"
          ],
          [
           "./src/main/java/org/jfree/chart/labels/StandardXYSeriesLabelGenerator.java"
          ],
          [
           "./src/main/java/org/jfree/chart/labels/StandardXYToolTipGenerator.java"
          ],
          [
           "./src/main/java/org/jfree/chart/labels/StandardXYZToolTipGenerator.java"
          ],
          [
           "./src/main/java/org/jfree/chart/labels/SymbolicXYItemLabelGenerator.java"
          ],
          [
           "./src/main/java/org/jfree/chart/labels/XYItemLabelGenerator.java"
          ],
          [
           "./src/main/java/org/jfree/chart/labels/XYSeriesLabelGenerator.java"
          ],
          [
           "./src/main/java/org/jfree/chart/labels/XYToolTipGenerator.java"
          ],
          [
           "./src/main/java/org/jfree/chart/labels/XYZToolTipGenerator.java"
          ],
          [
           "./src/main/java/org/jfree/chart/legend/LegendGraphic.java"
          ],
          [
           "./src/main/java/org/jfree/chart/legend/LegendItem.java"
          ],
          [
           "./src/main/java/org/jfree/chart/legend/LegendItemBlockContainer.java"
          ],
          [
           "./src/main/java/org/jfree/chart/legend/LegendItemCollection.java"
          ],
          [
           "./src/main/java/org/jfree/chart/legend/LegendItemSource.java"
          ],
          [
           "./src/main/java/org/jfree/chart/legend/LegendRenderingOrder.java"
          ],
          [
           "./src/main/java/org/jfree/chart/legend/LegendTitle.java"
          ],
          [
           "./src/main/java/org/jfree/chart/legend/PaintScaleLegend.java"
          ],
          [
           "./src/main/java/org/jfree/chart/plot/CategoryCrosshairState.java"
          ],
          [
           "./src/main/java/org/jfree/chart/plot/CategoryMarker.java"
          ],
          [
           "./src/main/java/org/jfree/chart/plot/CategoryPlot.java"
          ],
          [
           "./src/main/java/org/jfree/chart/plot/CenterTextMode.java"
          ],
          [
           "./src/main/java/org/jfree/chart/plot/CombinedDomainCategoryPlot.java"
          ],
          [
           "./src/main/java/org/jfree/chart/plot/CombinedDomainXYPlot.java"
          ],
          [
           "./src/main/java/org/jfree/chart/plot/CombinedRangeCategoryPlot.java"
          ],
          [
           "./src/main/java/org/jfree/chart/plot/CombinedRangeXYPlot.java"
          ],
          [
           "./src/main/java/org/jfree/chart/plot/compass/ArrowNeedle.java"
          ],
          [
           "./src/main/java/org/jfree/chart/plot/compass/CompassPlot.java"
          ],
          [
           "./src/main/java/org/jfree/chart/plot/compass/LineNeedle.java"
          ],
          [
           "./src/main/java/org/jfree/chart/plot/compass/LongNeedle.java"
          ],
          [
           "./src/main/java/org/jfree/chart/plot/compass/MeterNeedle.java"
          ],
          [
           "./src/main/java/org/jfree/chart/plot/compass/MiddlePinNeedle.java"
          ],
          [
           "./src/main/java/org/jfree/chart/plot/compass/PinNeedle.java"
          ],
          [
           "./src/main/java/org/jfree/chart/plot/compass/PlumNeedle.java"
          ],
          [
           "./src/main/java/org/jfree/chart/plot/compass/PointerNeedle.java"
          ],
          [
           "./src/main/java/org/jfree/chart/plot/compass/ShipNeedle.java"
          ],
          [
           "./src/main/java/org/jfree/chart/plot/compass/WindNeedle.java"
          ],
          [
           "./src/main/java/org/jfree/chart/plot/Crosshair.java"
          ],
          [
           "./src/main/java/org/jfree/chart/plot/CrosshairState.java"
          ],
          [
           "./src/main/java/org/jfree/chart/plot/DatasetRenderingOrder.java"
          ],
          [
           "./src/main/java/org/jfree/chart/plot/DefaultDrawingSupplier.java"
          ],
          [
           "./src/main/java/org/jfree/chart/plot/dial/AbstractDialLayer.java"
          ],
          [
           "./src/main/java/org/jfree/chart/plot/dial/ArcDialFrame.java"
          ],
          [
           "./src/main/java/org/jfree/chart/plot/dial/DialBackground.java"
          ],
          [
           "./src/main/java/org/jfree/chart/plot/dial/DialCap.java"
          ],
          [
           "./src/main/java/org/jfree/chart/plot/dial/DialFrame.java"
          ],
          [
           "./src/main/java/org/jfree/chart/plot/dial/DialLayer.java"
          ],
          [
           "./src/main/java/org/jfree/chart/plot/dial/DialLayerChangeEvent.java"
          ],
          [
           "./src/main/java/org/jfree/chart/plot/dial/DialLayerChangeListener.java"
          ],
          [
           "./src/main/java/org/jfree/chart/plot/dial/DialPlot.java"
          ],
          [
           "./src/main/java/org/jfree/chart/plot/dial/DialPointer.java"
          ],
          [
           "./src/main/java/org/jfree/chart/plot/dial/DialScale.java"
          ],
          [
           "./src/main/java/org/jfree/chart/plot/dial/DialTextAnnotation.java"
          ],
          [
           "./src/main/java/org/jfree/chart/plot/dial/DialValueIndicator.java"
          ],
          [
           "./src/main/java/org/jfree/chart/plot/dial/StandardDialFrame.java"
          ],
          [
           "./src/main/java/org/jfree/chart/plot/dial/StandardDialRange.java"
          ],
          [
           "./src/main/java/org/jfree/chart/plot/dial/StandardDialScale.java"
          ],
          [
           "./src/main/java/org/jfree/chart/plot/DialShape.java"
          ],
          [
           "./src/main/java/org/jfree/chart/plot/DrawingSupplier.java"
          ],
          [
           "./src/main/java/org/jfree/chart/plot/FastScatterPlot.java"
          ],
          [
           "./src/main/java/org/jfree/chart/plot/flow/FlowPlot.java"
          ],
          [
           "./src/main/java/org/jfree/chart/plot/IntervalMarker.java"
          ],
          [
           "./src/main/java/org/jfree/chart/plot/Marker.java"
          ],
          [
           "./src/main/java/org/jfree/chart/plot/MeterInterval.java"
          ],
          [
           "./src/main/java/org/jfree/chart/plot/MeterPlot.java"
          ],
          [
           "./src/main/java/org/jfree/chart/plot/Pannable.java"
          ],
          [
           "./src/main/java/org/jfree/chart/plot/pie/AbstractPieLabelDistributor.java"
          ],
          [
           "./src/main/java/org/jfree/chart/plot/pie/MultiplePiePlot.java"
          ],
          [
           "./src/main/java/org/jfree/chart/plot/pie/PieLabelDistributor.java"
          ],
          [
           "./src/main/java/org/jfree/chart/plot/pie/PieLabelLinkStyle.java"
          ],
          [
           "./src/main/java/org/jfree/chart/plot/pie/PieLabelRecord.java"
          ],
          [
           "./src/main/java/org/jfree/chart/plot/pie/PiePlot.java"
          ],
          [
           "./src/main/java/org/jfree/chart/plot/pie/PiePlotState.java"
          ],
          [
           "./src/main/java/org/jfree/chart/plot/Plot.java"
          ],
          [
           "./src/main/java/org/jfree/chart/plot/PlotOrientation.java"
          ],
          [
           "./src/main/java/org/jfree/chart/plot/PlotRenderingInfo.java"
          ],
          [
           "./src/main/java/org/jfree/chart/plot/PlotState.java"
          ],
          [
           "./src/main/java/org/jfree/chart/plot/PolarAxisLocation.java"
          ],
          [
           "./src/main/java/org/jfree/chart/plot/PolarPlot.java"
          ],
          [
           "./src/main/java/org/jfree/chart/plot/RingPlot.java"
          ],
          [
           "./src/main/java/org/jfree/chart/plot/SeriesRenderingOrder.java"
          ],
          [
           "./src/main/java/org/jfree/chart/plot/SpiderWebPlot.java"
          ],
          [
           "./src/main/java/org/jfree/chart/plot/ThermometerPlot.java"
          ],
          [
           "./src/main/java/org/jfree/chart/plot/ValueAxisPlot.java"
          ],
          [
           "./src/main/java/org/jfree/chart/plot/ValueMarker.java"
          ],
          [
           "./src/main/java/org/jfree/chart/plot/WaferMapPlot.java"
          ],
          [
           "./src/main/java/org/jfree/chart/plot/XYCrosshairState.java"
          ],
          [
           "./src/main/java/org/jfree/chart/plot/XYPlot.java"
          ],
          [
           "./src/main/java/org/jfree/chart/plot/Zoomable.java"
          ],
          [
           "./src/main/java/org/jfree/chart/renderer/AbstractRenderer.java"
          ],
          [
           "./src/main/java/org/jfree/chart/renderer/AreaRendererEndType.java"
          ],
          [
           "./src/main/java/org/jfree/chart/renderer/category/AbstractCategoryItemRenderer.java"
          ],
          [
           "./src/main/java/org/jfree/chart/renderer/category/AreaRenderer.java"
          ],
          [
           "./src/main/java/org/jfree/chart/renderer/category/BarPainter.java"
          ],
          [
           "./src/main/java/org/jfree/chart/renderer/category/BarRenderer.java"
          ],
          [
           "./src/main/java/org/jfree/chart/renderer/category/BoxAndWhiskerRenderer.java"
          ],
          [
           "./src/main/java/org/jfree/chart/renderer/category/CategoryItemRenderer.java"
          ],
          [
           "./src/main/java/org/jfree/chart/renderer/category/CategoryItemRendererState.java"
          ],
          [
           "./src/main/java/org/jfree/chart/renderer/category/CategoryStepRenderer.java"
          ],
          [
           "./src/main/java/org/jfree/chart/renderer/category/DefaultCategoryItemRenderer.java"
          ],
          [
           "./src/main/java/org/jfree/chart/renderer/category/GanttRenderer.java"
          ],
          [
           "./src/main/java/org/jfree/chart/renderer/category/GradientBarPainter.java"
          ],
          [
           "./src/main/java/org/jfree/chart/renderer/category/GroupedStackedBarRenderer.java"
          ],
          [
           "./src/main/java/org/jfree/chart/renderer/category/IntervalBarRenderer.java"
          ],
          [
           "./src/main/java/org/jfree/chart/renderer/category/LayeredBarRenderer.java"
          ],
          [
           "./src/main/java/org/jfree/chart/renderer/category/LevelRenderer.java"
          ],
          [
           "./src/main/java/org/jfree/chart/renderer/category/LineAndShapeRenderer.java"
          ],
          [
           "./src/main/java/org/jfree/chart/renderer/category/MinMaxCategoryRenderer.java"
          ],
          [
           "./src/main/java/org/jfree/chart/renderer/category/ScatterRenderer.java"
          ],
          [
           "./src/main/java/org/jfree/chart/renderer/category/StackedAreaRenderer.java"
          ],
          [
           "./src/main/java/org/jfree/chart/renderer/category/StackedBarRenderer.java"
          ],
          [
           "./src/main/java/org/jfree/chart/renderer/category/StandardBarPainter.java"
          ],
          [
           "./src/main/java/org/jfree/chart/renderer/category/StatisticalBarRenderer.java"
          ],
          [
           "./src/main/java/org/jfree/chart/renderer/category/StatisticalLineAndShapeRenderer.java"
          ],
          [
           "./src/main/java/org/jfree/chart/renderer/category/WaterfallBarRenderer.java"
          ],
          [
           "./src/main/java/org/jfree/chart/renderer/DefaultPolarItemRenderer.java"
          ],
          [
           "./src/main/java/org/jfree/chart/renderer/GrayPaintScale.java"
          ],
          [
           "./src/main/java/org/jfree/chart/renderer/LookupPaintScale.java"
          ],
          [
           "./src/main/java/org/jfree/chart/renderer/NotOutlierException.java"
          ],
          [
           "./src/main/java/org/jfree/chart/renderer/Outlier.java"
          ],
          [
           "./src/main/java/org/jfree/chart/renderer/OutlierList.java"
          ],
          [
           "./src/main/java/org/jfree/chart/renderer/OutlierListCollection.java"
          ],
          [
           "./src/main/java/org/jfree/chart/renderer/PaintScale.java"
          ],
          [
           "./src/main/java/org/jfree/chart/renderer/PolarItemRenderer.java"
          ],
          [
           "./src/main/java/org/jfree/chart/renderer/RendererState.java"
          ],
          [
           "./src/main/java/org/jfree/chart/renderer/RendererUtils.java"
          ],
          [
           "./src/main/java/org/jfree/chart/renderer/WaferMapRenderer.java"
          ],
          [
           "./src/main/java/org/jfree/chart/renderer/xy/AbstractXYItemRenderer.java"
          ],
          [
           "./src/main/java/org/jfree/chart/renderer/xy/CandlestickRenderer.java"
          ],
          [
           "./src/main/java/org/jfree/chart/renderer/xy/ClusteredXYBarRenderer.java"
          ],
          [
           "./src/main/java/org/jfree/chart/renderer/xy/CyclicXYItemRenderer.java"
          ],
          [
           "./src/main/java/org/jfree/chart/renderer/xy/DefaultXYItemRenderer.java"
          ],
          [
           "./src/main/java/org/jfree/chart/renderer/xy/DeviationRenderer.java"
          ],
          [
           "./src/main/java/org/jfree/chart/renderer/xy/DeviationStepRenderer.java"
          ],
          [
           "./src/main/java/org/jfree/chart/renderer/xy/GradientXYBarPainter.java"
          ],
          [
           "./src/main/java/org/jfree/chart/renderer/xy/HighLowRenderer.java"
          ],
          [
           "./src/main/java/org/jfree/chart/renderer/xy/SamplingXYLineRenderer.java"
          ],
          [
           "./src/main/java/org/jfree/chart/renderer/xy/StackedXYAreaRenderer.java"
          ],
          [
           "./src/main/java/org/jfree/chart/renderer/xy/StackedXYAreaRenderer2.java"
          ],
          [
           "./src/main/java/org/jfree/chart/renderer/xy/StackedXYBarRenderer.java"
          ],
          [
           "./src/main/java/org/jfree/chart/renderer/xy/StandardXYBarPainter.java"
          ],
          [
           "./src/main/java/org/jfree/chart/renderer/xy/StandardXYItemRenderer.java"
          ],
          [
           "./src/main/java/org/jfree/chart/renderer/xy/VectorRenderer.java"
          ],
          [
           "./src/main/java/org/jfree/chart/renderer/xy/WindItemRenderer.java"
          ],
          [
           "./src/main/java/org/jfree/chart/renderer/xy/XYAreaRenderer.java"
          ],
          [
           "./src/main/java/org/jfree/chart/renderer/xy/XYAreaRenderer2.java"
          ],
          [
           "./src/main/java/org/jfree/chart/renderer/xy/XYBarPainter.java"
          ],
          [
           "./src/main/java/org/jfree/chart/renderer/xy/XYBarRenderer.java"
          ],
          [
           "./src/main/java/org/jfree/chart/renderer/xy/XYBlockRenderer.java"
          ],
          [
           "./src/main/java/org/jfree/chart/renderer/xy/XYBoxAndWhiskerRenderer.java"
          ],
          [
           "./src/main/java/org/jfree/chart/renderer/xy/XYBubbleRenderer.java"
          ],
          [
           "./src/main/java/org/jfree/chart/renderer/xy/XYDifferenceRenderer.java"
          ],
          [
           "./src/main/java/org/jfree/chart/renderer/xy/XYDotRenderer.java"
          ],
          [
           "./src/main/java/org/jfree/chart/renderer/xy/XYErrorRenderer.java"
          ],
          [
           "./src/main/java/org/jfree/chart/renderer/xy/XYItemRenderer.java"
          ],
          [
           "./src/main/java/org/jfree/chart/renderer/xy/XYItemRendererState.java"
          ],
          [
           "./src/main/java/org/jfree/chart/renderer/xy/XYLineAndShapeRenderer.java"
          ],
          [
           "./src/main/java/org/jfree/chart/renderer/xy/XYShapeRenderer.java"
          ],
          [
           "./src/main/java/org/jfree/chart/renderer/xy/XYSplineRenderer.java"
          ],
          [
           "./src/main/java/org/jfree/chart/renderer/xy/XYStepAreaRenderer.java"
          ],
          [
           "./src/main/java/org/jfree/chart/renderer/xy/XYStepRenderer.java"
          ],
          [
           "./src/main/java/org/jfree/chart/renderer/xy/YIntervalRenderer.java"
          ],
          [
           "./src/main/java/org/jfree/chart/StandardChartTheme.java"
          ],
          [
           "./src/main/java/org/jfree/chart/swing/AbstractOverlay.java"
          ],
          [
           "./src/main/java/org/jfree/chart/swing/ApplicationFrame.java"
          ],
          [
           "./src/main/java/org/jfree/chart/swing/ChartFrame.java"
          ],
          [
           "./src/main/java/org/jfree/chart/swing/ChartMouseEvent.java"
          ],
          [
           "./src/main/java/org/jfree/chart/swing/ChartMouseListener.java"
          ],
          [
           "./src/main/java/org/jfree/chart/swing/ChartPanel.java"
          ],
          [
           "./src/main/java/org/jfree/chart/swing/CrosshairOverlay.java"
          ],
          [
           "./src/main/java/org/jfree/chart/swing/DefaultSelectionZoomStrategy.java"
          ],
          [
           "./src/main/java/org/jfree/chart/swing/editor/ChartEditor.java"
          ],
          [
           "./src/main/java/org/jfree/chart/swing/editor/ChartEditorFactory.java"
          ],
          [
           "./src/main/java/org/jfree/chart/swing/editor/ChartEditorManager.java"
          ],
          [
           "./src/main/java/org/jfree/chart/swing/editor/DefaultAxisEditor.java"
          ],
          [
           "./src/main/java/org/jfree/chart/swing/editor/DefaultChartEditor.java"
          ],
          [
           "./src/main/java/org/jfree/chart/swing/editor/DefaultChartEditorFactory.java"
          ],
          [
           "./src/main/java/org/jfree/chart/swing/editor/DefaultLogAxisEditor.java"
          ],
          [
           "./src/main/java/org/jfree/chart/swing/editor/DefaultNumberAxisEditor.java"
          ],
          [
           "./src/main/java/org/jfree/chart/swing/editor/DefaultPlotEditor.java"
          ],
          [
           "./src/main/java/org/jfree/chart/swing/editor/DefaultPolarPlotEditor.java"
          ],
          [
           "./src/main/java/org/jfree/chart/swing/editor/DefaultTitleEditor.java"
          ],
          [
           "./src/main/java/org/jfree/chart/swing/editor/DefaultValueAxisEditor.java"
          ],
          [
           "./src/main/java/org/jfree/chart/swing/editor/FontChooserPanel.java"
          ],
          [
           "./src/main/java/org/jfree/chart/swing/editor/FontDisplayField.java"
          ],
          [
           "./src/main/java/org/jfree/chart/swing/editor/LCBLayout.java"
          ],
          [
           "./src/main/java/org/jfree/chart/swing/editor/PaintSample.java"
          ],
          [
           "./src/main/java/org/jfree/chart/swing/editor/StrokeChooserPanel.java"
          ],
          [
           "./src/main/java/org/jfree/chart/swing/editor/StrokeSample.java"
          ],
          [
           "./src/main/java/org/jfree/chart/swing/MouseWheelHandler.java"
          ],
          [
           "./src/main/java/org/jfree/chart/swing/NumberCellRenderer.java"
          ],
          [
           "./src/main/java/org/jfree/chart/swing/Overlay.java"
          ],
          [
           "./src/main/java/org/jfree/chart/swing/OverlayChangeEvent.java"
          ],
          [
           "./src/main/java/org/jfree/chart/swing/OverlayChangeListener.java"
          ],
          [
           "./src/main/java/org/jfree/chart/swing/PolarChartPanel.java"
          ],
          [
           "./src/main/java/org/jfree/chart/swing/SelectionZoomStrategy.java"
          ],
          [
           "./src/main/java/org/jfree/chart/swing/UIUtils.java"
          ],
          [
           "./src/main/java/org/jfree/chart/text/AttributedStringUtils.java"
          ],
          [
           "./src/main/java/org/jfree/chart/text/format/HexNumberFormat.java"
          ],
          [
           "./src/main/java/org/jfree/chart/text/format/HMSNumberFormat.java"
          ],
          [
           "./src/main/java/org/jfree/chart/text/format/LogFormat.java"
          ],
          [
           "./src/main/java/org/jfree/chart/text/format/RelativeDateFormat.java"
          ],
          [
           "./src/main/java/org/jfree/chart/text/G2TextMeasurer.java"
          ],
          [
           "./src/main/java/org/jfree/chart/text/TextAnchor.java"
          ],
          [
           "./src/main/java/org/jfree/chart/text/TextBlock.java"
          ],
          [
           "./src/main/java/org/jfree/chart/text/TextBlockAnchor.java"
          ],
          [
           "./src/main/java/org/jfree/chart/text/TextBox.java"
          ],
          [
           "./src/main/java/org/jfree/chart/text/TextFragment.java"
          ],
          [
           "./src/main/java/org/jfree/chart/text/TextLine.java"
          ],
          [
           "./src/main/java/org/jfree/chart/text/TextMeasurer.java"
          ],
          [
           "./src/main/java/org/jfree/chart/text/TextUtils.java"
          ],
          [
           "./src/main/java/org/jfree/chart/title/CompositeTitle.java"
          ],
          [
           "./src/main/java/org/jfree/chart/title/DateTitle.java"
          ],
          [
           "./src/main/java/org/jfree/chart/title/ImageTitle.java"
          ],
          [
           "./src/main/java/org/jfree/chart/title/ShortTextTitle.java"
          ],
          [
           "./src/main/java/org/jfree/chart/title/TextTitle.java"
          ],
          [
           "./src/main/java/org/jfree/chart/title/Title.java"
          ],
          [
           "./src/main/java/org/jfree/chart/urls/CategoryURLGenerator.java"
          ],
          [
           "./src/main/java/org/jfree/chart/urls/CustomCategoryURLGenerator.java"
          ],
          [
           "./src/main/java/org/jfree/chart/urls/CustomPieURLGenerator.java"
          ],
          [
           "./src/main/java/org/jfree/chart/urls/CustomXYURLGenerator.java"
          ],
          [
           "./src/main/java/org/jfree/chart/urls/PieURLGenerator.java"
          ],
          [
           "./src/main/java/org/jfree/chart/urls/StandardCategoryURLGenerator.java"
          ],
          [
           "./src/main/java/org/jfree/chart/urls/StandardPieURLGenerator.java"
          ],
          [
           "./src/main/java/org/jfree/chart/urls/StandardXYURLGenerator.java"
          ],
          [
           "./src/main/java/org/jfree/chart/urls/StandardXYZURLGenerator.java"
          ],
          [
           "./src/main/java/org/jfree/chart/urls/TimeSeriesURLGenerator.java"
          ],
          [
           "./src/main/java/org/jfree/chart/urls/XYURLGenerator.java"
          ],
          [
           "./src/main/java/org/jfree/chart/urls/XYZURLGenerator.java"
          ],
          [
           "./src/main/java/org/jfree/chart/util/AttrStringUtils.java"
          ],
          [
           "./src/main/java/org/jfree/chart/util/DefaultShadowGenerator.java"
          ],
          [
           "./src/main/java/org/jfree/chart/util/DirectionalGradientPaintTransformer.java"
          ],
          [
           "./src/main/java/org/jfree/chart/util/ExportUtils.java"
          ],
          [
           "./src/main/java/org/jfree/chart/util/GradientPaintTransformer.java"
          ],
          [
           "./src/main/java/org/jfree/chart/util/GradientPaintTransformType.java"
          ],
          [
           "./src/main/java/org/jfree/chart/util/PaintAlpha.java"
          ],
          [
           "./src/main/java/org/jfree/chart/util/ShadowGenerator.java"
          ],
          [
           "./src/main/java/org/jfree/chart/util/StandardGradientPaintTransformer.java"
          ],
          [
           "./src/main/java/org/jfree/chart/util/StringUtils.java"
          ],
          [
           "./src/main/java/org/jfree/data/category/CategoryDataset.java"
          ],
          [
           "./src/main/java/org/jfree/data/category/CategoryRangeInfo.java"
          ],
          [
           "./src/main/java/org/jfree/data/category/CategoryToPieDataset.java"
          ],
          [
           "./src/main/java/org/jfree/data/category/DefaultCategoryDataset.java"
          ],
          [
           "./src/main/java/org/jfree/data/category/DefaultIntervalCategoryDataset.java"
          ],
          [
           "./src/main/java/org/jfree/data/category/IntervalCategoryDataset.java"
          ],
          [
           "./src/main/java/org/jfree/data/category/SlidingCategoryDataset.java"
          ],
          [
           "./src/main/java/org/jfree/data/ComparableObjectItem.java"
          ],
          [
           "./src/main/java/org/jfree/data/ComparableObjectSeries.java"
          ],
          [
           "./src/main/java/org/jfree/data/DataUtils.java"
          ],
          [
           "./src/main/java/org/jfree/data/DefaultKeyedValue.java"
          ],
          [
           "./src/main/java/org/jfree/data/DefaultKeyedValues.java"
          ],
          [
           "./src/main/java/org/jfree/data/DefaultKeyedValues2D.java"
          ],
          [
           "./src/main/java/org/jfree/data/DomainInfo.java"
          ],
          [
           "./src/main/java/org/jfree/data/DomainOrder.java"
          ],
          [
           "./src/main/java/org/jfree/data/flow/DefaultFlowDataset.java"
          ],
          [
           "./src/main/java/org/jfree/data/flow/FlowDataset.java"
          ],
          [
           "./src/main/java/org/jfree/data/flow/FlowDatasetUtils.java"
          ],
          [
           "./src/main/java/org/jfree/data/flow/FlowKey.java"
          ],
          [
           "./src/main/java/org/jfree/data/flow/NodeKey.java"
          ],
          [
           "./src/main/java/org/jfree/data/function/Function2D.java"
          ],
          [
           "./src/main/java/org/jfree/data/function/LineFunction2D.java"
          ],
          [
           "./src/main/java/org/jfree/data/function/NormalDistributionFunction2D.java"
          ],
          [
           "./src/main/java/org/jfree/data/function/PolynomialFunction2D.java"
          ],
          [
           "./src/main/java/org/jfree/data/function/PowerFunction2D.java"
          ],
          [
           "./src/main/java/org/jfree/data/gantt/GanttCategoryDataset.java"
          ],
          [
           "./src/main/java/org/jfree/data/gantt/SlidingGanttCategoryDataset.java"
          ],
          [
           "./src/main/java/org/jfree/data/gantt/Task.java"
          ],
          [
           "./src/main/java/org/jfree/data/gantt/TaskSeries.java"
          ],
          [
           "./src/main/java/org/jfree/data/gantt/TaskSeriesCollection.java"
          ],
          [
           "./src/main/java/org/jfree/data/gantt/XYTaskDataset.java"
          ],
          [
           "./src/main/java/org/jfree/data/general/AbstractDataset.java"
          ],
          [
           "./src/main/java/org/jfree/data/general/AbstractSeriesDataset.java"
          ],
          [
           "./src/main/java/org/jfree/data/general/Dataset.java"
          ],
          [
           "./src/main/java/org/jfree/data/general/DatasetChangeEvent.java"
          ],
          [
           "./src/main/java/org/jfree/data/general/DatasetChangeListener.java"
          ],
          [
           "./src/main/java/org/jfree/data/general/DatasetUtils.java"
          ],
          [
           "./src/main/java/org/jfree/data/general/DefaultHeatMapDataset.java"
          ],
          [
           "./src/main/java/org/jfree/data/general/DefaultKeyedValueDataset.java"
          ],
          [
           "./src/main/java/org/jfree/data/general/DefaultKeyedValues2DDataset.java"
          ],
          [
           "./src/main/java/org/jfree/data/general/DefaultKeyedValuesDataset.java"
          ],
          [
           "./src/main/java/org/jfree/data/general/DefaultPieDataset.java"
          ],
          [
           "./src/main/java/org/jfree/data/general/DefaultValueDataset.java"
          ],
          [
           "./src/main/java/org/jfree/data/general/HeatMapDataset.java"
          ],
          [
           "./src/main/java/org/jfree/data/general/HeatMapUtils.java"
          ],
          [
           "./src/main/java/org/jfree/data/general/KeyedValueDataset.java"
          ],
          [
           "./src/main/java/org/jfree/data/general/KeyedValues2DDataset.java"
          ],
          [
           "./src/main/java/org/jfree/data/general/KeyedValuesDataset.java"
          ],
          [
           "./src/main/java/org/jfree/data/general/PieDataset.java"
          ],
          [
           "./src/main/java/org/jfree/data/general/Series.java"
          ],
          [
           "./src/main/java/org/jfree/data/general/SeriesChangeEvent.java"
          ],
          [
           "./src/main/java/org/jfree/data/general/SeriesChangeListener.java"
          ],
          [
           "./src/main/java/org/jfree/data/general/SeriesDataset.java"
          ],
          [
           "./src/main/java/org/jfree/data/general/SeriesException.java"
          ],
          [
           "./src/main/java/org/jfree/data/general/ValueDataset.java"
          ],
          [
           "./src/main/java/org/jfree/data/general/WaferMapDataset.java"
          ],
          [
           "./src/main/java/org/jfree/data/io/CSV.java"
          ],
          [
           "./src/main/java/org/jfree/data/ItemKey.java"
          ],
          [
           "./src/main/java/org/jfree/data/json/impl/JSONArray.java"
          ],
          [
           "./src/main/java/org/jfree/data/json/impl/JSONAware.java"
          ],
          [
           "./src/main/java/org/jfree/data/json/impl/JSONObject.java"
          ],
          [
           "./src/main/java/org/jfree/data/json/impl/JSONStreamAware.java"
          ],
          [
           "./src/main/java/org/jfree/data/json/impl/JSONValue.java"
          ],
          [
           "./src/main/java/org/jfree/data/json/JSONUtils.java"
          ],
          [
           "./src/main/java/org/jfree/data/KeyedObject.java"
          ],
          [
           "./src/main/java/org/jfree/data/KeyedObjects.java"
          ],
          [
           "./src/main/java/org/jfree/data/KeyedObjects2D.java"
          ],
          [
           "./src/main/java/org/jfree/data/KeyedValue.java"
          ],
          [
           "./src/main/java/org/jfree/data/KeyedValueComparator.java"
          ],
          [
           "./src/main/java/org/jfree/data/KeyedValueComparatorType.java"
          ],
          [
           "./src/main/java/org/jfree/data/KeyedValues.java"
          ],
          [
           "./src/main/java/org/jfree/data/KeyedValues2D.java"
          ],
          [
           "./src/main/java/org/jfree/data/KeyedValues2DItemKey.java"
          ],
          [
           "./src/main/java/org/jfree/data/KeyedValuesItemKey.java"
          ],
          [
           "./src/main/java/org/jfree/data/KeyToGroupMap.java"
          ],
          [
           "./src/main/java/org/jfree/data/Range.java"
          ],
          [
           "./src/main/java/org/jfree/data/RangeInfo.java"
          ],
          [
           "./src/main/java/org/jfree/data/RangeType.java"
          ],
          [
           "./src/main/java/org/jfree/data/resources/DataPackageResources.java"
          ],
          [
           "./src/main/java/org/jfree/data/resources/DataPackageResources_de.java"
          ],
          [
           "./src/main/java/org/jfree/data/resources/DataPackageResources_es.java"
          ],
          [
           "./src/main/java/org/jfree/data/resources/DataPackageResources_fr.java"
          ],
          [
           "./src/main/java/org/jfree/data/resources/DataPackageResources_pl.java"
          ],
          [
           "./src/main/java/org/jfree/data/resources/DataPackageResources_ru.java"
          ],
          [
           "./src/main/java/org/jfree/data/statistics/BoxAndWhiskerCalculator.java"
          ],
          [
           "./src/main/java/org/jfree/data/statistics/BoxAndWhiskerCategoryDataset.java"
          ],
          [
           "./src/main/java/org/jfree/data/statistics/BoxAndWhiskerItem.java"
          ],
          [
           "./src/main/java/org/jfree/data/statistics/BoxAndWhiskerXYDataset.java"
          ],
          [
           "./src/main/java/org/jfree/data/statistics/DefaultBoxAndWhiskerCategoryDataset.java"
          ],
          [
           "./src/main/java/org/jfree/data/statistics/DefaultBoxAndWhiskerXYDataset.java"
          ],
          [
           "./src/main/java/org/jfree/data/statistics/DefaultMultiValueCategoryDataset.java"
          ],
          [
           "./src/main/java/org/jfree/data/statistics/DefaultStatisticalCategoryDataset.java"
          ],
          [
           "./src/main/java/org/jfree/data/statistics/HistogramBin.java"
          ],
          [
           "./src/main/java/org/jfree/data/statistics/HistogramDataset.java"
          ],
          [
           "./src/main/java/org/jfree/data/statistics/HistogramType.java"
          ],
          [
           "./src/main/java/org/jfree/data/statistics/MeanAndStandardDeviation.java"
          ],
          [
           "./src/main/java/org/jfree/data/statistics/MultiValueCategoryDataset.java"
          ],
          [
           "./src/main/java/org/jfree/data/statistics/Regression.java"
          ],
          [
           "./src/main/java/org/jfree/data/statistics/SimpleHistogramBin.java"
          ],
          [
           "./src/main/java/org/jfree/data/statistics/SimpleHistogramDataset.java"
          ],
          [
           "./src/main/java/org/jfree/data/statistics/StatisticalCategoryDataset.java"
          ],
          [
           "./src/main/java/org/jfree/data/statistics/Statistics.java"
          ],
          [
           "./src/main/java/org/jfree/data/time/DateRange.java"
          ],
          [
           "./src/main/java/org/jfree/data/time/Day.java"
          ],
          [
           "./src/main/java/org/jfree/data/time/DynamicTimeSeriesCollection.java"
          ],
          [
           "./src/main/java/org/jfree/data/time/FixedMillisecond.java"
          ],
          [
           "./src/main/java/org/jfree/data/time/Hour.java"
          ],
          [
           "./src/main/java/org/jfree/data/time/Millisecond.java"
          ],
          [
           "./src/main/java/org/jfree/data/time/Minute.java"
          ],
          [
           "./src/main/java/org/jfree/data/time/Month.java"
          ],
          [
           "./src/main/java/org/jfree/data/time/MovingAverage.java"
          ],
          [
           "./src/main/java/org/jfree/data/time/ohlc/OHLC.java"
          ],
          [
           "./src/main/java/org/jfree/data/time/ohlc/OHLCItem.java"
          ],
          [
           "./src/main/java/org/jfree/data/time/ohlc/OHLCSeries.java"
          ],
          [
           "./src/main/java/org/jfree/data/time/ohlc/OHLCSeriesCollection.java"
          ],
          [
           "./src/main/java/org/jfree/data/time/Quarter.java"
          ],
          [
           "./src/main/java/org/jfree/data/time/RegularTimePeriod.java"
          ],
          [
           "./src/main/java/org/jfree/data/time/Second.java"
          ],
          [
           "./src/main/java/org/jfree/data/time/SimpleTimePeriod.java"
          ],
          [
           "./src/main/java/org/jfree/data/time/TimePeriod.java"
          ],
          [
           "./src/main/java/org/jfree/data/time/TimePeriodAnchor.java"
          ],
          [
           "./src/main/java/org/jfree/data/time/TimePeriodFormatException.java"
          ],
          [
           "./src/main/java/org/jfree/data/time/TimePeriodValue.java"
          ],
          [
           "./src/main/java/org/jfree/data/time/TimePeriodValues.java"
          ],
          [
           "./src/main/java/org/jfree/data/time/TimePeriodValuesCollection.java"
          ],
          [
           "./src/main/java/org/jfree/data/time/TimeSeries.java"
          ],
          [
           "./src/main/java/org/jfree/data/time/TimeSeriesCollection.java"
          ],
          [
           "./src/main/java/org/jfree/data/time/TimeSeriesDataItem.java"
          ],
          [
           "./src/main/java/org/jfree/data/time/TimeSeriesTableModel.java"
          ],
          [
           "./src/main/java/org/jfree/data/time/TimeTableXYDataset.java"
          ],
          [
           "./src/main/java/org/jfree/data/time/Week.java"
          ],
          [
           "./src/main/java/org/jfree/data/time/Year.java"
          ],
          [
           "./src/main/java/org/jfree/data/UnknownKeyException.java"
          ],
          [
           "./src/main/java/org/jfree/data/Value.java"
          ],
          [
           "./src/main/java/org/jfree/data/Values.java"
          ],
          [
           "./src/main/java/org/jfree/data/Values2D.java"
          ],
          [
           "./src/main/java/org/jfree/data/xml/CategoryDatasetHandler.java"
          ],
          [
           "./src/main/java/org/jfree/data/xml/CategorySeriesHandler.java"
          ],
          [
           "./src/main/java/org/jfree/data/xml/DatasetReader.java"
          ],
          [
           "./src/main/java/org/jfree/data/xml/DatasetTags.java"
          ],
          [
           "./src/main/java/org/jfree/data/xml/ItemHandler.java"
          ],
          [
           "./src/main/java/org/jfree/data/xml/KeyHandler.java"
          ],
          [
           "./src/main/java/org/jfree/data/xml/PieDatasetHandler.java"
          ],
          [
           "./src/main/java/org/jfree/data/xml/RootHandler.java"
          ],
          [
           "./src/main/java/org/jfree/data/xml/ValueHandler.java"
          ],
          [
           "./src/main/java/org/jfree/data/xy/AbstractIntervalXYDataset.java"
          ],
          [
           "./src/main/java/org/jfree/data/xy/AbstractXYDataset.java"
          ],
          [
           "./src/main/java/org/jfree/data/xy/AbstractXYZDataset.java"
          ],
          [
           "./src/main/java/org/jfree/data/xy/CategoryTableXYDataset.java"
          ],
          [
           "./src/main/java/org/jfree/data/xy/DefaultHighLowDataset.java"
          ],
          [
           "./src/main/java/org/jfree/data/xy/DefaultIntervalXYDataset.java"
          ],
          [
           "./src/main/java/org/jfree/data/xy/DefaultOHLCDataset.java"
          ],
          [
           "./src/main/java/org/jfree/data/xy/DefaultTableXYDataset.java"
          ],
          [
           "./src/main/java/org/jfree/data/xy/DefaultWindDataset.java"
          ],
          [
           "./src/main/java/org/jfree/data/xy/DefaultXYDataset.java"
          ],
          [
           "./src/main/java/org/jfree/data/xy/DefaultXYZDataset.java"
          ],
          [
           "./src/main/java/org/jfree/data/xy/IntervalXYDataset.java"
          ],
          [
           "./src/main/java/org/jfree/data/xy/IntervalXYDelegate.java"
          ],
          [
           "./src/main/java/org/jfree/data/xy/IntervalXYZDataset.java"
          ],
          [
           "./src/main/java/org/jfree/data/xy/MatrixSeries.java"
          ],
          [
           "./src/main/java/org/jfree/data/xy/MatrixSeriesCollection.java"
          ],
          [
           "./src/main/java/org/jfree/data/xy/NormalizedMatrixSeries.java"
          ],
          [
           "./src/main/java/org/jfree/data/xy/OHLCDataItem.java"
          ],
          [
           "./src/main/java/org/jfree/data/xy/OHLCDataset.java"
          ],
          [
           "./src/main/java/org/jfree/data/xy/TableXYDataset.java"
          ],
          [
           "./src/main/java/org/jfree/data/xy/Vector.java"
          ],
          [
           "./src/main/java/org/jfree/data/xy/VectorDataItem.java"
          ],
          [
           "./src/main/java/org/jfree/data/xy/VectorSeries.java"
          ],
          [
           "./src/main/java/org/jfree/data/xy/VectorSeriesCollection.java"
          ],
          [
           "./src/main/java/org/jfree/data/xy/VectorXYDataset.java"
          ],
          [
           "./src/main/java/org/jfree/data/xy/WindDataset.java"
          ],
          [
           "./src/main/java/org/jfree/data/xy/XIntervalDataItem.java"
          ],
          [
           "./src/main/java/org/jfree/data/xy/XIntervalSeries.java"
          ],
          [
           "./src/main/java/org/jfree/data/xy/XIntervalSeriesCollection.java"
          ],
          [
           "./src/main/java/org/jfree/data/xy/XisSymbolic.java"
          ],
          [
           "./src/main/java/org/jfree/data/xy/XYBarDataset.java"
          ],
          [
           "./src/main/java/org/jfree/data/xy/XYCoordinate.java"
          ],
          [
           "./src/main/java/org/jfree/data/xy/XYDataItem.java"
          ],
          [
           "./src/main/java/org/jfree/data/xy/XYDataset.java"
          ],
          [
           "./src/main/java/org/jfree/data/xy/XYDatasetTableModel.java"
          ],
          [
           "./src/main/java/org/jfree/data/xy/XYDomainInfo.java"
          ],
          [
           "./src/main/java/org/jfree/data/xy/XYInterval.java"
          ],
          [
           "./src/main/java/org/jfree/data/xy/XYIntervalDataItem.java"
          ],
          [
           "./src/main/java/org/jfree/data/xy/XYIntervalSeries.java"
          ],
          [
           "./src/main/java/org/jfree/data/xy/XYIntervalSeriesCollection.java"
          ],
          [
           "./src/main/java/org/jfree/data/xy/XYItemKey.java"
          ],
          [
           "./src/main/java/org/jfree/data/xy/XYRangeInfo.java"
          ],
          [
           "./src/main/java/org/jfree/data/xy/XYSeries.java"
          ],
          [
           "./src/main/java/org/jfree/data/xy/XYSeriesCollection.java"
          ],
          [
           "./src/main/java/org/jfree/data/xy/XYZDataset.java"
          ],
          [
           "./src/main/java/org/jfree/data/xy/YInterval.java"
          ],
          [
           "./src/main/java/org/jfree/data/xy/YIntervalDataItem.java"
          ],
          [
           "./src/main/java/org/jfree/data/xy/YIntervalSeries.java"
          ],
          [
           "./src/main/java/org/jfree/data/xy/YIntervalSeriesCollection.java"
          ],
          [
           "./src/main/java/org/jfree/data/xy/YisSymbolic.java"
          ],
          [
           "./src/main/java/org/jfree/data/xy/YWithXInterval.java"
          ]
         ],
         "hovertemplate": "NCLOC=%{y}<br>class=%{customdata[0]}<extra></extra>",
         "legendgroup": "",
         "marker": {
          "color": "#636efa"
         },
         "name": "",
         "notched": false,
         "offsetgroup": "",
         "orientation": "v",
         "showlegend": false,
         "type": "box",
         "x0": " ",
         "xaxis": "x",
         "y": [
          68,
          77,
          7,
          10,
          198,
          238,
          123,
          137,
          11,
          7,
          176,
          159,
          143,
          134,
          180,
          252,
          171,
          152,
          282,
          212,
          6,
          5,
          6,
          5,
          80,
          95,
          42,
          245,
          12,
          5,
          5,
          5,
          6,
          6,
          789,
          49,
          6,
          26,
          189,
          66,
          6,
          726,
          99,
          217,
          5,
          55,
          48,
          653,
          1063,
          42,
          6,
          140,
          18,
          106,
          561,
          565,
          14,
          133,
          215,
          98,
          597,
          19,
          55,
          157,
          670,
          158,
          81,
          39,
          233,
          423,
          65,
          5,
          64,
          72,
          6,
          11,
          767,
          42,
          259,
          7,
          13,
          101,
          126,
          9,
          30,
          15,
          382,
          140,
          72,
          208,
          33,
          4,
          5,
          234,
          242,
          179,
          6,
          118,
          149,
          59,
          70,
          4,
          4,
          1000,
          25,
          97,
          4,
          102,
          235,
          15,
          355,
          175,
          6,
          53,
          13,
          52,
          6,
          59,
          36,
          79,
          65,
          45,
          181,
          13,
          38,
          79,
          56,
          23,
          81,
          79,
          86,
          10,
          79,
          35,
          56,
          14,
          6,
          12,
          5,
          34,
          6,
          5,
          35,
          5,
          5,
          12,
          6,
          12,
          5,
          19,
          5,
          12,
          5,
          20,
          123,
          13,
          12,
          11,
          4,
          8,
          34,
          106,
          89,
          65,
          84,
          117,
          418,
          262,
          780,
          135,
          103,
          155,
          52,
          57,
          115,
          7,
          5,
          5,
          5,
          77,
          6,
          106,
          54,
          64,
          128,
          124,
          28,
          76,
          112,
          11,
          5,
          47,
          57,
          43,
          57,
          47,
          85,
          37,
          58,
          58,
          59,
          109,
          70,
          5,
          5,
          5,
          5,
          334,
          468,
          69,
          56,
          5,
          5,
          347,
          392,
          64,
          69,
          2415,
          6,
          358,
          396,
          307,
          371,
          78,
          438,
          41,
          87,
          178,
          61,
          59,
          51,
          70,
          49,
          45,
          298,
          109,
          5,
          276,
          74,
          228,
          100,
          131,
          7,
          14,
          12,
          5,
          373,
          279,
          5,
          159,
          327,
          149,
          181,
          417,
          6,
          12,
          507,
          455,
          82,
          268,
          89,
          643,
          11,
          24,
          355,
          106,
          6,
          114,
          1547,
          81,
          656,
          11,
          117,
          14,
          11,
          988,
          331,
          5,
          677,
          764,
          6,
          43,
          237,
          6,
          2732,
          18,
          1235,
          6,
          925,
          192,
          11,
          683,
          596,
          170,
          64,
          174,
          7,
          351,
          215,
          218,
          117,
          291,
          222,
          379,
          268,
          269,
          284,
          216,
          106,
          342,
          269,
          261,
          489,
          82,
          179,
          6,
          70,
          49,
          49,
          8,
          35,
          31,
          153,
          204,
          974,
          429,
          200,
          249,
          6,
          168,
          173,
          214,
          243,
          170,
          335,
          325,
          224,
          106,
          466,
          207,
          84,
          387,
          234,
          11,
          623,
          258,
          434,
          192,
          708,
          169,
          213,
          169,
          37,
          521,
          272,
          258,
          293,
          167,
          142,
          947,
          32,
          35,
          25,
          28,
          7,
          1575,
          398,
          156,
          6,
          5,
          18,
          221,
          143,
          10,
          82,
          97,
          365,
          110,
          155,
          226,
          113,
          29,
          147,
          43,
          30,
          72,
          65,
          30,
          7,
          7,
          5,
          116,
          24,
          85,
          43,
          46,
          32,
          98,
          229,
          18,
          51,
          137,
          12,
          204,
          126,
          108,
          4,
          393,
          97,
          37,
          176,
          119,
          469,
          180,
          6,
          88,
          95,
          89,
          5,
          86,
          70,
          58,
          9,
          90,
          5,
          5,
          182,
          158,
          48,
          112,
          6,
          7,
          144,
          7,
          79,
          25,
          6,
          7,
          155,
          146,
          380,
          8,
          152,
          56,
          209,
          126,
          56,
          203,
          255,
          6,
          6,
          181,
          14,
          93,
          66,
          56,
          4,
          42,
          50,
          38,
          42,
          15,
          283,
          98,
          79,
          316,
          203,
          70,
          28,
          5,
          11,
          5,
          1459,
          136,
          78,
          8,
          5,
          127,
          42,
          13,
          50,
          4,
          4,
          4,
          5,
          79,
          9,
          5,
          11,
          8,
          4,
          109,
          96,
          4,
          72,
          4,
          85,
          6,
          156,
          102,
          56,
          149,
          244,
          4,
          84,
          5,
          8,
          12,
          72,
          49,
          162,
          196,
          6,
          6,
          12,
          12,
          12,
          12,
          12,
          12,
          110,
          24,
          125,
          17,
          412,
          239,
          196,
          363,
          62,
          213,
          6,
          65,
          8,
          223,
          130,
          188,
          9,
          234,
          44,
          187,
          403,
          111,
          197,
          194,
          207,
          239,
          165,
          59,
          51,
          38,
          187,
          198,
          110,
          196,
          91,
          6,
          6,
          6,
          66,
          221,
          207,
          606,
          323,
          66,
          127,
          230,
          302,
          141,
          6,
          4,
          5,
          6,
          48,
          56,
          74,
          9,
          62,
          53,
          45,
          39,
          60,
          41,
          28,
          13,
          143,
          155,
          197,
          128,
          293,
          186,
          148,
          158,
          11,
          180,
          10,
          75,
          108,
          35,
          77,
          13,
          4,
          48,
          36,
          44,
          115,
          6,
          5,
          34,
          40,
          140,
          6,
          125,
          71,
          93,
          11,
          73,
          6,
          58,
          56,
          49,
          132,
          70,
          6,
          425,
          371,
          5,
          41,
          37,
          39,
          122,
          6,
          41
         ],
         "y0": " ",
         "yaxis": "y"
        }
       ],
       "layout": {
        "autosize": true,
        "boxmode": "group",
        "legend": {
         "tracegroupgap": 0
        },
        "margin": {
         "t": 60
        },
        "template": {
         "data": {
          "bar": [
           {
            "error_x": {
             "color": "#2a3f5f"
            },
            "error_y": {
             "color": "#2a3f5f"
            },
            "marker": {
             "line": {
              "color": "#E5ECF6",
              "width": 0.5
             },
             "pattern": {
              "fillmode": "overlay",
              "size": 10,
              "solidity": 0.2
             }
            },
            "type": "bar"
           }
          ],
          "barpolar": [
           {
            "marker": {
             "line": {
              "color": "#E5ECF6",
              "width": 0.5
             },
             "pattern": {
              "fillmode": "overlay",
              "size": 10,
              "solidity": 0.2
             }
            },
            "type": "barpolar"
           }
          ],
          "carpet": [
           {
            "aaxis": {
             "endlinecolor": "#2a3f5f",
             "gridcolor": "white",
             "linecolor": "white",
             "minorgridcolor": "white",
             "startlinecolor": "#2a3f5f"
            },
            "baxis": {
             "endlinecolor": "#2a3f5f",
             "gridcolor": "white",
             "linecolor": "white",
             "minorgridcolor": "white",
             "startlinecolor": "#2a3f5f"
            },
            "type": "carpet"
           }
          ],
          "choropleth": [
           {
            "colorbar": {
             "outlinewidth": 0,
             "ticks": ""
            },
            "type": "choropleth"
           }
          ],
          "contour": [
           {
            "colorbar": {
             "outlinewidth": 0,
             "ticks": ""
            },
            "colorscale": [
             [
              0,
              "#0d0887"
             ],
             [
              0.1111111111111111,
              "#46039f"
             ],
             [
              0.2222222222222222,
              "#7201a8"
             ],
             [
              0.3333333333333333,
              "#9c179e"
             ],
             [
              0.4444444444444444,
              "#bd3786"
             ],
             [
              0.5555555555555556,
              "#d8576b"
             ],
             [
              0.6666666666666666,
              "#ed7953"
             ],
             [
              0.7777777777777778,
              "#fb9f3a"
             ],
             [
              0.8888888888888888,
              "#fdca26"
             ],
             [
              1,
              "#f0f921"
             ]
            ],
            "type": "contour"
           }
          ],
          "contourcarpet": [
           {
            "colorbar": {
             "outlinewidth": 0,
             "ticks": ""
            },
            "type": "contourcarpet"
           }
          ],
          "heatmap": [
           {
            "colorbar": {
             "outlinewidth": 0,
             "ticks": ""
            },
            "colorscale": [
             [
              0,
              "#0d0887"
             ],
             [
              0.1111111111111111,
              "#46039f"
             ],
             [
              0.2222222222222222,
              "#7201a8"
             ],
             [
              0.3333333333333333,
              "#9c179e"
             ],
             [
              0.4444444444444444,
              "#bd3786"
             ],
             [
              0.5555555555555556,
              "#d8576b"
             ],
             [
              0.6666666666666666,
              "#ed7953"
             ],
             [
              0.7777777777777778,
              "#fb9f3a"
             ],
             [
              0.8888888888888888,
              "#fdca26"
             ],
             [
              1,
              "#f0f921"
             ]
            ],
            "type": "heatmap"
           }
          ],
          "heatmapgl": [
           {
            "colorbar": {
             "outlinewidth": 0,
             "ticks": ""
            },
            "colorscale": [
             [
              0,
              "#0d0887"
             ],
             [
              0.1111111111111111,
              "#46039f"
             ],
             [
              0.2222222222222222,
              "#7201a8"
             ],
             [
              0.3333333333333333,
              "#9c179e"
             ],
             [
              0.4444444444444444,
              "#bd3786"
             ],
             [
              0.5555555555555556,
              "#d8576b"
             ],
             [
              0.6666666666666666,
              "#ed7953"
             ],
             [
              0.7777777777777778,
              "#fb9f3a"
             ],
             [
              0.8888888888888888,
              "#fdca26"
             ],
             [
              1,
              "#f0f921"
             ]
            ],
            "type": "heatmapgl"
           }
          ],
          "histogram": [
           {
            "marker": {
             "pattern": {
              "fillmode": "overlay",
              "size": 10,
              "solidity": 0.2
             }
            },
            "type": "histogram"
           }
          ],
          "histogram2d": [
           {
            "colorbar": {
             "outlinewidth": 0,
             "ticks": ""
            },
            "colorscale": [
             [
              0,
              "#0d0887"
             ],
             [
              0.1111111111111111,
              "#46039f"
             ],
             [
              0.2222222222222222,
              "#7201a8"
             ],
             [
              0.3333333333333333,
              "#9c179e"
             ],
             [
              0.4444444444444444,
              "#bd3786"
             ],
             [
              0.5555555555555556,
              "#d8576b"
             ],
             [
              0.6666666666666666,
              "#ed7953"
             ],
             [
              0.7777777777777778,
              "#fb9f3a"
             ],
             [
              0.8888888888888888,
              "#fdca26"
             ],
             [
              1,
              "#f0f921"
             ]
            ],
            "type": "histogram2d"
           }
          ],
          "histogram2dcontour": [
           {
            "colorbar": {
             "outlinewidth": 0,
             "ticks": ""
            },
            "colorscale": [
             [
              0,
              "#0d0887"
             ],
             [
              0.1111111111111111,
              "#46039f"
             ],
             [
              0.2222222222222222,
              "#7201a8"
             ],
             [
              0.3333333333333333,
              "#9c179e"
             ],
             [
              0.4444444444444444,
              "#bd3786"
             ],
             [
              0.5555555555555556,
              "#d8576b"
             ],
             [
              0.6666666666666666,
              "#ed7953"
             ],
             [
              0.7777777777777778,
              "#fb9f3a"
             ],
             [
              0.8888888888888888,
              "#fdca26"
             ],
             [
              1,
              "#f0f921"
             ]
            ],
            "type": "histogram2dcontour"
           }
          ],
          "mesh3d": [
           {
            "colorbar": {
             "outlinewidth": 0,
             "ticks": ""
            },
            "type": "mesh3d"
           }
          ],
          "parcoords": [
           {
            "line": {
             "colorbar": {
              "outlinewidth": 0,
              "ticks": ""
             }
            },
            "type": "parcoords"
           }
          ],
          "pie": [
           {
            "automargin": true,
            "type": "pie"
           }
          ],
          "scatter": [
           {
            "marker": {
             "colorbar": {
              "outlinewidth": 0,
              "ticks": ""
             }
            },
            "type": "scatter"
           }
          ],
          "scatter3d": [
           {
            "line": {
             "colorbar": {
              "outlinewidth": 0,
              "ticks": ""
             }
            },
            "marker": {
             "colorbar": {
              "outlinewidth": 0,
              "ticks": ""
             }
            },
            "type": "scatter3d"
           }
          ],
          "scattercarpet": [
           {
            "marker": {
             "colorbar": {
              "outlinewidth": 0,
              "ticks": ""
             }
            },
            "type": "scattercarpet"
           }
          ],
          "scattergeo": [
           {
            "marker": {
             "colorbar": {
              "outlinewidth": 0,
              "ticks": ""
             }
            },
            "type": "scattergeo"
           }
          ],
          "scattergl": [
           {
            "marker": {
             "colorbar": {
              "outlinewidth": 0,
              "ticks": ""
             }
            },
            "type": "scattergl"
           }
          ],
          "scattermapbox": [
           {
            "marker": {
             "colorbar": {
              "outlinewidth": 0,
              "ticks": ""
             }
            },
            "type": "scattermapbox"
           }
          ],
          "scatterpolar": [
           {
            "marker": {
             "colorbar": {
              "outlinewidth": 0,
              "ticks": ""
             }
            },
            "type": "scatterpolar"
           }
          ],
          "scatterpolargl": [
           {
            "marker": {
             "colorbar": {
              "outlinewidth": 0,
              "ticks": ""
             }
            },
            "type": "scatterpolargl"
           }
          ],
          "scatterternary": [
           {
            "marker": {
             "colorbar": {
              "outlinewidth": 0,
              "ticks": ""
             }
            },
            "type": "scatterternary"
           }
          ],
          "surface": [
           {
            "colorbar": {
             "outlinewidth": 0,
             "ticks": ""
            },
            "colorscale": [
             [
              0,
              "#0d0887"
             ],
             [
              0.1111111111111111,
              "#46039f"
             ],
             [
              0.2222222222222222,
              "#7201a8"
             ],
             [
              0.3333333333333333,
              "#9c179e"
             ],
             [
              0.4444444444444444,
              "#bd3786"
             ],
             [
              0.5555555555555556,
              "#d8576b"
             ],
             [
              0.6666666666666666,
              "#ed7953"
             ],
             [
              0.7777777777777778,
              "#fb9f3a"
             ],
             [
              0.8888888888888888,
              "#fdca26"
             ],
             [
              1,
              "#f0f921"
             ]
            ],
            "type": "surface"
           }
          ],
          "table": [
           {
            "cells": {
             "fill": {
              "color": "#EBF0F8"
             },
             "line": {
              "color": "white"
             }
            },
            "header": {
             "fill": {
              "color": "#C8D4E3"
             },
             "line": {
              "color": "white"
             }
            },
            "type": "table"
           }
          ]
         },
         "layout": {
          "annotationdefaults": {
           "arrowcolor": "#2a3f5f",
           "arrowhead": 0,
           "arrowwidth": 1
          },
          "autotypenumbers": "strict",
          "coloraxis": {
           "colorbar": {
            "outlinewidth": 0,
            "ticks": ""
           }
          },
          "colorscale": {
           "diverging": [
            [
             0,
             "#8e0152"
            ],
            [
             0.1,
             "#c51b7d"
            ],
            [
             0.2,
             "#de77ae"
            ],
            [
             0.3,
             "#f1b6da"
            ],
            [
             0.4,
             "#fde0ef"
            ],
            [
             0.5,
             "#f7f7f7"
            ],
            [
             0.6,
             "#e6f5d0"
            ],
            [
             0.7,
             "#b8e186"
            ],
            [
             0.8,
             "#7fbc41"
            ],
            [
             0.9,
             "#4d9221"
            ],
            [
             1,
             "#276419"
            ]
           ],
           "sequential": [
            [
             0,
             "#0d0887"
            ],
            [
             0.1111111111111111,
             "#46039f"
            ],
            [
             0.2222222222222222,
             "#7201a8"
            ],
            [
             0.3333333333333333,
             "#9c179e"
            ],
            [
             0.4444444444444444,
             "#bd3786"
            ],
            [
             0.5555555555555556,
             "#d8576b"
            ],
            [
             0.6666666666666666,
             "#ed7953"
            ],
            [
             0.7777777777777778,
             "#fb9f3a"
            ],
            [
             0.8888888888888888,
             "#fdca26"
            ],
            [
             1,
             "#f0f921"
            ]
           ],
           "sequentialminus": [
            [
             0,
             "#0d0887"
            ],
            [
             0.1111111111111111,
             "#46039f"
            ],
            [
             0.2222222222222222,
             "#7201a8"
            ],
            [
             0.3333333333333333,
             "#9c179e"
            ],
            [
             0.4444444444444444,
             "#bd3786"
            ],
            [
             0.5555555555555556,
             "#d8576b"
            ],
            [
             0.6666666666666666,
             "#ed7953"
            ],
            [
             0.7777777777777778,
             "#fb9f3a"
            ],
            [
             0.8888888888888888,
             "#fdca26"
            ],
            [
             1,
             "#f0f921"
            ]
           ]
          },
          "colorway": [
           "#636efa",
           "#EF553B",
           "#00cc96",
           "#ab63fa",
           "#FFA15A",
           "#19d3f3",
           "#FF6692",
           "#B6E880",
           "#FF97FF",
           "#FECB52"
          ],
          "font": {
           "color": "#2a3f5f"
          },
          "geo": {
           "bgcolor": "white",
           "lakecolor": "white",
           "landcolor": "#E5ECF6",
           "showlakes": true,
           "showland": true,
           "subunitcolor": "white"
          },
          "hoverlabel": {
           "align": "left"
          },
          "hovermode": "closest",
          "mapbox": {
           "style": "light"
          },
          "paper_bgcolor": "white",
          "plot_bgcolor": "#E5ECF6",
          "polar": {
           "angularaxis": {
            "gridcolor": "white",
            "linecolor": "white",
            "ticks": ""
           },
           "bgcolor": "#E5ECF6",
           "radialaxis": {
            "gridcolor": "white",
            "linecolor": "white",
            "ticks": ""
           }
          },
          "scene": {
           "xaxis": {
            "backgroundcolor": "#E5ECF6",
            "gridcolor": "white",
            "gridwidth": 2,
            "linecolor": "white",
            "showbackground": true,
            "ticks": "",
            "zerolinecolor": "white"
           },
           "yaxis": {
            "backgroundcolor": "#E5ECF6",
            "gridcolor": "white",
            "gridwidth": 2,
            "linecolor": "white",
            "showbackground": true,
            "ticks": "",
            "zerolinecolor": "white"
           },
           "zaxis": {
            "backgroundcolor": "#E5ECF6",
            "gridcolor": "white",
            "gridwidth": 2,
            "linecolor": "white",
            "showbackground": true,
            "ticks": "",
            "zerolinecolor": "white"
           }
          },
          "shapedefaults": {
           "line": {
            "color": "#2a3f5f"
           }
          },
          "ternary": {
           "aaxis": {
            "gridcolor": "white",
            "linecolor": "white",
            "ticks": ""
           },
           "baxis": {
            "gridcolor": "white",
            "linecolor": "white",
            "ticks": ""
           },
           "bgcolor": "#E5ECF6",
           "caxis": {
            "gridcolor": "white",
            "linecolor": "white",
            "ticks": ""
           }
          },
          "title": {
           "x": 0.05
          },
          "xaxis": {
           "automargin": true,
           "gridcolor": "white",
           "linecolor": "white",
           "ticks": "",
           "title": {
            "standoff": 15
           },
           "zerolinecolor": "white",
           "zerolinewidth": 2
          },
          "yaxis": {
           "automargin": true,
           "gridcolor": "white",
           "linecolor": "white",
           "ticks": "",
           "title": {
            "standoff": 15
           },
           "zerolinecolor": "white",
           "zerolinewidth": 2
          }
         }
        },
        "xaxis": {
         "anchor": "y",
         "autorange": true,
         "domain": [
          0,
          1
         ],
         "range": [
          -0.5041379310344828,
          0.5
         ],
         "type": "category"
        },
        "yaxis": {
         "anchor": "x",
         "autorange": true,
         "domain": [
          0,
          1
         ],
         "range": [
          -147.55555555555557,
          2883.5555555555557
         ],
         "title": {
          "text": "NCLOC"
         },
         "type": "linear"
        }
       }
      },
      "image/png": "[encoded data removed]",
      "text/html": [
       "<div>                            <div id=\"a8159422-e0c1-4773-ba2e-da17fd44cf23\" class=\"plotly-graph-div\" style=\"height:525px; width:100%;\"></div>            <script type=\"text/javascript\">                require([\"plotly\"], function(Plotly) {                    window.PLOTLYENV=window.PLOTLYENV || {};                                    if (document.getElementById(\"a8159422-e0c1-4773-ba2e-da17fd44cf23\")) {                    Plotly.newPlot(                        \"a8159422-e0c1-4773-ba2e-da17fd44cf23\",                        [{\"alignmentgroup\":\"True\",\"boxpoints\":\"all\",\"customdata\":[[\"./src/main/java/org/jfree/chart/annotations/AbstractAnnotation.java\"],[\"./src/main/java/org/jfree/chart/annotations/AbstractXYAnnotation.java\"],[\"./src/main/java/org/jfree/chart/annotations/Annotation.java\"],[\"./src/main/java/org/jfree/chart/annotations/CategoryAnnotation.java\"],[\"./src/main/java/org/jfree/chart/annotations/CategoryLineAnnotation.java\"],[\"./src/main/java/org/jfree/chart/annotations/CategoryPointerAnnotation.java\"],[\"./src/main/java/org/jfree/chart/annotations/CategoryTextAnnotation.java\"],[\"./src/main/java/org/jfree/chart/annotations/TextAnnotation.java\"],[\"./src/main/java/org/jfree/chart/annotations/XYAnnotation.java\"],[\"./src/main/java/org/jfree/chart/annotations/XYAnnotationBoundsInfo.java\"],[\"./src/main/java/org/jfree/chart/annotations/XYBoxAnnotation.java\"],[\"./src/main/java/org/jfree/chart/annotations/XYDataImageAnnotation.java\"],[\"./src/main/java/org/jfree/chart/annotations/XYDrawableAnnotation.java\"],[\"./src/main/java/org/jfree/chart/annotations/XYImageAnnotation.java\"],[\"./src/main/java/org/jfree/chart/annotations/XYLineAnnotation.java\"],[\"./src/main/java/org/jfree/chart/annotations/XYPointerAnnotation.java\"],[\"./src/main/java/org/jfree/chart/annotations/XYPolygonAnnotation.java\"],[\"./src/main/java/org/jfree/chart/annotations/XYShapeAnnotation.java\"],[\"./src/main/java/org/jfree/chart/annotations/XYTextAnnotation.java\"],[\"./src/main/java/org/jfree/chart/annotations/XYTitleAnnotation.java\"],[\"./src/main/java/org/jfree/chart/api/HorizontalAlignment.java\"],[\"./src/main/java/org/jfree/chart/api/Layer.java\"],[\"./src/main/java/org/jfree/chart/api/LengthAdjustmentType.java\"],[\"./src/main/java/org/jfree/chart/api/PublicCloneable.java\"],[\"./src/main/java/org/jfree/chart/api/RectangleAlignment.java\"],[\"./src/main/java/org/jfree/chart/api/RectangleAnchor.java\"],[\"./src/main/java/org/jfree/chart/api/RectangleEdge.java\"],[\"./src/main/java/org/jfree/chart/api/RectangleInsets.java\"],[\"./src/main/java/org/jfree/chart/api/Rotation.java\"],[\"./src/main/java/org/jfree/chart/api/SortOrder.java\"],[\"./src/main/java/org/jfree/chart/api/TableOrder.java\"],[\"./src/main/java/org/jfree/chart/api/UnitType.java\"],[\"./src/main/java/org/jfree/chart/api/VerticalAlignment.java\"],[\"./src/main/java/org/jfree/chart/api/XYCoordinateType.java\"],[\"./src/main/java/org/jfree/chart/axis/Axis.java\"],[\"./src/main/java/org/jfree/chart/axis/AxisCollection.java\"],[\"./src/main/java/org/jfree/chart/axis/AxisLabelLocation.java\"],[\"./src/main/java/org/jfree/chart/axis/AxisLocation.java\"],[\"./src/main/java/org/jfree/chart/axis/AxisSpace.java\"],[\"./src/main/java/org/jfree/chart/axis/AxisState.java\"],[\"./src/main/java/org/jfree/chart/axis/CategoryAnchor.java\"],[\"./src/main/java/org/jfree/chart/axis/CategoryAxis.java\"],[\"./src/main/java/org/jfree/chart/axis/CategoryLabelPosition.java\"],[\"./src/main/java/org/jfree/chart/axis/CategoryLabelPositions.java\"],[\"./src/main/java/org/jfree/chart/axis/CategoryLabelWidthType.java\"],[\"./src/main/java/org/jfree/chart/axis/CategoryTick.java\"],[\"./src/main/java/org/jfree/chart/axis/CompassFormat.java\"],[\"./src/main/java/org/jfree/chart/axis/CyclicNumberAxis.java\"],[\"./src/main/java/org/jfree/chart/axis/DateAxis.java\"],[\"./src/main/java/org/jfree/chart/axis/DateTick.java\"],[\"./src/main/java/org/jfree/chart/axis/DateTickMarkPosition.java\"],[\"./src/main/java/org/jfree/chart/axis/DateTickUnit.java\"],[\"./src/main/java/org/jfree/chart/axis/DateTickUnitType.java\"],[\"./src/main/java/org/jfree/chart/axis/ExtendedCategoryAxis.java\"],[\"./src/main/java/org/jfree/chart/axis/LogarithmicAxis.java\"],[\"./src/main/java/org/jfree/chart/axis/LogAxis.java\"],[\"./src/main/java/org/jfree/chart/axis/LogTick.java\"],[\"./src/main/java/org/jfree/chart/axis/MarkerAxisBand.java\"],[\"./src/main/java/org/jfree/chart/axis/ModuloAxis.java\"],[\"./src/main/java/org/jfree/chart/axis/MonthDateFormat.java\"],[\"./src/main/java/org/jfree/chart/axis/NumberAxis.java\"],[\"./src/main/java/org/jfree/chart/axis/NumberTick.java\"],[\"./src/main/java/org/jfree/chart/axis/NumberTickUnit.java\"],[\"./src/main/java/org/jfree/chart/axis/NumberTickUnitSource.java\"],[\"./src/main/java/org/jfree/chart/axis/PeriodAxis.java\"],[\"./src/main/java/org/jfree/chart/axis/PeriodAxisLabelInfo.java\"],[\"./src/main/java/org/jfree/chart/axis/QuarterDateFormat.java\"],[\"./src/main/java/org/jfree/chart/axis/StandardTickUnitSource.java\"],[\"./src/main/java/org/jfree/chart/axis/SubCategoryAxis.java\"],[\"./src/main/java/org/jfree/chart/axis/SymbolAxis.java\"],[\"./src/main/java/org/jfree/chart/axis/Tick.java\"],[\"./src/main/java/org/jfree/chart/axis/TickType.java\"],[\"./src/main/java/org/jfree/chart/axis/TickUnit.java\"],[\"./src/main/java/org/jfree/chart/axis/TickUnits.java\"],[\"./src/main/java/org/jfree/chart/axis/TickUnitSource.java\"],[\"./src/main/java/org/jfree/chart/axis/Timeline.java\"],[\"./src/main/java/org/jfree/chart/axis/ValueAxis.java\"],[\"./src/main/java/org/jfree/chart/axis/ValueTick.java\"],[\"./src/main/java/org/jfree/chart/block/AbstractBlock.java\"],[\"./src/main/java/org/jfree/chart/block/Arrangement.java\"],[\"./src/main/java/org/jfree/chart/block/Block.java\"],[\"./src/main/java/org/jfree/chart/block/BlockBorder.java\"],[\"./src/main/java/org/jfree/chart/block/BlockContainer.java\"],[\"./src/main/java/org/jfree/chart/block/BlockFrame.java\"],[\"./src/main/java/org/jfree/chart/block/BlockParams.java\"],[\"./src/main/java/org/jfree/chart/block/BlockResult.java\"],[\"./src/main/java/org/jfree/chart/block/BorderArrangement.java\"],[\"./src/main/java/org/jfree/chart/block/CenterArrangement.java\"],[\"./src/main/java/org/jfree/chart/block/ColorBlock.java\"],[\"./src/main/java/org/jfree/chart/block/ColumnArrangement.java\"],[\"./src/main/java/org/jfree/chart/block/EmptyBlock.java\"],[\"./src/main/java/org/jfree/chart/block/EntityBlockParams.java\"],[\"./src/main/java/org/jfree/chart/block/EntityBlockResult.java\"],[\"./src/main/java/org/jfree/chart/block/FlowArrangement.java\"],[\"./src/main/java/org/jfree/chart/block/GridArrangement.java\"],[\"./src/main/java/org/jfree/chart/block/LabelBlock.java\"],[\"./src/main/java/org/jfree/chart/block/LengthConstraintType.java\"],[\"./src/main/java/org/jfree/chart/block/LineBorder.java\"],[\"./src/main/java/org/jfree/chart/block/RectangleConstraint.java\"],[\"./src/main/java/org/jfree/chart/block/Size2D.java\"],[\"./src/main/java/org/jfree/chart/ChartColor.java\"],[\"./src/main/java/org/jfree/chart/ChartElement.java\"],[\"./src/main/java/org/jfree/chart/ChartElementVisitor.java\"],[\"./src/main/java/org/jfree/chart/ChartFactory.java\"],[\"./src/main/java/org/jfree/chart/ChartHints.java\"],[\"./src/main/java/org/jfree/chart/ChartRenderingInfo.java\"],[\"./src/main/java/org/jfree/chart/ChartTheme.java\"],[\"./src/main/java/org/jfree/chart/ChartTransferable.java\"],[\"./src/main/java/org/jfree/chart/ChartUtils.java\"],[\"./src/main/java/org/jfree/chart/date/MonthConstants.java\"],[\"./src/main/java/org/jfree/chart/date/SerialDate.java\"],[\"./src/main/java/org/jfree/chart/date/SpreadsheetDate.java\"],[\"./src/main/java/org/jfree/chart/Drawable.java\"],[\"./src/main/java/org/jfree/chart/encoders/EncoderUtil.java\"],[\"./src/main/java/org/jfree/chart/encoders/ImageEncoder.java\"],[\"./src/main/java/org/jfree/chart/encoders/ImageEncoderFactory.java\"],[\"./src/main/java/org/jfree/chart/encoders/ImageFormat.java\"],[\"./src/main/java/org/jfree/chart/encoders/SunJPEGEncoderAdapter.java\"],[\"./src/main/java/org/jfree/chart/encoders/SunPNGEncoderAdapter.java\"],[\"./src/main/java/org/jfree/chart/entity/AxisEntity.java\"],[\"./src/main/java/org/jfree/chart/entity/CategoryItemEntity.java\"],[\"./src/main/java/org/jfree/chart/entity/CategoryLabelEntity.java\"],[\"./src/main/java/org/jfree/chart/entity/ChartEntity.java\"],[\"./src/main/java/org/jfree/chart/entity/EntityCollection.java\"],[\"./src/main/java/org/jfree/chart/entity/FlowEntity.java\"],[\"./src/main/java/org/jfree/chart/entity/JFreeChartEntity.java\"],[\"./src/main/java/org/jfree/chart/entity/LegendItemEntity.java\"],[\"./src/main/java/org/jfree/chart/entity/NodeEntity.java\"],[\"./src/main/java/org/jfree/chart/entity/PieSectionEntity.java\"],[\"./src/main/java/org/jfree/chart/entity/PlotEntity.java\"],[\"./src/main/java/org/jfree/chart/entity/StandardEntityCollection.java\"],[\"./src/main/java/org/jfree/chart/entity/TickLabelEntity.java\"],[\"./src/main/java/org/jfree/chart/entity/TitleEntity.java\"],[\"./src/main/java/org/jfree/chart/entity/XYAnnotationEntity.java\"],[\"./src/main/java/org/jfree/chart/entity/XYItemEntity.java\"],[\"./src/main/java/org/jfree/chart/event/AnnotationChangeEvent.java\"],[\"./src/main/java/org/jfree/chart/event/AnnotationChangeListener.java\"],[\"./src/main/java/org/jfree/chart/event/AxisChangeEvent.java\"],[\"./src/main/java/org/jfree/chart/event/AxisChangeListener.java\"],[\"./src/main/java/org/jfree/chart/event/ChartChangeEvent.java\"],[\"./src/main/java/org/jfree/chart/event/ChartChangeEventType.java\"],[\"./src/main/java/org/jfree/chart/event/ChartChangeListener.java\"],[\"./src/main/java/org/jfree/chart/event/ChartProgressEvent.java\"],[\"./src/main/java/org/jfree/chart/event/ChartProgressEventType.java\"],[\"./src/main/java/org/jfree/chart/event/ChartProgressListener.java\"],[\"./src/main/java/org/jfree/chart/event/MarkerChangeEvent.java\"],[\"./src/main/java/org/jfree/chart/event/MarkerChangeListener.java\"],[\"./src/main/java/org/jfree/chart/event/PlotChangeEvent.java\"],[\"./src/main/java/org/jfree/chart/event/PlotChangeListener.java\"],[\"./src/main/java/org/jfree/chart/event/RendererChangeEvent.java\"],[\"./src/main/java/org/jfree/chart/event/RendererChangeListener.java\"],[\"./src/main/java/org/jfree/chart/event/TitleChangeEvent.java\"],[\"./src/main/java/org/jfree/chart/event/TitleChangeListener.java\"],[\"./src/main/java/org/jfree/chart/imagemap/DynamicDriveToolTipTagFragmentGenerator.java\"],[\"./src/main/java/org/jfree/chart/imagemap/ImageMapUtils.java\"],[\"./src/main/java/org/jfree/chart/imagemap/OverLIBToolTipTagFragmentGenerator.java\"],[\"./src/main/java/org/jfree/chart/imagemap/StandardToolTipTagFragmentGenerator.java\"],[\"./src/main/java/org/jfree/chart/imagemap/StandardURLTagFragmentGenerator.java\"],[\"./src/main/java/org/jfree/chart/imagemap/ToolTipTagFragmentGenerator.java\"],[\"./src/main/java/org/jfree/chart/imagemap/URLTagFragmentGenerator.java\"],[\"./src/main/java/org/jfree/chart/internal/Args.java\"],[\"./src/main/java/org/jfree/chart/internal/ArrayUtils.java\"],[\"./src/main/java/org/jfree/chart/internal/CloneUtils.java\"],[\"./src/main/java/org/jfree/chart/internal/HashUtils.java\"],[\"./src/main/java/org/jfree/chart/internal/LineUtils.java\"],[\"./src/main/java/org/jfree/chart/internal/PaintUtils.java\"],[\"./src/main/java/org/jfree/chart/internal/SerialUtils.java\"],[\"./src/main/java/org/jfree/chart/internal/ShapeUtils.java\"],[\"./src/main/java/org/jfree/chart/JFreeChart.java\"],[\"./src/main/java/org/jfree/chart/labels/AbstractCategoryItemLabelGenerator.java\"],[\"./src/main/java/org/jfree/chart/labels/AbstractPieItemLabelGenerator.java\"],[\"./src/main/java/org/jfree/chart/labels/AbstractXYItemLabelGenerator.java\"],[\"./src/main/java/org/jfree/chart/labels/BoxAndWhiskerToolTipGenerator.java\"],[\"./src/main/java/org/jfree/chart/labels/BoxAndWhiskerXYToolTipGenerator.java\"],[\"./src/main/java/org/jfree/chart/labels/BubbleXYItemLabelGenerator.java\"],[\"./src/main/java/org/jfree/chart/labels/CategoryItemLabelGenerator.java\"],[\"./src/main/java/org/jfree/chart/labels/CategorySeriesLabelGenerator.java\"],[\"./src/main/java/org/jfree/chart/labels/CategoryToolTipGenerator.java\"],[\"./src/main/java/org/jfree/chart/labels/CrosshairLabelGenerator.java\"],[\"./src/main/java/org/jfree/chart/labels/CustomXYToolTipGenerator.java\"],[\"./src/main/java/org/jfree/chart/labels/FlowLabelGenerator.java\"],[\"./src/main/java/org/jfree/chart/labels/HighLowItemLabelGenerator.java\"],[\"./src/main/java/org/jfree/chart/labels/IntervalCategoryItemLabelGenerator.java\"],[\"./src/main/java/org/jfree/chart/labels/IntervalCategoryToolTipGenerator.java\"],[\"./src/main/java/org/jfree/chart/labels/IntervalXYItemLabelGenerator.java\"],[\"./src/main/java/org/jfree/chart/labels/IntervalXYToolTipGenerator.java\"],[\"./src/main/java/org/jfree/chart/labels/ItemLabelAnchor.java\"],[\"./src/main/java/org/jfree/chart/labels/ItemLabelPosition.java\"],[\"./src/main/java/org/jfree/chart/labels/MultipleXYSeriesLabelGenerator.java\"],[\"./src/main/java/org/jfree/chart/labels/PieSectionLabelGenerator.java\"],[\"./src/main/java/org/jfree/chart/labels/PieToolTipGenerator.java\"],[\"./src/main/java/org/jfree/chart/labels/StandardCategoryItemLabelGenerator.java\"],[\"./src/main/java/org/jfree/chart/labels/StandardCategorySeriesLabelGenerator.java\"],[\"./src/main/java/org/jfree/chart/labels/StandardCategoryToolTipGenerator.java\"],[\"./src/main/java/org/jfree/chart/labels/StandardCrosshairLabelGenerator.java\"],[\"./src/main/java/org/jfree/chart/labels/StandardFlowLabelGenerator.java\"],[\"./src/main/java/org/jfree/chart/labels/StandardPieSectionLabelGenerator.java\"],[\"./src/main/java/org/jfree/chart/labels/StandardPieToolTipGenerator.java\"],[\"./src/main/java/org/jfree/chart/labels/StandardXYItemLabelGenerator.java\"],[\"./src/main/java/org/jfree/chart/labels/StandardXYSeriesLabelGenerator.java\"],[\"./src/main/java/org/jfree/chart/labels/StandardXYToolTipGenerator.java\"],[\"./src/main/java/org/jfree/chart/labels/StandardXYZToolTipGenerator.java\"],[\"./src/main/java/org/jfree/chart/labels/SymbolicXYItemLabelGenerator.java\"],[\"./src/main/java/org/jfree/chart/labels/XYItemLabelGenerator.java\"],[\"./src/main/java/org/jfree/chart/labels/XYSeriesLabelGenerator.java\"],[\"./src/main/java/org/jfree/chart/labels/XYToolTipGenerator.java\"],[\"./src/main/java/org/jfree/chart/labels/XYZToolTipGenerator.java\"],[\"./src/main/java/org/jfree/chart/legend/LegendGraphic.java\"],[\"./src/main/java/org/jfree/chart/legend/LegendItem.java\"],[\"./src/main/java/org/jfree/chart/legend/LegendItemBlockContainer.java\"],[\"./src/main/java/org/jfree/chart/legend/LegendItemCollection.java\"],[\"./src/main/java/org/jfree/chart/legend/LegendItemSource.java\"],[\"./src/main/java/org/jfree/chart/legend/LegendRenderingOrder.java\"],[\"./src/main/java/org/jfree/chart/legend/LegendTitle.java\"],[\"./src/main/java/org/jfree/chart/legend/PaintScaleLegend.java\"],[\"./src/main/java/org/jfree/chart/plot/CategoryCrosshairState.java\"],[\"./src/main/java/org/jfree/chart/plot/CategoryMarker.java\"],[\"./src/main/java/org/jfree/chart/plot/CategoryPlot.java\"],[\"./src/main/java/org/jfree/chart/plot/CenterTextMode.java\"],[\"./src/main/java/org/jfree/chart/plot/CombinedDomainCategoryPlot.java\"],[\"./src/main/java/org/jfree/chart/plot/CombinedDomainXYPlot.java\"],[\"./src/main/java/org/jfree/chart/plot/CombinedRangeCategoryPlot.java\"],[\"./src/main/java/org/jfree/chart/plot/CombinedRangeXYPlot.java\"],[\"./src/main/java/org/jfree/chart/plot/compass/ArrowNeedle.java\"],[\"./src/main/java/org/jfree/chart/plot/compass/CompassPlot.java\"],[\"./src/main/java/org/jfree/chart/plot/compass/LineNeedle.java\"],[\"./src/main/java/org/jfree/chart/plot/compass/LongNeedle.java\"],[\"./src/main/java/org/jfree/chart/plot/compass/MeterNeedle.java\"],[\"./src/main/java/org/jfree/chart/plot/compass/MiddlePinNeedle.java\"],[\"./src/main/java/org/jfree/chart/plot/compass/PinNeedle.java\"],[\"./src/main/java/org/jfree/chart/plot/compass/PlumNeedle.java\"],[\"./src/main/java/org/jfree/chart/plot/compass/PointerNeedle.java\"],[\"./src/main/java/org/jfree/chart/plot/compass/ShipNeedle.java\"],[\"./src/main/java/org/jfree/chart/plot/compass/WindNeedle.java\"],[\"./src/main/java/org/jfree/chart/plot/Crosshair.java\"],[\"./src/main/java/org/jfree/chart/plot/CrosshairState.java\"],[\"./src/main/java/org/jfree/chart/plot/DatasetRenderingOrder.java\"],[\"./src/main/java/org/jfree/chart/plot/DefaultDrawingSupplier.java\"],[\"./src/main/java/org/jfree/chart/plot/dial/AbstractDialLayer.java\"],[\"./src/main/java/org/jfree/chart/plot/dial/ArcDialFrame.java\"],[\"./src/main/java/org/jfree/chart/plot/dial/DialBackground.java\"],[\"./src/main/java/org/jfree/chart/plot/dial/DialCap.java\"],[\"./src/main/java/org/jfree/chart/plot/dial/DialFrame.java\"],[\"./src/main/java/org/jfree/chart/plot/dial/DialLayer.java\"],[\"./src/main/java/org/jfree/chart/plot/dial/DialLayerChangeEvent.java\"],[\"./src/main/java/org/jfree/chart/plot/dial/DialLayerChangeListener.java\"],[\"./src/main/java/org/jfree/chart/plot/dial/DialPlot.java\"],[\"./src/main/java/org/jfree/chart/plot/dial/DialPointer.java\"],[\"./src/main/java/org/jfree/chart/plot/dial/DialScale.java\"],[\"./src/main/java/org/jfree/chart/plot/dial/DialTextAnnotation.java\"],[\"./src/main/java/org/jfree/chart/plot/dial/DialValueIndicator.java\"],[\"./src/main/java/org/jfree/chart/plot/dial/StandardDialFrame.java\"],[\"./src/main/java/org/jfree/chart/plot/dial/StandardDialRange.java\"],[\"./src/main/java/org/jfree/chart/plot/dial/StandardDialScale.java\"],[\"./src/main/java/org/jfree/chart/plot/DialShape.java\"],[\"./src/main/java/org/jfree/chart/plot/DrawingSupplier.java\"],[\"./src/main/java/org/jfree/chart/plot/FastScatterPlot.java\"],[\"./src/main/java/org/jfree/chart/plot/flow/FlowPlot.java\"],[\"./src/main/java/org/jfree/chart/plot/IntervalMarker.java\"],[\"./src/main/java/org/jfree/chart/plot/Marker.java\"],[\"./src/main/java/org/jfree/chart/plot/MeterInterval.java\"],[\"./src/main/java/org/jfree/chart/plot/MeterPlot.java\"],[\"./src/main/java/org/jfree/chart/plot/Pannable.java\"],[\"./src/main/java/org/jfree/chart/plot/pie/AbstractPieLabelDistributor.java\"],[\"./src/main/java/org/jfree/chart/plot/pie/MultiplePiePlot.java\"],[\"./src/main/java/org/jfree/chart/plot/pie/PieLabelDistributor.java\"],[\"./src/main/java/org/jfree/chart/plot/pie/PieLabelLinkStyle.java\"],[\"./src/main/java/org/jfree/chart/plot/pie/PieLabelRecord.java\"],[\"./src/main/java/org/jfree/chart/plot/pie/PiePlot.java\"],[\"./src/main/java/org/jfree/chart/plot/pie/PiePlotState.java\"],[\"./src/main/java/org/jfree/chart/plot/Plot.java\"],[\"./src/main/java/org/jfree/chart/plot/PlotOrientation.java\"],[\"./src/main/java/org/jfree/chart/plot/PlotRenderingInfo.java\"],[\"./src/main/java/org/jfree/chart/plot/PlotState.java\"],[\"./src/main/java/org/jfree/chart/plot/PolarAxisLocation.java\"],[\"./src/main/java/org/jfree/chart/plot/PolarPlot.java\"],[\"./src/main/java/org/jfree/chart/plot/RingPlot.java\"],[\"./src/main/java/org/jfree/chart/plot/SeriesRenderingOrder.java\"],[\"./src/main/java/org/jfree/chart/plot/SpiderWebPlot.java\"],[\"./src/main/java/org/jfree/chart/plot/ThermometerPlot.java\"],[\"./src/main/java/org/jfree/chart/plot/ValueAxisPlot.java\"],[\"./src/main/java/org/jfree/chart/plot/ValueMarker.java\"],[\"./src/main/java/org/jfree/chart/plot/WaferMapPlot.java\"],[\"./src/main/java/org/jfree/chart/plot/XYCrosshairState.java\"],[\"./src/main/java/org/jfree/chart/plot/XYPlot.java\"],[\"./src/main/java/org/jfree/chart/plot/Zoomable.java\"],[\"./src/main/java/org/jfree/chart/renderer/AbstractRenderer.java\"],[\"./src/main/java/org/jfree/chart/renderer/AreaRendererEndType.java\"],[\"./src/main/java/org/jfree/chart/renderer/category/AbstractCategoryItemRenderer.java\"],[\"./src/main/java/org/jfree/chart/renderer/category/AreaRenderer.java\"],[\"./src/main/java/org/jfree/chart/renderer/category/BarPainter.java\"],[\"./src/main/java/org/jfree/chart/renderer/category/BarRenderer.java\"],[\"./src/main/java/org/jfree/chart/renderer/category/BoxAndWhiskerRenderer.java\"],[\"./src/main/java/org/jfree/chart/renderer/category/CategoryItemRenderer.java\"],[\"./src/main/java/org/jfree/chart/renderer/category/CategoryItemRendererState.java\"],[\"./src/main/java/org/jfree/chart/renderer/category/CategoryStepRenderer.java\"],[\"./src/main/java/org/jfree/chart/renderer/category/DefaultCategoryItemRenderer.java\"],[\"./src/main/java/org/jfree/chart/renderer/category/GanttRenderer.java\"],[\"./src/main/java/org/jfree/chart/renderer/category/GradientBarPainter.java\"],[\"./src/main/java/org/jfree/chart/renderer/category/GroupedStackedBarRenderer.java\"],[\"./src/main/java/org/jfree/chart/renderer/category/IntervalBarRenderer.java\"],[\"./src/main/java/org/jfree/chart/renderer/category/LayeredBarRenderer.java\"],[\"./src/main/java/org/jfree/chart/renderer/category/LevelRenderer.java\"],[\"./src/main/java/org/jfree/chart/renderer/category/LineAndShapeRenderer.java\"],[\"./src/main/java/org/jfree/chart/renderer/category/MinMaxCategoryRenderer.java\"],[\"./src/main/java/org/jfree/chart/renderer/category/ScatterRenderer.java\"],[\"./src/main/java/org/jfree/chart/renderer/category/StackedAreaRenderer.java\"],[\"./src/main/java/org/jfree/chart/renderer/category/StackedBarRenderer.java\"],[\"./src/main/java/org/jfree/chart/renderer/category/StandardBarPainter.java\"],[\"./src/main/java/org/jfree/chart/renderer/category/StatisticalBarRenderer.java\"],[\"./src/main/java/org/jfree/chart/renderer/category/StatisticalLineAndShapeRenderer.java\"],[\"./src/main/java/org/jfree/chart/renderer/category/WaterfallBarRenderer.java\"],[\"./src/main/java/org/jfree/chart/renderer/DefaultPolarItemRenderer.java\"],[\"./src/main/java/org/jfree/chart/renderer/GrayPaintScale.java\"],[\"./src/main/java/org/jfree/chart/renderer/LookupPaintScale.java\"],[\"./src/main/java/org/jfree/chart/renderer/NotOutlierException.java\"],[\"./src/main/java/org/jfree/chart/renderer/Outlier.java\"],[\"./src/main/java/org/jfree/chart/renderer/OutlierList.java\"],[\"./src/main/java/org/jfree/chart/renderer/OutlierListCollection.java\"],[\"./src/main/java/org/jfree/chart/renderer/PaintScale.java\"],[\"./src/main/java/org/jfree/chart/renderer/PolarItemRenderer.java\"],[\"./src/main/java/org/jfree/chart/renderer/RendererState.java\"],[\"./src/main/java/org/jfree/chart/renderer/RendererUtils.java\"],[\"./src/main/java/org/jfree/chart/renderer/WaferMapRenderer.java\"],[\"./src/main/java/org/jfree/chart/renderer/xy/AbstractXYItemRenderer.java\"],[\"./src/main/java/org/jfree/chart/renderer/xy/CandlestickRenderer.java\"],[\"./src/main/java/org/jfree/chart/renderer/xy/ClusteredXYBarRenderer.java\"],[\"./src/main/java/org/jfree/chart/renderer/xy/CyclicXYItemRenderer.java\"],[\"./src/main/java/org/jfree/chart/renderer/xy/DefaultXYItemRenderer.java\"],[\"./src/main/java/org/jfree/chart/renderer/xy/DeviationRenderer.java\"],[\"./src/main/java/org/jfree/chart/renderer/xy/DeviationStepRenderer.java\"],[\"./src/main/java/org/jfree/chart/renderer/xy/GradientXYBarPainter.java\"],[\"./src/main/java/org/jfree/chart/renderer/xy/HighLowRenderer.java\"],[\"./src/main/java/org/jfree/chart/renderer/xy/SamplingXYLineRenderer.java\"],[\"./src/main/java/org/jfree/chart/renderer/xy/StackedXYAreaRenderer.java\"],[\"./src/main/java/org/jfree/chart/renderer/xy/StackedXYAreaRenderer2.java\"],[\"./src/main/java/org/jfree/chart/renderer/xy/StackedXYBarRenderer.java\"],[\"./src/main/java/org/jfree/chart/renderer/xy/StandardXYBarPainter.java\"],[\"./src/main/java/org/jfree/chart/renderer/xy/StandardXYItemRenderer.java\"],[\"./src/main/java/org/jfree/chart/renderer/xy/VectorRenderer.java\"],[\"./src/main/java/org/jfree/chart/renderer/xy/WindItemRenderer.java\"],[\"./src/main/java/org/jfree/chart/renderer/xy/XYAreaRenderer.java\"],[\"./src/main/java/org/jfree/chart/renderer/xy/XYAreaRenderer2.java\"],[\"./src/main/java/org/jfree/chart/renderer/xy/XYBarPainter.java\"],[\"./src/main/java/org/jfree/chart/renderer/xy/XYBarRenderer.java\"],[\"./src/main/java/org/jfree/chart/renderer/xy/XYBlockRenderer.java\"],[\"./src/main/java/org/jfree/chart/renderer/xy/XYBoxAndWhiskerRenderer.java\"],[\"./src/main/java/org/jfree/chart/renderer/xy/XYBubbleRenderer.java\"],[\"./src/main/java/org/jfree/chart/renderer/xy/XYDifferenceRenderer.java\"],[\"./src/main/java/org/jfree/chart/renderer/xy/XYDotRenderer.java\"],[\"./src/main/java/org/jfree/chart/renderer/xy/XYErrorRenderer.java\"],[\"./src/main/java/org/jfree/chart/renderer/xy/XYItemRenderer.java\"],[\"./src/main/java/org/jfree/chart/renderer/xy/XYItemRendererState.java\"],[\"./src/main/java/org/jfree/chart/renderer/xy/XYLineAndShapeRenderer.java\"],[\"./src/main/java/org/jfree/chart/renderer/xy/XYShapeRenderer.java\"],[\"./src/main/java/org/jfree/chart/renderer/xy/XYSplineRenderer.java\"],[\"./src/main/java/org/jfree/chart/renderer/xy/XYStepAreaRenderer.java\"],[\"./src/main/java/org/jfree/chart/renderer/xy/XYStepRenderer.java\"],[\"./src/main/java/org/jfree/chart/renderer/xy/YIntervalRenderer.java\"],[\"./src/main/java/org/jfree/chart/StandardChartTheme.java\"],[\"./src/main/java/org/jfree/chart/swing/AbstractOverlay.java\"],[\"./src/main/java/org/jfree/chart/swing/ApplicationFrame.java\"],[\"./src/main/java/org/jfree/chart/swing/ChartFrame.java\"],[\"./src/main/java/org/jfree/chart/swing/ChartMouseEvent.java\"],[\"./src/main/java/org/jfree/chart/swing/ChartMouseListener.java\"],[\"./src/main/java/org/jfree/chart/swing/ChartPanel.java\"],[\"./src/main/java/org/jfree/chart/swing/CrosshairOverlay.java\"],[\"./src/main/java/org/jfree/chart/swing/DefaultSelectionZoomStrategy.java\"],[\"./src/main/java/org/jfree/chart/swing/editor/ChartEditor.java\"],[\"./src/main/java/org/jfree/chart/swing/editor/ChartEditorFactory.java\"],[\"./src/main/java/org/jfree/chart/swing/editor/ChartEditorManager.java\"],[\"./src/main/java/org/jfree/chart/swing/editor/DefaultAxisEditor.java\"],[\"./src/main/java/org/jfree/chart/swing/editor/DefaultChartEditor.java\"],[\"./src/main/java/org/jfree/chart/swing/editor/DefaultChartEditorFactory.java\"],[\"./src/main/java/org/jfree/chart/swing/editor/DefaultLogAxisEditor.java\"],[\"./src/main/java/org/jfree/chart/swing/editor/DefaultNumberAxisEditor.java\"],[\"./src/main/java/org/jfree/chart/swing/editor/DefaultPlotEditor.java\"],[\"./src/main/java/org/jfree/chart/swing/editor/DefaultPolarPlotEditor.java\"],[\"./src/main/java/org/jfree/chart/swing/editor/DefaultTitleEditor.java\"],[\"./src/main/java/org/jfree/chart/swing/editor/DefaultValueAxisEditor.java\"],[\"./src/main/java/org/jfree/chart/swing/editor/FontChooserPanel.java\"],[\"./src/main/java/org/jfree/chart/swing/editor/FontDisplayField.java\"],[\"./src/main/java/org/jfree/chart/swing/editor/LCBLayout.java\"],[\"./src/main/java/org/jfree/chart/swing/editor/PaintSample.java\"],[\"./src/main/java/org/jfree/chart/swing/editor/StrokeChooserPanel.java\"],[\"./src/main/java/org/jfree/chart/swing/editor/StrokeSample.java\"],[\"./src/main/java/org/jfree/chart/swing/MouseWheelHandler.java\"],[\"./src/main/java/org/jfree/chart/swing/NumberCellRenderer.java\"],[\"./src/main/java/org/jfree/chart/swing/Overlay.java\"],[\"./src/main/java/org/jfree/chart/swing/OverlayChangeEvent.java\"],[\"./src/main/java/org/jfree/chart/swing/OverlayChangeListener.java\"],[\"./src/main/java/org/jfree/chart/swing/PolarChartPanel.java\"],[\"./src/main/java/org/jfree/chart/swing/SelectionZoomStrategy.java\"],[\"./src/main/java/org/jfree/chart/swing/UIUtils.java\"],[\"./src/main/java/org/jfree/chart/text/AttributedStringUtils.java\"],[\"./src/main/java/org/jfree/chart/text/format/HexNumberFormat.java\"],[\"./src/main/java/org/jfree/chart/text/format/HMSNumberFormat.java\"],[\"./src/main/java/org/jfree/chart/text/format/LogFormat.java\"],[\"./src/main/java/org/jfree/chart/text/format/RelativeDateFormat.java\"],[\"./src/main/java/org/jfree/chart/text/G2TextMeasurer.java\"],[\"./src/main/java/org/jfree/chart/text/TextAnchor.java\"],[\"./src/main/java/org/jfree/chart/text/TextBlock.java\"],[\"./src/main/java/org/jfree/chart/text/TextBlockAnchor.java\"],[\"./src/main/java/org/jfree/chart/text/TextBox.java\"],[\"./src/main/java/org/jfree/chart/text/TextFragment.java\"],[\"./src/main/java/org/jfree/chart/text/TextLine.java\"],[\"./src/main/java/org/jfree/chart/text/TextMeasurer.java\"],[\"./src/main/java/org/jfree/chart/text/TextUtils.java\"],[\"./src/main/java/org/jfree/chart/title/CompositeTitle.java\"],[\"./src/main/java/org/jfree/chart/title/DateTitle.java\"],[\"./src/main/java/org/jfree/chart/title/ImageTitle.java\"],[\"./src/main/java/org/jfree/chart/title/ShortTextTitle.java\"],[\"./src/main/java/org/jfree/chart/title/TextTitle.java\"],[\"./src/main/java/org/jfree/chart/title/Title.java\"],[\"./src/main/java/org/jfree/chart/urls/CategoryURLGenerator.java\"],[\"./src/main/java/org/jfree/chart/urls/CustomCategoryURLGenerator.java\"],[\"./src/main/java/org/jfree/chart/urls/CustomPieURLGenerator.java\"],[\"./src/main/java/org/jfree/chart/urls/CustomXYURLGenerator.java\"],[\"./src/main/java/org/jfree/chart/urls/PieURLGenerator.java\"],[\"./src/main/java/org/jfree/chart/urls/StandardCategoryURLGenerator.java\"],[\"./src/main/java/org/jfree/chart/urls/StandardPieURLGenerator.java\"],[\"./src/main/java/org/jfree/chart/urls/StandardXYURLGenerator.java\"],[\"./src/main/java/org/jfree/chart/urls/StandardXYZURLGenerator.java\"],[\"./src/main/java/org/jfree/chart/urls/TimeSeriesURLGenerator.java\"],[\"./src/main/java/org/jfree/chart/urls/XYURLGenerator.java\"],[\"./src/main/java/org/jfree/chart/urls/XYZURLGenerator.java\"],[\"./src/main/java/org/jfree/chart/util/AttrStringUtils.java\"],[\"./src/main/java/org/jfree/chart/util/DefaultShadowGenerator.java\"],[\"./src/main/java/org/jfree/chart/util/DirectionalGradientPaintTransformer.java\"],[\"./src/main/java/org/jfree/chart/util/ExportUtils.java\"],[\"./src/main/java/org/jfree/chart/util/GradientPaintTransformer.java\"],[\"./src/main/java/org/jfree/chart/util/GradientPaintTransformType.java\"],[\"./src/main/java/org/jfree/chart/util/PaintAlpha.java\"],[\"./src/main/java/org/jfree/chart/util/ShadowGenerator.java\"],[\"./src/main/java/org/jfree/chart/util/StandardGradientPaintTransformer.java\"],[\"./src/main/java/org/jfree/chart/util/StringUtils.java\"],[\"./src/main/java/org/jfree/data/category/CategoryDataset.java\"],[\"./src/main/java/org/jfree/data/category/CategoryRangeInfo.java\"],[\"./src/main/java/org/jfree/data/category/CategoryToPieDataset.java\"],[\"./src/main/java/org/jfree/data/category/DefaultCategoryDataset.java\"],[\"./src/main/java/org/jfree/data/category/DefaultIntervalCategoryDataset.java\"],[\"./src/main/java/org/jfree/data/category/IntervalCategoryDataset.java\"],[\"./src/main/java/org/jfree/data/category/SlidingCategoryDataset.java\"],[\"./src/main/java/org/jfree/data/ComparableObjectItem.java\"],[\"./src/main/java/org/jfree/data/ComparableObjectSeries.java\"],[\"./src/main/java/org/jfree/data/DataUtils.java\"],[\"./src/main/java/org/jfree/data/DefaultKeyedValue.java\"],[\"./src/main/java/org/jfree/data/DefaultKeyedValues.java\"],[\"./src/main/java/org/jfree/data/DefaultKeyedValues2D.java\"],[\"./src/main/java/org/jfree/data/DomainInfo.java\"],[\"./src/main/java/org/jfree/data/DomainOrder.java\"],[\"./src/main/java/org/jfree/data/flow/DefaultFlowDataset.java\"],[\"./src/main/java/org/jfree/data/flow/FlowDataset.java\"],[\"./src/main/java/org/jfree/data/flow/FlowDatasetUtils.java\"],[\"./src/main/java/org/jfree/data/flow/FlowKey.java\"],[\"./src/main/java/org/jfree/data/flow/NodeKey.java\"],[\"./src/main/java/org/jfree/data/function/Function2D.java\"],[\"./src/main/java/org/jfree/data/function/LineFunction2D.java\"],[\"./src/main/java/org/jfree/data/function/NormalDistributionFunction2D.java\"],[\"./src/main/java/org/jfree/data/function/PolynomialFunction2D.java\"],[\"./src/main/java/org/jfree/data/function/PowerFunction2D.java\"],[\"./src/main/java/org/jfree/data/gantt/GanttCategoryDataset.java\"],[\"./src/main/java/org/jfree/data/gantt/SlidingGanttCategoryDataset.java\"],[\"./src/main/java/org/jfree/data/gantt/Task.java\"],[\"./src/main/java/org/jfree/data/gantt/TaskSeries.java\"],[\"./src/main/java/org/jfree/data/gantt/TaskSeriesCollection.java\"],[\"./src/main/java/org/jfree/data/gantt/XYTaskDataset.java\"],[\"./src/main/java/org/jfree/data/general/AbstractDataset.java\"],[\"./src/main/java/org/jfree/data/general/AbstractSeriesDataset.java\"],[\"./src/main/java/org/jfree/data/general/Dataset.java\"],[\"./src/main/java/org/jfree/data/general/DatasetChangeEvent.java\"],[\"./src/main/java/org/jfree/data/general/DatasetChangeListener.java\"],[\"./src/main/java/org/jfree/data/general/DatasetUtils.java\"],[\"./src/main/java/org/jfree/data/general/DefaultHeatMapDataset.java\"],[\"./src/main/java/org/jfree/data/general/DefaultKeyedValueDataset.java\"],[\"./src/main/java/org/jfree/data/general/DefaultKeyedValues2DDataset.java\"],[\"./src/main/java/org/jfree/data/general/DefaultKeyedValuesDataset.java\"],[\"./src/main/java/org/jfree/data/general/DefaultPieDataset.java\"],[\"./src/main/java/org/jfree/data/general/DefaultValueDataset.java\"],[\"./src/main/java/org/jfree/data/general/HeatMapDataset.java\"],[\"./src/main/java/org/jfree/data/general/HeatMapUtils.java\"],[\"./src/main/java/org/jfree/data/general/KeyedValueDataset.java\"],[\"./src/main/java/org/jfree/data/general/KeyedValues2DDataset.java\"],[\"./src/main/java/org/jfree/data/general/KeyedValuesDataset.java\"],[\"./src/main/java/org/jfree/data/general/PieDataset.java\"],[\"./src/main/java/org/jfree/data/general/Series.java\"],[\"./src/main/java/org/jfree/data/general/SeriesChangeEvent.java\"],[\"./src/main/java/org/jfree/data/general/SeriesChangeListener.java\"],[\"./src/main/java/org/jfree/data/general/SeriesDataset.java\"],[\"./src/main/java/org/jfree/data/general/SeriesException.java\"],[\"./src/main/java/org/jfree/data/general/ValueDataset.java\"],[\"./src/main/java/org/jfree/data/general/WaferMapDataset.java\"],[\"./src/main/java/org/jfree/data/io/CSV.java\"],[\"./src/main/java/org/jfree/data/ItemKey.java\"],[\"./src/main/java/org/jfree/data/json/impl/JSONArray.java\"],[\"./src/main/java/org/jfree/data/json/impl/JSONAware.java\"],[\"./src/main/java/org/jfree/data/json/impl/JSONObject.java\"],[\"./src/main/java/org/jfree/data/json/impl/JSONStreamAware.java\"],[\"./src/main/java/org/jfree/data/json/impl/JSONValue.java\"],[\"./src/main/java/org/jfree/data/json/JSONUtils.java\"],[\"./src/main/java/org/jfree/data/KeyedObject.java\"],[\"./src/main/java/org/jfree/data/KeyedObjects.java\"],[\"./src/main/java/org/jfree/data/KeyedObjects2D.java\"],[\"./src/main/java/org/jfree/data/KeyedValue.java\"],[\"./src/main/java/org/jfree/data/KeyedValueComparator.java\"],[\"./src/main/java/org/jfree/data/KeyedValueComparatorType.java\"],[\"./src/main/java/org/jfree/data/KeyedValues.java\"],[\"./src/main/java/org/jfree/data/KeyedValues2D.java\"],[\"./src/main/java/org/jfree/data/KeyedValues2DItemKey.java\"],[\"./src/main/java/org/jfree/data/KeyedValuesItemKey.java\"],[\"./src/main/java/org/jfree/data/KeyToGroupMap.java\"],[\"./src/main/java/org/jfree/data/Range.java\"],[\"./src/main/java/org/jfree/data/RangeInfo.java\"],[\"./src/main/java/org/jfree/data/RangeType.java\"],[\"./src/main/java/org/jfree/data/resources/DataPackageResources.java\"],[\"./src/main/java/org/jfree/data/resources/DataPackageResources_de.java\"],[\"./src/main/java/org/jfree/data/resources/DataPackageResources_es.java\"],[\"./src/main/java/org/jfree/data/resources/DataPackageResources_fr.java\"],[\"./src/main/java/org/jfree/data/resources/DataPackageResources_pl.java\"],[\"./src/main/java/org/jfree/data/resources/DataPackageResources_ru.java\"],[\"./src/main/java/org/jfree/data/statistics/BoxAndWhiskerCalculator.java\"],[\"./src/main/java/org/jfree/data/statistics/BoxAndWhiskerCategoryDataset.java\"],[\"./src/main/java/org/jfree/data/statistics/BoxAndWhiskerItem.java\"],[\"./src/main/java/org/jfree/data/statistics/BoxAndWhiskerXYDataset.java\"],[\"./src/main/java/org/jfree/data/statistics/DefaultBoxAndWhiskerCategoryDataset.java\"],[\"./src/main/java/org/jfree/data/statistics/DefaultBoxAndWhiskerXYDataset.java\"],[\"./src/main/java/org/jfree/data/statistics/DefaultMultiValueCategoryDataset.java\"],[\"./src/main/java/org/jfree/data/statistics/DefaultStatisticalCategoryDataset.java\"],[\"./src/main/java/org/jfree/data/statistics/HistogramBin.java\"],[\"./src/main/java/org/jfree/data/statistics/HistogramDataset.java\"],[\"./src/main/java/org/jfree/data/statistics/HistogramType.java\"],[\"./src/main/java/org/jfree/data/statistics/MeanAndStandardDeviation.java\"],[\"./src/main/java/org/jfree/data/statistics/MultiValueCategoryDataset.java\"],[\"./src/main/java/org/jfree/data/statistics/Regression.java\"],[\"./src/main/java/org/jfree/data/statistics/SimpleHistogramBin.java\"],[\"./src/main/java/org/jfree/data/statistics/SimpleHistogramDataset.java\"],[\"./src/main/java/org/jfree/data/statistics/StatisticalCategoryDataset.java\"],[\"./src/main/java/org/jfree/data/statistics/Statistics.java\"],[\"./src/main/java/org/jfree/data/time/DateRange.java\"],[\"./src/main/java/org/jfree/data/time/Day.java\"],[\"./src/main/java/org/jfree/data/time/DynamicTimeSeriesCollection.java\"],[\"./src/main/java/org/jfree/data/time/FixedMillisecond.java\"],[\"./src/main/java/org/jfree/data/time/Hour.java\"],[\"./src/main/java/org/jfree/data/time/Millisecond.java\"],[\"./src/main/java/org/jfree/data/time/Minute.java\"],[\"./src/main/java/org/jfree/data/time/Month.java\"],[\"./src/main/java/org/jfree/data/time/MovingAverage.java\"],[\"./src/main/java/org/jfree/data/time/ohlc/OHLC.java\"],[\"./src/main/java/org/jfree/data/time/ohlc/OHLCItem.java\"],[\"./src/main/java/org/jfree/data/time/ohlc/OHLCSeries.java\"],[\"./src/main/java/org/jfree/data/time/ohlc/OHLCSeriesCollection.java\"],[\"./src/main/java/org/jfree/data/time/Quarter.java\"],[\"./src/main/java/org/jfree/data/time/RegularTimePeriod.java\"],[\"./src/main/java/org/jfree/data/time/Second.java\"],[\"./src/main/java/org/jfree/data/time/SimpleTimePeriod.java\"],[\"./src/main/java/org/jfree/data/time/TimePeriod.java\"],[\"./src/main/java/org/jfree/data/time/TimePeriodAnchor.java\"],[\"./src/main/java/org/jfree/data/time/TimePeriodFormatException.java\"],[\"./src/main/java/org/jfree/data/time/TimePeriodValue.java\"],[\"./src/main/java/org/jfree/data/time/TimePeriodValues.java\"],[\"./src/main/java/org/jfree/data/time/TimePeriodValuesCollection.java\"],[\"./src/main/java/org/jfree/data/time/TimeSeries.java\"],[\"./src/main/java/org/jfree/data/time/TimeSeriesCollection.java\"],[\"./src/main/java/org/jfree/data/time/TimeSeriesDataItem.java\"],[\"./src/main/java/org/jfree/data/time/TimeSeriesTableModel.java\"],[\"./src/main/java/org/jfree/data/time/TimeTableXYDataset.java\"],[\"./src/main/java/org/jfree/data/time/Week.java\"],[\"./src/main/java/org/jfree/data/time/Year.java\"],[\"./src/main/java/org/jfree/data/UnknownKeyException.java\"],[\"./src/main/java/org/jfree/data/Value.java\"],[\"./src/main/java/org/jfree/data/Values.java\"],[\"./src/main/java/org/jfree/data/Values2D.java\"],[\"./src/main/java/org/jfree/data/xml/CategoryDatasetHandler.java\"],[\"./src/main/java/org/jfree/data/xml/CategorySeriesHandler.java\"],[\"./src/main/java/org/jfree/data/xml/DatasetReader.java\"],[\"./src/main/java/org/jfree/data/xml/DatasetTags.java\"],[\"./src/main/java/org/jfree/data/xml/ItemHandler.java\"],[\"./src/main/java/org/jfree/data/xml/KeyHandler.java\"],[\"./src/main/java/org/jfree/data/xml/PieDatasetHandler.java\"],[\"./src/main/java/org/jfree/data/xml/RootHandler.java\"],[\"./src/main/java/org/jfree/data/xml/ValueHandler.java\"],[\"./src/main/java/org/jfree/data/xy/AbstractIntervalXYDataset.java\"],[\"./src/main/java/org/jfree/data/xy/AbstractXYDataset.java\"],[\"./src/main/java/org/jfree/data/xy/AbstractXYZDataset.java\"],[\"./src/main/java/org/jfree/data/xy/CategoryTableXYDataset.java\"],[\"./src/main/java/org/jfree/data/xy/DefaultHighLowDataset.java\"],[\"./src/main/java/org/jfree/data/xy/DefaultIntervalXYDataset.java\"],[\"./src/main/java/org/jfree/data/xy/DefaultOHLCDataset.java\"],[\"./src/main/java/org/jfree/data/xy/DefaultTableXYDataset.java\"],[\"./src/main/java/org/jfree/data/xy/DefaultWindDataset.java\"],[\"./src/main/java/org/jfree/data/xy/DefaultXYDataset.java\"],[\"./src/main/java/org/jfree/data/xy/DefaultXYZDataset.java\"],[\"./src/main/java/org/jfree/data/xy/IntervalXYDataset.java\"],[\"./src/main/java/org/jfree/data/xy/IntervalXYDelegate.java\"],[\"./src/main/java/org/jfree/data/xy/IntervalXYZDataset.java\"],[\"./src/main/java/org/jfree/data/xy/MatrixSeries.java\"],[\"./src/main/java/org/jfree/data/xy/MatrixSeriesCollection.java\"],[\"./src/main/java/org/jfree/data/xy/NormalizedMatrixSeries.java\"],[\"./src/main/java/org/jfree/data/xy/OHLCDataItem.java\"],[\"./src/main/java/org/jfree/data/xy/OHLCDataset.java\"],[\"./src/main/java/org/jfree/data/xy/TableXYDataset.java\"],[\"./src/main/java/org/jfree/data/xy/Vector.java\"],[\"./src/main/java/org/jfree/data/xy/VectorDataItem.java\"],[\"./src/main/java/org/jfree/data/xy/VectorSeries.java\"],[\"./src/main/java/org/jfree/data/xy/VectorSeriesCollection.java\"],[\"./src/main/java/org/jfree/data/xy/VectorXYDataset.java\"],[\"./src/main/java/org/jfree/data/xy/WindDataset.java\"],[\"./src/main/java/org/jfree/data/xy/XIntervalDataItem.java\"],[\"./src/main/java/org/jfree/data/xy/XIntervalSeries.java\"],[\"./src/main/java/org/jfree/data/xy/XIntervalSeriesCollection.java\"],[\"./src/main/java/org/jfree/data/xy/XisSymbolic.java\"],[\"./src/main/java/org/jfree/data/xy/XYBarDataset.java\"],[\"./src/main/java/org/jfree/data/xy/XYCoordinate.java\"],[\"./src/main/java/org/jfree/data/xy/XYDataItem.java\"],[\"./src/main/java/org/jfree/data/xy/XYDataset.java\"],[\"./src/main/java/org/jfree/data/xy/XYDatasetTableModel.java\"],[\"./src/main/java/org/jfree/data/xy/XYDomainInfo.java\"],[\"./src/main/java/org/jfree/data/xy/XYInterval.java\"],[\"./src/main/java/org/jfree/data/xy/XYIntervalDataItem.java\"],[\"./src/main/java/org/jfree/data/xy/XYIntervalSeries.java\"],[\"./src/main/java/org/jfree/data/xy/XYIntervalSeriesCollection.java\"],[\"./src/main/java/org/jfree/data/xy/XYItemKey.java\"],[\"./src/main/java/org/jfree/data/xy/XYRangeInfo.java\"],[\"./src/main/java/org/jfree/data/xy/XYSeries.java\"],[\"./src/main/java/org/jfree/data/xy/XYSeriesCollection.java\"],[\"./src/main/java/org/jfree/data/xy/XYZDataset.java\"],[\"./src/main/java/org/jfree/data/xy/YInterval.java\"],[\"./src/main/java/org/jfree/data/xy/YIntervalDataItem.java\"],[\"./src/main/java/org/jfree/data/xy/YIntervalSeries.java\"],[\"./src/main/java/org/jfree/data/xy/YIntervalSeriesCollection.java\"],[\"./src/main/java/org/jfree/data/xy/YisSymbolic.java\"],[\"./src/main/java/org/jfree/data/xy/YWithXInterval.java\"]],\"hovertemplate\":\"NCLOC=%{y}<br>class=%{customdata[0]}<extra></extra>\",\"legendgroup\":\"\",\"marker\":{\"color\":\"#636efa\"},\"name\":\"\",\"notched\":false,\"offsetgroup\":\"\",\"orientation\":\"v\",\"showlegend\":false,\"type\":\"box\",\"x0\":\" \",\"xaxis\":\"x\",\"y\":[68,77,7,10,198,238,123,137,11,7,176,159,143,134,180,252,171,152,282,212,6,5,6,5,80,95,42,245,12,5,5,5,6,6,789,49,6,26,189,66,6,726,99,217,5,55,48,653,1063,42,6,140,18,106,561,565,14,133,215,98,597,19,55,157,670,158,81,39,233,423,65,5,64,72,6,11,767,42,259,7,13,101,126,9,30,15,382,140,72,208,33,4,5,234,242,179,6,118,149,59,70,4,4,1000,25,97,4,102,235,15,355,175,6,53,13,52,6,59,36,79,65,45,181,13,38,79,56,23,81,79,86,10,79,35,56,14,6,12,5,34,6,5,35,5,5,12,6,12,5,19,5,12,5,20,123,13,12,11,4,8,34,106,89,65,84,117,418,262,780,135,103,155,52,57,115,7,5,5,5,77,6,106,54,64,128,124,28,76,112,11,5,47,57,43,57,47,85,37,58,58,59,109,70,5,5,5,5,334,468,69,56,5,5,347,392,64,69,2415,6,358,396,307,371,78,438,41,87,178,61,59,51,70,49,45,298,109,5,276,74,228,100,131,7,14,12,5,373,279,5,159,327,149,181,417,6,12,507,455,82,268,89,643,11,24,355,106,6,114,1547,81,656,11,117,14,11,988,331,5,677,764,6,43,237,6,2732,18,1235,6,925,192,11,683,596,170,64,174,7,351,215,218,117,291,222,379,268,269,284,216,106,342,269,261,489,82,179,6,70,49,49,8,35,31,153,204,974,429,200,249,6,168,173,214,243,170,335,325,224,106,466,207,84,387,234,11,623,258,434,192,708,169,213,169,37,521,272,258,293,167,142,947,32,35,25,28,7,1575,398,156,6,5,18,221,143,10,82,97,365,110,155,226,113,29,147,43,30,72,65,30,7,7,5,116,24,85,43,46,32,98,229,18,51,137,12,204,126,108,4,393,97,37,176,119,469,180,6,88,95,89,5,86,70,58,9,90,5,5,182,158,48,112,6,7,144,7,79,25,6,7,155,146,380,8,152,56,209,126,56,203,255,6,6,181,14,93,66,56,4,42,50,38,42,15,283,98,79,316,203,70,28,5,11,5,1459,136,78,8,5,127,42,13,50,4,4,4,5,79,9,5,11,8,4,109,96,4,72,4,85,6,156,102,56,149,244,4,84,5,8,12,72,49,162,196,6,6,12,12,12,12,12,12,110,24,125,17,412,239,196,363,62,213,6,65,8,223,130,188,9,234,44,187,403,111,197,194,207,239,165,59,51,38,187,198,110,196,91,6,6,6,66,221,207,606,323,66,127,230,302,141,6,4,5,6,48,56,74,9,62,53,45,39,60,41,28,13,143,155,197,128,293,186,148,158,11,180,10,75,108,35,77,13,4,48,36,44,115,6,5,34,40,140,6,125,71,93,11,73,6,58,56,49,132,70,6,425,371,5,41,37,39,122,6,41],\"y0\":\" \",\"yaxis\":\"y\"}],                        {\"boxmode\":\"group\",\"legend\":{\"tracegroupgap\":0},\"margin\":{\"t\":60},\"template\":{\"data\":{\"bar\":[{\"error_x\":{\"color\":\"#2a3f5f\"},\"error_y\":{\"color\":\"#2a3f5f\"},\"marker\":{\"line\":{\"color\":\"#E5ECF6\",\"width\":0.5},\"pattern\":{\"fillmode\":\"overlay\",\"size\":10,\"solidity\":0.2}},\"type\":\"bar\"}],\"barpolar\":[{\"marker\":{\"line\":{\"color\":\"#E5ECF6\",\"width\":0.5},\"pattern\":{\"fillmode\":\"overlay\",\"size\":10,\"solidity\":0.2}},\"type\":\"barpolar\"}],\"carpet\":[{\"aaxis\":{\"endlinecolor\":\"#2a3f5f\",\"gridcolor\":\"white\",\"linecolor\":\"white\",\"minorgridcolor\":\"white\",\"startlinecolor\":\"#2a3f5f\"},\"baxis\":{\"endlinecolor\":\"#2a3f5f\",\"gridcolor\":\"white\",\"linecolor\":\"white\",\"minorgridcolor\":\"white\",\"startlinecolor\":\"#2a3f5f\"},\"type\":\"carpet\"}],\"choropleth\":[{\"colorbar\":{\"outlinewidth\":0,\"ticks\":\"\"},\"type\":\"choropleth\"}],\"contour\":[{\"colorbar\":{\"outlinewidth\":0,\"ticks\":\"\"},\"colorscale\":[[0.0,\"#0d0887\"],[0.1111111111111111,\"#46039f\"],[0.2222222222222222,\"#7201a8\"],[0.3333333333333333,\"#9c179e\"],[0.4444444444444444,\"#bd3786\"],[0.5555555555555556,\"#d8576b\"],[0.6666666666666666,\"#ed7953\"],[0.7777777777777778,\"#fb9f3a\"],[0.8888888888888888,\"#fdca26\"],[1.0,\"#f0f921\"]],\"type\":\"contour\"}],\"contourcarpet\":[{\"colorbar\":{\"outlinewidth\":0,\"ticks\":\"\"},\"type\":\"contourcarpet\"}],\"heatmap\":[{\"colorbar\":{\"outlinewidth\":0,\"ticks\":\"\"},\"colorscale\":[[0.0,\"#0d0887\"],[0.1111111111111111,\"#46039f\"],[0.2222222222222222,\"#7201a8\"],[0.3333333333333333,\"#9c179e\"],[0.4444444444444444,\"#bd3786\"],[0.5555555555555556,\"#d8576b\"],[0.6666666666666666,\"#ed7953\"],[0.7777777777777778,\"#fb9f3a\"],[0.8888888888888888,\"#fdca26\"],[1.0,\"#f0f921\"]],\"type\":\"heatmap\"}],\"heatmapgl\":[{\"colorbar\":{\"outlinewidth\":0,\"ticks\":\"\"},\"colorscale\":[[0.0,\"#0d0887\"],[0.1111111111111111,\"#46039f\"],[0.2222222222222222,\"#7201a8\"],[0.3333333333333333,\"#9c179e\"],[0.4444444444444444,\"#bd3786\"],[0.5555555555555556,\"#d8576b\"],[0.6666666666666666,\"#ed7953\"],[0.7777777777777778,\"#fb9f3a\"],[0.8888888888888888,\"#fdca26\"],[1.0,\"#f0f921\"]],\"type\":\"heatmapgl\"}],\"histogram\":[{\"marker\":{\"pattern\":{\"fillmode\":\"overlay\",\"size\":10,\"solidity\":0.2}},\"type\":\"histogram\"}],\"histogram2d\":[{\"colorbar\":{\"outlinewidth\":0,\"ticks\":\"\"},\"colorscale\":[[0.0,\"#0d0887\"],[0.1111111111111111,\"#46039f\"],[0.2222222222222222,\"#7201a8\"],[0.3333333333333333,\"#9c179e\"],[0.4444444444444444,\"#bd3786\"],[0.5555555555555556,\"#d8576b\"],[0.6666666666666666,\"#ed7953\"],[0.7777777777777778,\"#fb9f3a\"],[0.8888888888888888,\"#fdca26\"],[1.0,\"#f0f921\"]],\"type\":\"histogram2d\"}],\"histogram2dcontour\":[{\"colorbar\":{\"outlinewidth\":0,\"ticks\":\"\"},\"colorscale\":[[0.0,\"#0d0887\"],[0.1111111111111111,\"#46039f\"],[0.2222222222222222,\"#7201a8\"],[0.3333333333333333,\"#9c179e\"],[0.4444444444444444,\"#bd3786\"],[0.5555555555555556,\"#d8576b\"],[0.6666666666666666,\"#ed7953\"],[0.7777777777777778,\"#fb9f3a\"],[0.8888888888888888,\"#fdca26\"],[1.0,\"#f0f921\"]],\"type\":\"histogram2dcontour\"}],\"mesh3d\":[{\"colorbar\":{\"outlinewidth\":0,\"ticks\":\"\"},\"type\":\"mesh3d\"}],\"parcoords\":[{\"line\":{\"colorbar\":{\"outlinewidth\":0,\"ticks\":\"\"}},\"type\":\"parcoords\"}],\"pie\":[{\"automargin\":true,\"type\":\"pie\"}],\"scatter\":[{\"marker\":{\"colorbar\":{\"outlinewidth\":0,\"ticks\":\"\"}},\"type\":\"scatter\"}],\"scatter3d\":[{\"line\":{\"colorbar\":{\"outlinewidth\":0,\"ticks\":\"\"}},\"marker\":{\"colorbar\":{\"outlinewidth\":0,\"ticks\":\"\"}},\"type\":\"scatter3d\"}],\"scattercarpet\":[{\"marker\":{\"colorbar\":{\"outlinewidth\":0,\"ticks\":\"\"}},\"type\":\"scattercarpet\"}],\"scattergeo\":[{\"marker\":{\"colorbar\":{\"outlinewidth\":0,\"ticks\":\"\"}},\"type\":\"scattergeo\"}],\"scattergl\":[{\"marker\":{\"colorbar\":{\"outlinewidth\":0,\"ticks\":\"\"}},\"type\":\"scattergl\"}],\"scattermapbox\":[{\"marker\":{\"colorbar\":{\"outlinewidth\":0,\"ticks\":\"\"}},\"type\":\"scattermapbox\"}],\"scatterpolar\":[{\"marker\":{\"colorbar\":{\"outlinewidth\":0,\"ticks\":\"\"}},\"type\":\"scatterpolar\"}],\"scatterpolargl\":[{\"marker\":{\"colorbar\":{\"outlinewidth\":0,\"ticks\":\"\"}},\"type\":\"scatterpolargl\"}],\"scatterternary\":[{\"marker\":{\"colorbar\":{\"outlinewidth\":0,\"ticks\":\"\"}},\"type\":\"scatterternary\"}],\"surface\":[{\"colorbar\":{\"outlinewidth\":0,\"ticks\":\"\"},\"colorscale\":[[0.0,\"#0d0887\"],[0.1111111111111111,\"#46039f\"],[0.2222222222222222,\"#7201a8\"],[0.3333333333333333,\"#9c179e\"],[0.4444444444444444,\"#bd3786\"],[0.5555555555555556,\"#d8576b\"],[0.6666666666666666,\"#ed7953\"],[0.7777777777777778,\"#fb9f3a\"],[0.8888888888888888,\"#fdca26\"],[1.0,\"#f0f921\"]],\"type\":\"surface\"}],\"table\":[{\"cells\":{\"fill\":{\"color\":\"#EBF0F8\"},\"line\":{\"color\":\"white\"}},\"header\":{\"fill\":{\"color\":\"#C8D4E3\"},\"line\":{\"color\":\"white\"}},\"type\":\"table\"}]},\"layout\":{\"annotationdefaults\":{\"arrowcolor\":\"#2a3f5f\",\"arrowhead\":0,\"arrowwidth\":1},\"autotypenumbers\":\"strict\",\"coloraxis\":{\"colorbar\":{\"outlinewidth\":0,\"ticks\":\"\"}},\"colorscale\":{\"diverging\":[[0,\"#8e0152\"],[0.1,\"#c51b7d\"],[0.2,\"#de77ae\"],[0.3,\"#f1b6da\"],[0.4,\"#fde0ef\"],[0.5,\"#f7f7f7\"],[0.6,\"#e6f5d0\"],[0.7,\"#b8e186\"],[0.8,\"#7fbc41\"],[0.9,\"#4d9221\"],[1,\"#276419\"]],\"sequential\":[[0.0,\"#0d0887\"],[0.1111111111111111,\"#46039f\"],[0.2222222222222222,\"#7201a8\"],[0.3333333333333333,\"#9c179e\"],[0.4444444444444444,\"#bd3786\"],[0.5555555555555556,\"#d8576b\"],[0.6666666666666666,\"#ed7953\"],[0.7777777777777778,\"#fb9f3a\"],[0.8888888888888888,\"#fdca26\"],[1.0,\"#f0f921\"]],\"sequentialminus\":[[0.0,\"#0d0887\"],[0.1111111111111111,\"#46039f\"],[0.2222222222222222,\"#7201a8\"],[0.3333333333333333,\"#9c179e\"],[0.4444444444444444,\"#bd3786\"],[0.5555555555555556,\"#d8576b\"],[0.6666666666666666,\"#ed7953\"],[0.7777777777777778,\"#fb9f3a\"],[0.8888888888888888,\"#fdca26\"],[1.0,\"#f0f921\"]]},\"colorway\":[\"#636efa\",\"#EF553B\",\"#00cc96\",\"#ab63fa\",\"#FFA15A\",\"#19d3f3\",\"#FF6692\",\"#B6E880\",\"#FF97FF\",\"#FECB52\"],\"font\":{\"color\":\"#2a3f5f\"},\"geo\":{\"bgcolor\":\"white\",\"lakecolor\":\"white\",\"landcolor\":\"#E5ECF6\",\"showlakes\":true,\"showland\":true,\"subunitcolor\":\"white\"},\"hoverlabel\":{\"align\":\"left\"},\"hovermode\":\"closest\",\"mapbox\":{\"style\":\"light\"},\"paper_bgcolor\":\"white\",\"plot_bgcolor\":\"#E5ECF6\",\"polar\":{\"angularaxis\":{\"gridcolor\":\"white\",\"linecolor\":\"white\",\"ticks\":\"\"},\"bgcolor\":\"#E5ECF6\",\"radialaxis\":{\"gridcolor\":\"white\",\"linecolor\":\"white\",\"ticks\":\"\"}},\"scene\":{\"xaxis\":{\"backgroundcolor\":\"#E5ECF6\",\"gridcolor\":\"white\",\"gridwidth\":2,\"linecolor\":\"white\",\"showbackground\":true,\"ticks\":\"\",\"zerolinecolor\":\"white\"},\"yaxis\":{\"backgroundcolor\":\"#E5ECF6\",\"gridcolor\":\"white\",\"gridwidth\":2,\"linecolor\":\"white\",\"showbackground\":true,\"ticks\":\"\",\"zerolinecolor\":\"white\"},\"zaxis\":{\"backgroundcolor\":\"#E5ECF6\",\"gridcolor\":\"white\",\"gridwidth\":2,\"linecolor\":\"white\",\"showbackground\":true,\"ticks\":\"\",\"zerolinecolor\":\"white\"}},\"shapedefaults\":{\"line\":{\"color\":\"#2a3f5f\"}},\"ternary\":{\"aaxis\":{\"gridcolor\":\"white\",\"linecolor\":\"white\",\"ticks\":\"\"},\"baxis\":{\"gridcolor\":\"white\",\"linecolor\":\"white\",\"ticks\":\"\"},\"bgcolor\":\"#E5ECF6\",\"caxis\":{\"gridcolor\":\"white\",\"linecolor\":\"white\",\"ticks\":\"\"}},\"title\":{\"x\":0.05},\"xaxis\":{\"automargin\":true,\"gridcolor\":\"white\",\"linecolor\":\"white\",\"ticks\":\"\",\"title\":{\"standoff\":15},\"zerolinecolor\":\"white\",\"zerolinewidth\":2},\"yaxis\":{\"automargin\":true,\"gridcolor\":\"white\",\"linecolor\":\"white\",\"ticks\":\"\",\"title\":{\"standoff\":15},\"zerolinecolor\":\"white\",\"zerolinewidth\":2}}},\"xaxis\":{\"anchor\":\"y\",\"domain\":[0.0,1.0]},\"yaxis\":{\"anchor\":\"x\",\"domain\":[0.0,1.0],\"title\":{\"text\":\"NCLOC\"}}},                        {\"responsive\": true}                    ).then(function(){\n",
       "                            \n",
       "var gd = document.getElementById('a8159422-e0c1-4773-ba2e-da17fd44cf23');\n",
       "var x = new MutationObserver(function (mutations, observer) {{\n",
       "        var display = window.getComputedStyle(gd).display;\n",
       "        if (!display || display === 'none') {{\n",
       "            console.log([gd, 'removed!']);\n",
       "            Plotly.purge(gd);\n",
       "            observer.disconnect();\n",
       "        }}\n",
       "}});\n",
       "\n",
       "// Listen for the removal of the full notebook cells\n",
       "var notebookContainer = gd.closest('#notebook-container');\n",
       "if (notebookContainer) {{\n",
       "    x.observe(notebookContainer, {childList: true});\n",
       "}}\n",
       "\n",
       "// Listen for the clearing of the current output cell\n",
       "var outputEl = gd.closest('.output');\n",
       "if (outputEl) {{\n",
       "    x.observe(outputEl, {childList: true});\n",
       "}}\n",
       "\n",
       "                        })                };                });            </script>        </div>"
      ]
     },
     "metadata": {},
     "output_type": "display_data"
    }
   ],
   "source": [
    "fig = px.box(df.reset_index(), y='NCLOC', hover_data=['class'], points='all')\n",
    "fig.show()"
   ]
  },
  {
   "cell_type": "markdown",
   "id": "96e16aa3-037b-448f-816d-c5dda59af32f",
   "metadata": {},
   "source": [
    "Information pertinente :"
   ]
  },
  {
   "cell_type": "markdown",
   "id": "55978389-90f9-4b2f-8718-ea07014cdaf8",
   "metadata": {},
   "source": [
    "### DCP"
   ]
  },
  {
   "cell_type": "code",
   "execution_count": 44,
   "id": "f1032ef0-8c5e-4c47-a1ff-a15b1d0632a8",
   "metadata": {},
   "outputs": [
    {
     "data": {
      "text/plain": [
       "count    632.000000\n",
       "mean      63.471361\n",
       "std       17.871748\n",
       "min       25.240000\n",
       "25%       49.270000\n",
       "50%       59.210000\n",
       "75%       82.310000\n",
       "max       93.440000\n",
       "Name: DCP, dtype: float64"
      ]
     },
     "execution_count": 44,
     "metadata": {},
     "output_type": "execute_result"
    }
   ],
   "source": [
    "describe_DCP = df.reset_index()['DCP'].describe()\n",
    "describe_DCP"
   ]
  },
  {
   "cell_type": "code",
   "execution_count": 45,
   "id": "0b143421-210f-4f00-8fab-65b415bc4338",
   "metadata": {},
   "outputs": [
    {
     "name": "stdout",
     "output_type": "stream",
     "text": [
      "Les valeurs de la boîte à moustache sont situés entre -0.28999999999999915 et 131.87, avec 50% des données se trouvant entre 49.27 et 82.31\n"
     ]
    }
   ],
   "source": [
    "l, m, u = describe_DCP.iloc[4], describe_DCP.iloc[5], describe_DCP.iloc[6]\n",
    "IQR_DCP = u - l\n",
    "U, L = u + (1.5 * IQR_DCP), l - (1.5 * IQR_DCP)\n",
    "print(f\"Les valeurs de la boîte à moustache sont situés entre {L} et {U}, avec 50% des données se trouvant entre {l} et {u}\")"
   ]
  },
  {
   "cell_type": "code",
   "execution_count": 51,
   "id": "79da6038-f408-4787-9a07-d5fcd41933ca",
   "metadata": {},
   "outputs": [
    {
     "data": {
      "application/vnd.plotly.v1+json": {
       "config": {
        "plotlyServerURL": "https://plot.ly"
       },
       "data": [
        {
         "alignmentgroup": "True",
         "boxpoints": "all",
         "customdata": [
          [
           "./src/main/java/org/jfree/chart/annotations/AbstractAnnotation.java"
          ],
          [
           "./src/main/java/org/jfree/chart/annotations/AbstractXYAnnotation.java"
          ],
          [
           "./src/main/java/org/jfree/chart/annotations/Annotation.java"
          ],
          [
           "./src/main/java/org/jfree/chart/annotations/CategoryAnnotation.java"
          ],
          [
           "./src/main/java/org/jfree/chart/annotations/CategoryLineAnnotation.java"
          ],
          [
           "./src/main/java/org/jfree/chart/annotations/CategoryPointerAnnotation.java"
          ],
          [
           "./src/main/java/org/jfree/chart/annotations/CategoryTextAnnotation.java"
          ],
          [
           "./src/main/java/org/jfree/chart/annotations/TextAnnotation.java"
          ],
          [
           "./src/main/java/org/jfree/chart/annotations/XYAnnotation.java"
          ],
          [
           "./src/main/java/org/jfree/chart/annotations/XYAnnotationBoundsInfo.java"
          ],
          [
           "./src/main/java/org/jfree/chart/annotations/XYBoxAnnotation.java"
          ],
          [
           "./src/main/java/org/jfree/chart/annotations/XYDataImageAnnotation.java"
          ],
          [
           "./src/main/java/org/jfree/chart/annotations/XYDrawableAnnotation.java"
          ],
          [
           "./src/main/java/org/jfree/chart/annotations/XYImageAnnotation.java"
          ],
          [
           "./src/main/java/org/jfree/chart/annotations/XYLineAnnotation.java"
          ],
          [
           "./src/main/java/org/jfree/chart/annotations/XYPointerAnnotation.java"
          ],
          [
           "./src/main/java/org/jfree/chart/annotations/XYPolygonAnnotation.java"
          ],
          [
           "./src/main/java/org/jfree/chart/annotations/XYShapeAnnotation.java"
          ],
          [
           "./src/main/java/org/jfree/chart/annotations/XYTextAnnotation.java"
          ],
          [
           "./src/main/java/org/jfree/chart/annotations/XYTitleAnnotation.java"
          ],
          [
           "./src/main/java/org/jfree/chart/api/HorizontalAlignment.java"
          ],
          [
           "./src/main/java/org/jfree/chart/api/Layer.java"
          ],
          [
           "./src/main/java/org/jfree/chart/api/LengthAdjustmentType.java"
          ],
          [
           "./src/main/java/org/jfree/chart/api/PublicCloneable.java"
          ],
          [
           "./src/main/java/org/jfree/chart/api/RectangleAlignment.java"
          ],
          [
           "./src/main/java/org/jfree/chart/api/RectangleAnchor.java"
          ],
          [
           "./src/main/java/org/jfree/chart/api/RectangleEdge.java"
          ],
          [
           "./src/main/java/org/jfree/chart/api/RectangleInsets.java"
          ],
          [
           "./src/main/java/org/jfree/chart/api/Rotation.java"
          ],
          [
           "./src/main/java/org/jfree/chart/api/SortOrder.java"
          ],
          [
           "./src/main/java/org/jfree/chart/api/TableOrder.java"
          ],
          [
           "./src/main/java/org/jfree/chart/api/UnitType.java"
          ],
          [
           "./src/main/java/org/jfree/chart/api/VerticalAlignment.java"
          ],
          [
           "./src/main/java/org/jfree/chart/api/XYCoordinateType.java"
          ],
          [
           "./src/main/java/org/jfree/chart/axis/Axis.java"
          ],
          [
           "./src/main/java/org/jfree/chart/axis/AxisCollection.java"
          ],
          [
           "./src/main/java/org/jfree/chart/axis/AxisLabelLocation.java"
          ],
          [
           "./src/main/java/org/jfree/chart/axis/AxisLocation.java"
          ],
          [
           "./src/main/java/org/jfree/chart/axis/AxisSpace.java"
          ],
          [
           "./src/main/java/org/jfree/chart/axis/AxisState.java"
          ],
          [
           "./src/main/java/org/jfree/chart/axis/CategoryAnchor.java"
          ],
          [
           "./src/main/java/org/jfree/chart/axis/CategoryAxis.java"
          ],
          [
           "./src/main/java/org/jfree/chart/axis/CategoryLabelPosition.java"
          ],
          [
           "./src/main/java/org/jfree/chart/axis/CategoryLabelPositions.java"
          ],
          [
           "./src/main/java/org/jfree/chart/axis/CategoryLabelWidthType.java"
          ],
          [
           "./src/main/java/org/jfree/chart/axis/CategoryTick.java"
          ],
          [
           "./src/main/java/org/jfree/chart/axis/CompassFormat.java"
          ],
          [
           "./src/main/java/org/jfree/chart/axis/CyclicNumberAxis.java"
          ],
          [
           "./src/main/java/org/jfree/chart/axis/DateAxis.java"
          ],
          [
           "./src/main/java/org/jfree/chart/axis/DateTick.java"
          ],
          [
           "./src/main/java/org/jfree/chart/axis/DateTickMarkPosition.java"
          ],
          [
           "./src/main/java/org/jfree/chart/axis/DateTickUnit.java"
          ],
          [
           "./src/main/java/org/jfree/chart/axis/DateTickUnitType.java"
          ],
          [
           "./src/main/java/org/jfree/chart/axis/ExtendedCategoryAxis.java"
          ],
          [
           "./src/main/java/org/jfree/chart/axis/LogarithmicAxis.java"
          ],
          [
           "./src/main/java/org/jfree/chart/axis/LogAxis.java"
          ],
          [
           "./src/main/java/org/jfree/chart/axis/LogTick.java"
          ],
          [
           "./src/main/java/org/jfree/chart/axis/MarkerAxisBand.java"
          ],
          [
           "./src/main/java/org/jfree/chart/axis/ModuloAxis.java"
          ],
          [
           "./src/main/java/org/jfree/chart/axis/MonthDateFormat.java"
          ],
          [
           "./src/main/java/org/jfree/chart/axis/NumberAxis.java"
          ],
          [
           "./src/main/java/org/jfree/chart/axis/NumberTick.java"
          ],
          [
           "./src/main/java/org/jfree/chart/axis/NumberTickUnit.java"
          ],
          [
           "./src/main/java/org/jfree/chart/axis/NumberTickUnitSource.java"
          ],
          [
           "./src/main/java/org/jfree/chart/axis/PeriodAxis.java"
          ],
          [
           "./src/main/java/org/jfree/chart/axis/PeriodAxisLabelInfo.java"
          ],
          [
           "./src/main/java/org/jfree/chart/axis/QuarterDateFormat.java"
          ],
          [
           "./src/main/java/org/jfree/chart/axis/StandardTickUnitSource.java"
          ],
          [
           "./src/main/java/org/jfree/chart/axis/SubCategoryAxis.java"
          ],
          [
           "./src/main/java/org/jfree/chart/axis/SymbolAxis.java"
          ],
          [
           "./src/main/java/org/jfree/chart/axis/Tick.java"
          ],
          [
           "./src/main/java/org/jfree/chart/axis/TickType.java"
          ],
          [
           "./src/main/java/org/jfree/chart/axis/TickUnit.java"
          ],
          [
           "./src/main/java/org/jfree/chart/axis/TickUnits.java"
          ],
          [
           "./src/main/java/org/jfree/chart/axis/TickUnitSource.java"
          ],
          [
           "./src/main/java/org/jfree/chart/axis/Timeline.java"
          ],
          [
           "./src/main/java/org/jfree/chart/axis/ValueAxis.java"
          ],
          [
           "./src/main/java/org/jfree/chart/axis/ValueTick.java"
          ],
          [
           "./src/main/java/org/jfree/chart/block/AbstractBlock.java"
          ],
          [
           "./src/main/java/org/jfree/chart/block/Arrangement.java"
          ],
          [
           "./src/main/java/org/jfree/chart/block/Block.java"
          ],
          [
           "./src/main/java/org/jfree/chart/block/BlockBorder.java"
          ],
          [
           "./src/main/java/org/jfree/chart/block/BlockContainer.java"
          ],
          [
           "./src/main/java/org/jfree/chart/block/BlockFrame.java"
          ],
          [
           "./src/main/java/org/jfree/chart/block/BlockParams.java"
          ],
          [
           "./src/main/java/org/jfree/chart/block/BlockResult.java"
          ],
          [
           "./src/main/java/org/jfree/chart/block/BorderArrangement.java"
          ],
          [
           "./src/main/java/org/jfree/chart/block/CenterArrangement.java"
          ],
          [
           "./src/main/java/org/jfree/chart/block/ColorBlock.java"
          ],
          [
           "./src/main/java/org/jfree/chart/block/ColumnArrangement.java"
          ],
          [
           "./src/main/java/org/jfree/chart/block/EmptyBlock.java"
          ],
          [
           "./src/main/java/org/jfree/chart/block/EntityBlockParams.java"
          ],
          [
           "./src/main/java/org/jfree/chart/block/EntityBlockResult.java"
          ],
          [
           "./src/main/java/org/jfree/chart/block/FlowArrangement.java"
          ],
          [
           "./src/main/java/org/jfree/chart/block/GridArrangement.java"
          ],
          [
           "./src/main/java/org/jfree/chart/block/LabelBlock.java"
          ],
          [
           "./src/main/java/org/jfree/chart/block/LengthConstraintType.java"
          ],
          [
           "./src/main/java/org/jfree/chart/block/LineBorder.java"
          ],
          [
           "./src/main/java/org/jfree/chart/block/RectangleConstraint.java"
          ],
          [
           "./src/main/java/org/jfree/chart/block/Size2D.java"
          ],
          [
           "./src/main/java/org/jfree/chart/ChartColor.java"
          ],
          [
           "./src/main/java/org/jfree/chart/ChartElement.java"
          ],
          [
           "./src/main/java/org/jfree/chart/ChartElementVisitor.java"
          ],
          [
           "./src/main/java/org/jfree/chart/ChartFactory.java"
          ],
          [
           "./src/main/java/org/jfree/chart/ChartHints.java"
          ],
          [
           "./src/main/java/org/jfree/chart/ChartRenderingInfo.java"
          ],
          [
           "./src/main/java/org/jfree/chart/ChartTheme.java"
          ],
          [
           "./src/main/java/org/jfree/chart/ChartTransferable.java"
          ],
          [
           "./src/main/java/org/jfree/chart/ChartUtils.java"
          ],
          [
           "./src/main/java/org/jfree/chart/date/MonthConstants.java"
          ],
          [
           "./src/main/java/org/jfree/chart/date/SerialDate.java"
          ],
          [
           "./src/main/java/org/jfree/chart/date/SpreadsheetDate.java"
          ],
          [
           "./src/main/java/org/jfree/chart/Drawable.java"
          ],
          [
           "./src/main/java/org/jfree/chart/encoders/EncoderUtil.java"
          ],
          [
           "./src/main/java/org/jfree/chart/encoders/ImageEncoder.java"
          ],
          [
           "./src/main/java/org/jfree/chart/encoders/ImageEncoderFactory.java"
          ],
          [
           "./src/main/java/org/jfree/chart/encoders/ImageFormat.java"
          ],
          [
           "./src/main/java/org/jfree/chart/encoders/SunJPEGEncoderAdapter.java"
          ],
          [
           "./src/main/java/org/jfree/chart/encoders/SunPNGEncoderAdapter.java"
          ],
          [
           "./src/main/java/org/jfree/chart/entity/AxisEntity.java"
          ],
          [
           "./src/main/java/org/jfree/chart/entity/CategoryItemEntity.java"
          ],
          [
           "./src/main/java/org/jfree/chart/entity/CategoryLabelEntity.java"
          ],
          [
           "./src/main/java/org/jfree/chart/entity/ChartEntity.java"
          ],
          [
           "./src/main/java/org/jfree/chart/entity/EntityCollection.java"
          ],
          [
           "./src/main/java/org/jfree/chart/entity/FlowEntity.java"
          ],
          [
           "./src/main/java/org/jfree/chart/entity/JFreeChartEntity.java"
          ],
          [
           "./src/main/java/org/jfree/chart/entity/LegendItemEntity.java"
          ],
          [
           "./src/main/java/org/jfree/chart/entity/NodeEntity.java"
          ],
          [
           "./src/main/java/org/jfree/chart/entity/PieSectionEntity.java"
          ],
          [
           "./src/main/java/org/jfree/chart/entity/PlotEntity.java"
          ],
          [
           "./src/main/java/org/jfree/chart/entity/StandardEntityCollection.java"
          ],
          [
           "./src/main/java/org/jfree/chart/entity/TickLabelEntity.java"
          ],
          [
           "./src/main/java/org/jfree/chart/entity/TitleEntity.java"
          ],
          [
           "./src/main/java/org/jfree/chart/entity/XYAnnotationEntity.java"
          ],
          [
           "./src/main/java/org/jfree/chart/entity/XYItemEntity.java"
          ],
          [
           "./src/main/java/org/jfree/chart/event/AnnotationChangeEvent.java"
          ],
          [
           "./src/main/java/org/jfree/chart/event/AnnotationChangeListener.java"
          ],
          [
           "./src/main/java/org/jfree/chart/event/AxisChangeEvent.java"
          ],
          [
           "./src/main/java/org/jfree/chart/event/AxisChangeListener.java"
          ],
          [
           "./src/main/java/org/jfree/chart/event/ChartChangeEvent.java"
          ],
          [
           "./src/main/java/org/jfree/chart/event/ChartChangeEventType.java"
          ],
          [
           "./src/main/java/org/jfree/chart/event/ChartChangeListener.java"
          ],
          [
           "./src/main/java/org/jfree/chart/event/ChartProgressEvent.java"
          ],
          [
           "./src/main/java/org/jfree/chart/event/ChartProgressEventType.java"
          ],
          [
           "./src/main/java/org/jfree/chart/event/ChartProgressListener.java"
          ],
          [
           "./src/main/java/org/jfree/chart/event/MarkerChangeEvent.java"
          ],
          [
           "./src/main/java/org/jfree/chart/event/MarkerChangeListener.java"
          ],
          [
           "./src/main/java/org/jfree/chart/event/PlotChangeEvent.java"
          ],
          [
           "./src/main/java/org/jfree/chart/event/PlotChangeListener.java"
          ],
          [
           "./src/main/java/org/jfree/chart/event/RendererChangeEvent.java"
          ],
          [
           "./src/main/java/org/jfree/chart/event/RendererChangeListener.java"
          ],
          [
           "./src/main/java/org/jfree/chart/event/TitleChangeEvent.java"
          ],
          [
           "./src/main/java/org/jfree/chart/event/TitleChangeListener.java"
          ],
          [
           "./src/main/java/org/jfree/chart/imagemap/DynamicDriveToolTipTagFragmentGenerator.java"
          ],
          [
           "./src/main/java/org/jfree/chart/imagemap/ImageMapUtils.java"
          ],
          [
           "./src/main/java/org/jfree/chart/imagemap/OverLIBToolTipTagFragmentGenerator.java"
          ],
          [
           "./src/main/java/org/jfree/chart/imagemap/StandardToolTipTagFragmentGenerator.java"
          ],
          [
           "./src/main/java/org/jfree/chart/imagemap/StandardURLTagFragmentGenerator.java"
          ],
          [
           "./src/main/java/org/jfree/chart/imagemap/ToolTipTagFragmentGenerator.java"
          ],
          [
           "./src/main/java/org/jfree/chart/imagemap/URLTagFragmentGenerator.java"
          ],
          [
           "./src/main/java/org/jfree/chart/internal/Args.java"
          ],
          [
           "./src/main/java/org/jfree/chart/internal/ArrayUtils.java"
          ],
          [
           "./src/main/java/org/jfree/chart/internal/CloneUtils.java"
          ],
          [
           "./src/main/java/org/jfree/chart/internal/HashUtils.java"
          ],
          [
           "./src/main/java/org/jfree/chart/internal/LineUtils.java"
          ],
          [
           "./src/main/java/org/jfree/chart/internal/PaintUtils.java"
          ],
          [
           "./src/main/java/org/jfree/chart/internal/SerialUtils.java"
          ],
          [
           "./src/main/java/org/jfree/chart/internal/ShapeUtils.java"
          ],
          [
           "./src/main/java/org/jfree/chart/JFreeChart.java"
          ],
          [
           "./src/main/java/org/jfree/chart/labels/AbstractCategoryItemLabelGenerator.java"
          ],
          [
           "./src/main/java/org/jfree/chart/labels/AbstractPieItemLabelGenerator.java"
          ],
          [
           "./src/main/java/org/jfree/chart/labels/AbstractXYItemLabelGenerator.java"
          ],
          [
           "./src/main/java/org/jfree/chart/labels/BoxAndWhiskerToolTipGenerator.java"
          ],
          [
           "./src/main/java/org/jfree/chart/labels/BoxAndWhiskerXYToolTipGenerator.java"
          ],
          [
           "./src/main/java/org/jfree/chart/labels/BubbleXYItemLabelGenerator.java"
          ],
          [
           "./src/main/java/org/jfree/chart/labels/CategoryItemLabelGenerator.java"
          ],
          [
           "./src/main/java/org/jfree/chart/labels/CategorySeriesLabelGenerator.java"
          ],
          [
           "./src/main/java/org/jfree/chart/labels/CategoryToolTipGenerator.java"
          ],
          [
           "./src/main/java/org/jfree/chart/labels/CrosshairLabelGenerator.java"
          ],
          [
           "./src/main/java/org/jfree/chart/labels/CustomXYToolTipGenerator.java"
          ],
          [
           "./src/main/java/org/jfree/chart/labels/FlowLabelGenerator.java"
          ],
          [
           "./src/main/java/org/jfree/chart/labels/HighLowItemLabelGenerator.java"
          ],
          [
           "./src/main/java/org/jfree/chart/labels/IntervalCategoryItemLabelGenerator.java"
          ],
          [
           "./src/main/java/org/jfree/chart/labels/IntervalCategoryToolTipGenerator.java"
          ],
          [
           "./src/main/java/org/jfree/chart/labels/IntervalXYItemLabelGenerator.java"
          ],
          [
           "./src/main/java/org/jfree/chart/labels/IntervalXYToolTipGenerator.java"
          ],
          [
           "./src/main/java/org/jfree/chart/labels/ItemLabelAnchor.java"
          ],
          [
           "./src/main/java/org/jfree/chart/labels/ItemLabelPosition.java"
          ],
          [
           "./src/main/java/org/jfree/chart/labels/MultipleXYSeriesLabelGenerator.java"
          ],
          [
           "./src/main/java/org/jfree/chart/labels/PieSectionLabelGenerator.java"
          ],
          [
           "./src/main/java/org/jfree/chart/labels/PieToolTipGenerator.java"
          ],
          [
           "./src/main/java/org/jfree/chart/labels/StandardCategoryItemLabelGenerator.java"
          ],
          [
           "./src/main/java/org/jfree/chart/labels/StandardCategorySeriesLabelGenerator.java"
          ],
          [
           "./src/main/java/org/jfree/chart/labels/StandardCategoryToolTipGenerator.java"
          ],
          [
           "./src/main/java/org/jfree/chart/labels/StandardCrosshairLabelGenerator.java"
          ],
          [
           "./src/main/java/org/jfree/chart/labels/StandardFlowLabelGenerator.java"
          ],
          [
           "./src/main/java/org/jfree/chart/labels/StandardPieSectionLabelGenerator.java"
          ],
          [
           "./src/main/java/org/jfree/chart/labels/StandardPieToolTipGenerator.java"
          ],
          [
           "./src/main/java/org/jfree/chart/labels/StandardXYItemLabelGenerator.java"
          ],
          [
           "./src/main/java/org/jfree/chart/labels/StandardXYSeriesLabelGenerator.java"
          ],
          [
           "./src/main/java/org/jfree/chart/labels/StandardXYToolTipGenerator.java"
          ],
          [
           "./src/main/java/org/jfree/chart/labels/StandardXYZToolTipGenerator.java"
          ],
          [
           "./src/main/java/org/jfree/chart/labels/SymbolicXYItemLabelGenerator.java"
          ],
          [
           "./src/main/java/org/jfree/chart/labels/XYItemLabelGenerator.java"
          ],
          [
           "./src/main/java/org/jfree/chart/labels/XYSeriesLabelGenerator.java"
          ],
          [
           "./src/main/java/org/jfree/chart/labels/XYToolTipGenerator.java"
          ],
          [
           "./src/main/java/org/jfree/chart/labels/XYZToolTipGenerator.java"
          ],
          [
           "./src/main/java/org/jfree/chart/legend/LegendGraphic.java"
          ],
          [
           "./src/main/java/org/jfree/chart/legend/LegendItem.java"
          ],
          [
           "./src/main/java/org/jfree/chart/legend/LegendItemBlockContainer.java"
          ],
          [
           "./src/main/java/org/jfree/chart/legend/LegendItemCollection.java"
          ],
          [
           "./src/main/java/org/jfree/chart/legend/LegendItemSource.java"
          ],
          [
           "./src/main/java/org/jfree/chart/legend/LegendRenderingOrder.java"
          ],
          [
           "./src/main/java/org/jfree/chart/legend/LegendTitle.java"
          ],
          [
           "./src/main/java/org/jfree/chart/legend/PaintScaleLegend.java"
          ],
          [
           "./src/main/java/org/jfree/chart/plot/CategoryCrosshairState.java"
          ],
          [
           "./src/main/java/org/jfree/chart/plot/CategoryMarker.java"
          ],
          [
           "./src/main/java/org/jfree/chart/plot/CategoryPlot.java"
          ],
          [
           "./src/main/java/org/jfree/chart/plot/CenterTextMode.java"
          ],
          [
           "./src/main/java/org/jfree/chart/plot/CombinedDomainCategoryPlot.java"
          ],
          [
           "./src/main/java/org/jfree/chart/plot/CombinedDomainXYPlot.java"
          ],
          [
           "./src/main/java/org/jfree/chart/plot/CombinedRangeCategoryPlot.java"
          ],
          [
           "./src/main/java/org/jfree/chart/plot/CombinedRangeXYPlot.java"
          ],
          [
           "./src/main/java/org/jfree/chart/plot/compass/ArrowNeedle.java"
          ],
          [
           "./src/main/java/org/jfree/chart/plot/compass/CompassPlot.java"
          ],
          [
           "./src/main/java/org/jfree/chart/plot/compass/LineNeedle.java"
          ],
          [
           "./src/main/java/org/jfree/chart/plot/compass/LongNeedle.java"
          ],
          [
           "./src/main/java/org/jfree/chart/plot/compass/MeterNeedle.java"
          ],
          [
           "./src/main/java/org/jfree/chart/plot/compass/MiddlePinNeedle.java"
          ],
          [
           "./src/main/java/org/jfree/chart/plot/compass/PinNeedle.java"
          ],
          [
           "./src/main/java/org/jfree/chart/plot/compass/PlumNeedle.java"
          ],
          [
           "./src/main/java/org/jfree/chart/plot/compass/PointerNeedle.java"
          ],
          [
           "./src/main/java/org/jfree/chart/plot/compass/ShipNeedle.java"
          ],
          [
           "./src/main/java/org/jfree/chart/plot/compass/WindNeedle.java"
          ],
          [
           "./src/main/java/org/jfree/chart/plot/Crosshair.java"
          ],
          [
           "./src/main/java/org/jfree/chart/plot/CrosshairState.java"
          ],
          [
           "./src/main/java/org/jfree/chart/plot/DatasetRenderingOrder.java"
          ],
          [
           "./src/main/java/org/jfree/chart/plot/DefaultDrawingSupplier.java"
          ],
          [
           "./src/main/java/org/jfree/chart/plot/dial/AbstractDialLayer.java"
          ],
          [
           "./src/main/java/org/jfree/chart/plot/dial/ArcDialFrame.java"
          ],
          [
           "./src/main/java/org/jfree/chart/plot/dial/DialBackground.java"
          ],
          [
           "./src/main/java/org/jfree/chart/plot/dial/DialCap.java"
          ],
          [
           "./src/main/java/org/jfree/chart/plot/dial/DialFrame.java"
          ],
          [
           "./src/main/java/org/jfree/chart/plot/dial/DialLayer.java"
          ],
          [
           "./src/main/java/org/jfree/chart/plot/dial/DialLayerChangeEvent.java"
          ],
          [
           "./src/main/java/org/jfree/chart/plot/dial/DialLayerChangeListener.java"
          ],
          [
           "./src/main/java/org/jfree/chart/plot/dial/DialPlot.java"
          ],
          [
           "./src/main/java/org/jfree/chart/plot/dial/DialPointer.java"
          ],
          [
           "./src/main/java/org/jfree/chart/plot/dial/DialScale.java"
          ],
          [
           "./src/main/java/org/jfree/chart/plot/dial/DialTextAnnotation.java"
          ],
          [
           "./src/main/java/org/jfree/chart/plot/dial/DialValueIndicator.java"
          ],
          [
           "./src/main/java/org/jfree/chart/plot/dial/StandardDialFrame.java"
          ],
          [
           "./src/main/java/org/jfree/chart/plot/dial/StandardDialRange.java"
          ],
          [
           "./src/main/java/org/jfree/chart/plot/dial/StandardDialScale.java"
          ],
          [
           "./src/main/java/org/jfree/chart/plot/DialShape.java"
          ],
          [
           "./src/main/java/org/jfree/chart/plot/DrawingSupplier.java"
          ],
          [
           "./src/main/java/org/jfree/chart/plot/FastScatterPlot.java"
          ],
          [
           "./src/main/java/org/jfree/chart/plot/flow/FlowPlot.java"
          ],
          [
           "./src/main/java/org/jfree/chart/plot/IntervalMarker.java"
          ],
          [
           "./src/main/java/org/jfree/chart/plot/Marker.java"
          ],
          [
           "./src/main/java/org/jfree/chart/plot/MeterInterval.java"
          ],
          [
           "./src/main/java/org/jfree/chart/plot/MeterPlot.java"
          ],
          [
           "./src/main/java/org/jfree/chart/plot/Pannable.java"
          ],
          [
           "./src/main/java/org/jfree/chart/plot/pie/AbstractPieLabelDistributor.java"
          ],
          [
           "./src/main/java/org/jfree/chart/plot/pie/MultiplePiePlot.java"
          ],
          [
           "./src/main/java/org/jfree/chart/plot/pie/PieLabelDistributor.java"
          ],
          [
           "./src/main/java/org/jfree/chart/plot/pie/PieLabelLinkStyle.java"
          ],
          [
           "./src/main/java/org/jfree/chart/plot/pie/PieLabelRecord.java"
          ],
          [
           "./src/main/java/org/jfree/chart/plot/pie/PiePlot.java"
          ],
          [
           "./src/main/java/org/jfree/chart/plot/pie/PiePlotState.java"
          ],
          [
           "./src/main/java/org/jfree/chart/plot/Plot.java"
          ],
          [
           "./src/main/java/org/jfree/chart/plot/PlotOrientation.java"
          ],
          [
           "./src/main/java/org/jfree/chart/plot/PlotRenderingInfo.java"
          ],
          [
           "./src/main/java/org/jfree/chart/plot/PlotState.java"
          ],
          [
           "./src/main/java/org/jfree/chart/plot/PolarAxisLocation.java"
          ],
          [
           "./src/main/java/org/jfree/chart/plot/PolarPlot.java"
          ],
          [
           "./src/main/java/org/jfree/chart/plot/RingPlot.java"
          ],
          [
           "./src/main/java/org/jfree/chart/plot/SeriesRenderingOrder.java"
          ],
          [
           "./src/main/java/org/jfree/chart/plot/SpiderWebPlot.java"
          ],
          [
           "./src/main/java/org/jfree/chart/plot/ThermometerPlot.java"
          ],
          [
           "./src/main/java/org/jfree/chart/plot/ValueAxisPlot.java"
          ],
          [
           "./src/main/java/org/jfree/chart/plot/ValueMarker.java"
          ],
          [
           "./src/main/java/org/jfree/chart/plot/WaferMapPlot.java"
          ],
          [
           "./src/main/java/org/jfree/chart/plot/XYCrosshairState.java"
          ],
          [
           "./src/main/java/org/jfree/chart/plot/XYPlot.java"
          ],
          [
           "./src/main/java/org/jfree/chart/plot/Zoomable.java"
          ],
          [
           "./src/main/java/org/jfree/chart/renderer/AbstractRenderer.java"
          ],
          [
           "./src/main/java/org/jfree/chart/renderer/AreaRendererEndType.java"
          ],
          [
           "./src/main/java/org/jfree/chart/renderer/category/AbstractCategoryItemRenderer.java"
          ],
          [
           "./src/main/java/org/jfree/chart/renderer/category/AreaRenderer.java"
          ],
          [
           "./src/main/java/org/jfree/chart/renderer/category/BarPainter.java"
          ],
          [
           "./src/main/java/org/jfree/chart/renderer/category/BarRenderer.java"
          ],
          [
           "./src/main/java/org/jfree/chart/renderer/category/BoxAndWhiskerRenderer.java"
          ],
          [
           "./src/main/java/org/jfree/chart/renderer/category/CategoryItemRenderer.java"
          ],
          [
           "./src/main/java/org/jfree/chart/renderer/category/CategoryItemRendererState.java"
          ],
          [
           "./src/main/java/org/jfree/chart/renderer/category/CategoryStepRenderer.java"
          ],
          [
           "./src/main/java/org/jfree/chart/renderer/category/DefaultCategoryItemRenderer.java"
          ],
          [
           "./src/main/java/org/jfree/chart/renderer/category/GanttRenderer.java"
          ],
          [
           "./src/main/java/org/jfree/chart/renderer/category/GradientBarPainter.java"
          ],
          [
           "./src/main/java/org/jfree/chart/renderer/category/GroupedStackedBarRenderer.java"
          ],
          [
           "./src/main/java/org/jfree/chart/renderer/category/IntervalBarRenderer.java"
          ],
          [
           "./src/main/java/org/jfree/chart/renderer/category/LayeredBarRenderer.java"
          ],
          [
           "./src/main/java/org/jfree/chart/renderer/category/LevelRenderer.java"
          ],
          [
           "./src/main/java/org/jfree/chart/renderer/category/LineAndShapeRenderer.java"
          ],
          [
           "./src/main/java/org/jfree/chart/renderer/category/MinMaxCategoryRenderer.java"
          ],
          [
           "./src/main/java/org/jfree/chart/renderer/category/ScatterRenderer.java"
          ],
          [
           "./src/main/java/org/jfree/chart/renderer/category/StackedAreaRenderer.java"
          ],
          [
           "./src/main/java/org/jfree/chart/renderer/category/StackedBarRenderer.java"
          ],
          [
           "./src/main/java/org/jfree/chart/renderer/category/StandardBarPainter.java"
          ],
          [
           "./src/main/java/org/jfree/chart/renderer/category/StatisticalBarRenderer.java"
          ],
          [
           "./src/main/java/org/jfree/chart/renderer/category/StatisticalLineAndShapeRenderer.java"
          ],
          [
           "./src/main/java/org/jfree/chart/renderer/category/WaterfallBarRenderer.java"
          ],
          [
           "./src/main/java/org/jfree/chart/renderer/DefaultPolarItemRenderer.java"
          ],
          [
           "./src/main/java/org/jfree/chart/renderer/GrayPaintScale.java"
          ],
          [
           "./src/main/java/org/jfree/chart/renderer/LookupPaintScale.java"
          ],
          [
           "./src/main/java/org/jfree/chart/renderer/NotOutlierException.java"
          ],
          [
           "./src/main/java/org/jfree/chart/renderer/Outlier.java"
          ],
          [
           "./src/main/java/org/jfree/chart/renderer/OutlierList.java"
          ],
          [
           "./src/main/java/org/jfree/chart/renderer/OutlierListCollection.java"
          ],
          [
           "./src/main/java/org/jfree/chart/renderer/PaintScale.java"
          ],
          [
           "./src/main/java/org/jfree/chart/renderer/PolarItemRenderer.java"
          ],
          [
           "./src/main/java/org/jfree/chart/renderer/RendererState.java"
          ],
          [
           "./src/main/java/org/jfree/chart/renderer/RendererUtils.java"
          ],
          [
           "./src/main/java/org/jfree/chart/renderer/WaferMapRenderer.java"
          ],
          [
           "./src/main/java/org/jfree/chart/renderer/xy/AbstractXYItemRenderer.java"
          ],
          [
           "./src/main/java/org/jfree/chart/renderer/xy/CandlestickRenderer.java"
          ],
          [
           "./src/main/java/org/jfree/chart/renderer/xy/ClusteredXYBarRenderer.java"
          ],
          [
           "./src/main/java/org/jfree/chart/renderer/xy/CyclicXYItemRenderer.java"
          ],
          [
           "./src/main/java/org/jfree/chart/renderer/xy/DefaultXYItemRenderer.java"
          ],
          [
           "./src/main/java/org/jfree/chart/renderer/xy/DeviationRenderer.java"
          ],
          [
           "./src/main/java/org/jfree/chart/renderer/xy/DeviationStepRenderer.java"
          ],
          [
           "./src/main/java/org/jfree/chart/renderer/xy/GradientXYBarPainter.java"
          ],
          [
           "./src/main/java/org/jfree/chart/renderer/xy/HighLowRenderer.java"
          ],
          [
           "./src/main/java/org/jfree/chart/renderer/xy/SamplingXYLineRenderer.java"
          ],
          [
           "./src/main/java/org/jfree/chart/renderer/xy/StackedXYAreaRenderer.java"
          ],
          [
           "./src/main/java/org/jfree/chart/renderer/xy/StackedXYAreaRenderer2.java"
          ],
          [
           "./src/main/java/org/jfree/chart/renderer/xy/StackedXYBarRenderer.java"
          ],
          [
           "./src/main/java/org/jfree/chart/renderer/xy/StandardXYBarPainter.java"
          ],
          [
           "./src/main/java/org/jfree/chart/renderer/xy/StandardXYItemRenderer.java"
          ],
          [
           "./src/main/java/org/jfree/chart/renderer/xy/VectorRenderer.java"
          ],
          [
           "./src/main/java/org/jfree/chart/renderer/xy/WindItemRenderer.java"
          ],
          [
           "./src/main/java/org/jfree/chart/renderer/xy/XYAreaRenderer.java"
          ],
          [
           "./src/main/java/org/jfree/chart/renderer/xy/XYAreaRenderer2.java"
          ],
          [
           "./src/main/java/org/jfree/chart/renderer/xy/XYBarPainter.java"
          ],
          [
           "./src/main/java/org/jfree/chart/renderer/xy/XYBarRenderer.java"
          ],
          [
           "./src/main/java/org/jfree/chart/renderer/xy/XYBlockRenderer.java"
          ],
          [
           "./src/main/java/org/jfree/chart/renderer/xy/XYBoxAndWhiskerRenderer.java"
          ],
          [
           "./src/main/java/org/jfree/chart/renderer/xy/XYBubbleRenderer.java"
          ],
          [
           "./src/main/java/org/jfree/chart/renderer/xy/XYDifferenceRenderer.java"
          ],
          [
           "./src/main/java/org/jfree/chart/renderer/xy/XYDotRenderer.java"
          ],
          [
           "./src/main/java/org/jfree/chart/renderer/xy/XYErrorRenderer.java"
          ],
          [
           "./src/main/java/org/jfree/chart/renderer/xy/XYItemRenderer.java"
          ],
          [
           "./src/main/java/org/jfree/chart/renderer/xy/XYItemRendererState.java"
          ],
          [
           "./src/main/java/org/jfree/chart/renderer/xy/XYLineAndShapeRenderer.java"
          ],
          [
           "./src/main/java/org/jfree/chart/renderer/xy/XYShapeRenderer.java"
          ],
          [
           "./src/main/java/org/jfree/chart/renderer/xy/XYSplineRenderer.java"
          ],
          [
           "./src/main/java/org/jfree/chart/renderer/xy/XYStepAreaRenderer.java"
          ],
          [
           "./src/main/java/org/jfree/chart/renderer/xy/XYStepRenderer.java"
          ],
          [
           "./src/main/java/org/jfree/chart/renderer/xy/YIntervalRenderer.java"
          ],
          [
           "./src/main/java/org/jfree/chart/StandardChartTheme.java"
          ],
          [
           "./src/main/java/org/jfree/chart/swing/AbstractOverlay.java"
          ],
          [
           "./src/main/java/org/jfree/chart/swing/ApplicationFrame.java"
          ],
          [
           "./src/main/java/org/jfree/chart/swing/ChartFrame.java"
          ],
          [
           "./src/main/java/org/jfree/chart/swing/ChartMouseEvent.java"
          ],
          [
           "./src/main/java/org/jfree/chart/swing/ChartMouseListener.java"
          ],
          [
           "./src/main/java/org/jfree/chart/swing/ChartPanel.java"
          ],
          [
           "./src/main/java/org/jfree/chart/swing/CrosshairOverlay.java"
          ],
          [
           "./src/main/java/org/jfree/chart/swing/DefaultSelectionZoomStrategy.java"
          ],
          [
           "./src/main/java/org/jfree/chart/swing/editor/ChartEditor.java"
          ],
          [
           "./src/main/java/org/jfree/chart/swing/editor/ChartEditorFactory.java"
          ],
          [
           "./src/main/java/org/jfree/chart/swing/editor/ChartEditorManager.java"
          ],
          [
           "./src/main/java/org/jfree/chart/swing/editor/DefaultAxisEditor.java"
          ],
          [
           "./src/main/java/org/jfree/chart/swing/editor/DefaultChartEditor.java"
          ],
          [
           "./src/main/java/org/jfree/chart/swing/editor/DefaultChartEditorFactory.java"
          ],
          [
           "./src/main/java/org/jfree/chart/swing/editor/DefaultLogAxisEditor.java"
          ],
          [
           "./src/main/java/org/jfree/chart/swing/editor/DefaultNumberAxisEditor.java"
          ],
          [
           "./src/main/java/org/jfree/chart/swing/editor/DefaultPlotEditor.java"
          ],
          [
           "./src/main/java/org/jfree/chart/swing/editor/DefaultPolarPlotEditor.java"
          ],
          [
           "./src/main/java/org/jfree/chart/swing/editor/DefaultTitleEditor.java"
          ],
          [
           "./src/main/java/org/jfree/chart/swing/editor/DefaultValueAxisEditor.java"
          ],
          [
           "./src/main/java/org/jfree/chart/swing/editor/FontChooserPanel.java"
          ],
          [
           "./src/main/java/org/jfree/chart/swing/editor/FontDisplayField.java"
          ],
          [
           "./src/main/java/org/jfree/chart/swing/editor/LCBLayout.java"
          ],
          [
           "./src/main/java/org/jfree/chart/swing/editor/PaintSample.java"
          ],
          [
           "./src/main/java/org/jfree/chart/swing/editor/StrokeChooserPanel.java"
          ],
          [
           "./src/main/java/org/jfree/chart/swing/editor/StrokeSample.java"
          ],
          [
           "./src/main/java/org/jfree/chart/swing/MouseWheelHandler.java"
          ],
          [
           "./src/main/java/org/jfree/chart/swing/NumberCellRenderer.java"
          ],
          [
           "./src/main/java/org/jfree/chart/swing/Overlay.java"
          ],
          [
           "./src/main/java/org/jfree/chart/swing/OverlayChangeEvent.java"
          ],
          [
           "./src/main/java/org/jfree/chart/swing/OverlayChangeListener.java"
          ],
          [
           "./src/main/java/org/jfree/chart/swing/PolarChartPanel.java"
          ],
          [
           "./src/main/java/org/jfree/chart/swing/SelectionZoomStrategy.java"
          ],
          [
           "./src/main/java/org/jfree/chart/swing/UIUtils.java"
          ],
          [
           "./src/main/java/org/jfree/chart/text/AttributedStringUtils.java"
          ],
          [
           "./src/main/java/org/jfree/chart/text/format/HexNumberFormat.java"
          ],
          [
           "./src/main/java/org/jfree/chart/text/format/HMSNumberFormat.java"
          ],
          [
           "./src/main/java/org/jfree/chart/text/format/LogFormat.java"
          ],
          [
           "./src/main/java/org/jfree/chart/text/format/RelativeDateFormat.java"
          ],
          [
           "./src/main/java/org/jfree/chart/text/G2TextMeasurer.java"
          ],
          [
           "./src/main/java/org/jfree/chart/text/TextAnchor.java"
          ],
          [
           "./src/main/java/org/jfree/chart/text/TextBlock.java"
          ],
          [
           "./src/main/java/org/jfree/chart/text/TextBlockAnchor.java"
          ],
          [
           "./src/main/java/org/jfree/chart/text/TextBox.java"
          ],
          [
           "./src/main/java/org/jfree/chart/text/TextFragment.java"
          ],
          [
           "./src/main/java/org/jfree/chart/text/TextLine.java"
          ],
          [
           "./src/main/java/org/jfree/chart/text/TextMeasurer.java"
          ],
          [
           "./src/main/java/org/jfree/chart/text/TextUtils.java"
          ],
          [
           "./src/main/java/org/jfree/chart/title/CompositeTitle.java"
          ],
          [
           "./src/main/java/org/jfree/chart/title/DateTitle.java"
          ],
          [
           "./src/main/java/org/jfree/chart/title/ImageTitle.java"
          ],
          [
           "./src/main/java/org/jfree/chart/title/ShortTextTitle.java"
          ],
          [
           "./src/main/java/org/jfree/chart/title/TextTitle.java"
          ],
          [
           "./src/main/java/org/jfree/chart/title/Title.java"
          ],
          [
           "./src/main/java/org/jfree/chart/urls/CategoryURLGenerator.java"
          ],
          [
           "./src/main/java/org/jfree/chart/urls/CustomCategoryURLGenerator.java"
          ],
          [
           "./src/main/java/org/jfree/chart/urls/CustomPieURLGenerator.java"
          ],
          [
           "./src/main/java/org/jfree/chart/urls/CustomXYURLGenerator.java"
          ],
          [
           "./src/main/java/org/jfree/chart/urls/PieURLGenerator.java"
          ],
          [
           "./src/main/java/org/jfree/chart/urls/StandardCategoryURLGenerator.java"
          ],
          [
           "./src/main/java/org/jfree/chart/urls/StandardPieURLGenerator.java"
          ],
          [
           "./src/main/java/org/jfree/chart/urls/StandardXYURLGenerator.java"
          ],
          [
           "./src/main/java/org/jfree/chart/urls/StandardXYZURLGenerator.java"
          ],
          [
           "./src/main/java/org/jfree/chart/urls/TimeSeriesURLGenerator.java"
          ],
          [
           "./src/main/java/org/jfree/chart/urls/XYURLGenerator.java"
          ],
          [
           "./src/main/java/org/jfree/chart/urls/XYZURLGenerator.java"
          ],
          [
           "./src/main/java/org/jfree/chart/util/AttrStringUtils.java"
          ],
          [
           "./src/main/java/org/jfree/chart/util/DefaultShadowGenerator.java"
          ],
          [
           "./src/main/java/org/jfree/chart/util/DirectionalGradientPaintTransformer.java"
          ],
          [
           "./src/main/java/org/jfree/chart/util/ExportUtils.java"
          ],
          [
           "./src/main/java/org/jfree/chart/util/GradientPaintTransformer.java"
          ],
          [
           "./src/main/java/org/jfree/chart/util/GradientPaintTransformType.java"
          ],
          [
           "./src/main/java/org/jfree/chart/util/PaintAlpha.java"
          ],
          [
           "./src/main/java/org/jfree/chart/util/ShadowGenerator.java"
          ],
          [
           "./src/main/java/org/jfree/chart/util/StandardGradientPaintTransformer.java"
          ],
          [
           "./src/main/java/org/jfree/chart/util/StringUtils.java"
          ],
          [
           "./src/main/java/org/jfree/data/category/CategoryDataset.java"
          ],
          [
           "./src/main/java/org/jfree/data/category/CategoryRangeInfo.java"
          ],
          [
           "./src/main/java/org/jfree/data/category/CategoryToPieDataset.java"
          ],
          [
           "./src/main/java/org/jfree/data/category/DefaultCategoryDataset.java"
          ],
          [
           "./src/main/java/org/jfree/data/category/DefaultIntervalCategoryDataset.java"
          ],
          [
           "./src/main/java/org/jfree/data/category/IntervalCategoryDataset.java"
          ],
          [
           "./src/main/java/org/jfree/data/category/SlidingCategoryDataset.java"
          ],
          [
           "./src/main/java/org/jfree/data/ComparableObjectItem.java"
          ],
          [
           "./src/main/java/org/jfree/data/ComparableObjectSeries.java"
          ],
          [
           "./src/main/java/org/jfree/data/DataUtils.java"
          ],
          [
           "./src/main/java/org/jfree/data/DefaultKeyedValue.java"
          ],
          [
           "./src/main/java/org/jfree/data/DefaultKeyedValues.java"
          ],
          [
           "./src/main/java/org/jfree/data/DefaultKeyedValues2D.java"
          ],
          [
           "./src/main/java/org/jfree/data/DomainInfo.java"
          ],
          [
           "./src/main/java/org/jfree/data/DomainOrder.java"
          ],
          [
           "./src/main/java/org/jfree/data/flow/DefaultFlowDataset.java"
          ],
          [
           "./src/main/java/org/jfree/data/flow/FlowDataset.java"
          ],
          [
           "./src/main/java/org/jfree/data/flow/FlowDatasetUtils.java"
          ],
          [
           "./src/main/java/org/jfree/data/flow/FlowKey.java"
          ],
          [
           "./src/main/java/org/jfree/data/flow/NodeKey.java"
          ],
          [
           "./src/main/java/org/jfree/data/function/Function2D.java"
          ],
          [
           "./src/main/java/org/jfree/data/function/LineFunction2D.java"
          ],
          [
           "./src/main/java/org/jfree/data/function/NormalDistributionFunction2D.java"
          ],
          [
           "./src/main/java/org/jfree/data/function/PolynomialFunction2D.java"
          ],
          [
           "./src/main/java/org/jfree/data/function/PowerFunction2D.java"
          ],
          [
           "./src/main/java/org/jfree/data/gantt/GanttCategoryDataset.java"
          ],
          [
           "./src/main/java/org/jfree/data/gantt/SlidingGanttCategoryDataset.java"
          ],
          [
           "./src/main/java/org/jfree/data/gantt/Task.java"
          ],
          [
           "./src/main/java/org/jfree/data/gantt/TaskSeries.java"
          ],
          [
           "./src/main/java/org/jfree/data/gantt/TaskSeriesCollection.java"
          ],
          [
           "./src/main/java/org/jfree/data/gantt/XYTaskDataset.java"
          ],
          [
           "./src/main/java/org/jfree/data/general/AbstractDataset.java"
          ],
          [
           "./src/main/java/org/jfree/data/general/AbstractSeriesDataset.java"
          ],
          [
           "./src/main/java/org/jfree/data/general/Dataset.java"
          ],
          [
           "./src/main/java/org/jfree/data/general/DatasetChangeEvent.java"
          ],
          [
           "./src/main/java/org/jfree/data/general/DatasetChangeListener.java"
          ],
          [
           "./src/main/java/org/jfree/data/general/DatasetUtils.java"
          ],
          [
           "./src/main/java/org/jfree/data/general/DefaultHeatMapDataset.java"
          ],
          [
           "./src/main/java/org/jfree/data/general/DefaultKeyedValueDataset.java"
          ],
          [
           "./src/main/java/org/jfree/data/general/DefaultKeyedValues2DDataset.java"
          ],
          [
           "./src/main/java/org/jfree/data/general/DefaultKeyedValuesDataset.java"
          ],
          [
           "./src/main/java/org/jfree/data/general/DefaultPieDataset.java"
          ],
          [
           "./src/main/java/org/jfree/data/general/DefaultValueDataset.java"
          ],
          [
           "./src/main/java/org/jfree/data/general/HeatMapDataset.java"
          ],
          [
           "./src/main/java/org/jfree/data/general/HeatMapUtils.java"
          ],
          [
           "./src/main/java/org/jfree/data/general/KeyedValueDataset.java"
          ],
          [
           "./src/main/java/org/jfree/data/general/KeyedValues2DDataset.java"
          ],
          [
           "./src/main/java/org/jfree/data/general/KeyedValuesDataset.java"
          ],
          [
           "./src/main/java/org/jfree/data/general/PieDataset.java"
          ],
          [
           "./src/main/java/org/jfree/data/general/Series.java"
          ],
          [
           "./src/main/java/org/jfree/data/general/SeriesChangeEvent.java"
          ],
          [
           "./src/main/java/org/jfree/data/general/SeriesChangeListener.java"
          ],
          [
           "./src/main/java/org/jfree/data/general/SeriesDataset.java"
          ],
          [
           "./src/main/java/org/jfree/data/general/SeriesException.java"
          ],
          [
           "./src/main/java/org/jfree/data/general/ValueDataset.java"
          ],
          [
           "./src/main/java/org/jfree/data/general/WaferMapDataset.java"
          ],
          [
           "./src/main/java/org/jfree/data/io/CSV.java"
          ],
          [
           "./src/main/java/org/jfree/data/ItemKey.java"
          ],
          [
           "./src/main/java/org/jfree/data/json/impl/JSONArray.java"
          ],
          [
           "./src/main/java/org/jfree/data/json/impl/JSONAware.java"
          ],
          [
           "./src/main/java/org/jfree/data/json/impl/JSONObject.java"
          ],
          [
           "./src/main/java/org/jfree/data/json/impl/JSONStreamAware.java"
          ],
          [
           "./src/main/java/org/jfree/data/json/impl/JSONValue.java"
          ],
          [
           "./src/main/java/org/jfree/data/json/JSONUtils.java"
          ],
          [
           "./src/main/java/org/jfree/data/KeyedObject.java"
          ],
          [
           "./src/main/java/org/jfree/data/KeyedObjects.java"
          ],
          [
           "./src/main/java/org/jfree/data/KeyedObjects2D.java"
          ],
          [
           "./src/main/java/org/jfree/data/KeyedValue.java"
          ],
          [
           "./src/main/java/org/jfree/data/KeyedValueComparator.java"
          ],
          [
           "./src/main/java/org/jfree/data/KeyedValueComparatorType.java"
          ],
          [
           "./src/main/java/org/jfree/data/KeyedValues.java"
          ],
          [
           "./src/main/java/org/jfree/data/KeyedValues2D.java"
          ],
          [
           "./src/main/java/org/jfree/data/KeyedValues2DItemKey.java"
          ],
          [
           "./src/main/java/org/jfree/data/KeyedValuesItemKey.java"
          ],
          [
           "./src/main/java/org/jfree/data/KeyToGroupMap.java"
          ],
          [
           "./src/main/java/org/jfree/data/Range.java"
          ],
          [
           "./src/main/java/org/jfree/data/RangeInfo.java"
          ],
          [
           "./src/main/java/org/jfree/data/RangeType.java"
          ],
          [
           "./src/main/java/org/jfree/data/resources/DataPackageResources.java"
          ],
          [
           "./src/main/java/org/jfree/data/resources/DataPackageResources_de.java"
          ],
          [
           "./src/main/java/org/jfree/data/resources/DataPackageResources_es.java"
          ],
          [
           "./src/main/java/org/jfree/data/resources/DataPackageResources_fr.java"
          ],
          [
           "./src/main/java/org/jfree/data/resources/DataPackageResources_pl.java"
          ],
          [
           "./src/main/java/org/jfree/data/resources/DataPackageResources_ru.java"
          ],
          [
           "./src/main/java/org/jfree/data/statistics/BoxAndWhiskerCalculator.java"
          ],
          [
           "./src/main/java/org/jfree/data/statistics/BoxAndWhiskerCategoryDataset.java"
          ],
          [
           "./src/main/java/org/jfree/data/statistics/BoxAndWhiskerItem.java"
          ],
          [
           "./src/main/java/org/jfree/data/statistics/BoxAndWhiskerXYDataset.java"
          ],
          [
           "./src/main/java/org/jfree/data/statistics/DefaultBoxAndWhiskerCategoryDataset.java"
          ],
          [
           "./src/main/java/org/jfree/data/statistics/DefaultBoxAndWhiskerXYDataset.java"
          ],
          [
           "./src/main/java/org/jfree/data/statistics/DefaultMultiValueCategoryDataset.java"
          ],
          [
           "./src/main/java/org/jfree/data/statistics/DefaultStatisticalCategoryDataset.java"
          ],
          [
           "./src/main/java/org/jfree/data/statistics/HistogramBin.java"
          ],
          [
           "./src/main/java/org/jfree/data/statistics/HistogramDataset.java"
          ],
          [
           "./src/main/java/org/jfree/data/statistics/HistogramType.java"
          ],
          [
           "./src/main/java/org/jfree/data/statistics/MeanAndStandardDeviation.java"
          ],
          [
           "./src/main/java/org/jfree/data/statistics/MultiValueCategoryDataset.java"
          ],
          [
           "./src/main/java/org/jfree/data/statistics/Regression.java"
          ],
          [
           "./src/main/java/org/jfree/data/statistics/SimpleHistogramBin.java"
          ],
          [
           "./src/main/java/org/jfree/data/statistics/SimpleHistogramDataset.java"
          ],
          [
           "./src/main/java/org/jfree/data/statistics/StatisticalCategoryDataset.java"
          ],
          [
           "./src/main/java/org/jfree/data/statistics/Statistics.java"
          ],
          [
           "./src/main/java/org/jfree/data/time/DateRange.java"
          ],
          [
           "./src/main/java/org/jfree/data/time/Day.java"
          ],
          [
           "./src/main/java/org/jfree/data/time/DynamicTimeSeriesCollection.java"
          ],
          [
           "./src/main/java/org/jfree/data/time/FixedMillisecond.java"
          ],
          [
           "./src/main/java/org/jfree/data/time/Hour.java"
          ],
          [
           "./src/main/java/org/jfree/data/time/Millisecond.java"
          ],
          [
           "./src/main/java/org/jfree/data/time/Minute.java"
          ],
          [
           "./src/main/java/org/jfree/data/time/Month.java"
          ],
          [
           "./src/main/java/org/jfree/data/time/MovingAverage.java"
          ],
          [
           "./src/main/java/org/jfree/data/time/ohlc/OHLC.java"
          ],
          [
           "./src/main/java/org/jfree/data/time/ohlc/OHLCItem.java"
          ],
          [
           "./src/main/java/org/jfree/data/time/ohlc/OHLCSeries.java"
          ],
          [
           "./src/main/java/org/jfree/data/time/ohlc/OHLCSeriesCollection.java"
          ],
          [
           "./src/main/java/org/jfree/data/time/Quarter.java"
          ],
          [
           "./src/main/java/org/jfree/data/time/RegularTimePeriod.java"
          ],
          [
           "./src/main/java/org/jfree/data/time/Second.java"
          ],
          [
           "./src/main/java/org/jfree/data/time/SimpleTimePeriod.java"
          ],
          [
           "./src/main/java/org/jfree/data/time/TimePeriod.java"
          ],
          [
           "./src/main/java/org/jfree/data/time/TimePeriodAnchor.java"
          ],
          [
           "./src/main/java/org/jfree/data/time/TimePeriodFormatException.java"
          ],
          [
           "./src/main/java/org/jfree/data/time/TimePeriodValue.java"
          ],
          [
           "./src/main/java/org/jfree/data/time/TimePeriodValues.java"
          ],
          [
           "./src/main/java/org/jfree/data/time/TimePeriodValuesCollection.java"
          ],
          [
           "./src/main/java/org/jfree/data/time/TimeSeries.java"
          ],
          [
           "./src/main/java/org/jfree/data/time/TimeSeriesCollection.java"
          ],
          [
           "./src/main/java/org/jfree/data/time/TimeSeriesDataItem.java"
          ],
          [
           "./src/main/java/org/jfree/data/time/TimeSeriesTableModel.java"
          ],
          [
           "./src/main/java/org/jfree/data/time/TimeTableXYDataset.java"
          ],
          [
           "./src/main/java/org/jfree/data/time/Week.java"
          ],
          [
           "./src/main/java/org/jfree/data/time/Year.java"
          ],
          [
           "./src/main/java/org/jfree/data/UnknownKeyException.java"
          ],
          [
           "./src/main/java/org/jfree/data/Value.java"
          ],
          [
           "./src/main/java/org/jfree/data/Values.java"
          ],
          [
           "./src/main/java/org/jfree/data/Values2D.java"
          ],
          [
           "./src/main/java/org/jfree/data/xml/CategoryDatasetHandler.java"
          ],
          [
           "./src/main/java/org/jfree/data/xml/CategorySeriesHandler.java"
          ],
          [
           "./src/main/java/org/jfree/data/xml/DatasetReader.java"
          ],
          [
           "./src/main/java/org/jfree/data/xml/DatasetTags.java"
          ],
          [
           "./src/main/java/org/jfree/data/xml/ItemHandler.java"
          ],
          [
           "./src/main/java/org/jfree/data/xml/KeyHandler.java"
          ],
          [
           "./src/main/java/org/jfree/data/xml/PieDatasetHandler.java"
          ],
          [
           "./src/main/java/org/jfree/data/xml/RootHandler.java"
          ],
          [
           "./src/main/java/org/jfree/data/xml/ValueHandler.java"
          ],
          [
           "./src/main/java/org/jfree/data/xy/AbstractIntervalXYDataset.java"
          ],
          [
           "./src/main/java/org/jfree/data/xy/AbstractXYDataset.java"
          ],
          [
           "./src/main/java/org/jfree/data/xy/AbstractXYZDataset.java"
          ],
          [
           "./src/main/java/org/jfree/data/xy/CategoryTableXYDataset.java"
          ],
          [
           "./src/main/java/org/jfree/data/xy/DefaultHighLowDataset.java"
          ],
          [
           "./src/main/java/org/jfree/data/xy/DefaultIntervalXYDataset.java"
          ],
          [
           "./src/main/java/org/jfree/data/xy/DefaultOHLCDataset.java"
          ],
          [
           "./src/main/java/org/jfree/data/xy/DefaultTableXYDataset.java"
          ],
          [
           "./src/main/java/org/jfree/data/xy/DefaultWindDataset.java"
          ],
          [
           "./src/main/java/org/jfree/data/xy/DefaultXYDataset.java"
          ],
          [
           "./src/main/java/org/jfree/data/xy/DefaultXYZDataset.java"
          ],
          [
           "./src/main/java/org/jfree/data/xy/IntervalXYDataset.java"
          ],
          [
           "./src/main/java/org/jfree/data/xy/IntervalXYDelegate.java"
          ],
          [
           "./src/main/java/org/jfree/data/xy/IntervalXYZDataset.java"
          ],
          [
           "./src/main/java/org/jfree/data/xy/MatrixSeries.java"
          ],
          [
           "./src/main/java/org/jfree/data/xy/MatrixSeriesCollection.java"
          ],
          [
           "./src/main/java/org/jfree/data/xy/NormalizedMatrixSeries.java"
          ],
          [
           "./src/main/java/org/jfree/data/xy/OHLCDataItem.java"
          ],
          [
           "./src/main/java/org/jfree/data/xy/OHLCDataset.java"
          ],
          [
           "./src/main/java/org/jfree/data/xy/TableXYDataset.java"
          ],
          [
           "./src/main/java/org/jfree/data/xy/Vector.java"
          ],
          [
           "./src/main/java/org/jfree/data/xy/VectorDataItem.java"
          ],
          [
           "./src/main/java/org/jfree/data/xy/VectorSeries.java"
          ],
          [
           "./src/main/java/org/jfree/data/xy/VectorSeriesCollection.java"
          ],
          [
           "./src/main/java/org/jfree/data/xy/VectorXYDataset.java"
          ],
          [
           "./src/main/java/org/jfree/data/xy/WindDataset.java"
          ],
          [
           "./src/main/java/org/jfree/data/xy/XIntervalDataItem.java"
          ],
          [
           "./src/main/java/org/jfree/data/xy/XIntervalSeries.java"
          ],
          [
           "./src/main/java/org/jfree/data/xy/XIntervalSeriesCollection.java"
          ],
          [
           "./src/main/java/org/jfree/data/xy/XisSymbolic.java"
          ],
          [
           "./src/main/java/org/jfree/data/xy/XYBarDataset.java"
          ],
          [
           "./src/main/java/org/jfree/data/xy/XYCoordinate.java"
          ],
          [
           "./src/main/java/org/jfree/data/xy/XYDataItem.java"
          ],
          [
           "./src/main/java/org/jfree/data/xy/XYDataset.java"
          ],
          [
           "./src/main/java/org/jfree/data/xy/XYDatasetTableModel.java"
          ],
          [
           "./src/main/java/org/jfree/data/xy/XYDomainInfo.java"
          ],
          [
           "./src/main/java/org/jfree/data/xy/XYInterval.java"
          ],
          [
           "./src/main/java/org/jfree/data/xy/XYIntervalDataItem.java"
          ],
          [
           "./src/main/java/org/jfree/data/xy/XYIntervalSeries.java"
          ],
          [
           "./src/main/java/org/jfree/data/xy/XYIntervalSeriesCollection.java"
          ],
          [
           "./src/main/java/org/jfree/data/xy/XYItemKey.java"
          ],
          [
           "./src/main/java/org/jfree/data/xy/XYRangeInfo.java"
          ],
          [
           "./src/main/java/org/jfree/data/xy/XYSeries.java"
          ],
          [
           "./src/main/java/org/jfree/data/xy/XYSeriesCollection.java"
          ],
          [
           "./src/main/java/org/jfree/data/xy/XYZDataset.java"
          ],
          [
           "./src/main/java/org/jfree/data/xy/YInterval.java"
          ],
          [
           "./src/main/java/org/jfree/data/xy/YIntervalDataItem.java"
          ],
          [
           "./src/main/java/org/jfree/data/xy/YIntervalSeries.java"
          ],
          [
           "./src/main/java/org/jfree/data/xy/YIntervalSeriesCollection.java"
          ],
          [
           "./src/main/java/org/jfree/data/xy/YisSymbolic.java"
          ],
          [
           "./src/main/java/org/jfree/data/xy/YWithXInterval.java"
          ]
         ],
         "hovertemplate": "DCP=%{y}<br>class=%{customdata[0]}<extra></extra>",
         "legendgroup": "",
         "marker": {
          "color": "#636efa"
         },
         "name": "",
         "notched": true,
         "offsetgroup": "",
         "orientation": "v",
         "showlegend": false,
         "type": "box",
         "x0": " ",
         "xaxis": "x",
         "y": [
          65.66,
          58.6,
          87.72,
          83.33,
          49.23,
          50.42,
          50,
          56.37,
          82.81,
          89.06,
          48.54,
          52.54,
          47.04,
          50.74,
          45.62,
          48.99,
          46.73,
          44.12,
          51.63,
          40.95,
          87.5,
          86.49,
          87.23,
          90.57,
          37.5,
          37.5,
          60.75,
          49.28,
          82.09,
          88.64,
          88.64,
          88.64,
          87.5,
          88.68,
          48.63,
          61.42,
          87.23,
          67.9,
          44.74,
          62.29,
          87.5,
          43.98,
          56.77,
          40.71,
          88.89,
          58.33,
          65.71,
          37.69,
          36.35,
          65,
          88.68,
          55.84,
          75.68,
          53.91,
          41.01,
          41.45,
          80.56,
          45.04,
          45.98,
          57.39,
          41.7,
          77.38,
          60.43,
          26.64,
          38.98,
          50.63,
          54.24,
          67.23,
          41.31,
          37.89,
          58.6,
          88.89,
          61.68,
          63.08,
          91.89,
          91.73,
          49.64,
          65.85,
          55.73,
          89.71,
          87.13,
          52.8,
          50.39,
          85,
          76,
          79.17,
          25.24,
          53.33,
          58.86,
          41.57,
          70.27,
          92.59,
          90.57,
          43.07,
          40.69,
          53.26,
          88.46,
          44.86,
          53.44,
          60.4,
          53.02,
          91.67,
          91.49,
          46.52,
          73.12,
          58.01,
          92.16,
          55.84,
          62.7,
          76.92,
          58.53,
          56.79,
          86.05,
          70.22,
          86.32,
          63.64,
          88.46,
          62.18,
          69.23,
          58.64,
          62.86,
          61.54,
          51.21,
          86.32,
          63.46,
          58.42,
          63.64,
          73.86,
          61.61,
          58.42,
          54.74,
          82.46,
          58.42,
          65.35,
          63.4,
          78.79,
          88,
          80.65,
          90.91,
          70.43,
          87.23,
          90.38,
          69.57,
          88.89,
          89.8,
          80.95,
          88,
          81.25,
          90,
          78.16,
          89.8,
          80.33,
          90,
          76.74,
          48.54,
          81.16,
          81.54,
          83.33,
          93.44,
          87.1,
          70.18,
          43.62,
          48.85,
          66.15,
          44.37,
          41.79,
          34.07,
          46.42,
          48.14,
          52.8,
          51.64,
          50.79,
          60.9,
          59.86,
          52.48,
          90.91,
          91.07,
          91.8,
          90,
          54.44,
          88.89,
          46.46,
          55.74,
          54.61,
          48.18,
          48.97,
          69.57,
          55.29,
          47.17,
          87.06,
          90.74,
          64.66,
          60.42,
          63.87,
          58.39,
          59.13,
          63.04,
          71.32,
          66.47,
          61.59,
          66.09,
          52.81,
          55.13,
          90.74,
          91.23,
          90.57,
          90.57,
          51.1,
          52.39,
          59.41,
          60.56,
          90,
          88.89,
          43.76,
          40.79,
          59.24,
          60.34,
          46.61,
          87.23,
          41.6,
          42.69,
          40.39,
          42.57,
          50,
          43.56,
          62.73,
          45.96,
          52.66,
          53.79,
          54.62,
          57.5,
          50,
          58.82,
          58.72,
          55.79,
          66.36,
          91.67,
          40.39,
          61.66,
          51.18,
          58.68,
          57.05,
          88.14,
          86.27,
          80.65,
          90.2,
          50.4,
          50.36,
          92.06,
          55.96,
          52.61,
          53.73,
          53.71,
          54.58,
          87.5,
          86.36,
          47.95,
          39.74,
          58.38,
          55.56,
          55.05,
          44.71,
          86.25,
          75,
          38.15,
          46.46,
          87.5,
          54.94,
          47.04,
          66.11,
          50.27,
          83.08,
          55.68,
          77.05,
          82.26,
          46.33,
          47.46,
          91.38,
          47.15,
          47.09,
          88.68,
          68.15,
          39.07,
          88.46,
          45.15,
          88.08,
          55.48,
          89.66,
          40.01,
          35.79,
          86.9,
          43.08,
          41.11,
          88.19,
          65.59,
          46.3,
          86.54,
          36.76,
          36.76,
          34.34,
          46.82,
          32.01,
          44.91,
          51.03,
          45.64,
          49.63,
          35.16,
          37.57,
          47.52,
          33.98,
          36.85,
          39.16,
          41.79,
          59.61,
          47.97,
          89.47,
          64.29,
          68.59,
          68.79,
          89.04,
          80.77,
          69.9,
          38.06,
          40.7,
          36.09,
          47.56,
          39.02,
          43.02,
          88.46,
          50.88,
          38.65,
          36.87,
          45.76,
          48.95,
          44.99,
          34.08,
          40.11,
          47.52,
          48.34,
          34.08,
          46.5,
          40.37,
          40.31,
          86.25,
          42.53,
          46.69,
          40.79,
          38.26,
          33.02,
          49.7,
          48.67,
          87.26,
          79.67,
          51.67,
          51.6,
          44.28,
          48.14,
          47.15,
          48.74,
          42.4,
          68.32,
          69.3,
          69.88,
          70.83,
          88.14,
          42.73,
          29.81,
          34.73,
          88.46,
          90,
          77.78,
          50.11,
          38.63,
          82.76,
          44.59,
          35.76,
          34.94,
          41.18,
          38.74,
          38.42,
          37.91,
          66.28,
          37.71,
          57,
          63.86,
          50.68,
          53.24,
          61.54,
          91.03,
          86,
          89.58,
          46.05,
          85,
          53.04,
          51.14,
          66.18,
          69.52,
          55.86,
          54.29,
          71.43,
          64.83,
          49.63,
          78.18,
          46.03,
          52.99,
          51.35,
          90.91,
          43.78,
          56.5,
          75.97,
          46.67,
          46.64,
          41.38,
          54.55,
          91.78,
          50.84,
          53.43,
          53.89,
          92.19,
          51.96,
          53.64,
          58.57,
          85,
          50.82,
          92.42,
          91.8,
          39.13,
          44.37,
          61.6,
          46.92,
          87.23,
          82.5,
          59.44,
          89.71,
          49.36,
          71.26,
          90.77,
          88.71,
          48.68,
          64.56,
          48.79,
          90.8,
          56.32,
          63.4,
          50.94,
          48.99,
          62.42,
          50.85,
          49.7,
          91.89,
          87.23,
          48.29,
          88.62,
          52.06,
          57.69,
          60,
          92.59,
          65.29,
          61.24,
          67.52,
          65.29,
          90.63,
          54.13,
          57.21,
          57.07,
          50.08,
          54.38,
          68.33,
          72,
          91.23,
          86.25,
          91.23,
          37.27,
          55.7,
          56.91,
          85.96,
          89.13,
          60.68,
          67.19,
          90.78,
          57.98,
          91.49,
          91.49,
          90.7,
          89.8,
          64.25,
          84.48,
          90.74,
          85.9,
          86.21,
          91.49,
          60.07,
          48.39,
          91.49,
          50,
          90.24,
          51.43,
          86.96,
          50.32,
          45.45,
          58.52,
          52.7,
          47.19,
          92,
          44.37,
          90.38,
          91.01,
          88.35,
          48.94,
          54.21,
          43.55,
          53.77,
          91.43,
          88.68,
          80.65,
          80.65,
          80.65,
          80.33,
          80.95,
          79.66,
          44.72,
          88.99,
          52.47,
          89.7,
          52.59,
          54.3,
          48.42,
          46.93,
          60.26,
          54.19,
          88.46,
          60.37,
          87.88,
          32.42,
          49.81,
          58.41,
          88.75,
          44.29,
          70.07,
          57.01,
          53.14,
          57.31,
          55.53,
          52.91,
          53.79,
          51.72,
          44.26,
          59.03,
          60.47,
          70.08,
          58.81,
          55,
          69.53,
          53.33,
          54.73,
          89.47,
          87.5,
          87.76,
          60.71,
          48,
          49.64,
          48.29,
          51.28,
          65.26,
          47.08,
          59,
          49.24,
          61.68,
          88.68,
          92.31,
          91.53,
          91.3,
          60.33,
          58.21,
          54.04,
          84.21,
          58.94,
          62.41,
          62.81,
          65.79,
          59.18,
          64.66,
          68.89,
          78.33,
          62.66,
          61.06,
          62.48,
          60,
          49.66,
          52.79,
          58.77,
          60.7,
          91.97,
          58.72,
          89.69,
          62.5,
          60.29,
          73.28,
          57.69,
          91.28,
          92.98,
          64.44,
          69.23,
          72.84,
          62.05,
          91.78,
          92.54,
          67.31,
          75.31,
          61.11,
          91.67,
          64.79,
          54.19,
          58.11,
          89.81,
          69.71,
          89.09,
          59.44,
          58.21,
          74.07,
          63.03,
          49.28,
          89.29,
          52.35,
          47.6,
          91.67,
          63.39,
          64.08,
          76.07,
          61.99,
          91.78,
          64.66
         ],
         "y0": " ",
         "yaxis": "y"
        }
       ],
       "layout": {
        "autosize": true,
        "boxmode": "group",
        "legend": {
         "tracegroupgap": 0
        },
        "margin": {
         "t": 60
        },
        "template": {
         "data": {
          "bar": [
           {
            "error_x": {
             "color": "#2a3f5f"
            },
            "error_y": {
             "color": "#2a3f5f"
            },
            "marker": {
             "line": {
              "color": "#E5ECF6",
              "width": 0.5
             },
             "pattern": {
              "fillmode": "overlay",
              "size": 10,
              "solidity": 0.2
             }
            },
            "type": "bar"
           }
          ],
          "barpolar": [
           {
            "marker": {
             "line": {
              "color": "#E5ECF6",
              "width": 0.5
             },
             "pattern": {
              "fillmode": "overlay",
              "size": 10,
              "solidity": 0.2
             }
            },
            "type": "barpolar"
           }
          ],
          "carpet": [
           {
            "aaxis": {
             "endlinecolor": "#2a3f5f",
             "gridcolor": "white",
             "linecolor": "white",
             "minorgridcolor": "white",
             "startlinecolor": "#2a3f5f"
            },
            "baxis": {
             "endlinecolor": "#2a3f5f",
             "gridcolor": "white",
             "linecolor": "white",
             "minorgridcolor": "white",
             "startlinecolor": "#2a3f5f"
            },
            "type": "carpet"
           }
          ],
          "choropleth": [
           {
            "colorbar": {
             "outlinewidth": 0,
             "ticks": ""
            },
            "type": "choropleth"
           }
          ],
          "contour": [
           {
            "colorbar": {
             "outlinewidth": 0,
             "ticks": ""
            },
            "colorscale": [
             [
              0,
              "#0d0887"
             ],
             [
              0.1111111111111111,
              "#46039f"
             ],
             [
              0.2222222222222222,
              "#7201a8"
             ],
             [
              0.3333333333333333,
              "#9c179e"
             ],
             [
              0.4444444444444444,
              "#bd3786"
             ],
             [
              0.5555555555555556,
              "#d8576b"
             ],
             [
              0.6666666666666666,
              "#ed7953"
             ],
             [
              0.7777777777777778,
              "#fb9f3a"
             ],
             [
              0.8888888888888888,
              "#fdca26"
             ],
             [
              1,
              "#f0f921"
             ]
            ],
            "type": "contour"
           }
          ],
          "contourcarpet": [
           {
            "colorbar": {
             "outlinewidth": 0,
             "ticks": ""
            },
            "type": "contourcarpet"
           }
          ],
          "heatmap": [
           {
            "colorbar": {
             "outlinewidth": 0,
             "ticks": ""
            },
            "colorscale": [
             [
              0,
              "#0d0887"
             ],
             [
              0.1111111111111111,
              "#46039f"
             ],
             [
              0.2222222222222222,
              "#7201a8"
             ],
             [
              0.3333333333333333,
              "#9c179e"
             ],
             [
              0.4444444444444444,
              "#bd3786"
             ],
             [
              0.5555555555555556,
              "#d8576b"
             ],
             [
              0.6666666666666666,
              "#ed7953"
             ],
             [
              0.7777777777777778,
              "#fb9f3a"
             ],
             [
              0.8888888888888888,
              "#fdca26"
             ],
             [
              1,
              "#f0f921"
             ]
            ],
            "type": "heatmap"
           }
          ],
          "heatmapgl": [
           {
            "colorbar": {
             "outlinewidth": 0,
             "ticks": ""
            },
            "colorscale": [
             [
              0,
              "#0d0887"
             ],
             [
              0.1111111111111111,
              "#46039f"
             ],
             [
              0.2222222222222222,
              "#7201a8"
             ],
             [
              0.3333333333333333,
              "#9c179e"
             ],
             [
              0.4444444444444444,
              "#bd3786"
             ],
             [
              0.5555555555555556,
              "#d8576b"
             ],
             [
              0.6666666666666666,
              "#ed7953"
             ],
             [
              0.7777777777777778,
              "#fb9f3a"
             ],
             [
              0.8888888888888888,
              "#fdca26"
             ],
             [
              1,
              "#f0f921"
             ]
            ],
            "type": "heatmapgl"
           }
          ],
          "histogram": [
           {
            "marker": {
             "pattern": {
              "fillmode": "overlay",
              "size": 10,
              "solidity": 0.2
             }
            },
            "type": "histogram"
           }
          ],
          "histogram2d": [
           {
            "colorbar": {
             "outlinewidth": 0,
             "ticks": ""
            },
            "colorscale": [
             [
              0,
              "#0d0887"
             ],
             [
              0.1111111111111111,
              "#46039f"
             ],
             [
              0.2222222222222222,
              "#7201a8"
             ],
             [
              0.3333333333333333,
              "#9c179e"
             ],
             [
              0.4444444444444444,
              "#bd3786"
             ],
             [
              0.5555555555555556,
              "#d8576b"
             ],
             [
              0.6666666666666666,
              "#ed7953"
             ],
             [
              0.7777777777777778,
              "#fb9f3a"
             ],
             [
              0.8888888888888888,
              "#fdca26"
             ],
             [
              1,
              "#f0f921"
             ]
            ],
            "type": "histogram2d"
           }
          ],
          "histogram2dcontour": [
           {
            "colorbar": {
             "outlinewidth": 0,
             "ticks": ""
            },
            "colorscale": [
             [
              0,
              "#0d0887"
             ],
             [
              0.1111111111111111,
              "#46039f"
             ],
             [
              0.2222222222222222,
              "#7201a8"
             ],
             [
              0.3333333333333333,
              "#9c179e"
             ],
             [
              0.4444444444444444,
              "#bd3786"
             ],
             [
              0.5555555555555556,
              "#d8576b"
             ],
             [
              0.6666666666666666,
              "#ed7953"
             ],
             [
              0.7777777777777778,
              "#fb9f3a"
             ],
             [
              0.8888888888888888,
              "#fdca26"
             ],
             [
              1,
              "#f0f921"
             ]
            ],
            "type": "histogram2dcontour"
           }
          ],
          "mesh3d": [
           {
            "colorbar": {
             "outlinewidth": 0,
             "ticks": ""
            },
            "type": "mesh3d"
           }
          ],
          "parcoords": [
           {
            "line": {
             "colorbar": {
              "outlinewidth": 0,
              "ticks": ""
             }
            },
            "type": "parcoords"
           }
          ],
          "pie": [
           {
            "automargin": true,
            "type": "pie"
           }
          ],
          "scatter": [
           {
            "marker": {
             "colorbar": {
              "outlinewidth": 0,
              "ticks": ""
             }
            },
            "type": "scatter"
           }
          ],
          "scatter3d": [
           {
            "line": {
             "colorbar": {
              "outlinewidth": 0,
              "ticks": ""
             }
            },
            "marker": {
             "colorbar": {
              "outlinewidth": 0,
              "ticks": ""
             }
            },
            "type": "scatter3d"
           }
          ],
          "scattercarpet": [
           {
            "marker": {
             "colorbar": {
              "outlinewidth": 0,
              "ticks": ""
             }
            },
            "type": "scattercarpet"
           }
          ],
          "scattergeo": [
           {
            "marker": {
             "colorbar": {
              "outlinewidth": 0,
              "ticks": ""
             }
            },
            "type": "scattergeo"
           }
          ],
          "scattergl": [
           {
            "marker": {
             "colorbar": {
              "outlinewidth": 0,
              "ticks": ""
             }
            },
            "type": "scattergl"
           }
          ],
          "scattermapbox": [
           {
            "marker": {
             "colorbar": {
              "outlinewidth": 0,
              "ticks": ""
             }
            },
            "type": "scattermapbox"
           }
          ],
          "scatterpolar": [
           {
            "marker": {
             "colorbar": {
              "outlinewidth": 0,
              "ticks": ""
             }
            },
            "type": "scatterpolar"
           }
          ],
          "scatterpolargl": [
           {
            "marker": {
             "colorbar": {
              "outlinewidth": 0,
              "ticks": ""
             }
            },
            "type": "scatterpolargl"
           }
          ],
          "scatterternary": [
           {
            "marker": {
             "colorbar": {
              "outlinewidth": 0,
              "ticks": ""
             }
            },
            "type": "scatterternary"
           }
          ],
          "surface": [
           {
            "colorbar": {
             "outlinewidth": 0,
             "ticks": ""
            },
            "colorscale": [
             [
              0,
              "#0d0887"
             ],
             [
              0.1111111111111111,
              "#46039f"
             ],
             [
              0.2222222222222222,
              "#7201a8"
             ],
             [
              0.3333333333333333,
              "#9c179e"
             ],
             [
              0.4444444444444444,
              "#bd3786"
             ],
             [
              0.5555555555555556,
              "#d8576b"
             ],
             [
              0.6666666666666666,
              "#ed7953"
             ],
             [
              0.7777777777777778,
              "#fb9f3a"
             ],
             [
              0.8888888888888888,
              "#fdca26"
             ],
             [
              1,
              "#f0f921"
             ]
            ],
            "type": "surface"
           }
          ],
          "table": [
           {
            "cells": {
             "fill": {
              "color": "#EBF0F8"
             },
             "line": {
              "color": "white"
             }
            },
            "header": {
             "fill": {
              "color": "#C8D4E3"
             },
             "line": {
              "color": "white"
             }
            },
            "type": "table"
           }
          ]
         },
         "layout": {
          "annotationdefaults": {
           "arrowcolor": "#2a3f5f",
           "arrowhead": 0,
           "arrowwidth": 1
          },
          "autotypenumbers": "strict",
          "coloraxis": {
           "colorbar": {
            "outlinewidth": 0,
            "ticks": ""
           }
          },
          "colorscale": {
           "diverging": [
            [
             0,
             "#8e0152"
            ],
            [
             0.1,
             "#c51b7d"
            ],
            [
             0.2,
             "#de77ae"
            ],
            [
             0.3,
             "#f1b6da"
            ],
            [
             0.4,
             "#fde0ef"
            ],
            [
             0.5,
             "#f7f7f7"
            ],
            [
             0.6,
             "#e6f5d0"
            ],
            [
             0.7,
             "#b8e186"
            ],
            [
             0.8,
             "#7fbc41"
            ],
            [
             0.9,
             "#4d9221"
            ],
            [
             1,
             "#276419"
            ]
           ],
           "sequential": [
            [
             0,
             "#0d0887"
            ],
            [
             0.1111111111111111,
             "#46039f"
            ],
            [
             0.2222222222222222,
             "#7201a8"
            ],
            [
             0.3333333333333333,
             "#9c179e"
            ],
            [
             0.4444444444444444,
             "#bd3786"
            ],
            [
             0.5555555555555556,
             "#d8576b"
            ],
            [
             0.6666666666666666,
             "#ed7953"
            ],
            [
             0.7777777777777778,
             "#fb9f3a"
            ],
            [
             0.8888888888888888,
             "#fdca26"
            ],
            [
             1,
             "#f0f921"
            ]
           ],
           "sequentialminus": [
            [
             0,
             "#0d0887"
            ],
            [
             0.1111111111111111,
             "#46039f"
            ],
            [
             0.2222222222222222,
             "#7201a8"
            ],
            [
             0.3333333333333333,
             "#9c179e"
            ],
            [
             0.4444444444444444,
             "#bd3786"
            ],
            [
             0.5555555555555556,
             "#d8576b"
            ],
            [
             0.6666666666666666,
             "#ed7953"
            ],
            [
             0.7777777777777778,
             "#fb9f3a"
            ],
            [
             0.8888888888888888,
             "#fdca26"
            ],
            [
             1,
             "#f0f921"
            ]
           ]
          },
          "colorway": [
           "#636efa",
           "#EF553B",
           "#00cc96",
           "#ab63fa",
           "#FFA15A",
           "#19d3f3",
           "#FF6692",
           "#B6E880",
           "#FF97FF",
           "#FECB52"
          ],
          "font": {
           "color": "#2a3f5f"
          },
          "geo": {
           "bgcolor": "white",
           "lakecolor": "white",
           "landcolor": "#E5ECF6",
           "showlakes": true,
           "showland": true,
           "subunitcolor": "white"
          },
          "hoverlabel": {
           "align": "left"
          },
          "hovermode": "closest",
          "mapbox": {
           "style": "light"
          },
          "paper_bgcolor": "white",
          "plot_bgcolor": "#E5ECF6",
          "polar": {
           "angularaxis": {
            "gridcolor": "white",
            "linecolor": "white",
            "ticks": ""
           },
           "bgcolor": "#E5ECF6",
           "radialaxis": {
            "gridcolor": "white",
            "linecolor": "white",
            "ticks": ""
           }
          },
          "scene": {
           "xaxis": {
            "backgroundcolor": "#E5ECF6",
            "gridcolor": "white",
            "gridwidth": 2,
            "linecolor": "white",
            "showbackground": true,
            "ticks": "",
            "zerolinecolor": "white"
           },
           "yaxis": {
            "backgroundcolor": "#E5ECF6",
            "gridcolor": "white",
            "gridwidth": 2,
            "linecolor": "white",
            "showbackground": true,
            "ticks": "",
            "zerolinecolor": "white"
           },
           "zaxis": {
            "backgroundcolor": "#E5ECF6",
            "gridcolor": "white",
            "gridwidth": 2,
            "linecolor": "white",
            "showbackground": true,
            "ticks": "",
            "zerolinecolor": "white"
           }
          },
          "shapedefaults": {
           "line": {
            "color": "#2a3f5f"
           }
          },
          "ternary": {
           "aaxis": {
            "gridcolor": "white",
            "linecolor": "white",
            "ticks": ""
           },
           "baxis": {
            "gridcolor": "white",
            "linecolor": "white",
            "ticks": ""
           },
           "bgcolor": "#E5ECF6",
           "caxis": {
            "gridcolor": "white",
            "linecolor": "white",
            "ticks": ""
           }
          },
          "title": {
           "x": 0.05
          },
          "xaxis": {
           "automargin": true,
           "gridcolor": "white",
           "linecolor": "white",
           "ticks": "",
           "title": {
            "standoff": 15
           },
           "zerolinecolor": "white",
           "zerolinewidth": 2
          },
          "yaxis": {
           "automargin": true,
           "gridcolor": "white",
           "linecolor": "white",
           "ticks": "",
           "title": {
            "standoff": 15
           },
           "zerolinecolor": "white",
           "zerolinewidth": 2
          }
         }
        },
        "xaxis": {
         "anchor": "y",
         "autorange": true,
         "domain": [
          0,
          1
         ],
         "range": [
          -0.5041379310344828,
          0.5
         ],
         "type": "category"
        },
        "yaxis": {
         "anchor": "x",
         "autorange": true,
         "domain": [
          0,
          1
         ],
         "range": [
          21.45111111111111,
          97.22888888888889
         ],
         "title": {
          "text": "DCP"
         },
         "type": "linear"
        }
       }
      },
      "image/png": "[encoded data removed]",
      "text/html": [
       "<div>                            <div id=\"61453e36-0a60-45e8-aa59-710cf5112de3\" class=\"plotly-graph-div\" style=\"height:525px; width:100%;\"></div>            <script type=\"text/javascript\">                require([\"plotly\"], function(Plotly) {                    window.PLOTLYENV=window.PLOTLYENV || {};                                    if (document.getElementById(\"61453e36-0a60-45e8-aa59-710cf5112de3\")) {                    Plotly.newPlot(                        \"61453e36-0a60-45e8-aa59-710cf5112de3\",                        [{\"alignmentgroup\":\"True\",\"boxpoints\":\"all\",\"customdata\":[[\"./src/main/java/org/jfree/chart/annotations/AbstractAnnotation.java\"],[\"./src/main/java/org/jfree/chart/annotations/AbstractXYAnnotation.java\"],[\"./src/main/java/org/jfree/chart/annotations/Annotation.java\"],[\"./src/main/java/org/jfree/chart/annotations/CategoryAnnotation.java\"],[\"./src/main/java/org/jfree/chart/annotations/CategoryLineAnnotation.java\"],[\"./src/main/java/org/jfree/chart/annotations/CategoryPointerAnnotation.java\"],[\"./src/main/java/org/jfree/chart/annotations/CategoryTextAnnotation.java\"],[\"./src/main/java/org/jfree/chart/annotations/TextAnnotation.java\"],[\"./src/main/java/org/jfree/chart/annotations/XYAnnotation.java\"],[\"./src/main/java/org/jfree/chart/annotations/XYAnnotationBoundsInfo.java\"],[\"./src/main/java/org/jfree/chart/annotations/XYBoxAnnotation.java\"],[\"./src/main/java/org/jfree/chart/annotations/XYDataImageAnnotation.java\"],[\"./src/main/java/org/jfree/chart/annotations/XYDrawableAnnotation.java\"],[\"./src/main/java/org/jfree/chart/annotations/XYImageAnnotation.java\"],[\"./src/main/java/org/jfree/chart/annotations/XYLineAnnotation.java\"],[\"./src/main/java/org/jfree/chart/annotations/XYPointerAnnotation.java\"],[\"./src/main/java/org/jfree/chart/annotations/XYPolygonAnnotation.java\"],[\"./src/main/java/org/jfree/chart/annotations/XYShapeAnnotation.java\"],[\"./src/main/java/org/jfree/chart/annotations/XYTextAnnotation.java\"],[\"./src/main/java/org/jfree/chart/annotations/XYTitleAnnotation.java\"],[\"./src/main/java/org/jfree/chart/api/HorizontalAlignment.java\"],[\"./src/main/java/org/jfree/chart/api/Layer.java\"],[\"./src/main/java/org/jfree/chart/api/LengthAdjustmentType.java\"],[\"./src/main/java/org/jfree/chart/api/PublicCloneable.java\"],[\"./src/main/java/org/jfree/chart/api/RectangleAlignment.java\"],[\"./src/main/java/org/jfree/chart/api/RectangleAnchor.java\"],[\"./src/main/java/org/jfree/chart/api/RectangleEdge.java\"],[\"./src/main/java/org/jfree/chart/api/RectangleInsets.java\"],[\"./src/main/java/org/jfree/chart/api/Rotation.java\"],[\"./src/main/java/org/jfree/chart/api/SortOrder.java\"],[\"./src/main/java/org/jfree/chart/api/TableOrder.java\"],[\"./src/main/java/org/jfree/chart/api/UnitType.java\"],[\"./src/main/java/org/jfree/chart/api/VerticalAlignment.java\"],[\"./src/main/java/org/jfree/chart/api/XYCoordinateType.java\"],[\"./src/main/java/org/jfree/chart/axis/Axis.java\"],[\"./src/main/java/org/jfree/chart/axis/AxisCollection.java\"],[\"./src/main/java/org/jfree/chart/axis/AxisLabelLocation.java\"],[\"./src/main/java/org/jfree/chart/axis/AxisLocation.java\"],[\"./src/main/java/org/jfree/chart/axis/AxisSpace.java\"],[\"./src/main/java/org/jfree/chart/axis/AxisState.java\"],[\"./src/main/java/org/jfree/chart/axis/CategoryAnchor.java\"],[\"./src/main/java/org/jfree/chart/axis/CategoryAxis.java\"],[\"./src/main/java/org/jfree/chart/axis/CategoryLabelPosition.java\"],[\"./src/main/java/org/jfree/chart/axis/CategoryLabelPositions.java\"],[\"./src/main/java/org/jfree/chart/axis/CategoryLabelWidthType.java\"],[\"./src/main/java/org/jfree/chart/axis/CategoryTick.java\"],[\"./src/main/java/org/jfree/chart/axis/CompassFormat.java\"],[\"./src/main/java/org/jfree/chart/axis/CyclicNumberAxis.java\"],[\"./src/main/java/org/jfree/chart/axis/DateAxis.java\"],[\"./src/main/java/org/jfree/chart/axis/DateTick.java\"],[\"./src/main/java/org/jfree/chart/axis/DateTickMarkPosition.java\"],[\"./src/main/java/org/jfree/chart/axis/DateTickUnit.java\"],[\"./src/main/java/org/jfree/chart/axis/DateTickUnitType.java\"],[\"./src/main/java/org/jfree/chart/axis/ExtendedCategoryAxis.java\"],[\"./src/main/java/org/jfree/chart/axis/LogarithmicAxis.java\"],[\"./src/main/java/org/jfree/chart/axis/LogAxis.java\"],[\"./src/main/java/org/jfree/chart/axis/LogTick.java\"],[\"./src/main/java/org/jfree/chart/axis/MarkerAxisBand.java\"],[\"./src/main/java/org/jfree/chart/axis/ModuloAxis.java\"],[\"./src/main/java/org/jfree/chart/axis/MonthDateFormat.java\"],[\"./src/main/java/org/jfree/chart/axis/NumberAxis.java\"],[\"./src/main/java/org/jfree/chart/axis/NumberTick.java\"],[\"./src/main/java/org/jfree/chart/axis/NumberTickUnit.java\"],[\"./src/main/java/org/jfree/chart/axis/NumberTickUnitSource.java\"],[\"./src/main/java/org/jfree/chart/axis/PeriodAxis.java\"],[\"./src/main/java/org/jfree/chart/axis/PeriodAxisLabelInfo.java\"],[\"./src/main/java/org/jfree/chart/axis/QuarterDateFormat.java\"],[\"./src/main/java/org/jfree/chart/axis/StandardTickUnitSource.java\"],[\"./src/main/java/org/jfree/chart/axis/SubCategoryAxis.java\"],[\"./src/main/java/org/jfree/chart/axis/SymbolAxis.java\"],[\"./src/main/java/org/jfree/chart/axis/Tick.java\"],[\"./src/main/java/org/jfree/chart/axis/TickType.java\"],[\"./src/main/java/org/jfree/chart/axis/TickUnit.java\"],[\"./src/main/java/org/jfree/chart/axis/TickUnits.java\"],[\"./src/main/java/org/jfree/chart/axis/TickUnitSource.java\"],[\"./src/main/java/org/jfree/chart/axis/Timeline.java\"],[\"./src/main/java/org/jfree/chart/axis/ValueAxis.java\"],[\"./src/main/java/org/jfree/chart/axis/ValueTick.java\"],[\"./src/main/java/org/jfree/chart/block/AbstractBlock.java\"],[\"./src/main/java/org/jfree/chart/block/Arrangement.java\"],[\"./src/main/java/org/jfree/chart/block/Block.java\"],[\"./src/main/java/org/jfree/chart/block/BlockBorder.java\"],[\"./src/main/java/org/jfree/chart/block/BlockContainer.java\"],[\"./src/main/java/org/jfree/chart/block/BlockFrame.java\"],[\"./src/main/java/org/jfree/chart/block/BlockParams.java\"],[\"./src/main/java/org/jfree/chart/block/BlockResult.java\"],[\"./src/main/java/org/jfree/chart/block/BorderArrangement.java\"],[\"./src/main/java/org/jfree/chart/block/CenterArrangement.java\"],[\"./src/main/java/org/jfree/chart/block/ColorBlock.java\"],[\"./src/main/java/org/jfree/chart/block/ColumnArrangement.java\"],[\"./src/main/java/org/jfree/chart/block/EmptyBlock.java\"],[\"./src/main/java/org/jfree/chart/block/EntityBlockParams.java\"],[\"./src/main/java/org/jfree/chart/block/EntityBlockResult.java\"],[\"./src/main/java/org/jfree/chart/block/FlowArrangement.java\"],[\"./src/main/java/org/jfree/chart/block/GridArrangement.java\"],[\"./src/main/java/org/jfree/chart/block/LabelBlock.java\"],[\"./src/main/java/org/jfree/chart/block/LengthConstraintType.java\"],[\"./src/main/java/org/jfree/chart/block/LineBorder.java\"],[\"./src/main/java/org/jfree/chart/block/RectangleConstraint.java\"],[\"./src/main/java/org/jfree/chart/block/Size2D.java\"],[\"./src/main/java/org/jfree/chart/ChartColor.java\"],[\"./src/main/java/org/jfree/chart/ChartElement.java\"],[\"./src/main/java/org/jfree/chart/ChartElementVisitor.java\"],[\"./src/main/java/org/jfree/chart/ChartFactory.java\"],[\"./src/main/java/org/jfree/chart/ChartHints.java\"],[\"./src/main/java/org/jfree/chart/ChartRenderingInfo.java\"],[\"./src/main/java/org/jfree/chart/ChartTheme.java\"],[\"./src/main/java/org/jfree/chart/ChartTransferable.java\"],[\"./src/main/java/org/jfree/chart/ChartUtils.java\"],[\"./src/main/java/org/jfree/chart/date/MonthConstants.java\"],[\"./src/main/java/org/jfree/chart/date/SerialDate.java\"],[\"./src/main/java/org/jfree/chart/date/SpreadsheetDate.java\"],[\"./src/main/java/org/jfree/chart/Drawable.java\"],[\"./src/main/java/org/jfree/chart/encoders/EncoderUtil.java\"],[\"./src/main/java/org/jfree/chart/encoders/ImageEncoder.java\"],[\"./src/main/java/org/jfree/chart/encoders/ImageEncoderFactory.java\"],[\"./src/main/java/org/jfree/chart/encoders/ImageFormat.java\"],[\"./src/main/java/org/jfree/chart/encoders/SunJPEGEncoderAdapter.java\"],[\"./src/main/java/org/jfree/chart/encoders/SunPNGEncoderAdapter.java\"],[\"./src/main/java/org/jfree/chart/entity/AxisEntity.java\"],[\"./src/main/java/org/jfree/chart/entity/CategoryItemEntity.java\"],[\"./src/main/java/org/jfree/chart/entity/CategoryLabelEntity.java\"],[\"./src/main/java/org/jfree/chart/entity/ChartEntity.java\"],[\"./src/main/java/org/jfree/chart/entity/EntityCollection.java\"],[\"./src/main/java/org/jfree/chart/entity/FlowEntity.java\"],[\"./src/main/java/org/jfree/chart/entity/JFreeChartEntity.java\"],[\"./src/main/java/org/jfree/chart/entity/LegendItemEntity.java\"],[\"./src/main/java/org/jfree/chart/entity/NodeEntity.java\"],[\"./src/main/java/org/jfree/chart/entity/PieSectionEntity.java\"],[\"./src/main/java/org/jfree/chart/entity/PlotEntity.java\"],[\"./src/main/java/org/jfree/chart/entity/StandardEntityCollection.java\"],[\"./src/main/java/org/jfree/chart/entity/TickLabelEntity.java\"],[\"./src/main/java/org/jfree/chart/entity/TitleEntity.java\"],[\"./src/main/java/org/jfree/chart/entity/XYAnnotationEntity.java\"],[\"./src/main/java/org/jfree/chart/entity/XYItemEntity.java\"],[\"./src/main/java/org/jfree/chart/event/AnnotationChangeEvent.java\"],[\"./src/main/java/org/jfree/chart/event/AnnotationChangeListener.java\"],[\"./src/main/java/org/jfree/chart/event/AxisChangeEvent.java\"],[\"./src/main/java/org/jfree/chart/event/AxisChangeListener.java\"],[\"./src/main/java/org/jfree/chart/event/ChartChangeEvent.java\"],[\"./src/main/java/org/jfree/chart/event/ChartChangeEventType.java\"],[\"./src/main/java/org/jfree/chart/event/ChartChangeListener.java\"],[\"./src/main/java/org/jfree/chart/event/ChartProgressEvent.java\"],[\"./src/main/java/org/jfree/chart/event/ChartProgressEventType.java\"],[\"./src/main/java/org/jfree/chart/event/ChartProgressListener.java\"],[\"./src/main/java/org/jfree/chart/event/MarkerChangeEvent.java\"],[\"./src/main/java/org/jfree/chart/event/MarkerChangeListener.java\"],[\"./src/main/java/org/jfree/chart/event/PlotChangeEvent.java\"],[\"./src/main/java/org/jfree/chart/event/PlotChangeListener.java\"],[\"./src/main/java/org/jfree/chart/event/RendererChangeEvent.java\"],[\"./src/main/java/org/jfree/chart/event/RendererChangeListener.java\"],[\"./src/main/java/org/jfree/chart/event/TitleChangeEvent.java\"],[\"./src/main/java/org/jfree/chart/event/TitleChangeListener.java\"],[\"./src/main/java/org/jfree/chart/imagemap/DynamicDriveToolTipTagFragmentGenerator.java\"],[\"./src/main/java/org/jfree/chart/imagemap/ImageMapUtils.java\"],[\"./src/main/java/org/jfree/chart/imagemap/OverLIBToolTipTagFragmentGenerator.java\"],[\"./src/main/java/org/jfree/chart/imagemap/StandardToolTipTagFragmentGenerator.java\"],[\"./src/main/java/org/jfree/chart/imagemap/StandardURLTagFragmentGenerator.java\"],[\"./src/main/java/org/jfree/chart/imagemap/ToolTipTagFragmentGenerator.java\"],[\"./src/main/java/org/jfree/chart/imagemap/URLTagFragmentGenerator.java\"],[\"./src/main/java/org/jfree/chart/internal/Args.java\"],[\"./src/main/java/org/jfree/chart/internal/ArrayUtils.java\"],[\"./src/main/java/org/jfree/chart/internal/CloneUtils.java\"],[\"./src/main/java/org/jfree/chart/internal/HashUtils.java\"],[\"./src/main/java/org/jfree/chart/internal/LineUtils.java\"],[\"./src/main/java/org/jfree/chart/internal/PaintUtils.java\"],[\"./src/main/java/org/jfree/chart/internal/SerialUtils.java\"],[\"./src/main/java/org/jfree/chart/internal/ShapeUtils.java\"],[\"./src/main/java/org/jfree/chart/JFreeChart.java\"],[\"./src/main/java/org/jfree/chart/labels/AbstractCategoryItemLabelGenerator.java\"],[\"./src/main/java/org/jfree/chart/labels/AbstractPieItemLabelGenerator.java\"],[\"./src/main/java/org/jfree/chart/labels/AbstractXYItemLabelGenerator.java\"],[\"./src/main/java/org/jfree/chart/labels/BoxAndWhiskerToolTipGenerator.java\"],[\"./src/main/java/org/jfree/chart/labels/BoxAndWhiskerXYToolTipGenerator.java\"],[\"./src/main/java/org/jfree/chart/labels/BubbleXYItemLabelGenerator.java\"],[\"./src/main/java/org/jfree/chart/labels/CategoryItemLabelGenerator.java\"],[\"./src/main/java/org/jfree/chart/labels/CategorySeriesLabelGenerator.java\"],[\"./src/main/java/org/jfree/chart/labels/CategoryToolTipGenerator.java\"],[\"./src/main/java/org/jfree/chart/labels/CrosshairLabelGenerator.java\"],[\"./src/main/java/org/jfree/chart/labels/CustomXYToolTipGenerator.java\"],[\"./src/main/java/org/jfree/chart/labels/FlowLabelGenerator.java\"],[\"./src/main/java/org/jfree/chart/labels/HighLowItemLabelGenerator.java\"],[\"./src/main/java/org/jfree/chart/labels/IntervalCategoryItemLabelGenerator.java\"],[\"./src/main/java/org/jfree/chart/labels/IntervalCategoryToolTipGenerator.java\"],[\"./src/main/java/org/jfree/chart/labels/IntervalXYItemLabelGenerator.java\"],[\"./src/main/java/org/jfree/chart/labels/IntervalXYToolTipGenerator.java\"],[\"./src/main/java/org/jfree/chart/labels/ItemLabelAnchor.java\"],[\"./src/main/java/org/jfree/chart/labels/ItemLabelPosition.java\"],[\"./src/main/java/org/jfree/chart/labels/MultipleXYSeriesLabelGenerator.java\"],[\"./src/main/java/org/jfree/chart/labels/PieSectionLabelGenerator.java\"],[\"./src/main/java/org/jfree/chart/labels/PieToolTipGenerator.java\"],[\"./src/main/java/org/jfree/chart/labels/StandardCategoryItemLabelGenerator.java\"],[\"./src/main/java/org/jfree/chart/labels/StandardCategorySeriesLabelGenerator.java\"],[\"./src/main/java/org/jfree/chart/labels/StandardCategoryToolTipGenerator.java\"],[\"./src/main/java/org/jfree/chart/labels/StandardCrosshairLabelGenerator.java\"],[\"./src/main/java/org/jfree/chart/labels/StandardFlowLabelGenerator.java\"],[\"./src/main/java/org/jfree/chart/labels/StandardPieSectionLabelGenerator.java\"],[\"./src/main/java/org/jfree/chart/labels/StandardPieToolTipGenerator.java\"],[\"./src/main/java/org/jfree/chart/labels/StandardXYItemLabelGenerator.java\"],[\"./src/main/java/org/jfree/chart/labels/StandardXYSeriesLabelGenerator.java\"],[\"./src/main/java/org/jfree/chart/labels/StandardXYToolTipGenerator.java\"],[\"./src/main/java/org/jfree/chart/labels/StandardXYZToolTipGenerator.java\"],[\"./src/main/java/org/jfree/chart/labels/SymbolicXYItemLabelGenerator.java\"],[\"./src/main/java/org/jfree/chart/labels/XYItemLabelGenerator.java\"],[\"./src/main/java/org/jfree/chart/labels/XYSeriesLabelGenerator.java\"],[\"./src/main/java/org/jfree/chart/labels/XYToolTipGenerator.java\"],[\"./src/main/java/org/jfree/chart/labels/XYZToolTipGenerator.java\"],[\"./src/main/java/org/jfree/chart/legend/LegendGraphic.java\"],[\"./src/main/java/org/jfree/chart/legend/LegendItem.java\"],[\"./src/main/java/org/jfree/chart/legend/LegendItemBlockContainer.java\"],[\"./src/main/java/org/jfree/chart/legend/LegendItemCollection.java\"],[\"./src/main/java/org/jfree/chart/legend/LegendItemSource.java\"],[\"./src/main/java/org/jfree/chart/legend/LegendRenderingOrder.java\"],[\"./src/main/java/org/jfree/chart/legend/LegendTitle.java\"],[\"./src/main/java/org/jfree/chart/legend/PaintScaleLegend.java\"],[\"./src/main/java/org/jfree/chart/plot/CategoryCrosshairState.java\"],[\"./src/main/java/org/jfree/chart/plot/CategoryMarker.java\"],[\"./src/main/java/org/jfree/chart/plot/CategoryPlot.java\"],[\"./src/main/java/org/jfree/chart/plot/CenterTextMode.java\"],[\"./src/main/java/org/jfree/chart/plot/CombinedDomainCategoryPlot.java\"],[\"./src/main/java/org/jfree/chart/plot/CombinedDomainXYPlot.java\"],[\"./src/main/java/org/jfree/chart/plot/CombinedRangeCategoryPlot.java\"],[\"./src/main/java/org/jfree/chart/plot/CombinedRangeXYPlot.java\"],[\"./src/main/java/org/jfree/chart/plot/compass/ArrowNeedle.java\"],[\"./src/main/java/org/jfree/chart/plot/compass/CompassPlot.java\"],[\"./src/main/java/org/jfree/chart/plot/compass/LineNeedle.java\"],[\"./src/main/java/org/jfree/chart/plot/compass/LongNeedle.java\"],[\"./src/main/java/org/jfree/chart/plot/compass/MeterNeedle.java\"],[\"./src/main/java/org/jfree/chart/plot/compass/MiddlePinNeedle.java\"],[\"./src/main/java/org/jfree/chart/plot/compass/PinNeedle.java\"],[\"./src/main/java/org/jfree/chart/plot/compass/PlumNeedle.java\"],[\"./src/main/java/org/jfree/chart/plot/compass/PointerNeedle.java\"],[\"./src/main/java/org/jfree/chart/plot/compass/ShipNeedle.java\"],[\"./src/main/java/org/jfree/chart/plot/compass/WindNeedle.java\"],[\"./src/main/java/org/jfree/chart/plot/Crosshair.java\"],[\"./src/main/java/org/jfree/chart/plot/CrosshairState.java\"],[\"./src/main/java/org/jfree/chart/plot/DatasetRenderingOrder.java\"],[\"./src/main/java/org/jfree/chart/plot/DefaultDrawingSupplier.java\"],[\"./src/main/java/org/jfree/chart/plot/dial/AbstractDialLayer.java\"],[\"./src/main/java/org/jfree/chart/plot/dial/ArcDialFrame.java\"],[\"./src/main/java/org/jfree/chart/plot/dial/DialBackground.java\"],[\"./src/main/java/org/jfree/chart/plot/dial/DialCap.java\"],[\"./src/main/java/org/jfree/chart/plot/dial/DialFrame.java\"],[\"./src/main/java/org/jfree/chart/plot/dial/DialLayer.java\"],[\"./src/main/java/org/jfree/chart/plot/dial/DialLayerChangeEvent.java\"],[\"./src/main/java/org/jfree/chart/plot/dial/DialLayerChangeListener.java\"],[\"./src/main/java/org/jfree/chart/plot/dial/DialPlot.java\"],[\"./src/main/java/org/jfree/chart/plot/dial/DialPointer.java\"],[\"./src/main/java/org/jfree/chart/plot/dial/DialScale.java\"],[\"./src/main/java/org/jfree/chart/plot/dial/DialTextAnnotation.java\"],[\"./src/main/java/org/jfree/chart/plot/dial/DialValueIndicator.java\"],[\"./src/main/java/org/jfree/chart/plot/dial/StandardDialFrame.java\"],[\"./src/main/java/org/jfree/chart/plot/dial/StandardDialRange.java\"],[\"./src/main/java/org/jfree/chart/plot/dial/StandardDialScale.java\"],[\"./src/main/java/org/jfree/chart/plot/DialShape.java\"],[\"./src/main/java/org/jfree/chart/plot/DrawingSupplier.java\"],[\"./src/main/java/org/jfree/chart/plot/FastScatterPlot.java\"],[\"./src/main/java/org/jfree/chart/plot/flow/FlowPlot.java\"],[\"./src/main/java/org/jfree/chart/plot/IntervalMarker.java\"],[\"./src/main/java/org/jfree/chart/plot/Marker.java\"],[\"./src/main/java/org/jfree/chart/plot/MeterInterval.java\"],[\"./src/main/java/org/jfree/chart/plot/MeterPlot.java\"],[\"./src/main/java/org/jfree/chart/plot/Pannable.java\"],[\"./src/main/java/org/jfree/chart/plot/pie/AbstractPieLabelDistributor.java\"],[\"./src/main/java/org/jfree/chart/plot/pie/MultiplePiePlot.java\"],[\"./src/main/java/org/jfree/chart/plot/pie/PieLabelDistributor.java\"],[\"./src/main/java/org/jfree/chart/plot/pie/PieLabelLinkStyle.java\"],[\"./src/main/java/org/jfree/chart/plot/pie/PieLabelRecord.java\"],[\"./src/main/java/org/jfree/chart/plot/pie/PiePlot.java\"],[\"./src/main/java/org/jfree/chart/plot/pie/PiePlotState.java\"],[\"./src/main/java/org/jfree/chart/plot/Plot.java\"],[\"./src/main/java/org/jfree/chart/plot/PlotOrientation.java\"],[\"./src/main/java/org/jfree/chart/plot/PlotRenderingInfo.java\"],[\"./src/main/java/org/jfree/chart/plot/PlotState.java\"],[\"./src/main/java/org/jfree/chart/plot/PolarAxisLocation.java\"],[\"./src/main/java/org/jfree/chart/plot/PolarPlot.java\"],[\"./src/main/java/org/jfree/chart/plot/RingPlot.java\"],[\"./src/main/java/org/jfree/chart/plot/SeriesRenderingOrder.java\"],[\"./src/main/java/org/jfree/chart/plot/SpiderWebPlot.java\"],[\"./src/main/java/org/jfree/chart/plot/ThermometerPlot.java\"],[\"./src/main/java/org/jfree/chart/plot/ValueAxisPlot.java\"],[\"./src/main/java/org/jfree/chart/plot/ValueMarker.java\"],[\"./src/main/java/org/jfree/chart/plot/WaferMapPlot.java\"],[\"./src/main/java/org/jfree/chart/plot/XYCrosshairState.java\"],[\"./src/main/java/org/jfree/chart/plot/XYPlot.java\"],[\"./src/main/java/org/jfree/chart/plot/Zoomable.java\"],[\"./src/main/java/org/jfree/chart/renderer/AbstractRenderer.java\"],[\"./src/main/java/org/jfree/chart/renderer/AreaRendererEndType.java\"],[\"./src/main/java/org/jfree/chart/renderer/category/AbstractCategoryItemRenderer.java\"],[\"./src/main/java/org/jfree/chart/renderer/category/AreaRenderer.java\"],[\"./src/main/java/org/jfree/chart/renderer/category/BarPainter.java\"],[\"./src/main/java/org/jfree/chart/renderer/category/BarRenderer.java\"],[\"./src/main/java/org/jfree/chart/renderer/category/BoxAndWhiskerRenderer.java\"],[\"./src/main/java/org/jfree/chart/renderer/category/CategoryItemRenderer.java\"],[\"./src/main/java/org/jfree/chart/renderer/category/CategoryItemRendererState.java\"],[\"./src/main/java/org/jfree/chart/renderer/category/CategoryStepRenderer.java\"],[\"./src/main/java/org/jfree/chart/renderer/category/DefaultCategoryItemRenderer.java\"],[\"./src/main/java/org/jfree/chart/renderer/category/GanttRenderer.java\"],[\"./src/main/java/org/jfree/chart/renderer/category/GradientBarPainter.java\"],[\"./src/main/java/org/jfree/chart/renderer/category/GroupedStackedBarRenderer.java\"],[\"./src/main/java/org/jfree/chart/renderer/category/IntervalBarRenderer.java\"],[\"./src/main/java/org/jfree/chart/renderer/category/LayeredBarRenderer.java\"],[\"./src/main/java/org/jfree/chart/renderer/category/LevelRenderer.java\"],[\"./src/main/java/org/jfree/chart/renderer/category/LineAndShapeRenderer.java\"],[\"./src/main/java/org/jfree/chart/renderer/category/MinMaxCategoryRenderer.java\"],[\"./src/main/java/org/jfree/chart/renderer/category/ScatterRenderer.java\"],[\"./src/main/java/org/jfree/chart/renderer/category/StackedAreaRenderer.java\"],[\"./src/main/java/org/jfree/chart/renderer/category/StackedBarRenderer.java\"],[\"./src/main/java/org/jfree/chart/renderer/category/StandardBarPainter.java\"],[\"./src/main/java/org/jfree/chart/renderer/category/StatisticalBarRenderer.java\"],[\"./src/main/java/org/jfree/chart/renderer/category/StatisticalLineAndShapeRenderer.java\"],[\"./src/main/java/org/jfree/chart/renderer/category/WaterfallBarRenderer.java\"],[\"./src/main/java/org/jfree/chart/renderer/DefaultPolarItemRenderer.java\"],[\"./src/main/java/org/jfree/chart/renderer/GrayPaintScale.java\"],[\"./src/main/java/org/jfree/chart/renderer/LookupPaintScale.java\"],[\"./src/main/java/org/jfree/chart/renderer/NotOutlierException.java\"],[\"./src/main/java/org/jfree/chart/renderer/Outlier.java\"],[\"./src/main/java/org/jfree/chart/renderer/OutlierList.java\"],[\"./src/main/java/org/jfree/chart/renderer/OutlierListCollection.java\"],[\"./src/main/java/org/jfree/chart/renderer/PaintScale.java\"],[\"./src/main/java/org/jfree/chart/renderer/PolarItemRenderer.java\"],[\"./src/main/java/org/jfree/chart/renderer/RendererState.java\"],[\"./src/main/java/org/jfree/chart/renderer/RendererUtils.java\"],[\"./src/main/java/org/jfree/chart/renderer/WaferMapRenderer.java\"],[\"./src/main/java/org/jfree/chart/renderer/xy/AbstractXYItemRenderer.java\"],[\"./src/main/java/org/jfree/chart/renderer/xy/CandlestickRenderer.java\"],[\"./src/main/java/org/jfree/chart/renderer/xy/ClusteredXYBarRenderer.java\"],[\"./src/main/java/org/jfree/chart/renderer/xy/CyclicXYItemRenderer.java\"],[\"./src/main/java/org/jfree/chart/renderer/xy/DefaultXYItemRenderer.java\"],[\"./src/main/java/org/jfree/chart/renderer/xy/DeviationRenderer.java\"],[\"./src/main/java/org/jfree/chart/renderer/xy/DeviationStepRenderer.java\"],[\"./src/main/java/org/jfree/chart/renderer/xy/GradientXYBarPainter.java\"],[\"./src/main/java/org/jfree/chart/renderer/xy/HighLowRenderer.java\"],[\"./src/main/java/org/jfree/chart/renderer/xy/SamplingXYLineRenderer.java\"],[\"./src/main/java/org/jfree/chart/renderer/xy/StackedXYAreaRenderer.java\"],[\"./src/main/java/org/jfree/chart/renderer/xy/StackedXYAreaRenderer2.java\"],[\"./src/main/java/org/jfree/chart/renderer/xy/StackedXYBarRenderer.java\"],[\"./src/main/java/org/jfree/chart/renderer/xy/StandardXYBarPainter.java\"],[\"./src/main/java/org/jfree/chart/renderer/xy/StandardXYItemRenderer.java\"],[\"./src/main/java/org/jfree/chart/renderer/xy/VectorRenderer.java\"],[\"./src/main/java/org/jfree/chart/renderer/xy/WindItemRenderer.java\"],[\"./src/main/java/org/jfree/chart/renderer/xy/XYAreaRenderer.java\"],[\"./src/main/java/org/jfree/chart/renderer/xy/XYAreaRenderer2.java\"],[\"./src/main/java/org/jfree/chart/renderer/xy/XYBarPainter.java\"],[\"./src/main/java/org/jfree/chart/renderer/xy/XYBarRenderer.java\"],[\"./src/main/java/org/jfree/chart/renderer/xy/XYBlockRenderer.java\"],[\"./src/main/java/org/jfree/chart/renderer/xy/XYBoxAndWhiskerRenderer.java\"],[\"./src/main/java/org/jfree/chart/renderer/xy/XYBubbleRenderer.java\"],[\"./src/main/java/org/jfree/chart/renderer/xy/XYDifferenceRenderer.java\"],[\"./src/main/java/org/jfree/chart/renderer/xy/XYDotRenderer.java\"],[\"./src/main/java/org/jfree/chart/renderer/xy/XYErrorRenderer.java\"],[\"./src/main/java/org/jfree/chart/renderer/xy/XYItemRenderer.java\"],[\"./src/main/java/org/jfree/chart/renderer/xy/XYItemRendererState.java\"],[\"./src/main/java/org/jfree/chart/renderer/xy/XYLineAndShapeRenderer.java\"],[\"./src/main/java/org/jfree/chart/renderer/xy/XYShapeRenderer.java\"],[\"./src/main/java/org/jfree/chart/renderer/xy/XYSplineRenderer.java\"],[\"./src/main/java/org/jfree/chart/renderer/xy/XYStepAreaRenderer.java\"],[\"./src/main/java/org/jfree/chart/renderer/xy/XYStepRenderer.java\"],[\"./src/main/java/org/jfree/chart/renderer/xy/YIntervalRenderer.java\"],[\"./src/main/java/org/jfree/chart/StandardChartTheme.java\"],[\"./src/main/java/org/jfree/chart/swing/AbstractOverlay.java\"],[\"./src/main/java/org/jfree/chart/swing/ApplicationFrame.java\"],[\"./src/main/java/org/jfree/chart/swing/ChartFrame.java\"],[\"./src/main/java/org/jfree/chart/swing/ChartMouseEvent.java\"],[\"./src/main/java/org/jfree/chart/swing/ChartMouseListener.java\"],[\"./src/main/java/org/jfree/chart/swing/ChartPanel.java\"],[\"./src/main/java/org/jfree/chart/swing/CrosshairOverlay.java\"],[\"./src/main/java/org/jfree/chart/swing/DefaultSelectionZoomStrategy.java\"],[\"./src/main/java/org/jfree/chart/swing/editor/ChartEditor.java\"],[\"./src/main/java/org/jfree/chart/swing/editor/ChartEditorFactory.java\"],[\"./src/main/java/org/jfree/chart/swing/editor/ChartEditorManager.java\"],[\"./src/main/java/org/jfree/chart/swing/editor/DefaultAxisEditor.java\"],[\"./src/main/java/org/jfree/chart/swing/editor/DefaultChartEditor.java\"],[\"./src/main/java/org/jfree/chart/swing/editor/DefaultChartEditorFactory.java\"],[\"./src/main/java/org/jfree/chart/swing/editor/DefaultLogAxisEditor.java\"],[\"./src/main/java/org/jfree/chart/swing/editor/DefaultNumberAxisEditor.java\"],[\"./src/main/java/org/jfree/chart/swing/editor/DefaultPlotEditor.java\"],[\"./src/main/java/org/jfree/chart/swing/editor/DefaultPolarPlotEditor.java\"],[\"./src/main/java/org/jfree/chart/swing/editor/DefaultTitleEditor.java\"],[\"./src/main/java/org/jfree/chart/swing/editor/DefaultValueAxisEditor.java\"],[\"./src/main/java/org/jfree/chart/swing/editor/FontChooserPanel.java\"],[\"./src/main/java/org/jfree/chart/swing/editor/FontDisplayField.java\"],[\"./src/main/java/org/jfree/chart/swing/editor/LCBLayout.java\"],[\"./src/main/java/org/jfree/chart/swing/editor/PaintSample.java\"],[\"./src/main/java/org/jfree/chart/swing/editor/StrokeChooserPanel.java\"],[\"./src/main/java/org/jfree/chart/swing/editor/StrokeSample.java\"],[\"./src/main/java/org/jfree/chart/swing/MouseWheelHandler.java\"],[\"./src/main/java/org/jfree/chart/swing/NumberCellRenderer.java\"],[\"./src/main/java/org/jfree/chart/swing/Overlay.java\"],[\"./src/main/java/org/jfree/chart/swing/OverlayChangeEvent.java\"],[\"./src/main/java/org/jfree/chart/swing/OverlayChangeListener.java\"],[\"./src/main/java/org/jfree/chart/swing/PolarChartPanel.java\"],[\"./src/main/java/org/jfree/chart/swing/SelectionZoomStrategy.java\"],[\"./src/main/java/org/jfree/chart/swing/UIUtils.java\"],[\"./src/main/java/org/jfree/chart/text/AttributedStringUtils.java\"],[\"./src/main/java/org/jfree/chart/text/format/HexNumberFormat.java\"],[\"./src/main/java/org/jfree/chart/text/format/HMSNumberFormat.java\"],[\"./src/main/java/org/jfree/chart/text/format/LogFormat.java\"],[\"./src/main/java/org/jfree/chart/text/format/RelativeDateFormat.java\"],[\"./src/main/java/org/jfree/chart/text/G2TextMeasurer.java\"],[\"./src/main/java/org/jfree/chart/text/TextAnchor.java\"],[\"./src/main/java/org/jfree/chart/text/TextBlock.java\"],[\"./src/main/java/org/jfree/chart/text/TextBlockAnchor.java\"],[\"./src/main/java/org/jfree/chart/text/TextBox.java\"],[\"./src/main/java/org/jfree/chart/text/TextFragment.java\"],[\"./src/main/java/org/jfree/chart/text/TextLine.java\"],[\"./src/main/java/org/jfree/chart/text/TextMeasurer.java\"],[\"./src/main/java/org/jfree/chart/text/TextUtils.java\"],[\"./src/main/java/org/jfree/chart/title/CompositeTitle.java\"],[\"./src/main/java/org/jfree/chart/title/DateTitle.java\"],[\"./src/main/java/org/jfree/chart/title/ImageTitle.java\"],[\"./src/main/java/org/jfree/chart/title/ShortTextTitle.java\"],[\"./src/main/java/org/jfree/chart/title/TextTitle.java\"],[\"./src/main/java/org/jfree/chart/title/Title.java\"],[\"./src/main/java/org/jfree/chart/urls/CategoryURLGenerator.java\"],[\"./src/main/java/org/jfree/chart/urls/CustomCategoryURLGenerator.java\"],[\"./src/main/java/org/jfree/chart/urls/CustomPieURLGenerator.java\"],[\"./src/main/java/org/jfree/chart/urls/CustomXYURLGenerator.java\"],[\"./src/main/java/org/jfree/chart/urls/PieURLGenerator.java\"],[\"./src/main/java/org/jfree/chart/urls/StandardCategoryURLGenerator.java\"],[\"./src/main/java/org/jfree/chart/urls/StandardPieURLGenerator.java\"],[\"./src/main/java/org/jfree/chart/urls/StandardXYURLGenerator.java\"],[\"./src/main/java/org/jfree/chart/urls/StandardXYZURLGenerator.java\"],[\"./src/main/java/org/jfree/chart/urls/TimeSeriesURLGenerator.java\"],[\"./src/main/java/org/jfree/chart/urls/XYURLGenerator.java\"],[\"./src/main/java/org/jfree/chart/urls/XYZURLGenerator.java\"],[\"./src/main/java/org/jfree/chart/util/AttrStringUtils.java\"],[\"./src/main/java/org/jfree/chart/util/DefaultShadowGenerator.java\"],[\"./src/main/java/org/jfree/chart/util/DirectionalGradientPaintTransformer.java\"],[\"./src/main/java/org/jfree/chart/util/ExportUtils.java\"],[\"./src/main/java/org/jfree/chart/util/GradientPaintTransformer.java\"],[\"./src/main/java/org/jfree/chart/util/GradientPaintTransformType.java\"],[\"./src/main/java/org/jfree/chart/util/PaintAlpha.java\"],[\"./src/main/java/org/jfree/chart/util/ShadowGenerator.java\"],[\"./src/main/java/org/jfree/chart/util/StandardGradientPaintTransformer.java\"],[\"./src/main/java/org/jfree/chart/util/StringUtils.java\"],[\"./src/main/java/org/jfree/data/category/CategoryDataset.java\"],[\"./src/main/java/org/jfree/data/category/CategoryRangeInfo.java\"],[\"./src/main/java/org/jfree/data/category/CategoryToPieDataset.java\"],[\"./src/main/java/org/jfree/data/category/DefaultCategoryDataset.java\"],[\"./src/main/java/org/jfree/data/category/DefaultIntervalCategoryDataset.java\"],[\"./src/main/java/org/jfree/data/category/IntervalCategoryDataset.java\"],[\"./src/main/java/org/jfree/data/category/SlidingCategoryDataset.java\"],[\"./src/main/java/org/jfree/data/ComparableObjectItem.java\"],[\"./src/main/java/org/jfree/data/ComparableObjectSeries.java\"],[\"./src/main/java/org/jfree/data/DataUtils.java\"],[\"./src/main/java/org/jfree/data/DefaultKeyedValue.java\"],[\"./src/main/java/org/jfree/data/DefaultKeyedValues.java\"],[\"./src/main/java/org/jfree/data/DefaultKeyedValues2D.java\"],[\"./src/main/java/org/jfree/data/DomainInfo.java\"],[\"./src/main/java/org/jfree/data/DomainOrder.java\"],[\"./src/main/java/org/jfree/data/flow/DefaultFlowDataset.java\"],[\"./src/main/java/org/jfree/data/flow/FlowDataset.java\"],[\"./src/main/java/org/jfree/data/flow/FlowDatasetUtils.java\"],[\"./src/main/java/org/jfree/data/flow/FlowKey.java\"],[\"./src/main/java/org/jfree/data/flow/NodeKey.java\"],[\"./src/main/java/org/jfree/data/function/Function2D.java\"],[\"./src/main/java/org/jfree/data/function/LineFunction2D.java\"],[\"./src/main/java/org/jfree/data/function/NormalDistributionFunction2D.java\"],[\"./src/main/java/org/jfree/data/function/PolynomialFunction2D.java\"],[\"./src/main/java/org/jfree/data/function/PowerFunction2D.java\"],[\"./src/main/java/org/jfree/data/gantt/GanttCategoryDataset.java\"],[\"./src/main/java/org/jfree/data/gantt/SlidingGanttCategoryDataset.java\"],[\"./src/main/java/org/jfree/data/gantt/Task.java\"],[\"./src/main/java/org/jfree/data/gantt/TaskSeries.java\"],[\"./src/main/java/org/jfree/data/gantt/TaskSeriesCollection.java\"],[\"./src/main/java/org/jfree/data/gantt/XYTaskDataset.java\"],[\"./src/main/java/org/jfree/data/general/AbstractDataset.java\"],[\"./src/main/java/org/jfree/data/general/AbstractSeriesDataset.java\"],[\"./src/main/java/org/jfree/data/general/Dataset.java\"],[\"./src/main/java/org/jfree/data/general/DatasetChangeEvent.java\"],[\"./src/main/java/org/jfree/data/general/DatasetChangeListener.java\"],[\"./src/main/java/org/jfree/data/general/DatasetUtils.java\"],[\"./src/main/java/org/jfree/data/general/DefaultHeatMapDataset.java\"],[\"./src/main/java/org/jfree/data/general/DefaultKeyedValueDataset.java\"],[\"./src/main/java/org/jfree/data/general/DefaultKeyedValues2DDataset.java\"],[\"./src/main/java/org/jfree/data/general/DefaultKeyedValuesDataset.java\"],[\"./src/main/java/org/jfree/data/general/DefaultPieDataset.java\"],[\"./src/main/java/org/jfree/data/general/DefaultValueDataset.java\"],[\"./src/main/java/org/jfree/data/general/HeatMapDataset.java\"],[\"./src/main/java/org/jfree/data/general/HeatMapUtils.java\"],[\"./src/main/java/org/jfree/data/general/KeyedValueDataset.java\"],[\"./src/main/java/org/jfree/data/general/KeyedValues2DDataset.java\"],[\"./src/main/java/org/jfree/data/general/KeyedValuesDataset.java\"],[\"./src/main/java/org/jfree/data/general/PieDataset.java\"],[\"./src/main/java/org/jfree/data/general/Series.java\"],[\"./src/main/java/org/jfree/data/general/SeriesChangeEvent.java\"],[\"./src/main/java/org/jfree/data/general/SeriesChangeListener.java\"],[\"./src/main/java/org/jfree/data/general/SeriesDataset.java\"],[\"./src/main/java/org/jfree/data/general/SeriesException.java\"],[\"./src/main/java/org/jfree/data/general/ValueDataset.java\"],[\"./src/main/java/org/jfree/data/general/WaferMapDataset.java\"],[\"./src/main/java/org/jfree/data/io/CSV.java\"],[\"./src/main/java/org/jfree/data/ItemKey.java\"],[\"./src/main/java/org/jfree/data/json/impl/JSONArray.java\"],[\"./src/main/java/org/jfree/data/json/impl/JSONAware.java\"],[\"./src/main/java/org/jfree/data/json/impl/JSONObject.java\"],[\"./src/main/java/org/jfree/data/json/impl/JSONStreamAware.java\"],[\"./src/main/java/org/jfree/data/json/impl/JSONValue.java\"],[\"./src/main/java/org/jfree/data/json/JSONUtils.java\"],[\"./src/main/java/org/jfree/data/KeyedObject.java\"],[\"./src/main/java/org/jfree/data/KeyedObjects.java\"],[\"./src/main/java/org/jfree/data/KeyedObjects2D.java\"],[\"./src/main/java/org/jfree/data/KeyedValue.java\"],[\"./src/main/java/org/jfree/data/KeyedValueComparator.java\"],[\"./src/main/java/org/jfree/data/KeyedValueComparatorType.java\"],[\"./src/main/java/org/jfree/data/KeyedValues.java\"],[\"./src/main/java/org/jfree/data/KeyedValues2D.java\"],[\"./src/main/java/org/jfree/data/KeyedValues2DItemKey.java\"],[\"./src/main/java/org/jfree/data/KeyedValuesItemKey.java\"],[\"./src/main/java/org/jfree/data/KeyToGroupMap.java\"],[\"./src/main/java/org/jfree/data/Range.java\"],[\"./src/main/java/org/jfree/data/RangeInfo.java\"],[\"./src/main/java/org/jfree/data/RangeType.java\"],[\"./src/main/java/org/jfree/data/resources/DataPackageResources.java\"],[\"./src/main/java/org/jfree/data/resources/DataPackageResources_de.java\"],[\"./src/main/java/org/jfree/data/resources/DataPackageResources_es.java\"],[\"./src/main/java/org/jfree/data/resources/DataPackageResources_fr.java\"],[\"./src/main/java/org/jfree/data/resources/DataPackageResources_pl.java\"],[\"./src/main/java/org/jfree/data/resources/DataPackageResources_ru.java\"],[\"./src/main/java/org/jfree/data/statistics/BoxAndWhiskerCalculator.java\"],[\"./src/main/java/org/jfree/data/statistics/BoxAndWhiskerCategoryDataset.java\"],[\"./src/main/java/org/jfree/data/statistics/BoxAndWhiskerItem.java\"],[\"./src/main/java/org/jfree/data/statistics/BoxAndWhiskerXYDataset.java\"],[\"./src/main/java/org/jfree/data/statistics/DefaultBoxAndWhiskerCategoryDataset.java\"],[\"./src/main/java/org/jfree/data/statistics/DefaultBoxAndWhiskerXYDataset.java\"],[\"./src/main/java/org/jfree/data/statistics/DefaultMultiValueCategoryDataset.java\"],[\"./src/main/java/org/jfree/data/statistics/DefaultStatisticalCategoryDataset.java\"],[\"./src/main/java/org/jfree/data/statistics/HistogramBin.java\"],[\"./src/main/java/org/jfree/data/statistics/HistogramDataset.java\"],[\"./src/main/java/org/jfree/data/statistics/HistogramType.java\"],[\"./src/main/java/org/jfree/data/statistics/MeanAndStandardDeviation.java\"],[\"./src/main/java/org/jfree/data/statistics/MultiValueCategoryDataset.java\"],[\"./src/main/java/org/jfree/data/statistics/Regression.java\"],[\"./src/main/java/org/jfree/data/statistics/SimpleHistogramBin.java\"],[\"./src/main/java/org/jfree/data/statistics/SimpleHistogramDataset.java\"],[\"./src/main/java/org/jfree/data/statistics/StatisticalCategoryDataset.java\"],[\"./src/main/java/org/jfree/data/statistics/Statistics.java\"],[\"./src/main/java/org/jfree/data/time/DateRange.java\"],[\"./src/main/java/org/jfree/data/time/Day.java\"],[\"./src/main/java/org/jfree/data/time/DynamicTimeSeriesCollection.java\"],[\"./src/main/java/org/jfree/data/time/FixedMillisecond.java\"],[\"./src/main/java/org/jfree/data/time/Hour.java\"],[\"./src/main/java/org/jfree/data/time/Millisecond.java\"],[\"./src/main/java/org/jfree/data/time/Minute.java\"],[\"./src/main/java/org/jfree/data/time/Month.java\"],[\"./src/main/java/org/jfree/data/time/MovingAverage.java\"],[\"./src/main/java/org/jfree/data/time/ohlc/OHLC.java\"],[\"./src/main/java/org/jfree/data/time/ohlc/OHLCItem.java\"],[\"./src/main/java/org/jfree/data/time/ohlc/OHLCSeries.java\"],[\"./src/main/java/org/jfree/data/time/ohlc/OHLCSeriesCollection.java\"],[\"./src/main/java/org/jfree/data/time/Quarter.java\"],[\"./src/main/java/org/jfree/data/time/RegularTimePeriod.java\"],[\"./src/main/java/org/jfree/data/time/Second.java\"],[\"./src/main/java/org/jfree/data/time/SimpleTimePeriod.java\"],[\"./src/main/java/org/jfree/data/time/TimePeriod.java\"],[\"./src/main/java/org/jfree/data/time/TimePeriodAnchor.java\"],[\"./src/main/java/org/jfree/data/time/TimePeriodFormatException.java\"],[\"./src/main/java/org/jfree/data/time/TimePeriodValue.java\"],[\"./src/main/java/org/jfree/data/time/TimePeriodValues.java\"],[\"./src/main/java/org/jfree/data/time/TimePeriodValuesCollection.java\"],[\"./src/main/java/org/jfree/data/time/TimeSeries.java\"],[\"./src/main/java/org/jfree/data/time/TimeSeriesCollection.java\"],[\"./src/main/java/org/jfree/data/time/TimeSeriesDataItem.java\"],[\"./src/main/java/org/jfree/data/time/TimeSeriesTableModel.java\"],[\"./src/main/java/org/jfree/data/time/TimeTableXYDataset.java\"],[\"./src/main/java/org/jfree/data/time/Week.java\"],[\"./src/main/java/org/jfree/data/time/Year.java\"],[\"./src/main/java/org/jfree/data/UnknownKeyException.java\"],[\"./src/main/java/org/jfree/data/Value.java\"],[\"./src/main/java/org/jfree/data/Values.java\"],[\"./src/main/java/org/jfree/data/Values2D.java\"],[\"./src/main/java/org/jfree/data/xml/CategoryDatasetHandler.java\"],[\"./src/main/java/org/jfree/data/xml/CategorySeriesHandler.java\"],[\"./src/main/java/org/jfree/data/xml/DatasetReader.java\"],[\"./src/main/java/org/jfree/data/xml/DatasetTags.java\"],[\"./src/main/java/org/jfree/data/xml/ItemHandler.java\"],[\"./src/main/java/org/jfree/data/xml/KeyHandler.java\"],[\"./src/main/java/org/jfree/data/xml/PieDatasetHandler.java\"],[\"./src/main/java/org/jfree/data/xml/RootHandler.java\"],[\"./src/main/java/org/jfree/data/xml/ValueHandler.java\"],[\"./src/main/java/org/jfree/data/xy/AbstractIntervalXYDataset.java\"],[\"./src/main/java/org/jfree/data/xy/AbstractXYDataset.java\"],[\"./src/main/java/org/jfree/data/xy/AbstractXYZDataset.java\"],[\"./src/main/java/org/jfree/data/xy/CategoryTableXYDataset.java\"],[\"./src/main/java/org/jfree/data/xy/DefaultHighLowDataset.java\"],[\"./src/main/java/org/jfree/data/xy/DefaultIntervalXYDataset.java\"],[\"./src/main/java/org/jfree/data/xy/DefaultOHLCDataset.java\"],[\"./src/main/java/org/jfree/data/xy/DefaultTableXYDataset.java\"],[\"./src/main/java/org/jfree/data/xy/DefaultWindDataset.java\"],[\"./src/main/java/org/jfree/data/xy/DefaultXYDataset.java\"],[\"./src/main/java/org/jfree/data/xy/DefaultXYZDataset.java\"],[\"./src/main/java/org/jfree/data/xy/IntervalXYDataset.java\"],[\"./src/main/java/org/jfree/data/xy/IntervalXYDelegate.java\"],[\"./src/main/java/org/jfree/data/xy/IntervalXYZDataset.java\"],[\"./src/main/java/org/jfree/data/xy/MatrixSeries.java\"],[\"./src/main/java/org/jfree/data/xy/MatrixSeriesCollection.java\"],[\"./src/main/java/org/jfree/data/xy/NormalizedMatrixSeries.java\"],[\"./src/main/java/org/jfree/data/xy/OHLCDataItem.java\"],[\"./src/main/java/org/jfree/data/xy/OHLCDataset.java\"],[\"./src/main/java/org/jfree/data/xy/TableXYDataset.java\"],[\"./src/main/java/org/jfree/data/xy/Vector.java\"],[\"./src/main/java/org/jfree/data/xy/VectorDataItem.java\"],[\"./src/main/java/org/jfree/data/xy/VectorSeries.java\"],[\"./src/main/java/org/jfree/data/xy/VectorSeriesCollection.java\"],[\"./src/main/java/org/jfree/data/xy/VectorXYDataset.java\"],[\"./src/main/java/org/jfree/data/xy/WindDataset.java\"],[\"./src/main/java/org/jfree/data/xy/XIntervalDataItem.java\"],[\"./src/main/java/org/jfree/data/xy/XIntervalSeries.java\"],[\"./src/main/java/org/jfree/data/xy/XIntervalSeriesCollection.java\"],[\"./src/main/java/org/jfree/data/xy/XisSymbolic.java\"],[\"./src/main/java/org/jfree/data/xy/XYBarDataset.java\"],[\"./src/main/java/org/jfree/data/xy/XYCoordinate.java\"],[\"./src/main/java/org/jfree/data/xy/XYDataItem.java\"],[\"./src/main/java/org/jfree/data/xy/XYDataset.java\"],[\"./src/main/java/org/jfree/data/xy/XYDatasetTableModel.java\"],[\"./src/main/java/org/jfree/data/xy/XYDomainInfo.java\"],[\"./src/main/java/org/jfree/data/xy/XYInterval.java\"],[\"./src/main/java/org/jfree/data/xy/XYIntervalDataItem.java\"],[\"./src/main/java/org/jfree/data/xy/XYIntervalSeries.java\"],[\"./src/main/java/org/jfree/data/xy/XYIntervalSeriesCollection.java\"],[\"./src/main/java/org/jfree/data/xy/XYItemKey.java\"],[\"./src/main/java/org/jfree/data/xy/XYRangeInfo.java\"],[\"./src/main/java/org/jfree/data/xy/XYSeries.java\"],[\"./src/main/java/org/jfree/data/xy/XYSeriesCollection.java\"],[\"./src/main/java/org/jfree/data/xy/XYZDataset.java\"],[\"./src/main/java/org/jfree/data/xy/YInterval.java\"],[\"./src/main/java/org/jfree/data/xy/YIntervalDataItem.java\"],[\"./src/main/java/org/jfree/data/xy/YIntervalSeries.java\"],[\"./src/main/java/org/jfree/data/xy/YIntervalSeriesCollection.java\"],[\"./src/main/java/org/jfree/data/xy/YisSymbolic.java\"],[\"./src/main/java/org/jfree/data/xy/YWithXInterval.java\"]],\"hovertemplate\":\"DCP=%{y}<br>class=%{customdata[0]}<extra></extra>\",\"legendgroup\":\"\",\"marker\":{\"color\":\"#636efa\"},\"name\":\"\",\"notched\":true,\"offsetgroup\":\"\",\"orientation\":\"v\",\"showlegend\":false,\"type\":\"box\",\"x0\":\" \",\"xaxis\":\"x\",\"y\":[65.66,58.6,87.72,83.33,49.23,50.42,50.0,56.37,82.81,89.06,48.54,52.54,47.04,50.74,45.62,48.99,46.73,44.12,51.63,40.95,87.5,86.49,87.23,90.57,37.5,37.5,60.75,49.28,82.09,88.64,88.64,88.64,87.5,88.68,48.63,61.42,87.23,67.9,44.74,62.29,87.5,43.98,56.77,40.71,88.89,58.33,65.71,37.69,36.35,65.0,88.68,55.84,75.68,53.91,41.01,41.45,80.56,45.04,45.98,57.39,41.7,77.38,60.43,26.64,38.98,50.63,54.24,67.23,41.31,37.89,58.6,88.89,61.68,63.08,91.89,91.73,49.64,65.85,55.73,89.71,87.13,52.8,50.39,85.0,76.0,79.17,25.24,53.33,58.86,41.57,70.27,92.59,90.57,43.07,40.69,53.26,88.46,44.86,53.44,60.4,53.02,91.67,91.49,46.52,73.12,58.01,92.16,55.84,62.7,76.92,58.53,56.79,86.05,70.22,86.32,63.64,88.46,62.18,69.23,58.64,62.86,61.54,51.21,86.32,63.46,58.42,63.64,73.86,61.61,58.42,54.74,82.46,58.42,65.35,63.4,78.79,88.0,80.65,90.91,70.43,87.23,90.38,69.57,88.89,89.8,80.95,88.0,81.25,90.0,78.16,89.8,80.33,90.0,76.74,48.54,81.16,81.54,83.33,93.44,87.1,70.18,43.62,48.85,66.15,44.37,41.79,34.07,46.42,48.14,52.8,51.64,50.79,60.9,59.86,52.48,90.91,91.07,91.8,90.0,54.44,88.89,46.46,55.74,54.61,48.18,48.97,69.57,55.29,47.17,87.06,90.74,64.66,60.42,63.87,58.39,59.13,63.04,71.32,66.47,61.59,66.09,52.81,55.13,90.74,91.23,90.57,90.57,51.1,52.39,59.41,60.56,90.0,88.89,43.76,40.79,59.24,60.34,46.61,87.23,41.6,42.69,40.39,42.57,50.0,43.56,62.73,45.96,52.66,53.79,54.62,57.5,50.0,58.82,58.72,55.79,66.36,91.67,40.39,61.66,51.18,58.68,57.05,88.14,86.27,80.65,90.2,50.4,50.36,92.06,55.96,52.61,53.73,53.71,54.58,87.5,86.36,47.95,39.74,58.38,55.56,55.05,44.71,86.25,75.0,38.15,46.46,87.5,54.94,47.04,66.11,50.27,83.08,55.68,77.05,82.26,46.33,47.46,91.38,47.15,47.09,88.68,68.15,39.07,88.46,45.15,88.08,55.48,89.66,40.01,35.79,86.9,43.08,41.11,88.19,65.59,46.3,86.54,36.76,36.76,34.34,46.82,32.01,44.91,51.03,45.64,49.63,35.16,37.57,47.52,33.98,36.85,39.16,41.79,59.61,47.97,89.47,64.29,68.59,68.79,89.04,80.77,69.9,38.06,40.7,36.09,47.56,39.02,43.02,88.46,50.88,38.65,36.87,45.76,48.95,44.99,34.08,40.11,47.52,48.34,34.08,46.5,40.37,40.31,86.25,42.53,46.69,40.79,38.26,33.02,49.7,48.67,87.26,79.67,51.67,51.6,44.28,48.14,47.15,48.74,42.4,68.32,69.3,69.88,70.83,88.14,42.73,29.81,34.73,88.46,90.0,77.78,50.11,38.63,82.76,44.59,35.76,34.94,41.18,38.74,38.42,37.91,66.28,37.71,57.0,63.86,50.68,53.24,61.54,91.03,86.0,89.58,46.05,85.0,53.04,51.14,66.18,69.52,55.86,54.29,71.43,64.83,49.63,78.18,46.03,52.99,51.35,90.91,43.78,56.5,75.97,46.67,46.64,41.38,54.55,91.78,50.84,53.43,53.89,92.19,51.96,53.64,58.57,85.0,50.82,92.42,91.8,39.13,44.37,61.6,46.92,87.23,82.5,59.44,89.71,49.36,71.26,90.77,88.71,48.68,64.56,48.79,90.8,56.32,63.4,50.94,48.99,62.42,50.85,49.7,91.89,87.23,48.29,88.62,52.06,57.69,60.0,92.59,65.29,61.24,67.52,65.29,90.63,54.13,57.21,57.07,50.08,54.38,68.33,72.0,91.23,86.25,91.23,37.27,55.7,56.91,85.96,89.13,60.68,67.19,90.78,57.98,91.49,91.49,90.7,89.8,64.25,84.48,90.74,85.9,86.21,91.49,60.07,48.39,91.49,50.0,90.24,51.43,86.96,50.32,45.45,58.52,52.7,47.19,92.0,44.37,90.38,91.01,88.35,48.94,54.21,43.55,53.77,91.43,88.68,80.65,80.65,80.65,80.33,80.95,79.66,44.72,88.99,52.47,89.7,52.59,54.3,48.42,46.93,60.26,54.19,88.46,60.37,87.88,32.42,49.81,58.41,88.75,44.29,70.07,57.01,53.14,57.31,55.53,52.91,53.79,51.72,44.26,59.03,60.47,70.08,58.81,55.0,69.53,53.33,54.73,89.47,87.5,87.76,60.71,48.0,49.64,48.29,51.28,65.26,47.08,59.0,49.24,61.68,88.68,92.31,91.53,91.3,60.33,58.21,54.04,84.21,58.94,62.41,62.81,65.79,59.18,64.66,68.89,78.33,62.66,61.06,62.48,60.0,49.66,52.79,58.77,60.7,91.97,58.72,89.69,62.5,60.29,73.28,57.69,91.28,92.98,64.44,69.23,72.84,62.05,91.78,92.54,67.31,75.31,61.11,91.67,64.79,54.19,58.11,89.81,69.71,89.09,59.44,58.21,74.07,63.03,49.28,89.29,52.35,47.6,91.67,63.39,64.08,76.07,61.99,91.78,64.66],\"y0\":\" \",\"yaxis\":\"y\"}],                        {\"boxmode\":\"group\",\"legend\":{\"tracegroupgap\":0},\"margin\":{\"t\":60},\"template\":{\"data\":{\"bar\":[{\"error_x\":{\"color\":\"#2a3f5f\"},\"error_y\":{\"color\":\"#2a3f5f\"},\"marker\":{\"line\":{\"color\":\"#E5ECF6\",\"width\":0.5},\"pattern\":{\"fillmode\":\"overlay\",\"size\":10,\"solidity\":0.2}},\"type\":\"bar\"}],\"barpolar\":[{\"marker\":{\"line\":{\"color\":\"#E5ECF6\",\"width\":0.5},\"pattern\":{\"fillmode\":\"overlay\",\"size\":10,\"solidity\":0.2}},\"type\":\"barpolar\"}],\"carpet\":[{\"aaxis\":{\"endlinecolor\":\"#2a3f5f\",\"gridcolor\":\"white\",\"linecolor\":\"white\",\"minorgridcolor\":\"white\",\"startlinecolor\":\"#2a3f5f\"},\"baxis\":{\"endlinecolor\":\"#2a3f5f\",\"gridcolor\":\"white\",\"linecolor\":\"white\",\"minorgridcolor\":\"white\",\"startlinecolor\":\"#2a3f5f\"},\"type\":\"carpet\"}],\"choropleth\":[{\"colorbar\":{\"outlinewidth\":0,\"ticks\":\"\"},\"type\":\"choropleth\"}],\"contour\":[{\"colorbar\":{\"outlinewidth\":0,\"ticks\":\"\"},\"colorscale\":[[0.0,\"#0d0887\"],[0.1111111111111111,\"#46039f\"],[0.2222222222222222,\"#7201a8\"],[0.3333333333333333,\"#9c179e\"],[0.4444444444444444,\"#bd3786\"],[0.5555555555555556,\"#d8576b\"],[0.6666666666666666,\"#ed7953\"],[0.7777777777777778,\"#fb9f3a\"],[0.8888888888888888,\"#fdca26\"],[1.0,\"#f0f921\"]],\"type\":\"contour\"}],\"contourcarpet\":[{\"colorbar\":{\"outlinewidth\":0,\"ticks\":\"\"},\"type\":\"contourcarpet\"}],\"heatmap\":[{\"colorbar\":{\"outlinewidth\":0,\"ticks\":\"\"},\"colorscale\":[[0.0,\"#0d0887\"],[0.1111111111111111,\"#46039f\"],[0.2222222222222222,\"#7201a8\"],[0.3333333333333333,\"#9c179e\"],[0.4444444444444444,\"#bd3786\"],[0.5555555555555556,\"#d8576b\"],[0.6666666666666666,\"#ed7953\"],[0.7777777777777778,\"#fb9f3a\"],[0.8888888888888888,\"#fdca26\"],[1.0,\"#f0f921\"]],\"type\":\"heatmap\"}],\"heatmapgl\":[{\"colorbar\":{\"outlinewidth\":0,\"ticks\":\"\"},\"colorscale\":[[0.0,\"#0d0887\"],[0.1111111111111111,\"#46039f\"],[0.2222222222222222,\"#7201a8\"],[0.3333333333333333,\"#9c179e\"],[0.4444444444444444,\"#bd3786\"],[0.5555555555555556,\"#d8576b\"],[0.6666666666666666,\"#ed7953\"],[0.7777777777777778,\"#fb9f3a\"],[0.8888888888888888,\"#fdca26\"],[1.0,\"#f0f921\"]],\"type\":\"heatmapgl\"}],\"histogram\":[{\"marker\":{\"pattern\":{\"fillmode\":\"overlay\",\"size\":10,\"solidity\":0.2}},\"type\":\"histogram\"}],\"histogram2d\":[{\"colorbar\":{\"outlinewidth\":0,\"ticks\":\"\"},\"colorscale\":[[0.0,\"#0d0887\"],[0.1111111111111111,\"#46039f\"],[0.2222222222222222,\"#7201a8\"],[0.3333333333333333,\"#9c179e\"],[0.4444444444444444,\"#bd3786\"],[0.5555555555555556,\"#d8576b\"],[0.6666666666666666,\"#ed7953\"],[0.7777777777777778,\"#fb9f3a\"],[0.8888888888888888,\"#fdca26\"],[1.0,\"#f0f921\"]],\"type\":\"histogram2d\"}],\"histogram2dcontour\":[{\"colorbar\":{\"outlinewidth\":0,\"ticks\":\"\"},\"colorscale\":[[0.0,\"#0d0887\"],[0.1111111111111111,\"#46039f\"],[0.2222222222222222,\"#7201a8\"],[0.3333333333333333,\"#9c179e\"],[0.4444444444444444,\"#bd3786\"],[0.5555555555555556,\"#d8576b\"],[0.6666666666666666,\"#ed7953\"],[0.7777777777777778,\"#fb9f3a\"],[0.8888888888888888,\"#fdca26\"],[1.0,\"#f0f921\"]],\"type\":\"histogram2dcontour\"}],\"mesh3d\":[{\"colorbar\":{\"outlinewidth\":0,\"ticks\":\"\"},\"type\":\"mesh3d\"}],\"parcoords\":[{\"line\":{\"colorbar\":{\"outlinewidth\":0,\"ticks\":\"\"}},\"type\":\"parcoords\"}],\"pie\":[{\"automargin\":true,\"type\":\"pie\"}],\"scatter\":[{\"marker\":{\"colorbar\":{\"outlinewidth\":0,\"ticks\":\"\"}},\"type\":\"scatter\"}],\"scatter3d\":[{\"line\":{\"colorbar\":{\"outlinewidth\":0,\"ticks\":\"\"}},\"marker\":{\"colorbar\":{\"outlinewidth\":0,\"ticks\":\"\"}},\"type\":\"scatter3d\"}],\"scattercarpet\":[{\"marker\":{\"colorbar\":{\"outlinewidth\":0,\"ticks\":\"\"}},\"type\":\"scattercarpet\"}],\"scattergeo\":[{\"marker\":{\"colorbar\":{\"outlinewidth\":0,\"ticks\":\"\"}},\"type\":\"scattergeo\"}],\"scattergl\":[{\"marker\":{\"colorbar\":{\"outlinewidth\":0,\"ticks\":\"\"}},\"type\":\"scattergl\"}],\"scattermapbox\":[{\"marker\":{\"colorbar\":{\"outlinewidth\":0,\"ticks\":\"\"}},\"type\":\"scattermapbox\"}],\"scatterpolar\":[{\"marker\":{\"colorbar\":{\"outlinewidth\":0,\"ticks\":\"\"}},\"type\":\"scatterpolar\"}],\"scatterpolargl\":[{\"marker\":{\"colorbar\":{\"outlinewidth\":0,\"ticks\":\"\"}},\"type\":\"scatterpolargl\"}],\"scatterternary\":[{\"marker\":{\"colorbar\":{\"outlinewidth\":0,\"ticks\":\"\"}},\"type\":\"scatterternary\"}],\"surface\":[{\"colorbar\":{\"outlinewidth\":0,\"ticks\":\"\"},\"colorscale\":[[0.0,\"#0d0887\"],[0.1111111111111111,\"#46039f\"],[0.2222222222222222,\"#7201a8\"],[0.3333333333333333,\"#9c179e\"],[0.4444444444444444,\"#bd3786\"],[0.5555555555555556,\"#d8576b\"],[0.6666666666666666,\"#ed7953\"],[0.7777777777777778,\"#fb9f3a\"],[0.8888888888888888,\"#fdca26\"],[1.0,\"#f0f921\"]],\"type\":\"surface\"}],\"table\":[{\"cells\":{\"fill\":{\"color\":\"#EBF0F8\"},\"line\":{\"color\":\"white\"}},\"header\":{\"fill\":{\"color\":\"#C8D4E3\"},\"line\":{\"color\":\"white\"}},\"type\":\"table\"}]},\"layout\":{\"annotationdefaults\":{\"arrowcolor\":\"#2a3f5f\",\"arrowhead\":0,\"arrowwidth\":1},\"autotypenumbers\":\"strict\",\"coloraxis\":{\"colorbar\":{\"outlinewidth\":0,\"ticks\":\"\"}},\"colorscale\":{\"diverging\":[[0,\"#8e0152\"],[0.1,\"#c51b7d\"],[0.2,\"#de77ae\"],[0.3,\"#f1b6da\"],[0.4,\"#fde0ef\"],[0.5,\"#f7f7f7\"],[0.6,\"#e6f5d0\"],[0.7,\"#b8e186\"],[0.8,\"#7fbc41\"],[0.9,\"#4d9221\"],[1,\"#276419\"]],\"sequential\":[[0.0,\"#0d0887\"],[0.1111111111111111,\"#46039f\"],[0.2222222222222222,\"#7201a8\"],[0.3333333333333333,\"#9c179e\"],[0.4444444444444444,\"#bd3786\"],[0.5555555555555556,\"#d8576b\"],[0.6666666666666666,\"#ed7953\"],[0.7777777777777778,\"#fb9f3a\"],[0.8888888888888888,\"#fdca26\"],[1.0,\"#f0f921\"]],\"sequentialminus\":[[0.0,\"#0d0887\"],[0.1111111111111111,\"#46039f\"],[0.2222222222222222,\"#7201a8\"],[0.3333333333333333,\"#9c179e\"],[0.4444444444444444,\"#bd3786\"],[0.5555555555555556,\"#d8576b\"],[0.6666666666666666,\"#ed7953\"],[0.7777777777777778,\"#fb9f3a\"],[0.8888888888888888,\"#fdca26\"],[1.0,\"#f0f921\"]]},\"colorway\":[\"#636efa\",\"#EF553B\",\"#00cc96\",\"#ab63fa\",\"#FFA15A\",\"#19d3f3\",\"#FF6692\",\"#B6E880\",\"#FF97FF\",\"#FECB52\"],\"font\":{\"color\":\"#2a3f5f\"},\"geo\":{\"bgcolor\":\"white\",\"lakecolor\":\"white\",\"landcolor\":\"#E5ECF6\",\"showlakes\":true,\"showland\":true,\"subunitcolor\":\"white\"},\"hoverlabel\":{\"align\":\"left\"},\"hovermode\":\"closest\",\"mapbox\":{\"style\":\"light\"},\"paper_bgcolor\":\"white\",\"plot_bgcolor\":\"#E5ECF6\",\"polar\":{\"angularaxis\":{\"gridcolor\":\"white\",\"linecolor\":\"white\",\"ticks\":\"\"},\"bgcolor\":\"#E5ECF6\",\"radialaxis\":{\"gridcolor\":\"white\",\"linecolor\":\"white\",\"ticks\":\"\"}},\"scene\":{\"xaxis\":{\"backgroundcolor\":\"#E5ECF6\",\"gridcolor\":\"white\",\"gridwidth\":2,\"linecolor\":\"white\",\"showbackground\":true,\"ticks\":\"\",\"zerolinecolor\":\"white\"},\"yaxis\":{\"backgroundcolor\":\"#E5ECF6\",\"gridcolor\":\"white\",\"gridwidth\":2,\"linecolor\":\"white\",\"showbackground\":true,\"ticks\":\"\",\"zerolinecolor\":\"white\"},\"zaxis\":{\"backgroundcolor\":\"#E5ECF6\",\"gridcolor\":\"white\",\"gridwidth\":2,\"linecolor\":\"white\",\"showbackground\":true,\"ticks\":\"\",\"zerolinecolor\":\"white\"}},\"shapedefaults\":{\"line\":{\"color\":\"#2a3f5f\"}},\"ternary\":{\"aaxis\":{\"gridcolor\":\"white\",\"linecolor\":\"white\",\"ticks\":\"\"},\"baxis\":{\"gridcolor\":\"white\",\"linecolor\":\"white\",\"ticks\":\"\"},\"bgcolor\":\"#E5ECF6\",\"caxis\":{\"gridcolor\":\"white\",\"linecolor\":\"white\",\"ticks\":\"\"}},\"title\":{\"x\":0.05},\"xaxis\":{\"automargin\":true,\"gridcolor\":\"white\",\"linecolor\":\"white\",\"ticks\":\"\",\"title\":{\"standoff\":15},\"zerolinecolor\":\"white\",\"zerolinewidth\":2},\"yaxis\":{\"automargin\":true,\"gridcolor\":\"white\",\"linecolor\":\"white\",\"ticks\":\"\",\"title\":{\"standoff\":15},\"zerolinecolor\":\"white\",\"zerolinewidth\":2}}},\"xaxis\":{\"anchor\":\"y\",\"domain\":[0.0,1.0]},\"yaxis\":{\"anchor\":\"x\",\"domain\":[0.0,1.0],\"title\":{\"text\":\"DCP\"}}},                        {\"responsive\": true}                    ).then(function(){\n",
       "                            \n",
       "var gd = document.getElementById('61453e36-0a60-45e8-aa59-710cf5112de3');\n",
       "var x = new MutationObserver(function (mutations, observer) {{\n",
       "        var display = window.getComputedStyle(gd).display;\n",
       "        if (!display || display === 'none') {{\n",
       "            console.log([gd, 'removed!']);\n",
       "            Plotly.purge(gd);\n",
       "            observer.disconnect();\n",
       "        }}\n",
       "}});\n",
       "\n",
       "// Listen for the removal of the full notebook cells\n",
       "var notebookContainer = gd.closest('#notebook-container');\n",
       "if (notebookContainer) {{\n",
       "    x.observe(notebookContainer, {childList: true});\n",
       "}}\n",
       "\n",
       "// Listen for the clearing of the current output cell\n",
       "var outputEl = gd.closest('.output');\n",
       "if (outputEl) {{\n",
       "    x.observe(outputEl, {childList: true});\n",
       "}}\n",
       "\n",
       "                        })                };                });            </script>        </div>"
      ]
     },
     "metadata": {},
     "output_type": "display_data"
    }
   ],
   "source": [
    "fig = px.box(df.reset_index(), y='DCP', hover_data=['class'], points='all', notched=True)\n",
    "fig.show()"
   ]
  },
  {
   "cell_type": "markdown",
   "id": "7e572c72-5015-4f16-a19a-3a0eb33eb00b",
   "metadata": {},
   "source": [
    "### NOCom "
   ]
  },
  {
   "cell_type": "code",
   "execution_count": 21,
   "id": "7cd5526b-3ab0-47ab-9012-64dad55f5632",
   "metadata": {},
   "outputs": [
    {
     "name": "stdout",
     "output_type": "stream",
     "text": [
      "count    632.000000\n",
      "mean       6.742089\n",
      "std        4.763331\n",
      "min        2.000000\n",
      "25%        3.000000\n",
      "50%        5.000000\n",
      "75%        9.000000\n",
      "max       32.000000\n",
      "Name: NOCom, dtype: float64\n"
     ]
    }
   ],
   "source": [
    "describe_NOCom = df.reset_index()['NOCom'].describe()\n",
    "print(describe_NOCom)"
   ]
  },
  {
   "cell_type": "code",
   "execution_count": 23,
   "id": "fabbe738-c95e-4571-80a0-d76f2d0805b0",
   "metadata": {},
   "outputs": [],
   "source": [
    "l, m, u = describe_NOCom.iloc[4], describe_NOCom.iloc[5], describe_NOCom.iloc[6]\n",
    "IQR_NOCom = u - l\n",
    "U, L = u + (1.5 * IQR_NOCom), l - (1.5 * IQR_NOCom)\n",
    "print(f\"Les valeurs de la boîte à moustache sont situés entre {L} et {U}, avec 50% des données se trouvant entre {l} et {u}\")"
   ]
  },
  {
   "cell_type": "code",
   "execution_count": 14,
   "id": "35c63bfb-f0c9-4526-86b3-1c715f2ace72",
   "metadata": {},
   "outputs": [
    {
     "data": {
      "application/vnd.plotly.v1+json": {
       "config": {
        "plotlyServerURL": "https://plot.ly"
       },
       "data": [
        {
         "alignmentgroup": "True",
         "boxpoints": "all",
         "customdata": [
          [
           "./src/main/java/org/jfree/chart/annotations/AbstractAnnotation.java"
          ],
          [
           "./src/main/java/org/jfree/chart/annotations/AbstractXYAnnotation.java"
          ],
          [
           "./src/main/java/org/jfree/chart/annotations/Annotation.java"
          ],
          [
           "./src/main/java/org/jfree/chart/annotations/CategoryAnnotation.java"
          ],
          [
           "./src/main/java/org/jfree/chart/annotations/CategoryLineAnnotation.java"
          ],
          [
           "./src/main/java/org/jfree/chart/annotations/CategoryPointerAnnotation.java"
          ],
          [
           "./src/main/java/org/jfree/chart/annotations/CategoryTextAnnotation.java"
          ],
          [
           "./src/main/java/org/jfree/chart/annotations/TextAnnotation.java"
          ],
          [
           "./src/main/java/org/jfree/chart/annotations/XYAnnotation.java"
          ],
          [
           "./src/main/java/org/jfree/chart/annotations/XYAnnotationBoundsInfo.java"
          ],
          [
           "./src/main/java/org/jfree/chart/annotations/XYBoxAnnotation.java"
          ],
          [
           "./src/main/java/org/jfree/chart/annotations/XYDataImageAnnotation.java"
          ],
          [
           "./src/main/java/org/jfree/chart/annotations/XYDrawableAnnotation.java"
          ],
          [
           "./src/main/java/org/jfree/chart/annotations/XYImageAnnotation.java"
          ],
          [
           "./src/main/java/org/jfree/chart/annotations/XYLineAnnotation.java"
          ],
          [
           "./src/main/java/org/jfree/chart/annotations/XYPointerAnnotation.java"
          ],
          [
           "./src/main/java/org/jfree/chart/annotations/XYPolygonAnnotation.java"
          ],
          [
           "./src/main/java/org/jfree/chart/annotations/XYShapeAnnotation.java"
          ],
          [
           "./src/main/java/org/jfree/chart/annotations/XYTextAnnotation.java"
          ],
          [
           "./src/main/java/org/jfree/chart/annotations/XYTitleAnnotation.java"
          ],
          [
           "./src/main/java/org/jfree/chart/api/HorizontalAlignment.java"
          ],
          [
           "./src/main/java/org/jfree/chart/api/Layer.java"
          ],
          [
           "./src/main/java/org/jfree/chart/api/LengthAdjustmentType.java"
          ],
          [
           "./src/main/java/org/jfree/chart/api/PublicCloneable.java"
          ],
          [
           "./src/main/java/org/jfree/chart/api/RectangleAlignment.java"
          ],
          [
           "./src/main/java/org/jfree/chart/api/RectangleAnchor.java"
          ],
          [
           "./src/main/java/org/jfree/chart/api/RectangleEdge.java"
          ],
          [
           "./src/main/java/org/jfree/chart/api/RectangleInsets.java"
          ],
          [
           "./src/main/java/org/jfree/chart/api/Rotation.java"
          ],
          [
           "./src/main/java/org/jfree/chart/api/SortOrder.java"
          ],
          [
           "./src/main/java/org/jfree/chart/api/TableOrder.java"
          ],
          [
           "./src/main/java/org/jfree/chart/api/UnitType.java"
          ],
          [
           "./src/main/java/org/jfree/chart/api/VerticalAlignment.java"
          ],
          [
           "./src/main/java/org/jfree/chart/api/XYCoordinateType.java"
          ],
          [
           "./src/main/java/org/jfree/chart/axis/Axis.java"
          ],
          [
           "./src/main/java/org/jfree/chart/axis/AxisCollection.java"
          ],
          [
           "./src/main/java/org/jfree/chart/axis/AxisLabelLocation.java"
          ],
          [
           "./src/main/java/org/jfree/chart/axis/AxisLocation.java"
          ],
          [
           "./src/main/java/org/jfree/chart/axis/AxisSpace.java"
          ],
          [
           "./src/main/java/org/jfree/chart/axis/AxisState.java"
          ],
          [
           "./src/main/java/org/jfree/chart/axis/CategoryAnchor.java"
          ],
          [
           "./src/main/java/org/jfree/chart/axis/CategoryAxis.java"
          ],
          [
           "./src/main/java/org/jfree/chart/axis/CategoryLabelPosition.java"
          ],
          [
           "./src/main/java/org/jfree/chart/axis/CategoryLabelPositions.java"
          ],
          [
           "./src/main/java/org/jfree/chart/axis/CategoryLabelWidthType.java"
          ],
          [
           "./src/main/java/org/jfree/chart/axis/CategoryTick.java"
          ],
          [
           "./src/main/java/org/jfree/chart/axis/CompassFormat.java"
          ],
          [
           "./src/main/java/org/jfree/chart/axis/CyclicNumberAxis.java"
          ],
          [
           "./src/main/java/org/jfree/chart/axis/DateAxis.java"
          ],
          [
           "./src/main/java/org/jfree/chart/axis/DateTick.java"
          ],
          [
           "./src/main/java/org/jfree/chart/axis/DateTickMarkPosition.java"
          ],
          [
           "./src/main/java/org/jfree/chart/axis/DateTickUnit.java"
          ],
          [
           "./src/main/java/org/jfree/chart/axis/DateTickUnitType.java"
          ],
          [
           "./src/main/java/org/jfree/chart/axis/ExtendedCategoryAxis.java"
          ],
          [
           "./src/main/java/org/jfree/chart/axis/LogarithmicAxis.java"
          ],
          [
           "./src/main/java/org/jfree/chart/axis/LogAxis.java"
          ],
          [
           "./src/main/java/org/jfree/chart/axis/LogTick.java"
          ],
          [
           "./src/main/java/org/jfree/chart/axis/MarkerAxisBand.java"
          ],
          [
           "./src/main/java/org/jfree/chart/axis/ModuloAxis.java"
          ],
          [
           "./src/main/java/org/jfree/chart/axis/MonthDateFormat.java"
          ],
          [
           "./src/main/java/org/jfree/chart/axis/NumberAxis.java"
          ],
          [
           "./src/main/java/org/jfree/chart/axis/NumberTick.java"
          ],
          [
           "./src/main/java/org/jfree/chart/axis/NumberTickUnit.java"
          ],
          [
           "./src/main/java/org/jfree/chart/axis/NumberTickUnitSource.java"
          ],
          [
           "./src/main/java/org/jfree/chart/axis/PeriodAxis.java"
          ],
          [
           "./src/main/java/org/jfree/chart/axis/PeriodAxisLabelInfo.java"
          ],
          [
           "./src/main/java/org/jfree/chart/axis/QuarterDateFormat.java"
          ],
          [
           "./src/main/java/org/jfree/chart/axis/StandardTickUnitSource.java"
          ],
          [
           "./src/main/java/org/jfree/chart/axis/SubCategoryAxis.java"
          ],
          [
           "./src/main/java/org/jfree/chart/axis/SymbolAxis.java"
          ],
          [
           "./src/main/java/org/jfree/chart/axis/Tick.java"
          ],
          [
           "./src/main/java/org/jfree/chart/axis/TickType.java"
          ],
          [
           "./src/main/java/org/jfree/chart/axis/TickUnit.java"
          ],
          [
           "./src/main/java/org/jfree/chart/axis/TickUnits.java"
          ],
          [
           "./src/main/java/org/jfree/chart/axis/TickUnitSource.java"
          ],
          [
           "./src/main/java/org/jfree/chart/axis/Timeline.java"
          ],
          [
           "./src/main/java/org/jfree/chart/axis/ValueAxis.java"
          ],
          [
           "./src/main/java/org/jfree/chart/axis/ValueTick.java"
          ],
          [
           "./src/main/java/org/jfree/chart/block/AbstractBlock.java"
          ],
          [
           "./src/main/java/org/jfree/chart/block/Arrangement.java"
          ],
          [
           "./src/main/java/org/jfree/chart/block/Block.java"
          ],
          [
           "./src/main/java/org/jfree/chart/block/BlockBorder.java"
          ],
          [
           "./src/main/java/org/jfree/chart/block/BlockContainer.java"
          ],
          [
           "./src/main/java/org/jfree/chart/block/BlockFrame.java"
          ],
          [
           "./src/main/java/org/jfree/chart/block/BlockParams.java"
          ],
          [
           "./src/main/java/org/jfree/chart/block/BlockResult.java"
          ],
          [
           "./src/main/java/org/jfree/chart/block/BorderArrangement.java"
          ],
          [
           "./src/main/java/org/jfree/chart/block/CenterArrangement.java"
          ],
          [
           "./src/main/java/org/jfree/chart/block/ColorBlock.java"
          ],
          [
           "./src/main/java/org/jfree/chart/block/ColumnArrangement.java"
          ],
          [
           "./src/main/java/org/jfree/chart/block/EmptyBlock.java"
          ],
          [
           "./src/main/java/org/jfree/chart/block/EntityBlockParams.java"
          ],
          [
           "./src/main/java/org/jfree/chart/block/EntityBlockResult.java"
          ],
          [
           "./src/main/java/org/jfree/chart/block/FlowArrangement.java"
          ],
          [
           "./src/main/java/org/jfree/chart/block/GridArrangement.java"
          ],
          [
           "./src/main/java/org/jfree/chart/block/LabelBlock.java"
          ],
          [
           "./src/main/java/org/jfree/chart/block/LengthConstraintType.java"
          ],
          [
           "./src/main/java/org/jfree/chart/block/LineBorder.java"
          ],
          [
           "./src/main/java/org/jfree/chart/block/RectangleConstraint.java"
          ],
          [
           "./src/main/java/org/jfree/chart/block/Size2D.java"
          ],
          [
           "./src/main/java/org/jfree/chart/ChartColor.java"
          ],
          [
           "./src/main/java/org/jfree/chart/ChartElement.java"
          ],
          [
           "./src/main/java/org/jfree/chart/ChartElementVisitor.java"
          ],
          [
           "./src/main/java/org/jfree/chart/ChartFactory.java"
          ],
          [
           "./src/main/java/org/jfree/chart/ChartHints.java"
          ],
          [
           "./src/main/java/org/jfree/chart/ChartRenderingInfo.java"
          ],
          [
           "./src/main/java/org/jfree/chart/ChartTheme.java"
          ],
          [
           "./src/main/java/org/jfree/chart/ChartTransferable.java"
          ],
          [
           "./src/main/java/org/jfree/chart/ChartUtils.java"
          ],
          [
           "./src/main/java/org/jfree/chart/date/MonthConstants.java"
          ],
          [
           "./src/main/java/org/jfree/chart/date/SerialDate.java"
          ],
          [
           "./src/main/java/org/jfree/chart/date/SpreadsheetDate.java"
          ],
          [
           "./src/main/java/org/jfree/chart/Drawable.java"
          ],
          [
           "./src/main/java/org/jfree/chart/encoders/EncoderUtil.java"
          ],
          [
           "./src/main/java/org/jfree/chart/encoders/ImageEncoder.java"
          ],
          [
           "./src/main/java/org/jfree/chart/encoders/ImageEncoderFactory.java"
          ],
          [
           "./src/main/java/org/jfree/chart/encoders/ImageFormat.java"
          ],
          [
           "./src/main/java/org/jfree/chart/encoders/SunJPEGEncoderAdapter.java"
          ],
          [
           "./src/main/java/org/jfree/chart/encoders/SunPNGEncoderAdapter.java"
          ],
          [
           "./src/main/java/org/jfree/chart/entity/AxisEntity.java"
          ],
          [
           "./src/main/java/org/jfree/chart/entity/CategoryItemEntity.java"
          ],
          [
           "./src/main/java/org/jfree/chart/entity/CategoryLabelEntity.java"
          ],
          [
           "./src/main/java/org/jfree/chart/entity/ChartEntity.java"
          ],
          [
           "./src/main/java/org/jfree/chart/entity/EntityCollection.java"
          ],
          [
           "./src/main/java/org/jfree/chart/entity/FlowEntity.java"
          ],
          [
           "./src/main/java/org/jfree/chart/entity/JFreeChartEntity.java"
          ],
          [
           "./src/main/java/org/jfree/chart/entity/LegendItemEntity.java"
          ],
          [
           "./src/main/java/org/jfree/chart/entity/NodeEntity.java"
          ],
          [
           "./src/main/java/org/jfree/chart/entity/PieSectionEntity.java"
          ],
          [
           "./src/main/java/org/jfree/chart/entity/PlotEntity.java"
          ],
          [
           "./src/main/java/org/jfree/chart/entity/StandardEntityCollection.java"
          ],
          [
           "./src/main/java/org/jfree/chart/entity/TickLabelEntity.java"
          ],
          [
           "./src/main/java/org/jfree/chart/entity/TitleEntity.java"
          ],
          [
           "./src/main/java/org/jfree/chart/entity/XYAnnotationEntity.java"
          ],
          [
           "./src/main/java/org/jfree/chart/entity/XYItemEntity.java"
          ],
          [
           "./src/main/java/org/jfree/chart/event/AnnotationChangeEvent.java"
          ],
          [
           "./src/main/java/org/jfree/chart/event/AnnotationChangeListener.java"
          ],
          [
           "./src/main/java/org/jfree/chart/event/AxisChangeEvent.java"
          ],
          [
           "./src/main/java/org/jfree/chart/event/AxisChangeListener.java"
          ],
          [
           "./src/main/java/org/jfree/chart/event/ChartChangeEvent.java"
          ],
          [
           "./src/main/java/org/jfree/chart/event/ChartChangeEventType.java"
          ],
          [
           "./src/main/java/org/jfree/chart/event/ChartChangeListener.java"
          ],
          [
           "./src/main/java/org/jfree/chart/event/ChartProgressEvent.java"
          ],
          [
           "./src/main/java/org/jfree/chart/event/ChartProgressEventType.java"
          ],
          [
           "./src/main/java/org/jfree/chart/event/ChartProgressListener.java"
          ],
          [
           "./src/main/java/org/jfree/chart/event/MarkerChangeEvent.java"
          ],
          [
           "./src/main/java/org/jfree/chart/event/MarkerChangeListener.java"
          ],
          [
           "./src/main/java/org/jfree/chart/event/PlotChangeEvent.java"
          ],
          [
           "./src/main/java/org/jfree/chart/event/PlotChangeListener.java"
          ],
          [
           "./src/main/java/org/jfree/chart/event/RendererChangeEvent.java"
          ],
          [
           "./src/main/java/org/jfree/chart/event/RendererChangeListener.java"
          ],
          [
           "./src/main/java/org/jfree/chart/event/TitleChangeEvent.java"
          ],
          [
           "./src/main/java/org/jfree/chart/event/TitleChangeListener.java"
          ],
          [
           "./src/main/java/org/jfree/chart/imagemap/DynamicDriveToolTipTagFragmentGenerator.java"
          ],
          [
           "./src/main/java/org/jfree/chart/imagemap/ImageMapUtils.java"
          ],
          [
           "./src/main/java/org/jfree/chart/imagemap/OverLIBToolTipTagFragmentGenerator.java"
          ],
          [
           "./src/main/java/org/jfree/chart/imagemap/StandardToolTipTagFragmentGenerator.java"
          ],
          [
           "./src/main/java/org/jfree/chart/imagemap/StandardURLTagFragmentGenerator.java"
          ],
          [
           "./src/main/java/org/jfree/chart/imagemap/ToolTipTagFragmentGenerator.java"
          ],
          [
           "./src/main/java/org/jfree/chart/imagemap/URLTagFragmentGenerator.java"
          ],
          [
           "./src/main/java/org/jfree/chart/internal/Args.java"
          ],
          [
           "./src/main/java/org/jfree/chart/internal/ArrayUtils.java"
          ],
          [
           "./src/main/java/org/jfree/chart/internal/CloneUtils.java"
          ],
          [
           "./src/main/java/org/jfree/chart/internal/HashUtils.java"
          ],
          [
           "./src/main/java/org/jfree/chart/internal/LineUtils.java"
          ],
          [
           "./src/main/java/org/jfree/chart/internal/PaintUtils.java"
          ],
          [
           "./src/main/java/org/jfree/chart/internal/SerialUtils.java"
          ],
          [
           "./src/main/java/org/jfree/chart/internal/ShapeUtils.java"
          ],
          [
           "./src/main/java/org/jfree/chart/JFreeChart.java"
          ],
          [
           "./src/main/java/org/jfree/chart/labels/AbstractCategoryItemLabelGenerator.java"
          ],
          [
           "./src/main/java/org/jfree/chart/labels/AbstractPieItemLabelGenerator.java"
          ],
          [
           "./src/main/java/org/jfree/chart/labels/AbstractXYItemLabelGenerator.java"
          ],
          [
           "./src/main/java/org/jfree/chart/labels/BoxAndWhiskerToolTipGenerator.java"
          ],
          [
           "./src/main/java/org/jfree/chart/labels/BoxAndWhiskerXYToolTipGenerator.java"
          ],
          [
           "./src/main/java/org/jfree/chart/labels/BubbleXYItemLabelGenerator.java"
          ],
          [
           "./src/main/java/org/jfree/chart/labels/CategoryItemLabelGenerator.java"
          ],
          [
           "./src/main/java/org/jfree/chart/labels/CategorySeriesLabelGenerator.java"
          ],
          [
           "./src/main/java/org/jfree/chart/labels/CategoryToolTipGenerator.java"
          ],
          [
           "./src/main/java/org/jfree/chart/labels/CrosshairLabelGenerator.java"
          ],
          [
           "./src/main/java/org/jfree/chart/labels/CustomXYToolTipGenerator.java"
          ],
          [
           "./src/main/java/org/jfree/chart/labels/FlowLabelGenerator.java"
          ],
          [
           "./src/main/java/org/jfree/chart/labels/HighLowItemLabelGenerator.java"
          ],
          [
           "./src/main/java/org/jfree/chart/labels/IntervalCategoryItemLabelGenerator.java"
          ],
          [
           "./src/main/java/org/jfree/chart/labels/IntervalCategoryToolTipGenerator.java"
          ],
          [
           "./src/main/java/org/jfree/chart/labels/IntervalXYItemLabelGenerator.java"
          ],
          [
           "./src/main/java/org/jfree/chart/labels/IntervalXYToolTipGenerator.java"
          ],
          [
           "./src/main/java/org/jfree/chart/labels/ItemLabelAnchor.java"
          ],
          [
           "./src/main/java/org/jfree/chart/labels/ItemLabelPosition.java"
          ],
          [
           "./src/main/java/org/jfree/chart/labels/MultipleXYSeriesLabelGenerator.java"
          ],
          [
           "./src/main/java/org/jfree/chart/labels/PieSectionLabelGenerator.java"
          ],
          [
           "./src/main/java/org/jfree/chart/labels/PieToolTipGenerator.java"
          ],
          [
           "./src/main/java/org/jfree/chart/labels/StandardCategoryItemLabelGenerator.java"
          ],
          [
           "./src/main/java/org/jfree/chart/labels/StandardCategorySeriesLabelGenerator.java"
          ],
          [
           "./src/main/java/org/jfree/chart/labels/StandardCategoryToolTipGenerator.java"
          ],
          [
           "./src/main/java/org/jfree/chart/labels/StandardCrosshairLabelGenerator.java"
          ],
          [
           "./src/main/java/org/jfree/chart/labels/StandardFlowLabelGenerator.java"
          ],
          [
           "./src/main/java/org/jfree/chart/labels/StandardPieSectionLabelGenerator.java"
          ],
          [
           "./src/main/java/org/jfree/chart/labels/StandardPieToolTipGenerator.java"
          ],
          [
           "./src/main/java/org/jfree/chart/labels/StandardXYItemLabelGenerator.java"
          ],
          [
           "./src/main/java/org/jfree/chart/labels/StandardXYSeriesLabelGenerator.java"
          ],
          [
           "./src/main/java/org/jfree/chart/labels/StandardXYToolTipGenerator.java"
          ],
          [
           "./src/main/java/org/jfree/chart/labels/StandardXYZToolTipGenerator.java"
          ],
          [
           "./src/main/java/org/jfree/chart/labels/SymbolicXYItemLabelGenerator.java"
          ],
          [
           "./src/main/java/org/jfree/chart/labels/XYItemLabelGenerator.java"
          ],
          [
           "./src/main/java/org/jfree/chart/labels/XYSeriesLabelGenerator.java"
          ],
          [
           "./src/main/java/org/jfree/chart/labels/XYToolTipGenerator.java"
          ],
          [
           "./src/main/java/org/jfree/chart/labels/XYZToolTipGenerator.java"
          ],
          [
           "./src/main/java/org/jfree/chart/legend/LegendGraphic.java"
          ],
          [
           "./src/main/java/org/jfree/chart/legend/LegendItem.java"
          ],
          [
           "./src/main/java/org/jfree/chart/legend/LegendItemBlockContainer.java"
          ],
          [
           "./src/main/java/org/jfree/chart/legend/LegendItemCollection.java"
          ],
          [
           "./src/main/java/org/jfree/chart/legend/LegendItemSource.java"
          ],
          [
           "./src/main/java/org/jfree/chart/legend/LegendRenderingOrder.java"
          ],
          [
           "./src/main/java/org/jfree/chart/legend/LegendTitle.java"
          ],
          [
           "./src/main/java/org/jfree/chart/legend/PaintScaleLegend.java"
          ],
          [
           "./src/main/java/org/jfree/chart/plot/CategoryCrosshairState.java"
          ],
          [
           "./src/main/java/org/jfree/chart/plot/CategoryMarker.java"
          ],
          [
           "./src/main/java/org/jfree/chart/plot/CategoryPlot.java"
          ],
          [
           "./src/main/java/org/jfree/chart/plot/CenterTextMode.java"
          ],
          [
           "./src/main/java/org/jfree/chart/plot/CombinedDomainCategoryPlot.java"
          ],
          [
           "./src/main/java/org/jfree/chart/plot/CombinedDomainXYPlot.java"
          ],
          [
           "./src/main/java/org/jfree/chart/plot/CombinedRangeCategoryPlot.java"
          ],
          [
           "./src/main/java/org/jfree/chart/plot/CombinedRangeXYPlot.java"
          ],
          [
           "./src/main/java/org/jfree/chart/plot/compass/ArrowNeedle.java"
          ],
          [
           "./src/main/java/org/jfree/chart/plot/compass/CompassPlot.java"
          ],
          [
           "./src/main/java/org/jfree/chart/plot/compass/LineNeedle.java"
          ],
          [
           "./src/main/java/org/jfree/chart/plot/compass/LongNeedle.java"
          ],
          [
           "./src/main/java/org/jfree/chart/plot/compass/MeterNeedle.java"
          ],
          [
           "./src/main/java/org/jfree/chart/plot/compass/MiddlePinNeedle.java"
          ],
          [
           "./src/main/java/org/jfree/chart/plot/compass/PinNeedle.java"
          ],
          [
           "./src/main/java/org/jfree/chart/plot/compass/PlumNeedle.java"
          ],
          [
           "./src/main/java/org/jfree/chart/plot/compass/PointerNeedle.java"
          ],
          [
           "./src/main/java/org/jfree/chart/plot/compass/ShipNeedle.java"
          ],
          [
           "./src/main/java/org/jfree/chart/plot/compass/WindNeedle.java"
          ],
          [
           "./src/main/java/org/jfree/chart/plot/Crosshair.java"
          ],
          [
           "./src/main/java/org/jfree/chart/plot/CrosshairState.java"
          ],
          [
           "./src/main/java/org/jfree/chart/plot/DatasetRenderingOrder.java"
          ],
          [
           "./src/main/java/org/jfree/chart/plot/DefaultDrawingSupplier.java"
          ],
          [
           "./src/main/java/org/jfree/chart/plot/dial/AbstractDialLayer.java"
          ],
          [
           "./src/main/java/org/jfree/chart/plot/dial/ArcDialFrame.java"
          ],
          [
           "./src/main/java/org/jfree/chart/plot/dial/DialBackground.java"
          ],
          [
           "./src/main/java/org/jfree/chart/plot/dial/DialCap.java"
          ],
          [
           "./src/main/java/org/jfree/chart/plot/dial/DialFrame.java"
          ],
          [
           "./src/main/java/org/jfree/chart/plot/dial/DialLayer.java"
          ],
          [
           "./src/main/java/org/jfree/chart/plot/dial/DialLayerChangeEvent.java"
          ],
          [
           "./src/main/java/org/jfree/chart/plot/dial/DialLayerChangeListener.java"
          ],
          [
           "./src/main/java/org/jfree/chart/plot/dial/DialPlot.java"
          ],
          [
           "./src/main/java/org/jfree/chart/plot/dial/DialPointer.java"
          ],
          [
           "./src/main/java/org/jfree/chart/plot/dial/DialScale.java"
          ],
          [
           "./src/main/java/org/jfree/chart/plot/dial/DialTextAnnotation.java"
          ],
          [
           "./src/main/java/org/jfree/chart/plot/dial/DialValueIndicator.java"
          ],
          [
           "./src/main/java/org/jfree/chart/plot/dial/StandardDialFrame.java"
          ],
          [
           "./src/main/java/org/jfree/chart/plot/dial/StandardDialRange.java"
          ],
          [
           "./src/main/java/org/jfree/chart/plot/dial/StandardDialScale.java"
          ],
          [
           "./src/main/java/org/jfree/chart/plot/DialShape.java"
          ],
          [
           "./src/main/java/org/jfree/chart/plot/DrawingSupplier.java"
          ],
          [
           "./src/main/java/org/jfree/chart/plot/FastScatterPlot.java"
          ],
          [
           "./src/main/java/org/jfree/chart/plot/flow/FlowPlot.java"
          ],
          [
           "./src/main/java/org/jfree/chart/plot/IntervalMarker.java"
          ],
          [
           "./src/main/java/org/jfree/chart/plot/Marker.java"
          ],
          [
           "./src/main/java/org/jfree/chart/plot/MeterInterval.java"
          ],
          [
           "./src/main/java/org/jfree/chart/plot/MeterPlot.java"
          ],
          [
           "./src/main/java/org/jfree/chart/plot/Pannable.java"
          ],
          [
           "./src/main/java/org/jfree/chart/plot/pie/AbstractPieLabelDistributor.java"
          ],
          [
           "./src/main/java/org/jfree/chart/plot/pie/MultiplePiePlot.java"
          ],
          [
           "./src/main/java/org/jfree/chart/plot/pie/PieLabelDistributor.java"
          ],
          [
           "./src/main/java/org/jfree/chart/plot/pie/PieLabelLinkStyle.java"
          ],
          [
           "./src/main/java/org/jfree/chart/plot/pie/PieLabelRecord.java"
          ],
          [
           "./src/main/java/org/jfree/chart/plot/pie/PiePlot.java"
          ],
          [
           "./src/main/java/org/jfree/chart/plot/pie/PiePlotState.java"
          ],
          [
           "./src/main/java/org/jfree/chart/plot/Plot.java"
          ],
          [
           "./src/main/java/org/jfree/chart/plot/PlotOrientation.java"
          ],
          [
           "./src/main/java/org/jfree/chart/plot/PlotRenderingInfo.java"
          ],
          [
           "./src/main/java/org/jfree/chart/plot/PlotState.java"
          ],
          [
           "./src/main/java/org/jfree/chart/plot/PolarAxisLocation.java"
          ],
          [
           "./src/main/java/org/jfree/chart/plot/PolarPlot.java"
          ],
          [
           "./src/main/java/org/jfree/chart/plot/RingPlot.java"
          ],
          [
           "./src/main/java/org/jfree/chart/plot/SeriesRenderingOrder.java"
          ],
          [
           "./src/main/java/org/jfree/chart/plot/SpiderWebPlot.java"
          ],
          [
           "./src/main/java/org/jfree/chart/plot/ThermometerPlot.java"
          ],
          [
           "./src/main/java/org/jfree/chart/plot/ValueAxisPlot.java"
          ],
          [
           "./src/main/java/org/jfree/chart/plot/ValueMarker.java"
          ],
          [
           "./src/main/java/org/jfree/chart/plot/WaferMapPlot.java"
          ],
          [
           "./src/main/java/org/jfree/chart/plot/XYCrosshairState.java"
          ],
          [
           "./src/main/java/org/jfree/chart/plot/XYPlot.java"
          ],
          [
           "./src/main/java/org/jfree/chart/plot/Zoomable.java"
          ],
          [
           "./src/main/java/org/jfree/chart/renderer/AbstractRenderer.java"
          ],
          [
           "./src/main/java/org/jfree/chart/renderer/AreaRendererEndType.java"
          ],
          [
           "./src/main/java/org/jfree/chart/renderer/category/AbstractCategoryItemRenderer.java"
          ],
          [
           "./src/main/java/org/jfree/chart/renderer/category/AreaRenderer.java"
          ],
          [
           "./src/main/java/org/jfree/chart/renderer/category/BarPainter.java"
          ],
          [
           "./src/main/java/org/jfree/chart/renderer/category/BarRenderer.java"
          ],
          [
           "./src/main/java/org/jfree/chart/renderer/category/BoxAndWhiskerRenderer.java"
          ],
          [
           "./src/main/java/org/jfree/chart/renderer/category/CategoryItemRenderer.java"
          ],
          [
           "./src/main/java/org/jfree/chart/renderer/category/CategoryItemRendererState.java"
          ],
          [
           "./src/main/java/org/jfree/chart/renderer/category/CategoryStepRenderer.java"
          ],
          [
           "./src/main/java/org/jfree/chart/renderer/category/DefaultCategoryItemRenderer.java"
          ],
          [
           "./src/main/java/org/jfree/chart/renderer/category/GanttRenderer.java"
          ],
          [
           "./src/main/java/org/jfree/chart/renderer/category/GradientBarPainter.java"
          ],
          [
           "./src/main/java/org/jfree/chart/renderer/category/GroupedStackedBarRenderer.java"
          ],
          [
           "./src/main/java/org/jfree/chart/renderer/category/IntervalBarRenderer.java"
          ],
          [
           "./src/main/java/org/jfree/chart/renderer/category/LayeredBarRenderer.java"
          ],
          [
           "./src/main/java/org/jfree/chart/renderer/category/LevelRenderer.java"
          ],
          [
           "./src/main/java/org/jfree/chart/renderer/category/LineAndShapeRenderer.java"
          ],
          [
           "./src/main/java/org/jfree/chart/renderer/category/MinMaxCategoryRenderer.java"
          ],
          [
           "./src/main/java/org/jfree/chart/renderer/category/ScatterRenderer.java"
          ],
          [
           "./src/main/java/org/jfree/chart/renderer/category/StackedAreaRenderer.java"
          ],
          [
           "./src/main/java/org/jfree/chart/renderer/category/StackedBarRenderer.java"
          ],
          [
           "./src/main/java/org/jfree/chart/renderer/category/StandardBarPainter.java"
          ],
          [
           "./src/main/java/org/jfree/chart/renderer/category/StatisticalBarRenderer.java"
          ],
          [
           "./src/main/java/org/jfree/chart/renderer/category/StatisticalLineAndShapeRenderer.java"
          ],
          [
           "./src/main/java/org/jfree/chart/renderer/category/WaterfallBarRenderer.java"
          ],
          [
           "./src/main/java/org/jfree/chart/renderer/DefaultPolarItemRenderer.java"
          ],
          [
           "./src/main/java/org/jfree/chart/renderer/GrayPaintScale.java"
          ],
          [
           "./src/main/java/org/jfree/chart/renderer/LookupPaintScale.java"
          ],
          [
           "./src/main/java/org/jfree/chart/renderer/NotOutlierException.java"
          ],
          [
           "./src/main/java/org/jfree/chart/renderer/Outlier.java"
          ],
          [
           "./src/main/java/org/jfree/chart/renderer/OutlierList.java"
          ],
          [
           "./src/main/java/org/jfree/chart/renderer/OutlierListCollection.java"
          ],
          [
           "./src/main/java/org/jfree/chart/renderer/PaintScale.java"
          ],
          [
           "./src/main/java/org/jfree/chart/renderer/PolarItemRenderer.java"
          ],
          [
           "./src/main/java/org/jfree/chart/renderer/RendererState.java"
          ],
          [
           "./src/main/java/org/jfree/chart/renderer/RendererUtils.java"
          ],
          [
           "./src/main/java/org/jfree/chart/renderer/WaferMapRenderer.java"
          ],
          [
           "./src/main/java/org/jfree/chart/renderer/xy/AbstractXYItemRenderer.java"
          ],
          [
           "./src/main/java/org/jfree/chart/renderer/xy/CandlestickRenderer.java"
          ],
          [
           "./src/main/java/org/jfree/chart/renderer/xy/ClusteredXYBarRenderer.java"
          ],
          [
           "./src/main/java/org/jfree/chart/renderer/xy/CyclicXYItemRenderer.java"
          ],
          [
           "./src/main/java/org/jfree/chart/renderer/xy/DefaultXYItemRenderer.java"
          ],
          [
           "./src/main/java/org/jfree/chart/renderer/xy/DeviationRenderer.java"
          ],
          [
           "./src/main/java/org/jfree/chart/renderer/xy/DeviationStepRenderer.java"
          ],
          [
           "./src/main/java/org/jfree/chart/renderer/xy/GradientXYBarPainter.java"
          ],
          [
           "./src/main/java/org/jfree/chart/renderer/xy/HighLowRenderer.java"
          ],
          [
           "./src/main/java/org/jfree/chart/renderer/xy/SamplingXYLineRenderer.java"
          ],
          [
           "./src/main/java/org/jfree/chart/renderer/xy/StackedXYAreaRenderer.java"
          ],
          [
           "./src/main/java/org/jfree/chart/renderer/xy/StackedXYAreaRenderer2.java"
          ],
          [
           "./src/main/java/org/jfree/chart/renderer/xy/StackedXYBarRenderer.java"
          ],
          [
           "./src/main/java/org/jfree/chart/renderer/xy/StandardXYBarPainter.java"
          ],
          [
           "./src/main/java/org/jfree/chart/renderer/xy/StandardXYItemRenderer.java"
          ],
          [
           "./src/main/java/org/jfree/chart/renderer/xy/VectorRenderer.java"
          ],
          [
           "./src/main/java/org/jfree/chart/renderer/xy/WindItemRenderer.java"
          ],
          [
           "./src/main/java/org/jfree/chart/renderer/xy/XYAreaRenderer.java"
          ],
          [
           "./src/main/java/org/jfree/chart/renderer/xy/XYAreaRenderer2.java"
          ],
          [
           "./src/main/java/org/jfree/chart/renderer/xy/XYBarPainter.java"
          ],
          [
           "./src/main/java/org/jfree/chart/renderer/xy/XYBarRenderer.java"
          ],
          [
           "./src/main/java/org/jfree/chart/renderer/xy/XYBlockRenderer.java"
          ],
          [
           "./src/main/java/org/jfree/chart/renderer/xy/XYBoxAndWhiskerRenderer.java"
          ],
          [
           "./src/main/java/org/jfree/chart/renderer/xy/XYBubbleRenderer.java"
          ],
          [
           "./src/main/java/org/jfree/chart/renderer/xy/XYDifferenceRenderer.java"
          ],
          [
           "./src/main/java/org/jfree/chart/renderer/xy/XYDotRenderer.java"
          ],
          [
           "./src/main/java/org/jfree/chart/renderer/xy/XYErrorRenderer.java"
          ],
          [
           "./src/main/java/org/jfree/chart/renderer/xy/XYItemRenderer.java"
          ],
          [
           "./src/main/java/org/jfree/chart/renderer/xy/XYItemRendererState.java"
          ],
          [
           "./src/main/java/org/jfree/chart/renderer/xy/XYLineAndShapeRenderer.java"
          ],
          [
           "./src/main/java/org/jfree/chart/renderer/xy/XYShapeRenderer.java"
          ],
          [
           "./src/main/java/org/jfree/chart/renderer/xy/XYSplineRenderer.java"
          ],
          [
           "./src/main/java/org/jfree/chart/renderer/xy/XYStepAreaRenderer.java"
          ],
          [
           "./src/main/java/org/jfree/chart/renderer/xy/XYStepRenderer.java"
          ],
          [
           "./src/main/java/org/jfree/chart/renderer/xy/YIntervalRenderer.java"
          ],
          [
           "./src/main/java/org/jfree/chart/StandardChartTheme.java"
          ],
          [
           "./src/main/java/org/jfree/chart/swing/AbstractOverlay.java"
          ],
          [
           "./src/main/java/org/jfree/chart/swing/ApplicationFrame.java"
          ],
          [
           "./src/main/java/org/jfree/chart/swing/ChartFrame.java"
          ],
          [
           "./src/main/java/org/jfree/chart/swing/ChartMouseEvent.java"
          ],
          [
           "./src/main/java/org/jfree/chart/swing/ChartMouseListener.java"
          ],
          [
           "./src/main/java/org/jfree/chart/swing/ChartPanel.java"
          ],
          [
           "./src/main/java/org/jfree/chart/swing/CrosshairOverlay.java"
          ],
          [
           "./src/main/java/org/jfree/chart/swing/DefaultSelectionZoomStrategy.java"
          ],
          [
           "./src/main/java/org/jfree/chart/swing/editor/ChartEditor.java"
          ],
          [
           "./src/main/java/org/jfree/chart/swing/editor/ChartEditorFactory.java"
          ],
          [
           "./src/main/java/org/jfree/chart/swing/editor/ChartEditorManager.java"
          ],
          [
           "./src/main/java/org/jfree/chart/swing/editor/DefaultAxisEditor.java"
          ],
          [
           "./src/main/java/org/jfree/chart/swing/editor/DefaultChartEditor.java"
          ],
          [
           "./src/main/java/org/jfree/chart/swing/editor/DefaultChartEditorFactory.java"
          ],
          [
           "./src/main/java/org/jfree/chart/swing/editor/DefaultLogAxisEditor.java"
          ],
          [
           "./src/main/java/org/jfree/chart/swing/editor/DefaultNumberAxisEditor.java"
          ],
          [
           "./src/main/java/org/jfree/chart/swing/editor/DefaultPlotEditor.java"
          ],
          [
           "./src/main/java/org/jfree/chart/swing/editor/DefaultPolarPlotEditor.java"
          ],
          [
           "./src/main/java/org/jfree/chart/swing/editor/DefaultTitleEditor.java"
          ],
          [
           "./src/main/java/org/jfree/chart/swing/editor/DefaultValueAxisEditor.java"
          ],
          [
           "./src/main/java/org/jfree/chart/swing/editor/FontChooserPanel.java"
          ],
          [
           "./src/main/java/org/jfree/chart/swing/editor/FontDisplayField.java"
          ],
          [
           "./src/main/java/org/jfree/chart/swing/editor/LCBLayout.java"
          ],
          [
           "./src/main/java/org/jfree/chart/swing/editor/PaintSample.java"
          ],
          [
           "./src/main/java/org/jfree/chart/swing/editor/StrokeChooserPanel.java"
          ],
          [
           "./src/main/java/org/jfree/chart/swing/editor/StrokeSample.java"
          ],
          [
           "./src/main/java/org/jfree/chart/swing/MouseWheelHandler.java"
          ],
          [
           "./src/main/java/org/jfree/chart/swing/NumberCellRenderer.java"
          ],
          [
           "./src/main/java/org/jfree/chart/swing/Overlay.java"
          ],
          [
           "./src/main/java/org/jfree/chart/swing/OverlayChangeEvent.java"
          ],
          [
           "./src/main/java/org/jfree/chart/swing/OverlayChangeListener.java"
          ],
          [
           "./src/main/java/org/jfree/chart/swing/PolarChartPanel.java"
          ],
          [
           "./src/main/java/org/jfree/chart/swing/SelectionZoomStrategy.java"
          ],
          [
           "./src/main/java/org/jfree/chart/swing/UIUtils.java"
          ],
          [
           "./src/main/java/org/jfree/chart/text/AttributedStringUtils.java"
          ],
          [
           "./src/main/java/org/jfree/chart/text/format/HexNumberFormat.java"
          ],
          [
           "./src/main/java/org/jfree/chart/text/format/HMSNumberFormat.java"
          ],
          [
           "./src/main/java/org/jfree/chart/text/format/LogFormat.java"
          ],
          [
           "./src/main/java/org/jfree/chart/text/format/RelativeDateFormat.java"
          ],
          [
           "./src/main/java/org/jfree/chart/text/G2TextMeasurer.java"
          ],
          [
           "./src/main/java/org/jfree/chart/text/TextAnchor.java"
          ],
          [
           "./src/main/java/org/jfree/chart/text/TextBlock.java"
          ],
          [
           "./src/main/java/org/jfree/chart/text/TextBlockAnchor.java"
          ],
          [
           "./src/main/java/org/jfree/chart/text/TextBox.java"
          ],
          [
           "./src/main/java/org/jfree/chart/text/TextFragment.java"
          ],
          [
           "./src/main/java/org/jfree/chart/text/TextLine.java"
          ],
          [
           "./src/main/java/org/jfree/chart/text/TextMeasurer.java"
          ],
          [
           "./src/main/java/org/jfree/chart/text/TextUtils.java"
          ],
          [
           "./src/main/java/org/jfree/chart/title/CompositeTitle.java"
          ],
          [
           "./src/main/java/org/jfree/chart/title/DateTitle.java"
          ],
          [
           "./src/main/java/org/jfree/chart/title/ImageTitle.java"
          ],
          [
           "./src/main/java/org/jfree/chart/title/ShortTextTitle.java"
          ],
          [
           "./src/main/java/org/jfree/chart/title/TextTitle.java"
          ],
          [
           "./src/main/java/org/jfree/chart/title/Title.java"
          ],
          [
           "./src/main/java/org/jfree/chart/urls/CategoryURLGenerator.java"
          ],
          [
           "./src/main/java/org/jfree/chart/urls/CustomCategoryURLGenerator.java"
          ],
          [
           "./src/main/java/org/jfree/chart/urls/CustomPieURLGenerator.java"
          ],
          [
           "./src/main/java/org/jfree/chart/urls/CustomXYURLGenerator.java"
          ],
          [
           "./src/main/java/org/jfree/chart/urls/PieURLGenerator.java"
          ],
          [
           "./src/main/java/org/jfree/chart/urls/StandardCategoryURLGenerator.java"
          ],
          [
           "./src/main/java/org/jfree/chart/urls/StandardPieURLGenerator.java"
          ],
          [
           "./src/main/java/org/jfree/chart/urls/StandardXYURLGenerator.java"
          ],
          [
           "./src/main/java/org/jfree/chart/urls/StandardXYZURLGenerator.java"
          ],
          [
           "./src/main/java/org/jfree/chart/urls/TimeSeriesURLGenerator.java"
          ],
          [
           "./src/main/java/org/jfree/chart/urls/XYURLGenerator.java"
          ],
          [
           "./src/main/java/org/jfree/chart/urls/XYZURLGenerator.java"
          ],
          [
           "./src/main/java/org/jfree/chart/util/AttrStringUtils.java"
          ],
          [
           "./src/main/java/org/jfree/chart/util/DefaultShadowGenerator.java"
          ],
          [
           "./src/main/java/org/jfree/chart/util/DirectionalGradientPaintTransformer.java"
          ],
          [
           "./src/main/java/org/jfree/chart/util/ExportUtils.java"
          ],
          [
           "./src/main/java/org/jfree/chart/util/GradientPaintTransformer.java"
          ],
          [
           "./src/main/java/org/jfree/chart/util/GradientPaintTransformType.java"
          ],
          [
           "./src/main/java/org/jfree/chart/util/PaintAlpha.java"
          ],
          [
           "./src/main/java/org/jfree/chart/util/ShadowGenerator.java"
          ],
          [
           "./src/main/java/org/jfree/chart/util/StandardGradientPaintTransformer.java"
          ],
          [
           "./src/main/java/org/jfree/chart/util/StringUtils.java"
          ],
          [
           "./src/main/java/org/jfree/data/category/CategoryDataset.java"
          ],
          [
           "./src/main/java/org/jfree/data/category/CategoryRangeInfo.java"
          ],
          [
           "./src/main/java/org/jfree/data/category/CategoryToPieDataset.java"
          ],
          [
           "./src/main/java/org/jfree/data/category/DefaultCategoryDataset.java"
          ],
          [
           "./src/main/java/org/jfree/data/category/DefaultIntervalCategoryDataset.java"
          ],
          [
           "./src/main/java/org/jfree/data/category/IntervalCategoryDataset.java"
          ],
          [
           "./src/main/java/org/jfree/data/category/SlidingCategoryDataset.java"
          ],
          [
           "./src/main/java/org/jfree/data/ComparableObjectItem.java"
          ],
          [
           "./src/main/java/org/jfree/data/ComparableObjectSeries.java"
          ],
          [
           "./src/main/java/org/jfree/data/DataUtils.java"
          ],
          [
           "./src/main/java/org/jfree/data/DefaultKeyedValue.java"
          ],
          [
           "./src/main/java/org/jfree/data/DefaultKeyedValues.java"
          ],
          [
           "./src/main/java/org/jfree/data/DefaultKeyedValues2D.java"
          ],
          [
           "./src/main/java/org/jfree/data/DomainInfo.java"
          ],
          [
           "./src/main/java/org/jfree/data/DomainOrder.java"
          ],
          [
           "./src/main/java/org/jfree/data/flow/DefaultFlowDataset.java"
          ],
          [
           "./src/main/java/org/jfree/data/flow/FlowDataset.java"
          ],
          [
           "./src/main/java/org/jfree/data/flow/FlowDatasetUtils.java"
          ],
          [
           "./src/main/java/org/jfree/data/flow/FlowKey.java"
          ],
          [
           "./src/main/java/org/jfree/data/flow/NodeKey.java"
          ],
          [
           "./src/main/java/org/jfree/data/function/Function2D.java"
          ],
          [
           "./src/main/java/org/jfree/data/function/LineFunction2D.java"
          ],
          [
           "./src/main/java/org/jfree/data/function/NormalDistributionFunction2D.java"
          ],
          [
           "./src/main/java/org/jfree/data/function/PolynomialFunction2D.java"
          ],
          [
           "./src/main/java/org/jfree/data/function/PowerFunction2D.java"
          ],
          [
           "./src/main/java/org/jfree/data/gantt/GanttCategoryDataset.java"
          ],
          [
           "./src/main/java/org/jfree/data/gantt/SlidingGanttCategoryDataset.java"
          ],
          [
           "./src/main/java/org/jfree/data/gantt/Task.java"
          ],
          [
           "./src/main/java/org/jfree/data/gantt/TaskSeries.java"
          ],
          [
           "./src/main/java/org/jfree/data/gantt/TaskSeriesCollection.java"
          ],
          [
           "./src/main/java/org/jfree/data/gantt/XYTaskDataset.java"
          ],
          [
           "./src/main/java/org/jfree/data/general/AbstractDataset.java"
          ],
          [
           "./src/main/java/org/jfree/data/general/AbstractSeriesDataset.java"
          ],
          [
           "./src/main/java/org/jfree/data/general/Dataset.java"
          ],
          [
           "./src/main/java/org/jfree/data/general/DatasetChangeEvent.java"
          ],
          [
           "./src/main/java/org/jfree/data/general/DatasetChangeListener.java"
          ],
          [
           "./src/main/java/org/jfree/data/general/DatasetUtils.java"
          ],
          [
           "./src/main/java/org/jfree/data/general/DefaultHeatMapDataset.java"
          ],
          [
           "./src/main/java/org/jfree/data/general/DefaultKeyedValueDataset.java"
          ],
          [
           "./src/main/java/org/jfree/data/general/DefaultKeyedValues2DDataset.java"
          ],
          [
           "./src/main/java/org/jfree/data/general/DefaultKeyedValuesDataset.java"
          ],
          [
           "./src/main/java/org/jfree/data/general/DefaultPieDataset.java"
          ],
          [
           "./src/main/java/org/jfree/data/general/DefaultValueDataset.java"
          ],
          [
           "./src/main/java/org/jfree/data/general/HeatMapDataset.java"
          ],
          [
           "./src/main/java/org/jfree/data/general/HeatMapUtils.java"
          ],
          [
           "./src/main/java/org/jfree/data/general/KeyedValueDataset.java"
          ],
          [
           "./src/main/java/org/jfree/data/general/KeyedValues2DDataset.java"
          ],
          [
           "./src/main/java/org/jfree/data/general/KeyedValuesDataset.java"
          ],
          [
           "./src/main/java/org/jfree/data/general/PieDataset.java"
          ],
          [
           "./src/main/java/org/jfree/data/general/Series.java"
          ],
          [
           "./src/main/java/org/jfree/data/general/SeriesChangeEvent.java"
          ],
          [
           "./src/main/java/org/jfree/data/general/SeriesChangeListener.java"
          ],
          [
           "./src/main/java/org/jfree/data/general/SeriesDataset.java"
          ],
          [
           "./src/main/java/org/jfree/data/general/SeriesException.java"
          ],
          [
           "./src/main/java/org/jfree/data/general/ValueDataset.java"
          ],
          [
           "./src/main/java/org/jfree/data/general/WaferMapDataset.java"
          ],
          [
           "./src/main/java/org/jfree/data/io/CSV.java"
          ],
          [
           "./src/main/java/org/jfree/data/ItemKey.java"
          ],
          [
           "./src/main/java/org/jfree/data/json/impl/JSONArray.java"
          ],
          [
           "./src/main/java/org/jfree/data/json/impl/JSONAware.java"
          ],
          [
           "./src/main/java/org/jfree/data/json/impl/JSONObject.java"
          ],
          [
           "./src/main/java/org/jfree/data/json/impl/JSONStreamAware.java"
          ],
          [
           "./src/main/java/org/jfree/data/json/impl/JSONValue.java"
          ],
          [
           "./src/main/java/org/jfree/data/json/JSONUtils.java"
          ],
          [
           "./src/main/java/org/jfree/data/KeyedObject.java"
          ],
          [
           "./src/main/java/org/jfree/data/KeyedObjects.java"
          ],
          [
           "./src/main/java/org/jfree/data/KeyedObjects2D.java"
          ],
          [
           "./src/main/java/org/jfree/data/KeyedValue.java"
          ],
          [
           "./src/main/java/org/jfree/data/KeyedValueComparator.java"
          ],
          [
           "./src/main/java/org/jfree/data/KeyedValueComparatorType.java"
          ],
          [
           "./src/main/java/org/jfree/data/KeyedValues.java"
          ],
          [
           "./src/main/java/org/jfree/data/KeyedValues2D.java"
          ],
          [
           "./src/main/java/org/jfree/data/KeyedValues2DItemKey.java"
          ],
          [
           "./src/main/java/org/jfree/data/KeyedValuesItemKey.java"
          ],
          [
           "./src/main/java/org/jfree/data/KeyToGroupMap.java"
          ],
          [
           "./src/main/java/org/jfree/data/Range.java"
          ],
          [
           "./src/main/java/org/jfree/data/RangeInfo.java"
          ],
          [
           "./src/main/java/org/jfree/data/RangeType.java"
          ],
          [
           "./src/main/java/org/jfree/data/resources/DataPackageResources.java"
          ],
          [
           "./src/main/java/org/jfree/data/resources/DataPackageResources_de.java"
          ],
          [
           "./src/main/java/org/jfree/data/resources/DataPackageResources_es.java"
          ],
          [
           "./src/main/java/org/jfree/data/resources/DataPackageResources_fr.java"
          ],
          [
           "./src/main/java/org/jfree/data/resources/DataPackageResources_pl.java"
          ],
          [
           "./src/main/java/org/jfree/data/resources/DataPackageResources_ru.java"
          ],
          [
           "./src/main/java/org/jfree/data/statistics/BoxAndWhiskerCalculator.java"
          ],
          [
           "./src/main/java/org/jfree/data/statistics/BoxAndWhiskerCategoryDataset.java"
          ],
          [
           "./src/main/java/org/jfree/data/statistics/BoxAndWhiskerItem.java"
          ],
          [
           "./src/main/java/org/jfree/data/statistics/BoxAndWhiskerXYDataset.java"
          ],
          [
           "./src/main/java/org/jfree/data/statistics/DefaultBoxAndWhiskerCategoryDataset.java"
          ],
          [
           "./src/main/java/org/jfree/data/statistics/DefaultBoxAndWhiskerXYDataset.java"
          ],
          [
           "./src/main/java/org/jfree/data/statistics/DefaultMultiValueCategoryDataset.java"
          ],
          [
           "./src/main/java/org/jfree/data/statistics/DefaultStatisticalCategoryDataset.java"
          ],
          [
           "./src/main/java/org/jfree/data/statistics/HistogramBin.java"
          ],
          [
           "./src/main/java/org/jfree/data/statistics/HistogramDataset.java"
          ],
          [
           "./src/main/java/org/jfree/data/statistics/HistogramType.java"
          ],
          [
           "./src/main/java/org/jfree/data/statistics/MeanAndStandardDeviation.java"
          ],
          [
           "./src/main/java/org/jfree/data/statistics/MultiValueCategoryDataset.java"
          ],
          [
           "./src/main/java/org/jfree/data/statistics/Regression.java"
          ],
          [
           "./src/main/java/org/jfree/data/statistics/SimpleHistogramBin.java"
          ],
          [
           "./src/main/java/org/jfree/data/statistics/SimpleHistogramDataset.java"
          ],
          [
           "./src/main/java/org/jfree/data/statistics/StatisticalCategoryDataset.java"
          ],
          [
           "./src/main/java/org/jfree/data/statistics/Statistics.java"
          ],
          [
           "./src/main/java/org/jfree/data/time/DateRange.java"
          ],
          [
           "./src/main/java/org/jfree/data/time/Day.java"
          ],
          [
           "./src/main/java/org/jfree/data/time/DynamicTimeSeriesCollection.java"
          ],
          [
           "./src/main/java/org/jfree/data/time/FixedMillisecond.java"
          ],
          [
           "./src/main/java/org/jfree/data/time/Hour.java"
          ],
          [
           "./src/main/java/org/jfree/data/time/Millisecond.java"
          ],
          [
           "./src/main/java/org/jfree/data/time/Minute.java"
          ],
          [
           "./src/main/java/org/jfree/data/time/Month.java"
          ],
          [
           "./src/main/java/org/jfree/data/time/MovingAverage.java"
          ],
          [
           "./src/main/java/org/jfree/data/time/ohlc/OHLC.java"
          ],
          [
           "./src/main/java/org/jfree/data/time/ohlc/OHLCItem.java"
          ],
          [
           "./src/main/java/org/jfree/data/time/ohlc/OHLCSeries.java"
          ],
          [
           "./src/main/java/org/jfree/data/time/ohlc/OHLCSeriesCollection.java"
          ],
          [
           "./src/main/java/org/jfree/data/time/Quarter.java"
          ],
          [
           "./src/main/java/org/jfree/data/time/RegularTimePeriod.java"
          ],
          [
           "./src/main/java/org/jfree/data/time/Second.java"
          ],
          [
           "./src/main/java/org/jfree/data/time/SimpleTimePeriod.java"
          ],
          [
           "./src/main/java/org/jfree/data/time/TimePeriod.java"
          ],
          [
           "./src/main/java/org/jfree/data/time/TimePeriodAnchor.java"
          ],
          [
           "./src/main/java/org/jfree/data/time/TimePeriodFormatException.java"
          ],
          [
           "./src/main/java/org/jfree/data/time/TimePeriodValue.java"
          ],
          [
           "./src/main/java/org/jfree/data/time/TimePeriodValues.java"
          ],
          [
           "./src/main/java/org/jfree/data/time/TimePeriodValuesCollection.java"
          ],
          [
           "./src/main/java/org/jfree/data/time/TimeSeries.java"
          ],
          [
           "./src/main/java/org/jfree/data/time/TimeSeriesCollection.java"
          ],
          [
           "./src/main/java/org/jfree/data/time/TimeSeriesDataItem.java"
          ],
          [
           "./src/main/java/org/jfree/data/time/TimeSeriesTableModel.java"
          ],
          [
           "./src/main/java/org/jfree/data/time/TimeTableXYDataset.java"
          ],
          [
           "./src/main/java/org/jfree/data/time/Week.java"
          ],
          [
           "./src/main/java/org/jfree/data/time/Year.java"
          ],
          [
           "./src/main/java/org/jfree/data/UnknownKeyException.java"
          ],
          [
           "./src/main/java/org/jfree/data/Value.java"
          ],
          [
           "./src/main/java/org/jfree/data/Values.java"
          ],
          [
           "./src/main/java/org/jfree/data/Values2D.java"
          ],
          [
           "./src/main/java/org/jfree/data/xml/CategoryDatasetHandler.java"
          ],
          [
           "./src/main/java/org/jfree/data/xml/CategorySeriesHandler.java"
          ],
          [
           "./src/main/java/org/jfree/data/xml/DatasetReader.java"
          ],
          [
           "./src/main/java/org/jfree/data/xml/DatasetTags.java"
          ],
          [
           "./src/main/java/org/jfree/data/xml/ItemHandler.java"
          ],
          [
           "./src/main/java/org/jfree/data/xml/KeyHandler.java"
          ],
          [
           "./src/main/java/org/jfree/data/xml/PieDatasetHandler.java"
          ],
          [
           "./src/main/java/org/jfree/data/xml/RootHandler.java"
          ],
          [
           "./src/main/java/org/jfree/data/xml/ValueHandler.java"
          ],
          [
           "./src/main/java/org/jfree/data/xy/AbstractIntervalXYDataset.java"
          ],
          [
           "./src/main/java/org/jfree/data/xy/AbstractXYDataset.java"
          ],
          [
           "./src/main/java/org/jfree/data/xy/AbstractXYZDataset.java"
          ],
          [
           "./src/main/java/org/jfree/data/xy/CategoryTableXYDataset.java"
          ],
          [
           "./src/main/java/org/jfree/data/xy/DefaultHighLowDataset.java"
          ],
          [
           "./src/main/java/org/jfree/data/xy/DefaultIntervalXYDataset.java"
          ],
          [
           "./src/main/java/org/jfree/data/xy/DefaultOHLCDataset.java"
          ],
          [
           "./src/main/java/org/jfree/data/xy/DefaultTableXYDataset.java"
          ],
          [
           "./src/main/java/org/jfree/data/xy/DefaultWindDataset.java"
          ],
          [
           "./src/main/java/org/jfree/data/xy/DefaultXYDataset.java"
          ],
          [
           "./src/main/java/org/jfree/data/xy/DefaultXYZDataset.java"
          ],
          [
           "./src/main/java/org/jfree/data/xy/IntervalXYDataset.java"
          ],
          [
           "./src/main/java/org/jfree/data/xy/IntervalXYDelegate.java"
          ],
          [
           "./src/main/java/org/jfree/data/xy/IntervalXYZDataset.java"
          ],
          [
           "./src/main/java/org/jfree/data/xy/MatrixSeries.java"
          ],
          [
           "./src/main/java/org/jfree/data/xy/MatrixSeriesCollection.java"
          ],
          [
           "./src/main/java/org/jfree/data/xy/NormalizedMatrixSeries.java"
          ],
          [
           "./src/main/java/org/jfree/data/xy/OHLCDataItem.java"
          ],
          [
           "./src/main/java/org/jfree/data/xy/OHLCDataset.java"
          ],
          [
           "./src/main/java/org/jfree/data/xy/TableXYDataset.java"
          ],
          [
           "./src/main/java/org/jfree/data/xy/Vector.java"
          ],
          [
           "./src/main/java/org/jfree/data/xy/VectorDataItem.java"
          ],
          [
           "./src/main/java/org/jfree/data/xy/VectorSeries.java"
          ],
          [
           "./src/main/java/org/jfree/data/xy/VectorSeriesCollection.java"
          ],
          [
           "./src/main/java/org/jfree/data/xy/VectorXYDataset.java"
          ],
          [
           "./src/main/java/org/jfree/data/xy/WindDataset.java"
          ],
          [
           "./src/main/java/org/jfree/data/xy/XIntervalDataItem.java"
          ],
          [
           "./src/main/java/org/jfree/data/xy/XIntervalSeries.java"
          ],
          [
           "./src/main/java/org/jfree/data/xy/XIntervalSeriesCollection.java"
          ],
          [
           "./src/main/java/org/jfree/data/xy/XisSymbolic.java"
          ],
          [
           "./src/main/java/org/jfree/data/xy/XYBarDataset.java"
          ],
          [
           "./src/main/java/org/jfree/data/xy/XYCoordinate.java"
          ],
          [
           "./src/main/java/org/jfree/data/xy/XYDataItem.java"
          ],
          [
           "./src/main/java/org/jfree/data/xy/XYDataset.java"
          ],
          [
           "./src/main/java/org/jfree/data/xy/XYDatasetTableModel.java"
          ],
          [
           "./src/main/java/org/jfree/data/xy/XYDomainInfo.java"
          ],
          [
           "./src/main/java/org/jfree/data/xy/XYInterval.java"
          ],
          [
           "./src/main/java/org/jfree/data/xy/XYIntervalDataItem.java"
          ],
          [
           "./src/main/java/org/jfree/data/xy/XYIntervalSeries.java"
          ],
          [
           "./src/main/java/org/jfree/data/xy/XYIntervalSeriesCollection.java"
          ],
          [
           "./src/main/java/org/jfree/data/xy/XYItemKey.java"
          ],
          [
           "./src/main/java/org/jfree/data/xy/XYRangeInfo.java"
          ],
          [
           "./src/main/java/org/jfree/data/xy/XYSeries.java"
          ],
          [
           "./src/main/java/org/jfree/data/xy/XYSeriesCollection.java"
          ],
          [
           "./src/main/java/org/jfree/data/xy/XYZDataset.java"
          ],
          [
           "./src/main/java/org/jfree/data/xy/YInterval.java"
          ],
          [
           "./src/main/java/org/jfree/data/xy/YIntervalDataItem.java"
          ],
          [
           "./src/main/java/org/jfree/data/xy/YIntervalSeries.java"
          ],
          [
           "./src/main/java/org/jfree/data/xy/YIntervalSeriesCollection.java"
          ],
          [
           "./src/main/java/org/jfree/data/xy/YisSymbolic.java"
          ],
          [
           "./src/main/java/org/jfree/data/xy/YWithXInterval.java"
          ]
         ],
         "hovertemplate": "NOCom=%{y}<br>class=%{customdata[0]}<extra></extra>",
         "legendgroup": "",
         "marker": {
          "color": "#636efa"
         },
         "name": "",
         "notched": false,
         "offsetgroup": "",
         "orientation": "v",
         "showlegend": false,
         "type": "box",
         "x0": " ",
         "xaxis": "x",
         "y": [
          4,
          6,
          5,
          4,
          12,
          12,
          8,
          11,
          4,
          5,
          10,
          10,
          12,
          12,
          13,
          12,
          13,
          11,
          14,
          15,
          2,
          2,
          2,
          2,
          2,
          3,
          2,
          5,
          2,
          2,
          2,
          2,
          2,
          3,
          15,
          8,
          5,
          9,
          7,
          7,
          6,
          16,
          8,
          8,
          7,
          6,
          5,
          11,
          17,
          8,
          5,
          9,
          4,
          8,
          7,
          12,
          4,
          9,
          6,
          5,
          10,
          6,
          6,
          6,
          14,
          9,
          5,
          3,
          11,
          11,
          7,
          4,
          4,
          2,
          4,
          4,
          14,
          6,
          13,
          5,
          6,
          9,
          10,
          7,
          2,
          2,
          6,
          5,
          7,
          6,
          5,
          3,
          3,
          7,
          7,
          14,
          5,
          11,
          7,
          2,
          3,
          2,
          2,
          22,
          4,
          7,
          5,
          7,
          10,
          5,
          8,
          6,
          2,
          2,
          3,
          4,
          3,
          5,
          4,
          10,
          11,
          8,
          9,
          5,
          2,
          10,
          7,
          2,
          7,
          10,
          8,
          3,
          10,
          3,
          3,
          7,
          5,
          3,
          4,
          4,
          6,
          5,
          4,
          3,
          4,
          5,
          5,
          3,
          4,
          5,
          4,
          3,
          4,
          3,
          6,
          3,
          3,
          2,
          4,
          4,
          3,
          2,
          6,
          7,
          3,
          3,
          4,
          5,
          24,
          12,
          7,
          10,
          5,
          3,
          9,
          6,
          5,
          5,
          5,
          5,
          2,
          6,
          6,
          4,
          6,
          6,
          7,
          9,
          10,
          6,
          4,
          6,
          8,
          3,
          5,
          2,
          7,
          8,
          6,
          9,
          6,
          7,
          5,
          4,
          5,
          4,
          4,
          8,
          6,
          3,
          3,
          2,
          2,
          7,
          5,
          4,
          7,
          32,
          3,
          14,
          15,
          12,
          16,
          2,
          5,
          2,
          2,
          3,
          3,
          3,
          2,
          2,
          2,
          2,
          16,
          7,
          5,
          8,
          6,
          10,
          11,
          10,
          4,
          4,
          3,
          4,
          16,
          10,
          4,
          12,
          16,
          10,
          10,
          11,
          6,
          5,
          15,
          3,
          8,
          13,
          9,
          19,
          4,
          2,
          5,
          2,
          2,
          2,
          6,
          2,
          22,
          4,
          11,
          4,
          6,
          27,
          22,
          5,
          24,
          20,
          4,
          4,
          10,
          2,
          31,
          6,
          30,
          4,
          28,
          10,
          7,
          16,
          16,
          16,
          3,
          8,
          2,
          12,
          7,
          9,
          6,
          12,
          12,
          14,
          11,
          13,
          12,
          11,
          6,
          12,
          11,
          10,
          22,
          7,
          9,
          2,
          2,
          3,
          6,
          5,
          8,
          3,
          4,
          5,
          30,
          15,
          12,
          4,
          2,
          8,
          3,
          8,
          10,
          13,
          10,
          9,
          11,
          7,
          20,
          8,
          8,
          17,
          13,
          7,
          18,
          17,
          12,
          10,
          15,
          12,
          10,
          19,
          2,
          21,
          14,
          13,
          11,
          15,
          10,
          20,
          3,
          2,
          2,
          2,
          2,
          9,
          8,
          4,
          2,
          2,
          3,
          5,
          4,
          2,
          2,
          3,
          5,
          3,
          4,
          4,
          3,
          3,
          2,
          2,
          2,
          2,
          4,
          2,
          3,
          2,
          2,
          2,
          4,
          2,
          3,
          2,
          2,
          2,
          2,
          3,
          3,
          11,
          5,
          8,
          9,
          10,
          4,
          6,
          8,
          7,
          7,
          6,
          13,
          9,
          4,
          5,
          8,
          4,
          5,
          6,
          6,
          8,
          2,
          5,
          3,
          3,
          8,
          8,
          6,
          12,
          2,
          2,
          5,
          4,
          2,
          5,
          4,
          3,
          8,
          7,
          8,
          5,
          8,
          8,
          12,
          7,
          7,
          9,
          13,
          5,
          6,
          2,
          2,
          2,
          2,
          2,
          4,
          4,
          4,
          6,
          4,
          4,
          6,
          8,
          8,
          11,
          6,
          7,
          3,
          4,
          3,
          3,
          13,
          7,
          4,
          3,
          3,
          14,
          6,
          3,
          4,
          2,
          3,
          3,
          5,
          12,
          2,
          3,
          6,
          2,
          2,
          5,
          2,
          4,
          4,
          2,
          4,
          3,
          4,
          7,
          8,
          8,
          7,
          4,
          9,
          5,
          5,
          6,
          9,
          7,
          16,
          8,
          4,
          5,
          2,
          2,
          2,
          2,
          2,
          2,
          7,
          4,
          7,
          5,
          8,
          7,
          7,
          8,
          3,
          8,
          5,
          6,
          4,
          4,
          7,
          10,
          4,
          5,
          5,
          11,
          4,
          4,
          9,
          8,
          9,
          8,
          8,
          5,
          6,
          6,
          12,
          11,
          12,
          9,
          6,
          5,
          7,
          3,
          7,
          12,
          12,
          19,
          18,
          10,
          4,
          11,
          9,
          10,
          2,
          3,
          5,
          4,
          3,
          5,
          5,
          3,
          2,
          2,
          2,
          2,
          2,
          3,
          4,
          3,
          7,
          9,
          8,
          6,
          12,
          7,
          8,
          7,
          4,
          9,
          4,
          4,
          8,
          4,
          5,
          3,
          4,
          3,
          3,
          3,
          10,
          5,
          5,
          6,
          3,
          11,
          4,
          6,
          3,
          9,
          5,
          2,
          5,
          4,
          5,
          3,
          10,
          8,
          4,
          15,
          14,
          4,
          4,
          5,
          3,
          12,
          4,
          4
         ],
         "y0": " ",
         "yaxis": "y"
        }
       ],
       "layout": {
        "autosize": true,
        "boxmode": "group",
        "legend": {
         "tracegroupgap": 0
        },
        "margin": {
         "t": 60
        },
        "template": {
         "data": {
          "bar": [
           {
            "error_x": {
             "color": "#2a3f5f"
            },
            "error_y": {
             "color": "#2a3f5f"
            },
            "marker": {
             "line": {
              "color": "#E5ECF6",
              "width": 0.5
             },
             "pattern": {
              "fillmode": "overlay",
              "size": 10,
              "solidity": 0.2
             }
            },
            "type": "bar"
           }
          ],
          "barpolar": [
           {
            "marker": {
             "line": {
              "color": "#E5ECF6",
              "width": 0.5
             },
             "pattern": {
              "fillmode": "overlay",
              "size": 10,
              "solidity": 0.2
             }
            },
            "type": "barpolar"
           }
          ],
          "carpet": [
           {
            "aaxis": {
             "endlinecolor": "#2a3f5f",
             "gridcolor": "white",
             "linecolor": "white",
             "minorgridcolor": "white",
             "startlinecolor": "#2a3f5f"
            },
            "baxis": {
             "endlinecolor": "#2a3f5f",
             "gridcolor": "white",
             "linecolor": "white",
             "minorgridcolor": "white",
             "startlinecolor": "#2a3f5f"
            },
            "type": "carpet"
           }
          ],
          "choropleth": [
           {
            "colorbar": {
             "outlinewidth": 0,
             "ticks": ""
            },
            "type": "choropleth"
           }
          ],
          "contour": [
           {
            "colorbar": {
             "outlinewidth": 0,
             "ticks": ""
            },
            "colorscale": [
             [
              0,
              "#0d0887"
             ],
             [
              0.1111111111111111,
              "#46039f"
             ],
             [
              0.2222222222222222,
              "#7201a8"
             ],
             [
              0.3333333333333333,
              "#9c179e"
             ],
             [
              0.4444444444444444,
              "#bd3786"
             ],
             [
              0.5555555555555556,
              "#d8576b"
             ],
             [
              0.6666666666666666,
              "#ed7953"
             ],
             [
              0.7777777777777778,
              "#fb9f3a"
             ],
             [
              0.8888888888888888,
              "#fdca26"
             ],
             [
              1,
              "#f0f921"
             ]
            ],
            "type": "contour"
           }
          ],
          "contourcarpet": [
           {
            "colorbar": {
             "outlinewidth": 0,
             "ticks": ""
            },
            "type": "contourcarpet"
           }
          ],
          "heatmap": [
           {
            "colorbar": {
             "outlinewidth": 0,
             "ticks": ""
            },
            "colorscale": [
             [
              0,
              "#0d0887"
             ],
             [
              0.1111111111111111,
              "#46039f"
             ],
             [
              0.2222222222222222,
              "#7201a8"
             ],
             [
              0.3333333333333333,
              "#9c179e"
             ],
             [
              0.4444444444444444,
              "#bd3786"
             ],
             [
              0.5555555555555556,
              "#d8576b"
             ],
             [
              0.6666666666666666,
              "#ed7953"
             ],
             [
              0.7777777777777778,
              "#fb9f3a"
             ],
             [
              0.8888888888888888,
              "#fdca26"
             ],
             [
              1,
              "#f0f921"
             ]
            ],
            "type": "heatmap"
           }
          ],
          "heatmapgl": [
           {
            "colorbar": {
             "outlinewidth": 0,
             "ticks": ""
            },
            "colorscale": [
             [
              0,
              "#0d0887"
             ],
             [
              0.1111111111111111,
              "#46039f"
             ],
             [
              0.2222222222222222,
              "#7201a8"
             ],
             [
              0.3333333333333333,
              "#9c179e"
             ],
             [
              0.4444444444444444,
              "#bd3786"
             ],
             [
              0.5555555555555556,
              "#d8576b"
             ],
             [
              0.6666666666666666,
              "#ed7953"
             ],
             [
              0.7777777777777778,
              "#fb9f3a"
             ],
             [
              0.8888888888888888,
              "#fdca26"
             ],
             [
              1,
              "#f0f921"
             ]
            ],
            "type": "heatmapgl"
           }
          ],
          "histogram": [
           {
            "marker": {
             "pattern": {
              "fillmode": "overlay",
              "size": 10,
              "solidity": 0.2
             }
            },
            "type": "histogram"
           }
          ],
          "histogram2d": [
           {
            "colorbar": {
             "outlinewidth": 0,
             "ticks": ""
            },
            "colorscale": [
             [
              0,
              "#0d0887"
             ],
             [
              0.1111111111111111,
              "#46039f"
             ],
             [
              0.2222222222222222,
              "#7201a8"
             ],
             [
              0.3333333333333333,
              "#9c179e"
             ],
             [
              0.4444444444444444,
              "#bd3786"
             ],
             [
              0.5555555555555556,
              "#d8576b"
             ],
             [
              0.6666666666666666,
              "#ed7953"
             ],
             [
              0.7777777777777778,
              "#fb9f3a"
             ],
             [
              0.8888888888888888,
              "#fdca26"
             ],
             [
              1,
              "#f0f921"
             ]
            ],
            "type": "histogram2d"
           }
          ],
          "histogram2dcontour": [
           {
            "colorbar": {
             "outlinewidth": 0,
             "ticks": ""
            },
            "colorscale": [
             [
              0,
              "#0d0887"
             ],
             [
              0.1111111111111111,
              "#46039f"
             ],
             [
              0.2222222222222222,
              "#7201a8"
             ],
             [
              0.3333333333333333,
              "#9c179e"
             ],
             [
              0.4444444444444444,
              "#bd3786"
             ],
             [
              0.5555555555555556,
              "#d8576b"
             ],
             [
              0.6666666666666666,
              "#ed7953"
             ],
             [
              0.7777777777777778,
              "#fb9f3a"
             ],
             [
              0.8888888888888888,
              "#fdca26"
             ],
             [
              1,
              "#f0f921"
             ]
            ],
            "type": "histogram2dcontour"
           }
          ],
          "mesh3d": [
           {
            "colorbar": {
             "outlinewidth": 0,
             "ticks": ""
            },
            "type": "mesh3d"
           }
          ],
          "parcoords": [
           {
            "line": {
             "colorbar": {
              "outlinewidth": 0,
              "ticks": ""
             }
            },
            "type": "parcoords"
           }
          ],
          "pie": [
           {
            "automargin": true,
            "type": "pie"
           }
          ],
          "scatter": [
           {
            "marker": {
             "colorbar": {
              "outlinewidth": 0,
              "ticks": ""
             }
            },
            "type": "scatter"
           }
          ],
          "scatter3d": [
           {
            "line": {
             "colorbar": {
              "outlinewidth": 0,
              "ticks": ""
             }
            },
            "marker": {
             "colorbar": {
              "outlinewidth": 0,
              "ticks": ""
             }
            },
            "type": "scatter3d"
           }
          ],
          "scattercarpet": [
           {
            "marker": {
             "colorbar": {
              "outlinewidth": 0,
              "ticks": ""
             }
            },
            "type": "scattercarpet"
           }
          ],
          "scattergeo": [
           {
            "marker": {
             "colorbar": {
              "outlinewidth": 0,
              "ticks": ""
             }
            },
            "type": "scattergeo"
           }
          ],
          "scattergl": [
           {
            "marker": {
             "colorbar": {
              "outlinewidth": 0,
              "ticks": ""
             }
            },
            "type": "scattergl"
           }
          ],
          "scattermapbox": [
           {
            "marker": {
             "colorbar": {
              "outlinewidth": 0,
              "ticks": ""
             }
            },
            "type": "scattermapbox"
           }
          ],
          "scatterpolar": [
           {
            "marker": {
             "colorbar": {
              "outlinewidth": 0,
              "ticks": ""
             }
            },
            "type": "scatterpolar"
           }
          ],
          "scatterpolargl": [
           {
            "marker": {
             "colorbar": {
              "outlinewidth": 0,
              "ticks": ""
             }
            },
            "type": "scatterpolargl"
           }
          ],
          "scatterternary": [
           {
            "marker": {
             "colorbar": {
              "outlinewidth": 0,
              "ticks": ""
             }
            },
            "type": "scatterternary"
           }
          ],
          "surface": [
           {
            "colorbar": {
             "outlinewidth": 0,
             "ticks": ""
            },
            "colorscale": [
             [
              0,
              "#0d0887"
             ],
             [
              0.1111111111111111,
              "#46039f"
             ],
             [
              0.2222222222222222,
              "#7201a8"
             ],
             [
              0.3333333333333333,
              "#9c179e"
             ],
             [
              0.4444444444444444,
              "#bd3786"
             ],
             [
              0.5555555555555556,
              "#d8576b"
             ],
             [
              0.6666666666666666,
              "#ed7953"
             ],
             [
              0.7777777777777778,
              "#fb9f3a"
             ],
             [
              0.8888888888888888,
              "#fdca26"
             ],
             [
              1,
              "#f0f921"
             ]
            ],
            "type": "surface"
           }
          ],
          "table": [
           {
            "cells": {
             "fill": {
              "color": "#EBF0F8"
             },
             "line": {
              "color": "white"
             }
            },
            "header": {
             "fill": {
              "color": "#C8D4E3"
             },
             "line": {
              "color": "white"
             }
            },
            "type": "table"
           }
          ]
         },
         "layout": {
          "annotationdefaults": {
           "arrowcolor": "#2a3f5f",
           "arrowhead": 0,
           "arrowwidth": 1
          },
          "autotypenumbers": "strict",
          "coloraxis": {
           "colorbar": {
            "outlinewidth": 0,
            "ticks": ""
           }
          },
          "colorscale": {
           "diverging": [
            [
             0,
             "#8e0152"
            ],
            [
             0.1,
             "#c51b7d"
            ],
            [
             0.2,
             "#de77ae"
            ],
            [
             0.3,
             "#f1b6da"
            ],
            [
             0.4,
             "#fde0ef"
            ],
            [
             0.5,
             "#f7f7f7"
            ],
            [
             0.6,
             "#e6f5d0"
            ],
            [
             0.7,
             "#b8e186"
            ],
            [
             0.8,
             "#7fbc41"
            ],
            [
             0.9,
             "#4d9221"
            ],
            [
             1,
             "#276419"
            ]
           ],
           "sequential": [
            [
             0,
             "#0d0887"
            ],
            [
             0.1111111111111111,
             "#46039f"
            ],
            [
             0.2222222222222222,
             "#7201a8"
            ],
            [
             0.3333333333333333,
             "#9c179e"
            ],
            [
             0.4444444444444444,
             "#bd3786"
            ],
            [
             0.5555555555555556,
             "#d8576b"
            ],
            [
             0.6666666666666666,
             "#ed7953"
            ],
            [
             0.7777777777777778,
             "#fb9f3a"
            ],
            [
             0.8888888888888888,
             "#fdca26"
            ],
            [
             1,
             "#f0f921"
            ]
           ],
           "sequentialminus": [
            [
             0,
             "#0d0887"
            ],
            [
             0.1111111111111111,
             "#46039f"
            ],
            [
             0.2222222222222222,
             "#7201a8"
            ],
            [
             0.3333333333333333,
             "#9c179e"
            ],
            [
             0.4444444444444444,
             "#bd3786"
            ],
            [
             0.5555555555555556,
             "#d8576b"
            ],
            [
             0.6666666666666666,
             "#ed7953"
            ],
            [
             0.7777777777777778,
             "#fb9f3a"
            ],
            [
             0.8888888888888888,
             "#fdca26"
            ],
            [
             1,
             "#f0f921"
            ]
           ]
          },
          "colorway": [
           "#636efa",
           "#EF553B",
           "#00cc96",
           "#ab63fa",
           "#FFA15A",
           "#19d3f3",
           "#FF6692",
           "#B6E880",
           "#FF97FF",
           "#FECB52"
          ],
          "font": {
           "color": "#2a3f5f"
          },
          "geo": {
           "bgcolor": "white",
           "lakecolor": "white",
           "landcolor": "#E5ECF6",
           "showlakes": true,
           "showland": true,
           "subunitcolor": "white"
          },
          "hoverlabel": {
           "align": "left"
          },
          "hovermode": "closest",
          "mapbox": {
           "style": "light"
          },
          "paper_bgcolor": "white",
          "plot_bgcolor": "#E5ECF6",
          "polar": {
           "angularaxis": {
            "gridcolor": "white",
            "linecolor": "white",
            "ticks": ""
           },
           "bgcolor": "#E5ECF6",
           "radialaxis": {
            "gridcolor": "white",
            "linecolor": "white",
            "ticks": ""
           }
          },
          "scene": {
           "xaxis": {
            "backgroundcolor": "#E5ECF6",
            "gridcolor": "white",
            "gridwidth": 2,
            "linecolor": "white",
            "showbackground": true,
            "ticks": "",
            "zerolinecolor": "white"
           },
           "yaxis": {
            "backgroundcolor": "#E5ECF6",
            "gridcolor": "white",
            "gridwidth": 2,
            "linecolor": "white",
            "showbackground": true,
            "ticks": "",
            "zerolinecolor": "white"
           },
           "zaxis": {
            "backgroundcolor": "#E5ECF6",
            "gridcolor": "white",
            "gridwidth": 2,
            "linecolor": "white",
            "showbackground": true,
            "ticks": "",
            "zerolinecolor": "white"
           }
          },
          "shapedefaults": {
           "line": {
            "color": "#2a3f5f"
           }
          },
          "ternary": {
           "aaxis": {
            "gridcolor": "white",
            "linecolor": "white",
            "ticks": ""
           },
           "baxis": {
            "gridcolor": "white",
            "linecolor": "white",
            "ticks": ""
           },
           "bgcolor": "#E5ECF6",
           "caxis": {
            "gridcolor": "white",
            "linecolor": "white",
            "ticks": ""
           }
          },
          "title": {
           "x": 0.05
          },
          "xaxis": {
           "automargin": true,
           "gridcolor": "white",
           "linecolor": "white",
           "ticks": "",
           "title": {
            "standoff": 15
           },
           "zerolinecolor": "white",
           "zerolinewidth": 2
          },
          "yaxis": {
           "automargin": true,
           "gridcolor": "white",
           "linecolor": "white",
           "ticks": "",
           "title": {
            "standoff": 15
           },
           "zerolinecolor": "white",
           "zerolinewidth": 2
          }
         }
        },
        "xaxis": {
         "anchor": "y",
         "autorange": true,
         "domain": [
          0,
          1
         ],
         "range": [
          -0.5041379310344828,
          0.5
         ],
         "type": "category"
        },
        "yaxis": {
         "anchor": "x",
         "autorange": true,
         "domain": [
          0,
          1
         ],
         "range": [
          0.33333333333333326,
          33.666666666666664
         ],
         "title": {
          "text": "NOCom"
         },
         "type": "linear"
        }
       }
      },
      "image/png": "[encoded data removed]",
      "text/html": [
       "<div>                            <div id=\"797f458f-95cb-44db-af1c-aabc2b0e896d\" class=\"plotly-graph-div\" style=\"height:525px; width:100%;\"></div>            <script type=\"text/javascript\">                require([\"plotly\"], function(Plotly) {                    window.PLOTLYENV=window.PLOTLYENV || {};                                    if (document.getElementById(\"797f458f-95cb-44db-af1c-aabc2b0e896d\")) {                    Plotly.newPlot(                        \"797f458f-95cb-44db-af1c-aabc2b0e896d\",                        [{\"alignmentgroup\":\"True\",\"boxpoints\":\"all\",\"customdata\":[[\"./src/main/java/org/jfree/chart/annotations/AbstractAnnotation.java\"],[\"./src/main/java/org/jfree/chart/annotations/AbstractXYAnnotation.java\"],[\"./src/main/java/org/jfree/chart/annotations/Annotation.java\"],[\"./src/main/java/org/jfree/chart/annotations/CategoryAnnotation.java\"],[\"./src/main/java/org/jfree/chart/annotations/CategoryLineAnnotation.java\"],[\"./src/main/java/org/jfree/chart/annotations/CategoryPointerAnnotation.java\"],[\"./src/main/java/org/jfree/chart/annotations/CategoryTextAnnotation.java\"],[\"./src/main/java/org/jfree/chart/annotations/TextAnnotation.java\"],[\"./src/main/java/org/jfree/chart/annotations/XYAnnotation.java\"],[\"./src/main/java/org/jfree/chart/annotations/XYAnnotationBoundsInfo.java\"],[\"./src/main/java/org/jfree/chart/annotations/XYBoxAnnotation.java\"],[\"./src/main/java/org/jfree/chart/annotations/XYDataImageAnnotation.java\"],[\"./src/main/java/org/jfree/chart/annotations/XYDrawableAnnotation.java\"],[\"./src/main/java/org/jfree/chart/annotations/XYImageAnnotation.java\"],[\"./src/main/java/org/jfree/chart/annotations/XYLineAnnotation.java\"],[\"./src/main/java/org/jfree/chart/annotations/XYPointerAnnotation.java\"],[\"./src/main/java/org/jfree/chart/annotations/XYPolygonAnnotation.java\"],[\"./src/main/java/org/jfree/chart/annotations/XYShapeAnnotation.java\"],[\"./src/main/java/org/jfree/chart/annotations/XYTextAnnotation.java\"],[\"./src/main/java/org/jfree/chart/annotations/XYTitleAnnotation.java\"],[\"./src/main/java/org/jfree/chart/api/HorizontalAlignment.java\"],[\"./src/main/java/org/jfree/chart/api/Layer.java\"],[\"./src/main/java/org/jfree/chart/api/LengthAdjustmentType.java\"],[\"./src/main/java/org/jfree/chart/api/PublicCloneable.java\"],[\"./src/main/java/org/jfree/chart/api/RectangleAlignment.java\"],[\"./src/main/java/org/jfree/chart/api/RectangleAnchor.java\"],[\"./src/main/java/org/jfree/chart/api/RectangleEdge.java\"],[\"./src/main/java/org/jfree/chart/api/RectangleInsets.java\"],[\"./src/main/java/org/jfree/chart/api/Rotation.java\"],[\"./src/main/java/org/jfree/chart/api/SortOrder.java\"],[\"./src/main/java/org/jfree/chart/api/TableOrder.java\"],[\"./src/main/java/org/jfree/chart/api/UnitType.java\"],[\"./src/main/java/org/jfree/chart/api/VerticalAlignment.java\"],[\"./src/main/java/org/jfree/chart/api/XYCoordinateType.java\"],[\"./src/main/java/org/jfree/chart/axis/Axis.java\"],[\"./src/main/java/org/jfree/chart/axis/AxisCollection.java\"],[\"./src/main/java/org/jfree/chart/axis/AxisLabelLocation.java\"],[\"./src/main/java/org/jfree/chart/axis/AxisLocation.java\"],[\"./src/main/java/org/jfree/chart/axis/AxisSpace.java\"],[\"./src/main/java/org/jfree/chart/axis/AxisState.java\"],[\"./src/main/java/org/jfree/chart/axis/CategoryAnchor.java\"],[\"./src/main/java/org/jfree/chart/axis/CategoryAxis.java\"],[\"./src/main/java/org/jfree/chart/axis/CategoryLabelPosition.java\"],[\"./src/main/java/org/jfree/chart/axis/CategoryLabelPositions.java\"],[\"./src/main/java/org/jfree/chart/axis/CategoryLabelWidthType.java\"],[\"./src/main/java/org/jfree/chart/axis/CategoryTick.java\"],[\"./src/main/java/org/jfree/chart/axis/CompassFormat.java\"],[\"./src/main/java/org/jfree/chart/axis/CyclicNumberAxis.java\"],[\"./src/main/java/org/jfree/chart/axis/DateAxis.java\"],[\"./src/main/java/org/jfree/chart/axis/DateTick.java\"],[\"./src/main/java/org/jfree/chart/axis/DateTickMarkPosition.java\"],[\"./src/main/java/org/jfree/chart/axis/DateTickUnit.java\"],[\"./src/main/java/org/jfree/chart/axis/DateTickUnitType.java\"],[\"./src/main/java/org/jfree/chart/axis/ExtendedCategoryAxis.java\"],[\"./src/main/java/org/jfree/chart/axis/LogarithmicAxis.java\"],[\"./src/main/java/org/jfree/chart/axis/LogAxis.java\"],[\"./src/main/java/org/jfree/chart/axis/LogTick.java\"],[\"./src/main/java/org/jfree/chart/axis/MarkerAxisBand.java\"],[\"./src/main/java/org/jfree/chart/axis/ModuloAxis.java\"],[\"./src/main/java/org/jfree/chart/axis/MonthDateFormat.java\"],[\"./src/main/java/org/jfree/chart/axis/NumberAxis.java\"],[\"./src/main/java/org/jfree/chart/axis/NumberTick.java\"],[\"./src/main/java/org/jfree/chart/axis/NumberTickUnit.java\"],[\"./src/main/java/org/jfree/chart/axis/NumberTickUnitSource.java\"],[\"./src/main/java/org/jfree/chart/axis/PeriodAxis.java\"],[\"./src/main/java/org/jfree/chart/axis/PeriodAxisLabelInfo.java\"],[\"./src/main/java/org/jfree/chart/axis/QuarterDateFormat.java\"],[\"./src/main/java/org/jfree/chart/axis/StandardTickUnitSource.java\"],[\"./src/main/java/org/jfree/chart/axis/SubCategoryAxis.java\"],[\"./src/main/java/org/jfree/chart/axis/SymbolAxis.java\"],[\"./src/main/java/org/jfree/chart/axis/Tick.java\"],[\"./src/main/java/org/jfree/chart/axis/TickType.java\"],[\"./src/main/java/org/jfree/chart/axis/TickUnit.java\"],[\"./src/main/java/org/jfree/chart/axis/TickUnits.java\"],[\"./src/main/java/org/jfree/chart/axis/TickUnitSource.java\"],[\"./src/main/java/org/jfree/chart/axis/Timeline.java\"],[\"./src/main/java/org/jfree/chart/axis/ValueAxis.java\"],[\"./src/main/java/org/jfree/chart/axis/ValueTick.java\"],[\"./src/main/java/org/jfree/chart/block/AbstractBlock.java\"],[\"./src/main/java/org/jfree/chart/block/Arrangement.java\"],[\"./src/main/java/org/jfree/chart/block/Block.java\"],[\"./src/main/java/org/jfree/chart/block/BlockBorder.java\"],[\"./src/main/java/org/jfree/chart/block/BlockContainer.java\"],[\"./src/main/java/org/jfree/chart/block/BlockFrame.java\"],[\"./src/main/java/org/jfree/chart/block/BlockParams.java\"],[\"./src/main/java/org/jfree/chart/block/BlockResult.java\"],[\"./src/main/java/org/jfree/chart/block/BorderArrangement.java\"],[\"./src/main/java/org/jfree/chart/block/CenterArrangement.java\"],[\"./src/main/java/org/jfree/chart/block/ColorBlock.java\"],[\"./src/main/java/org/jfree/chart/block/ColumnArrangement.java\"],[\"./src/main/java/org/jfree/chart/block/EmptyBlock.java\"],[\"./src/main/java/org/jfree/chart/block/EntityBlockParams.java\"],[\"./src/main/java/org/jfree/chart/block/EntityBlockResult.java\"],[\"./src/main/java/org/jfree/chart/block/FlowArrangement.java\"],[\"./src/main/java/org/jfree/chart/block/GridArrangement.java\"],[\"./src/main/java/org/jfree/chart/block/LabelBlock.java\"],[\"./src/main/java/org/jfree/chart/block/LengthConstraintType.java\"],[\"./src/main/java/org/jfree/chart/block/LineBorder.java\"],[\"./src/main/java/org/jfree/chart/block/RectangleConstraint.java\"],[\"./src/main/java/org/jfree/chart/block/Size2D.java\"],[\"./src/main/java/org/jfree/chart/ChartColor.java\"],[\"./src/main/java/org/jfree/chart/ChartElement.java\"],[\"./src/main/java/org/jfree/chart/ChartElementVisitor.java\"],[\"./src/main/java/org/jfree/chart/ChartFactory.java\"],[\"./src/main/java/org/jfree/chart/ChartHints.java\"],[\"./src/main/java/org/jfree/chart/ChartRenderingInfo.java\"],[\"./src/main/java/org/jfree/chart/ChartTheme.java\"],[\"./src/main/java/org/jfree/chart/ChartTransferable.java\"],[\"./src/main/java/org/jfree/chart/ChartUtils.java\"],[\"./src/main/java/org/jfree/chart/date/MonthConstants.java\"],[\"./src/main/java/org/jfree/chart/date/SerialDate.java\"],[\"./src/main/java/org/jfree/chart/date/SpreadsheetDate.java\"],[\"./src/main/java/org/jfree/chart/Drawable.java\"],[\"./src/main/java/org/jfree/chart/encoders/EncoderUtil.java\"],[\"./src/main/java/org/jfree/chart/encoders/ImageEncoder.java\"],[\"./src/main/java/org/jfree/chart/encoders/ImageEncoderFactory.java\"],[\"./src/main/java/org/jfree/chart/encoders/ImageFormat.java\"],[\"./src/main/java/org/jfree/chart/encoders/SunJPEGEncoderAdapter.java\"],[\"./src/main/java/org/jfree/chart/encoders/SunPNGEncoderAdapter.java\"],[\"./src/main/java/org/jfree/chart/entity/AxisEntity.java\"],[\"./src/main/java/org/jfree/chart/entity/CategoryItemEntity.java\"],[\"./src/main/java/org/jfree/chart/entity/CategoryLabelEntity.java\"],[\"./src/main/java/org/jfree/chart/entity/ChartEntity.java\"],[\"./src/main/java/org/jfree/chart/entity/EntityCollection.java\"],[\"./src/main/java/org/jfree/chart/entity/FlowEntity.java\"],[\"./src/main/java/org/jfree/chart/entity/JFreeChartEntity.java\"],[\"./src/main/java/org/jfree/chart/entity/LegendItemEntity.java\"],[\"./src/main/java/org/jfree/chart/entity/NodeEntity.java\"],[\"./src/main/java/org/jfree/chart/entity/PieSectionEntity.java\"],[\"./src/main/java/org/jfree/chart/entity/PlotEntity.java\"],[\"./src/main/java/org/jfree/chart/entity/StandardEntityCollection.java\"],[\"./src/main/java/org/jfree/chart/entity/TickLabelEntity.java\"],[\"./src/main/java/org/jfree/chart/entity/TitleEntity.java\"],[\"./src/main/java/org/jfree/chart/entity/XYAnnotationEntity.java\"],[\"./src/main/java/org/jfree/chart/entity/XYItemEntity.java\"],[\"./src/main/java/org/jfree/chart/event/AnnotationChangeEvent.java\"],[\"./src/main/java/org/jfree/chart/event/AnnotationChangeListener.java\"],[\"./src/main/java/org/jfree/chart/event/AxisChangeEvent.java\"],[\"./src/main/java/org/jfree/chart/event/AxisChangeListener.java\"],[\"./src/main/java/org/jfree/chart/event/ChartChangeEvent.java\"],[\"./src/main/java/org/jfree/chart/event/ChartChangeEventType.java\"],[\"./src/main/java/org/jfree/chart/event/ChartChangeListener.java\"],[\"./src/main/java/org/jfree/chart/event/ChartProgressEvent.java\"],[\"./src/main/java/org/jfree/chart/event/ChartProgressEventType.java\"],[\"./src/main/java/org/jfree/chart/event/ChartProgressListener.java\"],[\"./src/main/java/org/jfree/chart/event/MarkerChangeEvent.java\"],[\"./src/main/java/org/jfree/chart/event/MarkerChangeListener.java\"],[\"./src/main/java/org/jfree/chart/event/PlotChangeEvent.java\"],[\"./src/main/java/org/jfree/chart/event/PlotChangeListener.java\"],[\"./src/main/java/org/jfree/chart/event/RendererChangeEvent.java\"],[\"./src/main/java/org/jfree/chart/event/RendererChangeListener.java\"],[\"./src/main/java/org/jfree/chart/event/TitleChangeEvent.java\"],[\"./src/main/java/org/jfree/chart/event/TitleChangeListener.java\"],[\"./src/main/java/org/jfree/chart/imagemap/DynamicDriveToolTipTagFragmentGenerator.java\"],[\"./src/main/java/org/jfree/chart/imagemap/ImageMapUtils.java\"],[\"./src/main/java/org/jfree/chart/imagemap/OverLIBToolTipTagFragmentGenerator.java\"],[\"./src/main/java/org/jfree/chart/imagemap/StandardToolTipTagFragmentGenerator.java\"],[\"./src/main/java/org/jfree/chart/imagemap/StandardURLTagFragmentGenerator.java\"],[\"./src/main/java/org/jfree/chart/imagemap/ToolTipTagFragmentGenerator.java\"],[\"./src/main/java/org/jfree/chart/imagemap/URLTagFragmentGenerator.java\"],[\"./src/main/java/org/jfree/chart/internal/Args.java\"],[\"./src/main/java/org/jfree/chart/internal/ArrayUtils.java\"],[\"./src/main/java/org/jfree/chart/internal/CloneUtils.java\"],[\"./src/main/java/org/jfree/chart/internal/HashUtils.java\"],[\"./src/main/java/org/jfree/chart/internal/LineUtils.java\"],[\"./src/main/java/org/jfree/chart/internal/PaintUtils.java\"],[\"./src/main/java/org/jfree/chart/internal/SerialUtils.java\"],[\"./src/main/java/org/jfree/chart/internal/ShapeUtils.java\"],[\"./src/main/java/org/jfree/chart/JFreeChart.java\"],[\"./src/main/java/org/jfree/chart/labels/AbstractCategoryItemLabelGenerator.java\"],[\"./src/main/java/org/jfree/chart/labels/AbstractPieItemLabelGenerator.java\"],[\"./src/main/java/org/jfree/chart/labels/AbstractXYItemLabelGenerator.java\"],[\"./src/main/java/org/jfree/chart/labels/BoxAndWhiskerToolTipGenerator.java\"],[\"./src/main/java/org/jfree/chart/labels/BoxAndWhiskerXYToolTipGenerator.java\"],[\"./src/main/java/org/jfree/chart/labels/BubbleXYItemLabelGenerator.java\"],[\"./src/main/java/org/jfree/chart/labels/CategoryItemLabelGenerator.java\"],[\"./src/main/java/org/jfree/chart/labels/CategorySeriesLabelGenerator.java\"],[\"./src/main/java/org/jfree/chart/labels/CategoryToolTipGenerator.java\"],[\"./src/main/java/org/jfree/chart/labels/CrosshairLabelGenerator.java\"],[\"./src/main/java/org/jfree/chart/labels/CustomXYToolTipGenerator.java\"],[\"./src/main/java/org/jfree/chart/labels/FlowLabelGenerator.java\"],[\"./src/main/java/org/jfree/chart/labels/HighLowItemLabelGenerator.java\"],[\"./src/main/java/org/jfree/chart/labels/IntervalCategoryItemLabelGenerator.java\"],[\"./src/main/java/org/jfree/chart/labels/IntervalCategoryToolTipGenerator.java\"],[\"./src/main/java/org/jfree/chart/labels/IntervalXYItemLabelGenerator.java\"],[\"./src/main/java/org/jfree/chart/labels/IntervalXYToolTipGenerator.java\"],[\"./src/main/java/org/jfree/chart/labels/ItemLabelAnchor.java\"],[\"./src/main/java/org/jfree/chart/labels/ItemLabelPosition.java\"],[\"./src/main/java/org/jfree/chart/labels/MultipleXYSeriesLabelGenerator.java\"],[\"./src/main/java/org/jfree/chart/labels/PieSectionLabelGenerator.java\"],[\"./src/main/java/org/jfree/chart/labels/PieToolTipGenerator.java\"],[\"./src/main/java/org/jfree/chart/labels/StandardCategoryItemLabelGenerator.java\"],[\"./src/main/java/org/jfree/chart/labels/StandardCategorySeriesLabelGenerator.java\"],[\"./src/main/java/org/jfree/chart/labels/StandardCategoryToolTipGenerator.java\"],[\"./src/main/java/org/jfree/chart/labels/StandardCrosshairLabelGenerator.java\"],[\"./src/main/java/org/jfree/chart/labels/StandardFlowLabelGenerator.java\"],[\"./src/main/java/org/jfree/chart/labels/StandardPieSectionLabelGenerator.java\"],[\"./src/main/java/org/jfree/chart/labels/StandardPieToolTipGenerator.java\"],[\"./src/main/java/org/jfree/chart/labels/StandardXYItemLabelGenerator.java\"],[\"./src/main/java/org/jfree/chart/labels/StandardXYSeriesLabelGenerator.java\"],[\"./src/main/java/org/jfree/chart/labels/StandardXYToolTipGenerator.java\"],[\"./src/main/java/org/jfree/chart/labels/StandardXYZToolTipGenerator.java\"],[\"./src/main/java/org/jfree/chart/labels/SymbolicXYItemLabelGenerator.java\"],[\"./src/main/java/org/jfree/chart/labels/XYItemLabelGenerator.java\"],[\"./src/main/java/org/jfree/chart/labels/XYSeriesLabelGenerator.java\"],[\"./src/main/java/org/jfree/chart/labels/XYToolTipGenerator.java\"],[\"./src/main/java/org/jfree/chart/labels/XYZToolTipGenerator.java\"],[\"./src/main/java/org/jfree/chart/legend/LegendGraphic.java\"],[\"./src/main/java/org/jfree/chart/legend/LegendItem.java\"],[\"./src/main/java/org/jfree/chart/legend/LegendItemBlockContainer.java\"],[\"./src/main/java/org/jfree/chart/legend/LegendItemCollection.java\"],[\"./src/main/java/org/jfree/chart/legend/LegendItemSource.java\"],[\"./src/main/java/org/jfree/chart/legend/LegendRenderingOrder.java\"],[\"./src/main/java/org/jfree/chart/legend/LegendTitle.java\"],[\"./src/main/java/org/jfree/chart/legend/PaintScaleLegend.java\"],[\"./src/main/java/org/jfree/chart/plot/CategoryCrosshairState.java\"],[\"./src/main/java/org/jfree/chart/plot/CategoryMarker.java\"],[\"./src/main/java/org/jfree/chart/plot/CategoryPlot.java\"],[\"./src/main/java/org/jfree/chart/plot/CenterTextMode.java\"],[\"./src/main/java/org/jfree/chart/plot/CombinedDomainCategoryPlot.java\"],[\"./src/main/java/org/jfree/chart/plot/CombinedDomainXYPlot.java\"],[\"./src/main/java/org/jfree/chart/plot/CombinedRangeCategoryPlot.java\"],[\"./src/main/java/org/jfree/chart/plot/CombinedRangeXYPlot.java\"],[\"./src/main/java/org/jfree/chart/plot/compass/ArrowNeedle.java\"],[\"./src/main/java/org/jfree/chart/plot/compass/CompassPlot.java\"],[\"./src/main/java/org/jfree/chart/plot/compass/LineNeedle.java\"],[\"./src/main/java/org/jfree/chart/plot/compass/LongNeedle.java\"],[\"./src/main/java/org/jfree/chart/plot/compass/MeterNeedle.java\"],[\"./src/main/java/org/jfree/chart/plot/compass/MiddlePinNeedle.java\"],[\"./src/main/java/org/jfree/chart/plot/compass/PinNeedle.java\"],[\"./src/main/java/org/jfree/chart/plot/compass/PlumNeedle.java\"],[\"./src/main/java/org/jfree/chart/plot/compass/PointerNeedle.java\"],[\"./src/main/java/org/jfree/chart/plot/compass/ShipNeedle.java\"],[\"./src/main/java/org/jfree/chart/plot/compass/WindNeedle.java\"],[\"./src/main/java/org/jfree/chart/plot/Crosshair.java\"],[\"./src/main/java/org/jfree/chart/plot/CrosshairState.java\"],[\"./src/main/java/org/jfree/chart/plot/DatasetRenderingOrder.java\"],[\"./src/main/java/org/jfree/chart/plot/DefaultDrawingSupplier.java\"],[\"./src/main/java/org/jfree/chart/plot/dial/AbstractDialLayer.java\"],[\"./src/main/java/org/jfree/chart/plot/dial/ArcDialFrame.java\"],[\"./src/main/java/org/jfree/chart/plot/dial/DialBackground.java\"],[\"./src/main/java/org/jfree/chart/plot/dial/DialCap.java\"],[\"./src/main/java/org/jfree/chart/plot/dial/DialFrame.java\"],[\"./src/main/java/org/jfree/chart/plot/dial/DialLayer.java\"],[\"./src/main/java/org/jfree/chart/plot/dial/DialLayerChangeEvent.java\"],[\"./src/main/java/org/jfree/chart/plot/dial/DialLayerChangeListener.java\"],[\"./src/main/java/org/jfree/chart/plot/dial/DialPlot.java\"],[\"./src/main/java/org/jfree/chart/plot/dial/DialPointer.java\"],[\"./src/main/java/org/jfree/chart/plot/dial/DialScale.java\"],[\"./src/main/java/org/jfree/chart/plot/dial/DialTextAnnotation.java\"],[\"./src/main/java/org/jfree/chart/plot/dial/DialValueIndicator.java\"],[\"./src/main/java/org/jfree/chart/plot/dial/StandardDialFrame.java\"],[\"./src/main/java/org/jfree/chart/plot/dial/StandardDialRange.java\"],[\"./src/main/java/org/jfree/chart/plot/dial/StandardDialScale.java\"],[\"./src/main/java/org/jfree/chart/plot/DialShape.java\"],[\"./src/main/java/org/jfree/chart/plot/DrawingSupplier.java\"],[\"./src/main/java/org/jfree/chart/plot/FastScatterPlot.java\"],[\"./src/main/java/org/jfree/chart/plot/flow/FlowPlot.java\"],[\"./src/main/java/org/jfree/chart/plot/IntervalMarker.java\"],[\"./src/main/java/org/jfree/chart/plot/Marker.java\"],[\"./src/main/java/org/jfree/chart/plot/MeterInterval.java\"],[\"./src/main/java/org/jfree/chart/plot/MeterPlot.java\"],[\"./src/main/java/org/jfree/chart/plot/Pannable.java\"],[\"./src/main/java/org/jfree/chart/plot/pie/AbstractPieLabelDistributor.java\"],[\"./src/main/java/org/jfree/chart/plot/pie/MultiplePiePlot.java\"],[\"./src/main/java/org/jfree/chart/plot/pie/PieLabelDistributor.java\"],[\"./src/main/java/org/jfree/chart/plot/pie/PieLabelLinkStyle.java\"],[\"./src/main/java/org/jfree/chart/plot/pie/PieLabelRecord.java\"],[\"./src/main/java/org/jfree/chart/plot/pie/PiePlot.java\"],[\"./src/main/java/org/jfree/chart/plot/pie/PiePlotState.java\"],[\"./src/main/java/org/jfree/chart/plot/Plot.java\"],[\"./src/main/java/org/jfree/chart/plot/PlotOrientation.java\"],[\"./src/main/java/org/jfree/chart/plot/PlotRenderingInfo.java\"],[\"./src/main/java/org/jfree/chart/plot/PlotState.java\"],[\"./src/main/java/org/jfree/chart/plot/PolarAxisLocation.java\"],[\"./src/main/java/org/jfree/chart/plot/PolarPlot.java\"],[\"./src/main/java/org/jfree/chart/plot/RingPlot.java\"],[\"./src/main/java/org/jfree/chart/plot/SeriesRenderingOrder.java\"],[\"./src/main/java/org/jfree/chart/plot/SpiderWebPlot.java\"],[\"./src/main/java/org/jfree/chart/plot/ThermometerPlot.java\"],[\"./src/main/java/org/jfree/chart/plot/ValueAxisPlot.java\"],[\"./src/main/java/org/jfree/chart/plot/ValueMarker.java\"],[\"./src/main/java/org/jfree/chart/plot/WaferMapPlot.java\"],[\"./src/main/java/org/jfree/chart/plot/XYCrosshairState.java\"],[\"./src/main/java/org/jfree/chart/plot/XYPlot.java\"],[\"./src/main/java/org/jfree/chart/plot/Zoomable.java\"],[\"./src/main/java/org/jfree/chart/renderer/AbstractRenderer.java\"],[\"./src/main/java/org/jfree/chart/renderer/AreaRendererEndType.java\"],[\"./src/main/java/org/jfree/chart/renderer/category/AbstractCategoryItemRenderer.java\"],[\"./src/main/java/org/jfree/chart/renderer/category/AreaRenderer.java\"],[\"./src/main/java/org/jfree/chart/renderer/category/BarPainter.java\"],[\"./src/main/java/org/jfree/chart/renderer/category/BarRenderer.java\"],[\"./src/main/java/org/jfree/chart/renderer/category/BoxAndWhiskerRenderer.java\"],[\"./src/main/java/org/jfree/chart/renderer/category/CategoryItemRenderer.java\"],[\"./src/main/java/org/jfree/chart/renderer/category/CategoryItemRendererState.java\"],[\"./src/main/java/org/jfree/chart/renderer/category/CategoryStepRenderer.java\"],[\"./src/main/java/org/jfree/chart/renderer/category/DefaultCategoryItemRenderer.java\"],[\"./src/main/java/org/jfree/chart/renderer/category/GanttRenderer.java\"],[\"./src/main/java/org/jfree/chart/renderer/category/GradientBarPainter.java\"],[\"./src/main/java/org/jfree/chart/renderer/category/GroupedStackedBarRenderer.java\"],[\"./src/main/java/org/jfree/chart/renderer/category/IntervalBarRenderer.java\"],[\"./src/main/java/org/jfree/chart/renderer/category/LayeredBarRenderer.java\"],[\"./src/main/java/org/jfree/chart/renderer/category/LevelRenderer.java\"],[\"./src/main/java/org/jfree/chart/renderer/category/LineAndShapeRenderer.java\"],[\"./src/main/java/org/jfree/chart/renderer/category/MinMaxCategoryRenderer.java\"],[\"./src/main/java/org/jfree/chart/renderer/category/ScatterRenderer.java\"],[\"./src/main/java/org/jfree/chart/renderer/category/StackedAreaRenderer.java\"],[\"./src/main/java/org/jfree/chart/renderer/category/StackedBarRenderer.java\"],[\"./src/main/java/org/jfree/chart/renderer/category/StandardBarPainter.java\"],[\"./src/main/java/org/jfree/chart/renderer/category/StatisticalBarRenderer.java\"],[\"./src/main/java/org/jfree/chart/renderer/category/StatisticalLineAndShapeRenderer.java\"],[\"./src/main/java/org/jfree/chart/renderer/category/WaterfallBarRenderer.java\"],[\"./src/main/java/org/jfree/chart/renderer/DefaultPolarItemRenderer.java\"],[\"./src/main/java/org/jfree/chart/renderer/GrayPaintScale.java\"],[\"./src/main/java/org/jfree/chart/renderer/LookupPaintScale.java\"],[\"./src/main/java/org/jfree/chart/renderer/NotOutlierException.java\"],[\"./src/main/java/org/jfree/chart/renderer/Outlier.java\"],[\"./src/main/java/org/jfree/chart/renderer/OutlierList.java\"],[\"./src/main/java/org/jfree/chart/renderer/OutlierListCollection.java\"],[\"./src/main/java/org/jfree/chart/renderer/PaintScale.java\"],[\"./src/main/java/org/jfree/chart/renderer/PolarItemRenderer.java\"],[\"./src/main/java/org/jfree/chart/renderer/RendererState.java\"],[\"./src/main/java/org/jfree/chart/renderer/RendererUtils.java\"],[\"./src/main/java/org/jfree/chart/renderer/WaferMapRenderer.java\"],[\"./src/main/java/org/jfree/chart/renderer/xy/AbstractXYItemRenderer.java\"],[\"./src/main/java/org/jfree/chart/renderer/xy/CandlestickRenderer.java\"],[\"./src/main/java/org/jfree/chart/renderer/xy/ClusteredXYBarRenderer.java\"],[\"./src/main/java/org/jfree/chart/renderer/xy/CyclicXYItemRenderer.java\"],[\"./src/main/java/org/jfree/chart/renderer/xy/DefaultXYItemRenderer.java\"],[\"./src/main/java/org/jfree/chart/renderer/xy/DeviationRenderer.java\"],[\"./src/main/java/org/jfree/chart/renderer/xy/DeviationStepRenderer.java\"],[\"./src/main/java/org/jfree/chart/renderer/xy/GradientXYBarPainter.java\"],[\"./src/main/java/org/jfree/chart/renderer/xy/HighLowRenderer.java\"],[\"./src/main/java/org/jfree/chart/renderer/xy/SamplingXYLineRenderer.java\"],[\"./src/main/java/org/jfree/chart/renderer/xy/StackedXYAreaRenderer.java\"],[\"./src/main/java/org/jfree/chart/renderer/xy/StackedXYAreaRenderer2.java\"],[\"./src/main/java/org/jfree/chart/renderer/xy/StackedXYBarRenderer.java\"],[\"./src/main/java/org/jfree/chart/renderer/xy/StandardXYBarPainter.java\"],[\"./src/main/java/org/jfree/chart/renderer/xy/StandardXYItemRenderer.java\"],[\"./src/main/java/org/jfree/chart/renderer/xy/VectorRenderer.java\"],[\"./src/main/java/org/jfree/chart/renderer/xy/WindItemRenderer.java\"],[\"./src/main/java/org/jfree/chart/renderer/xy/XYAreaRenderer.java\"],[\"./src/main/java/org/jfree/chart/renderer/xy/XYAreaRenderer2.java\"],[\"./src/main/java/org/jfree/chart/renderer/xy/XYBarPainter.java\"],[\"./src/main/java/org/jfree/chart/renderer/xy/XYBarRenderer.java\"],[\"./src/main/java/org/jfree/chart/renderer/xy/XYBlockRenderer.java\"],[\"./src/main/java/org/jfree/chart/renderer/xy/XYBoxAndWhiskerRenderer.java\"],[\"./src/main/java/org/jfree/chart/renderer/xy/XYBubbleRenderer.java\"],[\"./src/main/java/org/jfree/chart/renderer/xy/XYDifferenceRenderer.java\"],[\"./src/main/java/org/jfree/chart/renderer/xy/XYDotRenderer.java\"],[\"./src/main/java/org/jfree/chart/renderer/xy/XYErrorRenderer.java\"],[\"./src/main/java/org/jfree/chart/renderer/xy/XYItemRenderer.java\"],[\"./src/main/java/org/jfree/chart/renderer/xy/XYItemRendererState.java\"],[\"./src/main/java/org/jfree/chart/renderer/xy/XYLineAndShapeRenderer.java\"],[\"./src/main/java/org/jfree/chart/renderer/xy/XYShapeRenderer.java\"],[\"./src/main/java/org/jfree/chart/renderer/xy/XYSplineRenderer.java\"],[\"./src/main/java/org/jfree/chart/renderer/xy/XYStepAreaRenderer.java\"],[\"./src/main/java/org/jfree/chart/renderer/xy/XYStepRenderer.java\"],[\"./src/main/java/org/jfree/chart/renderer/xy/YIntervalRenderer.java\"],[\"./src/main/java/org/jfree/chart/StandardChartTheme.java\"],[\"./src/main/java/org/jfree/chart/swing/AbstractOverlay.java\"],[\"./src/main/java/org/jfree/chart/swing/ApplicationFrame.java\"],[\"./src/main/java/org/jfree/chart/swing/ChartFrame.java\"],[\"./src/main/java/org/jfree/chart/swing/ChartMouseEvent.java\"],[\"./src/main/java/org/jfree/chart/swing/ChartMouseListener.java\"],[\"./src/main/java/org/jfree/chart/swing/ChartPanel.java\"],[\"./src/main/java/org/jfree/chart/swing/CrosshairOverlay.java\"],[\"./src/main/java/org/jfree/chart/swing/DefaultSelectionZoomStrategy.java\"],[\"./src/main/java/org/jfree/chart/swing/editor/ChartEditor.java\"],[\"./src/main/java/org/jfree/chart/swing/editor/ChartEditorFactory.java\"],[\"./src/main/java/org/jfree/chart/swing/editor/ChartEditorManager.java\"],[\"./src/main/java/org/jfree/chart/swing/editor/DefaultAxisEditor.java\"],[\"./src/main/java/org/jfree/chart/swing/editor/DefaultChartEditor.java\"],[\"./src/main/java/org/jfree/chart/swing/editor/DefaultChartEditorFactory.java\"],[\"./src/main/java/org/jfree/chart/swing/editor/DefaultLogAxisEditor.java\"],[\"./src/main/java/org/jfree/chart/swing/editor/DefaultNumberAxisEditor.java\"],[\"./src/main/java/org/jfree/chart/swing/editor/DefaultPlotEditor.java\"],[\"./src/main/java/org/jfree/chart/swing/editor/DefaultPolarPlotEditor.java\"],[\"./src/main/java/org/jfree/chart/swing/editor/DefaultTitleEditor.java\"],[\"./src/main/java/org/jfree/chart/swing/editor/DefaultValueAxisEditor.java\"],[\"./src/main/java/org/jfree/chart/swing/editor/FontChooserPanel.java\"],[\"./src/main/java/org/jfree/chart/swing/editor/FontDisplayField.java\"],[\"./src/main/java/org/jfree/chart/swing/editor/LCBLayout.java\"],[\"./src/main/java/org/jfree/chart/swing/editor/PaintSample.java\"],[\"./src/main/java/org/jfree/chart/swing/editor/StrokeChooserPanel.java\"],[\"./src/main/java/org/jfree/chart/swing/editor/StrokeSample.java\"],[\"./src/main/java/org/jfree/chart/swing/MouseWheelHandler.java\"],[\"./src/main/java/org/jfree/chart/swing/NumberCellRenderer.java\"],[\"./src/main/java/org/jfree/chart/swing/Overlay.java\"],[\"./src/main/java/org/jfree/chart/swing/OverlayChangeEvent.java\"],[\"./src/main/java/org/jfree/chart/swing/OverlayChangeListener.java\"],[\"./src/main/java/org/jfree/chart/swing/PolarChartPanel.java\"],[\"./src/main/java/org/jfree/chart/swing/SelectionZoomStrategy.java\"],[\"./src/main/java/org/jfree/chart/swing/UIUtils.java\"],[\"./src/main/java/org/jfree/chart/text/AttributedStringUtils.java\"],[\"./src/main/java/org/jfree/chart/text/format/HexNumberFormat.java\"],[\"./src/main/java/org/jfree/chart/text/format/HMSNumberFormat.java\"],[\"./src/main/java/org/jfree/chart/text/format/LogFormat.java\"],[\"./src/main/java/org/jfree/chart/text/format/RelativeDateFormat.java\"],[\"./src/main/java/org/jfree/chart/text/G2TextMeasurer.java\"],[\"./src/main/java/org/jfree/chart/text/TextAnchor.java\"],[\"./src/main/java/org/jfree/chart/text/TextBlock.java\"],[\"./src/main/java/org/jfree/chart/text/TextBlockAnchor.java\"],[\"./src/main/java/org/jfree/chart/text/TextBox.java\"],[\"./src/main/java/org/jfree/chart/text/TextFragment.java\"],[\"./src/main/java/org/jfree/chart/text/TextLine.java\"],[\"./src/main/java/org/jfree/chart/text/TextMeasurer.java\"],[\"./src/main/java/org/jfree/chart/text/TextUtils.java\"],[\"./src/main/java/org/jfree/chart/title/CompositeTitle.java\"],[\"./src/main/java/org/jfree/chart/title/DateTitle.java\"],[\"./src/main/java/org/jfree/chart/title/ImageTitle.java\"],[\"./src/main/java/org/jfree/chart/title/ShortTextTitle.java\"],[\"./src/main/java/org/jfree/chart/title/TextTitle.java\"],[\"./src/main/java/org/jfree/chart/title/Title.java\"],[\"./src/main/java/org/jfree/chart/urls/CategoryURLGenerator.java\"],[\"./src/main/java/org/jfree/chart/urls/CustomCategoryURLGenerator.java\"],[\"./src/main/java/org/jfree/chart/urls/CustomPieURLGenerator.java\"],[\"./src/main/java/org/jfree/chart/urls/CustomXYURLGenerator.java\"],[\"./src/main/java/org/jfree/chart/urls/PieURLGenerator.java\"],[\"./src/main/java/org/jfree/chart/urls/StandardCategoryURLGenerator.java\"],[\"./src/main/java/org/jfree/chart/urls/StandardPieURLGenerator.java\"],[\"./src/main/java/org/jfree/chart/urls/StandardXYURLGenerator.java\"],[\"./src/main/java/org/jfree/chart/urls/StandardXYZURLGenerator.java\"],[\"./src/main/java/org/jfree/chart/urls/TimeSeriesURLGenerator.java\"],[\"./src/main/java/org/jfree/chart/urls/XYURLGenerator.java\"],[\"./src/main/java/org/jfree/chart/urls/XYZURLGenerator.java\"],[\"./src/main/java/org/jfree/chart/util/AttrStringUtils.java\"],[\"./src/main/java/org/jfree/chart/util/DefaultShadowGenerator.java\"],[\"./src/main/java/org/jfree/chart/util/DirectionalGradientPaintTransformer.java\"],[\"./src/main/java/org/jfree/chart/util/ExportUtils.java\"],[\"./src/main/java/org/jfree/chart/util/GradientPaintTransformer.java\"],[\"./src/main/java/org/jfree/chart/util/GradientPaintTransformType.java\"],[\"./src/main/java/org/jfree/chart/util/PaintAlpha.java\"],[\"./src/main/java/org/jfree/chart/util/ShadowGenerator.java\"],[\"./src/main/java/org/jfree/chart/util/StandardGradientPaintTransformer.java\"],[\"./src/main/java/org/jfree/chart/util/StringUtils.java\"],[\"./src/main/java/org/jfree/data/category/CategoryDataset.java\"],[\"./src/main/java/org/jfree/data/category/CategoryRangeInfo.java\"],[\"./src/main/java/org/jfree/data/category/CategoryToPieDataset.java\"],[\"./src/main/java/org/jfree/data/category/DefaultCategoryDataset.java\"],[\"./src/main/java/org/jfree/data/category/DefaultIntervalCategoryDataset.java\"],[\"./src/main/java/org/jfree/data/category/IntervalCategoryDataset.java\"],[\"./src/main/java/org/jfree/data/category/SlidingCategoryDataset.java\"],[\"./src/main/java/org/jfree/data/ComparableObjectItem.java\"],[\"./src/main/java/org/jfree/data/ComparableObjectSeries.java\"],[\"./src/main/java/org/jfree/data/DataUtils.java\"],[\"./src/main/java/org/jfree/data/DefaultKeyedValue.java\"],[\"./src/main/java/org/jfree/data/DefaultKeyedValues.java\"],[\"./src/main/java/org/jfree/data/DefaultKeyedValues2D.java\"],[\"./src/main/java/org/jfree/data/DomainInfo.java\"],[\"./src/main/java/org/jfree/data/DomainOrder.java\"],[\"./src/main/java/org/jfree/data/flow/DefaultFlowDataset.java\"],[\"./src/main/java/org/jfree/data/flow/FlowDataset.java\"],[\"./src/main/java/org/jfree/data/flow/FlowDatasetUtils.java\"],[\"./src/main/java/org/jfree/data/flow/FlowKey.java\"],[\"./src/main/java/org/jfree/data/flow/NodeKey.java\"],[\"./src/main/java/org/jfree/data/function/Function2D.java\"],[\"./src/main/java/org/jfree/data/function/LineFunction2D.java\"],[\"./src/main/java/org/jfree/data/function/NormalDistributionFunction2D.java\"],[\"./src/main/java/org/jfree/data/function/PolynomialFunction2D.java\"],[\"./src/main/java/org/jfree/data/function/PowerFunction2D.java\"],[\"./src/main/java/org/jfree/data/gantt/GanttCategoryDataset.java\"],[\"./src/main/java/org/jfree/data/gantt/SlidingGanttCategoryDataset.java\"],[\"./src/main/java/org/jfree/data/gantt/Task.java\"],[\"./src/main/java/org/jfree/data/gantt/TaskSeries.java\"],[\"./src/main/java/org/jfree/data/gantt/TaskSeriesCollection.java\"],[\"./src/main/java/org/jfree/data/gantt/XYTaskDataset.java\"],[\"./src/main/java/org/jfree/data/general/AbstractDataset.java\"],[\"./src/main/java/org/jfree/data/general/AbstractSeriesDataset.java\"],[\"./src/main/java/org/jfree/data/general/Dataset.java\"],[\"./src/main/java/org/jfree/data/general/DatasetChangeEvent.java\"],[\"./src/main/java/org/jfree/data/general/DatasetChangeListener.java\"],[\"./src/main/java/org/jfree/data/general/DatasetUtils.java\"],[\"./src/main/java/org/jfree/data/general/DefaultHeatMapDataset.java\"],[\"./src/main/java/org/jfree/data/general/DefaultKeyedValueDataset.java\"],[\"./src/main/java/org/jfree/data/general/DefaultKeyedValues2DDataset.java\"],[\"./src/main/java/org/jfree/data/general/DefaultKeyedValuesDataset.java\"],[\"./src/main/java/org/jfree/data/general/DefaultPieDataset.java\"],[\"./src/main/java/org/jfree/data/general/DefaultValueDataset.java\"],[\"./src/main/java/org/jfree/data/general/HeatMapDataset.java\"],[\"./src/main/java/org/jfree/data/general/HeatMapUtils.java\"],[\"./src/main/java/org/jfree/data/general/KeyedValueDataset.java\"],[\"./src/main/java/org/jfree/data/general/KeyedValues2DDataset.java\"],[\"./src/main/java/org/jfree/data/general/KeyedValuesDataset.java\"],[\"./src/main/java/org/jfree/data/general/PieDataset.java\"],[\"./src/main/java/org/jfree/data/general/Series.java\"],[\"./src/main/java/org/jfree/data/general/SeriesChangeEvent.java\"],[\"./src/main/java/org/jfree/data/general/SeriesChangeListener.java\"],[\"./src/main/java/org/jfree/data/general/SeriesDataset.java\"],[\"./src/main/java/org/jfree/data/general/SeriesException.java\"],[\"./src/main/java/org/jfree/data/general/ValueDataset.java\"],[\"./src/main/java/org/jfree/data/general/WaferMapDataset.java\"],[\"./src/main/java/org/jfree/data/io/CSV.java\"],[\"./src/main/java/org/jfree/data/ItemKey.java\"],[\"./src/main/java/org/jfree/data/json/impl/JSONArray.java\"],[\"./src/main/java/org/jfree/data/json/impl/JSONAware.java\"],[\"./src/main/java/org/jfree/data/json/impl/JSONObject.java\"],[\"./src/main/java/org/jfree/data/json/impl/JSONStreamAware.java\"],[\"./src/main/java/org/jfree/data/json/impl/JSONValue.java\"],[\"./src/main/java/org/jfree/data/json/JSONUtils.java\"],[\"./src/main/java/org/jfree/data/KeyedObject.java\"],[\"./src/main/java/org/jfree/data/KeyedObjects.java\"],[\"./src/main/java/org/jfree/data/KeyedObjects2D.java\"],[\"./src/main/java/org/jfree/data/KeyedValue.java\"],[\"./src/main/java/org/jfree/data/KeyedValueComparator.java\"],[\"./src/main/java/org/jfree/data/KeyedValueComparatorType.java\"],[\"./src/main/java/org/jfree/data/KeyedValues.java\"],[\"./src/main/java/org/jfree/data/KeyedValues2D.java\"],[\"./src/main/java/org/jfree/data/KeyedValues2DItemKey.java\"],[\"./src/main/java/org/jfree/data/KeyedValuesItemKey.java\"],[\"./src/main/java/org/jfree/data/KeyToGroupMap.java\"],[\"./src/main/java/org/jfree/data/Range.java\"],[\"./src/main/java/org/jfree/data/RangeInfo.java\"],[\"./src/main/java/org/jfree/data/RangeType.java\"],[\"./src/main/java/org/jfree/data/resources/DataPackageResources.java\"],[\"./src/main/java/org/jfree/data/resources/DataPackageResources_de.java\"],[\"./src/main/java/org/jfree/data/resources/DataPackageResources_es.java\"],[\"./src/main/java/org/jfree/data/resources/DataPackageResources_fr.java\"],[\"./src/main/java/org/jfree/data/resources/DataPackageResources_pl.java\"],[\"./src/main/java/org/jfree/data/resources/DataPackageResources_ru.java\"],[\"./src/main/java/org/jfree/data/statistics/BoxAndWhiskerCalculator.java\"],[\"./src/main/java/org/jfree/data/statistics/BoxAndWhiskerCategoryDataset.java\"],[\"./src/main/java/org/jfree/data/statistics/BoxAndWhiskerItem.java\"],[\"./src/main/java/org/jfree/data/statistics/BoxAndWhiskerXYDataset.java\"],[\"./src/main/java/org/jfree/data/statistics/DefaultBoxAndWhiskerCategoryDataset.java\"],[\"./src/main/java/org/jfree/data/statistics/DefaultBoxAndWhiskerXYDataset.java\"],[\"./src/main/java/org/jfree/data/statistics/DefaultMultiValueCategoryDataset.java\"],[\"./src/main/java/org/jfree/data/statistics/DefaultStatisticalCategoryDataset.java\"],[\"./src/main/java/org/jfree/data/statistics/HistogramBin.java\"],[\"./src/main/java/org/jfree/data/statistics/HistogramDataset.java\"],[\"./src/main/java/org/jfree/data/statistics/HistogramType.java\"],[\"./src/main/java/org/jfree/data/statistics/MeanAndStandardDeviation.java\"],[\"./src/main/java/org/jfree/data/statistics/MultiValueCategoryDataset.java\"],[\"./src/main/java/org/jfree/data/statistics/Regression.java\"],[\"./src/main/java/org/jfree/data/statistics/SimpleHistogramBin.java\"],[\"./src/main/java/org/jfree/data/statistics/SimpleHistogramDataset.java\"],[\"./src/main/java/org/jfree/data/statistics/StatisticalCategoryDataset.java\"],[\"./src/main/java/org/jfree/data/statistics/Statistics.java\"],[\"./src/main/java/org/jfree/data/time/DateRange.java\"],[\"./src/main/java/org/jfree/data/time/Day.java\"],[\"./src/main/java/org/jfree/data/time/DynamicTimeSeriesCollection.java\"],[\"./src/main/java/org/jfree/data/time/FixedMillisecond.java\"],[\"./src/main/java/org/jfree/data/time/Hour.java\"],[\"./src/main/java/org/jfree/data/time/Millisecond.java\"],[\"./src/main/java/org/jfree/data/time/Minute.java\"],[\"./src/main/java/org/jfree/data/time/Month.java\"],[\"./src/main/java/org/jfree/data/time/MovingAverage.java\"],[\"./src/main/java/org/jfree/data/time/ohlc/OHLC.java\"],[\"./src/main/java/org/jfree/data/time/ohlc/OHLCItem.java\"],[\"./src/main/java/org/jfree/data/time/ohlc/OHLCSeries.java\"],[\"./src/main/java/org/jfree/data/time/ohlc/OHLCSeriesCollection.java\"],[\"./src/main/java/org/jfree/data/time/Quarter.java\"],[\"./src/main/java/org/jfree/data/time/RegularTimePeriod.java\"],[\"./src/main/java/org/jfree/data/time/Second.java\"],[\"./src/main/java/org/jfree/data/time/SimpleTimePeriod.java\"],[\"./src/main/java/org/jfree/data/time/TimePeriod.java\"],[\"./src/main/java/org/jfree/data/time/TimePeriodAnchor.java\"],[\"./src/main/java/org/jfree/data/time/TimePeriodFormatException.java\"],[\"./src/main/java/org/jfree/data/time/TimePeriodValue.java\"],[\"./src/main/java/org/jfree/data/time/TimePeriodValues.java\"],[\"./src/main/java/org/jfree/data/time/TimePeriodValuesCollection.java\"],[\"./src/main/java/org/jfree/data/time/TimeSeries.java\"],[\"./src/main/java/org/jfree/data/time/TimeSeriesCollection.java\"],[\"./src/main/java/org/jfree/data/time/TimeSeriesDataItem.java\"],[\"./src/main/java/org/jfree/data/time/TimeSeriesTableModel.java\"],[\"./src/main/java/org/jfree/data/time/TimeTableXYDataset.java\"],[\"./src/main/java/org/jfree/data/time/Week.java\"],[\"./src/main/java/org/jfree/data/time/Year.java\"],[\"./src/main/java/org/jfree/data/UnknownKeyException.java\"],[\"./src/main/java/org/jfree/data/Value.java\"],[\"./src/main/java/org/jfree/data/Values.java\"],[\"./src/main/java/org/jfree/data/Values2D.java\"],[\"./src/main/java/org/jfree/data/xml/CategoryDatasetHandler.java\"],[\"./src/main/java/org/jfree/data/xml/CategorySeriesHandler.java\"],[\"./src/main/java/org/jfree/data/xml/DatasetReader.java\"],[\"./src/main/java/org/jfree/data/xml/DatasetTags.java\"],[\"./src/main/java/org/jfree/data/xml/ItemHandler.java\"],[\"./src/main/java/org/jfree/data/xml/KeyHandler.java\"],[\"./src/main/java/org/jfree/data/xml/PieDatasetHandler.java\"],[\"./src/main/java/org/jfree/data/xml/RootHandler.java\"],[\"./src/main/java/org/jfree/data/xml/ValueHandler.java\"],[\"./src/main/java/org/jfree/data/xy/AbstractIntervalXYDataset.java\"],[\"./src/main/java/org/jfree/data/xy/AbstractXYDataset.java\"],[\"./src/main/java/org/jfree/data/xy/AbstractXYZDataset.java\"],[\"./src/main/java/org/jfree/data/xy/CategoryTableXYDataset.java\"],[\"./src/main/java/org/jfree/data/xy/DefaultHighLowDataset.java\"],[\"./src/main/java/org/jfree/data/xy/DefaultIntervalXYDataset.java\"],[\"./src/main/java/org/jfree/data/xy/DefaultOHLCDataset.java\"],[\"./src/main/java/org/jfree/data/xy/DefaultTableXYDataset.java\"],[\"./src/main/java/org/jfree/data/xy/DefaultWindDataset.java\"],[\"./src/main/java/org/jfree/data/xy/DefaultXYDataset.java\"],[\"./src/main/java/org/jfree/data/xy/DefaultXYZDataset.java\"],[\"./src/main/java/org/jfree/data/xy/IntervalXYDataset.java\"],[\"./src/main/java/org/jfree/data/xy/IntervalXYDelegate.java\"],[\"./src/main/java/org/jfree/data/xy/IntervalXYZDataset.java\"],[\"./src/main/java/org/jfree/data/xy/MatrixSeries.java\"],[\"./src/main/java/org/jfree/data/xy/MatrixSeriesCollection.java\"],[\"./src/main/java/org/jfree/data/xy/NormalizedMatrixSeries.java\"],[\"./src/main/java/org/jfree/data/xy/OHLCDataItem.java\"],[\"./src/main/java/org/jfree/data/xy/OHLCDataset.java\"],[\"./src/main/java/org/jfree/data/xy/TableXYDataset.java\"],[\"./src/main/java/org/jfree/data/xy/Vector.java\"],[\"./src/main/java/org/jfree/data/xy/VectorDataItem.java\"],[\"./src/main/java/org/jfree/data/xy/VectorSeries.java\"],[\"./src/main/java/org/jfree/data/xy/VectorSeriesCollection.java\"],[\"./src/main/java/org/jfree/data/xy/VectorXYDataset.java\"],[\"./src/main/java/org/jfree/data/xy/WindDataset.java\"],[\"./src/main/java/org/jfree/data/xy/XIntervalDataItem.java\"],[\"./src/main/java/org/jfree/data/xy/XIntervalSeries.java\"],[\"./src/main/java/org/jfree/data/xy/XIntervalSeriesCollection.java\"],[\"./src/main/java/org/jfree/data/xy/XisSymbolic.java\"],[\"./src/main/java/org/jfree/data/xy/XYBarDataset.java\"],[\"./src/main/java/org/jfree/data/xy/XYCoordinate.java\"],[\"./src/main/java/org/jfree/data/xy/XYDataItem.java\"],[\"./src/main/java/org/jfree/data/xy/XYDataset.java\"],[\"./src/main/java/org/jfree/data/xy/XYDatasetTableModel.java\"],[\"./src/main/java/org/jfree/data/xy/XYDomainInfo.java\"],[\"./src/main/java/org/jfree/data/xy/XYInterval.java\"],[\"./src/main/java/org/jfree/data/xy/XYIntervalDataItem.java\"],[\"./src/main/java/org/jfree/data/xy/XYIntervalSeries.java\"],[\"./src/main/java/org/jfree/data/xy/XYIntervalSeriesCollection.java\"],[\"./src/main/java/org/jfree/data/xy/XYItemKey.java\"],[\"./src/main/java/org/jfree/data/xy/XYRangeInfo.java\"],[\"./src/main/java/org/jfree/data/xy/XYSeries.java\"],[\"./src/main/java/org/jfree/data/xy/XYSeriesCollection.java\"],[\"./src/main/java/org/jfree/data/xy/XYZDataset.java\"],[\"./src/main/java/org/jfree/data/xy/YInterval.java\"],[\"./src/main/java/org/jfree/data/xy/YIntervalDataItem.java\"],[\"./src/main/java/org/jfree/data/xy/YIntervalSeries.java\"],[\"./src/main/java/org/jfree/data/xy/YIntervalSeriesCollection.java\"],[\"./src/main/java/org/jfree/data/xy/YisSymbolic.java\"],[\"./src/main/java/org/jfree/data/xy/YWithXInterval.java\"]],\"hovertemplate\":\"NOCom=%{y}<br>class=%{customdata[0]}<extra></extra>\",\"legendgroup\":\"\",\"marker\":{\"color\":\"#636efa\"},\"name\":\"\",\"notched\":false,\"offsetgroup\":\"\",\"orientation\":\"v\",\"showlegend\":false,\"type\":\"box\",\"x0\":\" \",\"xaxis\":\"x\",\"y\":[4,6,5,4,12,12,8,11,4,5,10,10,12,12,13,12,13,11,14,15,2,2,2,2,2,3,2,5,2,2,2,2,2,3,15,8,5,9,7,7,6,16,8,8,7,6,5,11,17,8,5,9,4,8,7,12,4,9,6,5,10,6,6,6,14,9,5,3,11,11,7,4,4,2,4,4,14,6,13,5,6,9,10,7,2,2,6,5,7,6,5,3,3,7,7,14,5,11,7,2,3,2,2,22,4,7,5,7,10,5,8,6,2,2,3,4,3,5,4,10,11,8,9,5,2,10,7,2,7,10,8,3,10,3,3,7,5,3,4,4,6,5,4,3,4,5,5,3,4,5,4,3,4,3,6,3,3,2,4,4,3,2,6,7,3,3,4,5,24,12,7,10,5,3,9,6,5,5,5,5,2,6,6,4,6,6,7,9,10,6,4,6,8,3,5,2,7,8,6,9,6,7,5,4,5,4,4,8,6,3,3,2,2,7,5,4,7,32,3,14,15,12,16,2,5,2,2,3,3,3,2,2,2,2,16,7,5,8,6,10,11,10,4,4,3,4,16,10,4,12,16,10,10,11,6,5,15,3,8,13,9,19,4,2,5,2,2,2,6,2,22,4,11,4,6,27,22,5,24,20,4,4,10,2,31,6,30,4,28,10,7,16,16,16,3,8,2,12,7,9,6,12,12,14,11,13,12,11,6,12,11,10,22,7,9,2,2,3,6,5,8,3,4,5,30,15,12,4,2,8,3,8,10,13,10,9,11,7,20,8,8,17,13,7,18,17,12,10,15,12,10,19,2,21,14,13,11,15,10,20,3,2,2,2,2,9,8,4,2,2,3,5,4,2,2,3,5,3,4,4,3,3,2,2,2,2,4,2,3,2,2,2,4,2,3,2,2,2,2,3,3,11,5,8,9,10,4,6,8,7,7,6,13,9,4,5,8,4,5,6,6,8,2,5,3,3,8,8,6,12,2,2,5,4,2,5,4,3,8,7,8,5,8,8,12,7,7,9,13,5,6,2,2,2,2,2,4,4,4,6,4,4,6,8,8,11,6,7,3,4,3,3,13,7,4,3,3,14,6,3,4,2,3,3,5,12,2,3,6,2,2,5,2,4,4,2,4,3,4,7,8,8,7,4,9,5,5,6,9,7,16,8,4,5,2,2,2,2,2,2,7,4,7,5,8,7,7,8,3,8,5,6,4,4,7,10,4,5,5,11,4,4,9,8,9,8,8,5,6,6,12,11,12,9,6,5,7,3,7,12,12,19,18,10,4,11,9,10,2,3,5,4,3,5,5,3,2,2,2,2,2,3,4,3,7,9,8,6,12,7,8,7,4,9,4,4,8,4,5,3,4,3,3,3,10,5,5,6,3,11,4,6,3,9,5,2,5,4,5,3,10,8,4,15,14,4,4,5,3,12,4,4],\"y0\":\" \",\"yaxis\":\"y\"}],                        {\"boxmode\":\"group\",\"legend\":{\"tracegroupgap\":0},\"margin\":{\"t\":60},\"template\":{\"data\":{\"bar\":[{\"error_x\":{\"color\":\"#2a3f5f\"},\"error_y\":{\"color\":\"#2a3f5f\"},\"marker\":{\"line\":{\"color\":\"#E5ECF6\",\"width\":0.5},\"pattern\":{\"fillmode\":\"overlay\",\"size\":10,\"solidity\":0.2}},\"type\":\"bar\"}],\"barpolar\":[{\"marker\":{\"line\":{\"color\":\"#E5ECF6\",\"width\":0.5},\"pattern\":{\"fillmode\":\"overlay\",\"size\":10,\"solidity\":0.2}},\"type\":\"barpolar\"}],\"carpet\":[{\"aaxis\":{\"endlinecolor\":\"#2a3f5f\",\"gridcolor\":\"white\",\"linecolor\":\"white\",\"minorgridcolor\":\"white\",\"startlinecolor\":\"#2a3f5f\"},\"baxis\":{\"endlinecolor\":\"#2a3f5f\",\"gridcolor\":\"white\",\"linecolor\":\"white\",\"minorgridcolor\":\"white\",\"startlinecolor\":\"#2a3f5f\"},\"type\":\"carpet\"}],\"choropleth\":[{\"colorbar\":{\"outlinewidth\":0,\"ticks\":\"\"},\"type\":\"choropleth\"}],\"contour\":[{\"colorbar\":{\"outlinewidth\":0,\"ticks\":\"\"},\"colorscale\":[[0.0,\"#0d0887\"],[0.1111111111111111,\"#46039f\"],[0.2222222222222222,\"#7201a8\"],[0.3333333333333333,\"#9c179e\"],[0.4444444444444444,\"#bd3786\"],[0.5555555555555556,\"#d8576b\"],[0.6666666666666666,\"#ed7953\"],[0.7777777777777778,\"#fb9f3a\"],[0.8888888888888888,\"#fdca26\"],[1.0,\"#f0f921\"]],\"type\":\"contour\"}],\"contourcarpet\":[{\"colorbar\":{\"outlinewidth\":0,\"ticks\":\"\"},\"type\":\"contourcarpet\"}],\"heatmap\":[{\"colorbar\":{\"outlinewidth\":0,\"ticks\":\"\"},\"colorscale\":[[0.0,\"#0d0887\"],[0.1111111111111111,\"#46039f\"],[0.2222222222222222,\"#7201a8\"],[0.3333333333333333,\"#9c179e\"],[0.4444444444444444,\"#bd3786\"],[0.5555555555555556,\"#d8576b\"],[0.6666666666666666,\"#ed7953\"],[0.7777777777777778,\"#fb9f3a\"],[0.8888888888888888,\"#fdca26\"],[1.0,\"#f0f921\"]],\"type\":\"heatmap\"}],\"heatmapgl\":[{\"colorbar\":{\"outlinewidth\":0,\"ticks\":\"\"},\"colorscale\":[[0.0,\"#0d0887\"],[0.1111111111111111,\"#46039f\"],[0.2222222222222222,\"#7201a8\"],[0.3333333333333333,\"#9c179e\"],[0.4444444444444444,\"#bd3786\"],[0.5555555555555556,\"#d8576b\"],[0.6666666666666666,\"#ed7953\"],[0.7777777777777778,\"#fb9f3a\"],[0.8888888888888888,\"#fdca26\"],[1.0,\"#f0f921\"]],\"type\":\"heatmapgl\"}],\"histogram\":[{\"marker\":{\"pattern\":{\"fillmode\":\"overlay\",\"size\":10,\"solidity\":0.2}},\"type\":\"histogram\"}],\"histogram2d\":[{\"colorbar\":{\"outlinewidth\":0,\"ticks\":\"\"},\"colorscale\":[[0.0,\"#0d0887\"],[0.1111111111111111,\"#46039f\"],[0.2222222222222222,\"#7201a8\"],[0.3333333333333333,\"#9c179e\"],[0.4444444444444444,\"#bd3786\"],[0.5555555555555556,\"#d8576b\"],[0.6666666666666666,\"#ed7953\"],[0.7777777777777778,\"#fb9f3a\"],[0.8888888888888888,\"#fdca26\"],[1.0,\"#f0f921\"]],\"type\":\"histogram2d\"}],\"histogram2dcontour\":[{\"colorbar\":{\"outlinewidth\":0,\"ticks\":\"\"},\"colorscale\":[[0.0,\"#0d0887\"],[0.1111111111111111,\"#46039f\"],[0.2222222222222222,\"#7201a8\"],[0.3333333333333333,\"#9c179e\"],[0.4444444444444444,\"#bd3786\"],[0.5555555555555556,\"#d8576b\"],[0.6666666666666666,\"#ed7953\"],[0.7777777777777778,\"#fb9f3a\"],[0.8888888888888888,\"#fdca26\"],[1.0,\"#f0f921\"]],\"type\":\"histogram2dcontour\"}],\"mesh3d\":[{\"colorbar\":{\"outlinewidth\":0,\"ticks\":\"\"},\"type\":\"mesh3d\"}],\"parcoords\":[{\"line\":{\"colorbar\":{\"outlinewidth\":0,\"ticks\":\"\"}},\"type\":\"parcoords\"}],\"pie\":[{\"automargin\":true,\"type\":\"pie\"}],\"scatter\":[{\"marker\":{\"colorbar\":{\"outlinewidth\":0,\"ticks\":\"\"}},\"type\":\"scatter\"}],\"scatter3d\":[{\"line\":{\"colorbar\":{\"outlinewidth\":0,\"ticks\":\"\"}},\"marker\":{\"colorbar\":{\"outlinewidth\":0,\"ticks\":\"\"}},\"type\":\"scatter3d\"}],\"scattercarpet\":[{\"marker\":{\"colorbar\":{\"outlinewidth\":0,\"ticks\":\"\"}},\"type\":\"scattercarpet\"}],\"scattergeo\":[{\"marker\":{\"colorbar\":{\"outlinewidth\":0,\"ticks\":\"\"}},\"type\":\"scattergeo\"}],\"scattergl\":[{\"marker\":{\"colorbar\":{\"outlinewidth\":0,\"ticks\":\"\"}},\"type\":\"scattergl\"}],\"scattermapbox\":[{\"marker\":{\"colorbar\":{\"outlinewidth\":0,\"ticks\":\"\"}},\"type\":\"scattermapbox\"}],\"scatterpolar\":[{\"marker\":{\"colorbar\":{\"outlinewidth\":0,\"ticks\":\"\"}},\"type\":\"scatterpolar\"}],\"scatterpolargl\":[{\"marker\":{\"colorbar\":{\"outlinewidth\":0,\"ticks\":\"\"}},\"type\":\"scatterpolargl\"}],\"scatterternary\":[{\"marker\":{\"colorbar\":{\"outlinewidth\":0,\"ticks\":\"\"}},\"type\":\"scatterternary\"}],\"surface\":[{\"colorbar\":{\"outlinewidth\":0,\"ticks\":\"\"},\"colorscale\":[[0.0,\"#0d0887\"],[0.1111111111111111,\"#46039f\"],[0.2222222222222222,\"#7201a8\"],[0.3333333333333333,\"#9c179e\"],[0.4444444444444444,\"#bd3786\"],[0.5555555555555556,\"#d8576b\"],[0.6666666666666666,\"#ed7953\"],[0.7777777777777778,\"#fb9f3a\"],[0.8888888888888888,\"#fdca26\"],[1.0,\"#f0f921\"]],\"type\":\"surface\"}],\"table\":[{\"cells\":{\"fill\":{\"color\":\"#EBF0F8\"},\"line\":{\"color\":\"white\"}},\"header\":{\"fill\":{\"color\":\"#C8D4E3\"},\"line\":{\"color\":\"white\"}},\"type\":\"table\"}]},\"layout\":{\"annotationdefaults\":{\"arrowcolor\":\"#2a3f5f\",\"arrowhead\":0,\"arrowwidth\":1},\"autotypenumbers\":\"strict\",\"coloraxis\":{\"colorbar\":{\"outlinewidth\":0,\"ticks\":\"\"}},\"colorscale\":{\"diverging\":[[0,\"#8e0152\"],[0.1,\"#c51b7d\"],[0.2,\"#de77ae\"],[0.3,\"#f1b6da\"],[0.4,\"#fde0ef\"],[0.5,\"#f7f7f7\"],[0.6,\"#e6f5d0\"],[0.7,\"#b8e186\"],[0.8,\"#7fbc41\"],[0.9,\"#4d9221\"],[1,\"#276419\"]],\"sequential\":[[0.0,\"#0d0887\"],[0.1111111111111111,\"#46039f\"],[0.2222222222222222,\"#7201a8\"],[0.3333333333333333,\"#9c179e\"],[0.4444444444444444,\"#bd3786\"],[0.5555555555555556,\"#d8576b\"],[0.6666666666666666,\"#ed7953\"],[0.7777777777777778,\"#fb9f3a\"],[0.8888888888888888,\"#fdca26\"],[1.0,\"#f0f921\"]],\"sequentialminus\":[[0.0,\"#0d0887\"],[0.1111111111111111,\"#46039f\"],[0.2222222222222222,\"#7201a8\"],[0.3333333333333333,\"#9c179e\"],[0.4444444444444444,\"#bd3786\"],[0.5555555555555556,\"#d8576b\"],[0.6666666666666666,\"#ed7953\"],[0.7777777777777778,\"#fb9f3a\"],[0.8888888888888888,\"#fdca26\"],[1.0,\"#f0f921\"]]},\"colorway\":[\"#636efa\",\"#EF553B\",\"#00cc96\",\"#ab63fa\",\"#FFA15A\",\"#19d3f3\",\"#FF6692\",\"#B6E880\",\"#FF97FF\",\"#FECB52\"],\"font\":{\"color\":\"#2a3f5f\"},\"geo\":{\"bgcolor\":\"white\",\"lakecolor\":\"white\",\"landcolor\":\"#E5ECF6\",\"showlakes\":true,\"showland\":true,\"subunitcolor\":\"white\"},\"hoverlabel\":{\"align\":\"left\"},\"hovermode\":\"closest\",\"mapbox\":{\"style\":\"light\"},\"paper_bgcolor\":\"white\",\"plot_bgcolor\":\"#E5ECF6\",\"polar\":{\"angularaxis\":{\"gridcolor\":\"white\",\"linecolor\":\"white\",\"ticks\":\"\"},\"bgcolor\":\"#E5ECF6\",\"radialaxis\":{\"gridcolor\":\"white\",\"linecolor\":\"white\",\"ticks\":\"\"}},\"scene\":{\"xaxis\":{\"backgroundcolor\":\"#E5ECF6\",\"gridcolor\":\"white\",\"gridwidth\":2,\"linecolor\":\"white\",\"showbackground\":true,\"ticks\":\"\",\"zerolinecolor\":\"white\"},\"yaxis\":{\"backgroundcolor\":\"#E5ECF6\",\"gridcolor\":\"white\",\"gridwidth\":2,\"linecolor\":\"white\",\"showbackground\":true,\"ticks\":\"\",\"zerolinecolor\":\"white\"},\"zaxis\":{\"backgroundcolor\":\"#E5ECF6\",\"gridcolor\":\"white\",\"gridwidth\":2,\"linecolor\":\"white\",\"showbackground\":true,\"ticks\":\"\",\"zerolinecolor\":\"white\"}},\"shapedefaults\":{\"line\":{\"color\":\"#2a3f5f\"}},\"ternary\":{\"aaxis\":{\"gridcolor\":\"white\",\"linecolor\":\"white\",\"ticks\":\"\"},\"baxis\":{\"gridcolor\":\"white\",\"linecolor\":\"white\",\"ticks\":\"\"},\"bgcolor\":\"#E5ECF6\",\"caxis\":{\"gridcolor\":\"white\",\"linecolor\":\"white\",\"ticks\":\"\"}},\"title\":{\"x\":0.05},\"xaxis\":{\"automargin\":true,\"gridcolor\":\"white\",\"linecolor\":\"white\",\"ticks\":\"\",\"title\":{\"standoff\":15},\"zerolinecolor\":\"white\",\"zerolinewidth\":2},\"yaxis\":{\"automargin\":true,\"gridcolor\":\"white\",\"linecolor\":\"white\",\"ticks\":\"\",\"title\":{\"standoff\":15},\"zerolinecolor\":\"white\",\"zerolinewidth\":2}}},\"xaxis\":{\"anchor\":\"y\",\"domain\":[0.0,1.0]},\"yaxis\":{\"anchor\":\"x\",\"domain\":[0.0,1.0],\"title\":{\"text\":\"NOCom\"}}},                        {\"responsive\": true}                    ).then(function(){\n",
       "                            \n",
       "var gd = document.getElementById('797f458f-95cb-44db-af1c-aabc2b0e896d');\n",
       "var x = new MutationObserver(function (mutations, observer) {{\n",
       "        var display = window.getComputedStyle(gd).display;\n",
       "        if (!display || display === 'none') {{\n",
       "            console.log([gd, 'removed!']);\n",
       "            Plotly.purge(gd);\n",
       "            observer.disconnect();\n",
       "        }}\n",
       "}});\n",
       "\n",
       "// Listen for the removal of the full notebook cells\n",
       "var notebookContainer = gd.closest('#notebook-container');\n",
       "if (notebookContainer) {{\n",
       "    x.observe(notebookContainer, {childList: true});\n",
       "}}\n",
       "\n",
       "// Listen for the clearing of the current output cell\n",
       "var outputEl = gd.closest('.output');\n",
       "if (outputEl) {{\n",
       "    x.observe(outputEl, {childList: true});\n",
       "}}\n",
       "\n",
       "                        })                };                });            </script>        </div>"
      ]
     },
     "metadata": {},
     "output_type": "display_data"
    }
   ],
   "source": [
    "fig = px.box(df.reset_index(), y='NOCom', hover_data=['class'], points='all')\n",
    "fig.show()"
   ]
  },
  {
   "cell_type": "markdown",
   "id": "1ccf035b-35f4-4e59-935c-98db01b31203",
   "metadata": {},
   "source": [
    "### WMC"
   ]
  },
  {
   "cell_type": "code",
   "execution_count": 52,
   "id": "75c10f43-985d-4638-b649-75af2657b2e5",
   "metadata": {},
   "outputs": [],
   "source": [
    "describe_WMC = df.reset_index()['WMC'].describe()"
   ]
  },
  {
   "cell_type": "code",
   "execution_count": 53,
   "id": "cc75a763-6457-4ddf-a4a9-00a5a91688bf",
   "metadata": {},
   "outputs": [
    {
     "name": "stdout",
     "output_type": "stream",
     "text": [
      "Les valeurs de la boîte à moustache sont situés entre -39.5 et 92.5, avec 50% des données se trouvant entre 10.0 et 43.0\n"
     ]
    }
   ],
   "source": [
    "l, m, u = describe_WMC.iloc[4], describe_WMC.iloc[5], describe_WMC.iloc[6]\n",
    "IQR_WMC = u - l\n",
    "U, L = u + (1.5 * IQR_WMC), l - (1.5 * IQR_WMC)\n",
    "print(f\"Les valeurs de la boîte à moustache sont situés entre {L} et {U}, avec 50% des données se trouvant entre {l} et {u}\")"
   ]
  },
  {
   "cell_type": "code",
   "execution_count": 16,
   "id": "d6588423-3085-4eb6-85ca-5113ba6d739e",
   "metadata": {},
   "outputs": [
    {
     "data": {
      "application/vnd.plotly.v1+json": {
       "config": {
        "plotlyServerURL": "https://plot.ly"
       },
       "data": [
        {
         "alignmentgroup": "True",
         "boxpoints": "all",
         "customdata": [
          [
           "./src/main/java/org/jfree/chart/annotations/AbstractAnnotation.java"
          ],
          [
           "./src/main/java/org/jfree/chart/annotations/AbstractXYAnnotation.java"
          ],
          [
           "./src/main/java/org/jfree/chart/annotations/Annotation.java"
          ],
          [
           "./src/main/java/org/jfree/chart/annotations/CategoryAnnotation.java"
          ],
          [
           "./src/main/java/org/jfree/chart/annotations/CategoryLineAnnotation.java"
          ],
          [
           "./src/main/java/org/jfree/chart/annotations/CategoryPointerAnnotation.java"
          ],
          [
           "./src/main/java/org/jfree/chart/annotations/CategoryTextAnnotation.java"
          ],
          [
           "./src/main/java/org/jfree/chart/annotations/TextAnnotation.java"
          ],
          [
           "./src/main/java/org/jfree/chart/annotations/XYAnnotation.java"
          ],
          [
           "./src/main/java/org/jfree/chart/annotations/XYAnnotationBoundsInfo.java"
          ],
          [
           "./src/main/java/org/jfree/chart/annotations/XYBoxAnnotation.java"
          ],
          [
           "./src/main/java/org/jfree/chart/annotations/XYDataImageAnnotation.java"
          ],
          [
           "./src/main/java/org/jfree/chart/annotations/XYDrawableAnnotation.java"
          ],
          [
           "./src/main/java/org/jfree/chart/annotations/XYImageAnnotation.java"
          ],
          [
           "./src/main/java/org/jfree/chart/annotations/XYLineAnnotation.java"
          ],
          [
           "./src/main/java/org/jfree/chart/annotations/XYPointerAnnotation.java"
          ],
          [
           "./src/main/java/org/jfree/chart/annotations/XYPolygonAnnotation.java"
          ],
          [
           "./src/main/java/org/jfree/chart/annotations/XYShapeAnnotation.java"
          ],
          [
           "./src/main/java/org/jfree/chart/annotations/XYTextAnnotation.java"
          ],
          [
           "./src/main/java/org/jfree/chart/annotations/XYTitleAnnotation.java"
          ],
          [
           "./src/main/java/org/jfree/chart/api/HorizontalAlignment.java"
          ],
          [
           "./src/main/java/org/jfree/chart/api/Layer.java"
          ],
          [
           "./src/main/java/org/jfree/chart/api/LengthAdjustmentType.java"
          ],
          [
           "./src/main/java/org/jfree/chart/api/PublicCloneable.java"
          ],
          [
           "./src/main/java/org/jfree/chart/api/RectangleAlignment.java"
          ],
          [
           "./src/main/java/org/jfree/chart/api/RectangleAnchor.java"
          ],
          [
           "./src/main/java/org/jfree/chart/api/RectangleEdge.java"
          ],
          [
           "./src/main/java/org/jfree/chart/api/RectangleInsets.java"
          ],
          [
           "./src/main/java/org/jfree/chart/api/Rotation.java"
          ],
          [
           "./src/main/java/org/jfree/chart/api/SortOrder.java"
          ],
          [
           "./src/main/java/org/jfree/chart/api/TableOrder.java"
          ],
          [
           "./src/main/java/org/jfree/chart/api/UnitType.java"
          ],
          [
           "./src/main/java/org/jfree/chart/api/VerticalAlignment.java"
          ],
          [
           "./src/main/java/org/jfree/chart/api/XYCoordinateType.java"
          ],
          [
           "./src/main/java/org/jfree/chart/axis/Axis.java"
          ],
          [
           "./src/main/java/org/jfree/chart/axis/AxisCollection.java"
          ],
          [
           "./src/main/java/org/jfree/chart/axis/AxisLabelLocation.java"
          ],
          [
           "./src/main/java/org/jfree/chart/axis/AxisLocation.java"
          ],
          [
           "./src/main/java/org/jfree/chart/axis/AxisSpace.java"
          ],
          [
           "./src/main/java/org/jfree/chart/axis/AxisState.java"
          ],
          [
           "./src/main/java/org/jfree/chart/axis/CategoryAnchor.java"
          ],
          [
           "./src/main/java/org/jfree/chart/axis/CategoryAxis.java"
          ],
          [
           "./src/main/java/org/jfree/chart/axis/CategoryLabelPosition.java"
          ],
          [
           "./src/main/java/org/jfree/chart/axis/CategoryLabelPositions.java"
          ],
          [
           "./src/main/java/org/jfree/chart/axis/CategoryLabelWidthType.java"
          ],
          [
           "./src/main/java/org/jfree/chart/axis/CategoryTick.java"
          ],
          [
           "./src/main/java/org/jfree/chart/axis/CompassFormat.java"
          ],
          [
           "./src/main/java/org/jfree/chart/axis/CyclicNumberAxis.java"
          ],
          [
           "./src/main/java/org/jfree/chart/axis/DateAxis.java"
          ],
          [
           "./src/main/java/org/jfree/chart/axis/DateTick.java"
          ],
          [
           "./src/main/java/org/jfree/chart/axis/DateTickMarkPosition.java"
          ],
          [
           "./src/main/java/org/jfree/chart/axis/DateTickUnit.java"
          ],
          [
           "./src/main/java/org/jfree/chart/axis/DateTickUnitType.java"
          ],
          [
           "./src/main/java/org/jfree/chart/axis/ExtendedCategoryAxis.java"
          ],
          [
           "./src/main/java/org/jfree/chart/axis/LogarithmicAxis.java"
          ],
          [
           "./src/main/java/org/jfree/chart/axis/LogAxis.java"
          ],
          [
           "./src/main/java/org/jfree/chart/axis/LogTick.java"
          ],
          [
           "./src/main/java/org/jfree/chart/axis/MarkerAxisBand.java"
          ],
          [
           "./src/main/java/org/jfree/chart/axis/ModuloAxis.java"
          ],
          [
           "./src/main/java/org/jfree/chart/axis/MonthDateFormat.java"
          ],
          [
           "./src/main/java/org/jfree/chart/axis/NumberAxis.java"
          ],
          [
           "./src/main/java/org/jfree/chart/axis/NumberTick.java"
          ],
          [
           "./src/main/java/org/jfree/chart/axis/NumberTickUnit.java"
          ],
          [
           "./src/main/java/org/jfree/chart/axis/NumberTickUnitSource.java"
          ],
          [
           "./src/main/java/org/jfree/chart/axis/PeriodAxis.java"
          ],
          [
           "./src/main/java/org/jfree/chart/axis/PeriodAxisLabelInfo.java"
          ],
          [
           "./src/main/java/org/jfree/chart/axis/QuarterDateFormat.java"
          ],
          [
           "./src/main/java/org/jfree/chart/axis/StandardTickUnitSource.java"
          ],
          [
           "./src/main/java/org/jfree/chart/axis/SubCategoryAxis.java"
          ],
          [
           "./src/main/java/org/jfree/chart/axis/SymbolAxis.java"
          ],
          [
           "./src/main/java/org/jfree/chart/axis/Tick.java"
          ],
          [
           "./src/main/java/org/jfree/chart/axis/TickType.java"
          ],
          [
           "./src/main/java/org/jfree/chart/axis/TickUnit.java"
          ],
          [
           "./src/main/java/org/jfree/chart/axis/TickUnits.java"
          ],
          [
           "./src/main/java/org/jfree/chart/axis/TickUnitSource.java"
          ],
          [
           "./src/main/java/org/jfree/chart/axis/Timeline.java"
          ],
          [
           "./src/main/java/org/jfree/chart/axis/ValueAxis.java"
          ],
          [
           "./src/main/java/org/jfree/chart/axis/ValueTick.java"
          ],
          [
           "./src/main/java/org/jfree/chart/block/AbstractBlock.java"
          ],
          [
           "./src/main/java/org/jfree/chart/block/Arrangement.java"
          ],
          [
           "./src/main/java/org/jfree/chart/block/Block.java"
          ],
          [
           "./src/main/java/org/jfree/chart/block/BlockBorder.java"
          ],
          [
           "./src/main/java/org/jfree/chart/block/BlockContainer.java"
          ],
          [
           "./src/main/java/org/jfree/chart/block/BlockFrame.java"
          ],
          [
           "./src/main/java/org/jfree/chart/block/BlockParams.java"
          ],
          [
           "./src/main/java/org/jfree/chart/block/BlockResult.java"
          ],
          [
           "./src/main/java/org/jfree/chart/block/BorderArrangement.java"
          ],
          [
           "./src/main/java/org/jfree/chart/block/CenterArrangement.java"
          ],
          [
           "./src/main/java/org/jfree/chart/block/ColorBlock.java"
          ],
          [
           "./src/main/java/org/jfree/chart/block/ColumnArrangement.java"
          ],
          [
           "./src/main/java/org/jfree/chart/block/EmptyBlock.java"
          ],
          [
           "./src/main/java/org/jfree/chart/block/EntityBlockParams.java"
          ],
          [
           "./src/main/java/org/jfree/chart/block/EntityBlockResult.java"
          ],
          [
           "./src/main/java/org/jfree/chart/block/FlowArrangement.java"
          ],
          [
           "./src/main/java/org/jfree/chart/block/GridArrangement.java"
          ],
          [
           "./src/main/java/org/jfree/chart/block/LabelBlock.java"
          ],
          [
           "./src/main/java/org/jfree/chart/block/LengthConstraintType.java"
          ],
          [
           "./src/main/java/org/jfree/chart/block/LineBorder.java"
          ],
          [
           "./src/main/java/org/jfree/chart/block/RectangleConstraint.java"
          ],
          [
           "./src/main/java/org/jfree/chart/block/Size2D.java"
          ],
          [
           "./src/main/java/org/jfree/chart/ChartColor.java"
          ],
          [
           "./src/main/java/org/jfree/chart/ChartElement.java"
          ],
          [
           "./src/main/java/org/jfree/chart/ChartElementVisitor.java"
          ],
          [
           "./src/main/java/org/jfree/chart/ChartFactory.java"
          ],
          [
           "./src/main/java/org/jfree/chart/ChartHints.java"
          ],
          [
           "./src/main/java/org/jfree/chart/ChartRenderingInfo.java"
          ],
          [
           "./src/main/java/org/jfree/chart/ChartTheme.java"
          ],
          [
           "./src/main/java/org/jfree/chart/ChartTransferable.java"
          ],
          [
           "./src/main/java/org/jfree/chart/ChartUtils.java"
          ],
          [
           "./src/main/java/org/jfree/chart/date/MonthConstants.java"
          ],
          [
           "./src/main/java/org/jfree/chart/date/SerialDate.java"
          ],
          [
           "./src/main/java/org/jfree/chart/date/SpreadsheetDate.java"
          ],
          [
           "./src/main/java/org/jfree/chart/Drawable.java"
          ],
          [
           "./src/main/java/org/jfree/chart/encoders/EncoderUtil.java"
          ],
          [
           "./src/main/java/org/jfree/chart/encoders/ImageEncoder.java"
          ],
          [
           "./src/main/java/org/jfree/chart/encoders/ImageEncoderFactory.java"
          ],
          [
           "./src/main/java/org/jfree/chart/encoders/ImageFormat.java"
          ],
          [
           "./src/main/java/org/jfree/chart/encoders/SunJPEGEncoderAdapter.java"
          ],
          [
           "./src/main/java/org/jfree/chart/encoders/SunPNGEncoderAdapter.java"
          ],
          [
           "./src/main/java/org/jfree/chart/entity/AxisEntity.java"
          ],
          [
           "./src/main/java/org/jfree/chart/entity/CategoryItemEntity.java"
          ],
          [
           "./src/main/java/org/jfree/chart/entity/CategoryLabelEntity.java"
          ],
          [
           "./src/main/java/org/jfree/chart/entity/ChartEntity.java"
          ],
          [
           "./src/main/java/org/jfree/chart/entity/EntityCollection.java"
          ],
          [
           "./src/main/java/org/jfree/chart/entity/FlowEntity.java"
          ],
          [
           "./src/main/java/org/jfree/chart/entity/JFreeChartEntity.java"
          ],
          [
           "./src/main/java/org/jfree/chart/entity/LegendItemEntity.java"
          ],
          [
           "./src/main/java/org/jfree/chart/entity/NodeEntity.java"
          ],
          [
           "./src/main/java/org/jfree/chart/entity/PieSectionEntity.java"
          ],
          [
           "./src/main/java/org/jfree/chart/entity/PlotEntity.java"
          ],
          [
           "./src/main/java/org/jfree/chart/entity/StandardEntityCollection.java"
          ],
          [
           "./src/main/java/org/jfree/chart/entity/TickLabelEntity.java"
          ],
          [
           "./src/main/java/org/jfree/chart/entity/TitleEntity.java"
          ],
          [
           "./src/main/java/org/jfree/chart/entity/XYAnnotationEntity.java"
          ],
          [
           "./src/main/java/org/jfree/chart/entity/XYItemEntity.java"
          ],
          [
           "./src/main/java/org/jfree/chart/event/AnnotationChangeEvent.java"
          ],
          [
           "./src/main/java/org/jfree/chart/event/AnnotationChangeListener.java"
          ],
          [
           "./src/main/java/org/jfree/chart/event/AxisChangeEvent.java"
          ],
          [
           "./src/main/java/org/jfree/chart/event/AxisChangeListener.java"
          ],
          [
           "./src/main/java/org/jfree/chart/event/ChartChangeEvent.java"
          ],
          [
           "./src/main/java/org/jfree/chart/event/ChartChangeEventType.java"
          ],
          [
           "./src/main/java/org/jfree/chart/event/ChartChangeListener.java"
          ],
          [
           "./src/main/java/org/jfree/chart/event/ChartProgressEvent.java"
          ],
          [
           "./src/main/java/org/jfree/chart/event/ChartProgressEventType.java"
          ],
          [
           "./src/main/java/org/jfree/chart/event/ChartProgressListener.java"
          ],
          [
           "./src/main/java/org/jfree/chart/event/MarkerChangeEvent.java"
          ],
          [
           "./src/main/java/org/jfree/chart/event/MarkerChangeListener.java"
          ],
          [
           "./src/main/java/org/jfree/chart/event/PlotChangeEvent.java"
          ],
          [
           "./src/main/java/org/jfree/chart/event/PlotChangeListener.java"
          ],
          [
           "./src/main/java/org/jfree/chart/event/RendererChangeEvent.java"
          ],
          [
           "./src/main/java/org/jfree/chart/event/RendererChangeListener.java"
          ],
          [
           "./src/main/java/org/jfree/chart/event/TitleChangeEvent.java"
          ],
          [
           "./src/main/java/org/jfree/chart/event/TitleChangeListener.java"
          ],
          [
           "./src/main/java/org/jfree/chart/imagemap/DynamicDriveToolTipTagFragmentGenerator.java"
          ],
          [
           "./src/main/java/org/jfree/chart/imagemap/ImageMapUtils.java"
          ],
          [
           "./src/main/java/org/jfree/chart/imagemap/OverLIBToolTipTagFragmentGenerator.java"
          ],
          [
           "./src/main/java/org/jfree/chart/imagemap/StandardToolTipTagFragmentGenerator.java"
          ],
          [
           "./src/main/java/org/jfree/chart/imagemap/StandardURLTagFragmentGenerator.java"
          ],
          [
           "./src/main/java/org/jfree/chart/imagemap/ToolTipTagFragmentGenerator.java"
          ],
          [
           "./src/main/java/org/jfree/chart/imagemap/URLTagFragmentGenerator.java"
          ],
          [
           "./src/main/java/org/jfree/chart/internal/Args.java"
          ],
          [
           "./src/main/java/org/jfree/chart/internal/ArrayUtils.java"
          ],
          [
           "./src/main/java/org/jfree/chart/internal/CloneUtils.java"
          ],
          [
           "./src/main/java/org/jfree/chart/internal/HashUtils.java"
          ],
          [
           "./src/main/java/org/jfree/chart/internal/LineUtils.java"
          ],
          [
           "./src/main/java/org/jfree/chart/internal/PaintUtils.java"
          ],
          [
           "./src/main/java/org/jfree/chart/internal/SerialUtils.java"
          ],
          [
           "./src/main/java/org/jfree/chart/internal/ShapeUtils.java"
          ],
          [
           "./src/main/java/org/jfree/chart/JFreeChart.java"
          ],
          [
           "./src/main/java/org/jfree/chart/labels/AbstractCategoryItemLabelGenerator.java"
          ],
          [
           "./src/main/java/org/jfree/chart/labels/AbstractPieItemLabelGenerator.java"
          ],
          [
           "./src/main/java/org/jfree/chart/labels/AbstractXYItemLabelGenerator.java"
          ],
          [
           "./src/main/java/org/jfree/chart/labels/BoxAndWhiskerToolTipGenerator.java"
          ],
          [
           "./src/main/java/org/jfree/chart/labels/BoxAndWhiskerXYToolTipGenerator.java"
          ],
          [
           "./src/main/java/org/jfree/chart/labels/BubbleXYItemLabelGenerator.java"
          ],
          [
           "./src/main/java/org/jfree/chart/labels/CategoryItemLabelGenerator.java"
          ],
          [
           "./src/main/java/org/jfree/chart/labels/CategorySeriesLabelGenerator.java"
          ],
          [
           "./src/main/java/org/jfree/chart/labels/CategoryToolTipGenerator.java"
          ],
          [
           "./src/main/java/org/jfree/chart/labels/CrosshairLabelGenerator.java"
          ],
          [
           "./src/main/java/org/jfree/chart/labels/CustomXYToolTipGenerator.java"
          ],
          [
           "./src/main/java/org/jfree/chart/labels/FlowLabelGenerator.java"
          ],
          [
           "./src/main/java/org/jfree/chart/labels/HighLowItemLabelGenerator.java"
          ],
          [
           "./src/main/java/org/jfree/chart/labels/IntervalCategoryItemLabelGenerator.java"
          ],
          [
           "./src/main/java/org/jfree/chart/labels/IntervalCategoryToolTipGenerator.java"
          ],
          [
           "./src/main/java/org/jfree/chart/labels/IntervalXYItemLabelGenerator.java"
          ],
          [
           "./src/main/java/org/jfree/chart/labels/IntervalXYToolTipGenerator.java"
          ],
          [
           "./src/main/java/org/jfree/chart/labels/ItemLabelAnchor.java"
          ],
          [
           "./src/main/java/org/jfree/chart/labels/ItemLabelPosition.java"
          ],
          [
           "./src/main/java/org/jfree/chart/labels/MultipleXYSeriesLabelGenerator.java"
          ],
          [
           "./src/main/java/org/jfree/chart/labels/PieSectionLabelGenerator.java"
          ],
          [
           "./src/main/java/org/jfree/chart/labels/PieToolTipGenerator.java"
          ],
          [
           "./src/main/java/org/jfree/chart/labels/StandardCategoryItemLabelGenerator.java"
          ],
          [
           "./src/main/java/org/jfree/chart/labels/StandardCategorySeriesLabelGenerator.java"
          ],
          [
           "./src/main/java/org/jfree/chart/labels/StandardCategoryToolTipGenerator.java"
          ],
          [
           "./src/main/java/org/jfree/chart/labels/StandardCrosshairLabelGenerator.java"
          ],
          [
           "./src/main/java/org/jfree/chart/labels/StandardFlowLabelGenerator.java"
          ],
          [
           "./src/main/java/org/jfree/chart/labels/StandardPieSectionLabelGenerator.java"
          ],
          [
           "./src/main/java/org/jfree/chart/labels/StandardPieToolTipGenerator.java"
          ],
          [
           "./src/main/java/org/jfree/chart/labels/StandardXYItemLabelGenerator.java"
          ],
          [
           "./src/main/java/org/jfree/chart/labels/StandardXYSeriesLabelGenerator.java"
          ],
          [
           "./src/main/java/org/jfree/chart/labels/StandardXYToolTipGenerator.java"
          ],
          [
           "./src/main/java/org/jfree/chart/labels/StandardXYZToolTipGenerator.java"
          ],
          [
           "./src/main/java/org/jfree/chart/labels/SymbolicXYItemLabelGenerator.java"
          ],
          [
           "./src/main/java/org/jfree/chart/labels/XYItemLabelGenerator.java"
          ],
          [
           "./src/main/java/org/jfree/chart/labels/XYSeriesLabelGenerator.java"
          ],
          [
           "./src/main/java/org/jfree/chart/labels/XYToolTipGenerator.java"
          ],
          [
           "./src/main/java/org/jfree/chart/labels/XYZToolTipGenerator.java"
          ],
          [
           "./src/main/java/org/jfree/chart/legend/LegendGraphic.java"
          ],
          [
           "./src/main/java/org/jfree/chart/legend/LegendItem.java"
          ],
          [
           "./src/main/java/org/jfree/chart/legend/LegendItemBlockContainer.java"
          ],
          [
           "./src/main/java/org/jfree/chart/legend/LegendItemCollection.java"
          ],
          [
           "./src/main/java/org/jfree/chart/legend/LegendItemSource.java"
          ],
          [
           "./src/main/java/org/jfree/chart/legend/LegendRenderingOrder.java"
          ],
          [
           "./src/main/java/org/jfree/chart/legend/LegendTitle.java"
          ],
          [
           "./src/main/java/org/jfree/chart/legend/PaintScaleLegend.java"
          ],
          [
           "./src/main/java/org/jfree/chart/plot/CategoryCrosshairState.java"
          ],
          [
           "./src/main/java/org/jfree/chart/plot/CategoryMarker.java"
          ],
          [
           "./src/main/java/org/jfree/chart/plot/CategoryPlot.java"
          ],
          [
           "./src/main/java/org/jfree/chart/plot/CenterTextMode.java"
          ],
          [
           "./src/main/java/org/jfree/chart/plot/CombinedDomainCategoryPlot.java"
          ],
          [
           "./src/main/java/org/jfree/chart/plot/CombinedDomainXYPlot.java"
          ],
          [
           "./src/main/java/org/jfree/chart/plot/CombinedRangeCategoryPlot.java"
          ],
          [
           "./src/main/java/org/jfree/chart/plot/CombinedRangeXYPlot.java"
          ],
          [
           "./src/main/java/org/jfree/chart/plot/compass/ArrowNeedle.java"
          ],
          [
           "./src/main/java/org/jfree/chart/plot/compass/CompassPlot.java"
          ],
          [
           "./src/main/java/org/jfree/chart/plot/compass/LineNeedle.java"
          ],
          [
           "./src/main/java/org/jfree/chart/plot/compass/LongNeedle.java"
          ],
          [
           "./src/main/java/org/jfree/chart/plot/compass/MeterNeedle.java"
          ],
          [
           "./src/main/java/org/jfree/chart/plot/compass/MiddlePinNeedle.java"
          ],
          [
           "./src/main/java/org/jfree/chart/plot/compass/PinNeedle.java"
          ],
          [
           "./src/main/java/org/jfree/chart/plot/compass/PlumNeedle.java"
          ],
          [
           "./src/main/java/org/jfree/chart/plot/compass/PointerNeedle.java"
          ],
          [
           "./src/main/java/org/jfree/chart/plot/compass/ShipNeedle.java"
          ],
          [
           "./src/main/java/org/jfree/chart/plot/compass/WindNeedle.java"
          ],
          [
           "./src/main/java/org/jfree/chart/plot/Crosshair.java"
          ],
          [
           "./src/main/java/org/jfree/chart/plot/CrosshairState.java"
          ],
          [
           "./src/main/java/org/jfree/chart/plot/DatasetRenderingOrder.java"
          ],
          [
           "./src/main/java/org/jfree/chart/plot/DefaultDrawingSupplier.java"
          ],
          [
           "./src/main/java/org/jfree/chart/plot/dial/AbstractDialLayer.java"
          ],
          [
           "./src/main/java/org/jfree/chart/plot/dial/ArcDialFrame.java"
          ],
          [
           "./src/main/java/org/jfree/chart/plot/dial/DialBackground.java"
          ],
          [
           "./src/main/java/org/jfree/chart/plot/dial/DialCap.java"
          ],
          [
           "./src/main/java/org/jfree/chart/plot/dial/DialFrame.java"
          ],
          [
           "./src/main/java/org/jfree/chart/plot/dial/DialLayer.java"
          ],
          [
           "./src/main/java/org/jfree/chart/plot/dial/DialLayerChangeEvent.java"
          ],
          [
           "./src/main/java/org/jfree/chart/plot/dial/DialLayerChangeListener.java"
          ],
          [
           "./src/main/java/org/jfree/chart/plot/dial/DialPlot.java"
          ],
          [
           "./src/main/java/org/jfree/chart/plot/dial/DialPointer.java"
          ],
          [
           "./src/main/java/org/jfree/chart/plot/dial/DialScale.java"
          ],
          [
           "./src/main/java/org/jfree/chart/plot/dial/DialTextAnnotation.java"
          ],
          [
           "./src/main/java/org/jfree/chart/plot/dial/DialValueIndicator.java"
          ],
          [
           "./src/main/java/org/jfree/chart/plot/dial/StandardDialFrame.java"
          ],
          [
           "./src/main/java/org/jfree/chart/plot/dial/StandardDialRange.java"
          ],
          [
           "./src/main/java/org/jfree/chart/plot/dial/StandardDialScale.java"
          ],
          [
           "./src/main/java/org/jfree/chart/plot/DialShape.java"
          ],
          [
           "./src/main/java/org/jfree/chart/plot/DrawingSupplier.java"
          ],
          [
           "./src/main/java/org/jfree/chart/plot/FastScatterPlot.java"
          ],
          [
           "./src/main/java/org/jfree/chart/plot/flow/FlowPlot.java"
          ],
          [
           "./src/main/java/org/jfree/chart/plot/IntervalMarker.java"
          ],
          [
           "./src/main/java/org/jfree/chart/plot/Marker.java"
          ],
          [
           "./src/main/java/org/jfree/chart/plot/MeterInterval.java"
          ],
          [
           "./src/main/java/org/jfree/chart/plot/MeterPlot.java"
          ],
          [
           "./src/main/java/org/jfree/chart/plot/Pannable.java"
          ],
          [
           "./src/main/java/org/jfree/chart/plot/pie/AbstractPieLabelDistributor.java"
          ],
          [
           "./src/main/java/org/jfree/chart/plot/pie/MultiplePiePlot.java"
          ],
          [
           "./src/main/java/org/jfree/chart/plot/pie/PieLabelDistributor.java"
          ],
          [
           "./src/main/java/org/jfree/chart/plot/pie/PieLabelLinkStyle.java"
          ],
          [
           "./src/main/java/org/jfree/chart/plot/pie/PieLabelRecord.java"
          ],
          [
           "./src/main/java/org/jfree/chart/plot/pie/PiePlot.java"
          ],
          [
           "./src/main/java/org/jfree/chart/plot/pie/PiePlotState.java"
          ],
          [
           "./src/main/java/org/jfree/chart/plot/Plot.java"
          ],
          [
           "./src/main/java/org/jfree/chart/plot/PlotOrientation.java"
          ],
          [
           "./src/main/java/org/jfree/chart/plot/PlotRenderingInfo.java"
          ],
          [
           "./src/main/java/org/jfree/chart/plot/PlotState.java"
          ],
          [
           "./src/main/java/org/jfree/chart/plot/PolarAxisLocation.java"
          ],
          [
           "./src/main/java/org/jfree/chart/plot/PolarPlot.java"
          ],
          [
           "./src/main/java/org/jfree/chart/plot/RingPlot.java"
          ],
          [
           "./src/main/java/org/jfree/chart/plot/SeriesRenderingOrder.java"
          ],
          [
           "./src/main/java/org/jfree/chart/plot/SpiderWebPlot.java"
          ],
          [
           "./src/main/java/org/jfree/chart/plot/ThermometerPlot.java"
          ],
          [
           "./src/main/java/org/jfree/chart/plot/ValueAxisPlot.java"
          ],
          [
           "./src/main/java/org/jfree/chart/plot/ValueMarker.java"
          ],
          [
           "./src/main/java/org/jfree/chart/plot/WaferMapPlot.java"
          ],
          [
           "./src/main/java/org/jfree/chart/plot/XYCrosshairState.java"
          ],
          [
           "./src/main/java/org/jfree/chart/plot/XYPlot.java"
          ],
          [
           "./src/main/java/org/jfree/chart/plot/Zoomable.java"
          ],
          [
           "./src/main/java/org/jfree/chart/renderer/AbstractRenderer.java"
          ],
          [
           "./src/main/java/org/jfree/chart/renderer/AreaRendererEndType.java"
          ],
          [
           "./src/main/java/org/jfree/chart/renderer/category/AbstractCategoryItemRenderer.java"
          ],
          [
           "./src/main/java/org/jfree/chart/renderer/category/AreaRenderer.java"
          ],
          [
           "./src/main/java/org/jfree/chart/renderer/category/BarPainter.java"
          ],
          [
           "./src/main/java/org/jfree/chart/renderer/category/BarRenderer.java"
          ],
          [
           "./src/main/java/org/jfree/chart/renderer/category/BoxAndWhiskerRenderer.java"
          ],
          [
           "./src/main/java/org/jfree/chart/renderer/category/CategoryItemRenderer.java"
          ],
          [
           "./src/main/java/org/jfree/chart/renderer/category/CategoryItemRendererState.java"
          ],
          [
           "./src/main/java/org/jfree/chart/renderer/category/CategoryStepRenderer.java"
          ],
          [
           "./src/main/java/org/jfree/chart/renderer/category/DefaultCategoryItemRenderer.java"
          ],
          [
           "./src/main/java/org/jfree/chart/renderer/category/GanttRenderer.java"
          ],
          [
           "./src/main/java/org/jfree/chart/renderer/category/GradientBarPainter.java"
          ],
          [
           "./src/main/java/org/jfree/chart/renderer/category/GroupedStackedBarRenderer.java"
          ],
          [
           "./src/main/java/org/jfree/chart/renderer/category/IntervalBarRenderer.java"
          ],
          [
           "./src/main/java/org/jfree/chart/renderer/category/LayeredBarRenderer.java"
          ],
          [
           "./src/main/java/org/jfree/chart/renderer/category/LevelRenderer.java"
          ],
          [
           "./src/main/java/org/jfree/chart/renderer/category/LineAndShapeRenderer.java"
          ],
          [
           "./src/main/java/org/jfree/chart/renderer/category/MinMaxCategoryRenderer.java"
          ],
          [
           "./src/main/java/org/jfree/chart/renderer/category/ScatterRenderer.java"
          ],
          [
           "./src/main/java/org/jfree/chart/renderer/category/StackedAreaRenderer.java"
          ],
          [
           "./src/main/java/org/jfree/chart/renderer/category/StackedBarRenderer.java"
          ],
          [
           "./src/main/java/org/jfree/chart/renderer/category/StandardBarPainter.java"
          ],
          [
           "./src/main/java/org/jfree/chart/renderer/category/StatisticalBarRenderer.java"
          ],
          [
           "./src/main/java/org/jfree/chart/renderer/category/StatisticalLineAndShapeRenderer.java"
          ],
          [
           "./src/main/java/org/jfree/chart/renderer/category/WaterfallBarRenderer.java"
          ],
          [
           "./src/main/java/org/jfree/chart/renderer/DefaultPolarItemRenderer.java"
          ],
          [
           "./src/main/java/org/jfree/chart/renderer/GrayPaintScale.java"
          ],
          [
           "./src/main/java/org/jfree/chart/renderer/LookupPaintScale.java"
          ],
          [
           "./src/main/java/org/jfree/chart/renderer/NotOutlierException.java"
          ],
          [
           "./src/main/java/org/jfree/chart/renderer/Outlier.java"
          ],
          [
           "./src/main/java/org/jfree/chart/renderer/OutlierList.java"
          ],
          [
           "./src/main/java/org/jfree/chart/renderer/OutlierListCollection.java"
          ],
          [
           "./src/main/java/org/jfree/chart/renderer/PaintScale.java"
          ],
          [
           "./src/main/java/org/jfree/chart/renderer/PolarItemRenderer.java"
          ],
          [
           "./src/main/java/org/jfree/chart/renderer/RendererState.java"
          ],
          [
           "./src/main/java/org/jfree/chart/renderer/RendererUtils.java"
          ],
          [
           "./src/main/java/org/jfree/chart/renderer/WaferMapRenderer.java"
          ],
          [
           "./src/main/java/org/jfree/chart/renderer/xy/AbstractXYItemRenderer.java"
          ],
          [
           "./src/main/java/org/jfree/chart/renderer/xy/CandlestickRenderer.java"
          ],
          [
           "./src/main/java/org/jfree/chart/renderer/xy/ClusteredXYBarRenderer.java"
          ],
          [
           "./src/main/java/org/jfree/chart/renderer/xy/CyclicXYItemRenderer.java"
          ],
          [
           "./src/main/java/org/jfree/chart/renderer/xy/DefaultXYItemRenderer.java"
          ],
          [
           "./src/main/java/org/jfree/chart/renderer/xy/DeviationRenderer.java"
          ],
          [
           "./src/main/java/org/jfree/chart/renderer/xy/DeviationStepRenderer.java"
          ],
          [
           "./src/main/java/org/jfree/chart/renderer/xy/GradientXYBarPainter.java"
          ],
          [
           "./src/main/java/org/jfree/chart/renderer/xy/HighLowRenderer.java"
          ],
          [
           "./src/main/java/org/jfree/chart/renderer/xy/SamplingXYLineRenderer.java"
          ],
          [
           "./src/main/java/org/jfree/chart/renderer/xy/StackedXYAreaRenderer.java"
          ],
          [
           "./src/main/java/org/jfree/chart/renderer/xy/StackedXYAreaRenderer2.java"
          ],
          [
           "./src/main/java/org/jfree/chart/renderer/xy/StackedXYBarRenderer.java"
          ],
          [
           "./src/main/java/org/jfree/chart/renderer/xy/StandardXYBarPainter.java"
          ],
          [
           "./src/main/java/org/jfree/chart/renderer/xy/StandardXYItemRenderer.java"
          ],
          [
           "./src/main/java/org/jfree/chart/renderer/xy/VectorRenderer.java"
          ],
          [
           "./src/main/java/org/jfree/chart/renderer/xy/WindItemRenderer.java"
          ],
          [
           "./src/main/java/org/jfree/chart/renderer/xy/XYAreaRenderer.java"
          ],
          [
           "./src/main/java/org/jfree/chart/renderer/xy/XYAreaRenderer2.java"
          ],
          [
           "./src/main/java/org/jfree/chart/renderer/xy/XYBarPainter.java"
          ],
          [
           "./src/main/java/org/jfree/chart/renderer/xy/XYBarRenderer.java"
          ],
          [
           "./src/main/java/org/jfree/chart/renderer/xy/XYBlockRenderer.java"
          ],
          [
           "./src/main/java/org/jfree/chart/renderer/xy/XYBoxAndWhiskerRenderer.java"
          ],
          [
           "./src/main/java/org/jfree/chart/renderer/xy/XYBubbleRenderer.java"
          ],
          [
           "./src/main/java/org/jfree/chart/renderer/xy/XYDifferenceRenderer.java"
          ],
          [
           "./src/main/java/org/jfree/chart/renderer/xy/XYDotRenderer.java"
          ],
          [
           "./src/main/java/org/jfree/chart/renderer/xy/XYErrorRenderer.java"
          ],
          [
           "./src/main/java/org/jfree/chart/renderer/xy/XYItemRenderer.java"
          ],
          [
           "./src/main/java/org/jfree/chart/renderer/xy/XYItemRendererState.java"
          ],
          [
           "./src/main/java/org/jfree/chart/renderer/xy/XYLineAndShapeRenderer.java"
          ],
          [
           "./src/main/java/org/jfree/chart/renderer/xy/XYShapeRenderer.java"
          ],
          [
           "./src/main/java/org/jfree/chart/renderer/xy/XYSplineRenderer.java"
          ],
          [
           "./src/main/java/org/jfree/chart/renderer/xy/XYStepAreaRenderer.java"
          ],
          [
           "./src/main/java/org/jfree/chart/renderer/xy/XYStepRenderer.java"
          ],
          [
           "./src/main/java/org/jfree/chart/renderer/xy/YIntervalRenderer.java"
          ],
          [
           "./src/main/java/org/jfree/chart/StandardChartTheme.java"
          ],
          [
           "./src/main/java/org/jfree/chart/swing/AbstractOverlay.java"
          ],
          [
           "./src/main/java/org/jfree/chart/swing/ApplicationFrame.java"
          ],
          [
           "./src/main/java/org/jfree/chart/swing/ChartFrame.java"
          ],
          [
           "./src/main/java/org/jfree/chart/swing/ChartMouseEvent.java"
          ],
          [
           "./src/main/java/org/jfree/chart/swing/ChartMouseListener.java"
          ],
          [
           "./src/main/java/org/jfree/chart/swing/ChartPanel.java"
          ],
          [
           "./src/main/java/org/jfree/chart/swing/CrosshairOverlay.java"
          ],
          [
           "./src/main/java/org/jfree/chart/swing/DefaultSelectionZoomStrategy.java"
          ],
          [
           "./src/main/java/org/jfree/chart/swing/editor/ChartEditor.java"
          ],
          [
           "./src/main/java/org/jfree/chart/swing/editor/ChartEditorFactory.java"
          ],
          [
           "./src/main/java/org/jfree/chart/swing/editor/ChartEditorManager.java"
          ],
          [
           "./src/main/java/org/jfree/chart/swing/editor/DefaultAxisEditor.java"
          ],
          [
           "./src/main/java/org/jfree/chart/swing/editor/DefaultChartEditor.java"
          ],
          [
           "./src/main/java/org/jfree/chart/swing/editor/DefaultChartEditorFactory.java"
          ],
          [
           "./src/main/java/org/jfree/chart/swing/editor/DefaultLogAxisEditor.java"
          ],
          [
           "./src/main/java/org/jfree/chart/swing/editor/DefaultNumberAxisEditor.java"
          ],
          [
           "./src/main/java/org/jfree/chart/swing/editor/DefaultPlotEditor.java"
          ],
          [
           "./src/main/java/org/jfree/chart/swing/editor/DefaultPolarPlotEditor.java"
          ],
          [
           "./src/main/java/org/jfree/chart/swing/editor/DefaultTitleEditor.java"
          ],
          [
           "./src/main/java/org/jfree/chart/swing/editor/DefaultValueAxisEditor.java"
          ],
          [
           "./src/main/java/org/jfree/chart/swing/editor/FontChooserPanel.java"
          ],
          [
           "./src/main/java/org/jfree/chart/swing/editor/FontDisplayField.java"
          ],
          [
           "./src/main/java/org/jfree/chart/swing/editor/LCBLayout.java"
          ],
          [
           "./src/main/java/org/jfree/chart/swing/editor/PaintSample.java"
          ],
          [
           "./src/main/java/org/jfree/chart/swing/editor/StrokeChooserPanel.java"
          ],
          [
           "./src/main/java/org/jfree/chart/swing/editor/StrokeSample.java"
          ],
          [
           "./src/main/java/org/jfree/chart/swing/MouseWheelHandler.java"
          ],
          [
           "./src/main/java/org/jfree/chart/swing/NumberCellRenderer.java"
          ],
          [
           "./src/main/java/org/jfree/chart/swing/Overlay.java"
          ],
          [
           "./src/main/java/org/jfree/chart/swing/OverlayChangeEvent.java"
          ],
          [
           "./src/main/java/org/jfree/chart/swing/OverlayChangeListener.java"
          ],
          [
           "./src/main/java/org/jfree/chart/swing/PolarChartPanel.java"
          ],
          [
           "./src/main/java/org/jfree/chart/swing/SelectionZoomStrategy.java"
          ],
          [
           "./src/main/java/org/jfree/chart/swing/UIUtils.java"
          ],
          [
           "./src/main/java/org/jfree/chart/text/AttributedStringUtils.java"
          ],
          [
           "./src/main/java/org/jfree/chart/text/format/HexNumberFormat.java"
          ],
          [
           "./src/main/java/org/jfree/chart/text/format/HMSNumberFormat.java"
          ],
          [
           "./src/main/java/org/jfree/chart/text/format/LogFormat.java"
          ],
          [
           "./src/main/java/org/jfree/chart/text/format/RelativeDateFormat.java"
          ],
          [
           "./src/main/java/org/jfree/chart/text/G2TextMeasurer.java"
          ],
          [
           "./src/main/java/org/jfree/chart/text/TextAnchor.java"
          ],
          [
           "./src/main/java/org/jfree/chart/text/TextBlock.java"
          ],
          [
           "./src/main/java/org/jfree/chart/text/TextBlockAnchor.java"
          ],
          [
           "./src/main/java/org/jfree/chart/text/TextBox.java"
          ],
          [
           "./src/main/java/org/jfree/chart/text/TextFragment.java"
          ],
          [
           "./src/main/java/org/jfree/chart/text/TextLine.java"
          ],
          [
           "./src/main/java/org/jfree/chart/text/TextMeasurer.java"
          ],
          [
           "./src/main/java/org/jfree/chart/text/TextUtils.java"
          ],
          [
           "./src/main/java/org/jfree/chart/title/CompositeTitle.java"
          ],
          [
           "./src/main/java/org/jfree/chart/title/DateTitle.java"
          ],
          [
           "./src/main/java/org/jfree/chart/title/ImageTitle.java"
          ],
          [
           "./src/main/java/org/jfree/chart/title/ShortTextTitle.java"
          ],
          [
           "./src/main/java/org/jfree/chart/title/TextTitle.java"
          ],
          [
           "./src/main/java/org/jfree/chart/title/Title.java"
          ],
          [
           "./src/main/java/org/jfree/chart/urls/CategoryURLGenerator.java"
          ],
          [
           "./src/main/java/org/jfree/chart/urls/CustomCategoryURLGenerator.java"
          ],
          [
           "./src/main/java/org/jfree/chart/urls/CustomPieURLGenerator.java"
          ],
          [
           "./src/main/java/org/jfree/chart/urls/CustomXYURLGenerator.java"
          ],
          [
           "./src/main/java/org/jfree/chart/urls/PieURLGenerator.java"
          ],
          [
           "./src/main/java/org/jfree/chart/urls/StandardCategoryURLGenerator.java"
          ],
          [
           "./src/main/java/org/jfree/chart/urls/StandardPieURLGenerator.java"
          ],
          [
           "./src/main/java/org/jfree/chart/urls/StandardXYURLGenerator.java"
          ],
          [
           "./src/main/java/org/jfree/chart/urls/StandardXYZURLGenerator.java"
          ],
          [
           "./src/main/java/org/jfree/chart/urls/TimeSeriesURLGenerator.java"
          ],
          [
           "./src/main/java/org/jfree/chart/urls/XYURLGenerator.java"
          ],
          [
           "./src/main/java/org/jfree/chart/urls/XYZURLGenerator.java"
          ],
          [
           "./src/main/java/org/jfree/chart/util/AttrStringUtils.java"
          ],
          [
           "./src/main/java/org/jfree/chart/util/DefaultShadowGenerator.java"
          ],
          [
           "./src/main/java/org/jfree/chart/util/DirectionalGradientPaintTransformer.java"
          ],
          [
           "./src/main/java/org/jfree/chart/util/ExportUtils.java"
          ],
          [
           "./src/main/java/org/jfree/chart/util/GradientPaintTransformer.java"
          ],
          [
           "./src/main/java/org/jfree/chart/util/GradientPaintTransformType.java"
          ],
          [
           "./src/main/java/org/jfree/chart/util/PaintAlpha.java"
          ],
          [
           "./src/main/java/org/jfree/chart/util/ShadowGenerator.java"
          ],
          [
           "./src/main/java/org/jfree/chart/util/StandardGradientPaintTransformer.java"
          ],
          [
           "./src/main/java/org/jfree/chart/util/StringUtils.java"
          ],
          [
           "./src/main/java/org/jfree/data/category/CategoryDataset.java"
          ],
          [
           "./src/main/java/org/jfree/data/category/CategoryRangeInfo.java"
          ],
          [
           "./src/main/java/org/jfree/data/category/CategoryToPieDataset.java"
          ],
          [
           "./src/main/java/org/jfree/data/category/DefaultCategoryDataset.java"
          ],
          [
           "./src/main/java/org/jfree/data/category/DefaultIntervalCategoryDataset.java"
          ],
          [
           "./src/main/java/org/jfree/data/category/IntervalCategoryDataset.java"
          ],
          [
           "./src/main/java/org/jfree/data/category/SlidingCategoryDataset.java"
          ],
          [
           "./src/main/java/org/jfree/data/ComparableObjectItem.java"
          ],
          [
           "./src/main/java/org/jfree/data/ComparableObjectSeries.java"
          ],
          [
           "./src/main/java/org/jfree/data/DataUtils.java"
          ],
          [
           "./src/main/java/org/jfree/data/DefaultKeyedValue.java"
          ],
          [
           "./src/main/java/org/jfree/data/DefaultKeyedValues.java"
          ],
          [
           "./src/main/java/org/jfree/data/DefaultKeyedValues2D.java"
          ],
          [
           "./src/main/java/org/jfree/data/DomainInfo.java"
          ],
          [
           "./src/main/java/org/jfree/data/DomainOrder.java"
          ],
          [
           "./src/main/java/org/jfree/data/flow/DefaultFlowDataset.java"
          ],
          [
           "./src/main/java/org/jfree/data/flow/FlowDataset.java"
          ],
          [
           "./src/main/java/org/jfree/data/flow/FlowDatasetUtils.java"
          ],
          [
           "./src/main/java/org/jfree/data/flow/FlowKey.java"
          ],
          [
           "./src/main/java/org/jfree/data/flow/NodeKey.java"
          ],
          [
           "./src/main/java/org/jfree/data/function/Function2D.java"
          ],
          [
           "./src/main/java/org/jfree/data/function/LineFunction2D.java"
          ],
          [
           "./src/main/java/org/jfree/data/function/NormalDistributionFunction2D.java"
          ],
          [
           "./src/main/java/org/jfree/data/function/PolynomialFunction2D.java"
          ],
          [
           "./src/main/java/org/jfree/data/function/PowerFunction2D.java"
          ],
          [
           "./src/main/java/org/jfree/data/gantt/GanttCategoryDataset.java"
          ],
          [
           "./src/main/java/org/jfree/data/gantt/SlidingGanttCategoryDataset.java"
          ],
          [
           "./src/main/java/org/jfree/data/gantt/Task.java"
          ],
          [
           "./src/main/java/org/jfree/data/gantt/TaskSeries.java"
          ],
          [
           "./src/main/java/org/jfree/data/gantt/TaskSeriesCollection.java"
          ],
          [
           "./src/main/java/org/jfree/data/gantt/XYTaskDataset.java"
          ],
          [
           "./src/main/java/org/jfree/data/general/AbstractDataset.java"
          ],
          [
           "./src/main/java/org/jfree/data/general/AbstractSeriesDataset.java"
          ],
          [
           "./src/main/java/org/jfree/data/general/Dataset.java"
          ],
          [
           "./src/main/java/org/jfree/data/general/DatasetChangeEvent.java"
          ],
          [
           "./src/main/java/org/jfree/data/general/DatasetChangeListener.java"
          ],
          [
           "./src/main/java/org/jfree/data/general/DatasetUtils.java"
          ],
          [
           "./src/main/java/org/jfree/data/general/DefaultHeatMapDataset.java"
          ],
          [
           "./src/main/java/org/jfree/data/general/DefaultKeyedValueDataset.java"
          ],
          [
           "./src/main/java/org/jfree/data/general/DefaultKeyedValues2DDataset.java"
          ],
          [
           "./src/main/java/org/jfree/data/general/DefaultKeyedValuesDataset.java"
          ],
          [
           "./src/main/java/org/jfree/data/general/DefaultPieDataset.java"
          ],
          [
           "./src/main/java/org/jfree/data/general/DefaultValueDataset.java"
          ],
          [
           "./src/main/java/org/jfree/data/general/HeatMapDataset.java"
          ],
          [
           "./src/main/java/org/jfree/data/general/HeatMapUtils.java"
          ],
          [
           "./src/main/java/org/jfree/data/general/KeyedValueDataset.java"
          ],
          [
           "./src/main/java/org/jfree/data/general/KeyedValues2DDataset.java"
          ],
          [
           "./src/main/java/org/jfree/data/general/KeyedValuesDataset.java"
          ],
          [
           "./src/main/java/org/jfree/data/general/PieDataset.java"
          ],
          [
           "./src/main/java/org/jfree/data/general/Series.java"
          ],
          [
           "./src/main/java/org/jfree/data/general/SeriesChangeEvent.java"
          ],
          [
           "./src/main/java/org/jfree/data/general/SeriesChangeListener.java"
          ],
          [
           "./src/main/java/org/jfree/data/general/SeriesDataset.java"
          ],
          [
           "./src/main/java/org/jfree/data/general/SeriesException.java"
          ],
          [
           "./src/main/java/org/jfree/data/general/ValueDataset.java"
          ],
          [
           "./src/main/java/org/jfree/data/general/WaferMapDataset.java"
          ],
          [
           "./src/main/java/org/jfree/data/io/CSV.java"
          ],
          [
           "./src/main/java/org/jfree/data/ItemKey.java"
          ],
          [
           "./src/main/java/org/jfree/data/json/impl/JSONArray.java"
          ],
          [
           "./src/main/java/org/jfree/data/json/impl/JSONAware.java"
          ],
          [
           "./src/main/java/org/jfree/data/json/impl/JSONObject.java"
          ],
          [
           "./src/main/java/org/jfree/data/json/impl/JSONStreamAware.java"
          ],
          [
           "./src/main/java/org/jfree/data/json/impl/JSONValue.java"
          ],
          [
           "./src/main/java/org/jfree/data/json/JSONUtils.java"
          ],
          [
           "./src/main/java/org/jfree/data/KeyedObject.java"
          ],
          [
           "./src/main/java/org/jfree/data/KeyedObjects.java"
          ],
          [
           "./src/main/java/org/jfree/data/KeyedObjects2D.java"
          ],
          [
           "./src/main/java/org/jfree/data/KeyedValue.java"
          ],
          [
           "./src/main/java/org/jfree/data/KeyedValueComparator.java"
          ],
          [
           "./src/main/java/org/jfree/data/KeyedValueComparatorType.java"
          ],
          [
           "./src/main/java/org/jfree/data/KeyedValues.java"
          ],
          [
           "./src/main/java/org/jfree/data/KeyedValues2D.java"
          ],
          [
           "./src/main/java/org/jfree/data/KeyedValues2DItemKey.java"
          ],
          [
           "./src/main/java/org/jfree/data/KeyedValuesItemKey.java"
          ],
          [
           "./src/main/java/org/jfree/data/KeyToGroupMap.java"
          ],
          [
           "./src/main/java/org/jfree/data/Range.java"
          ],
          [
           "./src/main/java/org/jfree/data/RangeInfo.java"
          ],
          [
           "./src/main/java/org/jfree/data/RangeType.java"
          ],
          [
           "./src/main/java/org/jfree/data/resources/DataPackageResources.java"
          ],
          [
           "./src/main/java/org/jfree/data/resources/DataPackageResources_de.java"
          ],
          [
           "./src/main/java/org/jfree/data/resources/DataPackageResources_es.java"
          ],
          [
           "./src/main/java/org/jfree/data/resources/DataPackageResources_fr.java"
          ],
          [
           "./src/main/java/org/jfree/data/resources/DataPackageResources_pl.java"
          ],
          [
           "./src/main/java/org/jfree/data/resources/DataPackageResources_ru.java"
          ],
          [
           "./src/main/java/org/jfree/data/statistics/BoxAndWhiskerCalculator.java"
          ],
          [
           "./src/main/java/org/jfree/data/statistics/BoxAndWhiskerCategoryDataset.java"
          ],
          [
           "./src/main/java/org/jfree/data/statistics/BoxAndWhiskerItem.java"
          ],
          [
           "./src/main/java/org/jfree/data/statistics/BoxAndWhiskerXYDataset.java"
          ],
          [
           "./src/main/java/org/jfree/data/statistics/DefaultBoxAndWhiskerCategoryDataset.java"
          ],
          [
           "./src/main/java/org/jfree/data/statistics/DefaultBoxAndWhiskerXYDataset.java"
          ],
          [
           "./src/main/java/org/jfree/data/statistics/DefaultMultiValueCategoryDataset.java"
          ],
          [
           "./src/main/java/org/jfree/data/statistics/DefaultStatisticalCategoryDataset.java"
          ],
          [
           "./src/main/java/org/jfree/data/statistics/HistogramBin.java"
          ],
          [
           "./src/main/java/org/jfree/data/statistics/HistogramDataset.java"
          ],
          [
           "./src/main/java/org/jfree/data/statistics/HistogramType.java"
          ],
          [
           "./src/main/java/org/jfree/data/statistics/MeanAndStandardDeviation.java"
          ],
          [
           "./src/main/java/org/jfree/data/statistics/MultiValueCategoryDataset.java"
          ],
          [
           "./src/main/java/org/jfree/data/statistics/Regression.java"
          ],
          [
           "./src/main/java/org/jfree/data/statistics/SimpleHistogramBin.java"
          ],
          [
           "./src/main/java/org/jfree/data/statistics/SimpleHistogramDataset.java"
          ],
          [
           "./src/main/java/org/jfree/data/statistics/StatisticalCategoryDataset.java"
          ],
          [
           "./src/main/java/org/jfree/data/statistics/Statistics.java"
          ],
          [
           "./src/main/java/org/jfree/data/time/DateRange.java"
          ],
          [
           "./src/main/java/org/jfree/data/time/Day.java"
          ],
          [
           "./src/main/java/org/jfree/data/time/DynamicTimeSeriesCollection.java"
          ],
          [
           "./src/main/java/org/jfree/data/time/FixedMillisecond.java"
          ],
          [
           "./src/main/java/org/jfree/data/time/Hour.java"
          ],
          [
           "./src/main/java/org/jfree/data/time/Millisecond.java"
          ],
          [
           "./src/main/java/org/jfree/data/time/Minute.java"
          ],
          [
           "./src/main/java/org/jfree/data/time/Month.java"
          ],
          [
           "./src/main/java/org/jfree/data/time/MovingAverage.java"
          ],
          [
           "./src/main/java/org/jfree/data/time/ohlc/OHLC.java"
          ],
          [
           "./src/main/java/org/jfree/data/time/ohlc/OHLCItem.java"
          ],
          [
           "./src/main/java/org/jfree/data/time/ohlc/OHLCSeries.java"
          ],
          [
           "./src/main/java/org/jfree/data/time/ohlc/OHLCSeriesCollection.java"
          ],
          [
           "./src/main/java/org/jfree/data/time/Quarter.java"
          ],
          [
           "./src/main/java/org/jfree/data/time/RegularTimePeriod.java"
          ],
          [
           "./src/main/java/org/jfree/data/time/Second.java"
          ],
          [
           "./src/main/java/org/jfree/data/time/SimpleTimePeriod.java"
          ],
          [
           "./src/main/java/org/jfree/data/time/TimePeriod.java"
          ],
          [
           "./src/main/java/org/jfree/data/time/TimePeriodAnchor.java"
          ],
          [
           "./src/main/java/org/jfree/data/time/TimePeriodFormatException.java"
          ],
          [
           "./src/main/java/org/jfree/data/time/TimePeriodValue.java"
          ],
          [
           "./src/main/java/org/jfree/data/time/TimePeriodValues.java"
          ],
          [
           "./src/main/java/org/jfree/data/time/TimePeriodValuesCollection.java"
          ],
          [
           "./src/main/java/org/jfree/data/time/TimeSeries.java"
          ],
          [
           "./src/main/java/org/jfree/data/time/TimeSeriesCollection.java"
          ],
          [
           "./src/main/java/org/jfree/data/time/TimeSeriesDataItem.java"
          ],
          [
           "./src/main/java/org/jfree/data/time/TimeSeriesTableModel.java"
          ],
          [
           "./src/main/java/org/jfree/data/time/TimeTableXYDataset.java"
          ],
          [
           "./src/main/java/org/jfree/data/time/Week.java"
          ],
          [
           "./src/main/java/org/jfree/data/time/Year.java"
          ],
          [
           "./src/main/java/org/jfree/data/UnknownKeyException.java"
          ],
          [
           "./src/main/java/org/jfree/data/Value.java"
          ],
          [
           "./src/main/java/org/jfree/data/Values.java"
          ],
          [
           "./src/main/java/org/jfree/data/Values2D.java"
          ],
          [
           "./src/main/java/org/jfree/data/xml/CategoryDatasetHandler.java"
          ],
          [
           "./src/main/java/org/jfree/data/xml/CategorySeriesHandler.java"
          ],
          [
           "./src/main/java/org/jfree/data/xml/DatasetReader.java"
          ],
          [
           "./src/main/java/org/jfree/data/xml/DatasetTags.java"
          ],
          [
           "./src/main/java/org/jfree/data/xml/ItemHandler.java"
          ],
          [
           "./src/main/java/org/jfree/data/xml/KeyHandler.java"
          ],
          [
           "./src/main/java/org/jfree/data/xml/PieDatasetHandler.java"
          ],
          [
           "./src/main/java/org/jfree/data/xml/RootHandler.java"
          ],
          [
           "./src/main/java/org/jfree/data/xml/ValueHandler.java"
          ],
          [
           "./src/main/java/org/jfree/data/xy/AbstractIntervalXYDataset.java"
          ],
          [
           "./src/main/java/org/jfree/data/xy/AbstractXYDataset.java"
          ],
          [
           "./src/main/java/org/jfree/data/xy/AbstractXYZDataset.java"
          ],
          [
           "./src/main/java/org/jfree/data/xy/CategoryTableXYDataset.java"
          ],
          [
           "./src/main/java/org/jfree/data/xy/DefaultHighLowDataset.java"
          ],
          [
           "./src/main/java/org/jfree/data/xy/DefaultIntervalXYDataset.java"
          ],
          [
           "./src/main/java/org/jfree/data/xy/DefaultOHLCDataset.java"
          ],
          [
           "./src/main/java/org/jfree/data/xy/DefaultTableXYDataset.java"
          ],
          [
           "./src/main/java/org/jfree/data/xy/DefaultWindDataset.java"
          ],
          [
           "./src/main/java/org/jfree/data/xy/DefaultXYDataset.java"
          ],
          [
           "./src/main/java/org/jfree/data/xy/DefaultXYZDataset.java"
          ],
          [
           "./src/main/java/org/jfree/data/xy/IntervalXYDataset.java"
          ],
          [
           "./src/main/java/org/jfree/data/xy/IntervalXYDelegate.java"
          ],
          [
           "./src/main/java/org/jfree/data/xy/IntervalXYZDataset.java"
          ],
          [
           "./src/main/java/org/jfree/data/xy/MatrixSeries.java"
          ],
          [
           "./src/main/java/org/jfree/data/xy/MatrixSeriesCollection.java"
          ],
          [
           "./src/main/java/org/jfree/data/xy/NormalizedMatrixSeries.java"
          ],
          [
           "./src/main/java/org/jfree/data/xy/OHLCDataItem.java"
          ],
          [
           "./src/main/java/org/jfree/data/xy/OHLCDataset.java"
          ],
          [
           "./src/main/java/org/jfree/data/xy/TableXYDataset.java"
          ],
          [
           "./src/main/java/org/jfree/data/xy/Vector.java"
          ],
          [
           "./src/main/java/org/jfree/data/xy/VectorDataItem.java"
          ],
          [
           "./src/main/java/org/jfree/data/xy/VectorSeries.java"
          ],
          [
           "./src/main/java/org/jfree/data/xy/VectorSeriesCollection.java"
          ],
          [
           "./src/main/java/org/jfree/data/xy/VectorXYDataset.java"
          ],
          [
           "./src/main/java/org/jfree/data/xy/WindDataset.java"
          ],
          [
           "./src/main/java/org/jfree/data/xy/XIntervalDataItem.java"
          ],
          [
           "./src/main/java/org/jfree/data/xy/XIntervalSeries.java"
          ],
          [
           "./src/main/java/org/jfree/data/xy/XIntervalSeriesCollection.java"
          ],
          [
           "./src/main/java/org/jfree/data/xy/XisSymbolic.java"
          ],
          [
           "./src/main/java/org/jfree/data/xy/XYBarDataset.java"
          ],
          [
           "./src/main/java/org/jfree/data/xy/XYCoordinate.java"
          ],
          [
           "./src/main/java/org/jfree/data/xy/XYDataItem.java"
          ],
          [
           "./src/main/java/org/jfree/data/xy/XYDataset.java"
          ],
          [
           "./src/main/java/org/jfree/data/xy/XYDatasetTableModel.java"
          ],
          [
           "./src/main/java/org/jfree/data/xy/XYDomainInfo.java"
          ],
          [
           "./src/main/java/org/jfree/data/xy/XYInterval.java"
          ],
          [
           "./src/main/java/org/jfree/data/xy/XYIntervalDataItem.java"
          ],
          [
           "./src/main/java/org/jfree/data/xy/XYIntervalSeries.java"
          ],
          [
           "./src/main/java/org/jfree/data/xy/XYIntervalSeriesCollection.java"
          ],
          [
           "./src/main/java/org/jfree/data/xy/XYItemKey.java"
          ],
          [
           "./src/main/java/org/jfree/data/xy/XYRangeInfo.java"
          ],
          [
           "./src/main/java/org/jfree/data/xy/XYSeries.java"
          ],
          [
           "./src/main/java/org/jfree/data/xy/XYSeriesCollection.java"
          ],
          [
           "./src/main/java/org/jfree/data/xy/XYZDataset.java"
          ],
          [
           "./src/main/java/org/jfree/data/xy/YInterval.java"
          ],
          [
           "./src/main/java/org/jfree/data/xy/YIntervalDataItem.java"
          ],
          [
           "./src/main/java/org/jfree/data/xy/YIntervalSeries.java"
          ],
          [
           "./src/main/java/org/jfree/data/xy/YIntervalSeriesCollection.java"
          ],
          [
           "./src/main/java/org/jfree/data/xy/YisSymbolic.java"
          ],
          [
           "./src/main/java/org/jfree/data/xy/YWithXInterval.java"
          ]
         ],
         "hovertemplate": "WMC=%{y}<br>class=%{customdata[0]}<extra></extra>",
         "legendgroup": "",
         "marker": {
          "color": "#636efa"
         },
         "name": "",
         "notched": false,
         "offsetgroup": "",
         "orientation": "v",
         "showlegend": false,
         "type": "box",
         "x0": " ",
         "xaxis": "x",
         "y": [
          36,
          25,
          12,
          7,
          38,
          29,
          17,
          27,
          8,
          8,
          37,
          38,
          31,
          30,
          45,
          30,
          31,
          35,
          50,
          38,
          6,
          7,
          7,
          9,
          7,
          9,
          9,
          41,
          9,
          6,
          7,
          6,
          6,
          7,
          181,
          10,
          6,
          6,
          45,
          16,
          6,
          149,
          18,
          27,
          7,
          14,
          27,
          107,
          207,
          11,
          6,
          51,
          7,
          30,
          176,
          130,
          9,
          22,
          39,
          41,
          166,
          6,
          28,
          41,
          127,
          32,
          27,
          12,
          53,
          85,
          17,
          6,
          20,
          21,
          9,
          25,
          197,
          11,
          58,
          10,
          10,
          24,
          28,
          7,
          7,
          7,
          85,
          35,
          15,
          48,
          9,
          8,
          6,
          51,
          49,
          31,
          6,
          23,
          24,
          16,
          6,
          7,
          7,
          300,
          11,
          33,
          6,
          29,
          102,
          19,
          142,
          64,
          7,
          59,
          12,
          45,
          10,
          16,
          12,
          23,
          16,
          13,
          54,
          9,
          12,
          22,
          19,
          7,
          15,
          22,
          19,
          7,
          23,
          12,
          13,
          7,
          8,
          7,
          10,
          7,
          6,
          8,
          7,
          6,
          8,
          7,
          8,
          7,
          8,
          8,
          8,
          7,
          8,
          11,
          38,
          7,
          8,
          8,
          9,
          9,
          22,
          36,
          27,
          13,
          25,
          31,
          80,
          61,
          198,
          61,
          43,
          84,
          27,
          28,
          54,
          14,
          11,
          9,
          8,
          22,
          9,
          39,
          33,
          36,
          66,
          66,
          6,
          15,
          42,
          12,
          9,
          33,
          26,
          25,
          22,
          16,
          38,
          25,
          48,
          30,
          44,
          54,
          20,
          10,
          12,
          9,
          8,
          70,
          79,
          10,
          12,
          6,
          7,
          71,
          70,
          19,
          19,
          683,
          7,
          89,
          104,
          78,
          97,
          20,
          68,
          15,
          21,
          37,
          17,
          17,
          17,
          21,
          20,
          14,
          44,
          40,
          7,
          41,
          29,
          51,
          46,
          30,
          10,
          13,
          7,
          10,
          83,
          43,
          7,
          37,
          76,
          44,
          36,
          101,
          7,
          7,
          103,
          113,
          36,
          61,
          20,
          111,
          12,
          9,
          71,
          31,
          7,
          25,
          327,
          9,
          190,
          8,
          28,
          7,
          6,
          249,
          70,
          7,
          114,
          157,
          8,
          15,
          33,
          7,
          802,
          25,
          346,
          7,
          185,
          36,
          14,
          168,
          122,
          201,
          19,
          41,
          8,
          58,
          38,
          40,
          28,
          80,
          42,
          89,
          48,
          63,
          50,
          47,
          31,
          70,
          63,
          56,
          90,
          31,
          42,
          7,
          18,
          17,
          17,
          11,
          14,
          10,
          41,
          37,
          178,
          81,
          51,
          47,
          8,
          42,
          44,
          38,
          59,
          45,
          88,
          57,
          51,
          31,
          124,
          39,
          20,
          113,
          43,
          14,
          151,
          54,
          89,
          41,
          148,
          40,
          45,
          157,
          8,
          127,
          69,
          70,
          76,
          46,
          30,
          159,
          19,
          26,
          12,
          10,
          13,
          500,
          81,
          22,
          9,
          8,
          8,
          43,
          19,
          7,
          19,
          18,
          80,
          18,
          24,
          39,
          19,
          11,
          29,
          6,
          9,
          12,
          21,
          11,
          12,
          7,
          8,
          28,
          18,
          20,
          17,
          21,
          22,
          41,
          75,
          6,
          15,
          40,
          7,
          30,
          23,
          25,
          6,
          108,
          21,
          17,
          30,
          35,
          100,
          54,
          10,
          23,
          28,
          24,
          13,
          14,
          15,
          14,
          7,
          23,
          10,
          10,
          42,
          28,
          15,
          30,
          11,
          8,
          37,
          11,
          46,
          12,
          7,
          7,
          44,
          33,
          94,
          11,
          38,
          15,
          63,
          37,
          13,
          51,
          62,
          9,
          7,
          58,
          20,
          47,
          28,
          24,
          8,
          14,
          16,
          12,
          15,
          17,
          66,
          19,
          20,
          59,
          43,
          42,
          12,
          12,
          7,
          9,
          461,
          37,
          22,
          8,
          7,
          45,
          13,
          14,
          15,
          6,
          9,
          6,
          9,
          39,
          6,
          9,
          11,
          8,
          7,
          23,
          21,
          8,
          18,
          4,
          17,
          5,
          39,
          26,
          14,
          41,
          59,
          6,
          20,
          6,
          16,
          16,
          12,
          11,
          42,
          57,
          7,
          6,
          6,
          6,
          6,
          6,
          6,
          6,
          29,
          28,
          21,
          37,
          70,
          69,
          45,
          63,
          12,
          64,
          6,
          13,
          13,
          44,
          33,
          54,
          11,
          54,
          16,
          39,
          96,
          23,
          44,
          41,
          41,
          53,
          44,
          14,
          11,
          12,
          48,
          43,
          47,
          46,
          21,
          7,
          6,
          7,
          16,
          40,
          58,
          192,
          85,
          13,
          30,
          72,
          75,
          36,
          6,
          7,
          9,
          7,
          13,
          13,
          14,
          8,
          12,
          13,
          13,
          11,
          14,
          14,
          11,
          8,
          38,
          47,
          99,
          27,
          72,
          59,
          61,
          69,
          30,
          50,
          31,
          26,
          36,
          9,
          20,
          22,
          7,
          12,
          13,
          20,
          33,
          11,
          10,
          10,
          22,
          33,
          8,
          40,
          20,
          19,
          13,
          27,
          7,
          14,
          12,
          26,
          33,
          15,
          7,
          131,
          89,
          11,
          12,
          10,
          22,
          30,
          8,
          13
         ],
         "y0": " ",
         "yaxis": "y"
        }
       ],
       "layout": {
        "autosize": true,
        "boxmode": "group",
        "legend": {
         "tracegroupgap": 0
        },
        "margin": {
         "t": 60
        },
        "template": {
         "data": {
          "bar": [
           {
            "error_x": {
             "color": "#2a3f5f"
            },
            "error_y": {
             "color": "#2a3f5f"
            },
            "marker": {
             "line": {
              "color": "#E5ECF6",
              "width": 0.5
             },
             "pattern": {
              "fillmode": "overlay",
              "size": 10,
              "solidity": 0.2
             }
            },
            "type": "bar"
           }
          ],
          "barpolar": [
           {
            "marker": {
             "line": {
              "color": "#E5ECF6",
              "width": 0.5
             },
             "pattern": {
              "fillmode": "overlay",
              "size": 10,
              "solidity": 0.2
             }
            },
            "type": "barpolar"
           }
          ],
          "carpet": [
           {
            "aaxis": {
             "endlinecolor": "#2a3f5f",
             "gridcolor": "white",
             "linecolor": "white",
             "minorgridcolor": "white",
             "startlinecolor": "#2a3f5f"
            },
            "baxis": {
             "endlinecolor": "#2a3f5f",
             "gridcolor": "white",
             "linecolor": "white",
             "minorgridcolor": "white",
             "startlinecolor": "#2a3f5f"
            },
            "type": "carpet"
           }
          ],
          "choropleth": [
           {
            "colorbar": {
             "outlinewidth": 0,
             "ticks": ""
            },
            "type": "choropleth"
           }
          ],
          "contour": [
           {
            "colorbar": {
             "outlinewidth": 0,
             "ticks": ""
            },
            "colorscale": [
             [
              0,
              "#0d0887"
             ],
             [
              0.1111111111111111,
              "#46039f"
             ],
             [
              0.2222222222222222,
              "#7201a8"
             ],
             [
              0.3333333333333333,
              "#9c179e"
             ],
             [
              0.4444444444444444,
              "#bd3786"
             ],
             [
              0.5555555555555556,
              "#d8576b"
             ],
             [
              0.6666666666666666,
              "#ed7953"
             ],
             [
              0.7777777777777778,
              "#fb9f3a"
             ],
             [
              0.8888888888888888,
              "#fdca26"
             ],
             [
              1,
              "#f0f921"
             ]
            ],
            "type": "contour"
           }
          ],
          "contourcarpet": [
           {
            "colorbar": {
             "outlinewidth": 0,
             "ticks": ""
            },
            "type": "contourcarpet"
           }
          ],
          "heatmap": [
           {
            "colorbar": {
             "outlinewidth": 0,
             "ticks": ""
            },
            "colorscale": [
             [
              0,
              "#0d0887"
             ],
             [
              0.1111111111111111,
              "#46039f"
             ],
             [
              0.2222222222222222,
              "#7201a8"
             ],
             [
              0.3333333333333333,
              "#9c179e"
             ],
             [
              0.4444444444444444,
              "#bd3786"
             ],
             [
              0.5555555555555556,
              "#d8576b"
             ],
             [
              0.6666666666666666,
              "#ed7953"
             ],
             [
              0.7777777777777778,
              "#fb9f3a"
             ],
             [
              0.8888888888888888,
              "#fdca26"
             ],
             [
              1,
              "#f0f921"
             ]
            ],
            "type": "heatmap"
           }
          ],
          "heatmapgl": [
           {
            "colorbar": {
             "outlinewidth": 0,
             "ticks": ""
            },
            "colorscale": [
             [
              0,
              "#0d0887"
             ],
             [
              0.1111111111111111,
              "#46039f"
             ],
             [
              0.2222222222222222,
              "#7201a8"
             ],
             [
              0.3333333333333333,
              "#9c179e"
             ],
             [
              0.4444444444444444,
              "#bd3786"
             ],
             [
              0.5555555555555556,
              "#d8576b"
             ],
             [
              0.6666666666666666,
              "#ed7953"
             ],
             [
              0.7777777777777778,
              "#fb9f3a"
             ],
             [
              0.8888888888888888,
              "#fdca26"
             ],
             [
              1,
              "#f0f921"
             ]
            ],
            "type": "heatmapgl"
           }
          ],
          "histogram": [
           {
            "marker": {
             "pattern": {
              "fillmode": "overlay",
              "size": 10,
              "solidity": 0.2
             }
            },
            "type": "histogram"
           }
          ],
          "histogram2d": [
           {
            "colorbar": {
             "outlinewidth": 0,
             "ticks": ""
            },
            "colorscale": [
             [
              0,
              "#0d0887"
             ],
             [
              0.1111111111111111,
              "#46039f"
             ],
             [
              0.2222222222222222,
              "#7201a8"
             ],
             [
              0.3333333333333333,
              "#9c179e"
             ],
             [
              0.4444444444444444,
              "#bd3786"
             ],
             [
              0.5555555555555556,
              "#d8576b"
             ],
             [
              0.6666666666666666,
              "#ed7953"
             ],
             [
              0.7777777777777778,
              "#fb9f3a"
             ],
             [
              0.8888888888888888,
              "#fdca26"
             ],
             [
              1,
              "#f0f921"
             ]
            ],
            "type": "histogram2d"
           }
          ],
          "histogram2dcontour": [
           {
            "colorbar": {
             "outlinewidth": 0,
             "ticks": ""
            },
            "colorscale": [
             [
              0,
              "#0d0887"
             ],
             [
              0.1111111111111111,
              "#46039f"
             ],
             [
              0.2222222222222222,
              "#7201a8"
             ],
             [
              0.3333333333333333,
              "#9c179e"
             ],
             [
              0.4444444444444444,
              "#bd3786"
             ],
             [
              0.5555555555555556,
              "#d8576b"
             ],
             [
              0.6666666666666666,
              "#ed7953"
             ],
             [
              0.7777777777777778,
              "#fb9f3a"
             ],
             [
              0.8888888888888888,
              "#fdca26"
             ],
             [
              1,
              "#f0f921"
             ]
            ],
            "type": "histogram2dcontour"
           }
          ],
          "mesh3d": [
           {
            "colorbar": {
             "outlinewidth": 0,
             "ticks": ""
            },
            "type": "mesh3d"
           }
          ],
          "parcoords": [
           {
            "line": {
             "colorbar": {
              "outlinewidth": 0,
              "ticks": ""
             }
            },
            "type": "parcoords"
           }
          ],
          "pie": [
           {
            "automargin": true,
            "type": "pie"
           }
          ],
          "scatter": [
           {
            "marker": {
             "colorbar": {
              "outlinewidth": 0,
              "ticks": ""
             }
            },
            "type": "scatter"
           }
          ],
          "scatter3d": [
           {
            "line": {
             "colorbar": {
              "outlinewidth": 0,
              "ticks": ""
             }
            },
            "marker": {
             "colorbar": {
              "outlinewidth": 0,
              "ticks": ""
             }
            },
            "type": "scatter3d"
           }
          ],
          "scattercarpet": [
           {
            "marker": {
             "colorbar": {
              "outlinewidth": 0,
              "ticks": ""
             }
            },
            "type": "scattercarpet"
           }
          ],
          "scattergeo": [
           {
            "marker": {
             "colorbar": {
              "outlinewidth": 0,
              "ticks": ""
             }
            },
            "type": "scattergeo"
           }
          ],
          "scattergl": [
           {
            "marker": {
             "colorbar": {
              "outlinewidth": 0,
              "ticks": ""
             }
            },
            "type": "scattergl"
           }
          ],
          "scattermapbox": [
           {
            "marker": {
             "colorbar": {
              "outlinewidth": 0,
              "ticks": ""
             }
            },
            "type": "scattermapbox"
           }
          ],
          "scatterpolar": [
           {
            "marker": {
             "colorbar": {
              "outlinewidth": 0,
              "ticks": ""
             }
            },
            "type": "scatterpolar"
           }
          ],
          "scatterpolargl": [
           {
            "marker": {
             "colorbar": {
              "outlinewidth": 0,
              "ticks": ""
             }
            },
            "type": "scatterpolargl"
           }
          ],
          "scatterternary": [
           {
            "marker": {
             "colorbar": {
              "outlinewidth": 0,
              "ticks": ""
             }
            },
            "type": "scatterternary"
           }
          ],
          "surface": [
           {
            "colorbar": {
             "outlinewidth": 0,
             "ticks": ""
            },
            "colorscale": [
             [
              0,
              "#0d0887"
             ],
             [
              0.1111111111111111,
              "#46039f"
             ],
             [
              0.2222222222222222,
              "#7201a8"
             ],
             [
              0.3333333333333333,
              "#9c179e"
             ],
             [
              0.4444444444444444,
              "#bd3786"
             ],
             [
              0.5555555555555556,
              "#d8576b"
             ],
             [
              0.6666666666666666,
              "#ed7953"
             ],
             [
              0.7777777777777778,
              "#fb9f3a"
             ],
             [
              0.8888888888888888,
              "#fdca26"
             ],
             [
              1,
              "#f0f921"
             ]
            ],
            "type": "surface"
           }
          ],
          "table": [
           {
            "cells": {
             "fill": {
              "color": "#EBF0F8"
             },
             "line": {
              "color": "white"
             }
            },
            "header": {
             "fill": {
              "color": "#C8D4E3"
             },
             "line": {
              "color": "white"
             }
            },
            "type": "table"
           }
          ]
         },
         "layout": {
          "annotationdefaults": {
           "arrowcolor": "#2a3f5f",
           "arrowhead": 0,
           "arrowwidth": 1
          },
          "autotypenumbers": "strict",
          "coloraxis": {
           "colorbar": {
            "outlinewidth": 0,
            "ticks": ""
           }
          },
          "colorscale": {
           "diverging": [
            [
             0,
             "#8e0152"
            ],
            [
             0.1,
             "#c51b7d"
            ],
            [
             0.2,
             "#de77ae"
            ],
            [
             0.3,
             "#f1b6da"
            ],
            [
             0.4,
             "#fde0ef"
            ],
            [
             0.5,
             "#f7f7f7"
            ],
            [
             0.6,
             "#e6f5d0"
            ],
            [
             0.7,
             "#b8e186"
            ],
            [
             0.8,
             "#7fbc41"
            ],
            [
             0.9,
             "#4d9221"
            ],
            [
             1,
             "#276419"
            ]
           ],
           "sequential": [
            [
             0,
             "#0d0887"
            ],
            [
             0.1111111111111111,
             "#46039f"
            ],
            [
             0.2222222222222222,
             "#7201a8"
            ],
            [
             0.3333333333333333,
             "#9c179e"
            ],
            [
             0.4444444444444444,
             "#bd3786"
            ],
            [
             0.5555555555555556,
             "#d8576b"
            ],
            [
             0.6666666666666666,
             "#ed7953"
            ],
            [
             0.7777777777777778,
             "#fb9f3a"
            ],
            [
             0.8888888888888888,
             "#fdca26"
            ],
            [
             1,
             "#f0f921"
            ]
           ],
           "sequentialminus": [
            [
             0,
             "#0d0887"
            ],
            [
             0.1111111111111111,
             "#46039f"
            ],
            [
             0.2222222222222222,
             "#7201a8"
            ],
            [
             0.3333333333333333,
             "#9c179e"
            ],
            [
             0.4444444444444444,
             "#bd3786"
            ],
            [
             0.5555555555555556,
             "#d8576b"
            ],
            [
             0.6666666666666666,
             "#ed7953"
            ],
            [
             0.7777777777777778,
             "#fb9f3a"
            ],
            [
             0.8888888888888888,
             "#fdca26"
            ],
            [
             1,
             "#f0f921"
            ]
           ]
          },
          "colorway": [
           "#636efa",
           "#EF553B",
           "#00cc96",
           "#ab63fa",
           "#FFA15A",
           "#19d3f3",
           "#FF6692",
           "#B6E880",
           "#FF97FF",
           "#FECB52"
          ],
          "font": {
           "color": "#2a3f5f"
          },
          "geo": {
           "bgcolor": "white",
           "lakecolor": "white",
           "landcolor": "#E5ECF6",
           "showlakes": true,
           "showland": true,
           "subunitcolor": "white"
          },
          "hoverlabel": {
           "align": "left"
          },
          "hovermode": "closest",
          "mapbox": {
           "style": "light"
          },
          "paper_bgcolor": "white",
          "plot_bgcolor": "#E5ECF6",
          "polar": {
           "angularaxis": {
            "gridcolor": "white",
            "linecolor": "white",
            "ticks": ""
           },
           "bgcolor": "#E5ECF6",
           "radialaxis": {
            "gridcolor": "white",
            "linecolor": "white",
            "ticks": ""
           }
          },
          "scene": {
           "xaxis": {
            "backgroundcolor": "#E5ECF6",
            "gridcolor": "white",
            "gridwidth": 2,
            "linecolor": "white",
            "showbackground": true,
            "ticks": "",
            "zerolinecolor": "white"
           },
           "yaxis": {
            "backgroundcolor": "#E5ECF6",
            "gridcolor": "white",
            "gridwidth": 2,
            "linecolor": "white",
            "showbackground": true,
            "ticks": "",
            "zerolinecolor": "white"
           },
           "zaxis": {
            "backgroundcolor": "#E5ECF6",
            "gridcolor": "white",
            "gridwidth": 2,
            "linecolor": "white",
            "showbackground": true,
            "ticks": "",
            "zerolinecolor": "white"
           }
          },
          "shapedefaults": {
           "line": {
            "color": "#2a3f5f"
           }
          },
          "ternary": {
           "aaxis": {
            "gridcolor": "white",
            "linecolor": "white",
            "ticks": ""
           },
           "baxis": {
            "gridcolor": "white",
            "linecolor": "white",
            "ticks": ""
           },
           "bgcolor": "#E5ECF6",
           "caxis": {
            "gridcolor": "white",
            "linecolor": "white",
            "ticks": ""
           }
          },
          "title": {
           "x": 0.05
          },
          "xaxis": {
           "automargin": true,
           "gridcolor": "white",
           "linecolor": "white",
           "ticks": "",
           "title": {
            "standoff": 15
           },
           "zerolinecolor": "white",
           "zerolinewidth": 2
          },
          "yaxis": {
           "automargin": true,
           "gridcolor": "white",
           "linecolor": "white",
           "ticks": "",
           "title": {
            "standoff": 15
           },
           "zerolinecolor": "white",
           "zerolinewidth": 2
          }
         }
        },
        "xaxis": {
         "anchor": "y",
         "autorange": true,
         "domain": [
          0,
          1
         ],
         "range": [
          -0.5041379310344828,
          0.5
         ],
         "type": "category"
        },
        "yaxis": {
         "anchor": "x",
         "autorange": true,
         "domain": [
          0,
          1
         ],
         "range": [
          -40.333333333333336,
          846.3333333333334
         ],
         "title": {
          "text": "WMC"
         },
         "type": "linear"
        }
       }
      },
      "image/png": "[encoded data removed]",
      "text/html": [
       "<div>                            <div id=\"cf5175fa-b7b3-4069-ad68-83e3d31f04a7\" class=\"plotly-graph-div\" style=\"height:525px; width:100%;\"></div>            <script type=\"text/javascript\">                require([\"plotly\"], function(Plotly) {                    window.PLOTLYENV=window.PLOTLYENV || {};                                    if (document.getElementById(\"cf5175fa-b7b3-4069-ad68-83e3d31f04a7\")) {                    Plotly.newPlot(                        \"cf5175fa-b7b3-4069-ad68-83e3d31f04a7\",                        [{\"alignmentgroup\":\"True\",\"boxpoints\":\"all\",\"customdata\":[[\"./src/main/java/org/jfree/chart/annotations/AbstractAnnotation.java\"],[\"./src/main/java/org/jfree/chart/annotations/AbstractXYAnnotation.java\"],[\"./src/main/java/org/jfree/chart/annotations/Annotation.java\"],[\"./src/main/java/org/jfree/chart/annotations/CategoryAnnotation.java\"],[\"./src/main/java/org/jfree/chart/annotations/CategoryLineAnnotation.java\"],[\"./src/main/java/org/jfree/chart/annotations/CategoryPointerAnnotation.java\"],[\"./src/main/java/org/jfree/chart/annotations/CategoryTextAnnotation.java\"],[\"./src/main/java/org/jfree/chart/annotations/TextAnnotation.java\"],[\"./src/main/java/org/jfree/chart/annotations/XYAnnotation.java\"],[\"./src/main/java/org/jfree/chart/annotations/XYAnnotationBoundsInfo.java\"],[\"./src/main/java/org/jfree/chart/annotations/XYBoxAnnotation.java\"],[\"./src/main/java/org/jfree/chart/annotations/XYDataImageAnnotation.java\"],[\"./src/main/java/org/jfree/chart/annotations/XYDrawableAnnotation.java\"],[\"./src/main/java/org/jfree/chart/annotations/XYImageAnnotation.java\"],[\"./src/main/java/org/jfree/chart/annotations/XYLineAnnotation.java\"],[\"./src/main/java/org/jfree/chart/annotations/XYPointerAnnotation.java\"],[\"./src/main/java/org/jfree/chart/annotations/XYPolygonAnnotation.java\"],[\"./src/main/java/org/jfree/chart/annotations/XYShapeAnnotation.java\"],[\"./src/main/java/org/jfree/chart/annotations/XYTextAnnotation.java\"],[\"./src/main/java/org/jfree/chart/annotations/XYTitleAnnotation.java\"],[\"./src/main/java/org/jfree/chart/api/HorizontalAlignment.java\"],[\"./src/main/java/org/jfree/chart/api/Layer.java\"],[\"./src/main/java/org/jfree/chart/api/LengthAdjustmentType.java\"],[\"./src/main/java/org/jfree/chart/api/PublicCloneable.java\"],[\"./src/main/java/org/jfree/chart/api/RectangleAlignment.java\"],[\"./src/main/java/org/jfree/chart/api/RectangleAnchor.java\"],[\"./src/main/java/org/jfree/chart/api/RectangleEdge.java\"],[\"./src/main/java/org/jfree/chart/api/RectangleInsets.java\"],[\"./src/main/java/org/jfree/chart/api/Rotation.java\"],[\"./src/main/java/org/jfree/chart/api/SortOrder.java\"],[\"./src/main/java/org/jfree/chart/api/TableOrder.java\"],[\"./src/main/java/org/jfree/chart/api/UnitType.java\"],[\"./src/main/java/org/jfree/chart/api/VerticalAlignment.java\"],[\"./src/main/java/org/jfree/chart/api/XYCoordinateType.java\"],[\"./src/main/java/org/jfree/chart/axis/Axis.java\"],[\"./src/main/java/org/jfree/chart/axis/AxisCollection.java\"],[\"./src/main/java/org/jfree/chart/axis/AxisLabelLocation.java\"],[\"./src/main/java/org/jfree/chart/axis/AxisLocation.java\"],[\"./src/main/java/org/jfree/chart/axis/AxisSpace.java\"],[\"./src/main/java/org/jfree/chart/axis/AxisState.java\"],[\"./src/main/java/org/jfree/chart/axis/CategoryAnchor.java\"],[\"./src/main/java/org/jfree/chart/axis/CategoryAxis.java\"],[\"./src/main/java/org/jfree/chart/axis/CategoryLabelPosition.java\"],[\"./src/main/java/org/jfree/chart/axis/CategoryLabelPositions.java\"],[\"./src/main/java/org/jfree/chart/axis/CategoryLabelWidthType.java\"],[\"./src/main/java/org/jfree/chart/axis/CategoryTick.java\"],[\"./src/main/java/org/jfree/chart/axis/CompassFormat.java\"],[\"./src/main/java/org/jfree/chart/axis/CyclicNumberAxis.java\"],[\"./src/main/java/org/jfree/chart/axis/DateAxis.java\"],[\"./src/main/java/org/jfree/chart/axis/DateTick.java\"],[\"./src/main/java/org/jfree/chart/axis/DateTickMarkPosition.java\"],[\"./src/main/java/org/jfree/chart/axis/DateTickUnit.java\"],[\"./src/main/java/org/jfree/chart/axis/DateTickUnitType.java\"],[\"./src/main/java/org/jfree/chart/axis/ExtendedCategoryAxis.java\"],[\"./src/main/java/org/jfree/chart/axis/LogarithmicAxis.java\"],[\"./src/main/java/org/jfree/chart/axis/LogAxis.java\"],[\"./src/main/java/org/jfree/chart/axis/LogTick.java\"],[\"./src/main/java/org/jfree/chart/axis/MarkerAxisBand.java\"],[\"./src/main/java/org/jfree/chart/axis/ModuloAxis.java\"],[\"./src/main/java/org/jfree/chart/axis/MonthDateFormat.java\"],[\"./src/main/java/org/jfree/chart/axis/NumberAxis.java\"],[\"./src/main/java/org/jfree/chart/axis/NumberTick.java\"],[\"./src/main/java/org/jfree/chart/axis/NumberTickUnit.java\"],[\"./src/main/java/org/jfree/chart/axis/NumberTickUnitSource.java\"],[\"./src/main/java/org/jfree/chart/axis/PeriodAxis.java\"],[\"./src/main/java/org/jfree/chart/axis/PeriodAxisLabelInfo.java\"],[\"./src/main/java/org/jfree/chart/axis/QuarterDateFormat.java\"],[\"./src/main/java/org/jfree/chart/axis/StandardTickUnitSource.java\"],[\"./src/main/java/org/jfree/chart/axis/SubCategoryAxis.java\"],[\"./src/main/java/org/jfree/chart/axis/SymbolAxis.java\"],[\"./src/main/java/org/jfree/chart/axis/Tick.java\"],[\"./src/main/java/org/jfree/chart/axis/TickType.java\"],[\"./src/main/java/org/jfree/chart/axis/TickUnit.java\"],[\"./src/main/java/org/jfree/chart/axis/TickUnits.java\"],[\"./src/main/java/org/jfree/chart/axis/TickUnitSource.java\"],[\"./src/main/java/org/jfree/chart/axis/Timeline.java\"],[\"./src/main/java/org/jfree/chart/axis/ValueAxis.java\"],[\"./src/main/java/org/jfree/chart/axis/ValueTick.java\"],[\"./src/main/java/org/jfree/chart/block/AbstractBlock.java\"],[\"./src/main/java/org/jfree/chart/block/Arrangement.java\"],[\"./src/main/java/org/jfree/chart/block/Block.java\"],[\"./src/main/java/org/jfree/chart/block/BlockBorder.java\"],[\"./src/main/java/org/jfree/chart/block/BlockContainer.java\"],[\"./src/main/java/org/jfree/chart/block/BlockFrame.java\"],[\"./src/main/java/org/jfree/chart/block/BlockParams.java\"],[\"./src/main/java/org/jfree/chart/block/BlockResult.java\"],[\"./src/main/java/org/jfree/chart/block/BorderArrangement.java\"],[\"./src/main/java/org/jfree/chart/block/CenterArrangement.java\"],[\"./src/main/java/org/jfree/chart/block/ColorBlock.java\"],[\"./src/main/java/org/jfree/chart/block/ColumnArrangement.java\"],[\"./src/main/java/org/jfree/chart/block/EmptyBlock.java\"],[\"./src/main/java/org/jfree/chart/block/EntityBlockParams.java\"],[\"./src/main/java/org/jfree/chart/block/EntityBlockResult.java\"],[\"./src/main/java/org/jfree/chart/block/FlowArrangement.java\"],[\"./src/main/java/org/jfree/chart/block/GridArrangement.java\"],[\"./src/main/java/org/jfree/chart/block/LabelBlock.java\"],[\"./src/main/java/org/jfree/chart/block/LengthConstraintType.java\"],[\"./src/main/java/org/jfree/chart/block/LineBorder.java\"],[\"./src/main/java/org/jfree/chart/block/RectangleConstraint.java\"],[\"./src/main/java/org/jfree/chart/block/Size2D.java\"],[\"./src/main/java/org/jfree/chart/ChartColor.java\"],[\"./src/main/java/org/jfree/chart/ChartElement.java\"],[\"./src/main/java/org/jfree/chart/ChartElementVisitor.java\"],[\"./src/main/java/org/jfree/chart/ChartFactory.java\"],[\"./src/main/java/org/jfree/chart/ChartHints.java\"],[\"./src/main/java/org/jfree/chart/ChartRenderingInfo.java\"],[\"./src/main/java/org/jfree/chart/ChartTheme.java\"],[\"./src/main/java/org/jfree/chart/ChartTransferable.java\"],[\"./src/main/java/org/jfree/chart/ChartUtils.java\"],[\"./src/main/java/org/jfree/chart/date/MonthConstants.java\"],[\"./src/main/java/org/jfree/chart/date/SerialDate.java\"],[\"./src/main/java/org/jfree/chart/date/SpreadsheetDate.java\"],[\"./src/main/java/org/jfree/chart/Drawable.java\"],[\"./src/main/java/org/jfree/chart/encoders/EncoderUtil.java\"],[\"./src/main/java/org/jfree/chart/encoders/ImageEncoder.java\"],[\"./src/main/java/org/jfree/chart/encoders/ImageEncoderFactory.java\"],[\"./src/main/java/org/jfree/chart/encoders/ImageFormat.java\"],[\"./src/main/java/org/jfree/chart/encoders/SunJPEGEncoderAdapter.java\"],[\"./src/main/java/org/jfree/chart/encoders/SunPNGEncoderAdapter.java\"],[\"./src/main/java/org/jfree/chart/entity/AxisEntity.java\"],[\"./src/main/java/org/jfree/chart/entity/CategoryItemEntity.java\"],[\"./src/main/java/org/jfree/chart/entity/CategoryLabelEntity.java\"],[\"./src/main/java/org/jfree/chart/entity/ChartEntity.java\"],[\"./src/main/java/org/jfree/chart/entity/EntityCollection.java\"],[\"./src/main/java/org/jfree/chart/entity/FlowEntity.java\"],[\"./src/main/java/org/jfree/chart/entity/JFreeChartEntity.java\"],[\"./src/main/java/org/jfree/chart/entity/LegendItemEntity.java\"],[\"./src/main/java/org/jfree/chart/entity/NodeEntity.java\"],[\"./src/main/java/org/jfree/chart/entity/PieSectionEntity.java\"],[\"./src/main/java/org/jfree/chart/entity/PlotEntity.java\"],[\"./src/main/java/org/jfree/chart/entity/StandardEntityCollection.java\"],[\"./src/main/java/org/jfree/chart/entity/TickLabelEntity.java\"],[\"./src/main/java/org/jfree/chart/entity/TitleEntity.java\"],[\"./src/main/java/org/jfree/chart/entity/XYAnnotationEntity.java\"],[\"./src/main/java/org/jfree/chart/entity/XYItemEntity.java\"],[\"./src/main/java/org/jfree/chart/event/AnnotationChangeEvent.java\"],[\"./src/main/java/org/jfree/chart/event/AnnotationChangeListener.java\"],[\"./src/main/java/org/jfree/chart/event/AxisChangeEvent.java\"],[\"./src/main/java/org/jfree/chart/event/AxisChangeListener.java\"],[\"./src/main/java/org/jfree/chart/event/ChartChangeEvent.java\"],[\"./src/main/java/org/jfree/chart/event/ChartChangeEventType.java\"],[\"./src/main/java/org/jfree/chart/event/ChartChangeListener.java\"],[\"./src/main/java/org/jfree/chart/event/ChartProgressEvent.java\"],[\"./src/main/java/org/jfree/chart/event/ChartProgressEventType.java\"],[\"./src/main/java/org/jfree/chart/event/ChartProgressListener.java\"],[\"./src/main/java/org/jfree/chart/event/MarkerChangeEvent.java\"],[\"./src/main/java/org/jfree/chart/event/MarkerChangeListener.java\"],[\"./src/main/java/org/jfree/chart/event/PlotChangeEvent.java\"],[\"./src/main/java/org/jfree/chart/event/PlotChangeListener.java\"],[\"./src/main/java/org/jfree/chart/event/RendererChangeEvent.java\"],[\"./src/main/java/org/jfree/chart/event/RendererChangeListener.java\"],[\"./src/main/java/org/jfree/chart/event/TitleChangeEvent.java\"],[\"./src/main/java/org/jfree/chart/event/TitleChangeListener.java\"],[\"./src/main/java/org/jfree/chart/imagemap/DynamicDriveToolTipTagFragmentGenerator.java\"],[\"./src/main/java/org/jfree/chart/imagemap/ImageMapUtils.java\"],[\"./src/main/java/org/jfree/chart/imagemap/OverLIBToolTipTagFragmentGenerator.java\"],[\"./src/main/java/org/jfree/chart/imagemap/StandardToolTipTagFragmentGenerator.java\"],[\"./src/main/java/org/jfree/chart/imagemap/StandardURLTagFragmentGenerator.java\"],[\"./src/main/java/org/jfree/chart/imagemap/ToolTipTagFragmentGenerator.java\"],[\"./src/main/java/org/jfree/chart/imagemap/URLTagFragmentGenerator.java\"],[\"./src/main/java/org/jfree/chart/internal/Args.java\"],[\"./src/main/java/org/jfree/chart/internal/ArrayUtils.java\"],[\"./src/main/java/org/jfree/chart/internal/CloneUtils.java\"],[\"./src/main/java/org/jfree/chart/internal/HashUtils.java\"],[\"./src/main/java/org/jfree/chart/internal/LineUtils.java\"],[\"./src/main/java/org/jfree/chart/internal/PaintUtils.java\"],[\"./src/main/java/org/jfree/chart/internal/SerialUtils.java\"],[\"./src/main/java/org/jfree/chart/internal/ShapeUtils.java\"],[\"./src/main/java/org/jfree/chart/JFreeChart.java\"],[\"./src/main/java/org/jfree/chart/labels/AbstractCategoryItemLabelGenerator.java\"],[\"./src/main/java/org/jfree/chart/labels/AbstractPieItemLabelGenerator.java\"],[\"./src/main/java/org/jfree/chart/labels/AbstractXYItemLabelGenerator.java\"],[\"./src/main/java/org/jfree/chart/labels/BoxAndWhiskerToolTipGenerator.java\"],[\"./src/main/java/org/jfree/chart/labels/BoxAndWhiskerXYToolTipGenerator.java\"],[\"./src/main/java/org/jfree/chart/labels/BubbleXYItemLabelGenerator.java\"],[\"./src/main/java/org/jfree/chart/labels/CategoryItemLabelGenerator.java\"],[\"./src/main/java/org/jfree/chart/labels/CategorySeriesLabelGenerator.java\"],[\"./src/main/java/org/jfree/chart/labels/CategoryToolTipGenerator.java\"],[\"./src/main/java/org/jfree/chart/labels/CrosshairLabelGenerator.java\"],[\"./src/main/java/org/jfree/chart/labels/CustomXYToolTipGenerator.java\"],[\"./src/main/java/org/jfree/chart/labels/FlowLabelGenerator.java\"],[\"./src/main/java/org/jfree/chart/labels/HighLowItemLabelGenerator.java\"],[\"./src/main/java/org/jfree/chart/labels/IntervalCategoryItemLabelGenerator.java\"],[\"./src/main/java/org/jfree/chart/labels/IntervalCategoryToolTipGenerator.java\"],[\"./src/main/java/org/jfree/chart/labels/IntervalXYItemLabelGenerator.java\"],[\"./src/main/java/org/jfree/chart/labels/IntervalXYToolTipGenerator.java\"],[\"./src/main/java/org/jfree/chart/labels/ItemLabelAnchor.java\"],[\"./src/main/java/org/jfree/chart/labels/ItemLabelPosition.java\"],[\"./src/main/java/org/jfree/chart/labels/MultipleXYSeriesLabelGenerator.java\"],[\"./src/main/java/org/jfree/chart/labels/PieSectionLabelGenerator.java\"],[\"./src/main/java/org/jfree/chart/labels/PieToolTipGenerator.java\"],[\"./src/main/java/org/jfree/chart/labels/StandardCategoryItemLabelGenerator.java\"],[\"./src/main/java/org/jfree/chart/labels/StandardCategorySeriesLabelGenerator.java\"],[\"./src/main/java/org/jfree/chart/labels/StandardCategoryToolTipGenerator.java\"],[\"./src/main/java/org/jfree/chart/labels/StandardCrosshairLabelGenerator.java\"],[\"./src/main/java/org/jfree/chart/labels/StandardFlowLabelGenerator.java\"],[\"./src/main/java/org/jfree/chart/labels/StandardPieSectionLabelGenerator.java\"],[\"./src/main/java/org/jfree/chart/labels/StandardPieToolTipGenerator.java\"],[\"./src/main/java/org/jfree/chart/labels/StandardXYItemLabelGenerator.java\"],[\"./src/main/java/org/jfree/chart/labels/StandardXYSeriesLabelGenerator.java\"],[\"./src/main/java/org/jfree/chart/labels/StandardXYToolTipGenerator.java\"],[\"./src/main/java/org/jfree/chart/labels/StandardXYZToolTipGenerator.java\"],[\"./src/main/java/org/jfree/chart/labels/SymbolicXYItemLabelGenerator.java\"],[\"./src/main/java/org/jfree/chart/labels/XYItemLabelGenerator.java\"],[\"./src/main/java/org/jfree/chart/labels/XYSeriesLabelGenerator.java\"],[\"./src/main/java/org/jfree/chart/labels/XYToolTipGenerator.java\"],[\"./src/main/java/org/jfree/chart/labels/XYZToolTipGenerator.java\"],[\"./src/main/java/org/jfree/chart/legend/LegendGraphic.java\"],[\"./src/main/java/org/jfree/chart/legend/LegendItem.java\"],[\"./src/main/java/org/jfree/chart/legend/LegendItemBlockContainer.java\"],[\"./src/main/java/org/jfree/chart/legend/LegendItemCollection.java\"],[\"./src/main/java/org/jfree/chart/legend/LegendItemSource.java\"],[\"./src/main/java/org/jfree/chart/legend/LegendRenderingOrder.java\"],[\"./src/main/java/org/jfree/chart/legend/LegendTitle.java\"],[\"./src/main/java/org/jfree/chart/legend/PaintScaleLegend.java\"],[\"./src/main/java/org/jfree/chart/plot/CategoryCrosshairState.java\"],[\"./src/main/java/org/jfree/chart/plot/CategoryMarker.java\"],[\"./src/main/java/org/jfree/chart/plot/CategoryPlot.java\"],[\"./src/main/java/org/jfree/chart/plot/CenterTextMode.java\"],[\"./src/main/java/org/jfree/chart/plot/CombinedDomainCategoryPlot.java\"],[\"./src/main/java/org/jfree/chart/plot/CombinedDomainXYPlot.java\"],[\"./src/main/java/org/jfree/chart/plot/CombinedRangeCategoryPlot.java\"],[\"./src/main/java/org/jfree/chart/plot/CombinedRangeXYPlot.java\"],[\"./src/main/java/org/jfree/chart/plot/compass/ArrowNeedle.java\"],[\"./src/main/java/org/jfree/chart/plot/compass/CompassPlot.java\"],[\"./src/main/java/org/jfree/chart/plot/compass/LineNeedle.java\"],[\"./src/main/java/org/jfree/chart/plot/compass/LongNeedle.java\"],[\"./src/main/java/org/jfree/chart/plot/compass/MeterNeedle.java\"],[\"./src/main/java/org/jfree/chart/plot/compass/MiddlePinNeedle.java\"],[\"./src/main/java/org/jfree/chart/plot/compass/PinNeedle.java\"],[\"./src/main/java/org/jfree/chart/plot/compass/PlumNeedle.java\"],[\"./src/main/java/org/jfree/chart/plot/compass/PointerNeedle.java\"],[\"./src/main/java/org/jfree/chart/plot/compass/ShipNeedle.java\"],[\"./src/main/java/org/jfree/chart/plot/compass/WindNeedle.java\"],[\"./src/main/java/org/jfree/chart/plot/Crosshair.java\"],[\"./src/main/java/org/jfree/chart/plot/CrosshairState.java\"],[\"./src/main/java/org/jfree/chart/plot/DatasetRenderingOrder.java\"],[\"./src/main/java/org/jfree/chart/plot/DefaultDrawingSupplier.java\"],[\"./src/main/java/org/jfree/chart/plot/dial/AbstractDialLayer.java\"],[\"./src/main/java/org/jfree/chart/plot/dial/ArcDialFrame.java\"],[\"./src/main/java/org/jfree/chart/plot/dial/DialBackground.java\"],[\"./src/main/java/org/jfree/chart/plot/dial/DialCap.java\"],[\"./src/main/java/org/jfree/chart/plot/dial/DialFrame.java\"],[\"./src/main/java/org/jfree/chart/plot/dial/DialLayer.java\"],[\"./src/main/java/org/jfree/chart/plot/dial/DialLayerChangeEvent.java\"],[\"./src/main/java/org/jfree/chart/plot/dial/DialLayerChangeListener.java\"],[\"./src/main/java/org/jfree/chart/plot/dial/DialPlot.java\"],[\"./src/main/java/org/jfree/chart/plot/dial/DialPointer.java\"],[\"./src/main/java/org/jfree/chart/plot/dial/DialScale.java\"],[\"./src/main/java/org/jfree/chart/plot/dial/DialTextAnnotation.java\"],[\"./src/main/java/org/jfree/chart/plot/dial/DialValueIndicator.java\"],[\"./src/main/java/org/jfree/chart/plot/dial/StandardDialFrame.java\"],[\"./src/main/java/org/jfree/chart/plot/dial/StandardDialRange.java\"],[\"./src/main/java/org/jfree/chart/plot/dial/StandardDialScale.java\"],[\"./src/main/java/org/jfree/chart/plot/DialShape.java\"],[\"./src/main/java/org/jfree/chart/plot/DrawingSupplier.java\"],[\"./src/main/java/org/jfree/chart/plot/FastScatterPlot.java\"],[\"./src/main/java/org/jfree/chart/plot/flow/FlowPlot.java\"],[\"./src/main/java/org/jfree/chart/plot/IntervalMarker.java\"],[\"./src/main/java/org/jfree/chart/plot/Marker.java\"],[\"./src/main/java/org/jfree/chart/plot/MeterInterval.java\"],[\"./src/main/java/org/jfree/chart/plot/MeterPlot.java\"],[\"./src/main/java/org/jfree/chart/plot/Pannable.java\"],[\"./src/main/java/org/jfree/chart/plot/pie/AbstractPieLabelDistributor.java\"],[\"./src/main/java/org/jfree/chart/plot/pie/MultiplePiePlot.java\"],[\"./src/main/java/org/jfree/chart/plot/pie/PieLabelDistributor.java\"],[\"./src/main/java/org/jfree/chart/plot/pie/PieLabelLinkStyle.java\"],[\"./src/main/java/org/jfree/chart/plot/pie/PieLabelRecord.java\"],[\"./src/main/java/org/jfree/chart/plot/pie/PiePlot.java\"],[\"./src/main/java/org/jfree/chart/plot/pie/PiePlotState.java\"],[\"./src/main/java/org/jfree/chart/plot/Plot.java\"],[\"./src/main/java/org/jfree/chart/plot/PlotOrientation.java\"],[\"./src/main/java/org/jfree/chart/plot/PlotRenderingInfo.java\"],[\"./src/main/java/org/jfree/chart/plot/PlotState.java\"],[\"./src/main/java/org/jfree/chart/plot/PolarAxisLocation.java\"],[\"./src/main/java/org/jfree/chart/plot/PolarPlot.java\"],[\"./src/main/java/org/jfree/chart/plot/RingPlot.java\"],[\"./src/main/java/org/jfree/chart/plot/SeriesRenderingOrder.java\"],[\"./src/main/java/org/jfree/chart/plot/SpiderWebPlot.java\"],[\"./src/main/java/org/jfree/chart/plot/ThermometerPlot.java\"],[\"./src/main/java/org/jfree/chart/plot/ValueAxisPlot.java\"],[\"./src/main/java/org/jfree/chart/plot/ValueMarker.java\"],[\"./src/main/java/org/jfree/chart/plot/WaferMapPlot.java\"],[\"./src/main/java/org/jfree/chart/plot/XYCrosshairState.java\"],[\"./src/main/java/org/jfree/chart/plot/XYPlot.java\"],[\"./src/main/java/org/jfree/chart/plot/Zoomable.java\"],[\"./src/main/java/org/jfree/chart/renderer/AbstractRenderer.java\"],[\"./src/main/java/org/jfree/chart/renderer/AreaRendererEndType.java\"],[\"./src/main/java/org/jfree/chart/renderer/category/AbstractCategoryItemRenderer.java\"],[\"./src/main/java/org/jfree/chart/renderer/category/AreaRenderer.java\"],[\"./src/main/java/org/jfree/chart/renderer/category/BarPainter.java\"],[\"./src/main/java/org/jfree/chart/renderer/category/BarRenderer.java\"],[\"./src/main/java/org/jfree/chart/renderer/category/BoxAndWhiskerRenderer.java\"],[\"./src/main/java/org/jfree/chart/renderer/category/CategoryItemRenderer.java\"],[\"./src/main/java/org/jfree/chart/renderer/category/CategoryItemRendererState.java\"],[\"./src/main/java/org/jfree/chart/renderer/category/CategoryStepRenderer.java\"],[\"./src/main/java/org/jfree/chart/renderer/category/DefaultCategoryItemRenderer.java\"],[\"./src/main/java/org/jfree/chart/renderer/category/GanttRenderer.java\"],[\"./src/main/java/org/jfree/chart/renderer/category/GradientBarPainter.java\"],[\"./src/main/java/org/jfree/chart/renderer/category/GroupedStackedBarRenderer.java\"],[\"./src/main/java/org/jfree/chart/renderer/category/IntervalBarRenderer.java\"],[\"./src/main/java/org/jfree/chart/renderer/category/LayeredBarRenderer.java\"],[\"./src/main/java/org/jfree/chart/renderer/category/LevelRenderer.java\"],[\"./src/main/java/org/jfree/chart/renderer/category/LineAndShapeRenderer.java\"],[\"./src/main/java/org/jfree/chart/renderer/category/MinMaxCategoryRenderer.java\"],[\"./src/main/java/org/jfree/chart/renderer/category/ScatterRenderer.java\"],[\"./src/main/java/org/jfree/chart/renderer/category/StackedAreaRenderer.java\"],[\"./src/main/java/org/jfree/chart/renderer/category/StackedBarRenderer.java\"],[\"./src/main/java/org/jfree/chart/renderer/category/StandardBarPainter.java\"],[\"./src/main/java/org/jfree/chart/renderer/category/StatisticalBarRenderer.java\"],[\"./src/main/java/org/jfree/chart/renderer/category/StatisticalLineAndShapeRenderer.java\"],[\"./src/main/java/org/jfree/chart/renderer/category/WaterfallBarRenderer.java\"],[\"./src/main/java/org/jfree/chart/renderer/DefaultPolarItemRenderer.java\"],[\"./src/main/java/org/jfree/chart/renderer/GrayPaintScale.java\"],[\"./src/main/java/org/jfree/chart/renderer/LookupPaintScale.java\"],[\"./src/main/java/org/jfree/chart/renderer/NotOutlierException.java\"],[\"./src/main/java/org/jfree/chart/renderer/Outlier.java\"],[\"./src/main/java/org/jfree/chart/renderer/OutlierList.java\"],[\"./src/main/java/org/jfree/chart/renderer/OutlierListCollection.java\"],[\"./src/main/java/org/jfree/chart/renderer/PaintScale.java\"],[\"./src/main/java/org/jfree/chart/renderer/PolarItemRenderer.java\"],[\"./src/main/java/org/jfree/chart/renderer/RendererState.java\"],[\"./src/main/java/org/jfree/chart/renderer/RendererUtils.java\"],[\"./src/main/java/org/jfree/chart/renderer/WaferMapRenderer.java\"],[\"./src/main/java/org/jfree/chart/renderer/xy/AbstractXYItemRenderer.java\"],[\"./src/main/java/org/jfree/chart/renderer/xy/CandlestickRenderer.java\"],[\"./src/main/java/org/jfree/chart/renderer/xy/ClusteredXYBarRenderer.java\"],[\"./src/main/java/org/jfree/chart/renderer/xy/CyclicXYItemRenderer.java\"],[\"./src/main/java/org/jfree/chart/renderer/xy/DefaultXYItemRenderer.java\"],[\"./src/main/java/org/jfree/chart/renderer/xy/DeviationRenderer.java\"],[\"./src/main/java/org/jfree/chart/renderer/xy/DeviationStepRenderer.java\"],[\"./src/main/java/org/jfree/chart/renderer/xy/GradientXYBarPainter.java\"],[\"./src/main/java/org/jfree/chart/renderer/xy/HighLowRenderer.java\"],[\"./src/main/java/org/jfree/chart/renderer/xy/SamplingXYLineRenderer.java\"],[\"./src/main/java/org/jfree/chart/renderer/xy/StackedXYAreaRenderer.java\"],[\"./src/main/java/org/jfree/chart/renderer/xy/StackedXYAreaRenderer2.java\"],[\"./src/main/java/org/jfree/chart/renderer/xy/StackedXYBarRenderer.java\"],[\"./src/main/java/org/jfree/chart/renderer/xy/StandardXYBarPainter.java\"],[\"./src/main/java/org/jfree/chart/renderer/xy/StandardXYItemRenderer.java\"],[\"./src/main/java/org/jfree/chart/renderer/xy/VectorRenderer.java\"],[\"./src/main/java/org/jfree/chart/renderer/xy/WindItemRenderer.java\"],[\"./src/main/java/org/jfree/chart/renderer/xy/XYAreaRenderer.java\"],[\"./src/main/java/org/jfree/chart/renderer/xy/XYAreaRenderer2.java\"],[\"./src/main/java/org/jfree/chart/renderer/xy/XYBarPainter.java\"],[\"./src/main/java/org/jfree/chart/renderer/xy/XYBarRenderer.java\"],[\"./src/main/java/org/jfree/chart/renderer/xy/XYBlockRenderer.java\"],[\"./src/main/java/org/jfree/chart/renderer/xy/XYBoxAndWhiskerRenderer.java\"],[\"./src/main/java/org/jfree/chart/renderer/xy/XYBubbleRenderer.java\"],[\"./src/main/java/org/jfree/chart/renderer/xy/XYDifferenceRenderer.java\"],[\"./src/main/java/org/jfree/chart/renderer/xy/XYDotRenderer.java\"],[\"./src/main/java/org/jfree/chart/renderer/xy/XYErrorRenderer.java\"],[\"./src/main/java/org/jfree/chart/renderer/xy/XYItemRenderer.java\"],[\"./src/main/java/org/jfree/chart/renderer/xy/XYItemRendererState.java\"],[\"./src/main/java/org/jfree/chart/renderer/xy/XYLineAndShapeRenderer.java\"],[\"./src/main/java/org/jfree/chart/renderer/xy/XYShapeRenderer.java\"],[\"./src/main/java/org/jfree/chart/renderer/xy/XYSplineRenderer.java\"],[\"./src/main/java/org/jfree/chart/renderer/xy/XYStepAreaRenderer.java\"],[\"./src/main/java/org/jfree/chart/renderer/xy/XYStepRenderer.java\"],[\"./src/main/java/org/jfree/chart/renderer/xy/YIntervalRenderer.java\"],[\"./src/main/java/org/jfree/chart/StandardChartTheme.java\"],[\"./src/main/java/org/jfree/chart/swing/AbstractOverlay.java\"],[\"./src/main/java/org/jfree/chart/swing/ApplicationFrame.java\"],[\"./src/main/java/org/jfree/chart/swing/ChartFrame.java\"],[\"./src/main/java/org/jfree/chart/swing/ChartMouseEvent.java\"],[\"./src/main/java/org/jfree/chart/swing/ChartMouseListener.java\"],[\"./src/main/java/org/jfree/chart/swing/ChartPanel.java\"],[\"./src/main/java/org/jfree/chart/swing/CrosshairOverlay.java\"],[\"./src/main/java/org/jfree/chart/swing/DefaultSelectionZoomStrategy.java\"],[\"./src/main/java/org/jfree/chart/swing/editor/ChartEditor.java\"],[\"./src/main/java/org/jfree/chart/swing/editor/ChartEditorFactory.java\"],[\"./src/main/java/org/jfree/chart/swing/editor/ChartEditorManager.java\"],[\"./src/main/java/org/jfree/chart/swing/editor/DefaultAxisEditor.java\"],[\"./src/main/java/org/jfree/chart/swing/editor/DefaultChartEditor.java\"],[\"./src/main/java/org/jfree/chart/swing/editor/DefaultChartEditorFactory.java\"],[\"./src/main/java/org/jfree/chart/swing/editor/DefaultLogAxisEditor.java\"],[\"./src/main/java/org/jfree/chart/swing/editor/DefaultNumberAxisEditor.java\"],[\"./src/main/java/org/jfree/chart/swing/editor/DefaultPlotEditor.java\"],[\"./src/main/java/org/jfree/chart/swing/editor/DefaultPolarPlotEditor.java\"],[\"./src/main/java/org/jfree/chart/swing/editor/DefaultTitleEditor.java\"],[\"./src/main/java/org/jfree/chart/swing/editor/DefaultValueAxisEditor.java\"],[\"./src/main/java/org/jfree/chart/swing/editor/FontChooserPanel.java\"],[\"./src/main/java/org/jfree/chart/swing/editor/FontDisplayField.java\"],[\"./src/main/java/org/jfree/chart/swing/editor/LCBLayout.java\"],[\"./src/main/java/org/jfree/chart/swing/editor/PaintSample.java\"],[\"./src/main/java/org/jfree/chart/swing/editor/StrokeChooserPanel.java\"],[\"./src/main/java/org/jfree/chart/swing/editor/StrokeSample.java\"],[\"./src/main/java/org/jfree/chart/swing/MouseWheelHandler.java\"],[\"./src/main/java/org/jfree/chart/swing/NumberCellRenderer.java\"],[\"./src/main/java/org/jfree/chart/swing/Overlay.java\"],[\"./src/main/java/org/jfree/chart/swing/OverlayChangeEvent.java\"],[\"./src/main/java/org/jfree/chart/swing/OverlayChangeListener.java\"],[\"./src/main/java/org/jfree/chart/swing/PolarChartPanel.java\"],[\"./src/main/java/org/jfree/chart/swing/SelectionZoomStrategy.java\"],[\"./src/main/java/org/jfree/chart/swing/UIUtils.java\"],[\"./src/main/java/org/jfree/chart/text/AttributedStringUtils.java\"],[\"./src/main/java/org/jfree/chart/text/format/HexNumberFormat.java\"],[\"./src/main/java/org/jfree/chart/text/format/HMSNumberFormat.java\"],[\"./src/main/java/org/jfree/chart/text/format/LogFormat.java\"],[\"./src/main/java/org/jfree/chart/text/format/RelativeDateFormat.java\"],[\"./src/main/java/org/jfree/chart/text/G2TextMeasurer.java\"],[\"./src/main/java/org/jfree/chart/text/TextAnchor.java\"],[\"./src/main/java/org/jfree/chart/text/TextBlock.java\"],[\"./src/main/java/org/jfree/chart/text/TextBlockAnchor.java\"],[\"./src/main/java/org/jfree/chart/text/TextBox.java\"],[\"./src/main/java/org/jfree/chart/text/TextFragment.java\"],[\"./src/main/java/org/jfree/chart/text/TextLine.java\"],[\"./src/main/java/org/jfree/chart/text/TextMeasurer.java\"],[\"./src/main/java/org/jfree/chart/text/TextUtils.java\"],[\"./src/main/java/org/jfree/chart/title/CompositeTitle.java\"],[\"./src/main/java/org/jfree/chart/title/DateTitle.java\"],[\"./src/main/java/org/jfree/chart/title/ImageTitle.java\"],[\"./src/main/java/org/jfree/chart/title/ShortTextTitle.java\"],[\"./src/main/java/org/jfree/chart/title/TextTitle.java\"],[\"./src/main/java/org/jfree/chart/title/Title.java\"],[\"./src/main/java/org/jfree/chart/urls/CategoryURLGenerator.java\"],[\"./src/main/java/org/jfree/chart/urls/CustomCategoryURLGenerator.java\"],[\"./src/main/java/org/jfree/chart/urls/CustomPieURLGenerator.java\"],[\"./src/main/java/org/jfree/chart/urls/CustomXYURLGenerator.java\"],[\"./src/main/java/org/jfree/chart/urls/PieURLGenerator.java\"],[\"./src/main/java/org/jfree/chart/urls/StandardCategoryURLGenerator.java\"],[\"./src/main/java/org/jfree/chart/urls/StandardPieURLGenerator.java\"],[\"./src/main/java/org/jfree/chart/urls/StandardXYURLGenerator.java\"],[\"./src/main/java/org/jfree/chart/urls/StandardXYZURLGenerator.java\"],[\"./src/main/java/org/jfree/chart/urls/TimeSeriesURLGenerator.java\"],[\"./src/main/java/org/jfree/chart/urls/XYURLGenerator.java\"],[\"./src/main/java/org/jfree/chart/urls/XYZURLGenerator.java\"],[\"./src/main/java/org/jfree/chart/util/AttrStringUtils.java\"],[\"./src/main/java/org/jfree/chart/util/DefaultShadowGenerator.java\"],[\"./src/main/java/org/jfree/chart/util/DirectionalGradientPaintTransformer.java\"],[\"./src/main/java/org/jfree/chart/util/ExportUtils.java\"],[\"./src/main/java/org/jfree/chart/util/GradientPaintTransformer.java\"],[\"./src/main/java/org/jfree/chart/util/GradientPaintTransformType.java\"],[\"./src/main/java/org/jfree/chart/util/PaintAlpha.java\"],[\"./src/main/java/org/jfree/chart/util/ShadowGenerator.java\"],[\"./src/main/java/org/jfree/chart/util/StandardGradientPaintTransformer.java\"],[\"./src/main/java/org/jfree/chart/util/StringUtils.java\"],[\"./src/main/java/org/jfree/data/category/CategoryDataset.java\"],[\"./src/main/java/org/jfree/data/category/CategoryRangeInfo.java\"],[\"./src/main/java/org/jfree/data/category/CategoryToPieDataset.java\"],[\"./src/main/java/org/jfree/data/category/DefaultCategoryDataset.java\"],[\"./src/main/java/org/jfree/data/category/DefaultIntervalCategoryDataset.java\"],[\"./src/main/java/org/jfree/data/category/IntervalCategoryDataset.java\"],[\"./src/main/java/org/jfree/data/category/SlidingCategoryDataset.java\"],[\"./src/main/java/org/jfree/data/ComparableObjectItem.java\"],[\"./src/main/java/org/jfree/data/ComparableObjectSeries.java\"],[\"./src/main/java/org/jfree/data/DataUtils.java\"],[\"./src/main/java/org/jfree/data/DefaultKeyedValue.java\"],[\"./src/main/java/org/jfree/data/DefaultKeyedValues.java\"],[\"./src/main/java/org/jfree/data/DefaultKeyedValues2D.java\"],[\"./src/main/java/org/jfree/data/DomainInfo.java\"],[\"./src/main/java/org/jfree/data/DomainOrder.java\"],[\"./src/main/java/org/jfree/data/flow/DefaultFlowDataset.java\"],[\"./src/main/java/org/jfree/data/flow/FlowDataset.java\"],[\"./src/main/java/org/jfree/data/flow/FlowDatasetUtils.java\"],[\"./src/main/java/org/jfree/data/flow/FlowKey.java\"],[\"./src/main/java/org/jfree/data/flow/NodeKey.java\"],[\"./src/main/java/org/jfree/data/function/Function2D.java\"],[\"./src/main/java/org/jfree/data/function/LineFunction2D.java\"],[\"./src/main/java/org/jfree/data/function/NormalDistributionFunction2D.java\"],[\"./src/main/java/org/jfree/data/function/PolynomialFunction2D.java\"],[\"./src/main/java/org/jfree/data/function/PowerFunction2D.java\"],[\"./src/main/java/org/jfree/data/gantt/GanttCategoryDataset.java\"],[\"./src/main/java/org/jfree/data/gantt/SlidingGanttCategoryDataset.java\"],[\"./src/main/java/org/jfree/data/gantt/Task.java\"],[\"./src/main/java/org/jfree/data/gantt/TaskSeries.java\"],[\"./src/main/java/org/jfree/data/gantt/TaskSeriesCollection.java\"],[\"./src/main/java/org/jfree/data/gantt/XYTaskDataset.java\"],[\"./src/main/java/org/jfree/data/general/AbstractDataset.java\"],[\"./src/main/java/org/jfree/data/general/AbstractSeriesDataset.java\"],[\"./src/main/java/org/jfree/data/general/Dataset.java\"],[\"./src/main/java/org/jfree/data/general/DatasetChangeEvent.java\"],[\"./src/main/java/org/jfree/data/general/DatasetChangeListener.java\"],[\"./src/main/java/org/jfree/data/general/DatasetUtils.java\"],[\"./src/main/java/org/jfree/data/general/DefaultHeatMapDataset.java\"],[\"./src/main/java/org/jfree/data/general/DefaultKeyedValueDataset.java\"],[\"./src/main/java/org/jfree/data/general/DefaultKeyedValues2DDataset.java\"],[\"./src/main/java/org/jfree/data/general/DefaultKeyedValuesDataset.java\"],[\"./src/main/java/org/jfree/data/general/DefaultPieDataset.java\"],[\"./src/main/java/org/jfree/data/general/DefaultValueDataset.java\"],[\"./src/main/java/org/jfree/data/general/HeatMapDataset.java\"],[\"./src/main/java/org/jfree/data/general/HeatMapUtils.java\"],[\"./src/main/java/org/jfree/data/general/KeyedValueDataset.java\"],[\"./src/main/java/org/jfree/data/general/KeyedValues2DDataset.java\"],[\"./src/main/java/org/jfree/data/general/KeyedValuesDataset.java\"],[\"./src/main/java/org/jfree/data/general/PieDataset.java\"],[\"./src/main/java/org/jfree/data/general/Series.java\"],[\"./src/main/java/org/jfree/data/general/SeriesChangeEvent.java\"],[\"./src/main/java/org/jfree/data/general/SeriesChangeListener.java\"],[\"./src/main/java/org/jfree/data/general/SeriesDataset.java\"],[\"./src/main/java/org/jfree/data/general/SeriesException.java\"],[\"./src/main/java/org/jfree/data/general/ValueDataset.java\"],[\"./src/main/java/org/jfree/data/general/WaferMapDataset.java\"],[\"./src/main/java/org/jfree/data/io/CSV.java\"],[\"./src/main/java/org/jfree/data/ItemKey.java\"],[\"./src/main/java/org/jfree/data/json/impl/JSONArray.java\"],[\"./src/main/java/org/jfree/data/json/impl/JSONAware.java\"],[\"./src/main/java/org/jfree/data/json/impl/JSONObject.java\"],[\"./src/main/java/org/jfree/data/json/impl/JSONStreamAware.java\"],[\"./src/main/java/org/jfree/data/json/impl/JSONValue.java\"],[\"./src/main/java/org/jfree/data/json/JSONUtils.java\"],[\"./src/main/java/org/jfree/data/KeyedObject.java\"],[\"./src/main/java/org/jfree/data/KeyedObjects.java\"],[\"./src/main/java/org/jfree/data/KeyedObjects2D.java\"],[\"./src/main/java/org/jfree/data/KeyedValue.java\"],[\"./src/main/java/org/jfree/data/KeyedValueComparator.java\"],[\"./src/main/java/org/jfree/data/KeyedValueComparatorType.java\"],[\"./src/main/java/org/jfree/data/KeyedValues.java\"],[\"./src/main/java/org/jfree/data/KeyedValues2D.java\"],[\"./src/main/java/org/jfree/data/KeyedValues2DItemKey.java\"],[\"./src/main/java/org/jfree/data/KeyedValuesItemKey.java\"],[\"./src/main/java/org/jfree/data/KeyToGroupMap.java\"],[\"./src/main/java/org/jfree/data/Range.java\"],[\"./src/main/java/org/jfree/data/RangeInfo.java\"],[\"./src/main/java/org/jfree/data/RangeType.java\"],[\"./src/main/java/org/jfree/data/resources/DataPackageResources.java\"],[\"./src/main/java/org/jfree/data/resources/DataPackageResources_de.java\"],[\"./src/main/java/org/jfree/data/resources/DataPackageResources_es.java\"],[\"./src/main/java/org/jfree/data/resources/DataPackageResources_fr.java\"],[\"./src/main/java/org/jfree/data/resources/DataPackageResources_pl.java\"],[\"./src/main/java/org/jfree/data/resources/DataPackageResources_ru.java\"],[\"./src/main/java/org/jfree/data/statistics/BoxAndWhiskerCalculator.java\"],[\"./src/main/java/org/jfree/data/statistics/BoxAndWhiskerCategoryDataset.java\"],[\"./src/main/java/org/jfree/data/statistics/BoxAndWhiskerItem.java\"],[\"./src/main/java/org/jfree/data/statistics/BoxAndWhiskerXYDataset.java\"],[\"./src/main/java/org/jfree/data/statistics/DefaultBoxAndWhiskerCategoryDataset.java\"],[\"./src/main/java/org/jfree/data/statistics/DefaultBoxAndWhiskerXYDataset.java\"],[\"./src/main/java/org/jfree/data/statistics/DefaultMultiValueCategoryDataset.java\"],[\"./src/main/java/org/jfree/data/statistics/DefaultStatisticalCategoryDataset.java\"],[\"./src/main/java/org/jfree/data/statistics/HistogramBin.java\"],[\"./src/main/java/org/jfree/data/statistics/HistogramDataset.java\"],[\"./src/main/java/org/jfree/data/statistics/HistogramType.java\"],[\"./src/main/java/org/jfree/data/statistics/MeanAndStandardDeviation.java\"],[\"./src/main/java/org/jfree/data/statistics/MultiValueCategoryDataset.java\"],[\"./src/main/java/org/jfree/data/statistics/Regression.java\"],[\"./src/main/java/org/jfree/data/statistics/SimpleHistogramBin.java\"],[\"./src/main/java/org/jfree/data/statistics/SimpleHistogramDataset.java\"],[\"./src/main/java/org/jfree/data/statistics/StatisticalCategoryDataset.java\"],[\"./src/main/java/org/jfree/data/statistics/Statistics.java\"],[\"./src/main/java/org/jfree/data/time/DateRange.java\"],[\"./src/main/java/org/jfree/data/time/Day.java\"],[\"./src/main/java/org/jfree/data/time/DynamicTimeSeriesCollection.java\"],[\"./src/main/java/org/jfree/data/time/FixedMillisecond.java\"],[\"./src/main/java/org/jfree/data/time/Hour.java\"],[\"./src/main/java/org/jfree/data/time/Millisecond.java\"],[\"./src/main/java/org/jfree/data/time/Minute.java\"],[\"./src/main/java/org/jfree/data/time/Month.java\"],[\"./src/main/java/org/jfree/data/time/MovingAverage.java\"],[\"./src/main/java/org/jfree/data/time/ohlc/OHLC.java\"],[\"./src/main/java/org/jfree/data/time/ohlc/OHLCItem.java\"],[\"./src/main/java/org/jfree/data/time/ohlc/OHLCSeries.java\"],[\"./src/main/java/org/jfree/data/time/ohlc/OHLCSeriesCollection.java\"],[\"./src/main/java/org/jfree/data/time/Quarter.java\"],[\"./src/main/java/org/jfree/data/time/RegularTimePeriod.java\"],[\"./src/main/java/org/jfree/data/time/Second.java\"],[\"./src/main/java/org/jfree/data/time/SimpleTimePeriod.java\"],[\"./src/main/java/org/jfree/data/time/TimePeriod.java\"],[\"./src/main/java/org/jfree/data/time/TimePeriodAnchor.java\"],[\"./src/main/java/org/jfree/data/time/TimePeriodFormatException.java\"],[\"./src/main/java/org/jfree/data/time/TimePeriodValue.java\"],[\"./src/main/java/org/jfree/data/time/TimePeriodValues.java\"],[\"./src/main/java/org/jfree/data/time/TimePeriodValuesCollection.java\"],[\"./src/main/java/org/jfree/data/time/TimeSeries.java\"],[\"./src/main/java/org/jfree/data/time/TimeSeriesCollection.java\"],[\"./src/main/java/org/jfree/data/time/TimeSeriesDataItem.java\"],[\"./src/main/java/org/jfree/data/time/TimeSeriesTableModel.java\"],[\"./src/main/java/org/jfree/data/time/TimeTableXYDataset.java\"],[\"./src/main/java/org/jfree/data/time/Week.java\"],[\"./src/main/java/org/jfree/data/time/Year.java\"],[\"./src/main/java/org/jfree/data/UnknownKeyException.java\"],[\"./src/main/java/org/jfree/data/Value.java\"],[\"./src/main/java/org/jfree/data/Values.java\"],[\"./src/main/java/org/jfree/data/Values2D.java\"],[\"./src/main/java/org/jfree/data/xml/CategoryDatasetHandler.java\"],[\"./src/main/java/org/jfree/data/xml/CategorySeriesHandler.java\"],[\"./src/main/java/org/jfree/data/xml/DatasetReader.java\"],[\"./src/main/java/org/jfree/data/xml/DatasetTags.java\"],[\"./src/main/java/org/jfree/data/xml/ItemHandler.java\"],[\"./src/main/java/org/jfree/data/xml/KeyHandler.java\"],[\"./src/main/java/org/jfree/data/xml/PieDatasetHandler.java\"],[\"./src/main/java/org/jfree/data/xml/RootHandler.java\"],[\"./src/main/java/org/jfree/data/xml/ValueHandler.java\"],[\"./src/main/java/org/jfree/data/xy/AbstractIntervalXYDataset.java\"],[\"./src/main/java/org/jfree/data/xy/AbstractXYDataset.java\"],[\"./src/main/java/org/jfree/data/xy/AbstractXYZDataset.java\"],[\"./src/main/java/org/jfree/data/xy/CategoryTableXYDataset.java\"],[\"./src/main/java/org/jfree/data/xy/DefaultHighLowDataset.java\"],[\"./src/main/java/org/jfree/data/xy/DefaultIntervalXYDataset.java\"],[\"./src/main/java/org/jfree/data/xy/DefaultOHLCDataset.java\"],[\"./src/main/java/org/jfree/data/xy/DefaultTableXYDataset.java\"],[\"./src/main/java/org/jfree/data/xy/DefaultWindDataset.java\"],[\"./src/main/java/org/jfree/data/xy/DefaultXYDataset.java\"],[\"./src/main/java/org/jfree/data/xy/DefaultXYZDataset.java\"],[\"./src/main/java/org/jfree/data/xy/IntervalXYDataset.java\"],[\"./src/main/java/org/jfree/data/xy/IntervalXYDelegate.java\"],[\"./src/main/java/org/jfree/data/xy/IntervalXYZDataset.java\"],[\"./src/main/java/org/jfree/data/xy/MatrixSeries.java\"],[\"./src/main/java/org/jfree/data/xy/MatrixSeriesCollection.java\"],[\"./src/main/java/org/jfree/data/xy/NormalizedMatrixSeries.java\"],[\"./src/main/java/org/jfree/data/xy/OHLCDataItem.java\"],[\"./src/main/java/org/jfree/data/xy/OHLCDataset.java\"],[\"./src/main/java/org/jfree/data/xy/TableXYDataset.java\"],[\"./src/main/java/org/jfree/data/xy/Vector.java\"],[\"./src/main/java/org/jfree/data/xy/VectorDataItem.java\"],[\"./src/main/java/org/jfree/data/xy/VectorSeries.java\"],[\"./src/main/java/org/jfree/data/xy/VectorSeriesCollection.java\"],[\"./src/main/java/org/jfree/data/xy/VectorXYDataset.java\"],[\"./src/main/java/org/jfree/data/xy/WindDataset.java\"],[\"./src/main/java/org/jfree/data/xy/XIntervalDataItem.java\"],[\"./src/main/java/org/jfree/data/xy/XIntervalSeries.java\"],[\"./src/main/java/org/jfree/data/xy/XIntervalSeriesCollection.java\"],[\"./src/main/java/org/jfree/data/xy/XisSymbolic.java\"],[\"./src/main/java/org/jfree/data/xy/XYBarDataset.java\"],[\"./src/main/java/org/jfree/data/xy/XYCoordinate.java\"],[\"./src/main/java/org/jfree/data/xy/XYDataItem.java\"],[\"./src/main/java/org/jfree/data/xy/XYDataset.java\"],[\"./src/main/java/org/jfree/data/xy/XYDatasetTableModel.java\"],[\"./src/main/java/org/jfree/data/xy/XYDomainInfo.java\"],[\"./src/main/java/org/jfree/data/xy/XYInterval.java\"],[\"./src/main/java/org/jfree/data/xy/XYIntervalDataItem.java\"],[\"./src/main/java/org/jfree/data/xy/XYIntervalSeries.java\"],[\"./src/main/java/org/jfree/data/xy/XYIntervalSeriesCollection.java\"],[\"./src/main/java/org/jfree/data/xy/XYItemKey.java\"],[\"./src/main/java/org/jfree/data/xy/XYRangeInfo.java\"],[\"./src/main/java/org/jfree/data/xy/XYSeries.java\"],[\"./src/main/java/org/jfree/data/xy/XYSeriesCollection.java\"],[\"./src/main/java/org/jfree/data/xy/XYZDataset.java\"],[\"./src/main/java/org/jfree/data/xy/YInterval.java\"],[\"./src/main/java/org/jfree/data/xy/YIntervalDataItem.java\"],[\"./src/main/java/org/jfree/data/xy/YIntervalSeries.java\"],[\"./src/main/java/org/jfree/data/xy/YIntervalSeriesCollection.java\"],[\"./src/main/java/org/jfree/data/xy/YisSymbolic.java\"],[\"./src/main/java/org/jfree/data/xy/YWithXInterval.java\"]],\"hovertemplate\":\"WMC=%{y}<br>class=%{customdata[0]}<extra></extra>\",\"legendgroup\":\"\",\"marker\":{\"color\":\"#636efa\"},\"name\":\"\",\"notched\":false,\"offsetgroup\":\"\",\"orientation\":\"v\",\"showlegend\":false,\"type\":\"box\",\"x0\":\" \",\"xaxis\":\"x\",\"y\":[36,25,12,7,38,29,17,27,8,8,37,38,31,30,45,30,31,35,50,38,6,7,7,9,7,9,9,41,9,6,7,6,6,7,181,10,6,6,45,16,6,149,18,27,7,14,27,107,207,11,6,51,7,30,176,130,9,22,39,41,166,6,28,41,127,32,27,12,53,85,17,6,20,21,9,25,197,11,58,10,10,24,28,7,7,7,85,35,15,48,9,8,6,51,49,31,6,23,24,16,6,7,7,300,11,33,6,29,102,19,142,64,7,59,12,45,10,16,12,23,16,13,54,9,12,22,19,7,15,22,19,7,23,12,13,7,8,7,10,7,6,8,7,6,8,7,8,7,8,8,8,7,8,11,38,7,8,8,9,9,22,36,27,13,25,31,80,61,198,61,43,84,27,28,54,14,11,9,8,22,9,39,33,36,66,66,6,15,42,12,9,33,26,25,22,16,38,25,48,30,44,54,20,10,12,9,8,70,79,10,12,6,7,71,70,19,19,683,7,89,104,78,97,20,68,15,21,37,17,17,17,21,20,14,44,40,7,41,29,51,46,30,10,13,7,10,83,43,7,37,76,44,36,101,7,7,103,113,36,61,20,111,12,9,71,31,7,25,327,9,190,8,28,7,6,249,70,7,114,157,8,15,33,7,802,25,346,7,185,36,14,168,122,201,19,41,8,58,38,40,28,80,42,89,48,63,50,47,31,70,63,56,90,31,42,7,18,17,17,11,14,10,41,37,178,81,51,47,8,42,44,38,59,45,88,57,51,31,124,39,20,113,43,14,151,54,89,41,148,40,45,157,8,127,69,70,76,46,30,159,19,26,12,10,13,500,81,22,9,8,8,43,19,7,19,18,80,18,24,39,19,11,29,6,9,12,21,11,12,7,8,28,18,20,17,21,22,41,75,6,15,40,7,30,23,25,6,108,21,17,30,35,100,54,10,23,28,24,13,14,15,14,7,23,10,10,42,28,15,30,11,8,37,11,46,12,7,7,44,33,94,11,38,15,63,37,13,51,62,9,7,58,20,47,28,24,8,14,16,12,15,17,66,19,20,59,43,42,12,12,7,9,461,37,22,8,7,45,13,14,15,6,9,6,9,39,6,9,11,8,7,23,21,8,18,4,17,5,39,26,14,41,59,6,20,6,16,16,12,11,42,57,7,6,6,6,6,6,6,6,29,28,21,37,70,69,45,63,12,64,6,13,13,44,33,54,11,54,16,39,96,23,44,41,41,53,44,14,11,12,48,43,47,46,21,7,6,7,16,40,58,192,85,13,30,72,75,36,6,7,9,7,13,13,14,8,12,13,13,11,14,14,11,8,38,47,99,27,72,59,61,69,30,50,31,26,36,9,20,22,7,12,13,20,33,11,10,10,22,33,8,40,20,19,13,27,7,14,12,26,33,15,7,131,89,11,12,10,22,30,8,13],\"y0\":\" \",\"yaxis\":\"y\"}],                        {\"boxmode\":\"group\",\"legend\":{\"tracegroupgap\":0},\"margin\":{\"t\":60},\"template\":{\"data\":{\"bar\":[{\"error_x\":{\"color\":\"#2a3f5f\"},\"error_y\":{\"color\":\"#2a3f5f\"},\"marker\":{\"line\":{\"color\":\"#E5ECF6\",\"width\":0.5},\"pattern\":{\"fillmode\":\"overlay\",\"size\":10,\"solidity\":0.2}},\"type\":\"bar\"}],\"barpolar\":[{\"marker\":{\"line\":{\"color\":\"#E5ECF6\",\"width\":0.5},\"pattern\":{\"fillmode\":\"overlay\",\"size\":10,\"solidity\":0.2}},\"type\":\"barpolar\"}],\"carpet\":[{\"aaxis\":{\"endlinecolor\":\"#2a3f5f\",\"gridcolor\":\"white\",\"linecolor\":\"white\",\"minorgridcolor\":\"white\",\"startlinecolor\":\"#2a3f5f\"},\"baxis\":{\"endlinecolor\":\"#2a3f5f\",\"gridcolor\":\"white\",\"linecolor\":\"white\",\"minorgridcolor\":\"white\",\"startlinecolor\":\"#2a3f5f\"},\"type\":\"carpet\"}],\"choropleth\":[{\"colorbar\":{\"outlinewidth\":0,\"ticks\":\"\"},\"type\":\"choropleth\"}],\"contour\":[{\"colorbar\":{\"outlinewidth\":0,\"ticks\":\"\"},\"colorscale\":[[0.0,\"#0d0887\"],[0.1111111111111111,\"#46039f\"],[0.2222222222222222,\"#7201a8\"],[0.3333333333333333,\"#9c179e\"],[0.4444444444444444,\"#bd3786\"],[0.5555555555555556,\"#d8576b\"],[0.6666666666666666,\"#ed7953\"],[0.7777777777777778,\"#fb9f3a\"],[0.8888888888888888,\"#fdca26\"],[1.0,\"#f0f921\"]],\"type\":\"contour\"}],\"contourcarpet\":[{\"colorbar\":{\"outlinewidth\":0,\"ticks\":\"\"},\"type\":\"contourcarpet\"}],\"heatmap\":[{\"colorbar\":{\"outlinewidth\":0,\"ticks\":\"\"},\"colorscale\":[[0.0,\"#0d0887\"],[0.1111111111111111,\"#46039f\"],[0.2222222222222222,\"#7201a8\"],[0.3333333333333333,\"#9c179e\"],[0.4444444444444444,\"#bd3786\"],[0.5555555555555556,\"#d8576b\"],[0.6666666666666666,\"#ed7953\"],[0.7777777777777778,\"#fb9f3a\"],[0.8888888888888888,\"#fdca26\"],[1.0,\"#f0f921\"]],\"type\":\"heatmap\"}],\"heatmapgl\":[{\"colorbar\":{\"outlinewidth\":0,\"ticks\":\"\"},\"colorscale\":[[0.0,\"#0d0887\"],[0.1111111111111111,\"#46039f\"],[0.2222222222222222,\"#7201a8\"],[0.3333333333333333,\"#9c179e\"],[0.4444444444444444,\"#bd3786\"],[0.5555555555555556,\"#d8576b\"],[0.6666666666666666,\"#ed7953\"],[0.7777777777777778,\"#fb9f3a\"],[0.8888888888888888,\"#fdca26\"],[1.0,\"#f0f921\"]],\"type\":\"heatmapgl\"}],\"histogram\":[{\"marker\":{\"pattern\":{\"fillmode\":\"overlay\",\"size\":10,\"solidity\":0.2}},\"type\":\"histogram\"}],\"histogram2d\":[{\"colorbar\":{\"outlinewidth\":0,\"ticks\":\"\"},\"colorscale\":[[0.0,\"#0d0887\"],[0.1111111111111111,\"#46039f\"],[0.2222222222222222,\"#7201a8\"],[0.3333333333333333,\"#9c179e\"],[0.4444444444444444,\"#bd3786\"],[0.5555555555555556,\"#d8576b\"],[0.6666666666666666,\"#ed7953\"],[0.7777777777777778,\"#fb9f3a\"],[0.8888888888888888,\"#fdca26\"],[1.0,\"#f0f921\"]],\"type\":\"histogram2d\"}],\"histogram2dcontour\":[{\"colorbar\":{\"outlinewidth\":0,\"ticks\":\"\"},\"colorscale\":[[0.0,\"#0d0887\"],[0.1111111111111111,\"#46039f\"],[0.2222222222222222,\"#7201a8\"],[0.3333333333333333,\"#9c179e\"],[0.4444444444444444,\"#bd3786\"],[0.5555555555555556,\"#d8576b\"],[0.6666666666666666,\"#ed7953\"],[0.7777777777777778,\"#fb9f3a\"],[0.8888888888888888,\"#fdca26\"],[1.0,\"#f0f921\"]],\"type\":\"histogram2dcontour\"}],\"mesh3d\":[{\"colorbar\":{\"outlinewidth\":0,\"ticks\":\"\"},\"type\":\"mesh3d\"}],\"parcoords\":[{\"line\":{\"colorbar\":{\"outlinewidth\":0,\"ticks\":\"\"}},\"type\":\"parcoords\"}],\"pie\":[{\"automargin\":true,\"type\":\"pie\"}],\"scatter\":[{\"marker\":{\"colorbar\":{\"outlinewidth\":0,\"ticks\":\"\"}},\"type\":\"scatter\"}],\"scatter3d\":[{\"line\":{\"colorbar\":{\"outlinewidth\":0,\"ticks\":\"\"}},\"marker\":{\"colorbar\":{\"outlinewidth\":0,\"ticks\":\"\"}},\"type\":\"scatter3d\"}],\"scattercarpet\":[{\"marker\":{\"colorbar\":{\"outlinewidth\":0,\"ticks\":\"\"}},\"type\":\"scattercarpet\"}],\"scattergeo\":[{\"marker\":{\"colorbar\":{\"outlinewidth\":0,\"ticks\":\"\"}},\"type\":\"scattergeo\"}],\"scattergl\":[{\"marker\":{\"colorbar\":{\"outlinewidth\":0,\"ticks\":\"\"}},\"type\":\"scattergl\"}],\"scattermapbox\":[{\"marker\":{\"colorbar\":{\"outlinewidth\":0,\"ticks\":\"\"}},\"type\":\"scattermapbox\"}],\"scatterpolar\":[{\"marker\":{\"colorbar\":{\"outlinewidth\":0,\"ticks\":\"\"}},\"type\":\"scatterpolar\"}],\"scatterpolargl\":[{\"marker\":{\"colorbar\":{\"outlinewidth\":0,\"ticks\":\"\"}},\"type\":\"scatterpolargl\"}],\"scatterternary\":[{\"marker\":{\"colorbar\":{\"outlinewidth\":0,\"ticks\":\"\"}},\"type\":\"scatterternary\"}],\"surface\":[{\"colorbar\":{\"outlinewidth\":0,\"ticks\":\"\"},\"colorscale\":[[0.0,\"#0d0887\"],[0.1111111111111111,\"#46039f\"],[0.2222222222222222,\"#7201a8\"],[0.3333333333333333,\"#9c179e\"],[0.4444444444444444,\"#bd3786\"],[0.5555555555555556,\"#d8576b\"],[0.6666666666666666,\"#ed7953\"],[0.7777777777777778,\"#fb9f3a\"],[0.8888888888888888,\"#fdca26\"],[1.0,\"#f0f921\"]],\"type\":\"surface\"}],\"table\":[{\"cells\":{\"fill\":{\"color\":\"#EBF0F8\"},\"line\":{\"color\":\"white\"}},\"header\":{\"fill\":{\"color\":\"#C8D4E3\"},\"line\":{\"color\":\"white\"}},\"type\":\"table\"}]},\"layout\":{\"annotationdefaults\":{\"arrowcolor\":\"#2a3f5f\",\"arrowhead\":0,\"arrowwidth\":1},\"autotypenumbers\":\"strict\",\"coloraxis\":{\"colorbar\":{\"outlinewidth\":0,\"ticks\":\"\"}},\"colorscale\":{\"diverging\":[[0,\"#8e0152\"],[0.1,\"#c51b7d\"],[0.2,\"#de77ae\"],[0.3,\"#f1b6da\"],[0.4,\"#fde0ef\"],[0.5,\"#f7f7f7\"],[0.6,\"#e6f5d0\"],[0.7,\"#b8e186\"],[0.8,\"#7fbc41\"],[0.9,\"#4d9221\"],[1,\"#276419\"]],\"sequential\":[[0.0,\"#0d0887\"],[0.1111111111111111,\"#46039f\"],[0.2222222222222222,\"#7201a8\"],[0.3333333333333333,\"#9c179e\"],[0.4444444444444444,\"#bd3786\"],[0.5555555555555556,\"#d8576b\"],[0.6666666666666666,\"#ed7953\"],[0.7777777777777778,\"#fb9f3a\"],[0.8888888888888888,\"#fdca26\"],[1.0,\"#f0f921\"]],\"sequentialminus\":[[0.0,\"#0d0887\"],[0.1111111111111111,\"#46039f\"],[0.2222222222222222,\"#7201a8\"],[0.3333333333333333,\"#9c179e\"],[0.4444444444444444,\"#bd3786\"],[0.5555555555555556,\"#d8576b\"],[0.6666666666666666,\"#ed7953\"],[0.7777777777777778,\"#fb9f3a\"],[0.8888888888888888,\"#fdca26\"],[1.0,\"#f0f921\"]]},\"colorway\":[\"#636efa\",\"#EF553B\",\"#00cc96\",\"#ab63fa\",\"#FFA15A\",\"#19d3f3\",\"#FF6692\",\"#B6E880\",\"#FF97FF\",\"#FECB52\"],\"font\":{\"color\":\"#2a3f5f\"},\"geo\":{\"bgcolor\":\"white\",\"lakecolor\":\"white\",\"landcolor\":\"#E5ECF6\",\"showlakes\":true,\"showland\":true,\"subunitcolor\":\"white\"},\"hoverlabel\":{\"align\":\"left\"},\"hovermode\":\"closest\",\"mapbox\":{\"style\":\"light\"},\"paper_bgcolor\":\"white\",\"plot_bgcolor\":\"#E5ECF6\",\"polar\":{\"angularaxis\":{\"gridcolor\":\"white\",\"linecolor\":\"white\",\"ticks\":\"\"},\"bgcolor\":\"#E5ECF6\",\"radialaxis\":{\"gridcolor\":\"white\",\"linecolor\":\"white\",\"ticks\":\"\"}},\"scene\":{\"xaxis\":{\"backgroundcolor\":\"#E5ECF6\",\"gridcolor\":\"white\",\"gridwidth\":2,\"linecolor\":\"white\",\"showbackground\":true,\"ticks\":\"\",\"zerolinecolor\":\"white\"},\"yaxis\":{\"backgroundcolor\":\"#E5ECF6\",\"gridcolor\":\"white\",\"gridwidth\":2,\"linecolor\":\"white\",\"showbackground\":true,\"ticks\":\"\",\"zerolinecolor\":\"white\"},\"zaxis\":{\"backgroundcolor\":\"#E5ECF6\",\"gridcolor\":\"white\",\"gridwidth\":2,\"linecolor\":\"white\",\"showbackground\":true,\"ticks\":\"\",\"zerolinecolor\":\"white\"}},\"shapedefaults\":{\"line\":{\"color\":\"#2a3f5f\"}},\"ternary\":{\"aaxis\":{\"gridcolor\":\"white\",\"linecolor\":\"white\",\"ticks\":\"\"},\"baxis\":{\"gridcolor\":\"white\",\"linecolor\":\"white\",\"ticks\":\"\"},\"bgcolor\":\"#E5ECF6\",\"caxis\":{\"gridcolor\":\"white\",\"linecolor\":\"white\",\"ticks\":\"\"}},\"title\":{\"x\":0.05},\"xaxis\":{\"automargin\":true,\"gridcolor\":\"white\",\"linecolor\":\"white\",\"ticks\":\"\",\"title\":{\"standoff\":15},\"zerolinecolor\":\"white\",\"zerolinewidth\":2},\"yaxis\":{\"automargin\":true,\"gridcolor\":\"white\",\"linecolor\":\"white\",\"ticks\":\"\",\"title\":{\"standoff\":15},\"zerolinecolor\":\"white\",\"zerolinewidth\":2}}},\"xaxis\":{\"anchor\":\"y\",\"domain\":[0.0,1.0]},\"yaxis\":{\"anchor\":\"x\",\"domain\":[0.0,1.0],\"title\":{\"text\":\"WMC\"}}},                        {\"responsive\": true}                    ).then(function(){\n",
       "                            \n",
       "var gd = document.getElementById('cf5175fa-b7b3-4069-ad68-83e3d31f04a7');\n",
       "var x = new MutationObserver(function (mutations, observer) {{\n",
       "        var display = window.getComputedStyle(gd).display;\n",
       "        if (!display || display === 'none') {{\n",
       "            console.log([gd, 'removed!']);\n",
       "            Plotly.purge(gd);\n",
       "            observer.disconnect();\n",
       "        }}\n",
       "}});\n",
       "\n",
       "// Listen for the removal of the full notebook cells\n",
       "var notebookContainer = gd.closest('#notebook-container');\n",
       "if (notebookContainer) {{\n",
       "    x.observe(notebookContainer, {childList: true});\n",
       "}}\n",
       "\n",
       "// Listen for the clearing of the current output cell\n",
       "var outputEl = gd.closest('.output');\n",
       "if (outputEl) {{\n",
       "    x.observe(outputEl, {childList: true});\n",
       "}}\n",
       "\n",
       "                        })                };                });            </script>        </div>"
      ]
     },
     "metadata": {},
     "output_type": "display_data"
    }
   ],
   "source": [
    "fig = px.box(df.reset_index(), y='WMC', hover_data=['class'], points='all')\n",
    "fig.show()"
   ]
  },
  {
   "cell_type": "code",
   "execution_count": null,
   "id": "d3110851-ff93-40c3-9f8a-b405e740ea25",
   "metadata": {},
   "outputs": [],
   "source": []
  },
  {
   "cell_type": "code",
   "execution_count": null,
   "id": "2545e5b5-00c6-46d5-971f-f619cf393f57",
   "metadata": {},
   "outputs": [],
   "source": []
  },
  {
   "cell_type": "code",
   "execution_count": null,
   "id": "02a32e70-1c3f-4e59-8008-a85d7fa85a72",
   "metadata": {},
   "outputs": [],
   "source": []
  },
  {
   "cell_type": "code",
   "execution_count": null,
   "id": "37cf8e6c-74d2-41c6-b1dc-c28f3f6c423a",
   "metadata": {},
   "outputs": [],
   "source": []
  }
 ],
 "metadata": {
  "kernelspec": {
   "display_name": "Python 3 (ipykernel)",
   "language": "python",
   "name": "python3"
  },
  "language_info": {
   "codemirror_mode": {
    "name": "ipython",
    "version": 3
   },
   "file_extension": ".py",
   "mimetype": "text/x-python",
   "name": "python",
   "nbconvert_exporter": "python",
   "pygments_lexer": "ipython3",
   "version": "3.9.7"
  }
 },
 "nbformat": 4,
 "nbformat_minor": 5
}
