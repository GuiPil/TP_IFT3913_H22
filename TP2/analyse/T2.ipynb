{
 "cells": [
  {
   "cell_type": "code",
   "execution_count": 93,
   "id": "615f7308-c440-4bf5-bde9-3297d75d9050",
   "metadata": {},
   "outputs": [],
   "source": [
    "import pandas as pd\n",
    "import plotly.express as px\n",
    "from scipy.stats import ttest_ind, probplot, shapiro\n",
    "import matplotlib.pyplot as plt"
   ]
  },
  {
   "cell_type": "code",
   "execution_count": 94,
   "id": "9ccabcb4-57f2-4f16-96f6-d1a3a96b5c73",
   "metadata": {},
   "outputs": [],
   "source": [
    "df = pd.read_csv('../jfreechart-stats.csv', index_col='class')"
   ]
  },
  {
   "cell_type": "code",
   "execution_count": 95,
   "id": "4b10303f-2105-42db-b4ce-14d8c20cdc5b",
   "metadata": {},
   "outputs": [
    {
     "data": {
      "text/html": [
       "<div>\n",
       "<style scoped>\n",
       "    .dataframe tbody tr th:only-of-type {\n",
       "        vertical-align: middle;\n",
       "    }\n",
       "\n",
       "    .dataframe tbody tr th {\n",
       "        vertical-align: top;\n",
       "    }\n",
       "\n",
       "    .dataframe thead th {\n",
       "        text-align: right;\n",
       "    }\n",
       "</style>\n",
       "<table border=\"1\" class=\"dataframe\">\n",
       "  <thead>\n",
       "    <tr style=\"text-align: right;\">\n",
       "      <th></th>\n",
       "      <th>NCLOC</th>\n",
       "      <th>DCP</th>\n",
       "      <th>NOCom</th>\n",
       "      <th>WMC</th>\n",
       "    </tr>\n",
       "    <tr>\n",
       "      <th>class</th>\n",
       "      <th></th>\n",
       "      <th></th>\n",
       "      <th></th>\n",
       "      <th></th>\n",
       "    </tr>\n",
       "  </thead>\n",
       "  <tbody>\n",
       "    <tr>\n",
       "      <th>./src/main/java/org/jfree/chart/annotations/AbstractAnnotation.java</th>\n",
       "      <td>68</td>\n",
       "      <td>65.66</td>\n",
       "      <td>4</td>\n",
       "      <td>36</td>\n",
       "    </tr>\n",
       "    <tr>\n",
       "      <th>./src/main/java/org/jfree/chart/annotations/AbstractXYAnnotation.java</th>\n",
       "      <td>77</td>\n",
       "      <td>58.60</td>\n",
       "      <td>6</td>\n",
       "      <td>25</td>\n",
       "    </tr>\n",
       "    <tr>\n",
       "      <th>./src/main/java/org/jfree/chart/annotations/Annotation.java</th>\n",
       "      <td>7</td>\n",
       "      <td>87.72</td>\n",
       "      <td>5</td>\n",
       "      <td>12</td>\n",
       "    </tr>\n",
       "    <tr>\n",
       "      <th>./src/main/java/org/jfree/chart/annotations/CategoryAnnotation.java</th>\n",
       "      <td>10</td>\n",
       "      <td>83.33</td>\n",
       "      <td>4</td>\n",
       "      <td>7</td>\n",
       "    </tr>\n",
       "    <tr>\n",
       "      <th>./src/main/java/org/jfree/chart/annotations/CategoryLineAnnotation.java</th>\n",
       "      <td>198</td>\n",
       "      <td>49.23</td>\n",
       "      <td>12</td>\n",
       "      <td>38</td>\n",
       "    </tr>\n",
       "  </tbody>\n",
       "</table>\n",
       "</div>"
      ],
      "text/plain": [
       "                                                     NCLOC    DCP   NOCom  WMC\n",
       "class                                                                         \n",
       "./src/main/java/org/jfree/chart/annotations/Abs...      68  65.66       4   36\n",
       "./src/main/java/org/jfree/chart/annotations/Abs...      77  58.60       6   25\n",
       "./src/main/java/org/jfree/chart/annotations/Ann...       7  87.72       5   12\n",
       "./src/main/java/org/jfree/chart/annotations/Cat...      10  83.33       4    7\n",
       "./src/main/java/org/jfree/chart/annotations/Cat...     198  49.23      12   38"
      ]
     },
     "execution_count": 95,
     "metadata": {},
     "output_type": "execute_result"
    }
   ],
   "source": [
    "df.head()"
   ]
  },
  {
   "cell_type": "code",
   "execution_count": 96,
   "id": "14a10d6a-cae2-42d3-a92e-6010a0036143",
   "metadata": {},
   "outputs": [
    {
     "data": {
      "text/plain": [
       "Index([' NCLOC', ' DCP', ' NOCom', 'WMC'], dtype='object')"
      ]
     },
     "execution_count": 96,
     "metadata": {},
     "output_type": "execute_result"
    }
   ],
   "source": [
    "df.columns"
   ]
  },
  {
   "cell_type": "code",
   "execution_count": 97,
   "id": "14076c7d-7607-474a-bbe0-6707c6999851",
   "metadata": {},
   "outputs": [],
   "source": [
    "for c in df.columns:\n",
    "    df.rename(columns={c:c.strip()}, inplace=True)"
   ]
  },
  {
   "cell_type": "code",
   "execution_count": 98,
   "id": "6ad63ac9-471e-4182-b810-247bd14a25a3",
   "metadata": {},
   "outputs": [
    {
     "data": {
      "text/plain": [
       "Index(['NCLOC', 'DCP', 'NOCom', 'WMC'], dtype='object')"
      ]
     },
     "execution_count": 98,
     "metadata": {},
     "output_type": "execute_result"
    }
   ],
   "source": [
    "df.columns"
   ]
  },
  {
   "cell_type": "markdown",
   "id": "cc311965-e654-45ca-8556-72d2a92a673d",
   "metadata": {},
   "source": [
    "# Méthode"
   ]
  },
  {
   "cell_type": "markdown",
   "id": "752d6027-3780-4a46-9f38-09ec04979830",
   "metadata": {},
   "source": [
    "Nous allons évaluer l’hypothèse selon laquelle les classes qui ont été modifiées <b>plus de 10 fois sont mieux commentées </b> que celles qui ont été modifiées moins de 10 fois.\n",
    "\n",
    "Il est important de définir ce qu'on attend par une classe <b>mieux commentée</b>. Une classe qui sera mieux commenter aura généralement un ratio élevé de commentaire par rapport aux nombres de ligne de code.\n",
    "\n",
    "Cette question peut donc être répondu avec l'aide de la densité de commentaire (DCP), une métrique disponible dans notre jeu de données. \n",
    "\n",
    "On cherchera donc à rejeter l'hypothèse nulle:\n",
    "\n",
    ">H<sub>0</sub> : Il n'y a pas de différence consernant la densité de commentaires pour les classes avec plus de 10 commits et ceux avec moins de 10 commits\n",
    "\n",
    "Et valider si on accète l'hypothèse alternative :\n",
    "\n",
    ">H<sub>A</sub> : Les classes avec plus de 10 commits ont une densité plus élevé de commentaire."
   ]
  },
  {
   "cell_type": "markdown",
   "id": "bb7a9e9c-f72c-41a5-8681-5dae2a6cbe8f",
   "metadata": {},
   "source": [
    "# Analyse"
   ]
  },
  {
   "cell_type": "markdown",
   "id": "fb85d607-27e9-4870-b5c5-e7145fb75f7a",
   "metadata": {
    "jp-MarkdownHeadingCollapsed": true,
    "tags": []
   },
   "source": [
    "Pour répondre à cette question, nous allons avoir besoin du nombre de commits par classes qui permet de décrire le nombre de fois qu'une classe a été modifiées. Nous allons filtrer les classes pour créer deux groupes:\n",
    "1) Classes avec 10 commits et plus [NOCom >= 10]\n",
    "2) Classes avec moins de 10 commits [NOCom < 10]\n",
    "\n",
    "Une fois ces deux groupes, nous allons visualiser la distribution et effectuer un test-t afin d'évaluer si cette différence est significative. L'effet de taille sera également présenter pour conclure sur l'importance du changement."
   ]
  },
  {
   "cell_type": "markdown",
   "id": "f63d9e2c-d960-4ec8-aae7-a8dceb281033",
   "metadata": {},
   "source": [
    "### préparation des données"
   ]
  },
  {
   "cell_type": "code",
   "execution_count": 99,
   "id": "63615670-2dd0-4dde-b29c-c41a67a64cac",
   "metadata": {},
   "outputs": [],
   "source": [
    "df[\"group\"] = df[\"NOCom\"].apply(lambda x : 1 if x >= 10 else 0)"
   ]
  },
  {
   "cell_type": "markdown",
   "id": "0aca39d5-15fe-4ea5-a882-dddecfa76909",
   "metadata": {},
   "source": [
    "### visualisation de la distribution"
   ]
  },
  {
   "cell_type": "code",
   "execution_count": 132,
   "id": "d5d803e0-af93-46c4-90a4-9c9a3e425fd5",
   "metadata": {},
   "outputs": [
    {
     "data": {
      "application/vnd.plotly.v1+json": {
       "config": {
        "plotlyServerURL": "https://plot.ly"
       },
       "data": [
        {
         "alignmentgroup": "True",
         "bingroup": "x",
         "hovertemplate": "group=0<br>DCP=%{x}<br>count=%{y}<extra></extra>",
         "legendgroup": "0",
         "marker": {
          "color": "#636efa",
          "pattern": {
           "shape": ""
          }
         },
         "name": "0",
         "offsetgroup": "0",
         "orientation": "v",
         "showlegend": true,
         "type": "histogram",
         "visible": true,
         "x": [
          65.66,
          58.6,
          87.72,
          83.33,
          50,
          82.81,
          89.06,
          87.5,
          86.49,
          87.23,
          90.57,
          37.5,
          37.5,
          60.75,
          49.28,
          82.09,
          88.64,
          88.64,
          88.64,
          87.5,
          88.68,
          61.42,
          87.23,
          67.9,
          44.74,
          62.29,
          87.5,
          56.77,
          40.71,
          88.89,
          58.33,
          65.71,
          65,
          88.68,
          55.84,
          75.68,
          53.91,
          41.01,
          80.56,
          45.04,
          45.98,
          57.39,
          77.38,
          60.43,
          26.64,
          50.63,
          54.24,
          67.23,
          58.6,
          88.89,
          61.68,
          63.08,
          91.89,
          91.73,
          65.85,
          89.71,
          87.13,
          52.8,
          85,
          76,
          79.17,
          25.24,
          53.33,
          58.86,
          41.57,
          70.27,
          92.59,
          90.57,
          43.07,
          40.69,
          88.46,
          53.44,
          60.4,
          53.02,
          91.67,
          91.49,
          73.12,
          58.01,
          92.16,
          55.84,
          76.92,
          58.53,
          56.79,
          86.05,
          70.22,
          86.32,
          63.64,
          88.46,
          62.18,
          69.23,
          61.54,
          51.21,
          86.32,
          63.46,
          63.64,
          73.86,
          61.61,
          54.74,
          82.46,
          65.35,
          63.4,
          78.79,
          88,
          80.65,
          90.91,
          70.43,
          87.23,
          90.38,
          69.57,
          88.89,
          89.8,
          80.95,
          88,
          81.25,
          90,
          78.16,
          89.8,
          80.33,
          90,
          76.74,
          48.54,
          81.16,
          81.54,
          83.33,
          93.44,
          87.1,
          70.18,
          43.62,
          48.85,
          66.15,
          44.37,
          41.79,
          34.07,
          46.42,
          51.64,
          60.9,
          59.86,
          52.48,
          90.91,
          91.07,
          91.8,
          90,
          54.44,
          88.89,
          46.46,
          55.74,
          54.61,
          48.18,
          48.97,
          69.57,
          55.29,
          87.06,
          90.74,
          64.66,
          60.42,
          63.87,
          58.39,
          59.13,
          63.04,
          71.32,
          66.47,
          61.59,
          66.09,
          52.81,
          55.13,
          90.74,
          91.23,
          90.57,
          90.57,
          51.1,
          52.39,
          59.41,
          60.56,
          90,
          88.89,
          43.76,
          40.79,
          59.24,
          60.34,
          87.23,
          50,
          43.56,
          62.73,
          45.96,
          52.66,
          53.79,
          54.62,
          57.5,
          50,
          58.82,
          58.72,
          66.36,
          91.67,
          40.39,
          61.66,
          88.14,
          86.27,
          80.65,
          90.2,
          92.06,
          87.5,
          86.36,
          39.74,
          58.38,
          55.05,
          86.25,
          75,
          38.15,
          46.46,
          87.5,
          54.94,
          47.04,
          66.11,
          83.08,
          77.05,
          82.26,
          91.38,
          88.68,
          68.15,
          88.46,
          88.08,
          89.66,
          86.9,
          65.59,
          46.3,
          86.54,
          36.76,
          34.34,
          46.82,
          47.52,
          59.61,
          47.97,
          89.47,
          64.29,
          68.59,
          68.79,
          89.04,
          80.77,
          69.9,
          38.06,
          40.7,
          43.02,
          88.46,
          50.88,
          38.65,
          36.87,
          34.08,
          47.52,
          34.08,
          46.5,
          86.25,
          79.67,
          68.32,
          69.3,
          69.88,
          70.83,
          88.14,
          42.73,
          29.81,
          34.73,
          88.46,
          90,
          77.78,
          50.11,
          38.63,
          82.76,
          44.59,
          35.76,
          34.94,
          41.18,
          38.74,
          38.42,
          37.91,
          66.28,
          37.71,
          57,
          63.86,
          50.68,
          53.24,
          61.54,
          91.03,
          86,
          89.58,
          46.05,
          85,
          53.04,
          51.14,
          66.18,
          69.52,
          55.86,
          54.29,
          71.43,
          64.83,
          78.18,
          46.03,
          52.99,
          90.91,
          43.78,
          56.5,
          75.97,
          46.67,
          46.64,
          54.55,
          91.78,
          50.84,
          53.43,
          53.89,
          92.19,
          51.96,
          53.64,
          58.57,
          85,
          50.82,
          92.42,
          91.8,
          39.13,
          44.37,
          61.6,
          87.23,
          82.5,
          59.44,
          89.71,
          49.36,
          71.26,
          90.77,
          88.71,
          48.68,
          64.56,
          48.79,
          90.8,
          56.32,
          63.4,
          48.99,
          62.42,
          50.85,
          91.89,
          87.23,
          48.29,
          88.62,
          52.06,
          57.69,
          60,
          92.59,
          65.29,
          61.24,
          67.52,
          65.29,
          90.63,
          54.13,
          57.21,
          57.07,
          54.38,
          68.33,
          72,
          91.23,
          86.25,
          91.23,
          55.7,
          56.91,
          85.96,
          89.13,
          67.19,
          90.78,
          57.98,
          91.49,
          91.49,
          90.7,
          89.8,
          84.48,
          90.74,
          85.9,
          86.21,
          91.49,
          60.07,
          48.39,
          91.49,
          50,
          90.24,
          51.43,
          86.96,
          50.32,
          45.45,
          58.52,
          52.7,
          47.19,
          92,
          44.37,
          90.38,
          91.01,
          88.35,
          48.94,
          54.21,
          53.77,
          91.43,
          88.68,
          80.65,
          80.65,
          80.65,
          80.33,
          80.95,
          79.66,
          44.72,
          88.99,
          52.47,
          89.7,
          52.59,
          54.3,
          48.42,
          46.93,
          60.26,
          54.19,
          88.46,
          60.37,
          87.88,
          32.42,
          49.81,
          88.75,
          44.29,
          70.07,
          53.14,
          57.31,
          55.53,
          52.91,
          53.79,
          51.72,
          44.26,
          59.03,
          60.47,
          70.08,
          53.33,
          54.73,
          89.47,
          87.5,
          87.76,
          60.71,
          47.08,
          49.24,
          88.68,
          92.31,
          91.53,
          91.3,
          60.33,
          58.21,
          54.04,
          84.21,
          58.94,
          62.41,
          62.81,
          65.79,
          59.18,
          64.66,
          68.89,
          78.33,
          62.66,
          61.06,
          62.48,
          60,
          52.79,
          58.77,
          60.7,
          91.97,
          58.72,
          89.69,
          62.5,
          60.29,
          73.28,
          57.69,
          91.28,
          92.98,
          64.44,
          69.23,
          72.84,
          91.78,
          92.54,
          67.31,
          75.31,
          91.67,
          64.79,
          54.19,
          58.11,
          89.81,
          69.71,
          89.09,
          59.44,
          58.21,
          74.07,
          49.28,
          89.29,
          91.67,
          63.39,
          64.08,
          76.07,
          91.78,
          64.66
         ],
         "xaxis": "x",
         "yaxis": "y"
        },
        {
         "alignmentgroup": "True",
         "customdata": [
          [
           68,
           4,
           36,
           0
          ],
          [
           77,
           6,
           25,
           0
          ],
          [
           7,
           5,
           12,
           0
          ],
          [
           10,
           4,
           7,
           0
          ],
          [
           123,
           8,
           17,
           0
          ],
          [
           11,
           4,
           8,
           0
          ],
          [
           7,
           5,
           8,
           0
          ],
          [
           6,
           2,
           6,
           0
          ],
          [
           5,
           2,
           7,
           0
          ],
          [
           6,
           2,
           7,
           0
          ],
          [
           5,
           2,
           9,
           0
          ],
          [
           80,
           2,
           7,
           0
          ],
          [
           95,
           3,
           9,
           0
          ],
          [
           42,
           2,
           9,
           0
          ],
          [
           245,
           5,
           41,
           0
          ],
          [
           12,
           2,
           9,
           0
          ],
          [
           5,
           2,
           6,
           0
          ],
          [
           5,
           2,
           7,
           0
          ],
          [
           5,
           2,
           6,
           0
          ],
          [
           6,
           2,
           6,
           0
          ],
          [
           6,
           3,
           7,
           0
          ],
          [
           49,
           8,
           10,
           0
          ],
          [
           6,
           5,
           6,
           0
          ],
          [
           26,
           9,
           6,
           0
          ],
          [
           189,
           7,
           45,
           0
          ],
          [
           66,
           7,
           16,
           0
          ],
          [
           6,
           6,
           6,
           0
          ],
          [
           99,
           8,
           18,
           0
          ],
          [
           217,
           8,
           27,
           0
          ],
          [
           5,
           7,
           7,
           0
          ],
          [
           55,
           6,
           14,
           0
          ],
          [
           48,
           5,
           27,
           0
          ],
          [
           42,
           8,
           11,
           0
          ],
          [
           6,
           5,
           6,
           0
          ],
          [
           140,
           9,
           51,
           0
          ],
          [
           18,
           4,
           7,
           0
          ],
          [
           106,
           8,
           30,
           0
          ],
          [
           561,
           7,
           176,
           0
          ],
          [
           14,
           4,
           9,
           0
          ],
          [
           133,
           9,
           22,
           0
          ],
          [
           215,
           6,
           39,
           0
          ],
          [
           98,
           5,
           41,
           0
          ],
          [
           19,
           6,
           6,
           0
          ],
          [
           55,
           6,
           28,
           0
          ],
          [
           157,
           6,
           41,
           0
          ],
          [
           158,
           9,
           32,
           0
          ],
          [
           81,
           5,
           27,
           0
          ],
          [
           39,
           3,
           12,
           0
          ],
          [
           65,
           7,
           17,
           0
          ],
          [
           5,
           4,
           6,
           0
          ],
          [
           64,
           4,
           20,
           0
          ],
          [
           72,
           2,
           21,
           0
          ],
          [
           6,
           4,
           9,
           0
          ],
          [
           11,
           4,
           25,
           0
          ],
          [
           42,
           6,
           11,
           0
          ],
          [
           7,
           5,
           10,
           0
          ],
          [
           13,
           6,
           10,
           0
          ],
          [
           101,
           9,
           24,
           0
          ],
          [
           9,
           7,
           7,
           0
          ],
          [
           30,
           2,
           7,
           0
          ],
          [
           15,
           2,
           7,
           0
          ],
          [
           382,
           6,
           85,
           0
          ],
          [
           140,
           5,
           35,
           0
          ],
          [
           72,
           7,
           15,
           0
          ],
          [
           208,
           6,
           48,
           0
          ],
          [
           33,
           5,
           9,
           0
          ],
          [
           4,
           3,
           8,
           0
          ],
          [
           5,
           3,
           6,
           0
          ],
          [
           234,
           7,
           51,
           0
          ],
          [
           242,
           7,
           49,
           0
          ],
          [
           6,
           5,
           6,
           0
          ],
          [
           149,
           7,
           24,
           0
          ],
          [
           59,
           2,
           16,
           0
          ],
          [
           70,
           3,
           6,
           0
          ],
          [
           4,
           2,
           7,
           0
          ],
          [
           4,
           2,
           7,
           0
          ],
          [
           25,
           4,
           11,
           0
          ],
          [
           97,
           7,
           33,
           0
          ],
          [
           4,
           5,
           6,
           0
          ],
          [
           102,
           7,
           29,
           0
          ],
          [
           15,
           5,
           19,
           0
          ],
          [
           355,
           8,
           142,
           0
          ],
          [
           175,
           6,
           64,
           0
          ],
          [
           6,
           2,
           7,
           0
          ],
          [
           53,
           2,
           59,
           0
          ],
          [
           13,
           3,
           12,
           0
          ],
          [
           52,
           4,
           45,
           0
          ],
          [
           6,
           3,
           10,
           0
          ],
          [
           59,
           5,
           16,
           0
          ],
          [
           36,
           4,
           12,
           0
          ],
          [
           45,
           8,
           13,
           0
          ],
          [
           181,
           9,
           54,
           0
          ],
          [
           13,
           5,
           9,
           0
          ],
          [
           38,
           2,
           12,
           0
          ],
          [
           56,
           7,
           19,
           0
          ],
          [
           23,
           2,
           7,
           0
          ],
          [
           81,
           7,
           15,
           0
          ],
          [
           86,
           8,
           19,
           0
          ],
          [
           10,
           3,
           7,
           0
          ],
          [
           35,
           3,
           12,
           0
          ],
          [
           56,
           3,
           13,
           0
          ],
          [
           14,
           7,
           7,
           0
          ],
          [
           6,
           5,
           8,
           0
          ],
          [
           12,
           3,
           7,
           0
          ],
          [
           5,
           4,
           10,
           0
          ],
          [
           34,
           4,
           7,
           0
          ],
          [
           6,
           6,
           6,
           0
          ],
          [
           5,
           5,
           8,
           0
          ],
          [
           35,
           4,
           7,
           0
          ],
          [
           5,
           3,
           6,
           0
          ],
          [
           5,
           4,
           8,
           0
          ],
          [
           12,
           5,
           7,
           0
          ],
          [
           6,
           5,
           8,
           0
          ],
          [
           12,
           3,
           7,
           0
          ],
          [
           5,
           4,
           8,
           0
          ],
          [
           19,
           5,
           8,
           0
          ],
          [
           5,
           4,
           8,
           0
          ],
          [
           12,
           3,
           7,
           0
          ],
          [
           5,
           4,
           8,
           0
          ],
          [
           20,
           3,
           11,
           0
          ],
          [
           123,
           6,
           38,
           0
          ],
          [
           13,
           3,
           7,
           0
          ],
          [
           12,
           3,
           8,
           0
          ],
          [
           11,
           2,
           8,
           0
          ],
          [
           4,
           4,
           9,
           0
          ],
          [
           8,
           4,
           9,
           0
          ],
          [
           34,
           3,
           22,
           0
          ],
          [
           106,
           2,
           36,
           0
          ],
          [
           89,
           6,
           27,
           0
          ],
          [
           65,
           7,
           13,
           0
          ],
          [
           84,
           3,
           25,
           0
          ],
          [
           117,
           3,
           31,
           0
          ],
          [
           418,
           4,
           80,
           0
          ],
          [
           262,
           5,
           61,
           0
          ],
          [
           103,
           7,
           43,
           0
          ],
          [
           52,
           5,
           27,
           0
          ],
          [
           57,
           3,
           28,
           0
          ],
          [
           115,
           9,
           54,
           0
          ],
          [
           7,
           6,
           14,
           0
          ],
          [
           5,
           5,
           11,
           0
          ],
          [
           5,
           5,
           9,
           0
          ],
          [
           5,
           5,
           8,
           0
          ],
          [
           77,
           5,
           22,
           0
          ],
          [
           6,
           2,
           9,
           0
          ],
          [
           106,
           6,
           39,
           0
          ],
          [
           54,
           6,
           33,
           0
          ],
          [
           64,
           4,
           36,
           0
          ],
          [
           128,
           6,
           66,
           0
          ],
          [
           124,
           6,
           66,
           0
          ],
          [
           28,
           7,
           6,
           0
          ],
          [
           76,
           9,
           15,
           0
          ],
          [
           11,
           6,
           12,
           0
          ],
          [
           5,
           4,
           9,
           0
          ],
          [
           47,
           6,
           33,
           0
          ],
          [
           57,
           8,
           26,
           0
          ],
          [
           43,
           3,
           25,
           0
          ],
          [
           57,
           5,
           22,
           0
          ],
          [
           47,
           2,
           16,
           0
          ],
          [
           85,
           7,
           38,
           0
          ],
          [
           37,
           8,
           25,
           0
          ],
          [
           58,
           6,
           48,
           0
          ],
          [
           58,
           9,
           30,
           0
          ],
          [
           59,
           6,
           44,
           0
          ],
          [
           109,
           7,
           54,
           0
          ],
          [
           70,
           5,
           20,
           0
          ],
          [
           5,
           4,
           10,
           0
          ],
          [
           5,
           5,
           12,
           0
          ],
          [
           5,
           4,
           9,
           0
          ],
          [
           5,
           4,
           8,
           0
          ],
          [
           334,
           8,
           70,
           0
          ],
          [
           468,
           6,
           79,
           0
          ],
          [
           69,
           3,
           10,
           0
          ],
          [
           56,
           3,
           12,
           0
          ],
          [
           5,
           2,
           6,
           0
          ],
          [
           5,
           2,
           7,
           0
          ],
          [
           347,
           7,
           71,
           0
          ],
          [
           392,
           5,
           70,
           0
          ],
          [
           64,
           4,
           19,
           0
          ],
          [
           69,
           7,
           19,
           0
          ],
          [
           6,
           3,
           7,
           0
          ],
          [
           78,
           2,
           20,
           0
          ],
          [
           438,
           5,
           68,
           0
          ],
          [
           41,
           2,
           15,
           0
          ],
          [
           87,
           2,
           21,
           0
          ],
          [
           178,
           3,
           37,
           0
          ],
          [
           61,
           3,
           17,
           0
          ],
          [
           59,
           3,
           17,
           0
          ],
          [
           51,
           2,
           17,
           0
          ],
          [
           70,
           2,
           21,
           0
          ],
          [
           49,
           2,
           20,
           0
          ],
          [
           45,
           2,
           14,
           0
          ],
          [
           109,
           7,
           40,
           0
          ],
          [
           5,
           5,
           7,
           0
          ],
          [
           276,
           8,
           41,
           0
          ],
          [
           74,
           6,
           29,
           0
          ],
          [
           7,
           4,
           10,
           0
          ],
          [
           14,
           4,
           13,
           0
          ],
          [
           12,
           3,
           7,
           0
          ],
          [
           5,
           4,
           10,
           0
          ],
          [
           5,
           4,
           7,
           0
          ],
          [
           6,
           6,
           7,
           0
          ],
          [
           12,
           5,
           7,
           0
          ],
          [
           455,
           3,
           113,
           0
          ],
          [
           82,
           8,
           36,
           0
          ],
          [
           89,
           9,
           20,
           0
          ],
          [
           11,
           4,
           12,
           0
          ],
          [
           24,
           2,
           9,
           0
          ],
          [
           355,
           5,
           71,
           0
          ],
          [
           106,
           2,
           31,
           0
          ],
          [
           6,
           2,
           7,
           0
          ],
          [
           114,
           2,
           25,
           0
          ],
          [
           1547,
           6,
           327,
           0
          ],
          [
           81,
           2,
           9,
           0
          ],
          [
           11,
           4,
           8,
           0
          ],
          [
           14,
           4,
           7,
           0
          ],
          [
           11,
           6,
           6,
           0
          ],
          [
           5,
           5,
           7,
           0
          ],
          [
           6,
           4,
           8,
           0
          ],
          [
           43,
           4,
           15,
           0
          ],
          [
           6,
           2,
           7,
           0
          ],
          [
           18,
           6,
           25,
           0
          ],
          [
           6,
           4,
           7,
           0
          ],
          [
           11,
           7,
           14,
           0
          ],
          [
           64,
           3,
           19,
           0
          ],
          [
           174,
           8,
           41,
           0
          ],
          [
           7,
           2,
           8,
           0
          ],
          [
           215,
           7,
           38,
           0
          ],
          [
           218,
           9,
           40,
           0
          ],
          [
           117,
           6,
           28,
           0
          ],
          [
           106,
           6,
           31,
           0
          ],
          [
           82,
           7,
           31,
           0
          ],
          [
           179,
           9,
           42,
           0
          ],
          [
           6,
           2,
           7,
           0
          ],
          [
           70,
           2,
           18,
           0
          ],
          [
           49,
           3,
           17,
           0
          ],
          [
           49,
           6,
           17,
           0
          ],
          [
           8,
           5,
           11,
           0
          ],
          [
           35,
           8,
           14,
           0
          ],
          [
           31,
           3,
           10,
           0
          ],
          [
           153,
           4,
           41,
           0
          ],
          [
           204,
           5,
           37,
           0
          ],
          [
           249,
           4,
           47,
           0
          ],
          [
           6,
           2,
           8,
           0
          ],
          [
           168,
           8,
           42,
           0
          ],
          [
           173,
           3,
           44,
           0
          ],
          [
           214,
           8,
           38,
           0
          ],
          [
           325,
           9,
           57,
           0
          ],
          [
           106,
           7,
           31,
           0
          ],
          [
           207,
           8,
           39,
           0
          ],
          [
           84,
           8,
           20,
           0
          ],
          [
           11,
           7,
           14,
           0
          ],
          [
           37,
           2,
           8,
           0
          ],
          [
           32,
           3,
           19,
           0
          ],
          [
           35,
           2,
           26,
           0
          ],
          [
           25,
           2,
           12,
           0
          ],
          [
           28,
           2,
           10,
           0
          ],
          [
           7,
           2,
           13,
           0
          ],
          [
           1575,
           9,
           500,
           0
          ],
          [
           398,
           8,
           81,
           0
          ],
          [
           156,
           4,
           22,
           0
          ],
          [
           6,
           2,
           9,
           0
          ],
          [
           5,
           2,
           8,
           0
          ],
          [
           18,
           3,
           8,
           0
          ],
          [
           221,
           5,
           43,
           0
          ],
          [
           143,
           4,
           19,
           0
          ],
          [
           10,
           2,
           7,
           0
          ],
          [
           82,
           2,
           19,
           0
          ],
          [
           97,
           3,
           18,
           0
          ],
          [
           365,
           5,
           80,
           0
          ],
          [
           110,
           3,
           18,
           0
          ],
          [
           155,
           4,
           24,
           0
          ],
          [
           226,
           4,
           39,
           0
          ],
          [
           113,
           3,
           19,
           0
          ],
          [
           29,
           3,
           11,
           0
          ],
          [
           147,
           2,
           29,
           0
          ],
          [
           43,
           2,
           6,
           0
          ],
          [
           30,
           2,
           9,
           0
          ],
          [
           72,
           2,
           12,
           0
          ],
          [
           65,
           4,
           21,
           0
          ],
          [
           30,
           2,
           11,
           0
          ],
          [
           7,
           3,
           12,
           0
          ],
          [
           7,
           2,
           7,
           0
          ],
          [
           5,
           2,
           8,
           0
          ],
          [
           116,
           2,
           28,
           0
          ],
          [
           24,
           4,
           18,
           0
          ],
          [
           85,
           2,
           20,
           0
          ],
          [
           43,
           3,
           17,
           0
          ],
          [
           46,
           2,
           21,
           0
          ],
          [
           32,
           2,
           22,
           0
          ],
          [
           98,
           2,
           41,
           0
          ],
          [
           229,
           2,
           75,
           0
          ],
          [
           18,
           3,
           6,
           0
          ],
          [
           51,
           3,
           15,
           0
          ],
          [
           12,
           5,
           7,
           0
          ],
          [
           204,
           8,
           30,
           0
          ],
          [
           126,
           9,
           23,
           0
          ],
          [
           4,
           4,
           6,
           0
          ],
          [
           393,
           6,
           108,
           0
          ],
          [
           97,
           8,
           21,
           0
          ],
          [
           37,
           7,
           17,
           0
          ],
          [
           176,
           7,
           30,
           0
          ],
          [
           119,
           6,
           35,
           0
          ],
          [
           180,
           9,
           54,
           0
          ],
          [
           6,
           4,
           10,
           0
          ],
          [
           88,
           5,
           23,
           0
          ],
          [
           95,
           8,
           28,
           0
          ],
          [
           89,
           4,
           24,
           0
          ],
          [
           5,
           5,
           13,
           0
          ],
          [
           86,
           6,
           14,
           0
          ],
          [
           70,
           6,
           15,
           0
          ],
          [
           58,
           8,
           14,
           0
          ],
          [
           9,
           2,
           7,
           0
          ],
          [
           90,
           5,
           23,
           0
          ],
          [
           5,
           3,
           10,
           0
          ],
          [
           5,
           3,
           10,
           0
          ],
          [
           182,
           8,
           42,
           0
          ],
          [
           158,
           8,
           28,
           0
          ],
          [
           48,
           6,
           15,
           0
          ],
          [
           6,
           2,
           11,
           0
          ],
          [
           7,
           2,
           8,
           0
          ],
          [
           144,
           5,
           37,
           0
          ],
          [
           7,
           4,
           11,
           0
          ],
          [
           79,
           2,
           46,
           0
          ],
          [
           25,
           5,
           12,
           0
          ],
          [
           6,
           4,
           7,
           0
          ],
          [
           7,
           3,
           7,
           0
          ],
          [
           155,
           8,
           44,
           0
          ],
          [
           146,
           7,
           33,
           0
          ],
          [
           380,
           8,
           94,
           0
          ],
          [
           8,
           5,
           11,
           0
          ],
          [
           152,
           8,
           38,
           0
          ],
          [
           56,
           8,
           15,
           0
          ],
          [
           126,
           7,
           37,
           0
          ],
          [
           56,
           7,
           13,
           0
          ],
          [
           203,
           9,
           51,
           0
          ],
          [
           6,
           5,
           9,
           0
          ],
          [
           6,
           6,
           7,
           0
          ],
          [
           181,
           2,
           58,
           0
          ],
          [
           14,
           2,
           20,
           0
          ],
          [
           93,
           2,
           47,
           0
          ],
          [
           66,
           2,
           28,
           0
          ],
          [
           56,
           2,
           24,
           0
          ],
          [
           4,
           4,
           8,
           0
          ],
          [
           42,
           4,
           14,
           0
          ],
          [
           50,
           4,
           16,
           0
          ],
          [
           38,
           6,
           12,
           0
          ],
          [
           42,
           4,
           15,
           0
          ],
          [
           15,
           4,
           17,
           0
          ],
          [
           283,
           6,
           66,
           0
          ],
          [
           98,
           8,
           19,
           0
          ],
          [
           79,
           8,
           20,
           0
          ],
          [
           203,
           6,
           43,
           0
          ],
          [
           70,
           7,
           42,
           0
          ],
          [
           28,
           3,
           12,
           0
          ],
          [
           5,
           4,
           12,
           0
          ],
          [
           11,
           3,
           7,
           0
          ],
          [
           5,
           3,
           9,
           0
          ],
          [
           136,
           7,
           37,
           0
          ],
          [
           78,
           4,
           22,
           0
          ],
          [
           8,
           3,
           8,
           0
          ],
          [
           5,
           3,
           7,
           0
          ],
          [
           42,
           6,
           13,
           0
          ],
          [
           13,
           3,
           14,
           0
          ],
          [
           50,
           4,
           15,
           0
          ],
          [
           4,
           2,
           6,
           0
          ],
          [
           4,
           3,
           9,
           0
          ],
          [
           4,
           3,
           6,
           0
          ],
          [
           5,
           5,
           9,
           0
          ],
          [
           9,
           2,
           6,
           0
          ],
          [
           5,
           3,
           9,
           0
          ],
          [
           11,
           6,
           11,
           0
          ],
          [
           8,
           2,
           8,
           0
          ],
          [
           4,
           2,
           7,
           0
          ],
          [
           109,
           5,
           23,
           0
          ],
          [
           96,
           2,
           21,
           0
          ],
          [
           4,
           4,
           8,
           0
          ],
          [
           72,
           4,
           18,
           0
          ],
          [
           4,
           2,
           4,
           0
          ],
          [
           85,
           4,
           17,
           0
          ],
          [
           6,
           3,
           5,
           0
          ],
          [
           156,
           4,
           39,
           0
          ],
          [
           102,
           7,
           26,
           0
          ],
          [
           56,
           8,
           14,
           0
          ],
          [
           149,
           8,
           41,
           0
          ],
          [
           244,
           7,
           59,
           0
          ],
          [
           4,
           4,
           6,
           0
          ],
          [
           84,
           9,
           20,
           0
          ],
          [
           5,
           5,
           6,
           0
          ],
          [
           8,
           5,
           16,
           0
          ],
          [
           12,
           6,
           16,
           0
          ],
          [
           72,
           9,
           12,
           0
          ],
          [
           49,
           7,
           11,
           0
          ],
          [
           196,
           8,
           57,
           0
          ],
          [
           6,
           4,
           7,
           0
          ],
          [
           6,
           5,
           6,
           0
          ],
          [
           12,
           2,
           6,
           0
          ],
          [
           12,
           2,
           6,
           0
          ],
          [
           12,
           2,
           6,
           0
          ],
          [
           12,
           2,
           6,
           0
          ],
          [
           12,
           2,
           6,
           0
          ],
          [
           12,
           2,
           6,
           0
          ],
          [
           110,
           7,
           29,
           0
          ],
          [
           24,
           4,
           28,
           0
          ],
          [
           125,
           7,
           21,
           0
          ],
          [
           17,
           5,
           37,
           0
          ],
          [
           412,
           8,
           70,
           0
          ],
          [
           239,
           7,
           69,
           0
          ],
          [
           196,
           7,
           45,
           0
          ],
          [
           363,
           8,
           63,
           0
          ],
          [
           62,
           3,
           12,
           0
          ],
          [
           213,
           8,
           64,
           0
          ],
          [
           6,
           5,
           6,
           0
          ],
          [
           65,
           6,
           13,
           0
          ],
          [
           8,
           4,
           13,
           0
          ],
          [
           223,
           4,
           44,
           0
          ],
          [
           130,
           7,
           33,
           0
          ],
          [
           9,
           4,
           11,
           0
          ],
          [
           234,
           5,
           54,
           0
          ],
          [
           44,
           5,
           16,
           0
          ],
          [
           403,
           4,
           96,
           0
          ],
          [
           111,
           4,
           23,
           0
          ],
          [
           197,
           9,
           44,
           0
          ],
          [
           194,
           8,
           41,
           0
          ],
          [
           207,
           9,
           41,
           0
          ],
          [
           239,
           8,
           53,
           0
          ],
          [
           165,
           8,
           44,
           0
          ],
          [
           59,
           5,
           14,
           0
          ],
          [
           51,
           6,
           11,
           0
          ],
          [
           38,
           6,
           12,
           0
          ],
          [
           196,
           9,
           46,
           0
          ],
          [
           91,
           6,
           21,
           0
          ],
          [
           6,
           5,
           7,
           0
          ],
          [
           6,
           7,
           6,
           0
          ],
          [
           6,
           3,
           7,
           0
          ],
          [
           66,
           7,
           16,
           0
          ],
          [
           127,
           4,
           30,
           0
          ],
          [
           302,
           9,
           75,
           0
          ],
          [
           6,
           2,
           6,
           0
          ],
          [
           4,
           3,
           7,
           0
          ],
          [
           5,
           5,
           9,
           0
          ],
          [
           6,
           4,
           7,
           0
          ],
          [
           48,
           3,
           13,
           0
          ],
          [
           56,
           5,
           13,
           0
          ],
          [
           74,
           5,
           14,
           0
          ],
          [
           9,
           3,
           8,
           0
          ],
          [
           62,
           2,
           12,
           0
          ],
          [
           53,
           2,
           13,
           0
          ],
          [
           45,
           2,
           13,
           0
          ],
          [
           39,
           2,
           11,
           0
          ],
          [
           60,
           2,
           14,
           0
          ],
          [
           41,
           3,
           14,
           0
          ],
          [
           28,
           4,
           11,
           0
          ],
          [
           13,
           3,
           8,
           0
          ],
          [
           143,
           7,
           38,
           0
          ],
          [
           155,
           9,
           47,
           0
          ],
          [
           197,
           8,
           99,
           0
          ],
          [
           128,
           6,
           27,
           0
          ],
          [
           186,
           7,
           59,
           0
          ],
          [
           148,
           8,
           61,
           0
          ],
          [
           158,
           7,
           69,
           0
          ],
          [
           11,
           4,
           30,
           0
          ],
          [
           180,
           9,
           50,
           0
          ],
          [
           10,
           4,
           31,
           0
          ],
          [
           75,
           4,
           26,
           0
          ],
          [
           108,
           8,
           36,
           0
          ],
          [
           35,
           4,
           9,
           0
          ],
          [
           77,
           5,
           20,
           0
          ],
          [
           13,
           3,
           22,
           0
          ],
          [
           4,
           4,
           7,
           0
          ],
          [
           48,
           3,
           12,
           0
          ],
          [
           36,
           3,
           13,
           0
          ],
          [
           44,
           3,
           20,
           0
          ],
          [
           6,
           5,
           11,
           0
          ],
          [
           5,
           5,
           10,
           0
          ],
          [
           34,
           6,
           10,
           0
          ],
          [
           40,
           3,
           22,
           0
          ],
          [
           6,
           4,
           8,
           0
          ],
          [
           125,
           6,
           40,
           0
          ],
          [
           71,
           3,
           20,
           0
          ],
          [
           93,
           9,
           19,
           0
          ],
          [
           11,
           5,
           13,
           0
          ],
          [
           73,
           2,
           27,
           0
          ],
          [
           6,
           5,
           7,
           0
          ],
          [
           58,
           4,
           14,
           0
          ],
          [
           56,
           5,
           12,
           0
          ],
          [
           49,
           3,
           26,
           0
          ],
          [
           70,
           8,
           15,
           0
          ],
          [
           6,
           4,
           7,
           0
          ],
          [
           5,
           4,
           11,
           0
          ],
          [
           41,
           4,
           12,
           0
          ],
          [
           37,
           5,
           10,
           0
          ],
          [
           39,
           3,
           22,
           0
          ],
          [
           6,
           4,
           8,
           0
          ],
          [
           41,
           4,
           13,
           0
          ]
         ],
         "hovertemplate": "group=%{customdata[3]}<br>DCP=%{x}<br>NCLOC=%{customdata[0]}<br>NOCom=%{customdata[1]}<br>WMC=%{customdata[2]}<extra></extra>",
         "legendgroup": "0",
         "marker": {
          "color": "#636efa"
         },
         "name": "0",
         "notched": true,
         "offsetgroup": "0",
         "showlegend": false,
         "type": "box",
         "visible": true,
         "x": [
          65.66,
          58.6,
          87.72,
          83.33,
          50,
          82.81,
          89.06,
          87.5,
          86.49,
          87.23,
          90.57,
          37.5,
          37.5,
          60.75,
          49.28,
          82.09,
          88.64,
          88.64,
          88.64,
          87.5,
          88.68,
          61.42,
          87.23,
          67.9,
          44.74,
          62.29,
          87.5,
          56.77,
          40.71,
          88.89,
          58.33,
          65.71,
          65,
          88.68,
          55.84,
          75.68,
          53.91,
          41.01,
          80.56,
          45.04,
          45.98,
          57.39,
          77.38,
          60.43,
          26.64,
          50.63,
          54.24,
          67.23,
          58.6,
          88.89,
          61.68,
          63.08,
          91.89,
          91.73,
          65.85,
          89.71,
          87.13,
          52.8,
          85,
          76,
          79.17,
          25.24,
          53.33,
          58.86,
          41.57,
          70.27,
          92.59,
          90.57,
          43.07,
          40.69,
          88.46,
          53.44,
          60.4,
          53.02,
          91.67,
          91.49,
          73.12,
          58.01,
          92.16,
          55.84,
          76.92,
          58.53,
          56.79,
          86.05,
          70.22,
          86.32,
          63.64,
          88.46,
          62.18,
          69.23,
          61.54,
          51.21,
          86.32,
          63.46,
          63.64,
          73.86,
          61.61,
          54.74,
          82.46,
          65.35,
          63.4,
          78.79,
          88,
          80.65,
          90.91,
          70.43,
          87.23,
          90.38,
          69.57,
          88.89,
          89.8,
          80.95,
          88,
          81.25,
          90,
          78.16,
          89.8,
          80.33,
          90,
          76.74,
          48.54,
          81.16,
          81.54,
          83.33,
          93.44,
          87.1,
          70.18,
          43.62,
          48.85,
          66.15,
          44.37,
          41.79,
          34.07,
          46.42,
          51.64,
          60.9,
          59.86,
          52.48,
          90.91,
          91.07,
          91.8,
          90,
          54.44,
          88.89,
          46.46,
          55.74,
          54.61,
          48.18,
          48.97,
          69.57,
          55.29,
          87.06,
          90.74,
          64.66,
          60.42,
          63.87,
          58.39,
          59.13,
          63.04,
          71.32,
          66.47,
          61.59,
          66.09,
          52.81,
          55.13,
          90.74,
          91.23,
          90.57,
          90.57,
          51.1,
          52.39,
          59.41,
          60.56,
          90,
          88.89,
          43.76,
          40.79,
          59.24,
          60.34,
          87.23,
          50,
          43.56,
          62.73,
          45.96,
          52.66,
          53.79,
          54.62,
          57.5,
          50,
          58.82,
          58.72,
          66.36,
          91.67,
          40.39,
          61.66,
          88.14,
          86.27,
          80.65,
          90.2,
          92.06,
          87.5,
          86.36,
          39.74,
          58.38,
          55.05,
          86.25,
          75,
          38.15,
          46.46,
          87.5,
          54.94,
          47.04,
          66.11,
          83.08,
          77.05,
          82.26,
          91.38,
          88.68,
          68.15,
          88.46,
          88.08,
          89.66,
          86.9,
          65.59,
          46.3,
          86.54,
          36.76,
          34.34,
          46.82,
          47.52,
          59.61,
          47.97,
          89.47,
          64.29,
          68.59,
          68.79,
          89.04,
          80.77,
          69.9,
          38.06,
          40.7,
          43.02,
          88.46,
          50.88,
          38.65,
          36.87,
          34.08,
          47.52,
          34.08,
          46.5,
          86.25,
          79.67,
          68.32,
          69.3,
          69.88,
          70.83,
          88.14,
          42.73,
          29.81,
          34.73,
          88.46,
          90,
          77.78,
          50.11,
          38.63,
          82.76,
          44.59,
          35.76,
          34.94,
          41.18,
          38.74,
          38.42,
          37.91,
          66.28,
          37.71,
          57,
          63.86,
          50.68,
          53.24,
          61.54,
          91.03,
          86,
          89.58,
          46.05,
          85,
          53.04,
          51.14,
          66.18,
          69.52,
          55.86,
          54.29,
          71.43,
          64.83,
          78.18,
          46.03,
          52.99,
          90.91,
          43.78,
          56.5,
          75.97,
          46.67,
          46.64,
          54.55,
          91.78,
          50.84,
          53.43,
          53.89,
          92.19,
          51.96,
          53.64,
          58.57,
          85,
          50.82,
          92.42,
          91.8,
          39.13,
          44.37,
          61.6,
          87.23,
          82.5,
          59.44,
          89.71,
          49.36,
          71.26,
          90.77,
          88.71,
          48.68,
          64.56,
          48.79,
          90.8,
          56.32,
          63.4,
          48.99,
          62.42,
          50.85,
          91.89,
          87.23,
          48.29,
          88.62,
          52.06,
          57.69,
          60,
          92.59,
          65.29,
          61.24,
          67.52,
          65.29,
          90.63,
          54.13,
          57.21,
          57.07,
          54.38,
          68.33,
          72,
          91.23,
          86.25,
          91.23,
          55.7,
          56.91,
          85.96,
          89.13,
          67.19,
          90.78,
          57.98,
          91.49,
          91.49,
          90.7,
          89.8,
          84.48,
          90.74,
          85.9,
          86.21,
          91.49,
          60.07,
          48.39,
          91.49,
          50,
          90.24,
          51.43,
          86.96,
          50.32,
          45.45,
          58.52,
          52.7,
          47.19,
          92,
          44.37,
          90.38,
          91.01,
          88.35,
          48.94,
          54.21,
          53.77,
          91.43,
          88.68,
          80.65,
          80.65,
          80.65,
          80.33,
          80.95,
          79.66,
          44.72,
          88.99,
          52.47,
          89.7,
          52.59,
          54.3,
          48.42,
          46.93,
          60.26,
          54.19,
          88.46,
          60.37,
          87.88,
          32.42,
          49.81,
          88.75,
          44.29,
          70.07,
          53.14,
          57.31,
          55.53,
          52.91,
          53.79,
          51.72,
          44.26,
          59.03,
          60.47,
          70.08,
          53.33,
          54.73,
          89.47,
          87.5,
          87.76,
          60.71,
          47.08,
          49.24,
          88.68,
          92.31,
          91.53,
          91.3,
          60.33,
          58.21,
          54.04,
          84.21,
          58.94,
          62.41,
          62.81,
          65.79,
          59.18,
          64.66,
          68.89,
          78.33,
          62.66,
          61.06,
          62.48,
          60,
          52.79,
          58.77,
          60.7,
          91.97,
          58.72,
          89.69,
          62.5,
          60.29,
          73.28,
          57.69,
          91.28,
          92.98,
          64.44,
          69.23,
          72.84,
          91.78,
          92.54,
          67.31,
          75.31,
          91.67,
          64.79,
          54.19,
          58.11,
          89.81,
          69.71,
          89.09,
          59.44,
          58.21,
          74.07,
          49.28,
          89.29,
          91.67,
          63.39,
          64.08,
          76.07,
          91.78,
          64.66
         ],
         "xaxis": "x2",
         "yaxis": "y2"
        },
        {
         "alignmentgroup": "True",
         "bingroup": "x",
         "hovertemplate": "group=1<br>DCP=%{x}<br>count=%{y}<extra></extra>",
         "legendgroup": "1",
         "marker": {
          "color": "#EF553B",
          "pattern": {
           "shape": ""
          }
         },
         "name": "1",
         "offsetgroup": "1",
         "orientation": "v",
         "showlegend": true,
         "type": "histogram",
         "visible": true,
         "x": [
          49.23,
          50.42,
          56.37,
          48.54,
          52.54,
          47.04,
          50.74,
          45.62,
          48.99,
          46.73,
          44.12,
          51.63,
          40.95,
          48.63,
          43.98,
          37.69,
          36.35,
          41.45,
          41.7,
          38.98,
          41.31,
          37.89,
          49.64,
          55.73,
          50.39,
          53.26,
          44.86,
          46.52,
          62.7,
          58.64,
          62.86,
          58.42,
          58.42,
          58.42,
          48.14,
          52.8,
          50.79,
          47.17,
          46.61,
          41.6,
          42.69,
          40.39,
          42.57,
          55.79,
          51.18,
          58.68,
          57.05,
          50.4,
          50.36,
          55.96,
          52.61,
          53.73,
          53.71,
          54.58,
          47.95,
          55.56,
          44.71,
          50.27,
          55.68,
          46.33,
          47.46,
          47.15,
          47.09,
          39.07,
          45.15,
          55.48,
          40.01,
          35.79,
          43.08,
          41.11,
          88.19,
          36.76,
          32.01,
          44.91,
          51.03,
          45.64,
          49.63,
          35.16,
          37.57,
          33.98,
          36.85,
          39.16,
          41.79,
          36.09,
          47.56,
          39.02,
          45.76,
          48.95,
          44.99,
          40.11,
          48.34,
          40.37,
          40.31,
          42.53,
          46.69,
          40.79,
          38.26,
          33.02,
          49.7,
          48.67,
          87.26,
          51.67,
          51.6,
          44.28,
          48.14,
          47.15,
          48.74,
          42.4,
          49.63,
          51.35,
          41.38,
          46.92,
          50.94,
          49.7,
          50.08,
          37.27,
          60.68,
          64.25,
          43.55,
          58.41,
          57.01,
          58.81,
          55,
          69.53,
          48,
          49.64,
          48.29,
          51.28,
          65.26,
          59,
          61.68,
          49.66,
          62.05,
          61.11,
          63.03,
          52.35,
          47.6,
          61.99
         ],
         "xaxis": "x",
         "yaxis": "y"
        },
        {
         "alignmentgroup": "True",
         "customdata": [
          [
           198,
           12,
           38,
           1
          ],
          [
           238,
           12,
           29,
           1
          ],
          [
           137,
           11,
           27,
           1
          ],
          [
           176,
           10,
           37,
           1
          ],
          [
           159,
           10,
           38,
           1
          ],
          [
           143,
           12,
           31,
           1
          ],
          [
           134,
           12,
           30,
           1
          ],
          [
           180,
           13,
           45,
           1
          ],
          [
           252,
           12,
           30,
           1
          ],
          [
           171,
           13,
           31,
           1
          ],
          [
           152,
           11,
           35,
           1
          ],
          [
           282,
           14,
           50,
           1
          ],
          [
           212,
           15,
           38,
           1
          ],
          [
           789,
           15,
           181,
           1
          ],
          [
           726,
           16,
           149,
           1
          ],
          [
           653,
           11,
           107,
           1
          ],
          [
           1063,
           17,
           207,
           1
          ],
          [
           565,
           12,
           130,
           1
          ],
          [
           597,
           10,
           166,
           1
          ],
          [
           670,
           14,
           127,
           1
          ],
          [
           233,
           11,
           53,
           1
          ],
          [
           423,
           11,
           85,
           1
          ],
          [
           767,
           14,
           197,
           1
          ],
          [
           259,
           13,
           58,
           1
          ],
          [
           126,
           10,
           28,
           1
          ],
          [
           179,
           14,
           31,
           1
          ],
          [
           118,
           11,
           23,
           1
          ],
          [
           1000,
           22,
           300,
           1
          ],
          [
           235,
           10,
           102,
           1
          ],
          [
           79,
           10,
           23,
           1
          ],
          [
           65,
           11,
           16,
           1
          ],
          [
           79,
           10,
           22,
           1
          ],
          [
           79,
           10,
           22,
           1
          ],
          [
           79,
           10,
           23,
           1
          ],
          [
           780,
           24,
           198,
           1
          ],
          [
           135,
           12,
           61,
           1
          ],
          [
           155,
           10,
           84,
           1
          ],
          [
           112,
           10,
           42,
           1
          ],
          [
           2415,
           32,
           683,
           1
          ],
          [
           358,
           14,
           89,
           1
          ],
          [
           396,
           15,
           104,
           1
          ],
          [
           307,
           12,
           78,
           1
          ],
          [
           371,
           16,
           97,
           1
          ],
          [
           298,
           16,
           44,
           1
          ],
          [
           228,
           10,
           51,
           1
          ],
          [
           100,
           11,
           46,
           1
          ],
          [
           131,
           10,
           30,
           1
          ],
          [
           373,
           16,
           83,
           1
          ],
          [
           279,
           10,
           43,
           1
          ],
          [
           159,
           12,
           37,
           1
          ],
          [
           327,
           16,
           76,
           1
          ],
          [
           149,
           10,
           44,
           1
          ],
          [
           181,
           10,
           36,
           1
          ],
          [
           417,
           11,
           101,
           1
          ],
          [
           507,
           15,
           103,
           1
          ],
          [
           268,
           13,
           61,
           1
          ],
          [
           643,
           19,
           111,
           1
          ],
          [
           656,
           22,
           190,
           1
          ],
          [
           117,
           11,
           28,
           1
          ],
          [
           988,
           27,
           249,
           1
          ],
          [
           331,
           22,
           70,
           1
          ],
          [
           677,
           24,
           114,
           1
          ],
          [
           764,
           20,
           157,
           1
          ],
          [
           237,
           10,
           33,
           1
          ],
          [
           2732,
           31,
           802,
           1
          ],
          [
           1235,
           30,
           346,
           1
          ],
          [
           925,
           28,
           185,
           1
          ],
          [
           192,
           10,
           36,
           1
          ],
          [
           683,
           16,
           168,
           1
          ],
          [
           596,
           16,
           122,
           1
          ],
          [
           170,
           16,
           201,
           1
          ],
          [
           351,
           12,
           58,
           1
          ],
          [
           291,
           12,
           80,
           1
          ],
          [
           222,
           12,
           42,
           1
          ],
          [
           379,
           14,
           89,
           1
          ],
          [
           268,
           11,
           48,
           1
          ],
          [
           269,
           13,
           63,
           1
          ],
          [
           284,
           12,
           50,
           1
          ],
          [
           216,
           11,
           47,
           1
          ],
          [
           342,
           12,
           70,
           1
          ],
          [
           269,
           11,
           63,
           1
          ],
          [
           261,
           10,
           56,
           1
          ],
          [
           489,
           22,
           90,
           1
          ],
          [
           974,
           30,
           178,
           1
          ],
          [
           429,
           15,
           81,
           1
          ],
          [
           200,
           12,
           51,
           1
          ],
          [
           243,
           10,
           59,
           1
          ],
          [
           170,
           13,
           45,
           1
          ],
          [
           335,
           10,
           88,
           1
          ],
          [
           224,
           11,
           51,
           1
          ],
          [
           466,
           20,
           124,
           1
          ],
          [
           387,
           17,
           113,
           1
          ],
          [
           234,
           13,
           43,
           1
          ],
          [
           623,
           18,
           151,
           1
          ],
          [
           258,
           17,
           54,
           1
          ],
          [
           434,
           12,
           89,
           1
          ],
          [
           192,
           10,
           41,
           1
          ],
          [
           708,
           15,
           148,
           1
          ],
          [
           169,
           12,
           40,
           1
          ],
          [
           213,
           10,
           45,
           1
          ],
          [
           169,
           19,
           157,
           1
          ],
          [
           521,
           21,
           127,
           1
          ],
          [
           272,
           14,
           69,
           1
          ],
          [
           258,
           13,
           70,
           1
          ],
          [
           293,
           11,
           76,
           1
          ],
          [
           167,
           15,
           46,
           1
          ],
          [
           142,
           10,
           30,
           1
          ],
          [
           947,
           20,
           159,
           1
          ],
          [
           137,
           11,
           40,
           1
          ],
          [
           108,
           10,
           25,
           1
          ],
          [
           469,
           13,
           100,
           1
          ],
          [
           112,
           12,
           30,
           1
          ],
          [
           209,
           12,
           63,
           1
          ],
          [
           255,
           13,
           62,
           1
          ],
          [
           316,
           11,
           59,
           1
          ],
          [
           1459,
           13,
           461,
           1
          ],
          [
           127,
           14,
           45,
           1
          ],
          [
           79,
           12,
           39,
           1
          ],
          [
           162,
           16,
           42,
           1
          ],
          [
           188,
           10,
           54,
           1
          ],
          [
           187,
           11,
           39,
           1
          ],
          [
           187,
           12,
           48,
           1
          ],
          [
           198,
           11,
           43,
           1
          ],
          [
           110,
           12,
           47,
           1
          ],
          [
           221,
           12,
           40,
           1
          ],
          [
           207,
           12,
           58,
           1
          ],
          [
           606,
           19,
           192,
           1
          ],
          [
           323,
           18,
           85,
           1
          ],
          [
           66,
           10,
           13,
           1
          ],
          [
           230,
           11,
           72,
           1
          ],
          [
           141,
           10,
           36,
           1
          ],
          [
           293,
           12,
           72,
           1
          ],
          [
           115,
           10,
           33,
           1
          ],
          [
           140,
           11,
           33,
           1
          ],
          [
           132,
           10,
           33,
           1
          ],
          [
           425,
           15,
           131,
           1
          ],
          [
           371,
           14,
           89,
           1
          ],
          [
           122,
           12,
           30,
           1
          ]
         ],
         "hovertemplate": "group=%{customdata[3]}<br>DCP=%{x}<br>NCLOC=%{customdata[0]}<br>NOCom=%{customdata[1]}<br>WMC=%{customdata[2]}<extra></extra>",
         "legendgroup": "1",
         "marker": {
          "color": "#EF553B"
         },
         "name": "1",
         "notched": true,
         "offsetgroup": "1",
         "showlegend": false,
         "type": "box",
         "visible": true,
         "x": [
          49.23,
          50.42,
          56.37,
          48.54,
          52.54,
          47.04,
          50.74,
          45.62,
          48.99,
          46.73,
          44.12,
          51.63,
          40.95,
          48.63,
          43.98,
          37.69,
          36.35,
          41.45,
          41.7,
          38.98,
          41.31,
          37.89,
          49.64,
          55.73,
          50.39,
          53.26,
          44.86,
          46.52,
          62.7,
          58.64,
          62.86,
          58.42,
          58.42,
          58.42,
          48.14,
          52.8,
          50.79,
          47.17,
          46.61,
          41.6,
          42.69,
          40.39,
          42.57,
          55.79,
          51.18,
          58.68,
          57.05,
          50.4,
          50.36,
          55.96,
          52.61,
          53.73,
          53.71,
          54.58,
          47.95,
          55.56,
          44.71,
          50.27,
          55.68,
          46.33,
          47.46,
          47.15,
          47.09,
          39.07,
          45.15,
          55.48,
          40.01,
          35.79,
          43.08,
          41.11,
          88.19,
          36.76,
          32.01,
          44.91,
          51.03,
          45.64,
          49.63,
          35.16,
          37.57,
          33.98,
          36.85,
          39.16,
          41.79,
          36.09,
          47.56,
          39.02,
          45.76,
          48.95,
          44.99,
          40.11,
          48.34,
          40.37,
          40.31,
          42.53,
          46.69,
          40.79,
          38.26,
          33.02,
          49.7,
          48.67,
          87.26,
          51.67,
          51.6,
          44.28,
          48.14,
          47.15,
          48.74,
          42.4,
          49.63,
          51.35,
          41.38,
          46.92,
          50.94,
          49.7,
          50.08,
          37.27,
          60.68,
          64.25,
          43.55,
          58.41,
          57.01,
          58.81,
          55,
          69.53,
          48,
          49.64,
          48.29,
          51.28,
          65.26,
          59,
          61.68,
          49.66,
          62.05,
          61.11,
          63.03,
          52.35,
          47.6,
          61.99
         ],
         "xaxis": "x2",
         "yaxis": "y2"
        }
       ],
       "layout": {
        "autosize": true,
        "barmode": "relative",
        "legend": {
         "title": {
          "text": "group"
         },
         "tracegroupgap": 0
        },
        "margin": {
         "t": 60
        },
        "template": {
         "data": {
          "bar": [
           {
            "error_x": {
             "color": "#2a3f5f"
            },
            "error_y": {
             "color": "#2a3f5f"
            },
            "marker": {
             "line": {
              "color": "#E5ECF6",
              "width": 0.5
             },
             "pattern": {
              "fillmode": "overlay",
              "size": 10,
              "solidity": 0.2
             }
            },
            "type": "bar"
           }
          ],
          "barpolar": [
           {
            "marker": {
             "line": {
              "color": "#E5ECF6",
              "width": 0.5
             },
             "pattern": {
              "fillmode": "overlay",
              "size": 10,
              "solidity": 0.2
             }
            },
            "type": "barpolar"
           }
          ],
          "carpet": [
           {
            "aaxis": {
             "endlinecolor": "#2a3f5f",
             "gridcolor": "white",
             "linecolor": "white",
             "minorgridcolor": "white",
             "startlinecolor": "#2a3f5f"
            },
            "baxis": {
             "endlinecolor": "#2a3f5f",
             "gridcolor": "white",
             "linecolor": "white",
             "minorgridcolor": "white",
             "startlinecolor": "#2a3f5f"
            },
            "type": "carpet"
           }
          ],
          "choropleth": [
           {
            "colorbar": {
             "outlinewidth": 0,
             "ticks": ""
            },
            "type": "choropleth"
           }
          ],
          "contour": [
           {
            "colorbar": {
             "outlinewidth": 0,
             "ticks": ""
            },
            "colorscale": [
             [
              0,
              "#0d0887"
             ],
             [
              0.1111111111111111,
              "#46039f"
             ],
             [
              0.2222222222222222,
              "#7201a8"
             ],
             [
              0.3333333333333333,
              "#9c179e"
             ],
             [
              0.4444444444444444,
              "#bd3786"
             ],
             [
              0.5555555555555556,
              "#d8576b"
             ],
             [
              0.6666666666666666,
              "#ed7953"
             ],
             [
              0.7777777777777778,
              "#fb9f3a"
             ],
             [
              0.8888888888888888,
              "#fdca26"
             ],
             [
              1,
              "#f0f921"
             ]
            ],
            "type": "contour"
           }
          ],
          "contourcarpet": [
           {
            "colorbar": {
             "outlinewidth": 0,
             "ticks": ""
            },
            "type": "contourcarpet"
           }
          ],
          "heatmap": [
           {
            "colorbar": {
             "outlinewidth": 0,
             "ticks": ""
            },
            "colorscale": [
             [
              0,
              "#0d0887"
             ],
             [
              0.1111111111111111,
              "#46039f"
             ],
             [
              0.2222222222222222,
              "#7201a8"
             ],
             [
              0.3333333333333333,
              "#9c179e"
             ],
             [
              0.4444444444444444,
              "#bd3786"
             ],
             [
              0.5555555555555556,
              "#d8576b"
             ],
             [
              0.6666666666666666,
              "#ed7953"
             ],
             [
              0.7777777777777778,
              "#fb9f3a"
             ],
             [
              0.8888888888888888,
              "#fdca26"
             ],
             [
              1,
              "#f0f921"
             ]
            ],
            "type": "heatmap"
           }
          ],
          "heatmapgl": [
           {
            "colorbar": {
             "outlinewidth": 0,
             "ticks": ""
            },
            "colorscale": [
             [
              0,
              "#0d0887"
             ],
             [
              0.1111111111111111,
              "#46039f"
             ],
             [
              0.2222222222222222,
              "#7201a8"
             ],
             [
              0.3333333333333333,
              "#9c179e"
             ],
             [
              0.4444444444444444,
              "#bd3786"
             ],
             [
              0.5555555555555556,
              "#d8576b"
             ],
             [
              0.6666666666666666,
              "#ed7953"
             ],
             [
              0.7777777777777778,
              "#fb9f3a"
             ],
             [
              0.8888888888888888,
              "#fdca26"
             ],
             [
              1,
              "#f0f921"
             ]
            ],
            "type": "heatmapgl"
           }
          ],
          "histogram": [
           {
            "marker": {
             "pattern": {
              "fillmode": "overlay",
              "size": 10,
              "solidity": 0.2
             }
            },
            "type": "histogram"
           }
          ],
          "histogram2d": [
           {
            "colorbar": {
             "outlinewidth": 0,
             "ticks": ""
            },
            "colorscale": [
             [
              0,
              "#0d0887"
             ],
             [
              0.1111111111111111,
              "#46039f"
             ],
             [
              0.2222222222222222,
              "#7201a8"
             ],
             [
              0.3333333333333333,
              "#9c179e"
             ],
             [
              0.4444444444444444,
              "#bd3786"
             ],
             [
              0.5555555555555556,
              "#d8576b"
             ],
             [
              0.6666666666666666,
              "#ed7953"
             ],
             [
              0.7777777777777778,
              "#fb9f3a"
             ],
             [
              0.8888888888888888,
              "#fdca26"
             ],
             [
              1,
              "#f0f921"
             ]
            ],
            "type": "histogram2d"
           }
          ],
          "histogram2dcontour": [
           {
            "colorbar": {
             "outlinewidth": 0,
             "ticks": ""
            },
            "colorscale": [
             [
              0,
              "#0d0887"
             ],
             [
              0.1111111111111111,
              "#46039f"
             ],
             [
              0.2222222222222222,
              "#7201a8"
             ],
             [
              0.3333333333333333,
              "#9c179e"
             ],
             [
              0.4444444444444444,
              "#bd3786"
             ],
             [
              0.5555555555555556,
              "#d8576b"
             ],
             [
              0.6666666666666666,
              "#ed7953"
             ],
             [
              0.7777777777777778,
              "#fb9f3a"
             ],
             [
              0.8888888888888888,
              "#fdca26"
             ],
             [
              1,
              "#f0f921"
             ]
            ],
            "type": "histogram2dcontour"
           }
          ],
          "mesh3d": [
           {
            "colorbar": {
             "outlinewidth": 0,
             "ticks": ""
            },
            "type": "mesh3d"
           }
          ],
          "parcoords": [
           {
            "line": {
             "colorbar": {
              "outlinewidth": 0,
              "ticks": ""
             }
            },
            "type": "parcoords"
           }
          ],
          "pie": [
           {
            "automargin": true,
            "type": "pie"
           }
          ],
          "scatter": [
           {
            "marker": {
             "colorbar": {
              "outlinewidth": 0,
              "ticks": ""
             }
            },
            "type": "scatter"
           }
          ],
          "scatter3d": [
           {
            "line": {
             "colorbar": {
              "outlinewidth": 0,
              "ticks": ""
             }
            },
            "marker": {
             "colorbar": {
              "outlinewidth": 0,
              "ticks": ""
             }
            },
            "type": "scatter3d"
           }
          ],
          "scattercarpet": [
           {
            "marker": {
             "colorbar": {
              "outlinewidth": 0,
              "ticks": ""
             }
            },
            "type": "scattercarpet"
           }
          ],
          "scattergeo": [
           {
            "marker": {
             "colorbar": {
              "outlinewidth": 0,
              "ticks": ""
             }
            },
            "type": "scattergeo"
           }
          ],
          "scattergl": [
           {
            "marker": {
             "colorbar": {
              "outlinewidth": 0,
              "ticks": ""
             }
            },
            "type": "scattergl"
           }
          ],
          "scattermapbox": [
           {
            "marker": {
             "colorbar": {
              "outlinewidth": 0,
              "ticks": ""
             }
            },
            "type": "scattermapbox"
           }
          ],
          "scatterpolar": [
           {
            "marker": {
             "colorbar": {
              "outlinewidth": 0,
              "ticks": ""
             }
            },
            "type": "scatterpolar"
           }
          ],
          "scatterpolargl": [
           {
            "marker": {
             "colorbar": {
              "outlinewidth": 0,
              "ticks": ""
             }
            },
            "type": "scatterpolargl"
           }
          ],
          "scatterternary": [
           {
            "marker": {
             "colorbar": {
              "outlinewidth": 0,
              "ticks": ""
             }
            },
            "type": "scatterternary"
           }
          ],
          "surface": [
           {
            "colorbar": {
             "outlinewidth": 0,
             "ticks": ""
            },
            "colorscale": [
             [
              0,
              "#0d0887"
             ],
             [
              0.1111111111111111,
              "#46039f"
             ],
             [
              0.2222222222222222,
              "#7201a8"
             ],
             [
              0.3333333333333333,
              "#9c179e"
             ],
             [
              0.4444444444444444,
              "#bd3786"
             ],
             [
              0.5555555555555556,
              "#d8576b"
             ],
             [
              0.6666666666666666,
              "#ed7953"
             ],
             [
              0.7777777777777778,
              "#fb9f3a"
             ],
             [
              0.8888888888888888,
              "#fdca26"
             ],
             [
              1,
              "#f0f921"
             ]
            ],
            "type": "surface"
           }
          ],
          "table": [
           {
            "cells": {
             "fill": {
              "color": "#EBF0F8"
             },
             "line": {
              "color": "white"
             }
            },
            "header": {
             "fill": {
              "color": "#C8D4E3"
             },
             "line": {
              "color": "white"
             }
            },
            "type": "table"
           }
          ]
         },
         "layout": {
          "annotationdefaults": {
           "arrowcolor": "#2a3f5f",
           "arrowhead": 0,
           "arrowwidth": 1
          },
          "autotypenumbers": "strict",
          "coloraxis": {
           "colorbar": {
            "outlinewidth": 0,
            "ticks": ""
           }
          },
          "colorscale": {
           "diverging": [
            [
             0,
             "#8e0152"
            ],
            [
             0.1,
             "#c51b7d"
            ],
            [
             0.2,
             "#de77ae"
            ],
            [
             0.3,
             "#f1b6da"
            ],
            [
             0.4,
             "#fde0ef"
            ],
            [
             0.5,
             "#f7f7f7"
            ],
            [
             0.6,
             "#e6f5d0"
            ],
            [
             0.7,
             "#b8e186"
            ],
            [
             0.8,
             "#7fbc41"
            ],
            [
             0.9,
             "#4d9221"
            ],
            [
             1,
             "#276419"
            ]
           ],
           "sequential": [
            [
             0,
             "#0d0887"
            ],
            [
             0.1111111111111111,
             "#46039f"
            ],
            [
             0.2222222222222222,
             "#7201a8"
            ],
            [
             0.3333333333333333,
             "#9c179e"
            ],
            [
             0.4444444444444444,
             "#bd3786"
            ],
            [
             0.5555555555555556,
             "#d8576b"
            ],
            [
             0.6666666666666666,
             "#ed7953"
            ],
            [
             0.7777777777777778,
             "#fb9f3a"
            ],
            [
             0.8888888888888888,
             "#fdca26"
            ],
            [
             1,
             "#f0f921"
            ]
           ],
           "sequentialminus": [
            [
             0,
             "#0d0887"
            ],
            [
             0.1111111111111111,
             "#46039f"
            ],
            [
             0.2222222222222222,
             "#7201a8"
            ],
            [
             0.3333333333333333,
             "#9c179e"
            ],
            [
             0.4444444444444444,
             "#bd3786"
            ],
            [
             0.5555555555555556,
             "#d8576b"
            ],
            [
             0.6666666666666666,
             "#ed7953"
            ],
            [
             0.7777777777777778,
             "#fb9f3a"
            ],
            [
             0.8888888888888888,
             "#fdca26"
            ],
            [
             1,
             "#f0f921"
            ]
           ]
          },
          "colorway": [
           "#636efa",
           "#EF553B",
           "#00cc96",
           "#ab63fa",
           "#FFA15A",
           "#19d3f3",
           "#FF6692",
           "#B6E880",
           "#FF97FF",
           "#FECB52"
          ],
          "font": {
           "color": "#2a3f5f"
          },
          "geo": {
           "bgcolor": "white",
           "lakecolor": "white",
           "landcolor": "#E5ECF6",
           "showlakes": true,
           "showland": true,
           "subunitcolor": "white"
          },
          "hoverlabel": {
           "align": "left"
          },
          "hovermode": "closest",
          "mapbox": {
           "style": "light"
          },
          "paper_bgcolor": "white",
          "plot_bgcolor": "#E5ECF6",
          "polar": {
           "angularaxis": {
            "gridcolor": "white",
            "linecolor": "white",
            "ticks": ""
           },
           "bgcolor": "#E5ECF6",
           "radialaxis": {
            "gridcolor": "white",
            "linecolor": "white",
            "ticks": ""
           }
          },
          "scene": {
           "xaxis": {
            "backgroundcolor": "#E5ECF6",
            "gridcolor": "white",
            "gridwidth": 2,
            "linecolor": "white",
            "showbackground": true,
            "ticks": "",
            "zerolinecolor": "white"
           },
           "yaxis": {
            "backgroundcolor": "#E5ECF6",
            "gridcolor": "white",
            "gridwidth": 2,
            "linecolor": "white",
            "showbackground": true,
            "ticks": "",
            "zerolinecolor": "white"
           },
           "zaxis": {
            "backgroundcolor": "#E5ECF6",
            "gridcolor": "white",
            "gridwidth": 2,
            "linecolor": "white",
            "showbackground": true,
            "ticks": "",
            "zerolinecolor": "white"
           }
          },
          "shapedefaults": {
           "line": {
            "color": "#2a3f5f"
           }
          },
          "ternary": {
           "aaxis": {
            "gridcolor": "white",
            "linecolor": "white",
            "ticks": ""
           },
           "baxis": {
            "gridcolor": "white",
            "linecolor": "white",
            "ticks": ""
           },
           "bgcolor": "#E5ECF6",
           "caxis": {
            "gridcolor": "white",
            "linecolor": "white",
            "ticks": ""
           }
          },
          "title": {
           "x": 0.05
          },
          "xaxis": {
           "automargin": true,
           "gridcolor": "white",
           "linecolor": "white",
           "ticks": "",
           "title": {
            "standoff": 15
           },
           "zerolinecolor": "white",
           "zerolinewidth": 2
          },
          "yaxis": {
           "automargin": true,
           "gridcolor": "white",
           "linecolor": "white",
           "ticks": "",
           "title": {
            "standoff": 15
           },
           "zerolinecolor": "white",
           "zerolinewidth": 2
          }
         }
        },
        "xaxis": {
         "anchor": "y",
         "autorange": true,
         "domain": [
          0,
          1
         ],
         "range": [
          21.45111111111111,
          97.22888888888889
         ],
         "title": {
          "text": "DCP"
         },
         "type": "linear"
        },
        "xaxis2": {
         "anchor": "y2",
         "autorange": true,
         "domain": [
          0,
          1
         ],
         "matches": "x",
         "range": [
          21.45111111111111,
          97.22888888888889
         ],
         "showgrid": true,
         "showticklabels": false,
         "type": "linear"
        },
        "yaxis": {
         "anchor": "x",
         "autorange": true,
         "domain": [
          0,
          0.7326
         ],
         "range": [
          0,
          89.47368421052632
         ],
         "title": {
          "text": "count"
         }
        },
        "yaxis2": {
         "anchor": "x2",
         "autorange": true,
         "domain": [
          0.7426,
          1
         ],
         "matches": "y2",
         "range": [
          -0.5,
          1.5
         ],
         "showgrid": false,
         "showline": false,
         "showticklabels": false,
         "ticks": "",
         "type": "category"
        }
       }
      },
      "image/png": "[encoded data removed]",
      "text/html": [
       "<div>                            <div id=\"190a6fd0-6df7-4305-8240-9f91efb89c31\" class=\"plotly-graph-div\" style=\"height:525px; width:100%;\"></div>            <script type=\"text/javascript\">                require([\"plotly\"], function(Plotly) {                    window.PLOTLYENV=window.PLOTLYENV || {};                                    if (document.getElementById(\"190a6fd0-6df7-4305-8240-9f91efb89c31\")) {                    Plotly.newPlot(                        \"190a6fd0-6df7-4305-8240-9f91efb89c31\",                        [{\"alignmentgroup\":\"True\",\"bingroup\":\"x\",\"hovertemplate\":\"group=0<br>DCP=%{x}<br>count=%{y}<extra></extra>\",\"legendgroup\":\"0\",\"marker\":{\"color\":\"#636efa\",\"pattern\":{\"shape\":\"\"}},\"name\":\"0\",\"offsetgroup\":\"0\",\"orientation\":\"v\",\"showlegend\":true,\"type\":\"histogram\",\"x\":[65.66,58.6,87.72,83.33,50.0,82.81,89.06,87.5,86.49,87.23,90.57,37.5,37.5,60.75,49.28,82.09,88.64,88.64,88.64,87.5,88.68,61.42,87.23,67.9,44.74,62.29,87.5,56.77,40.71,88.89,58.33,65.71,65.0,88.68,55.84,75.68,53.91,41.01,80.56,45.04,45.98,57.39,77.38,60.43,26.64,50.63,54.24,67.23,58.6,88.89,61.68,63.08,91.89,91.73,65.85,89.71,87.13,52.8,85.0,76.0,79.17,25.24,53.33,58.86,41.57,70.27,92.59,90.57,43.07,40.69,88.46,53.44,60.4,53.02,91.67,91.49,73.12,58.01,92.16,55.84,76.92,58.53,56.79,86.05,70.22,86.32,63.64,88.46,62.18,69.23,61.54,51.21,86.32,63.46,63.64,73.86,61.61,54.74,82.46,65.35,63.4,78.79,88.0,80.65,90.91,70.43,87.23,90.38,69.57,88.89,89.8,80.95,88.0,81.25,90.0,78.16,89.8,80.33,90.0,76.74,48.54,81.16,81.54,83.33,93.44,87.1,70.18,43.62,48.85,66.15,44.37,41.79,34.07,46.42,51.64,60.9,59.86,52.48,90.91,91.07,91.8,90.0,54.44,88.89,46.46,55.74,54.61,48.18,48.97,69.57,55.29,87.06,90.74,64.66,60.42,63.87,58.39,59.13,63.04,71.32,66.47,61.59,66.09,52.81,55.13,90.74,91.23,90.57,90.57,51.1,52.39,59.41,60.56,90.0,88.89,43.76,40.79,59.24,60.34,87.23,50.0,43.56,62.73,45.96,52.66,53.79,54.62,57.5,50.0,58.82,58.72,66.36,91.67,40.39,61.66,88.14,86.27,80.65,90.2,92.06,87.5,86.36,39.74,58.38,55.05,86.25,75.0,38.15,46.46,87.5,54.94,47.04,66.11,83.08,77.05,82.26,91.38,88.68,68.15,88.46,88.08,89.66,86.9,65.59,46.3,86.54,36.76,34.34,46.82,47.52,59.61,47.97,89.47,64.29,68.59,68.79,89.04,80.77,69.9,38.06,40.7,43.02,88.46,50.88,38.65,36.87,34.08,47.52,34.08,46.5,86.25,79.67,68.32,69.3,69.88,70.83,88.14,42.73,29.81,34.73,88.46,90.0,77.78,50.11,38.63,82.76,44.59,35.76,34.94,41.18,38.74,38.42,37.91,66.28,37.71,57.0,63.86,50.68,53.24,61.54,91.03,86.0,89.58,46.05,85.0,53.04,51.14,66.18,69.52,55.86,54.29,71.43,64.83,78.18,46.03,52.99,90.91,43.78,56.5,75.97,46.67,46.64,54.55,91.78,50.84,53.43,53.89,92.19,51.96,53.64,58.57,85.0,50.82,92.42,91.8,39.13,44.37,61.6,87.23,82.5,59.44,89.71,49.36,71.26,90.77,88.71,48.68,64.56,48.79,90.8,56.32,63.4,48.99,62.42,50.85,91.89,87.23,48.29,88.62,52.06,57.69,60.0,92.59,65.29,61.24,67.52,65.29,90.63,54.13,57.21,57.07,54.38,68.33,72.0,91.23,86.25,91.23,55.7,56.91,85.96,89.13,67.19,90.78,57.98,91.49,91.49,90.7,89.8,84.48,90.74,85.9,86.21,91.49,60.07,48.39,91.49,50.0,90.24,51.43,86.96,50.32,45.45,58.52,52.7,47.19,92.0,44.37,90.38,91.01,88.35,48.94,54.21,53.77,91.43,88.68,80.65,80.65,80.65,80.33,80.95,79.66,44.72,88.99,52.47,89.7,52.59,54.3,48.42,46.93,60.26,54.19,88.46,60.37,87.88,32.42,49.81,88.75,44.29,70.07,53.14,57.31,55.53,52.91,53.79,51.72,44.26,59.03,60.47,70.08,53.33,54.73,89.47,87.5,87.76,60.71,47.08,49.24,88.68,92.31,91.53,91.3,60.33,58.21,54.04,84.21,58.94,62.41,62.81,65.79,59.18,64.66,68.89,78.33,62.66,61.06,62.48,60.0,52.79,58.77,60.7,91.97,58.72,89.69,62.5,60.29,73.28,57.69,91.28,92.98,64.44,69.23,72.84,91.78,92.54,67.31,75.31,91.67,64.79,54.19,58.11,89.81,69.71,89.09,59.44,58.21,74.07,49.28,89.29,91.67,63.39,64.08,76.07,91.78,64.66],\"xaxis\":\"x\",\"yaxis\":\"y\"},{\"alignmentgroup\":\"True\",\"customdata\":[[68,4,36,0],[77,6,25,0],[7,5,12,0],[10,4,7,0],[123,8,17,0],[11,4,8,0],[7,5,8,0],[6,2,6,0],[5,2,7,0],[6,2,7,0],[5,2,9,0],[80,2,7,0],[95,3,9,0],[42,2,9,0],[245,5,41,0],[12,2,9,0],[5,2,6,0],[5,2,7,0],[5,2,6,0],[6,2,6,0],[6,3,7,0],[49,8,10,0],[6,5,6,0],[26,9,6,0],[189,7,45,0],[66,7,16,0],[6,6,6,0],[99,8,18,0],[217,8,27,0],[5,7,7,0],[55,6,14,0],[48,5,27,0],[42,8,11,0],[6,5,6,0],[140,9,51,0],[18,4,7,0],[106,8,30,0],[561,7,176,0],[14,4,9,0],[133,9,22,0],[215,6,39,0],[98,5,41,0],[19,6,6,0],[55,6,28,0],[157,6,41,0],[158,9,32,0],[81,5,27,0],[39,3,12,0],[65,7,17,0],[5,4,6,0],[64,4,20,0],[72,2,21,0],[6,4,9,0],[11,4,25,0],[42,6,11,0],[7,5,10,0],[13,6,10,0],[101,9,24,0],[9,7,7,0],[30,2,7,0],[15,2,7,0],[382,6,85,0],[140,5,35,0],[72,7,15,0],[208,6,48,0],[33,5,9,0],[4,3,8,0],[5,3,6,0],[234,7,51,0],[242,7,49,0],[6,5,6,0],[149,7,24,0],[59,2,16,0],[70,3,6,0],[4,2,7,0],[4,2,7,0],[25,4,11,0],[97,7,33,0],[4,5,6,0],[102,7,29,0],[15,5,19,0],[355,8,142,0],[175,6,64,0],[6,2,7,0],[53,2,59,0],[13,3,12,0],[52,4,45,0],[6,3,10,0],[59,5,16,0],[36,4,12,0],[45,8,13,0],[181,9,54,0],[13,5,9,0],[38,2,12,0],[56,7,19,0],[23,2,7,0],[81,7,15,0],[86,8,19,0],[10,3,7,0],[35,3,12,0],[56,3,13,0],[14,7,7,0],[6,5,8,0],[12,3,7,0],[5,4,10,0],[34,4,7,0],[6,6,6,0],[5,5,8,0],[35,4,7,0],[5,3,6,0],[5,4,8,0],[12,5,7,0],[6,5,8,0],[12,3,7,0],[5,4,8,0],[19,5,8,0],[5,4,8,0],[12,3,7,0],[5,4,8,0],[20,3,11,0],[123,6,38,0],[13,3,7,0],[12,3,8,0],[11,2,8,0],[4,4,9,0],[8,4,9,0],[34,3,22,0],[106,2,36,0],[89,6,27,0],[65,7,13,0],[84,3,25,0],[117,3,31,0],[418,4,80,0],[262,5,61,0],[103,7,43,0],[52,5,27,0],[57,3,28,0],[115,9,54,0],[7,6,14,0],[5,5,11,0],[5,5,9,0],[5,5,8,0],[77,5,22,0],[6,2,9,0],[106,6,39,0],[54,6,33,0],[64,4,36,0],[128,6,66,0],[124,6,66,0],[28,7,6,0],[76,9,15,0],[11,6,12,0],[5,4,9,0],[47,6,33,0],[57,8,26,0],[43,3,25,0],[57,5,22,0],[47,2,16,0],[85,7,38,0],[37,8,25,0],[58,6,48,0],[58,9,30,0],[59,6,44,0],[109,7,54,0],[70,5,20,0],[5,4,10,0],[5,5,12,0],[5,4,9,0],[5,4,8,0],[334,8,70,0],[468,6,79,0],[69,3,10,0],[56,3,12,0],[5,2,6,0],[5,2,7,0],[347,7,71,0],[392,5,70,0],[64,4,19,0],[69,7,19,0],[6,3,7,0],[78,2,20,0],[438,5,68,0],[41,2,15,0],[87,2,21,0],[178,3,37,0],[61,3,17,0],[59,3,17,0],[51,2,17,0],[70,2,21,0],[49,2,20,0],[45,2,14,0],[109,7,40,0],[5,5,7,0],[276,8,41,0],[74,6,29,0],[7,4,10,0],[14,4,13,0],[12,3,7,0],[5,4,10,0],[5,4,7,0],[6,6,7,0],[12,5,7,0],[455,3,113,0],[82,8,36,0],[89,9,20,0],[11,4,12,0],[24,2,9,0],[355,5,71,0],[106,2,31,0],[6,2,7,0],[114,2,25,0],[1547,6,327,0],[81,2,9,0],[11,4,8,0],[14,4,7,0],[11,6,6,0],[5,5,7,0],[6,4,8,0],[43,4,15,0],[6,2,7,0],[18,6,25,0],[6,4,7,0],[11,7,14,0],[64,3,19,0],[174,8,41,0],[7,2,8,0],[215,7,38,0],[218,9,40,0],[117,6,28,0],[106,6,31,0],[82,7,31,0],[179,9,42,0],[6,2,7,0],[70,2,18,0],[49,3,17,0],[49,6,17,0],[8,5,11,0],[35,8,14,0],[31,3,10,0],[153,4,41,0],[204,5,37,0],[249,4,47,0],[6,2,8,0],[168,8,42,0],[173,3,44,0],[214,8,38,0],[325,9,57,0],[106,7,31,0],[207,8,39,0],[84,8,20,0],[11,7,14,0],[37,2,8,0],[32,3,19,0],[35,2,26,0],[25,2,12,0],[28,2,10,0],[7,2,13,0],[1575,9,500,0],[398,8,81,0],[156,4,22,0],[6,2,9,0],[5,2,8,0],[18,3,8,0],[221,5,43,0],[143,4,19,0],[10,2,7,0],[82,2,19,0],[97,3,18,0],[365,5,80,0],[110,3,18,0],[155,4,24,0],[226,4,39,0],[113,3,19,0],[29,3,11,0],[147,2,29,0],[43,2,6,0],[30,2,9,0],[72,2,12,0],[65,4,21,0],[30,2,11,0],[7,3,12,0],[7,2,7,0],[5,2,8,0],[116,2,28,0],[24,4,18,0],[85,2,20,0],[43,3,17,0],[46,2,21,0],[32,2,22,0],[98,2,41,0],[229,2,75,0],[18,3,6,0],[51,3,15,0],[12,5,7,0],[204,8,30,0],[126,9,23,0],[4,4,6,0],[393,6,108,0],[97,8,21,0],[37,7,17,0],[176,7,30,0],[119,6,35,0],[180,9,54,0],[6,4,10,0],[88,5,23,0],[95,8,28,0],[89,4,24,0],[5,5,13,0],[86,6,14,0],[70,6,15,0],[58,8,14,0],[9,2,7,0],[90,5,23,0],[5,3,10,0],[5,3,10,0],[182,8,42,0],[158,8,28,0],[48,6,15,0],[6,2,11,0],[7,2,8,0],[144,5,37,0],[7,4,11,0],[79,2,46,0],[25,5,12,0],[6,4,7,0],[7,3,7,0],[155,8,44,0],[146,7,33,0],[380,8,94,0],[8,5,11,0],[152,8,38,0],[56,8,15,0],[126,7,37,0],[56,7,13,0],[203,9,51,0],[6,5,9,0],[6,6,7,0],[181,2,58,0],[14,2,20,0],[93,2,47,0],[66,2,28,0],[56,2,24,0],[4,4,8,0],[42,4,14,0],[50,4,16,0],[38,6,12,0],[42,4,15,0],[15,4,17,0],[283,6,66,0],[98,8,19,0],[79,8,20,0],[203,6,43,0],[70,7,42,0],[28,3,12,0],[5,4,12,0],[11,3,7,0],[5,3,9,0],[136,7,37,0],[78,4,22,0],[8,3,8,0],[5,3,7,0],[42,6,13,0],[13,3,14,0],[50,4,15,0],[4,2,6,0],[4,3,9,0],[4,3,6,0],[5,5,9,0],[9,2,6,0],[5,3,9,0],[11,6,11,0],[8,2,8,0],[4,2,7,0],[109,5,23,0],[96,2,21,0],[4,4,8,0],[72,4,18,0],[4,2,4,0],[85,4,17,0],[6,3,5,0],[156,4,39,0],[102,7,26,0],[56,8,14,0],[149,8,41,0],[244,7,59,0],[4,4,6,0],[84,9,20,0],[5,5,6,0],[8,5,16,0],[12,6,16,0],[72,9,12,0],[49,7,11,0],[196,8,57,0],[6,4,7,0],[6,5,6,0],[12,2,6,0],[12,2,6,0],[12,2,6,0],[12,2,6,0],[12,2,6,0],[12,2,6,0],[110,7,29,0],[24,4,28,0],[125,7,21,0],[17,5,37,0],[412,8,70,0],[239,7,69,0],[196,7,45,0],[363,8,63,0],[62,3,12,0],[213,8,64,0],[6,5,6,0],[65,6,13,0],[8,4,13,0],[223,4,44,0],[130,7,33,0],[9,4,11,0],[234,5,54,0],[44,5,16,0],[403,4,96,0],[111,4,23,0],[197,9,44,0],[194,8,41,0],[207,9,41,0],[239,8,53,0],[165,8,44,0],[59,5,14,0],[51,6,11,0],[38,6,12,0],[196,9,46,0],[91,6,21,0],[6,5,7,0],[6,7,6,0],[6,3,7,0],[66,7,16,0],[127,4,30,0],[302,9,75,0],[6,2,6,0],[4,3,7,0],[5,5,9,0],[6,4,7,0],[48,3,13,0],[56,5,13,0],[74,5,14,0],[9,3,8,0],[62,2,12,0],[53,2,13,0],[45,2,13,0],[39,2,11,0],[60,2,14,0],[41,3,14,0],[28,4,11,0],[13,3,8,0],[143,7,38,0],[155,9,47,0],[197,8,99,0],[128,6,27,0],[186,7,59,0],[148,8,61,0],[158,7,69,0],[11,4,30,0],[180,9,50,0],[10,4,31,0],[75,4,26,0],[108,8,36,0],[35,4,9,0],[77,5,20,0],[13,3,22,0],[4,4,7,0],[48,3,12,0],[36,3,13,0],[44,3,20,0],[6,5,11,0],[5,5,10,0],[34,6,10,0],[40,3,22,0],[6,4,8,0],[125,6,40,0],[71,3,20,0],[93,9,19,0],[11,5,13,0],[73,2,27,0],[6,5,7,0],[58,4,14,0],[56,5,12,0],[49,3,26,0],[70,8,15,0],[6,4,7,0],[5,4,11,0],[41,4,12,0],[37,5,10,0],[39,3,22,0],[6,4,8,0],[41,4,13,0]],\"hovertemplate\":\"group=%{customdata[3]}<br>DCP=%{x}<br>NCLOC=%{customdata[0]}<br>NOCom=%{customdata[1]}<br>WMC=%{customdata[2]}<extra></extra>\",\"legendgroup\":\"0\",\"marker\":{\"color\":\"#636efa\"},\"name\":\"0\",\"notched\":true,\"offsetgroup\":\"0\",\"showlegend\":false,\"type\":\"box\",\"x\":[65.66,58.6,87.72,83.33,50.0,82.81,89.06,87.5,86.49,87.23,90.57,37.5,37.5,60.75,49.28,82.09,88.64,88.64,88.64,87.5,88.68,61.42,87.23,67.9,44.74,62.29,87.5,56.77,40.71,88.89,58.33,65.71,65.0,88.68,55.84,75.68,53.91,41.01,80.56,45.04,45.98,57.39,77.38,60.43,26.64,50.63,54.24,67.23,58.6,88.89,61.68,63.08,91.89,91.73,65.85,89.71,87.13,52.8,85.0,76.0,79.17,25.24,53.33,58.86,41.57,70.27,92.59,90.57,43.07,40.69,88.46,53.44,60.4,53.02,91.67,91.49,73.12,58.01,92.16,55.84,76.92,58.53,56.79,86.05,70.22,86.32,63.64,88.46,62.18,69.23,61.54,51.21,86.32,63.46,63.64,73.86,61.61,54.74,82.46,65.35,63.4,78.79,88.0,80.65,90.91,70.43,87.23,90.38,69.57,88.89,89.8,80.95,88.0,81.25,90.0,78.16,89.8,80.33,90.0,76.74,48.54,81.16,81.54,83.33,93.44,87.1,70.18,43.62,48.85,66.15,44.37,41.79,34.07,46.42,51.64,60.9,59.86,52.48,90.91,91.07,91.8,90.0,54.44,88.89,46.46,55.74,54.61,48.18,48.97,69.57,55.29,87.06,90.74,64.66,60.42,63.87,58.39,59.13,63.04,71.32,66.47,61.59,66.09,52.81,55.13,90.74,91.23,90.57,90.57,51.1,52.39,59.41,60.56,90.0,88.89,43.76,40.79,59.24,60.34,87.23,50.0,43.56,62.73,45.96,52.66,53.79,54.62,57.5,50.0,58.82,58.72,66.36,91.67,40.39,61.66,88.14,86.27,80.65,90.2,92.06,87.5,86.36,39.74,58.38,55.05,86.25,75.0,38.15,46.46,87.5,54.94,47.04,66.11,83.08,77.05,82.26,91.38,88.68,68.15,88.46,88.08,89.66,86.9,65.59,46.3,86.54,36.76,34.34,46.82,47.52,59.61,47.97,89.47,64.29,68.59,68.79,89.04,80.77,69.9,38.06,40.7,43.02,88.46,50.88,38.65,36.87,34.08,47.52,34.08,46.5,86.25,79.67,68.32,69.3,69.88,70.83,88.14,42.73,29.81,34.73,88.46,90.0,77.78,50.11,38.63,82.76,44.59,35.76,34.94,41.18,38.74,38.42,37.91,66.28,37.71,57.0,63.86,50.68,53.24,61.54,91.03,86.0,89.58,46.05,85.0,53.04,51.14,66.18,69.52,55.86,54.29,71.43,64.83,78.18,46.03,52.99,90.91,43.78,56.5,75.97,46.67,46.64,54.55,91.78,50.84,53.43,53.89,92.19,51.96,53.64,58.57,85.0,50.82,92.42,91.8,39.13,44.37,61.6,87.23,82.5,59.44,89.71,49.36,71.26,90.77,88.71,48.68,64.56,48.79,90.8,56.32,63.4,48.99,62.42,50.85,91.89,87.23,48.29,88.62,52.06,57.69,60.0,92.59,65.29,61.24,67.52,65.29,90.63,54.13,57.21,57.07,54.38,68.33,72.0,91.23,86.25,91.23,55.7,56.91,85.96,89.13,67.19,90.78,57.98,91.49,91.49,90.7,89.8,84.48,90.74,85.9,86.21,91.49,60.07,48.39,91.49,50.0,90.24,51.43,86.96,50.32,45.45,58.52,52.7,47.19,92.0,44.37,90.38,91.01,88.35,48.94,54.21,53.77,91.43,88.68,80.65,80.65,80.65,80.33,80.95,79.66,44.72,88.99,52.47,89.7,52.59,54.3,48.42,46.93,60.26,54.19,88.46,60.37,87.88,32.42,49.81,88.75,44.29,70.07,53.14,57.31,55.53,52.91,53.79,51.72,44.26,59.03,60.47,70.08,53.33,54.73,89.47,87.5,87.76,60.71,47.08,49.24,88.68,92.31,91.53,91.3,60.33,58.21,54.04,84.21,58.94,62.41,62.81,65.79,59.18,64.66,68.89,78.33,62.66,61.06,62.48,60.0,52.79,58.77,60.7,91.97,58.72,89.69,62.5,60.29,73.28,57.69,91.28,92.98,64.44,69.23,72.84,91.78,92.54,67.31,75.31,91.67,64.79,54.19,58.11,89.81,69.71,89.09,59.44,58.21,74.07,49.28,89.29,91.67,63.39,64.08,76.07,91.78,64.66],\"xaxis\":\"x2\",\"yaxis\":\"y2\"},{\"alignmentgroup\":\"True\",\"bingroup\":\"x\",\"hovertemplate\":\"group=1<br>DCP=%{x}<br>count=%{y}<extra></extra>\",\"legendgroup\":\"1\",\"marker\":{\"color\":\"#EF553B\",\"pattern\":{\"shape\":\"\"}},\"name\":\"1\",\"offsetgroup\":\"1\",\"orientation\":\"v\",\"showlegend\":true,\"type\":\"histogram\",\"x\":[49.23,50.42,56.37,48.54,52.54,47.04,50.74,45.62,48.99,46.73,44.12,51.63,40.95,48.63,43.98,37.69,36.35,41.45,41.7,38.98,41.31,37.89,49.64,55.73,50.39,53.26,44.86,46.52,62.7,58.64,62.86,58.42,58.42,58.42,48.14,52.8,50.79,47.17,46.61,41.6,42.69,40.39,42.57,55.79,51.18,58.68,57.05,50.4,50.36,55.96,52.61,53.73,53.71,54.58,47.95,55.56,44.71,50.27,55.68,46.33,47.46,47.15,47.09,39.07,45.15,55.48,40.01,35.79,43.08,41.11,88.19,36.76,32.01,44.91,51.03,45.64,49.63,35.16,37.57,33.98,36.85,39.16,41.79,36.09,47.56,39.02,45.76,48.95,44.99,40.11,48.34,40.37,40.31,42.53,46.69,40.79,38.26,33.02,49.7,48.67,87.26,51.67,51.6,44.28,48.14,47.15,48.74,42.4,49.63,51.35,41.38,46.92,50.94,49.7,50.08,37.27,60.68,64.25,43.55,58.41,57.01,58.81,55.0,69.53,48.0,49.64,48.29,51.28,65.26,59.0,61.68,49.66,62.05,61.11,63.03,52.35,47.6,61.99],\"xaxis\":\"x\",\"yaxis\":\"y\"},{\"alignmentgroup\":\"True\",\"customdata\":[[198,12,38,1],[238,12,29,1],[137,11,27,1],[176,10,37,1],[159,10,38,1],[143,12,31,1],[134,12,30,1],[180,13,45,1],[252,12,30,1],[171,13,31,1],[152,11,35,1],[282,14,50,1],[212,15,38,1],[789,15,181,1],[726,16,149,1],[653,11,107,1],[1063,17,207,1],[565,12,130,1],[597,10,166,1],[670,14,127,1],[233,11,53,1],[423,11,85,1],[767,14,197,1],[259,13,58,1],[126,10,28,1],[179,14,31,1],[118,11,23,1],[1000,22,300,1],[235,10,102,1],[79,10,23,1],[65,11,16,1],[79,10,22,1],[79,10,22,1],[79,10,23,1],[780,24,198,1],[135,12,61,1],[155,10,84,1],[112,10,42,1],[2415,32,683,1],[358,14,89,1],[396,15,104,1],[307,12,78,1],[371,16,97,1],[298,16,44,1],[228,10,51,1],[100,11,46,1],[131,10,30,1],[373,16,83,1],[279,10,43,1],[159,12,37,1],[327,16,76,1],[149,10,44,1],[181,10,36,1],[417,11,101,1],[507,15,103,1],[268,13,61,1],[643,19,111,1],[656,22,190,1],[117,11,28,1],[988,27,249,1],[331,22,70,1],[677,24,114,1],[764,20,157,1],[237,10,33,1],[2732,31,802,1],[1235,30,346,1],[925,28,185,1],[192,10,36,1],[683,16,168,1],[596,16,122,1],[170,16,201,1],[351,12,58,1],[291,12,80,1],[222,12,42,1],[379,14,89,1],[268,11,48,1],[269,13,63,1],[284,12,50,1],[216,11,47,1],[342,12,70,1],[269,11,63,1],[261,10,56,1],[489,22,90,1],[974,30,178,1],[429,15,81,1],[200,12,51,1],[243,10,59,1],[170,13,45,1],[335,10,88,1],[224,11,51,1],[466,20,124,1],[387,17,113,1],[234,13,43,1],[623,18,151,1],[258,17,54,1],[434,12,89,1],[192,10,41,1],[708,15,148,1],[169,12,40,1],[213,10,45,1],[169,19,157,1],[521,21,127,1],[272,14,69,1],[258,13,70,1],[293,11,76,1],[167,15,46,1],[142,10,30,1],[947,20,159,1],[137,11,40,1],[108,10,25,1],[469,13,100,1],[112,12,30,1],[209,12,63,1],[255,13,62,1],[316,11,59,1],[1459,13,461,1],[127,14,45,1],[79,12,39,1],[162,16,42,1],[188,10,54,1],[187,11,39,1],[187,12,48,1],[198,11,43,1],[110,12,47,1],[221,12,40,1],[207,12,58,1],[606,19,192,1],[323,18,85,1],[66,10,13,1],[230,11,72,1],[141,10,36,1],[293,12,72,1],[115,10,33,1],[140,11,33,1],[132,10,33,1],[425,15,131,1],[371,14,89,1],[122,12,30,1]],\"hovertemplate\":\"group=%{customdata[3]}<br>DCP=%{x}<br>NCLOC=%{customdata[0]}<br>NOCom=%{customdata[1]}<br>WMC=%{customdata[2]}<extra></extra>\",\"legendgroup\":\"1\",\"marker\":{\"color\":\"#EF553B\"},\"name\":\"1\",\"notched\":true,\"offsetgroup\":\"1\",\"showlegend\":false,\"type\":\"box\",\"x\":[49.23,50.42,56.37,48.54,52.54,47.04,50.74,45.62,48.99,46.73,44.12,51.63,40.95,48.63,43.98,37.69,36.35,41.45,41.7,38.98,41.31,37.89,49.64,55.73,50.39,53.26,44.86,46.52,62.7,58.64,62.86,58.42,58.42,58.42,48.14,52.8,50.79,47.17,46.61,41.6,42.69,40.39,42.57,55.79,51.18,58.68,57.05,50.4,50.36,55.96,52.61,53.73,53.71,54.58,47.95,55.56,44.71,50.27,55.68,46.33,47.46,47.15,47.09,39.07,45.15,55.48,40.01,35.79,43.08,41.11,88.19,36.76,32.01,44.91,51.03,45.64,49.63,35.16,37.57,33.98,36.85,39.16,41.79,36.09,47.56,39.02,45.76,48.95,44.99,40.11,48.34,40.37,40.31,42.53,46.69,40.79,38.26,33.02,49.7,48.67,87.26,51.67,51.6,44.28,48.14,47.15,48.74,42.4,49.63,51.35,41.38,46.92,50.94,49.7,50.08,37.27,60.68,64.25,43.55,58.41,57.01,58.81,55.0,69.53,48.0,49.64,48.29,51.28,65.26,59.0,61.68,49.66,62.05,61.11,63.03,52.35,47.6,61.99],\"xaxis\":\"x2\",\"yaxis\":\"y2\"}],                        {\"barmode\":\"relative\",\"legend\":{\"title\":{\"text\":\"group\"},\"tracegroupgap\":0},\"margin\":{\"t\":60},\"template\":{\"data\":{\"bar\":[{\"error_x\":{\"color\":\"#2a3f5f\"},\"error_y\":{\"color\":\"#2a3f5f\"},\"marker\":{\"line\":{\"color\":\"#E5ECF6\",\"width\":0.5},\"pattern\":{\"fillmode\":\"overlay\",\"size\":10,\"solidity\":0.2}},\"type\":\"bar\"}],\"barpolar\":[{\"marker\":{\"line\":{\"color\":\"#E5ECF6\",\"width\":0.5},\"pattern\":{\"fillmode\":\"overlay\",\"size\":10,\"solidity\":0.2}},\"type\":\"barpolar\"}],\"carpet\":[{\"aaxis\":{\"endlinecolor\":\"#2a3f5f\",\"gridcolor\":\"white\",\"linecolor\":\"white\",\"minorgridcolor\":\"white\",\"startlinecolor\":\"#2a3f5f\"},\"baxis\":{\"endlinecolor\":\"#2a3f5f\",\"gridcolor\":\"white\",\"linecolor\":\"white\",\"minorgridcolor\":\"white\",\"startlinecolor\":\"#2a3f5f\"},\"type\":\"carpet\"}],\"choropleth\":[{\"colorbar\":{\"outlinewidth\":0,\"ticks\":\"\"},\"type\":\"choropleth\"}],\"contour\":[{\"colorbar\":{\"outlinewidth\":0,\"ticks\":\"\"},\"colorscale\":[[0.0,\"#0d0887\"],[0.1111111111111111,\"#46039f\"],[0.2222222222222222,\"#7201a8\"],[0.3333333333333333,\"#9c179e\"],[0.4444444444444444,\"#bd3786\"],[0.5555555555555556,\"#d8576b\"],[0.6666666666666666,\"#ed7953\"],[0.7777777777777778,\"#fb9f3a\"],[0.8888888888888888,\"#fdca26\"],[1.0,\"#f0f921\"]],\"type\":\"contour\"}],\"contourcarpet\":[{\"colorbar\":{\"outlinewidth\":0,\"ticks\":\"\"},\"type\":\"contourcarpet\"}],\"heatmap\":[{\"colorbar\":{\"outlinewidth\":0,\"ticks\":\"\"},\"colorscale\":[[0.0,\"#0d0887\"],[0.1111111111111111,\"#46039f\"],[0.2222222222222222,\"#7201a8\"],[0.3333333333333333,\"#9c179e\"],[0.4444444444444444,\"#bd3786\"],[0.5555555555555556,\"#d8576b\"],[0.6666666666666666,\"#ed7953\"],[0.7777777777777778,\"#fb9f3a\"],[0.8888888888888888,\"#fdca26\"],[1.0,\"#f0f921\"]],\"type\":\"heatmap\"}],\"heatmapgl\":[{\"colorbar\":{\"outlinewidth\":0,\"ticks\":\"\"},\"colorscale\":[[0.0,\"#0d0887\"],[0.1111111111111111,\"#46039f\"],[0.2222222222222222,\"#7201a8\"],[0.3333333333333333,\"#9c179e\"],[0.4444444444444444,\"#bd3786\"],[0.5555555555555556,\"#d8576b\"],[0.6666666666666666,\"#ed7953\"],[0.7777777777777778,\"#fb9f3a\"],[0.8888888888888888,\"#fdca26\"],[1.0,\"#f0f921\"]],\"type\":\"heatmapgl\"}],\"histogram\":[{\"marker\":{\"pattern\":{\"fillmode\":\"overlay\",\"size\":10,\"solidity\":0.2}},\"type\":\"histogram\"}],\"histogram2d\":[{\"colorbar\":{\"outlinewidth\":0,\"ticks\":\"\"},\"colorscale\":[[0.0,\"#0d0887\"],[0.1111111111111111,\"#46039f\"],[0.2222222222222222,\"#7201a8\"],[0.3333333333333333,\"#9c179e\"],[0.4444444444444444,\"#bd3786\"],[0.5555555555555556,\"#d8576b\"],[0.6666666666666666,\"#ed7953\"],[0.7777777777777778,\"#fb9f3a\"],[0.8888888888888888,\"#fdca26\"],[1.0,\"#f0f921\"]],\"type\":\"histogram2d\"}],\"histogram2dcontour\":[{\"colorbar\":{\"outlinewidth\":0,\"ticks\":\"\"},\"colorscale\":[[0.0,\"#0d0887\"],[0.1111111111111111,\"#46039f\"],[0.2222222222222222,\"#7201a8\"],[0.3333333333333333,\"#9c179e\"],[0.4444444444444444,\"#bd3786\"],[0.5555555555555556,\"#d8576b\"],[0.6666666666666666,\"#ed7953\"],[0.7777777777777778,\"#fb9f3a\"],[0.8888888888888888,\"#fdca26\"],[1.0,\"#f0f921\"]],\"type\":\"histogram2dcontour\"}],\"mesh3d\":[{\"colorbar\":{\"outlinewidth\":0,\"ticks\":\"\"},\"type\":\"mesh3d\"}],\"parcoords\":[{\"line\":{\"colorbar\":{\"outlinewidth\":0,\"ticks\":\"\"}},\"type\":\"parcoords\"}],\"pie\":[{\"automargin\":true,\"type\":\"pie\"}],\"scatter\":[{\"marker\":{\"colorbar\":{\"outlinewidth\":0,\"ticks\":\"\"}},\"type\":\"scatter\"}],\"scatter3d\":[{\"line\":{\"colorbar\":{\"outlinewidth\":0,\"ticks\":\"\"}},\"marker\":{\"colorbar\":{\"outlinewidth\":0,\"ticks\":\"\"}},\"type\":\"scatter3d\"}],\"scattercarpet\":[{\"marker\":{\"colorbar\":{\"outlinewidth\":0,\"ticks\":\"\"}},\"type\":\"scattercarpet\"}],\"scattergeo\":[{\"marker\":{\"colorbar\":{\"outlinewidth\":0,\"ticks\":\"\"}},\"type\":\"scattergeo\"}],\"scattergl\":[{\"marker\":{\"colorbar\":{\"outlinewidth\":0,\"ticks\":\"\"}},\"type\":\"scattergl\"}],\"scattermapbox\":[{\"marker\":{\"colorbar\":{\"outlinewidth\":0,\"ticks\":\"\"}},\"type\":\"scattermapbox\"}],\"scatterpolar\":[{\"marker\":{\"colorbar\":{\"outlinewidth\":0,\"ticks\":\"\"}},\"type\":\"scatterpolar\"}],\"scatterpolargl\":[{\"marker\":{\"colorbar\":{\"outlinewidth\":0,\"ticks\":\"\"}},\"type\":\"scatterpolargl\"}],\"scatterternary\":[{\"marker\":{\"colorbar\":{\"outlinewidth\":0,\"ticks\":\"\"}},\"type\":\"scatterternary\"}],\"surface\":[{\"colorbar\":{\"outlinewidth\":0,\"ticks\":\"\"},\"colorscale\":[[0.0,\"#0d0887\"],[0.1111111111111111,\"#46039f\"],[0.2222222222222222,\"#7201a8\"],[0.3333333333333333,\"#9c179e\"],[0.4444444444444444,\"#bd3786\"],[0.5555555555555556,\"#d8576b\"],[0.6666666666666666,\"#ed7953\"],[0.7777777777777778,\"#fb9f3a\"],[0.8888888888888888,\"#fdca26\"],[1.0,\"#f0f921\"]],\"type\":\"surface\"}],\"table\":[{\"cells\":{\"fill\":{\"color\":\"#EBF0F8\"},\"line\":{\"color\":\"white\"}},\"header\":{\"fill\":{\"color\":\"#C8D4E3\"},\"line\":{\"color\":\"white\"}},\"type\":\"table\"}]},\"layout\":{\"annotationdefaults\":{\"arrowcolor\":\"#2a3f5f\",\"arrowhead\":0,\"arrowwidth\":1},\"autotypenumbers\":\"strict\",\"coloraxis\":{\"colorbar\":{\"outlinewidth\":0,\"ticks\":\"\"}},\"colorscale\":{\"diverging\":[[0,\"#8e0152\"],[0.1,\"#c51b7d\"],[0.2,\"#de77ae\"],[0.3,\"#f1b6da\"],[0.4,\"#fde0ef\"],[0.5,\"#f7f7f7\"],[0.6,\"#e6f5d0\"],[0.7,\"#b8e186\"],[0.8,\"#7fbc41\"],[0.9,\"#4d9221\"],[1,\"#276419\"]],\"sequential\":[[0.0,\"#0d0887\"],[0.1111111111111111,\"#46039f\"],[0.2222222222222222,\"#7201a8\"],[0.3333333333333333,\"#9c179e\"],[0.4444444444444444,\"#bd3786\"],[0.5555555555555556,\"#d8576b\"],[0.6666666666666666,\"#ed7953\"],[0.7777777777777778,\"#fb9f3a\"],[0.8888888888888888,\"#fdca26\"],[1.0,\"#f0f921\"]],\"sequentialminus\":[[0.0,\"#0d0887\"],[0.1111111111111111,\"#46039f\"],[0.2222222222222222,\"#7201a8\"],[0.3333333333333333,\"#9c179e\"],[0.4444444444444444,\"#bd3786\"],[0.5555555555555556,\"#d8576b\"],[0.6666666666666666,\"#ed7953\"],[0.7777777777777778,\"#fb9f3a\"],[0.8888888888888888,\"#fdca26\"],[1.0,\"#f0f921\"]]},\"colorway\":[\"#636efa\",\"#EF553B\",\"#00cc96\",\"#ab63fa\",\"#FFA15A\",\"#19d3f3\",\"#FF6692\",\"#B6E880\",\"#FF97FF\",\"#FECB52\"],\"font\":{\"color\":\"#2a3f5f\"},\"geo\":{\"bgcolor\":\"white\",\"lakecolor\":\"white\",\"landcolor\":\"#E5ECF6\",\"showlakes\":true,\"showland\":true,\"subunitcolor\":\"white\"},\"hoverlabel\":{\"align\":\"left\"},\"hovermode\":\"closest\",\"mapbox\":{\"style\":\"light\"},\"paper_bgcolor\":\"white\",\"plot_bgcolor\":\"#E5ECF6\",\"polar\":{\"angularaxis\":{\"gridcolor\":\"white\",\"linecolor\":\"white\",\"ticks\":\"\"},\"bgcolor\":\"#E5ECF6\",\"radialaxis\":{\"gridcolor\":\"white\",\"linecolor\":\"white\",\"ticks\":\"\"}},\"scene\":{\"xaxis\":{\"backgroundcolor\":\"#E5ECF6\",\"gridcolor\":\"white\",\"gridwidth\":2,\"linecolor\":\"white\",\"showbackground\":true,\"ticks\":\"\",\"zerolinecolor\":\"white\"},\"yaxis\":{\"backgroundcolor\":\"#E5ECF6\",\"gridcolor\":\"white\",\"gridwidth\":2,\"linecolor\":\"white\",\"showbackground\":true,\"ticks\":\"\",\"zerolinecolor\":\"white\"},\"zaxis\":{\"backgroundcolor\":\"#E5ECF6\",\"gridcolor\":\"white\",\"gridwidth\":2,\"linecolor\":\"white\",\"showbackground\":true,\"ticks\":\"\",\"zerolinecolor\":\"white\"}},\"shapedefaults\":{\"line\":{\"color\":\"#2a3f5f\"}},\"ternary\":{\"aaxis\":{\"gridcolor\":\"white\",\"linecolor\":\"white\",\"ticks\":\"\"},\"baxis\":{\"gridcolor\":\"white\",\"linecolor\":\"white\",\"ticks\":\"\"},\"bgcolor\":\"#E5ECF6\",\"caxis\":{\"gridcolor\":\"white\",\"linecolor\":\"white\",\"ticks\":\"\"}},\"title\":{\"x\":0.05},\"xaxis\":{\"automargin\":true,\"gridcolor\":\"white\",\"linecolor\":\"white\",\"ticks\":\"\",\"title\":{\"standoff\":15},\"zerolinecolor\":\"white\",\"zerolinewidth\":2},\"yaxis\":{\"automargin\":true,\"gridcolor\":\"white\",\"linecolor\":\"white\",\"ticks\":\"\",\"title\":{\"standoff\":15},\"zerolinecolor\":\"white\",\"zerolinewidth\":2}}},\"xaxis\":{\"anchor\":\"y\",\"domain\":[0.0,1.0],\"title\":{\"text\":\"DCP\"}},\"xaxis2\":{\"anchor\":\"y2\",\"domain\":[0.0,1.0],\"matches\":\"x\",\"showgrid\":true,\"showticklabels\":false},\"yaxis\":{\"anchor\":\"x\",\"domain\":[0.0,0.7326],\"title\":{\"text\":\"count\"}},\"yaxis2\":{\"anchor\":\"x2\",\"domain\":[0.7426,1.0],\"matches\":\"y2\",\"showgrid\":false,\"showline\":false,\"showticklabels\":false,\"ticks\":\"\"}},                        {\"responsive\": true}                    ).then(function(){\n",
       "                            \n",
       "var gd = document.getElementById('190a6fd0-6df7-4305-8240-9f91efb89c31');\n",
       "var x = new MutationObserver(function (mutations, observer) {{\n",
       "        var display = window.getComputedStyle(gd).display;\n",
       "        if (!display || display === 'none') {{\n",
       "            console.log([gd, 'removed!']);\n",
       "            Plotly.purge(gd);\n",
       "            observer.disconnect();\n",
       "        }}\n",
       "}});\n",
       "\n",
       "// Listen for the removal of the full notebook cells\n",
       "var notebookContainer = gd.closest('#notebook-container');\n",
       "if (notebookContainer) {{\n",
       "    x.observe(notebookContainer, {childList: true});\n",
       "}}\n",
       "\n",
       "// Listen for the clearing of the current output cell\n",
       "var outputEl = gd.closest('.output');\n",
       "if (outputEl) {{\n",
       "    x.observe(outputEl, {childList: true});\n",
       "}}\n",
       "\n",
       "                        })                };                });            </script>        </div>"
      ]
     },
     "metadata": {},
     "output_type": "display_data"
    }
   ],
   "source": [
    "fig = px.histogram(df, x=\"DCP\", \n",
    "                   color=\"group\",\n",
    "                   marginal=\"box\",\n",
    "                   hover_data=df.columns)\n",
    "fig.show()"
   ]
  },
  {
   "cell_type": "code",
   "execution_count": 101,
   "id": "bc7284ae-29ec-4e7d-8fbf-e1984bbddea6",
   "metadata": {},
   "outputs": [
    {
     "data": {
      "text/html": [
       "<div>\n",
       "<style scoped>\n",
       "    .dataframe tbody tr th:only-of-type {\n",
       "        vertical-align: middle;\n",
       "    }\n",
       "\n",
       "    .dataframe tbody tr th {\n",
       "        vertical-align: top;\n",
       "    }\n",
       "\n",
       "    .dataframe thead th {\n",
       "        text-align: right;\n",
       "    }\n",
       "</style>\n",
       "<table border=\"1\" class=\"dataframe\">\n",
       "  <thead>\n",
       "    <tr style=\"text-align: right;\">\n",
       "      <th></th>\n",
       "      <th>group</th>\n",
       "      <th>0</th>\n",
       "      <th>1</th>\n",
       "    </tr>\n",
       "  </thead>\n",
       "  <tbody>\n",
       "    <tr>\n",
       "      <th rowspan=\"8\" valign=\"top\">DCP</th>\n",
       "      <th>count</th>\n",
       "      <td>494.000000</td>\n",
       "      <td>138.000000</td>\n",
       "    </tr>\n",
       "    <tr>\n",
       "      <th>mean</th>\n",
       "      <td>67.518036</td>\n",
       "      <td>48.985435</td>\n",
       "    </tr>\n",
       "    <tr>\n",
       "      <th>std</th>\n",
       "      <td>17.650850</td>\n",
       "      <td>8.918889</td>\n",
       "    </tr>\n",
       "    <tr>\n",
       "      <th>min</th>\n",
       "      <td>25.240000</td>\n",
       "      <td>32.010000</td>\n",
       "    </tr>\n",
       "    <tr>\n",
       "      <th>25%</th>\n",
       "      <td>53.432500</td>\n",
       "      <td>42.600000</td>\n",
       "    </tr>\n",
       "    <tr>\n",
       "      <th>50%</th>\n",
       "      <td>64.610000</td>\n",
       "      <td>48.440000</td>\n",
       "    </tr>\n",
       "    <tr>\n",
       "      <th>75%</th>\n",
       "      <td>87.230000</td>\n",
       "      <td>53.145000</td>\n",
       "    </tr>\n",
       "    <tr>\n",
       "      <th>max</th>\n",
       "      <td>93.440000</td>\n",
       "      <td>88.190000</td>\n",
       "    </tr>\n",
       "  </tbody>\n",
       "</table>\n",
       "</div>"
      ],
      "text/plain": [
       "group               0           1\n",
       "DCP count  494.000000  138.000000\n",
       "    mean    67.518036   48.985435\n",
       "    std     17.650850    8.918889\n",
       "    min     25.240000   32.010000\n",
       "    25%     53.432500   42.600000\n",
       "    50%     64.610000   48.440000\n",
       "    75%     87.230000   53.145000\n",
       "    max     93.440000   88.190000"
      ]
     },
     "execution_count": 101,
     "metadata": {},
     "output_type": "execute_result"
    }
   ],
   "source": [
    "df[['DCP','group']].groupby('group').describe().transpose()"
   ]
  },
  {
   "cell_type": "markdown",
   "id": "9cb012a7-2591-4d96-8784-7004c2aef3e1",
   "metadata": {},
   "source": [
    "### Test de normalité"
   ]
  },
  {
   "cell_type": "markdown",
   "id": "587b83db-24c0-4f4e-8aab-69719ad00047",
   "metadata": {},
   "source": [
    "Dans la dernière visualisation, on voit qu'on semble avoir une distribution bimodale. Évaluons ce cas en testant si les deux distributions sont normales ou non."
   ]
  },
  {
   "cell_type": "markdown",
   "id": "97b6cf61-dbb6-4f5a-922d-a0c693cfd5ce",
   "metadata": {},
   "source": [
    "### graphique qqplot"
   ]
  },
  {
   "cell_type": "code",
   "execution_count": 133,
   "id": "4b32f513-d76f-4653-986b-6fb5fd311ac3",
   "metadata": {},
   "outputs": [],
   "source": [
    "a = df.loc[(df[\"group\"] == 1), \"DCP\"].values #group 1 NOCom >= 10\n",
    "b = df.loc[(df[\"group\"] == 0), \"DCP\"].values #group 0 NOCom < 10\n"
   ]
  },
  {
   "cell_type": "markdown",
   "id": "68025421-0ba9-438f-9e09-a3e430748a73",
   "metadata": {},
   "source": [
    "####  Group 1 : NOCom >= 10"
   ]
  },
  {
   "cell_type": "code",
   "execution_count": 134,
   "id": "69b7a32d-dd1c-455b-8357-1b82b27d52d8",
   "metadata": {},
   "outputs": [
    {
     "data": {
      "image/png": "[encoded data removed]",
      "text/plain": [
       "<Figure size 432x288 with 1 Axes>"
      ]
     },
     "metadata": {
      "needs_background": "light"
     },
     "output_type": "display_data"
    }
   ],
   "source": [
    "probplot(a, dist=\"norm\", plot=plt)\n",
    "plt.show()"
   ]
  },
  {
   "cell_type": "code",
   "execution_count": 135,
   "id": "6b03d515-af9a-4616-be57-eda443fd7844",
   "metadata": {},
   "outputs": [
    {
     "data": {
      "application/vnd.plotly.v1+json": {
       "config": {
        "plotlyServerURL": "https://plot.ly"
       },
       "data": [
        {
         "alignmentgroup": "True",
         "bingroup": "x",
         "hovertemplate": "variable=0<br>value=%{x}<br>count=%{y}<extra></extra>",
         "legendgroup": "0",
         "marker": {
          "color": "#636efa",
          "pattern": {
           "shape": ""
          }
         },
         "name": "0",
         "offsetgroup": "0",
         "orientation": "v",
         "showlegend": true,
         "type": "histogram",
         "x": [
          49.23,
          50.42,
          56.37,
          48.54,
          52.54,
          47.04,
          50.74,
          45.62,
          48.99,
          46.73,
          44.12,
          51.63,
          40.95,
          48.63,
          43.98,
          37.69,
          36.35,
          41.45,
          41.7,
          38.98,
          41.31,
          37.89,
          49.64,
          55.73,
          50.39,
          53.26,
          44.86,
          46.52,
          62.7,
          58.64,
          62.86,
          58.42,
          58.42,
          58.42,
          48.14,
          52.8,
          50.79,
          47.17,
          46.61,
          41.6,
          42.69,
          40.39,
          42.57,
          55.79,
          51.18,
          58.68,
          57.05,
          50.4,
          50.36,
          55.96,
          52.61,
          53.73,
          53.71,
          54.58,
          47.95,
          55.56,
          44.71,
          50.27,
          55.68,
          46.33,
          47.46,
          47.15,
          47.09,
          39.07,
          45.15,
          55.48,
          40.01,
          35.79,
          43.08,
          41.11,
          88.19,
          36.76,
          32.01,
          44.91,
          51.03,
          45.64,
          49.63,
          35.16,
          37.57,
          33.98,
          36.85,
          39.16,
          41.79,
          36.09,
          47.56,
          39.02,
          45.76,
          48.95,
          44.99,
          40.11,
          48.34,
          40.37,
          40.31,
          42.53,
          46.69,
          40.79,
          38.26,
          33.02,
          49.7,
          48.67,
          87.26,
          51.67,
          51.6,
          44.28,
          48.14,
          47.15,
          48.74,
          42.4,
          49.63,
          51.35,
          41.38,
          46.92,
          50.94,
          49.7,
          50.08,
          37.27,
          60.68,
          64.25,
          43.55,
          58.41,
          57.01,
          58.81,
          55,
          69.53,
          48,
          49.64,
          48.29,
          51.28,
          65.26,
          59,
          61.68,
          49.66,
          62.05,
          61.11,
          63.03,
          52.35,
          47.6,
          61.99
         ],
         "xaxis": "x",
         "yaxis": "y"
        }
       ],
       "layout": {
        "autosize": true,
        "barmode": "relative",
        "legend": {
         "title": {
          "text": "variable"
         },
         "tracegroupgap": 0
        },
        "margin": {
         "t": 60
        },
        "template": {
         "data": {
          "bar": [
           {
            "error_x": {
             "color": "#2a3f5f"
            },
            "error_y": {
             "color": "#2a3f5f"
            },
            "marker": {
             "line": {
              "color": "#E5ECF6",
              "width": 0.5
             },
             "pattern": {
              "fillmode": "overlay",
              "size": 10,
              "solidity": 0.2
             }
            },
            "type": "bar"
           }
          ],
          "barpolar": [
           {
            "marker": {
             "line": {
              "color": "#E5ECF6",
              "width": 0.5
             },
             "pattern": {
              "fillmode": "overlay",
              "size": 10,
              "solidity": 0.2
             }
            },
            "type": "barpolar"
           }
          ],
          "carpet": [
           {
            "aaxis": {
             "endlinecolor": "#2a3f5f",
             "gridcolor": "white",
             "linecolor": "white",
             "minorgridcolor": "white",
             "startlinecolor": "#2a3f5f"
            },
            "baxis": {
             "endlinecolor": "#2a3f5f",
             "gridcolor": "white",
             "linecolor": "white",
             "minorgridcolor": "white",
             "startlinecolor": "#2a3f5f"
            },
            "type": "carpet"
           }
          ],
          "choropleth": [
           {
            "colorbar": {
             "outlinewidth": 0,
             "ticks": ""
            },
            "type": "choropleth"
           }
          ],
          "contour": [
           {
            "colorbar": {
             "outlinewidth": 0,
             "ticks": ""
            },
            "colorscale": [
             [
              0,
              "#0d0887"
             ],
             [
              0.1111111111111111,
              "#46039f"
             ],
             [
              0.2222222222222222,
              "#7201a8"
             ],
             [
              0.3333333333333333,
              "#9c179e"
             ],
             [
              0.4444444444444444,
              "#bd3786"
             ],
             [
              0.5555555555555556,
              "#d8576b"
             ],
             [
              0.6666666666666666,
              "#ed7953"
             ],
             [
              0.7777777777777778,
              "#fb9f3a"
             ],
             [
              0.8888888888888888,
              "#fdca26"
             ],
             [
              1,
              "#f0f921"
             ]
            ],
            "type": "contour"
           }
          ],
          "contourcarpet": [
           {
            "colorbar": {
             "outlinewidth": 0,
             "ticks": ""
            },
            "type": "contourcarpet"
           }
          ],
          "heatmap": [
           {
            "colorbar": {
             "outlinewidth": 0,
             "ticks": ""
            },
            "colorscale": [
             [
              0,
              "#0d0887"
             ],
             [
              0.1111111111111111,
              "#46039f"
             ],
             [
              0.2222222222222222,
              "#7201a8"
             ],
             [
              0.3333333333333333,
              "#9c179e"
             ],
             [
              0.4444444444444444,
              "#bd3786"
             ],
             [
              0.5555555555555556,
              "#d8576b"
             ],
             [
              0.6666666666666666,
              "#ed7953"
             ],
             [
              0.7777777777777778,
              "#fb9f3a"
             ],
             [
              0.8888888888888888,
              "#fdca26"
             ],
             [
              1,
              "#f0f921"
             ]
            ],
            "type": "heatmap"
           }
          ],
          "heatmapgl": [
           {
            "colorbar": {
             "outlinewidth": 0,
             "ticks": ""
            },
            "colorscale": [
             [
              0,
              "#0d0887"
             ],
             [
              0.1111111111111111,
              "#46039f"
             ],
             [
              0.2222222222222222,
              "#7201a8"
             ],
             [
              0.3333333333333333,
              "#9c179e"
             ],
             [
              0.4444444444444444,
              "#bd3786"
             ],
             [
              0.5555555555555556,
              "#d8576b"
             ],
             [
              0.6666666666666666,
              "#ed7953"
             ],
             [
              0.7777777777777778,
              "#fb9f3a"
             ],
             [
              0.8888888888888888,
              "#fdca26"
             ],
             [
              1,
              "#f0f921"
             ]
            ],
            "type": "heatmapgl"
           }
          ],
          "histogram": [
           {
            "marker": {
             "pattern": {
              "fillmode": "overlay",
              "size": 10,
              "solidity": 0.2
             }
            },
            "type": "histogram"
           }
          ],
          "histogram2d": [
           {
            "colorbar": {
             "outlinewidth": 0,
             "ticks": ""
            },
            "colorscale": [
             [
              0,
              "#0d0887"
             ],
             [
              0.1111111111111111,
              "#46039f"
             ],
             [
              0.2222222222222222,
              "#7201a8"
             ],
             [
              0.3333333333333333,
              "#9c179e"
             ],
             [
              0.4444444444444444,
              "#bd3786"
             ],
             [
              0.5555555555555556,
              "#d8576b"
             ],
             [
              0.6666666666666666,
              "#ed7953"
             ],
             [
              0.7777777777777778,
              "#fb9f3a"
             ],
             [
              0.8888888888888888,
              "#fdca26"
             ],
             [
              1,
              "#f0f921"
             ]
            ],
            "type": "histogram2d"
           }
          ],
          "histogram2dcontour": [
           {
            "colorbar": {
             "outlinewidth": 0,
             "ticks": ""
            },
            "colorscale": [
             [
              0,
              "#0d0887"
             ],
             [
              0.1111111111111111,
              "#46039f"
             ],
             [
              0.2222222222222222,
              "#7201a8"
             ],
             [
              0.3333333333333333,
              "#9c179e"
             ],
             [
              0.4444444444444444,
              "#bd3786"
             ],
             [
              0.5555555555555556,
              "#d8576b"
             ],
             [
              0.6666666666666666,
              "#ed7953"
             ],
             [
              0.7777777777777778,
              "#fb9f3a"
             ],
             [
              0.8888888888888888,
              "#fdca26"
             ],
             [
              1,
              "#f0f921"
             ]
            ],
            "type": "histogram2dcontour"
           }
          ],
          "mesh3d": [
           {
            "colorbar": {
             "outlinewidth": 0,
             "ticks": ""
            },
            "type": "mesh3d"
           }
          ],
          "parcoords": [
           {
            "line": {
             "colorbar": {
              "outlinewidth": 0,
              "ticks": ""
             }
            },
            "type": "parcoords"
           }
          ],
          "pie": [
           {
            "automargin": true,
            "type": "pie"
           }
          ],
          "scatter": [
           {
            "marker": {
             "colorbar": {
              "outlinewidth": 0,
              "ticks": ""
             }
            },
            "type": "scatter"
           }
          ],
          "scatter3d": [
           {
            "line": {
             "colorbar": {
              "outlinewidth": 0,
              "ticks": ""
             }
            },
            "marker": {
             "colorbar": {
              "outlinewidth": 0,
              "ticks": ""
             }
            },
            "type": "scatter3d"
           }
          ],
          "scattercarpet": [
           {
            "marker": {
             "colorbar": {
              "outlinewidth": 0,
              "ticks": ""
             }
            },
            "type": "scattercarpet"
           }
          ],
          "scattergeo": [
           {
            "marker": {
             "colorbar": {
              "outlinewidth": 0,
              "ticks": ""
             }
            },
            "type": "scattergeo"
           }
          ],
          "scattergl": [
           {
            "marker": {
             "colorbar": {
              "outlinewidth": 0,
              "ticks": ""
             }
            },
            "type": "scattergl"
           }
          ],
          "scattermapbox": [
           {
            "marker": {
             "colorbar": {
              "outlinewidth": 0,
              "ticks": ""
             }
            },
            "type": "scattermapbox"
           }
          ],
          "scatterpolar": [
           {
            "marker": {
             "colorbar": {
              "outlinewidth": 0,
              "ticks": ""
             }
            },
            "type": "scatterpolar"
           }
          ],
          "scatterpolargl": [
           {
            "marker": {
             "colorbar": {
              "outlinewidth": 0,
              "ticks": ""
             }
            },
            "type": "scatterpolargl"
           }
          ],
          "scatterternary": [
           {
            "marker": {
             "colorbar": {
              "outlinewidth": 0,
              "ticks": ""
             }
            },
            "type": "scatterternary"
           }
          ],
          "surface": [
           {
            "colorbar": {
             "outlinewidth": 0,
             "ticks": ""
            },
            "colorscale": [
             [
              0,
              "#0d0887"
             ],
             [
              0.1111111111111111,
              "#46039f"
             ],
             [
              0.2222222222222222,
              "#7201a8"
             ],
             [
              0.3333333333333333,
              "#9c179e"
             ],
             [
              0.4444444444444444,
              "#bd3786"
             ],
             [
              0.5555555555555556,
              "#d8576b"
             ],
             [
              0.6666666666666666,
              "#ed7953"
             ],
             [
              0.7777777777777778,
              "#fb9f3a"
             ],
             [
              0.8888888888888888,
              "#fdca26"
             ],
             [
              1,
              "#f0f921"
             ]
            ],
            "type": "surface"
           }
          ],
          "table": [
           {
            "cells": {
             "fill": {
              "color": "#EBF0F8"
             },
             "line": {
              "color": "white"
             }
            },
            "header": {
             "fill": {
              "color": "#C8D4E3"
             },
             "line": {
              "color": "white"
             }
            },
            "type": "table"
           }
          ]
         },
         "layout": {
          "annotationdefaults": {
           "arrowcolor": "#2a3f5f",
           "arrowhead": 0,
           "arrowwidth": 1
          },
          "autotypenumbers": "strict",
          "coloraxis": {
           "colorbar": {
            "outlinewidth": 0,
            "ticks": ""
           }
          },
          "colorscale": {
           "diverging": [
            [
             0,
             "#8e0152"
            ],
            [
             0.1,
             "#c51b7d"
            ],
            [
             0.2,
             "#de77ae"
            ],
            [
             0.3,
             "#f1b6da"
            ],
            [
             0.4,
             "#fde0ef"
            ],
            [
             0.5,
             "#f7f7f7"
            ],
            [
             0.6,
             "#e6f5d0"
            ],
            [
             0.7,
             "#b8e186"
            ],
            [
             0.8,
             "#7fbc41"
            ],
            [
             0.9,
             "#4d9221"
            ],
            [
             1,
             "#276419"
            ]
           ],
           "sequential": [
            [
             0,
             "#0d0887"
            ],
            [
             0.1111111111111111,
             "#46039f"
            ],
            [
             0.2222222222222222,
             "#7201a8"
            ],
            [
             0.3333333333333333,
             "#9c179e"
            ],
            [
             0.4444444444444444,
             "#bd3786"
            ],
            [
             0.5555555555555556,
             "#d8576b"
            ],
            [
             0.6666666666666666,
             "#ed7953"
            ],
            [
             0.7777777777777778,
             "#fb9f3a"
            ],
            [
             0.8888888888888888,
             "#fdca26"
            ],
            [
             1,
             "#f0f921"
            ]
           ],
           "sequentialminus": [
            [
             0,
             "#0d0887"
            ],
            [
             0.1111111111111111,
             "#46039f"
            ],
            [
             0.2222222222222222,
             "#7201a8"
            ],
            [
             0.3333333333333333,
             "#9c179e"
            ],
            [
             0.4444444444444444,
             "#bd3786"
            ],
            [
             0.5555555555555556,
             "#d8576b"
            ],
            [
             0.6666666666666666,
             "#ed7953"
            ],
            [
             0.7777777777777778,
             "#fb9f3a"
            ],
            [
             0.8888888888888888,
             "#fdca26"
            ],
            [
             1,
             "#f0f921"
            ]
           ]
          },
          "colorway": [
           "#636efa",
           "#EF553B",
           "#00cc96",
           "#ab63fa",
           "#FFA15A",
           "#19d3f3",
           "#FF6692",
           "#B6E880",
           "#FF97FF",
           "#FECB52"
          ],
          "font": {
           "color": "#2a3f5f"
          },
          "geo": {
           "bgcolor": "white",
           "lakecolor": "white",
           "landcolor": "#E5ECF6",
           "showlakes": true,
           "showland": true,
           "subunitcolor": "white"
          },
          "hoverlabel": {
           "align": "left"
          },
          "hovermode": "closest",
          "mapbox": {
           "style": "light"
          },
          "paper_bgcolor": "white",
          "plot_bgcolor": "#E5ECF6",
          "polar": {
           "angularaxis": {
            "gridcolor": "white",
            "linecolor": "white",
            "ticks": ""
           },
           "bgcolor": "#E5ECF6",
           "radialaxis": {
            "gridcolor": "white",
            "linecolor": "white",
            "ticks": ""
           }
          },
          "scene": {
           "xaxis": {
            "backgroundcolor": "#E5ECF6",
            "gridcolor": "white",
            "gridwidth": 2,
            "linecolor": "white",
            "showbackground": true,
            "ticks": "",
            "zerolinecolor": "white"
           },
           "yaxis": {
            "backgroundcolor": "#E5ECF6",
            "gridcolor": "white",
            "gridwidth": 2,
            "linecolor": "white",
            "showbackground": true,
            "ticks": "",
            "zerolinecolor": "white"
           },
           "zaxis": {
            "backgroundcolor": "#E5ECF6",
            "gridcolor": "white",
            "gridwidth": 2,
            "linecolor": "white",
            "showbackground": true,
            "ticks": "",
            "zerolinecolor": "white"
           }
          },
          "shapedefaults": {
           "line": {
            "color": "#2a3f5f"
           }
          },
          "ternary": {
           "aaxis": {
            "gridcolor": "white",
            "linecolor": "white",
            "ticks": ""
           },
           "baxis": {
            "gridcolor": "white",
            "linecolor": "white",
            "ticks": ""
           },
           "bgcolor": "#E5ECF6",
           "caxis": {
            "gridcolor": "white",
            "linecolor": "white",
            "ticks": ""
           }
          },
          "title": {
           "x": 0.05
          },
          "xaxis": {
           "automargin": true,
           "gridcolor": "white",
           "linecolor": "white",
           "ticks": "",
           "title": {
            "standoff": 15
           },
           "zerolinecolor": "white",
           "zerolinewidth": 2
          },
          "yaxis": {
           "automargin": true,
           "gridcolor": "white",
           "linecolor": "white",
           "ticks": "",
           "title": {
            "standoff": 15
           },
           "zerolinecolor": "white",
           "zerolinewidth": 2
          }
         }
        },
        "xaxis": {
         "anchor": "y",
         "autorange": true,
         "domain": [
          0,
          1
         ],
         "range": [
          30,
          90
         ],
         "title": {
          "text": "value"
         },
         "type": "linear"
        },
        "yaxis": {
         "anchor": "x",
         "autorange": true,
         "domain": [
          0,
          1
         ],
         "range": [
          0,
          40
         ],
         "title": {
          "text": "count"
         }
        }
       }
      },
      "image/png": "[encoded data removed]",
      "text/html": [
       "<div>                            <div id=\"600a4ba7-6a3e-4841-bbbc-c5904b2adad2\" class=\"plotly-graph-div\" style=\"height:525px; width:100%;\"></div>            <script type=\"text/javascript\">                require([\"plotly\"], function(Plotly) {                    window.PLOTLYENV=window.PLOTLYENV || {};                                    if (document.getElementById(\"600a4ba7-6a3e-4841-bbbc-c5904b2adad2\")) {                    Plotly.newPlot(                        \"600a4ba7-6a3e-4841-bbbc-c5904b2adad2\",                        [{\"alignmentgroup\":\"True\",\"bingroup\":\"x\",\"hovertemplate\":\"variable=0<br>value=%{x}<br>count=%{y}<extra></extra>\",\"legendgroup\":\"0\",\"marker\":{\"color\":\"#636efa\",\"pattern\":{\"shape\":\"\"}},\"name\":\"0\",\"offsetgroup\":\"0\",\"orientation\":\"v\",\"showlegend\":true,\"type\":\"histogram\",\"x\":[49.23,50.42,56.37,48.54,52.54,47.04,50.74,45.62,48.99,46.73,44.12,51.63,40.95,48.63,43.98,37.69,36.35,41.45,41.7,38.98,41.31,37.89,49.64,55.73,50.39,53.26,44.86,46.52,62.7,58.64,62.86,58.42,58.42,58.42,48.14,52.8,50.79,47.17,46.61,41.6,42.69,40.39,42.57,55.79,51.18,58.68,57.05,50.4,50.36,55.96,52.61,53.73,53.71,54.58,47.95,55.56,44.71,50.27,55.68,46.33,47.46,47.15,47.09,39.07,45.15,55.48,40.01,35.79,43.08,41.11,88.19,36.76,32.01,44.91,51.03,45.64,49.63,35.16,37.57,33.98,36.85,39.16,41.79,36.09,47.56,39.02,45.76,48.95,44.99,40.11,48.34,40.37,40.31,42.53,46.69,40.79,38.26,33.02,49.7,48.67,87.26,51.67,51.6,44.28,48.14,47.15,48.74,42.4,49.63,51.35,41.38,46.92,50.94,49.7,50.08,37.27,60.68,64.25,43.55,58.41,57.01,58.81,55.0,69.53,48.0,49.64,48.29,51.28,65.26,59.0,61.68,49.66,62.05,61.11,63.03,52.35,47.6,61.99],\"xaxis\":\"x\",\"yaxis\":\"y\"}],                        {\"barmode\":\"relative\",\"legend\":{\"title\":{\"text\":\"variable\"},\"tracegroupgap\":0},\"margin\":{\"t\":60},\"template\":{\"data\":{\"bar\":[{\"error_x\":{\"color\":\"#2a3f5f\"},\"error_y\":{\"color\":\"#2a3f5f\"},\"marker\":{\"line\":{\"color\":\"#E5ECF6\",\"width\":0.5},\"pattern\":{\"fillmode\":\"overlay\",\"size\":10,\"solidity\":0.2}},\"type\":\"bar\"}],\"barpolar\":[{\"marker\":{\"line\":{\"color\":\"#E5ECF6\",\"width\":0.5},\"pattern\":{\"fillmode\":\"overlay\",\"size\":10,\"solidity\":0.2}},\"type\":\"barpolar\"}],\"carpet\":[{\"aaxis\":{\"endlinecolor\":\"#2a3f5f\",\"gridcolor\":\"white\",\"linecolor\":\"white\",\"minorgridcolor\":\"white\",\"startlinecolor\":\"#2a3f5f\"},\"baxis\":{\"endlinecolor\":\"#2a3f5f\",\"gridcolor\":\"white\",\"linecolor\":\"white\",\"minorgridcolor\":\"white\",\"startlinecolor\":\"#2a3f5f\"},\"type\":\"carpet\"}],\"choropleth\":[{\"colorbar\":{\"outlinewidth\":0,\"ticks\":\"\"},\"type\":\"choropleth\"}],\"contour\":[{\"colorbar\":{\"outlinewidth\":0,\"ticks\":\"\"},\"colorscale\":[[0.0,\"#0d0887\"],[0.1111111111111111,\"#46039f\"],[0.2222222222222222,\"#7201a8\"],[0.3333333333333333,\"#9c179e\"],[0.4444444444444444,\"#bd3786\"],[0.5555555555555556,\"#d8576b\"],[0.6666666666666666,\"#ed7953\"],[0.7777777777777778,\"#fb9f3a\"],[0.8888888888888888,\"#fdca26\"],[1.0,\"#f0f921\"]],\"type\":\"contour\"}],\"contourcarpet\":[{\"colorbar\":{\"outlinewidth\":0,\"ticks\":\"\"},\"type\":\"contourcarpet\"}],\"heatmap\":[{\"colorbar\":{\"outlinewidth\":0,\"ticks\":\"\"},\"colorscale\":[[0.0,\"#0d0887\"],[0.1111111111111111,\"#46039f\"],[0.2222222222222222,\"#7201a8\"],[0.3333333333333333,\"#9c179e\"],[0.4444444444444444,\"#bd3786\"],[0.5555555555555556,\"#d8576b\"],[0.6666666666666666,\"#ed7953\"],[0.7777777777777778,\"#fb9f3a\"],[0.8888888888888888,\"#fdca26\"],[1.0,\"#f0f921\"]],\"type\":\"heatmap\"}],\"heatmapgl\":[{\"colorbar\":{\"outlinewidth\":0,\"ticks\":\"\"},\"colorscale\":[[0.0,\"#0d0887\"],[0.1111111111111111,\"#46039f\"],[0.2222222222222222,\"#7201a8\"],[0.3333333333333333,\"#9c179e\"],[0.4444444444444444,\"#bd3786\"],[0.5555555555555556,\"#d8576b\"],[0.6666666666666666,\"#ed7953\"],[0.7777777777777778,\"#fb9f3a\"],[0.8888888888888888,\"#fdca26\"],[1.0,\"#f0f921\"]],\"type\":\"heatmapgl\"}],\"histogram\":[{\"marker\":{\"pattern\":{\"fillmode\":\"overlay\",\"size\":10,\"solidity\":0.2}},\"type\":\"histogram\"}],\"histogram2d\":[{\"colorbar\":{\"outlinewidth\":0,\"ticks\":\"\"},\"colorscale\":[[0.0,\"#0d0887\"],[0.1111111111111111,\"#46039f\"],[0.2222222222222222,\"#7201a8\"],[0.3333333333333333,\"#9c179e\"],[0.4444444444444444,\"#bd3786\"],[0.5555555555555556,\"#d8576b\"],[0.6666666666666666,\"#ed7953\"],[0.7777777777777778,\"#fb9f3a\"],[0.8888888888888888,\"#fdca26\"],[1.0,\"#f0f921\"]],\"type\":\"histogram2d\"}],\"histogram2dcontour\":[{\"colorbar\":{\"outlinewidth\":0,\"ticks\":\"\"},\"colorscale\":[[0.0,\"#0d0887\"],[0.1111111111111111,\"#46039f\"],[0.2222222222222222,\"#7201a8\"],[0.3333333333333333,\"#9c179e\"],[0.4444444444444444,\"#bd3786\"],[0.5555555555555556,\"#d8576b\"],[0.6666666666666666,\"#ed7953\"],[0.7777777777777778,\"#fb9f3a\"],[0.8888888888888888,\"#fdca26\"],[1.0,\"#f0f921\"]],\"type\":\"histogram2dcontour\"}],\"mesh3d\":[{\"colorbar\":{\"outlinewidth\":0,\"ticks\":\"\"},\"type\":\"mesh3d\"}],\"parcoords\":[{\"line\":{\"colorbar\":{\"outlinewidth\":0,\"ticks\":\"\"}},\"type\":\"parcoords\"}],\"pie\":[{\"automargin\":true,\"type\":\"pie\"}],\"scatter\":[{\"marker\":{\"colorbar\":{\"outlinewidth\":0,\"ticks\":\"\"}},\"type\":\"scatter\"}],\"scatter3d\":[{\"line\":{\"colorbar\":{\"outlinewidth\":0,\"ticks\":\"\"}},\"marker\":{\"colorbar\":{\"outlinewidth\":0,\"ticks\":\"\"}},\"type\":\"scatter3d\"}],\"scattercarpet\":[{\"marker\":{\"colorbar\":{\"outlinewidth\":0,\"ticks\":\"\"}},\"type\":\"scattercarpet\"}],\"scattergeo\":[{\"marker\":{\"colorbar\":{\"outlinewidth\":0,\"ticks\":\"\"}},\"type\":\"scattergeo\"}],\"scattergl\":[{\"marker\":{\"colorbar\":{\"outlinewidth\":0,\"ticks\":\"\"}},\"type\":\"scattergl\"}],\"scattermapbox\":[{\"marker\":{\"colorbar\":{\"outlinewidth\":0,\"ticks\":\"\"}},\"type\":\"scattermapbox\"}],\"scatterpolar\":[{\"marker\":{\"colorbar\":{\"outlinewidth\":0,\"ticks\":\"\"}},\"type\":\"scatterpolar\"}],\"scatterpolargl\":[{\"marker\":{\"colorbar\":{\"outlinewidth\":0,\"ticks\":\"\"}},\"type\":\"scatterpolargl\"}],\"scatterternary\":[{\"marker\":{\"colorbar\":{\"outlinewidth\":0,\"ticks\":\"\"}},\"type\":\"scatterternary\"}],\"surface\":[{\"colorbar\":{\"outlinewidth\":0,\"ticks\":\"\"},\"colorscale\":[[0.0,\"#0d0887\"],[0.1111111111111111,\"#46039f\"],[0.2222222222222222,\"#7201a8\"],[0.3333333333333333,\"#9c179e\"],[0.4444444444444444,\"#bd3786\"],[0.5555555555555556,\"#d8576b\"],[0.6666666666666666,\"#ed7953\"],[0.7777777777777778,\"#fb9f3a\"],[0.8888888888888888,\"#fdca26\"],[1.0,\"#f0f921\"]],\"type\":\"surface\"}],\"table\":[{\"cells\":{\"fill\":{\"color\":\"#EBF0F8\"},\"line\":{\"color\":\"white\"}},\"header\":{\"fill\":{\"color\":\"#C8D4E3\"},\"line\":{\"color\":\"white\"}},\"type\":\"table\"}]},\"layout\":{\"annotationdefaults\":{\"arrowcolor\":\"#2a3f5f\",\"arrowhead\":0,\"arrowwidth\":1},\"autotypenumbers\":\"strict\",\"coloraxis\":{\"colorbar\":{\"outlinewidth\":0,\"ticks\":\"\"}},\"colorscale\":{\"diverging\":[[0,\"#8e0152\"],[0.1,\"#c51b7d\"],[0.2,\"#de77ae\"],[0.3,\"#f1b6da\"],[0.4,\"#fde0ef\"],[0.5,\"#f7f7f7\"],[0.6,\"#e6f5d0\"],[0.7,\"#b8e186\"],[0.8,\"#7fbc41\"],[0.9,\"#4d9221\"],[1,\"#276419\"]],\"sequential\":[[0.0,\"#0d0887\"],[0.1111111111111111,\"#46039f\"],[0.2222222222222222,\"#7201a8\"],[0.3333333333333333,\"#9c179e\"],[0.4444444444444444,\"#bd3786\"],[0.5555555555555556,\"#d8576b\"],[0.6666666666666666,\"#ed7953\"],[0.7777777777777778,\"#fb9f3a\"],[0.8888888888888888,\"#fdca26\"],[1.0,\"#f0f921\"]],\"sequentialminus\":[[0.0,\"#0d0887\"],[0.1111111111111111,\"#46039f\"],[0.2222222222222222,\"#7201a8\"],[0.3333333333333333,\"#9c179e\"],[0.4444444444444444,\"#bd3786\"],[0.5555555555555556,\"#d8576b\"],[0.6666666666666666,\"#ed7953\"],[0.7777777777777778,\"#fb9f3a\"],[0.8888888888888888,\"#fdca26\"],[1.0,\"#f0f921\"]]},\"colorway\":[\"#636efa\",\"#EF553B\",\"#00cc96\",\"#ab63fa\",\"#FFA15A\",\"#19d3f3\",\"#FF6692\",\"#B6E880\",\"#FF97FF\",\"#FECB52\"],\"font\":{\"color\":\"#2a3f5f\"},\"geo\":{\"bgcolor\":\"white\",\"lakecolor\":\"white\",\"landcolor\":\"#E5ECF6\",\"showlakes\":true,\"showland\":true,\"subunitcolor\":\"white\"},\"hoverlabel\":{\"align\":\"left\"},\"hovermode\":\"closest\",\"mapbox\":{\"style\":\"light\"},\"paper_bgcolor\":\"white\",\"plot_bgcolor\":\"#E5ECF6\",\"polar\":{\"angularaxis\":{\"gridcolor\":\"white\",\"linecolor\":\"white\",\"ticks\":\"\"},\"bgcolor\":\"#E5ECF6\",\"radialaxis\":{\"gridcolor\":\"white\",\"linecolor\":\"white\",\"ticks\":\"\"}},\"scene\":{\"xaxis\":{\"backgroundcolor\":\"#E5ECF6\",\"gridcolor\":\"white\",\"gridwidth\":2,\"linecolor\":\"white\",\"showbackground\":true,\"ticks\":\"\",\"zerolinecolor\":\"white\"},\"yaxis\":{\"backgroundcolor\":\"#E5ECF6\",\"gridcolor\":\"white\",\"gridwidth\":2,\"linecolor\":\"white\",\"showbackground\":true,\"ticks\":\"\",\"zerolinecolor\":\"white\"},\"zaxis\":{\"backgroundcolor\":\"#E5ECF6\",\"gridcolor\":\"white\",\"gridwidth\":2,\"linecolor\":\"white\",\"showbackground\":true,\"ticks\":\"\",\"zerolinecolor\":\"white\"}},\"shapedefaults\":{\"line\":{\"color\":\"#2a3f5f\"}},\"ternary\":{\"aaxis\":{\"gridcolor\":\"white\",\"linecolor\":\"white\",\"ticks\":\"\"},\"baxis\":{\"gridcolor\":\"white\",\"linecolor\":\"white\",\"ticks\":\"\"},\"bgcolor\":\"#E5ECF6\",\"caxis\":{\"gridcolor\":\"white\",\"linecolor\":\"white\",\"ticks\":\"\"}},\"title\":{\"x\":0.05},\"xaxis\":{\"automargin\":true,\"gridcolor\":\"white\",\"linecolor\":\"white\",\"ticks\":\"\",\"title\":{\"standoff\":15},\"zerolinecolor\":\"white\",\"zerolinewidth\":2},\"yaxis\":{\"automargin\":true,\"gridcolor\":\"white\",\"linecolor\":\"white\",\"ticks\":\"\",\"title\":{\"standoff\":15},\"zerolinecolor\":\"white\",\"zerolinewidth\":2}}},\"xaxis\":{\"anchor\":\"y\",\"domain\":[0.0,1.0],\"title\":{\"text\":\"value\"}},\"yaxis\":{\"anchor\":\"x\",\"domain\":[0.0,1.0],\"title\":{\"text\":\"count\"}}},                        {\"responsive\": true}                    ).then(function(){\n",
       "                            \n",
       "var gd = document.getElementById('600a4ba7-6a3e-4841-bbbc-c5904b2adad2');\n",
       "var x = new MutationObserver(function (mutations, observer) {{\n",
       "        var display = window.getComputedStyle(gd).display;\n",
       "        if (!display || display === 'none') {{\n",
       "            console.log([gd, 'removed!']);\n",
       "            Plotly.purge(gd);\n",
       "            observer.disconnect();\n",
       "        }}\n",
       "}});\n",
       "\n",
       "// Listen for the removal of the full notebook cells\n",
       "var notebookContainer = gd.closest('#notebook-container');\n",
       "if (notebookContainer) {{\n",
       "    x.observe(notebookContainer, {childList: true});\n",
       "}}\n",
       "\n",
       "// Listen for the clearing of the current output cell\n",
       "var outputEl = gd.closest('.output');\n",
       "if (outputEl) {{\n",
       "    x.observe(outputEl, {childList: true});\n",
       "}}\n",
       "\n",
       "                        })                };                });            </script>        </div>"
      ]
     },
     "metadata": {},
     "output_type": "display_data"
    }
   ],
   "source": [
    "px.histogram(a)"
   ]
  },
  {
   "cell_type": "markdown",
   "id": "7e4e8139-fa6f-449d-afe8-951b5a204edb",
   "metadata": {
    "tags": []
   },
   "source": [
    "#### Group 0 : NOCom < 10"
   ]
  },
  {
   "cell_type": "code",
   "execution_count": 136,
   "id": "c0a82549-3ff9-4d69-81a7-141da1974b19",
   "metadata": {},
   "outputs": [
    {
     "data": {
      "image/png": "[encoded data removed]",
      "text/plain": [
       "<Figure size 432x288 with 1 Axes>"
      ]
     },
     "metadata": {
      "needs_background": "light"
     },
     "output_type": "display_data"
    }
   ],
   "source": [
    "probplot(b, dist=\"norm\", plot=plt)\n",
    "plt.show()"
   ]
  },
  {
   "cell_type": "code",
   "execution_count": 137,
   "id": "850470ba-a7f4-456e-a7e7-c69ea87b6c85",
   "metadata": {},
   "outputs": [
    {
     "data": {
      "application/vnd.plotly.v1+json": {
       "config": {
        "plotlyServerURL": "https://plot.ly"
       },
       "data": [
        {
         "alignmentgroup": "True",
         "bingroup": "x",
         "hovertemplate": "variable=0<br>value=%{x}<br>count=%{y}<extra></extra>",
         "legendgroup": "0",
         "marker": {
          "color": "#636efa",
          "pattern": {
           "shape": ""
          }
         },
         "name": "0",
         "offsetgroup": "0",
         "orientation": "v",
         "showlegend": true,
         "type": "histogram",
         "x": [
          65.66,
          58.6,
          87.72,
          83.33,
          50,
          82.81,
          89.06,
          87.5,
          86.49,
          87.23,
          90.57,
          37.5,
          37.5,
          60.75,
          49.28,
          82.09,
          88.64,
          88.64,
          88.64,
          87.5,
          88.68,
          61.42,
          87.23,
          67.9,
          44.74,
          62.29,
          87.5,
          56.77,
          40.71,
          88.89,
          58.33,
          65.71,
          65,
          88.68,
          55.84,
          75.68,
          53.91,
          41.01,
          80.56,
          45.04,
          45.98,
          57.39,
          77.38,
          60.43,
          26.64,
          50.63,
          54.24,
          67.23,
          58.6,
          88.89,
          61.68,
          63.08,
          91.89,
          91.73,
          65.85,
          89.71,
          87.13,
          52.8,
          85,
          76,
          79.17,
          25.24,
          53.33,
          58.86,
          41.57,
          70.27,
          92.59,
          90.57,
          43.07,
          40.69,
          88.46,
          53.44,
          60.4,
          53.02,
          91.67,
          91.49,
          73.12,
          58.01,
          92.16,
          55.84,
          76.92,
          58.53,
          56.79,
          86.05,
          70.22,
          86.32,
          63.64,
          88.46,
          62.18,
          69.23,
          61.54,
          51.21,
          86.32,
          63.46,
          63.64,
          73.86,
          61.61,
          54.74,
          82.46,
          65.35,
          63.4,
          78.79,
          88,
          80.65,
          90.91,
          70.43,
          87.23,
          90.38,
          69.57,
          88.89,
          89.8,
          80.95,
          88,
          81.25,
          90,
          78.16,
          89.8,
          80.33,
          90,
          76.74,
          48.54,
          81.16,
          81.54,
          83.33,
          93.44,
          87.1,
          70.18,
          43.62,
          48.85,
          66.15,
          44.37,
          41.79,
          34.07,
          46.42,
          51.64,
          60.9,
          59.86,
          52.48,
          90.91,
          91.07,
          91.8,
          90,
          54.44,
          88.89,
          46.46,
          55.74,
          54.61,
          48.18,
          48.97,
          69.57,
          55.29,
          87.06,
          90.74,
          64.66,
          60.42,
          63.87,
          58.39,
          59.13,
          63.04,
          71.32,
          66.47,
          61.59,
          66.09,
          52.81,
          55.13,
          90.74,
          91.23,
          90.57,
          90.57,
          51.1,
          52.39,
          59.41,
          60.56,
          90,
          88.89,
          43.76,
          40.79,
          59.24,
          60.34,
          87.23,
          50,
          43.56,
          62.73,
          45.96,
          52.66,
          53.79,
          54.62,
          57.5,
          50,
          58.82,
          58.72,
          66.36,
          91.67,
          40.39,
          61.66,
          88.14,
          86.27,
          80.65,
          90.2,
          92.06,
          87.5,
          86.36,
          39.74,
          58.38,
          55.05,
          86.25,
          75,
          38.15,
          46.46,
          87.5,
          54.94,
          47.04,
          66.11,
          83.08,
          77.05,
          82.26,
          91.38,
          88.68,
          68.15,
          88.46,
          88.08,
          89.66,
          86.9,
          65.59,
          46.3,
          86.54,
          36.76,
          34.34,
          46.82,
          47.52,
          59.61,
          47.97,
          89.47,
          64.29,
          68.59,
          68.79,
          89.04,
          80.77,
          69.9,
          38.06,
          40.7,
          43.02,
          88.46,
          50.88,
          38.65,
          36.87,
          34.08,
          47.52,
          34.08,
          46.5,
          86.25,
          79.67,
          68.32,
          69.3,
          69.88,
          70.83,
          88.14,
          42.73,
          29.81,
          34.73,
          88.46,
          90,
          77.78,
          50.11,
          38.63,
          82.76,
          44.59,
          35.76,
          34.94,
          41.18,
          38.74,
          38.42,
          37.91,
          66.28,
          37.71,
          57,
          63.86,
          50.68,
          53.24,
          61.54,
          91.03,
          86,
          89.58,
          46.05,
          85,
          53.04,
          51.14,
          66.18,
          69.52,
          55.86,
          54.29,
          71.43,
          64.83,
          78.18,
          46.03,
          52.99,
          90.91,
          43.78,
          56.5,
          75.97,
          46.67,
          46.64,
          54.55,
          91.78,
          50.84,
          53.43,
          53.89,
          92.19,
          51.96,
          53.64,
          58.57,
          85,
          50.82,
          92.42,
          91.8,
          39.13,
          44.37,
          61.6,
          87.23,
          82.5,
          59.44,
          89.71,
          49.36,
          71.26,
          90.77,
          88.71,
          48.68,
          64.56,
          48.79,
          90.8,
          56.32,
          63.4,
          48.99,
          62.42,
          50.85,
          91.89,
          87.23,
          48.29,
          88.62,
          52.06,
          57.69,
          60,
          92.59,
          65.29,
          61.24,
          67.52,
          65.29,
          90.63,
          54.13,
          57.21,
          57.07,
          54.38,
          68.33,
          72,
          91.23,
          86.25,
          91.23,
          55.7,
          56.91,
          85.96,
          89.13,
          67.19,
          90.78,
          57.98,
          91.49,
          91.49,
          90.7,
          89.8,
          84.48,
          90.74,
          85.9,
          86.21,
          91.49,
          60.07,
          48.39,
          91.49,
          50,
          90.24,
          51.43,
          86.96,
          50.32,
          45.45,
          58.52,
          52.7,
          47.19,
          92,
          44.37,
          90.38,
          91.01,
          88.35,
          48.94,
          54.21,
          53.77,
          91.43,
          88.68,
          80.65,
          80.65,
          80.65,
          80.33,
          80.95,
          79.66,
          44.72,
          88.99,
          52.47,
          89.7,
          52.59,
          54.3,
          48.42,
          46.93,
          60.26,
          54.19,
          88.46,
          60.37,
          87.88,
          32.42,
          49.81,
          88.75,
          44.29,
          70.07,
          53.14,
          57.31,
          55.53,
          52.91,
          53.79,
          51.72,
          44.26,
          59.03,
          60.47,
          70.08,
          53.33,
          54.73,
          89.47,
          87.5,
          87.76,
          60.71,
          47.08,
          49.24,
          88.68,
          92.31,
          91.53,
          91.3,
          60.33,
          58.21,
          54.04,
          84.21,
          58.94,
          62.41,
          62.81,
          65.79,
          59.18,
          64.66,
          68.89,
          78.33,
          62.66,
          61.06,
          62.48,
          60,
          52.79,
          58.77,
          60.7,
          91.97,
          58.72,
          89.69,
          62.5,
          60.29,
          73.28,
          57.69,
          91.28,
          92.98,
          64.44,
          69.23,
          72.84,
          91.78,
          92.54,
          67.31,
          75.31,
          91.67,
          64.79,
          54.19,
          58.11,
          89.81,
          69.71,
          89.09,
          59.44,
          58.21,
          74.07,
          49.28,
          89.29,
          91.67,
          63.39,
          64.08,
          76.07,
          91.78,
          64.66
         ],
         "xaxis": "x",
         "yaxis": "y"
        }
       ],
       "layout": {
        "autosize": true,
        "barmode": "relative",
        "legend": {
         "title": {
          "text": "variable"
         },
         "tracegroupgap": 0
        },
        "margin": {
         "t": 60
        },
        "template": {
         "data": {
          "bar": [
           {
            "error_x": {
             "color": "#2a3f5f"
            },
            "error_y": {
             "color": "#2a3f5f"
            },
            "marker": {
             "line": {
              "color": "#E5ECF6",
              "width": 0.5
             },
             "pattern": {
              "fillmode": "overlay",
              "size": 10,
              "solidity": 0.2
             }
            },
            "type": "bar"
           }
          ],
          "barpolar": [
           {
            "marker": {
             "line": {
              "color": "#E5ECF6",
              "width": 0.5
             },
             "pattern": {
              "fillmode": "overlay",
              "size": 10,
              "solidity": 0.2
             }
            },
            "type": "barpolar"
           }
          ],
          "carpet": [
           {
            "aaxis": {
             "endlinecolor": "#2a3f5f",
             "gridcolor": "white",
             "linecolor": "white",
             "minorgridcolor": "white",
             "startlinecolor": "#2a3f5f"
            },
            "baxis": {
             "endlinecolor": "#2a3f5f",
             "gridcolor": "white",
             "linecolor": "white",
             "minorgridcolor": "white",
             "startlinecolor": "#2a3f5f"
            },
            "type": "carpet"
           }
          ],
          "choropleth": [
           {
            "colorbar": {
             "outlinewidth": 0,
             "ticks": ""
            },
            "type": "choropleth"
           }
          ],
          "contour": [
           {
            "colorbar": {
             "outlinewidth": 0,
             "ticks": ""
            },
            "colorscale": [
             [
              0,
              "#0d0887"
             ],
             [
              0.1111111111111111,
              "#46039f"
             ],
             [
              0.2222222222222222,
              "#7201a8"
             ],
             [
              0.3333333333333333,
              "#9c179e"
             ],
             [
              0.4444444444444444,
              "#bd3786"
             ],
             [
              0.5555555555555556,
              "#d8576b"
             ],
             [
              0.6666666666666666,
              "#ed7953"
             ],
             [
              0.7777777777777778,
              "#fb9f3a"
             ],
             [
              0.8888888888888888,
              "#fdca26"
             ],
             [
              1,
              "#f0f921"
             ]
            ],
            "type": "contour"
           }
          ],
          "contourcarpet": [
           {
            "colorbar": {
             "outlinewidth": 0,
             "ticks": ""
            },
            "type": "contourcarpet"
           }
          ],
          "heatmap": [
           {
            "colorbar": {
             "outlinewidth": 0,
             "ticks": ""
            },
            "colorscale": [
             [
              0,
              "#0d0887"
             ],
             [
              0.1111111111111111,
              "#46039f"
             ],
             [
              0.2222222222222222,
              "#7201a8"
             ],
             [
              0.3333333333333333,
              "#9c179e"
             ],
             [
              0.4444444444444444,
              "#bd3786"
             ],
             [
              0.5555555555555556,
              "#d8576b"
             ],
             [
              0.6666666666666666,
              "#ed7953"
             ],
             [
              0.7777777777777778,
              "#fb9f3a"
             ],
             [
              0.8888888888888888,
              "#fdca26"
             ],
             [
              1,
              "#f0f921"
             ]
            ],
            "type": "heatmap"
           }
          ],
          "heatmapgl": [
           {
            "colorbar": {
             "outlinewidth": 0,
             "ticks": ""
            },
            "colorscale": [
             [
              0,
              "#0d0887"
             ],
             [
              0.1111111111111111,
              "#46039f"
             ],
             [
              0.2222222222222222,
              "#7201a8"
             ],
             [
              0.3333333333333333,
              "#9c179e"
             ],
             [
              0.4444444444444444,
              "#bd3786"
             ],
             [
              0.5555555555555556,
              "#d8576b"
             ],
             [
              0.6666666666666666,
              "#ed7953"
             ],
             [
              0.7777777777777778,
              "#fb9f3a"
             ],
             [
              0.8888888888888888,
              "#fdca26"
             ],
             [
              1,
              "#f0f921"
             ]
            ],
            "type": "heatmapgl"
           }
          ],
          "histogram": [
           {
            "marker": {
             "pattern": {
              "fillmode": "overlay",
              "size": 10,
              "solidity": 0.2
             }
            },
            "type": "histogram"
           }
          ],
          "histogram2d": [
           {
            "colorbar": {
             "outlinewidth": 0,
             "ticks": ""
            },
            "colorscale": [
             [
              0,
              "#0d0887"
             ],
             [
              0.1111111111111111,
              "#46039f"
             ],
             [
              0.2222222222222222,
              "#7201a8"
             ],
             [
              0.3333333333333333,
              "#9c179e"
             ],
             [
              0.4444444444444444,
              "#bd3786"
             ],
             [
              0.5555555555555556,
              "#d8576b"
             ],
             [
              0.6666666666666666,
              "#ed7953"
             ],
             [
              0.7777777777777778,
              "#fb9f3a"
             ],
             [
              0.8888888888888888,
              "#fdca26"
             ],
             [
              1,
              "#f0f921"
             ]
            ],
            "type": "histogram2d"
           }
          ],
          "histogram2dcontour": [
           {
            "colorbar": {
             "outlinewidth": 0,
             "ticks": ""
            },
            "colorscale": [
             [
              0,
              "#0d0887"
             ],
             [
              0.1111111111111111,
              "#46039f"
             ],
             [
              0.2222222222222222,
              "#7201a8"
             ],
             [
              0.3333333333333333,
              "#9c179e"
             ],
             [
              0.4444444444444444,
              "#bd3786"
             ],
             [
              0.5555555555555556,
              "#d8576b"
             ],
             [
              0.6666666666666666,
              "#ed7953"
             ],
             [
              0.7777777777777778,
              "#fb9f3a"
             ],
             [
              0.8888888888888888,
              "#fdca26"
             ],
             [
              1,
              "#f0f921"
             ]
            ],
            "type": "histogram2dcontour"
           }
          ],
          "mesh3d": [
           {
            "colorbar": {
             "outlinewidth": 0,
             "ticks": ""
            },
            "type": "mesh3d"
           }
          ],
          "parcoords": [
           {
            "line": {
             "colorbar": {
              "outlinewidth": 0,
              "ticks": ""
             }
            },
            "type": "parcoords"
           }
          ],
          "pie": [
           {
            "automargin": true,
            "type": "pie"
           }
          ],
          "scatter": [
           {
            "marker": {
             "colorbar": {
              "outlinewidth": 0,
              "ticks": ""
             }
            },
            "type": "scatter"
           }
          ],
          "scatter3d": [
           {
            "line": {
             "colorbar": {
              "outlinewidth": 0,
              "ticks": ""
             }
            },
            "marker": {
             "colorbar": {
              "outlinewidth": 0,
              "ticks": ""
             }
            },
            "type": "scatter3d"
           }
          ],
          "scattercarpet": [
           {
            "marker": {
             "colorbar": {
              "outlinewidth": 0,
              "ticks": ""
             }
            },
            "type": "scattercarpet"
           }
          ],
          "scattergeo": [
           {
            "marker": {
             "colorbar": {
              "outlinewidth": 0,
              "ticks": ""
             }
            },
            "type": "scattergeo"
           }
          ],
          "scattergl": [
           {
            "marker": {
             "colorbar": {
              "outlinewidth": 0,
              "ticks": ""
             }
            },
            "type": "scattergl"
           }
          ],
          "scattermapbox": [
           {
            "marker": {
             "colorbar": {
              "outlinewidth": 0,
              "ticks": ""
             }
            },
            "type": "scattermapbox"
           }
          ],
          "scatterpolar": [
           {
            "marker": {
             "colorbar": {
              "outlinewidth": 0,
              "ticks": ""
             }
            },
            "type": "scatterpolar"
           }
          ],
          "scatterpolargl": [
           {
            "marker": {
             "colorbar": {
              "outlinewidth": 0,
              "ticks": ""
             }
            },
            "type": "scatterpolargl"
           }
          ],
          "scatterternary": [
           {
            "marker": {
             "colorbar": {
              "outlinewidth": 0,
              "ticks": ""
             }
            },
            "type": "scatterternary"
           }
          ],
          "surface": [
           {
            "colorbar": {
             "outlinewidth": 0,
             "ticks": ""
            },
            "colorscale": [
             [
              0,
              "#0d0887"
             ],
             [
              0.1111111111111111,
              "#46039f"
             ],
             [
              0.2222222222222222,
              "#7201a8"
             ],
             [
              0.3333333333333333,
              "#9c179e"
             ],
             [
              0.4444444444444444,
              "#bd3786"
             ],
             [
              0.5555555555555556,
              "#d8576b"
             ],
             [
              0.6666666666666666,
              "#ed7953"
             ],
             [
              0.7777777777777778,
              "#fb9f3a"
             ],
             [
              0.8888888888888888,
              "#fdca26"
             ],
             [
              1,
              "#f0f921"
             ]
            ],
            "type": "surface"
           }
          ],
          "table": [
           {
            "cells": {
             "fill": {
              "color": "#EBF0F8"
             },
             "line": {
              "color": "white"
             }
            },
            "header": {
             "fill": {
              "color": "#C8D4E3"
             },
             "line": {
              "color": "white"
             }
            },
            "type": "table"
           }
          ]
         },
         "layout": {
          "annotationdefaults": {
           "arrowcolor": "#2a3f5f",
           "arrowhead": 0,
           "arrowwidth": 1
          },
          "autotypenumbers": "strict",
          "coloraxis": {
           "colorbar": {
            "outlinewidth": 0,
            "ticks": ""
           }
          },
          "colorscale": {
           "diverging": [
            [
             0,
             "#8e0152"
            ],
            [
             0.1,
             "#c51b7d"
            ],
            [
             0.2,
             "#de77ae"
            ],
            [
             0.3,
             "#f1b6da"
            ],
            [
             0.4,
             "#fde0ef"
            ],
            [
             0.5,
             "#f7f7f7"
            ],
            [
             0.6,
             "#e6f5d0"
            ],
            [
             0.7,
             "#b8e186"
            ],
            [
             0.8,
             "#7fbc41"
            ],
            [
             0.9,
             "#4d9221"
            ],
            [
             1,
             "#276419"
            ]
           ],
           "sequential": [
            [
             0,
             "#0d0887"
            ],
            [
             0.1111111111111111,
             "#46039f"
            ],
            [
             0.2222222222222222,
             "#7201a8"
            ],
            [
             0.3333333333333333,
             "#9c179e"
            ],
            [
             0.4444444444444444,
             "#bd3786"
            ],
            [
             0.5555555555555556,
             "#d8576b"
            ],
            [
             0.6666666666666666,
             "#ed7953"
            ],
            [
             0.7777777777777778,
             "#fb9f3a"
            ],
            [
             0.8888888888888888,
             "#fdca26"
            ],
            [
             1,
             "#f0f921"
            ]
           ],
           "sequentialminus": [
            [
             0,
             "#0d0887"
            ],
            [
             0.1111111111111111,
             "#46039f"
            ],
            [
             0.2222222222222222,
             "#7201a8"
            ],
            [
             0.3333333333333333,
             "#9c179e"
            ],
            [
             0.4444444444444444,
             "#bd3786"
            ],
            [
             0.5555555555555556,
             "#d8576b"
            ],
            [
             0.6666666666666666,
             "#ed7953"
            ],
            [
             0.7777777777777778,
             "#fb9f3a"
            ],
            [
             0.8888888888888888,
             "#fdca26"
            ],
            [
             1,
             "#f0f921"
            ]
           ]
          },
          "colorway": [
           "#636efa",
           "#EF553B",
           "#00cc96",
           "#ab63fa",
           "#FFA15A",
           "#19d3f3",
           "#FF6692",
           "#B6E880",
           "#FF97FF",
           "#FECB52"
          ],
          "font": {
           "color": "#2a3f5f"
          },
          "geo": {
           "bgcolor": "white",
           "lakecolor": "white",
           "landcolor": "#E5ECF6",
           "showlakes": true,
           "showland": true,
           "subunitcolor": "white"
          },
          "hoverlabel": {
           "align": "left"
          },
          "hovermode": "closest",
          "mapbox": {
           "style": "light"
          },
          "paper_bgcolor": "white",
          "plot_bgcolor": "#E5ECF6",
          "polar": {
           "angularaxis": {
            "gridcolor": "white",
            "linecolor": "white",
            "ticks": ""
           },
           "bgcolor": "#E5ECF6",
           "radialaxis": {
            "gridcolor": "white",
            "linecolor": "white",
            "ticks": ""
           }
          },
          "scene": {
           "xaxis": {
            "backgroundcolor": "#E5ECF6",
            "gridcolor": "white",
            "gridwidth": 2,
            "linecolor": "white",
            "showbackground": true,
            "ticks": "",
            "zerolinecolor": "white"
           },
           "yaxis": {
            "backgroundcolor": "#E5ECF6",
            "gridcolor": "white",
            "gridwidth": 2,
            "linecolor": "white",
            "showbackground": true,
            "ticks": "",
            "zerolinecolor": "white"
           },
           "zaxis": {
            "backgroundcolor": "#E5ECF6",
            "gridcolor": "white",
            "gridwidth": 2,
            "linecolor": "white",
            "showbackground": true,
            "ticks": "",
            "zerolinecolor": "white"
           }
          },
          "shapedefaults": {
           "line": {
            "color": "#2a3f5f"
           }
          },
          "ternary": {
           "aaxis": {
            "gridcolor": "white",
            "linecolor": "white",
            "ticks": ""
           },
           "baxis": {
            "gridcolor": "white",
            "linecolor": "white",
            "ticks": ""
           },
           "bgcolor": "#E5ECF6",
           "caxis": {
            "gridcolor": "white",
            "linecolor": "white",
            "ticks": ""
           }
          },
          "title": {
           "x": 0.05
          },
          "xaxis": {
           "automargin": true,
           "gridcolor": "white",
           "linecolor": "white",
           "ticks": "",
           "title": {
            "standoff": 15
           },
           "zerolinecolor": "white",
           "zerolinewidth": 2
          },
          "yaxis": {
           "automargin": true,
           "gridcolor": "white",
           "linecolor": "white",
           "ticks": "",
           "title": {
            "standoff": 15
           },
           "zerolinecolor": "white",
           "zerolinewidth": 2
          }
         }
        },
        "xaxis": {
         "anchor": "y",
         "autorange": true,
         "domain": [
          0,
          1
         ],
         "range": [
          25,
          95
         ],
         "title": {
          "text": "value"
         },
         "type": "linear"
        },
        "yaxis": {
         "anchor": "x",
         "autorange": true,
         "domain": [
          0,
          1
         ],
         "range": [
          0,
          87.36842105263158
         ],
         "title": {
          "text": "count"
         }
        }
       }
      },
      "image/png": "[encoded data removed]",
      "text/html": [
       "<div>                            <div id=\"0763e020-0901-477d-a769-6ed09ea29426\" class=\"plotly-graph-div\" style=\"height:525px; width:100%;\"></div>            <script type=\"text/javascript\">                require([\"plotly\"], function(Plotly) {                    window.PLOTLYENV=window.PLOTLYENV || {};                                    if (document.getElementById(\"0763e020-0901-477d-a769-6ed09ea29426\")) {                    Plotly.newPlot(                        \"0763e020-0901-477d-a769-6ed09ea29426\",                        [{\"alignmentgroup\":\"True\",\"bingroup\":\"x\",\"hovertemplate\":\"variable=0<br>value=%{x}<br>count=%{y}<extra></extra>\",\"legendgroup\":\"0\",\"marker\":{\"color\":\"#636efa\",\"pattern\":{\"shape\":\"\"}},\"name\":\"0\",\"offsetgroup\":\"0\",\"orientation\":\"v\",\"showlegend\":true,\"type\":\"histogram\",\"x\":[65.66,58.6,87.72,83.33,50.0,82.81,89.06,87.5,86.49,87.23,90.57,37.5,37.5,60.75,49.28,82.09,88.64,88.64,88.64,87.5,88.68,61.42,87.23,67.9,44.74,62.29,87.5,56.77,40.71,88.89,58.33,65.71,65.0,88.68,55.84,75.68,53.91,41.01,80.56,45.04,45.98,57.39,77.38,60.43,26.64,50.63,54.24,67.23,58.6,88.89,61.68,63.08,91.89,91.73,65.85,89.71,87.13,52.8,85.0,76.0,79.17,25.24,53.33,58.86,41.57,70.27,92.59,90.57,43.07,40.69,88.46,53.44,60.4,53.02,91.67,91.49,73.12,58.01,92.16,55.84,76.92,58.53,56.79,86.05,70.22,86.32,63.64,88.46,62.18,69.23,61.54,51.21,86.32,63.46,63.64,73.86,61.61,54.74,82.46,65.35,63.4,78.79,88.0,80.65,90.91,70.43,87.23,90.38,69.57,88.89,89.8,80.95,88.0,81.25,90.0,78.16,89.8,80.33,90.0,76.74,48.54,81.16,81.54,83.33,93.44,87.1,70.18,43.62,48.85,66.15,44.37,41.79,34.07,46.42,51.64,60.9,59.86,52.48,90.91,91.07,91.8,90.0,54.44,88.89,46.46,55.74,54.61,48.18,48.97,69.57,55.29,87.06,90.74,64.66,60.42,63.87,58.39,59.13,63.04,71.32,66.47,61.59,66.09,52.81,55.13,90.74,91.23,90.57,90.57,51.1,52.39,59.41,60.56,90.0,88.89,43.76,40.79,59.24,60.34,87.23,50.0,43.56,62.73,45.96,52.66,53.79,54.62,57.5,50.0,58.82,58.72,66.36,91.67,40.39,61.66,88.14,86.27,80.65,90.2,92.06,87.5,86.36,39.74,58.38,55.05,86.25,75.0,38.15,46.46,87.5,54.94,47.04,66.11,83.08,77.05,82.26,91.38,88.68,68.15,88.46,88.08,89.66,86.9,65.59,46.3,86.54,36.76,34.34,46.82,47.52,59.61,47.97,89.47,64.29,68.59,68.79,89.04,80.77,69.9,38.06,40.7,43.02,88.46,50.88,38.65,36.87,34.08,47.52,34.08,46.5,86.25,79.67,68.32,69.3,69.88,70.83,88.14,42.73,29.81,34.73,88.46,90.0,77.78,50.11,38.63,82.76,44.59,35.76,34.94,41.18,38.74,38.42,37.91,66.28,37.71,57.0,63.86,50.68,53.24,61.54,91.03,86.0,89.58,46.05,85.0,53.04,51.14,66.18,69.52,55.86,54.29,71.43,64.83,78.18,46.03,52.99,90.91,43.78,56.5,75.97,46.67,46.64,54.55,91.78,50.84,53.43,53.89,92.19,51.96,53.64,58.57,85.0,50.82,92.42,91.8,39.13,44.37,61.6,87.23,82.5,59.44,89.71,49.36,71.26,90.77,88.71,48.68,64.56,48.79,90.8,56.32,63.4,48.99,62.42,50.85,91.89,87.23,48.29,88.62,52.06,57.69,60.0,92.59,65.29,61.24,67.52,65.29,90.63,54.13,57.21,57.07,54.38,68.33,72.0,91.23,86.25,91.23,55.7,56.91,85.96,89.13,67.19,90.78,57.98,91.49,91.49,90.7,89.8,84.48,90.74,85.9,86.21,91.49,60.07,48.39,91.49,50.0,90.24,51.43,86.96,50.32,45.45,58.52,52.7,47.19,92.0,44.37,90.38,91.01,88.35,48.94,54.21,53.77,91.43,88.68,80.65,80.65,80.65,80.33,80.95,79.66,44.72,88.99,52.47,89.7,52.59,54.3,48.42,46.93,60.26,54.19,88.46,60.37,87.88,32.42,49.81,88.75,44.29,70.07,53.14,57.31,55.53,52.91,53.79,51.72,44.26,59.03,60.47,70.08,53.33,54.73,89.47,87.5,87.76,60.71,47.08,49.24,88.68,92.31,91.53,91.3,60.33,58.21,54.04,84.21,58.94,62.41,62.81,65.79,59.18,64.66,68.89,78.33,62.66,61.06,62.48,60.0,52.79,58.77,60.7,91.97,58.72,89.69,62.5,60.29,73.28,57.69,91.28,92.98,64.44,69.23,72.84,91.78,92.54,67.31,75.31,91.67,64.79,54.19,58.11,89.81,69.71,89.09,59.44,58.21,74.07,49.28,89.29,91.67,63.39,64.08,76.07,91.78,64.66],\"xaxis\":\"x\",\"yaxis\":\"y\"}],                        {\"barmode\":\"relative\",\"legend\":{\"title\":{\"text\":\"variable\"},\"tracegroupgap\":0},\"margin\":{\"t\":60},\"template\":{\"data\":{\"bar\":[{\"error_x\":{\"color\":\"#2a3f5f\"},\"error_y\":{\"color\":\"#2a3f5f\"},\"marker\":{\"line\":{\"color\":\"#E5ECF6\",\"width\":0.5},\"pattern\":{\"fillmode\":\"overlay\",\"size\":10,\"solidity\":0.2}},\"type\":\"bar\"}],\"barpolar\":[{\"marker\":{\"line\":{\"color\":\"#E5ECF6\",\"width\":0.5},\"pattern\":{\"fillmode\":\"overlay\",\"size\":10,\"solidity\":0.2}},\"type\":\"barpolar\"}],\"carpet\":[{\"aaxis\":{\"endlinecolor\":\"#2a3f5f\",\"gridcolor\":\"white\",\"linecolor\":\"white\",\"minorgridcolor\":\"white\",\"startlinecolor\":\"#2a3f5f\"},\"baxis\":{\"endlinecolor\":\"#2a3f5f\",\"gridcolor\":\"white\",\"linecolor\":\"white\",\"minorgridcolor\":\"white\",\"startlinecolor\":\"#2a3f5f\"},\"type\":\"carpet\"}],\"choropleth\":[{\"colorbar\":{\"outlinewidth\":0,\"ticks\":\"\"},\"type\":\"choropleth\"}],\"contour\":[{\"colorbar\":{\"outlinewidth\":0,\"ticks\":\"\"},\"colorscale\":[[0.0,\"#0d0887\"],[0.1111111111111111,\"#46039f\"],[0.2222222222222222,\"#7201a8\"],[0.3333333333333333,\"#9c179e\"],[0.4444444444444444,\"#bd3786\"],[0.5555555555555556,\"#d8576b\"],[0.6666666666666666,\"#ed7953\"],[0.7777777777777778,\"#fb9f3a\"],[0.8888888888888888,\"#fdca26\"],[1.0,\"#f0f921\"]],\"type\":\"contour\"}],\"contourcarpet\":[{\"colorbar\":{\"outlinewidth\":0,\"ticks\":\"\"},\"type\":\"contourcarpet\"}],\"heatmap\":[{\"colorbar\":{\"outlinewidth\":0,\"ticks\":\"\"},\"colorscale\":[[0.0,\"#0d0887\"],[0.1111111111111111,\"#46039f\"],[0.2222222222222222,\"#7201a8\"],[0.3333333333333333,\"#9c179e\"],[0.4444444444444444,\"#bd3786\"],[0.5555555555555556,\"#d8576b\"],[0.6666666666666666,\"#ed7953\"],[0.7777777777777778,\"#fb9f3a\"],[0.8888888888888888,\"#fdca26\"],[1.0,\"#f0f921\"]],\"type\":\"heatmap\"}],\"heatmapgl\":[{\"colorbar\":{\"outlinewidth\":0,\"ticks\":\"\"},\"colorscale\":[[0.0,\"#0d0887\"],[0.1111111111111111,\"#46039f\"],[0.2222222222222222,\"#7201a8\"],[0.3333333333333333,\"#9c179e\"],[0.4444444444444444,\"#bd3786\"],[0.5555555555555556,\"#d8576b\"],[0.6666666666666666,\"#ed7953\"],[0.7777777777777778,\"#fb9f3a\"],[0.8888888888888888,\"#fdca26\"],[1.0,\"#f0f921\"]],\"type\":\"heatmapgl\"}],\"histogram\":[{\"marker\":{\"pattern\":{\"fillmode\":\"overlay\",\"size\":10,\"solidity\":0.2}},\"type\":\"histogram\"}],\"histogram2d\":[{\"colorbar\":{\"outlinewidth\":0,\"ticks\":\"\"},\"colorscale\":[[0.0,\"#0d0887\"],[0.1111111111111111,\"#46039f\"],[0.2222222222222222,\"#7201a8\"],[0.3333333333333333,\"#9c179e\"],[0.4444444444444444,\"#bd3786\"],[0.5555555555555556,\"#d8576b\"],[0.6666666666666666,\"#ed7953\"],[0.7777777777777778,\"#fb9f3a\"],[0.8888888888888888,\"#fdca26\"],[1.0,\"#f0f921\"]],\"type\":\"histogram2d\"}],\"histogram2dcontour\":[{\"colorbar\":{\"outlinewidth\":0,\"ticks\":\"\"},\"colorscale\":[[0.0,\"#0d0887\"],[0.1111111111111111,\"#46039f\"],[0.2222222222222222,\"#7201a8\"],[0.3333333333333333,\"#9c179e\"],[0.4444444444444444,\"#bd3786\"],[0.5555555555555556,\"#d8576b\"],[0.6666666666666666,\"#ed7953\"],[0.7777777777777778,\"#fb9f3a\"],[0.8888888888888888,\"#fdca26\"],[1.0,\"#f0f921\"]],\"type\":\"histogram2dcontour\"}],\"mesh3d\":[{\"colorbar\":{\"outlinewidth\":0,\"ticks\":\"\"},\"type\":\"mesh3d\"}],\"parcoords\":[{\"line\":{\"colorbar\":{\"outlinewidth\":0,\"ticks\":\"\"}},\"type\":\"parcoords\"}],\"pie\":[{\"automargin\":true,\"type\":\"pie\"}],\"scatter\":[{\"marker\":{\"colorbar\":{\"outlinewidth\":0,\"ticks\":\"\"}},\"type\":\"scatter\"}],\"scatter3d\":[{\"line\":{\"colorbar\":{\"outlinewidth\":0,\"ticks\":\"\"}},\"marker\":{\"colorbar\":{\"outlinewidth\":0,\"ticks\":\"\"}},\"type\":\"scatter3d\"}],\"scattercarpet\":[{\"marker\":{\"colorbar\":{\"outlinewidth\":0,\"ticks\":\"\"}},\"type\":\"scattercarpet\"}],\"scattergeo\":[{\"marker\":{\"colorbar\":{\"outlinewidth\":0,\"ticks\":\"\"}},\"type\":\"scattergeo\"}],\"scattergl\":[{\"marker\":{\"colorbar\":{\"outlinewidth\":0,\"ticks\":\"\"}},\"type\":\"scattergl\"}],\"scattermapbox\":[{\"marker\":{\"colorbar\":{\"outlinewidth\":0,\"ticks\":\"\"}},\"type\":\"scattermapbox\"}],\"scatterpolar\":[{\"marker\":{\"colorbar\":{\"outlinewidth\":0,\"ticks\":\"\"}},\"type\":\"scatterpolar\"}],\"scatterpolargl\":[{\"marker\":{\"colorbar\":{\"outlinewidth\":0,\"ticks\":\"\"}},\"type\":\"scatterpolargl\"}],\"scatterternary\":[{\"marker\":{\"colorbar\":{\"outlinewidth\":0,\"ticks\":\"\"}},\"type\":\"scatterternary\"}],\"surface\":[{\"colorbar\":{\"outlinewidth\":0,\"ticks\":\"\"},\"colorscale\":[[0.0,\"#0d0887\"],[0.1111111111111111,\"#46039f\"],[0.2222222222222222,\"#7201a8\"],[0.3333333333333333,\"#9c179e\"],[0.4444444444444444,\"#bd3786\"],[0.5555555555555556,\"#d8576b\"],[0.6666666666666666,\"#ed7953\"],[0.7777777777777778,\"#fb9f3a\"],[0.8888888888888888,\"#fdca26\"],[1.0,\"#f0f921\"]],\"type\":\"surface\"}],\"table\":[{\"cells\":{\"fill\":{\"color\":\"#EBF0F8\"},\"line\":{\"color\":\"white\"}},\"header\":{\"fill\":{\"color\":\"#C8D4E3\"},\"line\":{\"color\":\"white\"}},\"type\":\"table\"}]},\"layout\":{\"annotationdefaults\":{\"arrowcolor\":\"#2a3f5f\",\"arrowhead\":0,\"arrowwidth\":1},\"autotypenumbers\":\"strict\",\"coloraxis\":{\"colorbar\":{\"outlinewidth\":0,\"ticks\":\"\"}},\"colorscale\":{\"diverging\":[[0,\"#8e0152\"],[0.1,\"#c51b7d\"],[0.2,\"#de77ae\"],[0.3,\"#f1b6da\"],[0.4,\"#fde0ef\"],[0.5,\"#f7f7f7\"],[0.6,\"#e6f5d0\"],[0.7,\"#b8e186\"],[0.8,\"#7fbc41\"],[0.9,\"#4d9221\"],[1,\"#276419\"]],\"sequential\":[[0.0,\"#0d0887\"],[0.1111111111111111,\"#46039f\"],[0.2222222222222222,\"#7201a8\"],[0.3333333333333333,\"#9c179e\"],[0.4444444444444444,\"#bd3786\"],[0.5555555555555556,\"#d8576b\"],[0.6666666666666666,\"#ed7953\"],[0.7777777777777778,\"#fb9f3a\"],[0.8888888888888888,\"#fdca26\"],[1.0,\"#f0f921\"]],\"sequentialminus\":[[0.0,\"#0d0887\"],[0.1111111111111111,\"#46039f\"],[0.2222222222222222,\"#7201a8\"],[0.3333333333333333,\"#9c179e\"],[0.4444444444444444,\"#bd3786\"],[0.5555555555555556,\"#d8576b\"],[0.6666666666666666,\"#ed7953\"],[0.7777777777777778,\"#fb9f3a\"],[0.8888888888888888,\"#fdca26\"],[1.0,\"#f0f921\"]]},\"colorway\":[\"#636efa\",\"#EF553B\",\"#00cc96\",\"#ab63fa\",\"#FFA15A\",\"#19d3f3\",\"#FF6692\",\"#B6E880\",\"#FF97FF\",\"#FECB52\"],\"font\":{\"color\":\"#2a3f5f\"},\"geo\":{\"bgcolor\":\"white\",\"lakecolor\":\"white\",\"landcolor\":\"#E5ECF6\",\"showlakes\":true,\"showland\":true,\"subunitcolor\":\"white\"},\"hoverlabel\":{\"align\":\"left\"},\"hovermode\":\"closest\",\"mapbox\":{\"style\":\"light\"},\"paper_bgcolor\":\"white\",\"plot_bgcolor\":\"#E5ECF6\",\"polar\":{\"angularaxis\":{\"gridcolor\":\"white\",\"linecolor\":\"white\",\"ticks\":\"\"},\"bgcolor\":\"#E5ECF6\",\"radialaxis\":{\"gridcolor\":\"white\",\"linecolor\":\"white\",\"ticks\":\"\"}},\"scene\":{\"xaxis\":{\"backgroundcolor\":\"#E5ECF6\",\"gridcolor\":\"white\",\"gridwidth\":2,\"linecolor\":\"white\",\"showbackground\":true,\"ticks\":\"\",\"zerolinecolor\":\"white\"},\"yaxis\":{\"backgroundcolor\":\"#E5ECF6\",\"gridcolor\":\"white\",\"gridwidth\":2,\"linecolor\":\"white\",\"showbackground\":true,\"ticks\":\"\",\"zerolinecolor\":\"white\"},\"zaxis\":{\"backgroundcolor\":\"#E5ECF6\",\"gridcolor\":\"white\",\"gridwidth\":2,\"linecolor\":\"white\",\"showbackground\":true,\"ticks\":\"\",\"zerolinecolor\":\"white\"}},\"shapedefaults\":{\"line\":{\"color\":\"#2a3f5f\"}},\"ternary\":{\"aaxis\":{\"gridcolor\":\"white\",\"linecolor\":\"white\",\"ticks\":\"\"},\"baxis\":{\"gridcolor\":\"white\",\"linecolor\":\"white\",\"ticks\":\"\"},\"bgcolor\":\"#E5ECF6\",\"caxis\":{\"gridcolor\":\"white\",\"linecolor\":\"white\",\"ticks\":\"\"}},\"title\":{\"x\":0.05},\"xaxis\":{\"automargin\":true,\"gridcolor\":\"white\",\"linecolor\":\"white\",\"ticks\":\"\",\"title\":{\"standoff\":15},\"zerolinecolor\":\"white\",\"zerolinewidth\":2},\"yaxis\":{\"automargin\":true,\"gridcolor\":\"white\",\"linecolor\":\"white\",\"ticks\":\"\",\"title\":{\"standoff\":15},\"zerolinecolor\":\"white\",\"zerolinewidth\":2}}},\"xaxis\":{\"anchor\":\"y\",\"domain\":[0.0,1.0],\"title\":{\"text\":\"value\"}},\"yaxis\":{\"anchor\":\"x\",\"domain\":[0.0,1.0],\"title\":{\"text\":\"count\"}}},                        {\"responsive\": true}                    ).then(function(){\n",
       "                            \n",
       "var gd = document.getElementById('0763e020-0901-477d-a769-6ed09ea29426');\n",
       "var x = new MutationObserver(function (mutations, observer) {{\n",
       "        var display = window.getComputedStyle(gd).display;\n",
       "        if (!display || display === 'none') {{\n",
       "            console.log([gd, 'removed!']);\n",
       "            Plotly.purge(gd);\n",
       "            observer.disconnect();\n",
       "        }}\n",
       "}});\n",
       "\n",
       "// Listen for the removal of the full notebook cells\n",
       "var notebookContainer = gd.closest('#notebook-container');\n",
       "if (notebookContainer) {{\n",
       "    x.observe(notebookContainer, {childList: true});\n",
       "}}\n",
       "\n",
       "// Listen for the clearing of the current output cell\n",
       "var outputEl = gd.closest('.output');\n",
       "if (outputEl) {{\n",
       "    x.observe(outputEl, {childList: true});\n",
       "}}\n",
       "\n",
       "                        })                };                });            </script>        </div>"
      ]
     },
     "metadata": {},
     "output_type": "display_data"
    }
   ],
   "source": [
    "px.histogram(b)"
   ]
  },
  {
   "cell_type": "markdown",
   "id": "f6815896-fa25-4915-8215-6df4c3e3ac4f",
   "metadata": {},
   "source": [
    "### Approche statistique pour la normalité des deux groupes"
   ]
  },
  {
   "cell_type": "code",
   "execution_count": 138,
   "id": "9b94d974-9d46-4d3c-8def-b0b9d2c41ff6",
   "metadata": {},
   "outputs": [
    {
     "data": {
      "text/plain": [
       "ShapiroResult(statistic=0.9297301173210144, pvalue=2.3038708150124876e-06)"
      ]
     },
     "execution_count": 138,
     "metadata": {},
     "output_type": "execute_result"
    }
   ],
   "source": [
    "shapiro(a)"
   ]
  },
  {
   "cell_type": "code",
   "execution_count": 139,
   "id": "e4f1607c-96f7-4230-89df-3759140d8823",
   "metadata": {},
   "outputs": [
    {
     "data": {
      "text/plain": [
       "ShapiroResult(statistic=0.9264553189277649, pvalue=7.818741754571108e-15)"
      ]
     },
     "execution_count": 139,
     "metadata": {},
     "output_type": "execute_result"
    }
   ],
   "source": [
    "shapiro(b)"
   ]
  },
  {
   "cell_type": "markdown",
   "id": "a5608d3d-5be9-453b-998b-409751965781",
   "metadata": {},
   "source": [
    "### Test sur l'hypothèse principal"
   ]
  },
  {
   "cell_type": "code",
   "execution_count": 140,
   "id": "77dc60d1-4cc8-4879-80db-9b56449172d5",
   "metadata": {},
   "outputs": [
    {
     "data": {
      "text/plain": [
       "Ttest_indResult(statistic=-11.911791793706902, pvalue=1.1997131388538033e-29)"
      ]
     },
     "execution_count": 140,
     "metadata": {},
     "output_type": "execute_result"
    }
   ],
   "source": [
    "ttest_ind(a,b)"
   ]
  },
  {
   "cell_type": "markdown",
   "id": "25c3b597-ce5a-4646-aacd-81b4c15d4f9d",
   "metadata": {},
   "source": [
    "### Résultat"
   ]
  },
  {
   "cell_type": "markdown",
   "id": "7209ed34-1803-477b-a1fc-9f528cc89900",
   "metadata": {},
   "source": [
    "Le test d'hypothèse peut être rejeter, mais il faut faire attention, car les deux distributions n'étaient pas normale, ce qui vient biaisé le résultat. Les distributions semblent toutefois tendre vers une validation de notre hypothèse. Il s'agit simplement d'une étude de cas, donc il faut faire attention de ne pas généraliser les résultats à tous les projets. Pour ce projet, on peut quand même affirmer, avec une certaine prudence, que les classes avec plus de modifications semblent bénéficier d'une meilleure qualité de commentaire. En effet, les classes avec plus de modification bénéficient d'une meilleure densitée de commentaire (p<0.001).  "
   ]
  },
  {
   "cell_type": "code",
   "execution_count": null,
   "id": "2420834c-643e-4acc-ae53-d67b4f859782",
   "metadata": {},
   "outputs": [],
   "source": []
  }
 ],
 "metadata": {
  "kernelspec": {
   "display_name": "Python 3 (ipykernel)",
   "language": "python",
   "name": "python3"
  },
  "language_info": {
   "codemirror_mode": {
    "name": "ipython",
    "version": 3
   },
   "file_extension": ".py",
   "mimetype": "text/x-python",
   "name": "python",
   "nbconvert_exporter": "python",
   "pygments_lexer": "ipython3",
   "version": "3.9.7"
  }
 },
 "nbformat": 4,
 "nbformat_minor": 5
}
